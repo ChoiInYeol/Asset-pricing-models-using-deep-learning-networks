{
 "cells": [
  {
   "attachments": {},
   "cell_type": "markdown",
   "metadata": {},
   "source": [
    "# Download historical equity data for NASDAQ stocks from yahoo finance"
   ]
  },
  {
   "cell_type": "code",
   "execution_count": 1,
   "metadata": {
    "ExecuteTime": {
     "end_time": "2021-02-24T03:35:10.028380Z",
     "start_time": "2021-02-24T03:35:10.026213Z"
    }
   },
   "outputs": [],
   "source": [
    "import warnings\n",
    "warnings.filterwarnings('ignore')"
   ]
  },
  {
   "cell_type": "code",
   "execution_count": 2,
   "metadata": {
    "ExecuteTime": {
     "end_time": "2021-02-24T03:35:10.259404Z",
     "start_time": "2021-02-24T03:35:10.030004Z"
    }
   },
   "outputs": [],
   "source": [
    "from time import time\n",
    "from tqdm import tqdm\n",
    "from pathlib import Path\n",
    "import pandas as pd\n",
    "import FinanceDataReader as fdr\n",
    "import yfinance as yf"
   ]
  },
  {
   "cell_type": "code",
   "execution_count": 3,
   "metadata": {
    "ExecuteTime": {
     "end_time": "2021-02-24T03:35:10.263767Z",
     "start_time": "2021-02-24T03:35:10.261678Z"
    }
   },
   "outputs": [],
   "source": [
    "idx = pd.IndexSlice"
   ]
  },
  {
   "cell_type": "code",
   "execution_count": 4,
   "metadata": {
    "ExecuteTime": {
     "end_time": "2021-02-24T03:35:10.273874Z",
     "start_time": "2021-02-24T03:35:10.264725Z"
    }
   },
   "outputs": [],
   "source": [
    "results_path = Path('KR2_results', 'asset_pricing')\n",
    "if not results_path.exists():\n",
    "    results_path.mkdir(parents=True)"
   ]
  },
  {
   "cell_type": "code",
   "execution_count": 5,
   "metadata": {
    "ExecuteTime": {
     "end_time": "2021-02-24T03:35:10.282293Z",
     "start_time": "2021-02-24T03:35:10.274735Z"
    }
   },
   "outputs": [],
   "source": [
    "def chunks(l, n): \n",
    "    for i in range(0, len(l), n):  \n",
    "        yield l[i:i + n] "
   ]
  },
  {
   "cell_type": "code",
   "execution_count": 6,
   "metadata": {
    "ExecuteTime": {
     "end_time": "2021-02-24T03:35:10.290666Z",
     "start_time": "2021-02-24T03:35:10.283784Z"
    }
   },
   "outputs": [],
   "source": [
    "def format_time(t):\n",
    "    \"\"\"Return a formatted time string 'HH:MM:SS\n",
    "    based on a numeric time() value\"\"\"\n",
    "    m, s = divmod(t, 60)\n",
    "    h, m = divmod(m, 60)\n",
    "    return f'{h:0>2.0f}:{m:0>2.0f}:{s:0>2.0f}'"
   ]
  },
  {
   "attachments": {},
   "cell_type": "markdown",
   "metadata": {},
   "source": [
    "## Get KRX symbols"
   ]
  },
  {
   "cell_type": "code",
   "execution_count": 7,
   "metadata": {},
   "outputs": [
    {
     "name": "stdout",
     "output_type": "stream",
     "text": [
      "# Symbols: 998\n"
     ]
    }
   ],
   "source": [
    "krx = fdr.StockListing('KRX')\n",
    "krx = krx[krx[\"Market\"] != \"KONEX\"]\n",
    "krx = krx[krx[\"Market\"] != \"KOSDAQ\"]\n",
    "krx['Code'] = krx['Code'] + '.' + krx['Market'].apply(lambda x: 'KS')\n",
    "krx = krx[\"Code\"].to_list()\n",
    "n = len(krx)\n",
    "print(f'# Symbols: {n:,.0f}')"
   ]
  },
  {
   "attachments": {},
   "cell_type": "markdown",
   "metadata": {},
   "source": [
    "## Download metadata from yahoo finance"
   ]
  },
  {
   "attachments": {},
   "cell_type": "markdown",
   "metadata": {},
   "source": [
    "### NASDAQ symbols"
   ]
  },
  {
   "cell_type": "code",
   "execution_count": 8,
   "metadata": {
    "ExecuteTime": {
     "end_time": "2021-02-24T03:35:30.818647Z",
     "start_time": "2021-02-24T03:35:11.397335Z"
    }
   },
   "outputs": [],
   "source": [
    "yf_codes = yf.Tickers(krx)"
   ]
  },
  {
   "cell_type": "code",
   "execution_count": 9,
   "metadata": {},
   "outputs": [
    {
     "name": "stderr",
     "output_type": "stream",
     "text": [
      "  0%|          | 0/998 [00:00<?, ?it/s]"
     ]
    },
    {
     "name": "stderr",
     "output_type": "stream",
     "text": [
      "100%|██████████| 998/998 [10:10<00:00,  1.63it/s]  "
     ]
    },
    {
     "name": "stdout",
     "output_type": "stream",
     "text": [
      "Success:   998 /   998\n"
     ]
    },
    {
     "name": "stderr",
     "output_type": "stream",
     "text": [
      "\n"
     ]
    }
   ],
   "source": [
    "meta_data = []\n",
    "start = time()\n",
    "for code in tqdm(krx):\n",
    "    try:\n",
    "        yf_object = yf.Ticker(code)\n",
    "        s = pd.Series(yf_object.get_info())\n",
    "        meta_data.append(s.to_frame(code))\n",
    "    except Exception as e:\n",
    "        print(code, e)\n",
    "\n",
    "print(f'Success: {len(meta_data):5,.0f} / {len(krx):5,.0f}')"
   ]
  },
  {
   "attachments": {},
   "cell_type": "markdown",
   "metadata": {},
   "source": [
    "meta_data"
   ]
  },
  {
   "cell_type": "code",
   "execution_count": 10,
   "metadata": {},
   "outputs": [
    {
     "name": "stdout",
     "output_type": "stream",
     "text": [
      "<class 'pandas.core.frame.DataFrame'>\n",
      "Index: 998 entries, 005930.KS to 001525.KS\n",
      "Columns: 117 entries, address1 to openInterest\n",
      "dtypes: float64(89), int64(1), object(27)\n",
      "memory usage: 920.0+ KB\n"
     ]
    }
   ],
   "source": [
    "df = pd.concat(meta_data, axis=1).dropna(how='all').T\n",
    "df = df.apply(pd.to_numeric, errors='ignore')\n",
    "df.info(show_counts=True)"
   ]
  },
  {
   "cell_type": "code",
   "execution_count": 11,
   "metadata": {},
   "outputs": [
    {
     "data": {
      "text/plain": [
       "WindowsPath('KR2_results/asset_pricing')"
      ]
     },
     "execution_count": 11,
     "metadata": {},
     "output_type": "execute_result"
    }
   ],
   "source": [
    "results_path"
   ]
  },
  {
   "cell_type": "code",
   "execution_count": 12,
   "metadata": {},
   "outputs": [],
   "source": [
    "df.to_hdf(results_path / 'data.h5', 'stocks/info')"
   ]
  },
  {
   "attachments": {},
   "cell_type": "markdown",
   "metadata": {},
   "source": [
    "## Download adjusted price data using yfinance"
   ]
  },
  {
   "cell_type": "code",
   "execution_count": 13,
   "metadata": {
    "ExecuteTime": {
     "end_time": "2021-02-24T10:00:48.703840Z",
     "start_time": "2021-02-24T09:46:13.913231Z"
    },
    "scrolled": false
   },
   "outputs": [
    {
     "name": "stdout",
     "output_type": "stream",
     "text": [
      "[*********************100%***********************]  100 of 100 completed"
     ]
    },
    {
     "name": "stderr",
     "output_type": "stream",
     "text": [
      "\n",
      "6 Failed downloads:\n",
      "['247540.KS', '022100.KS', '035900.KS', '263750.KS', '066970.KS', '091990.KS']: Exception('%ticker%: No timezone found, symbol may be delisted')\n"
     ]
    },
    {
     "name": "stdout",
     "output_type": "stream",
     "text": [
      "\n",
      "Success:     1/    1 | To go: 00:00:54 (  898)\n"
     ]
    },
    {
     "name": "stderr",
     "output_type": "stream",
     "text": [
      "Failed to get ticker '051600.KS' reason: HTTPSConnectionPool(host='query2.finance.yahoo.com', port=443): Read timed out. (read timeout=10)\n",
      "Failed to get ticker '267260.KS' reason: HTTPSConnectionPool(host='query2.finance.yahoo.com', port=443): Read timed out. (read timeout=10)\n"
     ]
    },
    {
     "name": "stdout",
     "output_type": "stream",
     "text": [
      "[                       0%                       ]"
     ]
    },
    {
     "name": "stderr",
     "output_type": "stream",
     "text": [
      "Failed to get ticker '000120.KS' reason: HTTPSConnectionPool(host='query2.finance.yahoo.com', port=443): Read timed out. (read timeout=10)\n"
     ]
    },
    {
     "name": "stdout",
     "output_type": "stream",
     "text": [
      "[*                      2%                       ]  2 of 100 completed"
     ]
    },
    {
     "name": "stderr",
     "output_type": "stream",
     "text": [
      "Failed to get ticker '001040.KS' reason: HTTPSConnectionPool(host='query2.finance.yahoo.com', port=443): Read timed out. (read timeout=10)\n"
     ]
    },
    {
     "name": "stdout",
     "output_type": "stream",
     "text": [
      "[**                     4%                       ]  4 of 100 completed"
     ]
    },
    {
     "name": "stderr",
     "output_type": "stream",
     "text": [
      "Failed to get ticker '137310.KS' reason: HTTPSConnectionPool(host='query2.finance.yahoo.com', port=443): Read timed out. (read timeout=10)\n",
      "Failed to get ticker '000150.KS' reason: HTTPSConnectionPool(host='query2.finance.yahoo.com', port=443): Read timed out. (read timeout=10)\n"
     ]
    },
    {
     "name": "stdout",
     "output_type": "stream",
     "text": [
      "[**                     5%                       ]  5 of 100 completed"
     ]
    },
    {
     "name": "stderr",
     "output_type": "stream",
     "text": [
      "Failed to get ticker '093370.KS' reason: HTTPSConnectionPool(host='query2.finance.yahoo.com', port=443): Read timed out. (read timeout=10)\n",
      "Failed to get ticker '195870.KS' reason: HTTPSConnectionPool(host='query2.finance.yahoo.com', port=443): Read timed out. (read timeout=10)\n"
     ]
    },
    {
     "name": "stdout",
     "output_type": "stream",
     "text": [
      "[****                   8%                       ]  8 of 100 completed"
     ]
    },
    {
     "name": "stderr",
     "output_type": "stream",
     "text": [
      "Failed to get ticker '039030.KS' reason: HTTPSConnectionPool(host='query2.finance.yahoo.com', port=443): Read timed out. (read timeout=10)\n",
      "Failed to get ticker '457190.KS' reason: HTTPSConnectionPool(host='query2.finance.yahoo.com', port=443): Read timed out. (read timeout=10)\n"
     ]
    },
    {
     "name": "stdout",
     "output_type": "stream",
     "text": [
      "[****                   9%                       ]  9 of 100 completed"
     ]
    },
    {
     "name": "stderr",
     "output_type": "stream",
     "text": [
      "Failed to get ticker '004000.KS' reason: HTTPSConnectionPool(host='query2.finance.yahoo.com', port=443): Read timed out. (read timeout=10)\n",
      "Failed to get ticker '003410.KS' reason: HTTPSConnectionPool(host='query2.finance.yahoo.com', port=443): Read timed out. (read timeout=10)\n"
     ]
    },
    {
     "name": "stdout",
     "output_type": "stream",
     "text": [
      "[******                12%                       ]  12 of 100 completed"
     ]
    },
    {
     "name": "stderr",
     "output_type": "stream",
     "text": [
      "Failed to get ticker '042670.KS' reason: HTTPSConnectionPool(host='query2.finance.yahoo.com', port=443): Read timed out. (read timeout=10)\n",
      "Failed to get ticker '001440.KS' reason: HTTPSConnectionPool(host='query2.finance.yahoo.com', port=443): Read timed out. (read timeout=10)\n"
     ]
    },
    {
     "name": "stdout",
     "output_type": "stream",
     "text": [
      "[******                13%                       ]  13 of 100 completed"
     ]
    },
    {
     "name": "stderr",
     "output_type": "stream",
     "text": [
      "Failed to get ticker '016360.KS' reason: HTTPSConnectionPool(host='query2.finance.yahoo.com', port=443): Read timed out. (read timeout=10)\n"
     ]
    },
    {
     "name": "stdout",
     "output_type": "stream",
     "text": [
      "[*******               14%                       ]  14 of 100 completed"
     ]
    },
    {
     "name": "stderr",
     "output_type": "stream",
     "text": [
      "Failed to get ticker '010120.KS' reason: HTTPSConnectionPool(host='query2.finance.yahoo.com', port=443): Read timed out. (read timeout=10)\n",
      "Failed to get ticker '282330.KS' reason: HTTPSConnectionPool(host='query2.finance.yahoo.com', port=443): Read timed out. (read timeout=10)\n"
     ]
    },
    {
     "name": "stdout",
     "output_type": "stream",
     "text": [
      "[*******               15%                       ]  15 of 100 completed"
     ]
    },
    {
     "name": "stderr",
     "output_type": "stream",
     "text": [
      "Failed to get ticker '058470.KS' reason: HTTPSConnectionPool(host='query2.finance.yahoo.com', port=443): Read timed out. (read timeout=10)\n",
      "Failed to get ticker '012750.KS' reason: HTTPSConnectionPool(host='query2.finance.yahoo.com', port=443): Read timed out. (read timeout=10)\n",
      "Failed to get ticker '006260.KS' reason: HTTPSConnectionPool(host='query2.finance.yahoo.com', port=443): Read timed out. (read timeout=10)\n"
     ]
    },
    {
     "name": "stdout",
     "output_type": "stream",
     "text": [
      "[********              17%                       ]  17 of 100 completed"
     ]
    },
    {
     "name": "stderr",
     "output_type": "stream",
     "text": [
      "Failed to get ticker '139130.KS' reason: HTTPSConnectionPool(host='query2.finance.yahoo.com', port=443): Read timed out. (read timeout=10)\n"
     ]
    },
    {
     "name": "stdout",
     "output_type": "stream",
     "text": [
      "[*********             19%                       ]  19 of 100 completed"
     ]
    },
    {
     "name": "stderr",
     "output_type": "stream",
     "text": [
      "Failed to get ticker '298040.KS' reason: HTTPSConnectionPool(host='query2.finance.yahoo.com', port=443): Read timed out. (read timeout=10)\n"
     ]
    },
    {
     "name": "stdout",
     "output_type": "stream",
     "text": [
      "[**********            20%                       ]  20 of 100 completed"
     ]
    },
    {
     "name": "stderr",
     "output_type": "stream",
     "text": [
      "Failed to get ticker '139480.KS' reason: HTTPSConnectionPool(host='query2.finance.yahoo.com', port=443): Read timed out. (read timeout=10)\n"
     ]
    },
    {
     "name": "stdout",
     "output_type": "stream",
     "text": [
      "[**********            21%                       ]  21 of 100 completed"
     ]
    },
    {
     "name": "stderr",
     "output_type": "stream",
     "text": [
      "Failed to get ticker '088350.KS' reason: HTTPSConnectionPool(host='query2.finance.yahoo.com', port=443): Read timed out. (read timeout=10)\n"
     ]
    },
    {
     "name": "stdout",
     "output_type": "stream",
     "text": [
      "[***********           22%                       ]  22 of 100 completed"
     ]
    },
    {
     "name": "stderr",
     "output_type": "stream",
     "text": [
      "Failed to get ticker '000990.KS' reason: HTTPSConnectionPool(host='query2.finance.yahoo.com', port=443): Read timed out. (read timeout=10)\n"
     ]
    },
    {
     "name": "stdout",
     "output_type": "stream",
     "text": [
      "[***********           23%                       ]  23 of 100 completed"
     ]
    },
    {
     "name": "stderr",
     "output_type": "stream",
     "text": [
      "Failed to get ticker '237690.KS' reason: HTTPSConnectionPool(host='query2.finance.yahoo.com', port=443): Read timed out. (read timeout=10)\n"
     ]
    },
    {
     "name": "stdout",
     "output_type": "stream",
     "text": [
      "[************          24%                       ]  24 of 100 completed"
     ]
    },
    {
     "name": "stderr",
     "output_type": "stream",
     "text": [
      "Failed to get ticker '002380.KS' reason: HTTPSConnectionPool(host='query2.finance.yahoo.com', port=443): Read timed out. (read timeout=10)\n"
     ]
    },
    {
     "name": "stdout",
     "output_type": "stream",
     "text": [
      "[************          25%                       ]  25 of 100 completed"
     ]
    },
    {
     "name": "stderr",
     "output_type": "stream",
     "text": [
      "Failed to get ticker '007310.KS' reason: HTTPSConnectionPool(host='query2.finance.yahoo.com', port=443): Read timed out. (read timeout=10)\n"
     ]
    },
    {
     "name": "stdout",
     "output_type": "stream",
     "text": [
      "[************          26%                       ]  26 of 100 completed"
     ]
    },
    {
     "name": "stderr",
     "output_type": "stream",
     "text": [
      "Failed to get ticker '017800.KS' reason: HTTPSConnectionPool(host='query2.finance.yahoo.com', port=443): Read timed out. (read timeout=10)\n"
     ]
    },
    {
     "name": "stdout",
     "output_type": "stream",
     "text": [
      "[************          26%                       ]  26 of 100 completed"
     ]
    },
    {
     "name": "stderr",
     "output_type": "stream",
     "text": [
      "Failed to get ticker '035760.KS' reason: HTTPSConnectionPool(host='query2.finance.yahoo.com', port=443): Read timed out. (read timeout=10)\n"
     ]
    },
    {
     "name": "stdout",
     "output_type": "stream",
     "text": [
      "[*************         28%                       ]  28 of 100 completed"
     ]
    },
    {
     "name": "stderr",
     "output_type": "stream",
     "text": [
      "Failed to get ticker '006110.KS' reason: HTTPSConnectionPool(host='query2.finance.yahoo.com', port=443): Read timed out. (read timeout=10)\n"
     ]
    },
    {
     "name": "stdout",
     "output_type": "stream",
     "text": [
      "[**************        29%                       ]  29 of 100 completed"
     ]
    },
    {
     "name": "stderr",
     "output_type": "stream",
     "text": [
      "Failed to get ticker '026960.KS' reason: HTTPSConnectionPool(host='query2.finance.yahoo.com', port=443): Read timed out. (read timeout=10)\n"
     ]
    },
    {
     "name": "stdout",
     "output_type": "stream",
     "text": [
      "[*********************100%***********************]  100 of 100 completed"
     ]
    },
    {
     "name": "stderr",
     "output_type": "stream",
     "text": [
      "\n",
      "41 Failed downloads:\n",
      "['051600.KS', '267260.KS', '000120.KS', '001040.KS', '137310.KS', '000150.KS', '093370.KS', '195870.KS', '039030.KS', '457190.KS', '004000.KS', '003410.KS', '042670.KS', '001440.KS', '016360.KS', '010120.KS', '282330.KS', '058470.KS', '012750.KS', '006260.KS', '139130.KS', '298040.KS', '139480.KS', '088350.KS', '000990.KS', '237690.KS', '002380.KS', '007310.KS', '017800.KS', '035760.KS', '006110.KS', '026960.KS', '278280.KS', '137400.KS', '196170.KS', '056190.KS', '214450.KS', '145020.KS', '240810.KS', '214150.KS', '293490.KS']: Exception('%ticker%: No timezone found, symbol may be delisted')\n"
     ]
    },
    {
     "name": "stdout",
     "output_type": "stream",
     "text": [
      "\n",
      "Success:     2/    2 | To go: 00:02:39 (  798)\n",
      "[*********************100%***********************]  100 of 100 completed"
     ]
    },
    {
     "name": "stderr",
     "output_type": "stream",
     "text": [
      "\n",
      "16 Failed downloads:\n",
      "['067310.KS', '213420.KS', '215000.KS', '183300.KS', '348210.KS', '141080.KS', '098460.KS', '319660.KS', '166090.KS', '084370.KS', '195940.KS', '003380.KS', '074600.KS', '272290.KS', '036930.KS', '046890.KS']: Exception('%ticker%: No timezone found, symbol may be delisted')\n"
     ]
    },
    {
     "name": "stdout",
     "output_type": "stream",
     "text": [
      "\n",
      "Success:     3/    3 | To go: 00:01:43 (  698)\n",
      "[*********************100%***********************]  100 of 100 completed"
     ]
    },
    {
     "name": "stderr",
     "output_type": "stream",
     "text": [
      "\n",
      "9 Failed downloads:\n",
      "['215200.KS', '243070.KS', '036830.KS', '091700.KS', '095610.KS', '060250.KS', '131290.KS', '084850.KS', '086450.KS']: Exception('%ticker%: No timezone found, symbol may be delisted')\n"
     ]
    },
    {
     "name": "stdout",
     "output_type": "stream",
     "text": [
      "\n",
      "Success:     4/    4 | To go: 00:01:14 (  598)\n",
      "[*********************100%***********************]  100 of 100 completed"
     ]
    },
    {
     "name": "stderr",
     "output_type": "stream",
     "text": [
      "\n",
      "2 Failed downloads:\n"
     ]
    },
    {
     "name": "stdout",
     "output_type": "stream",
     "text": [
      "\n"
     ]
    },
    {
     "name": "stderr",
     "output_type": "stream",
     "text": [
      "['230360.KS', '267980.KS']: Exception('%ticker%: No timezone found, symbol may be delisted')\n"
     ]
    },
    {
     "name": "stdout",
     "output_type": "stream",
     "text": [
      "Success:     5/    5 | To go: 00:00:55 (  498)\n",
      "[*********************100%***********************]  100 of 100 completed\n",
      "Success:     6/    6 | To go: 00:00:40 (  398)\n",
      "[*********************100%***********************]  100 of 100 completed\n",
      "Success:     7/    7 | To go: 00:00:27 (  298)\n",
      "[*********************100%***********************]  100 of 100 completed\n",
      "Success:     8/    8 | To go: 00:00:17 (  198)\n",
      "[*********************100%***********************]  100 of 100 completed\n",
      "Success:     9/    9 | To go: 00:00:08 (   98)\n",
      "[*********************100%***********************]  98 of 98 completed\n",
      "Success:    10/   10 | To go: -1:59:60 (   -2)\n"
     ]
    }
   ],
   "source": [
    "prices_adj = []\n",
    "start = time()\n",
    "for i, chunk in enumerate(chunks(krx, 100), 1):\n",
    "    prices_adj.append(yf.download(chunk, period='max', auto_adjust=True).stack(-1))\n",
    "\n",
    "    per_ticker = (time()-start) / (i * 100)\n",
    "    to_do = n - (i * 100)\n",
    "    to_go = to_do * per_ticker    \n",
    "    print(f'Success: {len(prices_adj):5,.0f}/{i:5,.0f} | To go: {format_time(to_go)} ({to_do:5,.0f})')"
   ]
  },
  {
   "cell_type": "code",
   "execution_count": 14,
   "metadata": {
    "ExecuteTime": {
     "end_time": "2021-02-24T10:01:19.400460Z",
     "start_time": "2021-02-24T10:00:48.704777Z"
    }
   },
   "outputs": [],
   "source": [
    "prices_adj = (pd.concat(prices_adj)\n",
    "              .dropna(how='all', axis=1)\n",
    "              .rename(columns=str.lower)\n",
    "              .swaplevel())"
   ]
  },
  {
   "cell_type": "code",
   "execution_count": 15,
   "metadata": {
    "ExecuteTime": {
     "end_time": "2021-02-24T10:01:19.403136Z",
     "start_time": "2021-02-24T10:01:19.401480Z"
    }
   },
   "outputs": [],
   "source": [
    "prices_adj.index.names = ['ticker', 'date']"
   ]
  },
  {
   "cell_type": "code",
   "execution_count": 16,
   "metadata": {
    "ExecuteTime": {
     "end_time": "2021-02-24T10:01:19.524404Z",
     "start_time": "2021-02-24T10:01:19.403934Z"
    }
   },
   "outputs": [
    {
     "data": {
      "text/plain": [
       "924"
      ]
     },
     "execution_count": 16,
     "metadata": {},
     "output_type": "execute_result"
    }
   ],
   "source": [
    "len(prices_adj.index.unique('ticker'))"
   ]
  },
  {
   "attachments": {},
   "cell_type": "markdown",
   "metadata": {},
   "source": [
    "### Remove outliers"
   ]
  },
  {
   "cell_type": "code",
   "execution_count": 17,
   "metadata": {
    "ExecuteTime": {
     "end_time": "2021-02-24T10:01:26.721497Z",
     "start_time": "2021-02-24T10:01:19.525371Z"
    }
   },
   "outputs": [
    {
     "data": {
      "text/plain": [
       "76"
      ]
     },
     "execution_count": 17,
     "metadata": {},
     "output_type": "execute_result"
    }
   ],
   "source": [
    "df = prices_adj.close.unstack('ticker')\n",
    "pmax = df.pct_change().max()\n",
    "pmin = df.pct_change().min()\n",
    "to_drop = pmax[pmax > 1].index.union(pmin[pmin<-1].index)\n",
    "len(to_drop)"
   ]
  },
  {
   "cell_type": "code",
   "execution_count": 18,
   "metadata": {
    "ExecuteTime": {
     "end_time": "2021-02-24T10:02:48.974317Z",
     "start_time": "2021-02-24T10:01:26.722329Z"
    }
   },
   "outputs": [],
   "source": [
    "prices_adj = prices_adj.drop(to_drop, level='ticker')"
   ]
  },
  {
   "cell_type": "code",
   "execution_count": 19,
   "metadata": {
    "ExecuteTime": {
     "end_time": "2021-02-24T10:02:49.069890Z",
     "start_time": "2021-02-24T10:02:48.975147Z"
    }
   },
   "outputs": [
    {
     "data": {
      "text/plain": [
       "848"
      ]
     },
     "execution_count": 19,
     "metadata": {},
     "output_type": "execute_result"
    }
   ],
   "source": [
    "len(prices_adj.index.unique('ticker'))"
   ]
  },
  {
   "cell_type": "code",
   "execution_count": 20,
   "metadata": {},
   "outputs": [
    {
     "data": {
      "text/html": [
       "<div>\n",
       "<style scoped>\n",
       "    .dataframe tbody tr th:only-of-type {\n",
       "        vertical-align: middle;\n",
       "    }\n",
       "\n",
       "    .dataframe tbody tr th {\n",
       "        vertical-align: top;\n",
       "    }\n",
       "\n",
       "    .dataframe thead th {\n",
       "        text-align: right;\n",
       "    }\n",
       "</style>\n",
       "<table border=\"1\" class=\"dataframe\">\n",
       "  <thead>\n",
       "    <tr style=\"text-align: right;\">\n",
       "      <th></th>\n",
       "      <th></th>\n",
       "      <th>close</th>\n",
       "      <th>high</th>\n",
       "      <th>low</th>\n",
       "      <th>open</th>\n",
       "      <th>volume</th>\n",
       "    </tr>\n",
       "    <tr>\n",
       "      <th>ticker</th>\n",
       "      <th>date</th>\n",
       "      <th></th>\n",
       "      <th></th>\n",
       "      <th></th>\n",
       "      <th></th>\n",
       "      <th></th>\n",
       "    </tr>\n",
       "  </thead>\n",
       "  <tbody>\n",
       "    <tr>\n",
       "      <th>000100.KS</th>\n",
       "      <th>2000-01-04</th>\n",
       "      <td>3359.393799</td>\n",
       "      <td>3469.774090</td>\n",
       "      <td>3081.044028</td>\n",
       "      <td>3081.044028</td>\n",
       "      <td>728643.0</td>\n",
       "    </tr>\n",
       "    <tr>\n",
       "      <th>000270.KS</th>\n",
       "      <th>2000-01-04</th>\n",
       "      <td>5074.385254</td>\n",
       "      <td>5074.385254</td>\n",
       "      <td>4832.747722</td>\n",
       "      <td>4901.787017</td>\n",
       "      <td>636300.0</td>\n",
       "    </tr>\n",
       "    <tr>\n",
       "      <th>000720.KS</th>\n",
       "      <th>2000-01-04</th>\n",
       "      <td>283844.937500</td>\n",
       "      <td>283844.937500</td>\n",
       "      <td>258453.056019</td>\n",
       "      <td>258453.056019</td>\n",
       "      <td>70240.0</td>\n",
       "    </tr>\n",
       "    <tr>\n",
       "      <th>000810.KS</th>\n",
       "      <th>2000-01-04</th>\n",
       "      <td>21973.480469</td>\n",
       "      <td>22570.290206</td>\n",
       "      <td>19640.494907</td>\n",
       "      <td>19640.494907</td>\n",
       "      <td>271254.0</td>\n",
       "    </tr>\n",
       "    <tr>\n",
       "      <th>003490.KS</th>\n",
       "      <th>2000-01-04</th>\n",
       "      <td>10754.258789</td>\n",
       "      <td>10754.258789</td>\n",
       "      <td>9751.742671</td>\n",
       "      <td>9751.742671</td>\n",
       "      <td>2251546.0</td>\n",
       "    </tr>\n",
       "    <tr>\n",
       "      <th>...</th>\n",
       "      <th>...</th>\n",
       "      <td>...</td>\n",
       "      <td>...</td>\n",
       "      <td>...</td>\n",
       "      <td>...</td>\n",
       "      <td>...</td>\n",
       "    </tr>\n",
       "    <tr>\n",
       "      <th>36328K.KS</th>\n",
       "      <th>2023-07-24</th>\n",
       "      <td>8440.000000</td>\n",
       "      <td>8500.000000</td>\n",
       "      <td>8360.000000</td>\n",
       "      <td>8430.000000</td>\n",
       "      <td>2437.0</td>\n",
       "    </tr>\n",
       "    <tr>\n",
       "      <th>37550K.KS</th>\n",
       "      <th>2023-07-24</th>\n",
       "      <td>19020.000000</td>\n",
       "      <td>19370.000000</td>\n",
       "      <td>19010.000000</td>\n",
       "      <td>19370.000000</td>\n",
       "      <td>1593.0</td>\n",
       "    </tr>\n",
       "    <tr>\n",
       "      <th>38380K.KS</th>\n",
       "      <th>2023-07-24</th>\n",
       "      <td>9710.000000</td>\n",
       "      <td>9870.000000</td>\n",
       "      <td>9700.000000</td>\n",
       "      <td>9810.000000</td>\n",
       "      <td>2907.0</td>\n",
       "    </tr>\n",
       "    <tr>\n",
       "      <th>45014K.KS</th>\n",
       "      <th>2023-07-24</th>\n",
       "      <td>7470.000000</td>\n",
       "      <td>7800.000000</td>\n",
       "      <td>7350.000000</td>\n",
       "      <td>7800.000000</td>\n",
       "      <td>4008.0</td>\n",
       "    </tr>\n",
       "    <tr>\n",
       "      <th>45226K.KS</th>\n",
       "      <th>2023-07-24</th>\n",
       "      <td>4610.000000</td>\n",
       "      <td>4690.000000</td>\n",
       "      <td>4610.000000</td>\n",
       "      <td>4690.000000</td>\n",
       "      <td>6877.0</td>\n",
       "    </tr>\n",
       "  </tbody>\n",
       "</table>\n",
       "<p>3684710 rows × 5 columns</p>\n",
       "</div>"
      ],
      "text/plain": [
       "                              close           high            low  \\\n",
       "ticker    date                                                      \n",
       "000100.KS 2000-01-04    3359.393799    3469.774090    3081.044028   \n",
       "000270.KS 2000-01-04    5074.385254    5074.385254    4832.747722   \n",
       "000720.KS 2000-01-04  283844.937500  283844.937500  258453.056019   \n",
       "000810.KS 2000-01-04   21973.480469   22570.290206   19640.494907   \n",
       "003490.KS 2000-01-04   10754.258789   10754.258789    9751.742671   \n",
       "...                             ...            ...            ...   \n",
       "36328K.KS 2023-07-24    8440.000000    8500.000000    8360.000000   \n",
       "37550K.KS 2023-07-24   19020.000000   19370.000000   19010.000000   \n",
       "38380K.KS 2023-07-24    9710.000000    9870.000000    9700.000000   \n",
       "45014K.KS 2023-07-24    7470.000000    7800.000000    7350.000000   \n",
       "45226K.KS 2023-07-24    4610.000000    4690.000000    4610.000000   \n",
       "\n",
       "                               open     volume  \n",
       "ticker    date                                  \n",
       "000100.KS 2000-01-04    3081.044028   728643.0  \n",
       "000270.KS 2000-01-04    4901.787017   636300.0  \n",
       "000720.KS 2000-01-04  258453.056019    70240.0  \n",
       "000810.KS 2000-01-04   19640.494907   271254.0  \n",
       "003490.KS 2000-01-04    9751.742671  2251546.0  \n",
       "...                             ...        ...  \n",
       "36328K.KS 2023-07-24    8430.000000     2437.0  \n",
       "37550K.KS 2023-07-24   19370.000000     1593.0  \n",
       "38380K.KS 2023-07-24    9810.000000     2907.0  \n",
       "45014K.KS 2023-07-24    7800.000000     4008.0  \n",
       "45226K.KS 2023-07-24    4690.000000     6877.0  \n",
       "\n",
       "[3684710 rows x 5 columns]"
      ]
     },
     "execution_count": 20,
     "metadata": {},
     "output_type": "execute_result"
    }
   ],
   "source": [
    "prices_adj"
   ]
  },
  {
   "cell_type": "code",
   "execution_count": 21,
   "metadata": {
    "ExecuteTime": {
     "end_time": "2021-02-24T10:02:56.784555Z",
     "start_time": "2021-02-24T10:02:49.070735Z"
    }
   },
   "outputs": [],
   "source": [
    "prices_adj.sort_index().loc[idx[:, '2000': '2023'], :].to_hdf(results_path / 'data.h5', \n",
    "                                                              'stocks/prices/adjusted')"
   ]
  },
  {
   "cell_type": "code",
   "execution_count": 22,
   "metadata": {},
   "outputs": [
    {
     "data": {
      "text/html": [
       "<div>\n",
       "<style scoped>\n",
       "    .dataframe tbody tr th:only-of-type {\n",
       "        vertical-align: middle;\n",
       "    }\n",
       "\n",
       "    .dataframe tbody tr th {\n",
       "        vertical-align: top;\n",
       "    }\n",
       "\n",
       "    .dataframe thead th {\n",
       "        text-align: right;\n",
       "    }\n",
       "</style>\n",
       "<table border=\"1\" class=\"dataframe\">\n",
       "  <thead>\n",
       "    <tr style=\"text-align: right;\">\n",
       "      <th></th>\n",
       "      <th></th>\n",
       "      <th>close</th>\n",
       "      <th>high</th>\n",
       "      <th>low</th>\n",
       "      <th>open</th>\n",
       "      <th>volume</th>\n",
       "    </tr>\n",
       "    <tr>\n",
       "      <th>ticker</th>\n",
       "      <th>date</th>\n",
       "      <th></th>\n",
       "      <th></th>\n",
       "      <th></th>\n",
       "      <th></th>\n",
       "      <th></th>\n",
       "    </tr>\n",
       "  </thead>\n",
       "  <tbody>\n",
       "    <tr>\n",
       "      <th>000100.KS</th>\n",
       "      <th>2000-01-04</th>\n",
       "      <td>3359.393799</td>\n",
       "      <td>3469.774090</td>\n",
       "      <td>3081.044028</td>\n",
       "      <td>3081.044028</td>\n",
       "      <td>728643.0</td>\n",
       "    </tr>\n",
       "    <tr>\n",
       "      <th>000270.KS</th>\n",
       "      <th>2000-01-04</th>\n",
       "      <td>5074.385254</td>\n",
       "      <td>5074.385254</td>\n",
       "      <td>4832.747722</td>\n",
       "      <td>4901.787017</td>\n",
       "      <td>636300.0</td>\n",
       "    </tr>\n",
       "    <tr>\n",
       "      <th>000720.KS</th>\n",
       "      <th>2000-01-04</th>\n",
       "      <td>283844.937500</td>\n",
       "      <td>283844.937500</td>\n",
       "      <td>258453.056019</td>\n",
       "      <td>258453.056019</td>\n",
       "      <td>70240.0</td>\n",
       "    </tr>\n",
       "    <tr>\n",
       "      <th>000810.KS</th>\n",
       "      <th>2000-01-04</th>\n",
       "      <td>21973.480469</td>\n",
       "      <td>22570.290206</td>\n",
       "      <td>19640.494907</td>\n",
       "      <td>19640.494907</td>\n",
       "      <td>271254.0</td>\n",
       "    </tr>\n",
       "    <tr>\n",
       "      <th>003490.KS</th>\n",
       "      <th>2000-01-04</th>\n",
       "      <td>10754.258789</td>\n",
       "      <td>10754.258789</td>\n",
       "      <td>9751.742671</td>\n",
       "      <td>9751.742671</td>\n",
       "      <td>2251546.0</td>\n",
       "    </tr>\n",
       "    <tr>\n",
       "      <th>...</th>\n",
       "      <th>...</th>\n",
       "      <td>...</td>\n",
       "      <td>...</td>\n",
       "      <td>...</td>\n",
       "      <td>...</td>\n",
       "      <td>...</td>\n",
       "    </tr>\n",
       "    <tr>\n",
       "      <th>36328K.KS</th>\n",
       "      <th>2023-07-24</th>\n",
       "      <td>8440.000000</td>\n",
       "      <td>8500.000000</td>\n",
       "      <td>8360.000000</td>\n",
       "      <td>8430.000000</td>\n",
       "      <td>2437.0</td>\n",
       "    </tr>\n",
       "    <tr>\n",
       "      <th>37550K.KS</th>\n",
       "      <th>2023-07-24</th>\n",
       "      <td>19020.000000</td>\n",
       "      <td>19370.000000</td>\n",
       "      <td>19010.000000</td>\n",
       "      <td>19370.000000</td>\n",
       "      <td>1593.0</td>\n",
       "    </tr>\n",
       "    <tr>\n",
       "      <th>38380K.KS</th>\n",
       "      <th>2023-07-24</th>\n",
       "      <td>9710.000000</td>\n",
       "      <td>9870.000000</td>\n",
       "      <td>9700.000000</td>\n",
       "      <td>9810.000000</td>\n",
       "      <td>2907.0</td>\n",
       "    </tr>\n",
       "    <tr>\n",
       "      <th>45014K.KS</th>\n",
       "      <th>2023-07-24</th>\n",
       "      <td>7470.000000</td>\n",
       "      <td>7800.000000</td>\n",
       "      <td>7350.000000</td>\n",
       "      <td>7800.000000</td>\n",
       "      <td>4008.0</td>\n",
       "    </tr>\n",
       "    <tr>\n",
       "      <th>45226K.KS</th>\n",
       "      <th>2023-07-24</th>\n",
       "      <td>4610.000000</td>\n",
       "      <td>4690.000000</td>\n",
       "      <td>4610.000000</td>\n",
       "      <td>4690.000000</td>\n",
       "      <td>6877.0</td>\n",
       "    </tr>\n",
       "  </tbody>\n",
       "</table>\n",
       "<p>3684710 rows × 5 columns</p>\n",
       "</div>"
      ],
      "text/plain": [
       "                              close           high            low  \\\n",
       "ticker    date                                                      \n",
       "000100.KS 2000-01-04    3359.393799    3469.774090    3081.044028   \n",
       "000270.KS 2000-01-04    5074.385254    5074.385254    4832.747722   \n",
       "000720.KS 2000-01-04  283844.937500  283844.937500  258453.056019   \n",
       "000810.KS 2000-01-04   21973.480469   22570.290206   19640.494907   \n",
       "003490.KS 2000-01-04   10754.258789   10754.258789    9751.742671   \n",
       "...                             ...            ...            ...   \n",
       "36328K.KS 2023-07-24    8440.000000    8500.000000    8360.000000   \n",
       "37550K.KS 2023-07-24   19020.000000   19370.000000   19010.000000   \n",
       "38380K.KS 2023-07-24    9710.000000    9870.000000    9700.000000   \n",
       "45014K.KS 2023-07-24    7470.000000    7800.000000    7350.000000   \n",
       "45226K.KS 2023-07-24    4610.000000    4690.000000    4610.000000   \n",
       "\n",
       "                               open     volume  \n",
       "ticker    date                                  \n",
       "000100.KS 2000-01-04    3081.044028   728643.0  \n",
       "000270.KS 2000-01-04    4901.787017   636300.0  \n",
       "000720.KS 2000-01-04  258453.056019    70240.0  \n",
       "000810.KS 2000-01-04   19640.494907   271254.0  \n",
       "003490.KS 2000-01-04    9751.742671  2251546.0  \n",
       "...                             ...        ...  \n",
       "36328K.KS 2023-07-24    8430.000000     2437.0  \n",
       "37550K.KS 2023-07-24   19370.000000     1593.0  \n",
       "38380K.KS 2023-07-24    9810.000000     2907.0  \n",
       "45014K.KS 2023-07-24    7800.000000     4008.0  \n",
       "45226K.KS 2023-07-24    4690.000000     6877.0  \n",
       "\n",
       "[3684710 rows x 5 columns]"
      ]
     },
     "execution_count": 22,
     "metadata": {},
     "output_type": "execute_result"
    }
   ],
   "source": [
    "prices_adj"
   ]
  },
  {
   "cell_type": "code",
   "execution_count": null,
   "metadata": {},
   "outputs": [],
   "source": []
  }
 ],
 "metadata": {
  "kernelspec": {
   "display_name": "finance",
   "language": "python",
   "name": "python3"
  },
  "language_info": {
   "codemirror_mode": {
    "name": "ipython",
    "version": 3
   },
   "file_extension": ".py",
   "mimetype": "text/x-python",
   "name": "python",
   "nbconvert_exporter": "python",
   "pygments_lexer": "ipython3",
   "version": "3.10.11"
  },
  "toc": {
   "base_numbering": 1,
   "nav_menu": {},
   "number_sections": true,
   "sideBar": true,
   "skip_h1_title": true,
   "title_cell": "Table of Contents",
   "title_sidebar": "Contents",
   "toc_cell": false,
   "toc_position": {},
   "toc_section_display": true,
   "toc_window_display": true
  },
  "vscode": {
   "interpreter": {
    "hash": "9fe9e6db701ded81cc03a408b6c0b9feb741cf499c165361f3878077b7c94d2a"
   }
  }
 },
 "nbformat": 4,
 "nbformat_minor": 4
}
