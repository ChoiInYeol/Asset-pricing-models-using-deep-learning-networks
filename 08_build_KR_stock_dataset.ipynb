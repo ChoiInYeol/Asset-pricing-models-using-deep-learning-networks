{
 "cells": [
  {
   "attachments": {},
   "cell_type": "markdown",
   "metadata": {},
   "source": [
    "# Download historical equity data for NASDAQ stocks from yahoo finance"
   ]
  },
  {
   "cell_type": "code",
   "execution_count": 1,
   "metadata": {
    "ExecuteTime": {
     "end_time": "2021-02-24T03:35:10.028380Z",
     "start_time": "2021-02-24T03:35:10.026213Z"
    }
   },
   "outputs": [],
   "source": [
    "import warnings\n",
    "warnings.filterwarnings('ignore')"
   ]
  },
  {
   "cell_type": "code",
   "execution_count": 2,
   "metadata": {
    "ExecuteTime": {
     "end_time": "2021-02-24T03:35:10.259404Z",
     "start_time": "2021-02-24T03:35:10.030004Z"
    }
   },
   "outputs": [],
   "source": [
    "from time import time\n",
    "from tqdm import tqdm\n",
    "from pathlib import Path\n",
    "import pandas as pd\n",
    "import FinanceDataReader as fdr\n",
    "import yfinance as yf"
   ]
  },
  {
   "cell_type": "code",
   "execution_count": 6,
   "metadata": {
    "ExecuteTime": {
     "end_time": "2021-02-24T03:35:10.263767Z",
     "start_time": "2021-02-24T03:35:10.261678Z"
    }
   },
   "outputs": [],
   "source": [
    "idx = pd.IndexSlice"
   ]
  },
  {
   "cell_type": "code",
   "execution_count": 7,
   "metadata": {
    "ExecuteTime": {
     "end_time": "2021-02-24T03:35:10.273874Z",
     "start_time": "2021-02-24T03:35:10.264725Z"
    }
   },
   "outputs": [],
   "source": [
    "results_path = Path('KR2_results', 'asset_pricing')\n",
    "if not results_path.exists():\n",
    "    results_path.mkdir(parents=True)"
   ]
  },
  {
   "cell_type": "code",
   "execution_count": 8,
   "metadata": {
    "ExecuteTime": {
     "end_time": "2021-02-24T03:35:10.282293Z",
     "start_time": "2021-02-24T03:35:10.274735Z"
    }
   },
   "outputs": [],
   "source": [
    "def chunks(l, n): \n",
    "    for i in range(0, len(l), n):  \n",
    "        yield l[i:i + n] "
   ]
  },
  {
   "cell_type": "code",
   "execution_count": 9,
   "metadata": {
    "ExecuteTime": {
     "end_time": "2021-02-24T03:35:10.290666Z",
     "start_time": "2021-02-24T03:35:10.283784Z"
    }
   },
   "outputs": [],
   "source": [
    "def format_time(t):\n",
    "    \"\"\"Return a formatted time string 'HH:MM:SS\n",
    "    based on a numeric time() value\"\"\"\n",
    "    m, s = divmod(t, 60)\n",
    "    h, m = divmod(m, 60)\n",
    "    return f'{h:0>2.0f}:{m:0>2.0f}:{s:0>2.0f}'"
   ]
  },
  {
   "attachments": {},
   "cell_type": "markdown",
   "metadata": {},
   "source": [
    "## Get KRX symbols"
   ]
  },
  {
   "cell_type": "code",
   "execution_count": 11,
   "metadata": {},
   "outputs": [
    {
     "name": "stdout",
     "output_type": "stream",
     "text": [
      "# Symbols: 998\n"
     ]
    }
   ],
   "source": [
    "krx = fdr.StockListing('KRX')\n",
    "krx = krx[krx[\"Market\"] != \"KONEX\"]\n",
    "krx = krx[krx[\"Market\"] != \"KOSDAQ\"]\n",
    "krx['Code'] = krx['Code'] + '.' + krx['Market'].apply(lambda x: 'KS')\n",
    "krx = krx[\"Code\"].to_list()\n",
    "n = len(krx)\n",
    "print(f'# Symbols: {n:,.0f}')"
   ]
  },
  {
   "attachments": {},
   "cell_type": "markdown",
   "metadata": {},
   "source": [
    "## Download metadata from yahoo finance"
   ]
  },
  {
   "attachments": {},
   "cell_type": "markdown",
   "metadata": {},
   "source": [
    "### NASDAQ symbols"
   ]
  },
  {
   "cell_type": "code",
   "execution_count": 13,
   "metadata": {
    "ExecuteTime": {
     "end_time": "2021-02-24T03:35:30.818647Z",
     "start_time": "2021-02-24T03:35:11.397335Z"
    }
   },
   "outputs": [],
   "source": [
    "yf_codes = yf.Tickers(krx)"
   ]
  },
  {
   "cell_type": "code",
   "execution_count": 14,
   "metadata": {},
   "outputs": [
    {
     "name": "stderr",
     "output_type": "stream",
     "text": [
      "  2%|▏         | 15/998 [00:08<07:43,  2.12it/s]"
     ]
    },
    {
     "name": "stdout",
     "output_type": "stream",
     "text": [
      "247540.KS 404 Client Error: Not Found for url: https://query2.finance.yahoo.com/v10/finance/quoteSummary/247540.KS?modules=summaryProfile%2CfinancialData%2CquoteType%2CdefaultKeyStatistics%2CassetProfile%2CsummaryDetail&ssl=true\n"
     ]
    },
    {
     "name": "stderr",
     "output_type": "stream",
     "text": [
      "  3%|▎         | 28/998 [00:15<07:43,  2.09it/s]"
     ]
    },
    {
     "name": "stdout",
     "output_type": "stream",
     "text": [
      "091990.KS 404 Client Error: Not Found for url: https://query2.finance.yahoo.com/v10/finance/quoteSummary/091990.KS?modules=summaryProfile%2CfinancialData%2CquoteType%2CdefaultKeyStatistics%2CassetProfile%2CsummaryDetail&ssl=true\n"
     ]
    },
    {
     "name": "stderr",
     "output_type": "stream",
     "text": [
      "  4%|▍         | 42/998 [00:23<07:32,  2.11it/s]"
     ]
    },
    {
     "name": "stdout",
     "output_type": "stream",
     "text": [
      "066970.KS 404 Client Error: Not Found for url: https://query2.finance.yahoo.com/v10/finance/quoteSummary/066970.KS?modules=summaryProfile%2CfinancialData%2CquoteType%2CdefaultKeyStatistics%2CassetProfile%2CsummaryDetail&ssl=true\n"
     ]
    },
    {
     "name": "stderr",
     "output_type": "stream",
     "text": [
      " 10%|▉         | 95/998 [00:52<07:05,  2.12it/s]"
     ]
    },
    {
     "name": "stdout",
     "output_type": "stream",
     "text": [
      "293490.KS 404 Client Error: Not Found for url: https://query2.finance.yahoo.com/v10/finance/quoteSummary/293490.KS?modules=summaryProfile%2CfinancialData%2CquoteType%2CdefaultKeyStatistics%2CassetProfile%2CsummaryDetail&ssl=true\n"
     ]
    },
    {
     "name": "stderr",
     "output_type": "stream",
     "text": [
      " 11%|█         | 107/998 [00:58<07:07,  2.08it/s]"
     ]
    },
    {
     "name": "stdout",
     "output_type": "stream",
     "text": [
      "263750.KS 404 Client Error: Not Found for url: https://query2.finance.yahoo.com/v10/finance/quoteSummary/263750.KS?modules=summaryProfile%2CfinancialData%2CquoteType%2CdefaultKeyStatistics%2CassetProfile%2CsummaryDetail&ssl=true\n"
     ]
    },
    {
     "name": "stderr",
     "output_type": "stream",
     "text": [
      " 13%|█▎        | 126/998 [01:09<07:12,  2.02it/s]"
     ]
    },
    {
     "name": "stdout",
     "output_type": "stream",
     "text": [
      "196170.KS 404 Client Error: Not Found for url: https://query2.finance.yahoo.com/v10/finance/quoteSummary/196170.KS?modules=summaryProfile%2CfinancialData%2CquoteType%2CdefaultKeyStatistics%2CassetProfile%2CsummaryDetail&ssl=true\n"
     ]
    },
    {
     "name": "stderr",
     "output_type": "stream",
     "text": [
      " 14%|█▍        | 143/998 [01:18<07:14,  1.97it/s]"
     ]
    },
    {
     "name": "stdout",
     "output_type": "stream",
     "text": [
      "058470.KS 404 Client Error: Not Found for url: https://query2.finance.yahoo.com/v10/finance/quoteSummary/058470.KS?modules=summaryProfile%2CfinancialData%2CquoteType%2CdefaultKeyStatistics%2CassetProfile%2CsummaryDetail&ssl=true\n"
     ]
    },
    {
     "name": "stderr",
     "output_type": "stream",
     "text": [
      " 15%|█▍        | 146/998 [01:20<06:31,  2.18it/s]"
     ]
    },
    {
     "name": "stdout",
     "output_type": "stream",
     "text": [
      "022100.KS 404 Client Error: Not Found for url: https://query2.finance.yahoo.com/v10/finance/quoteSummary/022100.KS?modules=summaryProfile%2CfinancialData%2CquoteType%2CdefaultKeyStatistics%2CassetProfile%2CsummaryDetail&ssl=true\n"
     ]
    },
    {
     "name": "stderr",
     "output_type": "stream",
     "text": [
      " 15%|█▍        | 149/998 [01:21<06:20,  2.23it/s]"
     ]
    },
    {
     "name": "stdout",
     "output_type": "stream",
     "text": [
      "278280.KS 404 Client Error: Not Found for url: https://query2.finance.yahoo.com/v10/finance/quoteSummary/278280.KS?modules=summaryProfile%2CfinancialData%2CquoteType%2CdefaultKeyStatistics%2CassetProfile%2CsummaryDetail&ssl=true\n"
     ]
    },
    {
     "name": "stderr",
     "output_type": "stream",
     "text": [
      " 16%|█▌        | 160/998 [01:27<06:38,  2.10it/s]"
     ]
    },
    {
     "name": "stdout",
     "output_type": "stream",
     "text": [
      "035760.KS 404 Client Error: Not Found for url: https://query2.finance.yahoo.com/v10/finance/quoteSummary/035760.KS?modules=summaryProfile%2CfinancialData%2CquoteType%2CdefaultKeyStatistics%2CassetProfile%2CsummaryDetail&ssl=true\n"
     ]
    },
    {
     "name": "stderr",
     "output_type": "stream",
     "text": [
      " 17%|█▋        | 170/998 [01:33<06:34,  2.10it/s]"
     ]
    },
    {
     "name": "stdout",
     "output_type": "stream",
     "text": [
      "214150.KS 404 Client Error: Not Found for url: https://query2.finance.yahoo.com/v10/finance/quoteSummary/214150.KS?modules=summaryProfile%2CfinancialData%2CquoteType%2CdefaultKeyStatistics%2CassetProfile%2CsummaryDetail&ssl=true\n"
     ]
    },
    {
     "name": "stderr",
     "output_type": "stream",
     "text": [
      " 17%|█▋        | 171/998 [01:33<05:40,  2.43it/s]"
     ]
    },
    {
     "name": "stdout",
     "output_type": "stream",
     "text": [
      "240810.KS 404 Client Error: Not Found for url: https://query2.finance.yahoo.com/v10/finance/quoteSummary/240810.KS?modules=summaryProfile%2CfinancialData%2CquoteType%2CdefaultKeyStatistics%2CassetProfile%2CsummaryDetail&ssl=true\n"
     ]
    },
    {
     "name": "stderr",
     "output_type": "stream",
     "text": [
      " 17%|█▋        | 172/998 [01:33<05:02,  2.73it/s]"
     ]
    },
    {
     "name": "stdout",
     "output_type": "stream",
     "text": [
      "056190.KS 404 Client Error: Not Found for url: https://query2.finance.yahoo.com/v10/finance/quoteSummary/056190.KS?modules=summaryProfile%2CfinancialData%2CquoteType%2CdefaultKeyStatistics%2CassetProfile%2CsummaryDetail&ssl=true\n"
     ]
    },
    {
     "name": "stderr",
     "output_type": "stream",
     "text": [
      " 18%|█▊        | 175/998 [01:35<05:41,  2.41it/s]"
     ]
    },
    {
     "name": "stdout",
     "output_type": "stream",
     "text": [
      "145020.KS 404 Client Error: Not Found for url: https://query2.finance.yahoo.com/v10/finance/quoteSummary/145020.KS?modules=summaryProfile%2CfinancialData%2CquoteType%2CdefaultKeyStatistics%2CassetProfile%2CsummaryDetail&ssl=true\n"
     ]
    },
    {
     "name": "stderr",
     "output_type": "stream",
     "text": [
      " 19%|█▉        | 192/998 [01:44<06:19,  2.12it/s]"
     ]
    },
    {
     "name": "stdout",
     "output_type": "stream",
     "text": [
      "137400.KS 404 Client Error: Not Found for url: https://query2.finance.yahoo.com/v10/finance/quoteSummary/137400.KS?modules=summaryProfile%2CfinancialData%2CquoteType%2CdefaultKeyStatistics%2CassetProfile%2CsummaryDetail&ssl=true\n"
     ]
    },
    {
     "name": "stderr",
     "output_type": "stream",
     "text": [
      " 20%|██        | 203/998 [01:50<06:24,  2.07it/s]"
     ]
    },
    {
     "name": "stdout",
     "output_type": "stream",
     "text": [
      "039030.KS 404 Client Error: Not Found for url: https://query2.finance.yahoo.com/v10/finance/quoteSummary/039030.KS?modules=summaryProfile%2CfinancialData%2CquoteType%2CdefaultKeyStatistics%2CassetProfile%2CsummaryDetail&ssl=true\n"
     ]
    },
    {
     "name": "stderr",
     "output_type": "stream",
     "text": [
      " 21%|██        | 209/998 [01:53<06:07,  2.14it/s]"
     ]
    },
    {
     "name": "stdout",
     "output_type": "stream",
     "text": [
      "213420.KS 404 Client Error: Not Found for url: https://query2.finance.yahoo.com/v10/finance/quoteSummary/213420.KS?modules=summaryProfile%2CfinancialData%2CquoteType%2CdefaultKeyStatistics%2CassetProfile%2CsummaryDetail&ssl=true\n"
     ]
    },
    {
     "name": "stderr",
     "output_type": "stream",
     "text": [
      " 21%|██▏       | 213/998 [01:55<05:49,  2.24it/s]"
     ]
    },
    {
     "name": "stdout",
     "output_type": "stream",
     "text": [
      "214450.KS 404 Client Error: Not Found for url: https://query2.finance.yahoo.com/v10/finance/quoteSummary/214450.KS?modules=summaryProfile%2CfinancialData%2CquoteType%2CdefaultKeyStatistics%2CassetProfile%2CsummaryDetail&ssl=true\n"
     ]
    },
    {
     "name": "stderr",
     "output_type": "stream",
     "text": [
      " 21%|██▏       | 214/998 [01:55<05:06,  2.56it/s]"
     ]
    },
    {
     "name": "stdout",
     "output_type": "stream",
     "text": [
      "141080.KS 404 Client Error: Not Found for url: https://query2.finance.yahoo.com/v10/finance/quoteSummary/141080.KS?modules=summaryProfile%2CfinancialData%2CquoteType%2CdefaultKeyStatistics%2CassetProfile%2CsummaryDetail&ssl=true\n"
     ]
    },
    {
     "name": "stderr",
     "output_type": "stream",
     "text": [
      " 22%|██▏       | 215/998 [01:55<04:34,  2.85it/s]"
     ]
    },
    {
     "name": "stdout",
     "output_type": "stream",
     "text": [
      "003380.KS 404 Client Error: Not Found for url: https://query2.finance.yahoo.com/v10/finance/quoteSummary/003380.KS?modules=summaryProfile%2CfinancialData%2CquoteType%2CdefaultKeyStatistics%2CassetProfile%2CsummaryDetail&ssl=true\n"
     ]
    },
    {
     "name": "stderr",
     "output_type": "stream",
     "text": [
      " 23%|██▎       | 229/998 [02:04<06:30,  1.97it/s]"
     ]
    },
    {
     "name": "stdout",
     "output_type": "stream",
     "text": [
      "195940.KS 404 Client Error: Not Found for url: https://query2.finance.yahoo.com/v10/finance/quoteSummary/195940.KS?modules=summaryProfile%2CfinancialData%2CquoteType%2CdefaultKeyStatistics%2CassetProfile%2CsummaryDetail&ssl=true\n"
     ]
    },
    {
     "name": "stderr",
     "output_type": "stream",
     "text": [
      " 23%|██▎       | 233/998 [02:06<05:57,  2.14it/s]"
     ]
    },
    {
     "name": "stdout",
     "output_type": "stream",
     "text": [
      "098460.KS 404 Client Error: Not Found for url: https://query2.finance.yahoo.com/v10/finance/quoteSummary/098460.KS?modules=summaryProfile%2CfinancialData%2CquoteType%2CdefaultKeyStatistics%2CassetProfile%2CsummaryDetail&ssl=true\n"
     ]
    },
    {
     "name": "stderr",
     "output_type": "stream",
     "text": [
      " 25%|██▍       | 248/998 [02:14<05:59,  2.09it/s]"
     ]
    },
    {
     "name": "stdout",
     "output_type": "stream",
     "text": [
      "166090.KS 404 Client Error: Not Found for url: https://query2.finance.yahoo.com/v10/finance/quoteSummary/166090.KS?modules=summaryProfile%2CfinancialData%2CquoteType%2CdefaultKeyStatistics%2CassetProfile%2CsummaryDetail&ssl=true\n"
     ]
    },
    {
     "name": "stderr",
     "output_type": "stream",
     "text": [
      " 26%|██▋       | 264/998 [02:23<06:01,  2.03it/s]"
     ]
    },
    {
     "name": "stdout",
     "output_type": "stream",
     "text": [
      "215000.KS 404 Client Error: Not Found for url: https://query2.finance.yahoo.com/v10/finance/quoteSummary/215000.KS?modules=summaryProfile%2CfinancialData%2CquoteType%2CdefaultKeyStatistics%2CassetProfile%2CsummaryDetail&ssl=true\n"
     ]
    },
    {
     "name": "stderr",
     "output_type": "stream",
     "text": [
      " 27%|██▋       | 268/998 [02:25<05:33,  2.19it/s]"
     ]
    },
    {
     "name": "stdout",
     "output_type": "stream",
     "text": [
      "215200.KS 404 Client Error: Not Found for url: https://query2.finance.yahoo.com/v10/finance/quoteSummary/215200.KS?modules=summaryProfile%2CfinancialData%2CquoteType%2CdefaultKeyStatistics%2CassetProfile%2CsummaryDetail&ssl=true\n"
     ]
    },
    {
     "name": "stderr",
     "output_type": "stream",
     "text": [
      " 27%|██▋       | 274/998 [02:28<05:37,  2.15it/s]"
     ]
    },
    {
     "name": "stdout",
     "output_type": "stream",
     "text": [
      "086450.KS 404 Client Error: Not Found for url: https://query2.finance.yahoo.com/v10/finance/quoteSummary/086450.KS?modules=summaryProfile%2CfinancialData%2CquoteType%2CdefaultKeyStatistics%2CassetProfile%2CsummaryDetail&ssl=true\n"
     ]
    },
    {
     "name": "stderr",
     "output_type": "stream",
     "text": [
      " 28%|██▊       | 280/998 [02:31<05:39,  2.12it/s]"
     ]
    },
    {
     "name": "stdout",
     "output_type": "stream",
     "text": [
      "084370.KS 404 Client Error: Not Found for url: https://query2.finance.yahoo.com/v10/finance/quoteSummary/084370.KS?modules=summaryProfile%2CfinancialData%2CquoteType%2CdefaultKeyStatistics%2CassetProfile%2CsummaryDetail&ssl=true\n"
     ]
    },
    {
     "name": "stderr",
     "output_type": "stream",
     "text": [
      " 29%|██▊       | 286/998 [02:34<05:37,  2.11it/s]"
     ]
    },
    {
     "name": "stdout",
     "output_type": "stream",
     "text": [
      "074600.KS 404 Client Error: Not Found for url: https://query2.finance.yahoo.com/v10/finance/quoteSummary/074600.KS?modules=summaryProfile%2CfinancialData%2CquoteType%2CdefaultKeyStatistics%2CassetProfile%2CsummaryDetail&ssl=true\n"
     ]
    },
    {
     "name": "stderr",
     "output_type": "stream",
     "text": [
      " 29%|██▉       | 290/998 [02:36<05:14,  2.25it/s]"
     ]
    },
    {
     "name": "stdout",
     "output_type": "stream",
     "text": [
      "348210.KS 404 Client Error: Not Found for url: https://query2.finance.yahoo.com/v10/finance/quoteSummary/348210.KS?modules=summaryProfile%2CfinancialData%2CquoteType%2CdefaultKeyStatistics%2CassetProfile%2CsummaryDetail&ssl=true\n"
     ]
    },
    {
     "name": "stderr",
     "output_type": "stream",
     "text": [
      " 29%|██▉       | 292/998 [02:37<04:52,  2.42it/s]"
     ]
    },
    {
     "name": "stdout",
     "output_type": "stream",
     "text": [
      "046890.KS 404 Client Error: Not Found for url: https://query2.finance.yahoo.com/v10/finance/quoteSummary/046890.KS?modules=summaryProfile%2CfinancialData%2CquoteType%2CdefaultKeyStatistics%2CassetProfile%2CsummaryDetail&ssl=true\n"
     ]
    },
    {
     "name": "stderr",
     "output_type": "stream",
     "text": [
      " 30%|███       | 304/998 [02:43<05:35,  2.07it/s]"
     ]
    },
    {
     "name": "stdout",
     "output_type": "stream",
     "text": [
      "084850.KS 404 Client Error: Not Found for url: https://query2.finance.yahoo.com/v10/finance/quoteSummary/084850.KS?modules=summaryProfile%2CfinancialData%2CquoteType%2CdefaultKeyStatistics%2CassetProfile%2CsummaryDetail&ssl=true\n"
     ]
    },
    {
     "name": "stderr",
     "output_type": "stream",
     "text": [
      " 31%|███       | 305/998 [02:44<04:48,  2.40it/s]"
     ]
    },
    {
     "name": "stdout",
     "output_type": "stream",
     "text": [
      "036830.KS 404 Client Error: Not Found for url: https://query2.finance.yahoo.com/v10/finance/quoteSummary/036830.KS?modules=summaryProfile%2CfinancialData%2CquoteType%2CdefaultKeyStatistics%2CassetProfile%2CsummaryDetail&ssl=true\n"
     ]
    },
    {
     "name": "stderr",
     "output_type": "stream",
     "text": [
      " 31%|███       | 306/998 [02:44<04:21,  2.65it/s]"
     ]
    },
    {
     "name": "stdout",
     "output_type": "stream",
     "text": [
      "319660.KS 404 Client Error: Not Found for url: https://query2.finance.yahoo.com/v10/finance/quoteSummary/319660.KS?modules=summaryProfile%2CfinancialData%2CquoteType%2CdefaultKeyStatistics%2CassetProfile%2CsummaryDetail&ssl=true\n"
     ]
    },
    {
     "name": "stderr",
     "output_type": "stream",
     "text": [
      " 35%|███▍      | 347/998 [03:07<05:16,  2.05it/s]"
     ]
    },
    {
     "name": "stdout",
     "output_type": "stream",
     "text": [
      "091700.KS 404 Client Error: Not Found for url: https://query2.finance.yahoo.com/v10/finance/quoteSummary/091700.KS?modules=summaryProfile%2CfinancialData%2CquoteType%2CdefaultKeyStatistics%2CassetProfile%2CsummaryDetail&ssl=true\n"
     ]
    },
    {
     "name": "stderr",
     "output_type": "stream",
     "text": [
      " 36%|███▌      | 359/998 [03:13<05:03,  2.10it/s]"
     ]
    },
    {
     "name": "stdout",
     "output_type": "stream",
     "text": [
      "183300.KS 404 Client Error: Not Found for url: https://query2.finance.yahoo.com/v10/finance/quoteSummary/183300.KS?modules=summaryProfile%2CfinancialData%2CquoteType%2CdefaultKeyStatistics%2CassetProfile%2CsummaryDetail&ssl=true\n"
     ]
    },
    {
     "name": "stderr",
     "output_type": "stream",
     "text": [
      " 37%|███▋      | 367/998 [03:17<04:44,  2.22it/s]"
     ]
    },
    {
     "name": "stdout",
     "output_type": "stream",
     "text": [
      "095610.KS 404 Client Error: Not Found for url: https://query2.finance.yahoo.com/v10/finance/quoteSummary/095610.KS?modules=summaryProfile%2CfinancialData%2CquoteType%2CdefaultKeyStatistics%2CassetProfile%2CsummaryDetail&ssl=true\n"
     ]
    },
    {
     "name": "stderr",
     "output_type": "stream",
     "text": [
      " 37%|███▋      | 371/998 [03:19<04:43,  2.21it/s]"
     ]
    },
    {
     "name": "stdout",
     "output_type": "stream",
     "text": [
      "131290.KS 404 Client Error: Not Found for url: https://query2.finance.yahoo.com/v10/finance/quoteSummary/131290.KS?modules=summaryProfile%2CfinancialData%2CquoteType%2CdefaultKeyStatistics%2CassetProfile%2CsummaryDetail&ssl=true\n"
     ]
    },
    {
     "name": "stderr",
     "output_type": "stream",
     "text": [
      " 38%|███▊      | 380/998 [03:24<04:53,  2.11it/s]"
     ]
    },
    {
     "name": "stdout",
     "output_type": "stream",
     "text": [
      "243070.KS 404 Client Error: Not Found for url: https://query2.finance.yahoo.com/v10/finance/quoteSummary/243070.KS?modules=summaryProfile%2CfinancialData%2CquoteType%2CdefaultKeyStatistics%2CassetProfile%2CsummaryDetail&ssl=true\n"
     ]
    },
    {
     "name": "stderr",
     "output_type": "stream",
     "text": [
      "100%|██████████| 998/998 [09:33<00:00,  1.74it/s]"
     ]
    },
    {
     "name": "stdout",
     "output_type": "stream",
     "text": [
      "Success:   960 /   998\n"
     ]
    },
    {
     "name": "stderr",
     "output_type": "stream",
     "text": [
      "\n"
     ]
    }
   ],
   "source": [
    "meta_data = []\n",
    "start = time()\n",
    "for code in tqdm(krx):\n",
    "    try:\n",
    "        yf_object = yf.Ticker(code)\n",
    "        s = pd.Series(yf_object.get_info())\n",
    "        meta_data.append(s.to_frame(code))\n",
    "    except Exception as e:\n",
    "        print(code, e)\n",
    "\n",
    "print(f'Success: {len(meta_data):5,.0f} / {len(krx):5,.0f}')"
   ]
  },
  {
   "attachments": {},
   "cell_type": "markdown",
   "metadata": {},
   "source": [
    "meta_data"
   ]
  },
  {
   "cell_type": "code",
   "execution_count": 15,
   "metadata": {},
   "outputs": [
    {
     "name": "stdout",
     "output_type": "stream",
     "text": [
      "<class 'pandas.core.frame.DataFrame'>\n",
      "Index: 960 entries, 005930.KS to 000547.KS\n",
      "Columns: 117 entries, address1 to fullTimeEmployees\n",
      "dtypes: float64(89), int64(1), object(27)\n",
      "memory usage: 885.0+ KB\n"
     ]
    }
   ],
   "source": [
    "df = pd.concat(meta_data, axis=1).dropna(how='all').T\n",
    "df = df.apply(pd.to_numeric, errors='ignore')\n",
    "df.info(show_counts=True)"
   ]
  },
  {
   "cell_type": "code",
   "execution_count": 16,
   "metadata": {},
   "outputs": [
    {
     "data": {
      "text/plain": [
       "WindowsPath('KR2_results/asset_pricing')"
      ]
     },
     "execution_count": 16,
     "metadata": {},
     "output_type": "execute_result"
    }
   ],
   "source": [
    "results_path"
   ]
  },
  {
   "cell_type": "code",
   "execution_count": 17,
   "metadata": {},
   "outputs": [],
   "source": [
    "df.to_hdf(results_path / 'data.h5', 'stocks/info')"
   ]
  },
  {
   "attachments": {},
   "cell_type": "markdown",
   "metadata": {},
   "source": [
    "## Download adjusted price data using yfinance"
   ]
  },
  {
   "cell_type": "code",
   "execution_count": 18,
   "metadata": {
    "ExecuteTime": {
     "end_time": "2021-02-24T10:00:48.703840Z",
     "start_time": "2021-02-24T09:46:13.913231Z"
    },
    "scrolled": false
   },
   "outputs": [
    {
     "name": "stdout",
     "output_type": "stream",
     "text": [
      "[*********************100%***********************]  100 of 100 completed\n",
      "\n",
      "6 Failed downloads:\n",
      "- 247540.KS: No timezone found, symbol may be delisted\n",
      "- 015760.KS: No data found for this date range, symbol may be delisted\n",
      "- 035900.KS: No timezone found, symbol may be delisted\n",
      "- 293490.KS: No timezone found, symbol may be delisted\n",
      "- 066970.KS: No timezone found, symbol may be delisted\n",
      "- 091990.KS: No timezone found, symbol may be delisted\n",
      "Success:     1/    1 | To go: 00:01:09 (  898)\n",
      "[*********************100%***********************]  100 of 100 completed\n",
      "\n",
      "12 Failed downloads:\n",
      "- 263750.KS: No timezone found, symbol may be delisted\n",
      "- 240810.KS: No timezone found, symbol may be delisted\n",
      "- 278280.KS: No timezone found, symbol may be delisted\n",
      "- 056190.KS: No timezone found, symbol may be delisted\n",
      "- 137400.KS: No timezone found, symbol may be delisted\n",
      "- 022100.KS: No timezone found, symbol may be delisted\n",
      "- 237690.KS: No timezone found, symbol may be delisted\n",
      "- 196170.KS: No timezone found, symbol may be delisted\n",
      "- 058470.KS: No timezone found, symbol may be delisted\n",
      "- 145020.KS: No timezone found, symbol may be delisted\n",
      "- 214150.KS: No timezone found, symbol may be delisted\n",
      "- 035760.KS: No timezone found, symbol may be delisted\n",
      "Success:     2/    2 | To go: 00:00:55 (  798)\n",
      "[*********************100%***********************]  100 of 100 completed\n",
      "\n",
      "18 Failed downloads:\n",
      "- 086450.KS: No timezone found, symbol may be delisted\n",
      "- 067310.KS: No timezone found, symbol may be delisted\n",
      "- 348210.KS: No timezone found, symbol may be delisted\n",
      "- 074600.KS: No timezone found, symbol may be delisted\n",
      "- 141080.KS: No timezone found, symbol may be delisted\n",
      "- 195940.KS: No timezone found, symbol may be delisted\n",
      "- 036930.KS: No timezone found, symbol may be delisted\n",
      "- 215200.KS: No timezone found, symbol may be delisted\n",
      "- 084370.KS: No timezone found, symbol may be delisted\n",
      "- 272290.KS: No timezone found, symbol may be delisted\n",
      "- 046890.KS: No timezone found, symbol may be delisted\n",
      "- 215000.KS: No timezone found, symbol may be delisted\n",
      "- 213420.KS: No timezone found, symbol may be delisted\n",
      "- 214450.KS: No timezone found, symbol may be delisted\n",
      "- 039030.KS: No timezone found, symbol may be delisted\n",
      "- 003380.KS: No timezone found, symbol may be delisted\n",
      "- 098460.KS: No timezone found, symbol may be delisted\n",
      "- 166090.KS: No timezone found, symbol may be delisted\n",
      "Success:     3/    3 | To go: 00:01:04 (  698)\n",
      "[*********************100%***********************]  100 of 100 completed\n",
      "\n",
      "11 Failed downloads:\n",
      "- 091700.KS: No timezone found, symbol may be delisted\n",
      "- 183300.KS: No timezone found, symbol may be delisted\n",
      "- 084850.KS: No timezone found, symbol may be delisted\n",
      "- 319660.KS: No timezone found, symbol may be delisted\n",
      "- 131290.KS: No timezone found, symbol may be delisted\n",
      "- 036830.KS: No timezone found, symbol may be delisted\n",
      "- 095610.KS: No timezone found, symbol may be delisted\n",
      "- 243070.KS: No timezone found, symbol may be delisted\n",
      "- 060250.KS: No timezone found, symbol may be delisted\n",
      "- 267980.KS: No timezone found, symbol may be delisted\n",
      "- 230360.KS: No timezone found, symbol may be delisted\n",
      "Success:     4/    4 | To go: 00:00:50 (  598)\n",
      "[*********************100%***********************]  100 of 100 completed\n",
      "Success:     5/    5 | To go: 00:00:39 (  498)\n",
      "[*********************100%***********************]  100 of 100 completed\n",
      "Success:     6/    6 | To go: 00:00:30 (  398)\n",
      "[*********************100%***********************]  100 of 100 completed\n",
      "Success:     7/    7 | To go: 00:00:25 (  298)\n",
      "[*********************100%***********************]  100 of 100 completed\n",
      "Success:     8/    8 | To go: 00:00:16 (  198)\n",
      "[*********************100%***********************]  100 of 100 completed\n",
      "Success:     9/    9 | To go: 00:00:08 (   98)\n",
      "[*********************100%***********************]  98 of 98 completed\n",
      "Success:    10/   10 | To go: -1:59:60 (   -2)\n"
     ]
    }
   ],
   "source": [
    "prices_adj = []\n",
    "start = time()\n",
    "for i, chunk in enumerate(chunks(krx, 100), 1):\n",
    "    prices_adj.append(yf.download(chunk, period='max', auto_adjust=True).stack(-1))\n",
    "\n",
    "    per_ticker = (time()-start) / (i * 100)\n",
    "    to_do = n - (i * 100)\n",
    "    to_go = to_do * per_ticker    \n",
    "    print(f'Success: {len(prices_adj):5,.0f}/{i:5,.0f} | To go: {format_time(to_go)} ({to_do:5,.0f})')"
   ]
  },
  {
   "cell_type": "code",
   "execution_count": 19,
   "metadata": {
    "ExecuteTime": {
     "end_time": "2021-02-24T10:01:19.400460Z",
     "start_time": "2021-02-24T10:00:48.704777Z"
    }
   },
   "outputs": [],
   "source": [
    "prices_adj = (pd.concat(prices_adj)\n",
    "              .dropna(how='all', axis=1)\n",
    "              .rename(columns=str.lower)\n",
    "              .swaplevel())"
   ]
  },
  {
   "cell_type": "code",
   "execution_count": 20,
   "metadata": {
    "ExecuteTime": {
     "end_time": "2021-02-24T10:01:19.403136Z",
     "start_time": "2021-02-24T10:01:19.401480Z"
    }
   },
   "outputs": [],
   "source": [
    "prices_adj.index.names = ['ticker', 'date']"
   ]
  },
  {
   "cell_type": "code",
   "execution_count": 21,
   "metadata": {
    "ExecuteTime": {
     "end_time": "2021-02-24T10:01:19.524404Z",
     "start_time": "2021-02-24T10:01:19.403934Z"
    }
   },
   "outputs": [
    {
     "data": {
      "text/plain": [
       "951"
      ]
     },
     "execution_count": 21,
     "metadata": {},
     "output_type": "execute_result"
    }
   ],
   "source": [
    "len(prices_adj.index.unique('ticker'))"
   ]
  },
  {
   "attachments": {},
   "cell_type": "markdown",
   "metadata": {},
   "source": [
    "### Remove outliers"
   ]
  },
  {
   "cell_type": "code",
   "execution_count": 22,
   "metadata": {
    "ExecuteTime": {
     "end_time": "2021-02-24T10:01:26.721497Z",
     "start_time": "2021-02-24T10:01:19.525371Z"
    }
   },
   "outputs": [
    {
     "data": {
      "text/plain": [
       "69"
      ]
     },
     "execution_count": 22,
     "metadata": {},
     "output_type": "execute_result"
    }
   ],
   "source": [
    "df = prices_adj.close.unstack('ticker')\n",
    "pmax = df.pct_change().max()\n",
    "pmin = df.pct_change().min()\n",
    "to_drop = pmax[pmax > 1].index.union(pmin[pmin<-1].index)\n",
    "len(to_drop)"
   ]
  },
  {
   "cell_type": "code",
   "execution_count": 23,
   "metadata": {
    "ExecuteTime": {
     "end_time": "2021-02-24T10:02:48.974317Z",
     "start_time": "2021-02-24T10:01:26.722329Z"
    }
   },
   "outputs": [],
   "source": [
    "prices_adj = prices_adj.drop(to_drop, level='ticker')"
   ]
  },
  {
   "cell_type": "code",
   "execution_count": 24,
   "metadata": {
    "ExecuteTime": {
     "end_time": "2021-02-24T10:02:49.069890Z",
     "start_time": "2021-02-24T10:02:48.975147Z"
    }
   },
   "outputs": [
    {
     "data": {
      "text/plain": [
       "882"
      ]
     },
     "execution_count": 24,
     "metadata": {},
     "output_type": "execute_result"
    }
   ],
   "source": [
    "len(prices_adj.index.unique('ticker'))"
   ]
  },
  {
   "cell_type": "code",
   "execution_count": 25,
   "metadata": {},
   "outputs": [
    {
     "data": {
      "text/html": [
       "<div>\n",
       "<style scoped>\n",
       "    .dataframe tbody tr th:only-of-type {\n",
       "        vertical-align: middle;\n",
       "    }\n",
       "\n",
       "    .dataframe tbody tr th {\n",
       "        vertical-align: top;\n",
       "    }\n",
       "\n",
       "    .dataframe thead th {\n",
       "        text-align: right;\n",
       "    }\n",
       "</style>\n",
       "<table border=\"1\" class=\"dataframe\">\n",
       "  <thead>\n",
       "    <tr style=\"text-align: right;\">\n",
       "      <th></th>\n",
       "      <th></th>\n",
       "      <th>close</th>\n",
       "      <th>high</th>\n",
       "      <th>low</th>\n",
       "      <th>open</th>\n",
       "      <th>volume</th>\n",
       "    </tr>\n",
       "    <tr>\n",
       "      <th>ticker</th>\n",
       "      <th>date</th>\n",
       "      <th></th>\n",
       "      <th></th>\n",
       "      <th></th>\n",
       "      <th></th>\n",
       "      <th></th>\n",
       "    </tr>\n",
       "  </thead>\n",
       "  <tbody>\n",
       "    <tr>\n",
       "      <th>000100.KS</th>\n",
       "      <th>2000-01-04</th>\n",
       "      <td>3359.394287</td>\n",
       "      <td>3469.774594</td>\n",
       "      <td>3081.044475</td>\n",
       "      <td>3081.044475</td>\n",
       "      <td>728643.0</td>\n",
       "    </tr>\n",
       "    <tr>\n",
       "      <th>000270.KS</th>\n",
       "      <th>2000-01-04</th>\n",
       "      <td>5074.385254</td>\n",
       "      <td>5074.385254</td>\n",
       "      <td>4832.747722</td>\n",
       "      <td>4901.787017</td>\n",
       "      <td>636300.0</td>\n",
       "    </tr>\n",
       "    <tr>\n",
       "      <th>000720.KS</th>\n",
       "      <th>2000-01-04</th>\n",
       "      <td>283844.906250</td>\n",
       "      <td>283844.906250</td>\n",
       "      <td>258453.027565</td>\n",
       "      <td>258453.027565</td>\n",
       "      <td>70240.0</td>\n",
       "    </tr>\n",
       "    <tr>\n",
       "      <th>000810.KS</th>\n",
       "      <th>2000-01-04</th>\n",
       "      <td>21973.476562</td>\n",
       "      <td>22570.286194</td>\n",
       "      <td>19640.491416</td>\n",
       "      <td>19640.491416</td>\n",
       "      <td>271254.0</td>\n",
       "    </tr>\n",
       "    <tr>\n",
       "      <th>001450.KS</th>\n",
       "      <th>2000-01-04</th>\n",
       "      <td>791.158936</td>\n",
       "      <td>811.978908</td>\n",
       "      <td>705.797050</td>\n",
       "      <td>705.797050</td>\n",
       "      <td>1399000.0</td>\n",
       "    </tr>\n",
       "    <tr>\n",
       "      <th>...</th>\n",
       "      <th>...</th>\n",
       "      <td>...</td>\n",
       "      <td>...</td>\n",
       "      <td>...</td>\n",
       "      <td>...</td>\n",
       "      <td>...</td>\n",
       "    </tr>\n",
       "    <tr>\n",
       "      <th>35320K.KS</th>\n",
       "      <th>2023-05-08</th>\n",
       "      <td>10150.000000</td>\n",
       "      <td>10200.000000</td>\n",
       "      <td>10100.000000</td>\n",
       "      <td>10160.000000</td>\n",
       "      <td>8258.0</td>\n",
       "    </tr>\n",
       "    <tr>\n",
       "      <th>36328K.KS</th>\n",
       "      <th>2023-05-08</th>\n",
       "      <td>10520.000000</td>\n",
       "      <td>10590.000000</td>\n",
       "      <td>10450.000000</td>\n",
       "      <td>10500.000000</td>\n",
       "      <td>9188.0</td>\n",
       "    </tr>\n",
       "    <tr>\n",
       "      <th>38380K.KS</th>\n",
       "      <th>2023-05-08</th>\n",
       "      <td>11570.000000</td>\n",
       "      <td>11740.000000</td>\n",
       "      <td>11390.000000</td>\n",
       "      <td>11740.000000</td>\n",
       "      <td>11604.0</td>\n",
       "    </tr>\n",
       "    <tr>\n",
       "      <th>45014K.KS</th>\n",
       "      <th>2023-05-08</th>\n",
       "      <td>9700.000000</td>\n",
       "      <td>9980.000000</td>\n",
       "      <td>9700.000000</td>\n",
       "      <td>9980.000000</td>\n",
       "      <td>10562.0</td>\n",
       "    </tr>\n",
       "    <tr>\n",
       "      <th>45226K.KS</th>\n",
       "      <th>2023-05-08</th>\n",
       "      <td>9630.000000</td>\n",
       "      <td>10550.000000</td>\n",
       "      <td>9630.000000</td>\n",
       "      <td>10550.000000</td>\n",
       "      <td>103149.0</td>\n",
       "    </tr>\n",
       "  </tbody>\n",
       "</table>\n",
       "<p>3817016 rows × 5 columns</p>\n",
       "</div>"
      ],
      "text/plain": [
       "                              close           high            low  \\\n",
       "ticker    date                                                      \n",
       "000100.KS 2000-01-04    3359.394287    3469.774594    3081.044475   \n",
       "000270.KS 2000-01-04    5074.385254    5074.385254    4832.747722   \n",
       "000720.KS 2000-01-04  283844.906250  283844.906250  258453.027565   \n",
       "000810.KS 2000-01-04   21973.476562   22570.286194   19640.491416   \n",
       "001450.KS 2000-01-04     791.158936     811.978908     705.797050   \n",
       "...                             ...            ...            ...   \n",
       "35320K.KS 2023-05-08   10150.000000   10200.000000   10100.000000   \n",
       "36328K.KS 2023-05-08   10520.000000   10590.000000   10450.000000   \n",
       "38380K.KS 2023-05-08   11570.000000   11740.000000   11390.000000   \n",
       "45014K.KS 2023-05-08    9700.000000    9980.000000    9700.000000   \n",
       "45226K.KS 2023-05-08    9630.000000   10550.000000    9630.000000   \n",
       "\n",
       "                               open     volume  \n",
       "ticker    date                                  \n",
       "000100.KS 2000-01-04    3081.044475   728643.0  \n",
       "000270.KS 2000-01-04    4901.787017   636300.0  \n",
       "000720.KS 2000-01-04  258453.027565    70240.0  \n",
       "000810.KS 2000-01-04   19640.491416   271254.0  \n",
       "001450.KS 2000-01-04     705.797050  1399000.0  \n",
       "...                             ...        ...  \n",
       "35320K.KS 2023-05-08   10160.000000     8258.0  \n",
       "36328K.KS 2023-05-08   10500.000000     9188.0  \n",
       "38380K.KS 2023-05-08   11740.000000    11604.0  \n",
       "45014K.KS 2023-05-08    9980.000000    10562.0  \n",
       "45226K.KS 2023-05-08   10550.000000   103149.0  \n",
       "\n",
       "[3817016 rows x 5 columns]"
      ]
     },
     "execution_count": 25,
     "metadata": {},
     "output_type": "execute_result"
    }
   ],
   "source": [
    "prices_adj"
   ]
  },
  {
   "cell_type": "code",
   "execution_count": 26,
   "metadata": {
    "ExecuteTime": {
     "end_time": "2021-02-24T10:02:56.784555Z",
     "start_time": "2021-02-24T10:02:49.070735Z"
    }
   },
   "outputs": [],
   "source": [
    "prices_adj.sort_index().loc[idx[:, '2000': '2023'], :].to_hdf(results_path / 'data.h5', \n",
    "                                                              'stocks/prices/adjusted')"
   ]
  },
  {
   "cell_type": "code",
   "execution_count": 27,
   "metadata": {},
   "outputs": [
    {
     "data": {
      "text/html": [
       "<div>\n",
       "<style scoped>\n",
       "    .dataframe tbody tr th:only-of-type {\n",
       "        vertical-align: middle;\n",
       "    }\n",
       "\n",
       "    .dataframe tbody tr th {\n",
       "        vertical-align: top;\n",
       "    }\n",
       "\n",
       "    .dataframe thead th {\n",
       "        text-align: right;\n",
       "    }\n",
       "</style>\n",
       "<table border=\"1\" class=\"dataframe\">\n",
       "  <thead>\n",
       "    <tr style=\"text-align: right;\">\n",
       "      <th></th>\n",
       "      <th></th>\n",
       "      <th>close</th>\n",
       "      <th>high</th>\n",
       "      <th>low</th>\n",
       "      <th>open</th>\n",
       "      <th>volume</th>\n",
       "    </tr>\n",
       "    <tr>\n",
       "      <th>ticker</th>\n",
       "      <th>date</th>\n",
       "      <th></th>\n",
       "      <th></th>\n",
       "      <th></th>\n",
       "      <th></th>\n",
       "      <th></th>\n",
       "    </tr>\n",
       "  </thead>\n",
       "  <tbody>\n",
       "    <tr>\n",
       "      <th>000100.KS</th>\n",
       "      <th>2000-01-04</th>\n",
       "      <td>3359.394287</td>\n",
       "      <td>3469.774594</td>\n",
       "      <td>3081.044475</td>\n",
       "      <td>3081.044475</td>\n",
       "      <td>728643.0</td>\n",
       "    </tr>\n",
       "    <tr>\n",
       "      <th>000270.KS</th>\n",
       "      <th>2000-01-04</th>\n",
       "      <td>5074.385254</td>\n",
       "      <td>5074.385254</td>\n",
       "      <td>4832.747722</td>\n",
       "      <td>4901.787017</td>\n",
       "      <td>636300.0</td>\n",
       "    </tr>\n",
       "    <tr>\n",
       "      <th>000720.KS</th>\n",
       "      <th>2000-01-04</th>\n",
       "      <td>283844.906250</td>\n",
       "      <td>283844.906250</td>\n",
       "      <td>258453.027565</td>\n",
       "      <td>258453.027565</td>\n",
       "      <td>70240.0</td>\n",
       "    </tr>\n",
       "    <tr>\n",
       "      <th>000810.KS</th>\n",
       "      <th>2000-01-04</th>\n",
       "      <td>21973.476562</td>\n",
       "      <td>22570.286194</td>\n",
       "      <td>19640.491416</td>\n",
       "      <td>19640.491416</td>\n",
       "      <td>271254.0</td>\n",
       "    </tr>\n",
       "    <tr>\n",
       "      <th>001450.KS</th>\n",
       "      <th>2000-01-04</th>\n",
       "      <td>791.158936</td>\n",
       "      <td>811.978908</td>\n",
       "      <td>705.797050</td>\n",
       "      <td>705.797050</td>\n",
       "      <td>1399000.0</td>\n",
       "    </tr>\n",
       "    <tr>\n",
       "      <th>...</th>\n",
       "      <th>...</th>\n",
       "      <td>...</td>\n",
       "      <td>...</td>\n",
       "      <td>...</td>\n",
       "      <td>...</td>\n",
       "      <td>...</td>\n",
       "    </tr>\n",
       "    <tr>\n",
       "      <th>35320K.KS</th>\n",
       "      <th>2023-05-08</th>\n",
       "      <td>10150.000000</td>\n",
       "      <td>10200.000000</td>\n",
       "      <td>10100.000000</td>\n",
       "      <td>10160.000000</td>\n",
       "      <td>8258.0</td>\n",
       "    </tr>\n",
       "    <tr>\n",
       "      <th>36328K.KS</th>\n",
       "      <th>2023-05-08</th>\n",
       "      <td>10520.000000</td>\n",
       "      <td>10590.000000</td>\n",
       "      <td>10450.000000</td>\n",
       "      <td>10500.000000</td>\n",
       "      <td>9188.0</td>\n",
       "    </tr>\n",
       "    <tr>\n",
       "      <th>38380K.KS</th>\n",
       "      <th>2023-05-08</th>\n",
       "      <td>11570.000000</td>\n",
       "      <td>11740.000000</td>\n",
       "      <td>11390.000000</td>\n",
       "      <td>11740.000000</td>\n",
       "      <td>11604.0</td>\n",
       "    </tr>\n",
       "    <tr>\n",
       "      <th>45014K.KS</th>\n",
       "      <th>2023-05-08</th>\n",
       "      <td>9700.000000</td>\n",
       "      <td>9980.000000</td>\n",
       "      <td>9700.000000</td>\n",
       "      <td>9980.000000</td>\n",
       "      <td>10562.0</td>\n",
       "    </tr>\n",
       "    <tr>\n",
       "      <th>45226K.KS</th>\n",
       "      <th>2023-05-08</th>\n",
       "      <td>9630.000000</td>\n",
       "      <td>10550.000000</td>\n",
       "      <td>9630.000000</td>\n",
       "      <td>10550.000000</td>\n",
       "      <td>103149.0</td>\n",
       "    </tr>\n",
       "  </tbody>\n",
       "</table>\n",
       "<p>3817016 rows × 5 columns</p>\n",
       "</div>"
      ],
      "text/plain": [
       "                              close           high            low  \\\n",
       "ticker    date                                                      \n",
       "000100.KS 2000-01-04    3359.394287    3469.774594    3081.044475   \n",
       "000270.KS 2000-01-04    5074.385254    5074.385254    4832.747722   \n",
       "000720.KS 2000-01-04  283844.906250  283844.906250  258453.027565   \n",
       "000810.KS 2000-01-04   21973.476562   22570.286194   19640.491416   \n",
       "001450.KS 2000-01-04     791.158936     811.978908     705.797050   \n",
       "...                             ...            ...            ...   \n",
       "35320K.KS 2023-05-08   10150.000000   10200.000000   10100.000000   \n",
       "36328K.KS 2023-05-08   10520.000000   10590.000000   10450.000000   \n",
       "38380K.KS 2023-05-08   11570.000000   11740.000000   11390.000000   \n",
       "45014K.KS 2023-05-08    9700.000000    9980.000000    9700.000000   \n",
       "45226K.KS 2023-05-08    9630.000000   10550.000000    9630.000000   \n",
       "\n",
       "                               open     volume  \n",
       "ticker    date                                  \n",
       "000100.KS 2000-01-04    3081.044475   728643.0  \n",
       "000270.KS 2000-01-04    4901.787017   636300.0  \n",
       "000720.KS 2000-01-04  258453.027565    70240.0  \n",
       "000810.KS 2000-01-04   19640.491416   271254.0  \n",
       "001450.KS 2000-01-04     705.797050  1399000.0  \n",
       "...                             ...        ...  \n",
       "35320K.KS 2023-05-08   10160.000000     8258.0  \n",
       "36328K.KS 2023-05-08   10500.000000     9188.0  \n",
       "38380K.KS 2023-05-08   11740.000000    11604.0  \n",
       "45014K.KS 2023-05-08    9980.000000    10562.0  \n",
       "45226K.KS 2023-05-08   10550.000000   103149.0  \n",
       "\n",
       "[3817016 rows x 5 columns]"
      ]
     },
     "execution_count": 27,
     "metadata": {},
     "output_type": "execute_result"
    }
   ],
   "source": [
    "prices_adj"
   ]
  },
  {
   "cell_type": "code",
   "execution_count": null,
   "metadata": {},
   "outputs": [],
   "source": []
  }
 ],
 "metadata": {
  "kernelspec": {
   "display_name": "finance",
   "language": "python",
   "name": "python3"
  },
  "language_info": {
   "codemirror_mode": {
    "name": "ipython",
    "version": 3
   },
   "file_extension": ".py",
   "mimetype": "text/x-python",
   "name": "python",
   "nbconvert_exporter": "python",
   "pygments_lexer": "ipython3",
   "version": "3.8.8"
  },
  "toc": {
   "base_numbering": 1,
   "nav_menu": {},
   "number_sections": true,
   "sideBar": true,
   "skip_h1_title": true,
   "title_cell": "Table of Contents",
   "title_sidebar": "Contents",
   "toc_cell": false,
   "toc_position": {},
   "toc_section_display": true,
   "toc_window_display": true
  },
  "vscode": {
   "interpreter": {
    "hash": "9fe9e6db701ded81cc03a408b6c0b9feb741cf499c165361f3878077b7c94d2a"
   }
  }
 },
 "nbformat": 4,
 "nbformat_minor": 4
}
