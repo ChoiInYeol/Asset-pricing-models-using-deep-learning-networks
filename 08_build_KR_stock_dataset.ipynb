{
 "cells": [
  {
   "attachments": {},
   "cell_type": "markdown",
   "metadata": {},
   "source": [
    "# Download historical equity data for NASDAQ stocks from yahoo finance"
   ]
  },
  {
   "cell_type": "code",
   "execution_count": 1,
   "metadata": {
    "ExecuteTime": {
     "end_time": "2021-02-24T03:35:10.028380Z",
     "start_time": "2021-02-24T03:35:10.026213Z"
    }
   },
   "outputs": [],
   "source": [
    "import warnings\n",
    "warnings.filterwarnings('ignore')"
   ]
  },
  {
   "cell_type": "code",
   "execution_count": 2,
   "metadata": {
    "ExecuteTime": {
     "end_time": "2021-02-24T03:35:10.259404Z",
     "start_time": "2021-02-24T03:35:10.030004Z"
    }
   },
   "outputs": [],
   "source": [
    "from time import time\n",
    "from tqdm import tqdm\n",
    "from pathlib import Path\n",
    "import pandas as pd\n",
    "import FinanceDataReader as fdr\n",
    "import yfinance as yf"
   ]
  },
  {
   "cell_type": "code",
   "execution_count": 3,
   "metadata": {
    "ExecuteTime": {
     "end_time": "2021-02-24T03:35:10.263767Z",
     "start_time": "2021-02-24T03:35:10.261678Z"
    }
   },
   "outputs": [],
   "source": [
    "idx = pd.IndexSlice"
   ]
  },
  {
   "cell_type": "code",
   "execution_count": 4,
   "metadata": {
    "ExecuteTime": {
     "end_time": "2021-02-24T03:35:10.273874Z",
     "start_time": "2021-02-24T03:35:10.264725Z"
    }
   },
   "outputs": [],
   "source": [
    "results_path = Path('KR2_results', 'asset_pricing')\n",
    "if not results_path.exists():\n",
    "    results_path.mkdir(parents=True)"
   ]
  },
  {
   "cell_type": "code",
   "execution_count": 5,
   "metadata": {
    "ExecuteTime": {
     "end_time": "2021-02-24T03:35:10.282293Z",
     "start_time": "2021-02-24T03:35:10.274735Z"
    }
   },
   "outputs": [],
   "source": [
    "def chunks(l, n): \n",
    "    for i in range(0, len(l), n):  \n",
    "        yield l[i:i + n] "
   ]
  },
  {
   "cell_type": "code",
   "execution_count": 6,
   "metadata": {
    "ExecuteTime": {
     "end_time": "2021-02-24T03:35:10.290666Z",
     "start_time": "2021-02-24T03:35:10.283784Z"
    }
   },
   "outputs": [],
   "source": [
    "def format_time(t):\n",
    "    \"\"\"Return a formatted time string 'HH:MM:SS\n",
    "    based on a numeric time() value\"\"\"\n",
    "    m, s = divmod(t, 60)\n",
    "    h, m = divmod(m, 60)\n",
    "    return f'{h:0>2.0f}:{m:0>2.0f}:{s:0>2.0f}'"
   ]
  },
  {
   "attachments": {},
   "cell_type": "markdown",
   "metadata": {},
   "source": [
    "## Get KRX symbols"
   ]
  },
  {
   "cell_type": "code",
   "execution_count": 7,
   "metadata": {},
   "outputs": [
    {
     "name": "stdout",
     "output_type": "stream",
     "text": [
      "# Symbols: 999\n"
     ]
    }
   ],
   "source": [
    "krx = fdr.StockListing('KRX')\n",
    "krx = krx[krx[\"Market\"] != \"KONEX\"]\n",
    "krx = krx[krx[\"Market\"] != \"KOSDAQ\"]\n",
    "krx['Code'] = krx['Code'] + '.' + krx['Market'].apply(lambda x: 'KS')\n",
    "krx = krx[\"Code\"].to_list()\n",
    "n = len(krx)\n",
    "print(f'# Symbols: {n:,.0f}')"
   ]
  },
  {
   "attachments": {},
   "cell_type": "markdown",
   "metadata": {},
   "source": [
    "## Download metadata from yahoo finance"
   ]
  },
  {
   "attachments": {},
   "cell_type": "markdown",
   "metadata": {},
   "source": [
    "### NASDAQ symbols"
   ]
  },
  {
   "cell_type": "code",
   "execution_count": 8,
   "metadata": {
    "ExecuteTime": {
     "end_time": "2021-02-24T03:35:30.818647Z",
     "start_time": "2021-02-24T03:35:11.397335Z"
    }
   },
   "outputs": [],
   "source": [
    "yf_codes = yf.Tickers(krx)"
   ]
  },
  {
   "cell_type": "code",
   "execution_count": 9,
   "metadata": {},
   "outputs": [
    {
     "name": "stderr",
     "output_type": "stream",
     "text": [
      "100%|██████████| 999/999 [09:58<00:00,  1.67it/s] "
     ]
    },
    {
     "name": "stdout",
     "output_type": "stream",
     "text": [
      "Success:   999 /   999\n"
     ]
    },
    {
     "name": "stderr",
     "output_type": "stream",
     "text": [
      "\n"
     ]
    }
   ],
   "source": [
    "meta_data = []\n",
    "start = time()\n",
    "for code in tqdm(krx):\n",
    "    try:\n",
    "        yf_object = yf.Ticker(code)\n",
    "        s = pd.Series(yf_object.get_info())\n",
    "        meta_data.append(s.to_frame(code))\n",
    "    except Exception as e:\n",
    "        print(code, e)\n",
    "\n",
    "print(f'Success: {len(meta_data):5,.0f} / {len(krx):5,.0f}')"
   ]
  },
  {
   "attachments": {},
   "cell_type": "markdown",
   "metadata": {},
   "source": [
    "meta_data"
   ]
  },
  {
   "cell_type": "code",
   "execution_count": 10,
   "metadata": {},
   "outputs": [
    {
     "name": "stdout",
     "output_type": "stream",
     "text": [
      "<class 'pandas.core.frame.DataFrame'>\n",
      "Index: 999 entries, 005930.KS to 001525.KS\n",
      "Columns: 118 entries, address1 to openInterest\n",
      "dtypes: float64(89), int64(1), object(28)\n",
      "memory usage: 928.8+ KB\n"
     ]
    }
   ],
   "source": [
    "df = pd.concat(meta_data, axis=1).dropna(how='all').T\n",
    "df = df.apply(pd.to_numeric, errors='ignore')\n",
    "df.info(show_counts=True)"
   ]
  },
  {
   "cell_type": "code",
   "execution_count": 11,
   "metadata": {},
   "outputs": [
    {
     "data": {
      "text/plain": [
       "WindowsPath('KR2_results/asset_pricing')"
      ]
     },
     "execution_count": 11,
     "metadata": {},
     "output_type": "execute_result"
    }
   ],
   "source": [
    "results_path"
   ]
  },
  {
   "cell_type": "code",
   "execution_count": 13,
   "metadata": {},
   "outputs": [],
   "source": [
    "df.to_hdf(results_path / 'data.h5', 'stocks/info')"
   ]
  },
  {
   "attachments": {},
   "cell_type": "markdown",
   "metadata": {},
   "source": [
    "## Download adjusted price data using yfinance"
   ]
  },
  {
   "cell_type": "code",
   "execution_count": 14,
   "metadata": {
    "ExecuteTime": {
     "end_time": "2021-02-24T10:00:48.703840Z",
     "start_time": "2021-02-24T09:46:13.913231Z"
    },
    "scrolled": false
   },
   "outputs": [
    {
     "name": "stdout",
     "output_type": "stream",
     "text": [
      "[*********************100%***********************]  100 of 100 completed"
     ]
    },
    {
     "name": "stderr",
     "output_type": "stream",
     "text": [
      "\n",
      "6 Failed downloads:\n",
      "['091990.KS', '263750.KS', '247540.KS', '035900.KS', '022100.KS', '066970.KS']: Exception('%ticker%: No timezone found, symbol may be delisted')\n"
     ]
    },
    {
     "name": "stdout",
     "output_type": "stream",
     "text": [
      "\n",
      "Success:     1/    1 | To go: 00:02:39 (  899)\n",
      "[*********************100%***********************]  100 of 100 completed"
     ]
    },
    {
     "name": "stderr",
     "output_type": "stream",
     "text": [
      "\n",
      "14 Failed downloads:\n",
      "['039030.KS', '293490.KS', '036930.KS', '278280.KS', '145020.KS', '214150.KS', '237690.KS', '058470.KS', '056190.KS', '196170.KS', '214450.KS', '035760.KS', '240810.KS', '137400.KS']: Exception('%ticker%: No timezone found, symbol may be delisted')\n"
     ]
    },
    {
     "name": "stdout",
     "output_type": "stream",
     "text": [
      "\n",
      "Success:     2/    2 | To go: 00:01:34 (  799)\n",
      "[*********************100%***********************]  100 of 100 completed"
     ]
    },
    {
     "name": "stderr",
     "output_type": "stream",
     "text": [
      "\n",
      "16 Failed downloads:\n",
      "['272290.KS', '348210.KS', '098460.KS', '319660.KS', '195940.KS', '003380.KS', '086450.KS', '084370.KS', '141080.KS', '213420.KS', '166090.KS', '215000.KS', '067310.KS', '183300.KS', '046890.KS', '074600.KS']: Exception('%ticker%: No timezone found, symbol may be delisted')\n"
     ]
    },
    {
     "name": "stdout",
     "output_type": "stream",
     "text": [
      "\n",
      "Success:     3/    3 | To go: 00:01:08 (  699)\n",
      "[*********************100%***********************]  100 of 100 completed"
     ]
    },
    {
     "name": "stderr",
     "output_type": "stream",
     "text": [
      "\n",
      "8 Failed downloads:\n",
      "['131290.KS', '091700.KS', '060250.KS', '095610.KS', '243070.KS', '215200.KS', '036830.KS', '084850.KS']: Exception('%ticker%: No timezone found, symbol may be delisted')\n"
     ]
    },
    {
     "name": "stdout",
     "output_type": "stream",
     "text": [
      "\n",
      "Success:     4/    4 | To go: 00:00:53 (  599)\n",
      "[*********************100%***********************]  100 of 100 completed"
     ]
    },
    {
     "name": "stderr",
     "output_type": "stream",
     "text": [
      "\n",
      "2 Failed downloads:\n",
      "['267980.KS', '230360.KS']: Exception('%ticker%: No timezone found, symbol may be delisted')\n"
     ]
    },
    {
     "name": "stdout",
     "output_type": "stream",
     "text": [
      "\n",
      "Success:     5/    5 | To go: 00:00:42 (  499)\n",
      "[*********************100%***********************]  100 of 100 completed\n",
      "Success:     6/    6 | To go: 00:00:32 (  399)\n",
      "[*********************100%***********************]  100 of 100 completed\n",
      "Success:     7/    7 | To go: 00:00:23 (  299)\n",
      "[*********************100%***********************]  100 of 100 completed\n",
      "Success:     8/    8 | To go: 00:00:15 (  199)\n",
      "[*********************100%***********************]  100 of 100 completed\n",
      "Success:     9/    9 | To go: 00:00:07 (   99)\n",
      "[*********************100%***********************]  99 of 99 completed\n",
      "Success:    10/   10 | To go: -1:59:60 (   -1)\n"
     ]
    }
   ],
   "source": [
    "prices_adj = []\n",
    "start = time()\n",
    "for i, chunk in enumerate(chunks(krx, 100), 1):\n",
    "    prices_adj.append(yf.download(chunk, period='max', auto_adjust=True).stack(-1))\n",
    "\n",
    "    per_ticker = (time()-start) / (i * 100)\n",
    "    to_do = n - (i * 100)\n",
    "    to_go = to_do * per_ticker    \n",
    "    print(f'Success: {len(prices_adj):5,.0f}/{i:5,.0f} | To go: {format_time(to_go)} ({to_do:5,.0f})')"
   ]
  },
  {
   "cell_type": "code",
   "execution_count": 15,
   "metadata": {
    "ExecuteTime": {
     "end_time": "2021-02-24T10:01:19.400460Z",
     "start_time": "2021-02-24T10:00:48.704777Z"
    }
   },
   "outputs": [],
   "source": [
    "prices_adj = (pd.concat(prices_adj)\n",
    "              .dropna(how='all', axis=1)\n",
    "              .rename(columns=str.lower)\n",
    "              .swaplevel())"
   ]
  },
  {
   "cell_type": "code",
   "execution_count": 16,
   "metadata": {
    "ExecuteTime": {
     "end_time": "2021-02-24T10:01:19.403136Z",
     "start_time": "2021-02-24T10:01:19.401480Z"
    }
   },
   "outputs": [],
   "source": [
    "prices_adj.index.names = ['ticker', 'date']"
   ]
  },
  {
   "cell_type": "code",
   "execution_count": 17,
   "metadata": {
    "ExecuteTime": {
     "end_time": "2021-02-24T10:01:19.524404Z",
     "start_time": "2021-02-24T10:01:19.403934Z"
    }
   },
   "outputs": [
    {
     "data": {
      "text/plain": [
       "953"
      ]
     },
     "execution_count": 17,
     "metadata": {},
     "output_type": "execute_result"
    }
   ],
   "source": [
    "len(prices_adj.index.unique('ticker'))"
   ]
  },
  {
   "attachments": {},
   "cell_type": "markdown",
   "metadata": {},
   "source": [
    "### Remove outliers"
   ]
  },
  {
   "cell_type": "code",
   "execution_count": 18,
   "metadata": {
    "ExecuteTime": {
     "end_time": "2021-02-24T10:01:26.721497Z",
     "start_time": "2021-02-24T10:01:19.525371Z"
    }
   },
   "outputs": [
    {
     "data": {
      "text/plain": [
       "69"
      ]
     },
     "execution_count": 18,
     "metadata": {},
     "output_type": "execute_result"
    }
   ],
   "source": [
    "df = prices_adj.close.unstack('ticker')\n",
    "pmax = df.pct_change().max()\n",
    "pmin = df.pct_change().min()\n",
    "to_drop = pmax[pmax > 1].index.union(pmin[pmin<-1].index)\n",
    "len(to_drop)"
   ]
  },
  {
   "cell_type": "code",
   "execution_count": 19,
   "metadata": {
    "ExecuteTime": {
     "end_time": "2021-02-24T10:02:48.974317Z",
     "start_time": "2021-02-24T10:01:26.722329Z"
    }
   },
   "outputs": [],
   "source": [
    "prices_adj = prices_adj.drop(to_drop, level='ticker')"
   ]
  },
  {
   "cell_type": "code",
   "execution_count": 20,
   "metadata": {
    "ExecuteTime": {
     "end_time": "2021-02-24T10:02:49.069890Z",
     "start_time": "2021-02-24T10:02:48.975147Z"
    }
   },
   "outputs": [
    {
     "data": {
      "text/plain": [
       "884"
      ]
     },
     "execution_count": 20,
     "metadata": {},
     "output_type": "execute_result"
    }
   ],
   "source": [
    "len(prices_adj.index.unique('ticker'))"
   ]
  },
  {
   "cell_type": "code",
   "execution_count": 21,
   "metadata": {},
   "outputs": [
    {
     "data": {
      "text/html": [
       "<div>\n",
       "<style scoped>\n",
       "    .dataframe tbody tr th:only-of-type {\n",
       "        vertical-align: middle;\n",
       "    }\n",
       "\n",
       "    .dataframe tbody tr th {\n",
       "        vertical-align: top;\n",
       "    }\n",
       "\n",
       "    .dataframe thead th {\n",
       "        text-align: right;\n",
       "    }\n",
       "</style>\n",
       "<table border=\"1\" class=\"dataframe\">\n",
       "  <thead>\n",
       "    <tr style=\"text-align: right;\">\n",
       "      <th></th>\n",
       "      <th></th>\n",
       "      <th>close</th>\n",
       "      <th>high</th>\n",
       "      <th>low</th>\n",
       "      <th>open</th>\n",
       "      <th>volume</th>\n",
       "    </tr>\n",
       "    <tr>\n",
       "      <th>ticker</th>\n",
       "      <th>date</th>\n",
       "      <th></th>\n",
       "      <th></th>\n",
       "      <th></th>\n",
       "      <th></th>\n",
       "      <th></th>\n",
       "    </tr>\n",
       "  </thead>\n",
       "  <tbody>\n",
       "    <tr>\n",
       "      <th>000100.KS</th>\n",
       "      <th>2000-01-04</th>\n",
       "      <td>3359.394287</td>\n",
       "      <td>3469.774594</td>\n",
       "      <td>3081.044475</td>\n",
       "      <td>3081.044475</td>\n",
       "      <td>728643.0</td>\n",
       "    </tr>\n",
       "    <tr>\n",
       "      <th>000270.KS</th>\n",
       "      <th>2000-01-04</th>\n",
       "      <td>5074.384766</td>\n",
       "      <td>5074.384766</td>\n",
       "      <td>4832.747257</td>\n",
       "      <td>4901.786545</td>\n",
       "      <td>636300.0</td>\n",
       "    </tr>\n",
       "    <tr>\n",
       "      <th>000720.KS</th>\n",
       "      <th>2000-01-04</th>\n",
       "      <td>283844.968750</td>\n",
       "      <td>283844.968750</td>\n",
       "      <td>258453.084474</td>\n",
       "      <td>258453.084474</td>\n",
       "      <td>70240.0</td>\n",
       "    </tr>\n",
       "    <tr>\n",
       "      <th>000810.KS</th>\n",
       "      <th>2000-01-04</th>\n",
       "      <td>21973.482422</td>\n",
       "      <td>22570.292212</td>\n",
       "      <td>19640.496653</td>\n",
       "      <td>19640.496653</td>\n",
       "      <td>271254.0</td>\n",
       "    </tr>\n",
       "    <tr>\n",
       "      <th>003490.KS</th>\n",
       "      <th>2000-01-04</th>\n",
       "      <td>10754.256836</td>\n",
       "      <td>10754.256836</td>\n",
       "      <td>9751.740900</td>\n",
       "      <td>9751.740900</td>\n",
       "      <td>2251546.0</td>\n",
       "    </tr>\n",
       "    <tr>\n",
       "      <th>...</th>\n",
       "      <th>...</th>\n",
       "      <td>...</td>\n",
       "      <td>...</td>\n",
       "      <td>...</td>\n",
       "      <td>...</td>\n",
       "      <td>...</td>\n",
       "    </tr>\n",
       "    <tr>\n",
       "      <th>35320K.KS</th>\n",
       "      <th>2023-08-07</th>\n",
       "      <td>10740.000000</td>\n",
       "      <td>10920.000000</td>\n",
       "      <td>10580.000000</td>\n",
       "      <td>10920.000000</td>\n",
       "      <td>10408.0</td>\n",
       "    </tr>\n",
       "    <tr>\n",
       "      <th>36328K.KS</th>\n",
       "      <th>2023-08-07</th>\n",
       "      <td>7600.000000</td>\n",
       "      <td>8230.000000</td>\n",
       "      <td>7600.000000</td>\n",
       "      <td>7870.000000</td>\n",
       "      <td>2001.0</td>\n",
       "    </tr>\n",
       "    <tr>\n",
       "      <th>38380K.KS</th>\n",
       "      <th>2023-08-07</th>\n",
       "      <td>9680.000000</td>\n",
       "      <td>9890.000000</td>\n",
       "      <td>9610.000000</td>\n",
       "      <td>9610.000000</td>\n",
       "      <td>10025.0</td>\n",
       "    </tr>\n",
       "    <tr>\n",
       "      <th>45014K.KS</th>\n",
       "      <th>2023-08-07</th>\n",
       "      <td>7140.000000</td>\n",
       "      <td>7260.000000</td>\n",
       "      <td>7110.000000</td>\n",
       "      <td>7150.000000</td>\n",
       "      <td>2023.0</td>\n",
       "    </tr>\n",
       "    <tr>\n",
       "      <th>45226K.KS</th>\n",
       "      <th>2023-08-07</th>\n",
       "      <td>4330.000000</td>\n",
       "      <td>4400.000000</td>\n",
       "      <td>4310.000000</td>\n",
       "      <td>4400.000000</td>\n",
       "      <td>2958.0</td>\n",
       "    </tr>\n",
       "  </tbody>\n",
       "</table>\n",
       "<p>3853898 rows × 5 columns</p>\n",
       "</div>"
      ],
      "text/plain": [
       "                              close           high            low  \\\n",
       "ticker    date                                                      \n",
       "000100.KS 2000-01-04    3359.394287    3469.774594    3081.044475   \n",
       "000270.KS 2000-01-04    5074.384766    5074.384766    4832.747257   \n",
       "000720.KS 2000-01-04  283844.968750  283844.968750  258453.084474   \n",
       "000810.KS 2000-01-04   21973.482422   22570.292212   19640.496653   \n",
       "003490.KS 2000-01-04   10754.256836   10754.256836    9751.740900   \n",
       "...                             ...            ...            ...   \n",
       "35320K.KS 2023-08-07   10740.000000   10920.000000   10580.000000   \n",
       "36328K.KS 2023-08-07    7600.000000    8230.000000    7600.000000   \n",
       "38380K.KS 2023-08-07    9680.000000    9890.000000    9610.000000   \n",
       "45014K.KS 2023-08-07    7140.000000    7260.000000    7110.000000   \n",
       "45226K.KS 2023-08-07    4330.000000    4400.000000    4310.000000   \n",
       "\n",
       "                               open     volume  \n",
       "ticker    date                                  \n",
       "000100.KS 2000-01-04    3081.044475   728643.0  \n",
       "000270.KS 2000-01-04    4901.786545   636300.0  \n",
       "000720.KS 2000-01-04  258453.084474    70240.0  \n",
       "000810.KS 2000-01-04   19640.496653   271254.0  \n",
       "003490.KS 2000-01-04    9751.740900  2251546.0  \n",
       "...                             ...        ...  \n",
       "35320K.KS 2023-08-07   10920.000000    10408.0  \n",
       "36328K.KS 2023-08-07    7870.000000     2001.0  \n",
       "38380K.KS 2023-08-07    9610.000000    10025.0  \n",
       "45014K.KS 2023-08-07    7150.000000     2023.0  \n",
       "45226K.KS 2023-08-07    4400.000000     2958.0  \n",
       "\n",
       "[3853898 rows x 5 columns]"
      ]
     },
     "execution_count": 21,
     "metadata": {},
     "output_type": "execute_result"
    }
   ],
   "source": [
    "prices_adj"
   ]
  },
  {
   "cell_type": "code",
   "execution_count": 22,
   "metadata": {
    "ExecuteTime": {
     "end_time": "2021-02-24T10:02:56.784555Z",
     "start_time": "2021-02-24T10:02:49.070735Z"
    }
   },
   "outputs": [],
   "source": [
    "prices_adj.sort_index().loc[idx[:, '2000': '2023'], :].to_hdf(results_path / 'data.h5', \n",
    "                                                              'stocks/prices/adjusted')"
   ]
  },
  {
   "cell_type": "code",
   "execution_count": 23,
   "metadata": {},
   "outputs": [
    {
     "data": {
      "text/html": [
       "<div>\n",
       "<style scoped>\n",
       "    .dataframe tbody tr th:only-of-type {\n",
       "        vertical-align: middle;\n",
       "    }\n",
       "\n",
       "    .dataframe tbody tr th {\n",
       "        vertical-align: top;\n",
       "    }\n",
       "\n",
       "    .dataframe thead th {\n",
       "        text-align: right;\n",
       "    }\n",
       "</style>\n",
       "<table border=\"1\" class=\"dataframe\">\n",
       "  <thead>\n",
       "    <tr style=\"text-align: right;\">\n",
       "      <th></th>\n",
       "      <th></th>\n",
       "      <th>close</th>\n",
       "      <th>high</th>\n",
       "      <th>low</th>\n",
       "      <th>open</th>\n",
       "      <th>volume</th>\n",
       "    </tr>\n",
       "    <tr>\n",
       "      <th>ticker</th>\n",
       "      <th>date</th>\n",
       "      <th></th>\n",
       "      <th></th>\n",
       "      <th></th>\n",
       "      <th></th>\n",
       "      <th></th>\n",
       "    </tr>\n",
       "  </thead>\n",
       "  <tbody>\n",
       "    <tr>\n",
       "      <th>000100.KS</th>\n",
       "      <th>2000-01-04</th>\n",
       "      <td>3359.394287</td>\n",
       "      <td>3469.774594</td>\n",
       "      <td>3081.044475</td>\n",
       "      <td>3081.044475</td>\n",
       "      <td>728643.0</td>\n",
       "    </tr>\n",
       "    <tr>\n",
       "      <th>000270.KS</th>\n",
       "      <th>2000-01-04</th>\n",
       "      <td>5074.384766</td>\n",
       "      <td>5074.384766</td>\n",
       "      <td>4832.747257</td>\n",
       "      <td>4901.786545</td>\n",
       "      <td>636300.0</td>\n",
       "    </tr>\n",
       "    <tr>\n",
       "      <th>000720.KS</th>\n",
       "      <th>2000-01-04</th>\n",
       "      <td>283844.968750</td>\n",
       "      <td>283844.968750</td>\n",
       "      <td>258453.084474</td>\n",
       "      <td>258453.084474</td>\n",
       "      <td>70240.0</td>\n",
       "    </tr>\n",
       "    <tr>\n",
       "      <th>000810.KS</th>\n",
       "      <th>2000-01-04</th>\n",
       "      <td>21973.482422</td>\n",
       "      <td>22570.292212</td>\n",
       "      <td>19640.496653</td>\n",
       "      <td>19640.496653</td>\n",
       "      <td>271254.0</td>\n",
       "    </tr>\n",
       "    <tr>\n",
       "      <th>003490.KS</th>\n",
       "      <th>2000-01-04</th>\n",
       "      <td>10754.256836</td>\n",
       "      <td>10754.256836</td>\n",
       "      <td>9751.740900</td>\n",
       "      <td>9751.740900</td>\n",
       "      <td>2251546.0</td>\n",
       "    </tr>\n",
       "    <tr>\n",
       "      <th>...</th>\n",
       "      <th>...</th>\n",
       "      <td>...</td>\n",
       "      <td>...</td>\n",
       "      <td>...</td>\n",
       "      <td>...</td>\n",
       "      <td>...</td>\n",
       "    </tr>\n",
       "    <tr>\n",
       "      <th>35320K.KS</th>\n",
       "      <th>2023-08-07</th>\n",
       "      <td>10740.000000</td>\n",
       "      <td>10920.000000</td>\n",
       "      <td>10580.000000</td>\n",
       "      <td>10920.000000</td>\n",
       "      <td>10408.0</td>\n",
       "    </tr>\n",
       "    <tr>\n",
       "      <th>36328K.KS</th>\n",
       "      <th>2023-08-07</th>\n",
       "      <td>7600.000000</td>\n",
       "      <td>8230.000000</td>\n",
       "      <td>7600.000000</td>\n",
       "      <td>7870.000000</td>\n",
       "      <td>2001.0</td>\n",
       "    </tr>\n",
       "    <tr>\n",
       "      <th>38380K.KS</th>\n",
       "      <th>2023-08-07</th>\n",
       "      <td>9680.000000</td>\n",
       "      <td>9890.000000</td>\n",
       "      <td>9610.000000</td>\n",
       "      <td>9610.000000</td>\n",
       "      <td>10025.0</td>\n",
       "    </tr>\n",
       "    <tr>\n",
       "      <th>45014K.KS</th>\n",
       "      <th>2023-08-07</th>\n",
       "      <td>7140.000000</td>\n",
       "      <td>7260.000000</td>\n",
       "      <td>7110.000000</td>\n",
       "      <td>7150.000000</td>\n",
       "      <td>2023.0</td>\n",
       "    </tr>\n",
       "    <tr>\n",
       "      <th>45226K.KS</th>\n",
       "      <th>2023-08-07</th>\n",
       "      <td>4330.000000</td>\n",
       "      <td>4400.000000</td>\n",
       "      <td>4310.000000</td>\n",
       "      <td>4400.000000</td>\n",
       "      <td>2958.0</td>\n",
       "    </tr>\n",
       "  </tbody>\n",
       "</table>\n",
       "<p>3853898 rows × 5 columns</p>\n",
       "</div>"
      ],
      "text/plain": [
       "                              close           high            low  \\\n",
       "ticker    date                                                      \n",
       "000100.KS 2000-01-04    3359.394287    3469.774594    3081.044475   \n",
       "000270.KS 2000-01-04    5074.384766    5074.384766    4832.747257   \n",
       "000720.KS 2000-01-04  283844.968750  283844.968750  258453.084474   \n",
       "000810.KS 2000-01-04   21973.482422   22570.292212   19640.496653   \n",
       "003490.KS 2000-01-04   10754.256836   10754.256836    9751.740900   \n",
       "...                             ...            ...            ...   \n",
       "35320K.KS 2023-08-07   10740.000000   10920.000000   10580.000000   \n",
       "36328K.KS 2023-08-07    7600.000000    8230.000000    7600.000000   \n",
       "38380K.KS 2023-08-07    9680.000000    9890.000000    9610.000000   \n",
       "45014K.KS 2023-08-07    7140.000000    7260.000000    7110.000000   \n",
       "45226K.KS 2023-08-07    4330.000000    4400.000000    4310.000000   \n",
       "\n",
       "                               open     volume  \n",
       "ticker    date                                  \n",
       "000100.KS 2000-01-04    3081.044475   728643.0  \n",
       "000270.KS 2000-01-04    4901.786545   636300.0  \n",
       "000720.KS 2000-01-04  258453.084474    70240.0  \n",
       "000810.KS 2000-01-04   19640.496653   271254.0  \n",
       "003490.KS 2000-01-04    9751.740900  2251546.0  \n",
       "...                             ...        ...  \n",
       "35320K.KS 2023-08-07   10920.000000    10408.0  \n",
       "36328K.KS 2023-08-07    7870.000000     2001.0  \n",
       "38380K.KS 2023-08-07    9610.000000    10025.0  \n",
       "45014K.KS 2023-08-07    7150.000000     2023.0  \n",
       "45226K.KS 2023-08-07    4400.000000     2958.0  \n",
       "\n",
       "[3853898 rows x 5 columns]"
      ]
     },
     "execution_count": 23,
     "metadata": {},
     "output_type": "execute_result"
    }
   ],
   "source": [
    "prices_adj"
   ]
  },
  {
   "cell_type": "code",
   "execution_count": null,
   "metadata": {},
   "outputs": [],
   "source": []
  }
 ],
 "metadata": {
  "kernelspec": {
   "display_name": "finance",
   "language": "python",
   "name": "python3"
  },
  "language_info": {
   "codemirror_mode": {
    "name": "ipython",
    "version": 3
   },
   "file_extension": ".py",
   "mimetype": "text/x-python",
   "name": "python",
   "nbconvert_exporter": "python",
   "pygments_lexer": "ipython3",
   "version": "3.8.8"
  },
  "toc": {
   "base_numbering": 1,
   "nav_menu": {},
   "number_sections": true,
   "sideBar": true,
   "skip_h1_title": true,
   "title_cell": "Table of Contents",
   "title_sidebar": "Contents",
   "toc_cell": false,
   "toc_position": {},
   "toc_section_display": true,
   "toc_window_display": true
  },
  "vscode": {
   "interpreter": {
    "hash": "9fe9e6db701ded81cc03a408b6c0b9feb741cf499c165361f3878077b7c94d2a"
   }
  }
 },
 "nbformat": 4,
 "nbformat_minor": 4
}
