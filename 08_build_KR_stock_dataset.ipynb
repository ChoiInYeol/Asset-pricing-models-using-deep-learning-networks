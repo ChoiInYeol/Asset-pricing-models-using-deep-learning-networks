{
 "cells": [
  {
   "attachments": {},
   "cell_type": "markdown",
   "metadata": {},
   "source": [
    "# Download historical equity data for NASDAQ stocks from yahoo finance"
   ]
  },
  {
   "cell_type": "code",
   "execution_count": 1,
   "metadata": {
    "ExecuteTime": {
     "end_time": "2021-02-24T03:35:10.028380Z",
     "start_time": "2021-02-24T03:35:10.026213Z"
    }
   },
   "outputs": [],
   "source": [
    "import warnings\n",
    "warnings.filterwarnings('ignore')"
   ]
  },
  {
   "cell_type": "code",
   "execution_count": 65,
   "metadata": {
    "ExecuteTime": {
     "end_time": "2021-02-24T03:35:10.259404Z",
     "start_time": "2021-02-24T03:35:10.030004Z"
    }
   },
   "outputs": [],
   "source": [
    "from time import time\n",
    "from tqdm import tqdm\n",
    "from pathlib import Path\n",
    "import pandas as pd\n",
    "import FinanceDataReader as fdr\n",
    "import yfinance as yf"
   ]
  },
  {
   "cell_type": "code",
   "execution_count": 66,
   "metadata": {
    "ExecuteTime": {
     "end_time": "2021-02-24T03:35:10.263767Z",
     "start_time": "2021-02-24T03:35:10.261678Z"
    }
   },
   "outputs": [],
   "source": [
    "idx = pd.IndexSlice"
   ]
  },
  {
   "cell_type": "code",
   "execution_count": 67,
   "metadata": {
    "ExecuteTime": {
     "end_time": "2021-02-24T03:35:10.273874Z",
     "start_time": "2021-02-24T03:35:10.264725Z"
    }
   },
   "outputs": [],
   "source": [
    "results_path = Path('KR_results', 'asset_pricing')\n",
    "if not results_path.exists():\n",
    "    results_path.mkdir(parents=True)"
   ]
  },
  {
   "cell_type": "code",
   "execution_count": 68,
   "metadata": {
    "ExecuteTime": {
     "end_time": "2021-02-24T03:35:10.282293Z",
     "start_time": "2021-02-24T03:35:10.274735Z"
    }
   },
   "outputs": [],
   "source": [
    "def chunks(l, n): \n",
    "    for i in range(0, len(l), n):  \n",
    "        yield l[i:i + n] "
   ]
  },
  {
   "cell_type": "code",
   "execution_count": 69,
   "metadata": {
    "ExecuteTime": {
     "end_time": "2021-02-24T03:35:10.290666Z",
     "start_time": "2021-02-24T03:35:10.283784Z"
    }
   },
   "outputs": [],
   "source": [
    "def format_time(t):\n",
    "    \"\"\"Return a formatted time string 'HH:MM:SS\n",
    "    based on a numeric time() value\"\"\"\n",
    "    m, s = divmod(t, 60)\n",
    "    h, m = divmod(m, 60)\n",
    "    return f'{h:0>2.0f}:{m:0>2.0f}:{s:0>2.0f}'"
   ]
  },
  {
   "attachments": {},
   "cell_type": "markdown",
   "metadata": {},
   "source": [
    "## Get KRX symbols"
   ]
  },
  {
   "cell_type": "code",
   "execution_count": 98,
   "metadata": {},
   "outputs": [
    {
     "name": "stdout",
     "output_type": "stream",
     "text": [
      "# Symbols: 2,585\n"
     ]
    }
   ],
   "source": [
    "krx = fdr.StockListing('KRX')\n",
    "krx = krx[krx[\"Market\"] != \"KONEX\"]\n",
    "krx['Code'] = krx['Code'] + '.' + krx['Market'].apply(lambda x: 'KS' if x == 'KOSPI' else 'KQ')\n",
    "krx = krx[\"Code\"].to_list()\n",
    "n = len(krx)\n",
    "print(f'# Symbols: {n:,.0f}')"
   ]
  },
  {
   "attachments": {},
   "cell_type": "markdown",
   "metadata": {},
   "source": [
    "## Download metadata from yahoo finance"
   ]
  },
  {
   "attachments": {},
   "cell_type": "markdown",
   "metadata": {},
   "source": [
    "### NASDAQ symbols"
   ]
  },
  {
   "cell_type": "code",
   "execution_count": 100,
   "metadata": {
    "ExecuteTime": {
     "end_time": "2021-02-24T03:35:30.818647Z",
     "start_time": "2021-02-24T03:35:11.397335Z"
    }
   },
   "outputs": [],
   "source": [
    "yf_codes = yf.Tickers(krx)"
   ]
  },
  {
   "cell_type": "code",
   "execution_count": 101,
   "metadata": {},
   "outputs": [
    {
     "name": "stderr",
     "output_type": "stream",
     "text": [
      " 62%|██████▏   | 1593/2585 [15:07<07:43,  2.14it/s]"
     ]
    },
    {
     "name": "stdout",
     "output_type": "stream",
     "text": [
      "160600.KQ 404 Client Error: Not Found for url: https://query2.finance.yahoo.com/v10/finance/quoteSummary/160600.KQ?modules=summaryProfile%2CfinancialData%2CquoteType%2CdefaultKeyStatistics%2CassetProfile%2CsummaryDetail&ssl=true\n"
     ]
    },
    {
     "name": "stderr",
     "output_type": "stream",
     "text": [
      " 77%|███████▋  | 2002/2585 [18:59<04:38,  2.10it/s]"
     ]
    },
    {
     "name": "stdout",
     "output_type": "stream",
     "text": [
      "263540.KQ 404 Client Error: Not Found for url: https://query2.finance.yahoo.com/v10/finance/quoteSummary/263540.KQ?modules=summaryProfile%2CfinancialData%2CquoteType%2CdefaultKeyStatistics%2CassetProfile%2CsummaryDetail&ssl=true\n"
     ]
    },
    {
     "name": "stderr",
     "output_type": "stream",
     "text": [
      " 77%|███████▋  | 2003/2585 [19:00<04:06,  2.37it/s]"
     ]
    },
    {
     "name": "stdout",
     "output_type": "stream",
     "text": [
      "141020.KQ 404 Client Error: Not Found for url: https://query2.finance.yahoo.com/v10/finance/quoteSummary/141020.KQ?modules=summaryProfile%2CfinancialData%2CquoteType%2CdefaultKeyStatistics%2CassetProfile%2CsummaryDetail&ssl=true\n"
     ]
    },
    {
     "name": "stderr",
     "output_type": "stream",
     "text": [
      " 82%|████████▏ | 2125/2585 [20:09<03:47,  2.02it/s]"
     ]
    },
    {
     "name": "stdout",
     "output_type": "stream",
     "text": [
      "223310.KQ 404 Client Error: Not Found for url: https://query2.finance.yahoo.com/v10/finance/quoteSummary/223310.KQ?modules=summaryProfile%2CfinancialData%2CquoteType%2CdefaultKeyStatistics%2CassetProfile%2CsummaryDetail&ssl=true\n"
     ]
    },
    {
     "name": "stderr",
     "output_type": "stream",
     "text": [
      " 97%|█████████▋| 2516/2585 [23:50<00:35,  1.95it/s]"
     ]
    },
    {
     "name": "stdout",
     "output_type": "stream",
     "text": [
      "058220.KQ 404 Client Error: Not Found for url: https://query2.finance.yahoo.com/v10/finance/quoteSummary/058220.KQ?modules=summaryProfile%2CfinancialData%2CquoteType%2CdefaultKeyStatistics%2CassetProfile%2CsummaryDetail&ssl=true\n"
     ]
    },
    {
     "name": "stderr",
     "output_type": "stream",
     "text": [
      " 98%|█████████▊| 2535/2585 [24:01<00:23,  2.10it/s]"
     ]
    },
    {
     "name": "stdout",
     "output_type": "stream",
     "text": [
      "121890.KQ 404 Client Error: Not Found for url: https://query2.finance.yahoo.com/v10/finance/quoteSummary/121890.KQ?modules=summaryProfile%2CfinancialData%2CquoteType%2CdefaultKeyStatistics%2CassetProfile%2CsummaryDetail&ssl=true\n"
     ]
    },
    {
     "name": "stderr",
     "output_type": "stream",
     "text": [
      "100%|██████████| 2585/2585 [24:29<00:00,  1.76it/s]"
     ]
    },
    {
     "name": "stdout",
     "output_type": "stream",
     "text": [
      "Success: 2,579 / 2,585\n"
     ]
    },
    {
     "name": "stderr",
     "output_type": "stream",
     "text": [
      "\n"
     ]
    }
   ],
   "source": [
    "meta_data = []\n",
    "start = time()\n",
    "for code in tqdm(krx):\n",
    "    try:\n",
    "        yf_object = yf.Ticker(code)\n",
    "        s = pd.Series(yf_object.get_info())\n",
    "        meta_data.append(s.to_frame(code))\n",
    "    except Exception as e:\n",
    "        print(code, e)\n",
    "\n",
    "print(f'Success: {len(meta_data):5,.0f} / {len(krx):5,.0f}')"
   ]
  },
  {
   "attachments": {},
   "cell_type": "markdown",
   "metadata": {},
   "source": [
    "meta_data"
   ]
  },
  {
   "cell_type": "code",
   "execution_count": 102,
   "metadata": {},
   "outputs": [
    {
     "name": "stdout",
     "output_type": "stream",
     "text": [
      "<class 'pandas.core.frame.DataFrame'>\n",
      "Index: 2579 entries, 005930.KS to 050540.KQ\n",
      "Columns: 118 entries, address1 to state\n",
      "dtypes: float64(89), int64(1), object(28)\n",
      "memory usage: 2.3+ MB\n"
     ]
    }
   ],
   "source": [
    "df = pd.concat(meta_data, axis=1).dropna(how='all').T\n",
    "df = df.apply(pd.to_numeric, errors='ignore')\n",
    "df.info(show_counts=True)"
   ]
  },
  {
   "cell_type": "code",
   "execution_count": 103,
   "metadata": {},
   "outputs": [
    {
     "data": {
      "text/plain": [
       "WindowsPath('KR_results/asset_pricing')"
      ]
     },
     "execution_count": 103,
     "metadata": {},
     "output_type": "execute_result"
    }
   ],
   "source": [
    "results_path"
   ]
  },
  {
   "cell_type": "code",
   "execution_count": 104,
   "metadata": {},
   "outputs": [],
   "source": [
    "df.to_hdf(results_path / 'data.h5', 'stocks/info')"
   ]
  },
  {
   "attachments": {},
   "cell_type": "markdown",
   "metadata": {},
   "source": [
    "## Download adjusted price data using yfinance"
   ]
  },
  {
   "cell_type": "code",
   "execution_count": 105,
   "metadata": {
    "ExecuteTime": {
     "end_time": "2021-02-24T10:00:48.703840Z",
     "start_time": "2021-02-24T09:46:13.913231Z"
    },
    "scrolled": false
   },
   "outputs": [
    {
     "name": "stdout",
     "output_type": "stream",
     "text": [
      "[*********************100%***********************]  100 of 100 completed\n",
      "Success:     1/    1 | To go: 00:04:18 (2,485)\n",
      "[*********************100%***********************]  100 of 100 completed\n",
      "Success:     2/    2 | To go: 00:03:40 (2,385)\n",
      "[*********************100%***********************]  100 of 100 completed\n",
      "Success:     3/    3 | To go: 00:03:21 (2,285)\n",
      "[*********************100%***********************]  100 of 100 completed\n",
      "Success:     4/    4 | To go: 00:03:07 (2,185)\n",
      "[*********************100%***********************]  100 of 100 completed\n",
      "Success:     5/    5 | To go: 00:02:55 (2,085)\n",
      "[*********************100%***********************]  100 of 100 completed\n",
      "Success:     6/    6 | To go: 00:02:45 (1,985)\n",
      "[*********************100%***********************]  100 of 100 completed\n",
      "Success:     7/    7 | To go: 00:02:36 (1,885)\n",
      "[*********************100%***********************]  100 of 100 completed\n",
      "Success:     8/    8 | To go: 00:02:28 (1,785)\n",
      "[*********************100%***********************]  100 of 100 completed\n",
      "\n",
      "1 Failed download:\n",
      "- 318020.KQ: 1d data not available for startTime=-2208994789 and endTime=1683402821. Only 100 years worth of day granularity data are allowed to be fetched per request.\n",
      "Success:     9/    9 | To go: 00:02:29 (1,685)\n",
      "[*********************100%***********************]  100 of 100 completed\n",
      "Success:    10/   10 | To go: 00:02:19 (1,585)\n",
      "[*********************100%***********************]  100 of 100 completed\n",
      "Success:    11/   11 | To go: 00:02:08 (1,485)\n",
      "[*********************100%***********************]  100 of 100 completed\n",
      "\n",
      "1 Failed download:\n",
      "- 065560.KQ: No data found for this date range, symbol may be delisted\n",
      "Success:    12/   12 | To go: 00:02:06 (1,385)\n",
      "[*********************100%***********************]  100 of 100 completed\n",
      "Success:    13/   13 | To go: 00:01:56 (1,285)\n",
      "[*********************100%***********************]  100 of 100 completed\n",
      "\n",
      "1 Failed download:\n",
      "- 215090.KQ: No data found for this date range, symbol may be delisted\n",
      "Success:    14/   14 | To go: 00:01:47 (1,185)\n",
      "[*********************100%***********************]  100 of 100 completed\n",
      "\n",
      "1 Failed download:\n",
      "- 178780.KQ: No data found for this date range, symbol may be delisted\n",
      "Success:    15/   15 | To go: 00:01:38 (1,085)\n",
      "[*********************100%***********************]  100 of 100 completed\n",
      "\n",
      "4 Failed downloads:\n",
      "- 078130.KQ: 1d data not available for startTime=-2208994789 and endTime=1683402885. Only 100 years worth of day granularity data are allowed to be fetched per request.\n",
      "- 160600.KQ: No timezone found, symbol may be delisted\n",
      "- 066410.KQ: 1d data not available for startTime=-2208994789 and endTime=1683402885. Only 100 years worth of day granularity data are allowed to be fetched per request.\n",
      "- 269620.KQ: No data found for this date range, symbol may be delisted\n",
      "Success:    16/   16 | To go: 00:01:28 (  985)\n",
      "[*********************100%***********************]  100 of 100 completed\n",
      "\n",
      "4 Failed downloads:\n",
      "- 056090.KQ: No data found for this date range, symbol may be delisted\n",
      "- 014200.KQ: No data found for this date range, symbol may be delisted\n",
      "- 226440.KQ: 1d data not available for startTime=-2208994789 and endTime=1683402895. Only 100 years worth of day granularity data are allowed to be fetched per request.\n",
      "- 006580.KQ: 1d data not available for startTime=-2208994789 and endTime=1683402897. Only 100 years worth of day granularity data are allowed to be fetched per request.\n",
      "Success:    17/   17 | To go: 00:01:19 (  885)\n",
      "[*********************100%***********************]  100 of 100 completed\n",
      "Success:    18/   18 | To go: 00:01:10 (  785)\n",
      "[*********************100%***********************]  100 of 100 completed\n",
      "\n",
      "1 Failed download:\n",
      "- 257370.KQ: 1d data not available for startTime=-2208994789 and endTime=1683402909. Only 100 years worth of day granularity data are allowed to be fetched per request.\n",
      "Success:    19/   19 | To go: 00:01:01 (  685)\n",
      "[*********************100%***********************]  100 of 100 completed\n",
      "\n",
      "6 Failed downloads:\n",
      "- 099520.KQ: No data found for this date range, symbol may be delisted\n",
      "- 069110.KQ: No data found for this date range, symbol may be delisted\n",
      "- 032860.KQ: No data found for this date range, symbol may be delisted\n",
      "- 096640.KQ: No data found for this date range, symbol may be delisted\n",
      "- 056730.KQ: 1d data not available for startTime=-2208994789 and endTime=1683402922. Only 100 years worth of day granularity data are allowed to be fetched per request.\n",
      "- 052770.KQ: No timezone found, symbol may be delisted\n",
      "Success:    20/   20 | To go: 00:00:55 (  585)\n",
      "[*********************100%***********************]  100 of 100 completed\n",
      "\n",
      "4 Failed downloads:\n",
      "- 181340.KQ: 1d data not available for startTime=-2208994789 and endTime=1683402935. Only 100 years worth of day granularity data are allowed to be fetched per request.\n",
      "- 141020.KQ: No timezone found, symbol may be delisted\n",
      "- 062860.KQ: No data found for this date range, symbol may be delisted\n",
      "- 263540.KQ: No timezone found, symbol may be delisted\n",
      "Success:    21/   21 | To go: 00:00:45 (  485)\n",
      "[*********************100%***********************]  100 of 100 completed\n",
      "\n",
      "2 Failed downloads:\n",
      "- 223310.KQ: No timezone found, symbol may be delisted\n",
      "- 053590.KQ: 1d data not available for startTime=-2208994789 and endTime=1683402949. Only 100 years worth of day granularity data are allowed to be fetched per request.\n",
      "Success:    22/   22 | To go: 00:00:36 (  385)\n",
      "[*********************100%***********************]  100 of 100 completed\n",
      "\n",
      "1 Failed download:\n",
      "- 214870.KQ: No data found for this date range, symbol may be delisted\n",
      "Success:    23/   23 | To go: 00:00:26 (  285)\n",
      "[*********************100%***********************]  100 of 100 completed\n",
      "\n",
      "1 Failed download:\n",
      "- 038340.KQ: 1d data not available for startTime=-2208994789 and endTime=1683402966. Only 100 years worth of day granularity data are allowed to be fetched per request.\n",
      "Success:    24/   24 | To go: 00:00:17 (  185)\n",
      "[*********************100%***********************]  100 of 100 completed\n",
      "\n",
      "9 Failed downloads:\n",
      "- 058530.KQ: 1d data not available for startTime=-2208994789 and endTime=1683402970. Only 100 years worth of day granularity data are allowed to be fetched per request.\n",
      "- 299910.KQ: 1d data not available for startTime=-2208994789 and endTime=1683402971. Only 100 years worth of day granularity data are allowed to be fetched per request.\n",
      "- 148140.KQ: 1d data not available for startTime=-2208994789 and endTime=1683402971. Only 100 years worth of day granularity data are allowed to be fetched per request.\n",
      "- 138690.KQ: No data found for this date range, symbol may be delisted\n",
      "- 214310.KQ: 1d data not available for startTime=-2208994789 and endTime=1683402973. Only 100 years worth of day granularity data are allowed to be fetched per request.\n",
      "- 114120.KQ: 1d data not available for startTime=-2208994789 and endTime=1683402974. Only 100 years worth of day granularity data are allowed to be fetched per request.\n",
      "- 422040.KQ: 1d data not available for startTime=-2208994789 and endTime=1683402974. Only 100 years worth of day granularity data are allowed to be fetched per request.\n",
      "- 208860.KQ: No data found for this date range, symbol may be delisted\n",
      "- 219750.KQ: 1d data not available for startTime=-2208994789 and endTime=1683402975. Only 100 years worth of day granularity data are allowed to be fetched per request.\n",
      "Success:    25/   25 | To go: 00:00:08 (   85)\n",
      "[*********************100%***********************]  85 of 85 completed\n",
      "\n",
      "5 Failed downloads:\n",
      "- 121890.KQ: No timezone found, symbol may be delisted\n",
      "- 078650.KQ: No data found for this date range, symbol may be delisted\n",
      "- 400560.KQ: 1d data not available for startTime=-2208994789 and endTime=1683402979. Only 100 years worth of day granularity data are allowed to be fetched per request.\n",
      "- 058220.KQ: No timezone found, symbol may be delisted\n",
      "- 366330.KQ: 1d data not available for startTime=-2208994789 and endTime=1683402982. Only 100 years worth of day granularity data are allowed to be fetched per request.\n",
      "Success:    26/   26 | To go: -1:59:59 (  -15)\n"
     ]
    }
   ],
   "source": [
    "prices_adj = []\n",
    "start = time()\n",
    "for i, chunk in enumerate(chunks(krx, 100), 1):\n",
    "    prices_adj.append(yf.download(chunk, period='max', auto_adjust=True).stack(-1))\n",
    "\n",
    "    per_ticker = (time()-start) / (i * 100)\n",
    "    to_do = n - (i * 100)\n",
    "    to_go = to_do * per_ticker    \n",
    "    print(f'Success: {len(prices_adj):5,.0f}/{i:5,.0f} | To go: {format_time(to_go)} ({to_do:5,.0f})')"
   ]
  },
  {
   "cell_type": "code",
   "execution_count": 106,
   "metadata": {
    "ExecuteTime": {
     "end_time": "2021-02-24T10:01:19.400460Z",
     "start_time": "2021-02-24T10:00:48.704777Z"
    }
   },
   "outputs": [],
   "source": [
    "prices_adj = (pd.concat(prices_adj)\n",
    "              .dropna(how='all', axis=1)\n",
    "              .rename(columns=str.lower)\n",
    "              .swaplevel())"
   ]
  },
  {
   "cell_type": "code",
   "execution_count": 107,
   "metadata": {
    "ExecuteTime": {
     "end_time": "2021-02-24T10:01:19.403136Z",
     "start_time": "2021-02-24T10:01:19.401480Z"
    }
   },
   "outputs": [],
   "source": [
    "prices_adj.index.names = ['ticker', 'date']"
   ]
  },
  {
   "cell_type": "code",
   "execution_count": 108,
   "metadata": {
    "ExecuteTime": {
     "end_time": "2021-02-24T10:01:19.524404Z",
     "start_time": "2021-02-24T10:01:19.403934Z"
    }
   },
   "outputs": [
    {
     "data": {
      "text/plain": [
       "2544"
      ]
     },
     "execution_count": 108,
     "metadata": {},
     "output_type": "execute_result"
    }
   ],
   "source": [
    "len(prices_adj.index.unique('ticker'))"
   ]
  },
  {
   "attachments": {},
   "cell_type": "markdown",
   "metadata": {},
   "source": [
    "### Remove outliers"
   ]
  },
  {
   "cell_type": "code",
   "execution_count": 109,
   "metadata": {
    "ExecuteTime": {
     "end_time": "2021-02-24T10:01:26.721497Z",
     "start_time": "2021-02-24T10:01:19.525371Z"
    }
   },
   "outputs": [
    {
     "data": {
      "text/plain": [
       "183"
      ]
     },
     "execution_count": 109,
     "metadata": {},
     "output_type": "execute_result"
    }
   ],
   "source": [
    "df = prices_adj.close.unstack('ticker')\n",
    "pmax = df.pct_change().max()\n",
    "pmin = df.pct_change().min()\n",
    "to_drop = pmax[pmax > 1].index.union(pmin[pmin<-1].index)\n",
    "len(to_drop)"
   ]
  },
  {
   "cell_type": "code",
   "execution_count": 110,
   "metadata": {
    "ExecuteTime": {
     "end_time": "2021-02-24T10:02:48.974317Z",
     "start_time": "2021-02-24T10:01:26.722329Z"
    }
   },
   "outputs": [],
   "source": [
    "prices_adj = prices_adj.drop(to_drop, level='ticker')"
   ]
  },
  {
   "cell_type": "code",
   "execution_count": 111,
   "metadata": {
    "ExecuteTime": {
     "end_time": "2021-02-24T10:02:49.069890Z",
     "start_time": "2021-02-24T10:02:48.975147Z"
    }
   },
   "outputs": [
    {
     "data": {
      "text/plain": [
       "2361"
      ]
     },
     "execution_count": 111,
     "metadata": {},
     "output_type": "execute_result"
    }
   ],
   "source": [
    "len(prices_adj.index.unique('ticker'))"
   ]
  },
  {
   "cell_type": "code",
   "execution_count": 112,
   "metadata": {
    "ExecuteTime": {
     "end_time": "2021-02-24T10:02:56.784555Z",
     "start_time": "2021-02-24T10:02:49.070735Z"
    }
   },
   "outputs": [],
   "source": [
    "prices_adj.sort_index().loc[idx[:, '1990': '2019'], :].to_hdf(results_path / 'data.h5', \n",
    "                                                              'stocks/prices/adjusted')"
   ]
  },
  {
   "cell_type": "code",
   "execution_count": null,
   "metadata": {},
   "outputs": [],
   "source": []
  }
 ],
 "metadata": {
  "kernelspec": {
   "display_name": "finance",
   "language": "python",
   "name": "python3"
  },
  "language_info": {
   "codemirror_mode": {
    "name": "ipython",
    "version": 3
   },
   "file_extension": ".py",
   "mimetype": "text/x-python",
   "name": "python",
   "nbconvert_exporter": "python",
   "pygments_lexer": "ipython3",
   "version": "3.8.8"
  },
  "toc": {
   "base_numbering": 1,
   "nav_menu": {},
   "number_sections": true,
   "sideBar": true,
   "skip_h1_title": true,
   "title_cell": "Table of Contents",
   "title_sidebar": "Contents",
   "toc_cell": false,
   "toc_position": {},
   "toc_section_display": true,
   "toc_window_display": true
  },
  "vscode": {
   "interpreter": {
    "hash": "9fe9e6db701ded81cc03a408b6c0b9feb741cf499c165361f3878077b7c94d2a"
   }
  }
 },
 "nbformat": 4,
 "nbformat_minor": 4
}
