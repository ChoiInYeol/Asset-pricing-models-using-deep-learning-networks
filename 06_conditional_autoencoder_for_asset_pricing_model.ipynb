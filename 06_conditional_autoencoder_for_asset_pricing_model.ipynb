{
  "cells": [
    {
      "cell_type": "markdown",
      "metadata": {
        "id": "1eVwN96NG6AD"
      },
      "source": [
        "# Conditional Autoencoder for Asset Pricing - Part 2: The Model"
      ]
    },
    {
      "cell_type": "code",
      "execution_count": null,
      "metadata": {
        "colab": {
          "base_uri": "https://localhost:8080/"
        },
        "id": "zG66Pp9HG7-t",
        "outputId": "23793f8f-1b73-4a73-a7b0-c40f38dbdcc3"
      },
      "outputs": [
        {
          "name": "stdout",
          "output_type": "stream",
          "text": [
            "Drive already mounted at /content/drive; to attempt to forcibly remount, call drive.mount(\"/content/drive\", force_remount=True).\n"
          ]
        }
      ],
      "source": [
        "from google.colab import drive\n",
        "drive.mount('/content/drive')"
      ]
    },
    {
      "cell_type": "markdown",
      "metadata": {
        "id": "qj0ahGMNG6AE"
      },
      "source": [
        "This notebook uses a dataset created using `yfinance` in the notebook [conditional_autoencoder_for_asset_pricing_data](05_conditional_autoencoder_for_asset_pricing_data.ipynb). The results will vary depending on which ticker downloads succeeded."
      ]
    },
    {
      "cell_type": "code",
      "execution_count": 1,
      "metadata": {
        "ExecuteTime": {
          "end_time": "2021-02-25T02:19:34.605450Z",
          "start_time": "2021-02-25T02:19:34.603752Z"
        },
        "id": "frjNW8ZuG6AE"
      },
      "outputs": [],
      "source": [
        "import warnings\n",
        "warnings.filterwarnings('ignore')"
      ]
    },
    {
      "cell_type": "code",
      "execution_count": 2,
      "metadata": {
        "ExecuteTime": {
          "end_time": "2021-02-25T02:19:36.827983Z",
          "start_time": "2021-02-25T02:19:34.779105Z"
        },
        "id": "tOutZnArG6AE"
      },
      "outputs": [],
      "source": [
        "import sys, os\n",
        "from time import time\n",
        "from pathlib import Path\n",
        "from itertools import product\n",
        "from tqdm import tqdm \n",
        "\n",
        "import numpy as np\n",
        "import pandas as pd\n",
        "\n",
        "import matplotlib.pyplot as plt\n",
        "import seaborn as sns\n",
        "\n",
        "import tensorflow as tf\n",
        "from tensorflow.keras.layers import Input, Dense, Dot, Reshape, BatchNormalization\n",
        "from tensorflow.keras.models import Model\n",
        "from tensorflow.keras.callbacks import TensorBoard\n",
        "\n",
        "from sklearn.preprocessing import quantile_transform\n",
        "\n",
        "from scipy.stats import spearmanr"
      ]
    },
    {
      "cell_type": "code",
      "execution_count": 3,
      "metadata": {
        "ExecuteTime": {
          "end_time": "2021-02-25T02:19:36.921304Z",
          "start_time": "2021-02-25T02:19:36.829045Z"
        },
        "colab": {
          "base_uri": "https://localhost:8080/"
        },
        "id": "UO1YJSZ9G6AE",
        "outputId": "859567b3-0a0f-4563-b7d6-74f0e065c8f7"
      },
      "outputs": [
        {
          "name": "stdout",
          "output_type": "stream",
          "text": [
            "Using GPU\n"
          ]
        }
      ],
      "source": [
        "gpu_devices = tf.config.experimental.list_physical_devices('GPU')\n",
        "if gpu_devices:\n",
        "    print('Using GPU')\n",
        "    tf.config.experimental.set_memory_growth(gpu_devices[0], True)\n",
        "else:\n",
        "    print('Using CPU')"
      ]
    },
    {
      "attachments": {},
      "cell_type": "markdown",
      "metadata": {},
      "source": [
        "### if Colab"
      ]
    },
    {
      "cell_type": "code",
      "execution_count": null,
      "metadata": {
        "colab": {
          "base_uri": "https://localhost:8080/"
        },
        "id": "Gcg67FhDJYKK",
        "outputId": "a4ecd176-c40b-4c87-b43c-a92b91b8c6a9"
      },
      "outputs": [
        {
          "name": "stdout",
          "output_type": "stream",
          "text": [
            "Current Path: /content\n"
          ]
        }
      ],
      "source": [
        "import os\n",
        "\n",
        "# Get the current working directory\n",
        "path = os.getcwd()\n",
        "\n",
        "# Print the path\n",
        "print(\"Current Path:\", path)\n",
        "\n",
        "# 이동할 디렉토리 경로\n",
        "path = '/content/drive/MyDrive/Colab Notebooks'\n",
        "\n",
        "# 디렉토리 변경\n",
        "os.chdir(path)"
      ]
    },
    {
      "cell_type": "code",
      "execution_count": 35,
      "metadata": {},
      "outputs": [],
      "source": [
        "sys.path.insert(1, os.path.join(sys.path[0], '..'))\n",
        "from utils import MultipleTimeSeriesCV, format_time"
      ]
    },
    {
      "cell_type": "code",
      "execution_count": 4,
      "metadata": {
        "ExecuteTime": {
          "end_time": "2021-02-25T02:19:36.941712Z",
          "start_time": "2021-02-25T02:19:36.937278Z"
        },
        "id": "Y4FheCqQG6AF"
      },
      "outputs": [],
      "source": [
        "idx = pd.IndexSlice\n",
        "sns.set_style('whitegrid')\n",
        "np.random.seed(42)"
      ]
    },
    {
      "cell_type": "code",
      "execution_count": 5,
      "metadata": {
        "ExecuteTime": {
          "end_time": "2021-02-25T02:19:37.833897Z",
          "start_time": "2021-02-25T02:19:37.830039Z"
        },
        "id": "58RNH46yG6AF"
      },
      "outputs": [],
      "source": [
        "results_path = Path('results', 'asset_pricing')\n",
        "if not results_path.exists():\n",
        "    results_path.mkdir(parents=True)"
      ]
    },
    {
      "cell_type": "code",
      "execution_count": 6,
      "metadata": {
        "ExecuteTime": {
          "end_time": "2021-02-25T02:19:38.033251Z",
          "start_time": "2021-02-25T02:19:38.027838Z"
        },
        "id": "GkbXEVVdG6AF"
      },
      "outputs": [],
      "source": [
        "characteristics = ['beta', 'betasq', 'chmom', 'dolvol', 'idiovol', 'ill', 'indmom',\n",
        "                   'maxret', 'mom12m', 'mom1m', 'mom36m', 'mvel', 'retvol', 'turn', 'turn_std']"
      ]
    },
    {
      "cell_type": "markdown",
      "metadata": {
        "id": "IglpRJCpG6AG"
      },
      "source": [
        "## Load Data"
      ]
    },
    {
      "cell_type": "code",
      "execution_count": 7,
      "metadata": {
        "ExecuteTime": {
          "end_time": "2021-02-24T18:50:13.572501Z",
          "start_time": "2021-02-24T18:50:13.512736Z"
        },
        "colab": {
          "base_uri": "https://localhost:8080/"
        },
        "id": "CLrJcRaXG6AG",
        "outputId": "d178afdb-e492-4cbb-9bce-6ff9395fca85"
      },
      "outputs": [
        {
          "name": "stdout",
          "output_type": "stream",
          "text": [
            "<class 'pandas.io.pytables.HDFStore'>\n",
            "File path: results\\asset_pricing\\autoencoder.h5\n",
            "/close                      frame        (shape->[7559,3825]) \n",
            "/factor/beta                frame        (shape->[2677781,1]) \n",
            "/factor/betasq              frame        (shape->[2677781,1]) \n",
            "/factor/chmom               frame        (shape->[3032594,1]) \n",
            "/factor/dolvol              frame        (shape->[3194404,1]) \n",
            "/factor/idiovol             frame        (shape->[2677781,1]) \n",
            "/factor/ill                 frame        (shape->[2880851,1]) \n",
            "/factor/indmom              frame        (shape->[3182400,1]) \n",
            "/factor/maxret              frame        (shape->[3194850,1]) \n",
            "/factor/mom12m              frame        (shape->[3032594,1]) \n",
            "/factor/mom1m               series       (shape->[3210620])   \n",
            "/factor/mom36m              frame        (shape->[2676077,1]) \n",
            "/factor/mvel                frame        (shape->[3227144,1]) \n",
            "/factor/retvol              frame        (shape->[3210620,1]) \n",
            "/factor/turn                frame        (shape->[3178142,1]) \n",
            "/factor/turn_std            frame        (shape->[3209297,1]) \n",
            "/metadata                   frame        (shape->[1,3])       \n",
            "/model_data                 frame        (shape->[5389425,17])\n",
            "/returns                    frame        (shape->[1565,3825]) \n",
            "/volume                     frame        (shape->[7559,3825]) \n"
          ]
        }
      ],
      "source": [
        "with pd.HDFStore(results_path / 'autoencoder.h5') as store:\n",
        "    print(store.info())"
      ]
    },
    {
      "cell_type": "markdown",
      "metadata": {
        "id": "j4e2kMyKG6AG"
      },
      "source": [
        "### Weekly returns"
      ]
    },
    {
      "cell_type": "code",
      "execution_count": 8,
      "metadata": {
        "ExecuteTime": {
          "end_time": "2021-02-25T01:26:06.206795Z",
          "start_time": "2021-02-25T01:26:04.882874Z"
        },
        "id": "O9jSRvG_G6AG"
      },
      "outputs": [],
      "source": [
        "data = (pd.read_hdf(results_path / 'autoencoder.h5', 'returns')\n",
        "        .stack(dropna=False)\n",
        "        .to_frame('returns')\n",
        "        .loc[idx['1993':, :], :])\n",
        "\n",
        "# 램 문제 발생으로 인한 1993 -> 2013"
      ]
    },
    {
      "cell_type": "code",
      "execution_count": 9,
      "metadata": {
        "ExecuteTime": {
          "end_time": "2021-02-25T01:31:04.871050Z",
          "start_time": "2021-02-25T01:26:29.547812Z"
        },
        "id": "oQeFh3FQG6AG"
      },
      "outputs": [],
      "source": [
        "with pd.HDFStore(results_path / 'autoencoder.h5') as store:\n",
        "    keys = [k[1:] for k in store.keys() if k[1:].startswith('factor')]\n",
        "    for key in keys:\n",
        "        data[key.split('/')[-1]] = store[key].squeeze()"
      ]
    },
    {
      "cell_type": "code",
      "execution_count": 10,
      "metadata": {
        "ExecuteTime": {
          "end_time": "2021-02-25T01:31:05.500857Z",
          "start_time": "2021-02-25T01:31:04.872471Z"
        },
        "id": "O88_kIdqG6AG"
      },
      "outputs": [],
      "source": [
        "characteristics = data.drop('returns', axis=1).columns.tolist()"
      ]
    },
    {
      "cell_type": "code",
      "execution_count": 11,
      "metadata": {
        "ExecuteTime": {
          "end_time": "2021-02-25T01:31:20.675618Z",
          "start_time": "2021-02-25T01:31:05.506982Z"
        },
        "id": "AckyPRVfG6AG"
      },
      "outputs": [],
      "source": [
        "data['returns_fwd'] = data.returns.unstack('ticker').shift(-1).stack()"
      ]
    },
    {
      "cell_type": "code",
      "execution_count": 12,
      "metadata": {
        "ExecuteTime": {
          "end_time": "2021-02-25T01:31:21.117546Z",
          "start_time": "2021-02-25T01:31:20.677182Z"
        },
        "colab": {
          "base_uri": "https://localhost:8080/"
        },
        "id": "wsPwsDDXG6AG",
        "outputId": "a7b4e7e0-b298-426b-a6bc-216d9d67ee48"
      },
      "outputs": [
        {
          "name": "stdout",
          "output_type": "stream",
          "text": [
            "<class 'pandas.core.frame.DataFrame'>\n",
            "MultiIndex: 5393250 entries, (Timestamp('1993-01-01 00:00:00', freq='W-FRI'), 'A') to (Timestamp('2020-01-03 00:00:00', freq='W-FRI'), 'ZYXI')\n",
            "Data columns (total 17 columns):\n",
            " #   Column       Non-Null Count    Dtype  \n",
            "---  ------       --------------    -----  \n",
            " 0   returns      3091645 non-null  float64\n",
            " 1   beta         2677781 non-null  float64\n",
            " 2   betasq       2677781 non-null  float64\n",
            " 3   chmom        2947392 non-null  float64\n",
            " 4   dolvol       3069376 non-null  float64\n",
            " 5   idiovol      2677781 non-null  float64\n",
            " 6   ill          2785453 non-null  float64\n",
            " 7   indmom       3091645 non-null  float64\n",
            " 8   maxret       3069822 non-null  float64\n",
            " 9   mom12m       2947392 non-null  float64\n",
            " 10  mom1m        3081787 non-null  float64\n",
            " 11  mom36m       2676077 non-null  float64\n",
            " 12  mvel         3094437 non-null  float64\n",
            " 13  retvol       3081787 non-null  float64\n",
            " 14  turn         3056929 non-null  float64\n",
            " 15  turn_std     3077284 non-null  float64\n",
            " 16  returns_fwd  3090691 non-null  float64\n",
            "dtypes: float64(17)\n",
            "memory usage: 720.3+ MB\n"
          ]
        }
      ],
      "source": [
        "data.info(null_counts=True)"
      ]
    },
    {
      "cell_type": "code",
      "execution_count": 13,
      "metadata": {
        "ExecuteTime": {
          "end_time": "2021-02-24T18:52:55.851733Z",
          "start_time": "2021-02-24T18:52:54.472212Z"
        },
        "id": "CJxw4oxSG6AH"
      },
      "outputs": [],
      "source": [
        "nobs_by_date = data.groupby(level='date').count().max(1)\n",
        "nobs_by_characteristic = pd.melt(data[characteristics].groupby(level='date').count(),\n",
        "                                 value_name='# Observations',\n",
        "                                 var_name=['Characteristic'])"
      ]
    },
    {
      "attachments": {},
      "cell_type": "markdown",
      "metadata": {},
      "source": [
        "### 주식 개수, Beta 개수"
      ]
    },
    {
      "cell_type": "code",
      "execution_count": null,
      "metadata": {
        "ExecuteTime": {
          "end_time": "2021-02-24T18:52:56.259184Z",
          "start_time": "2021-02-24T18:52:55.852633Z"
        },
        "colab": {
          "base_uri": "https://localhost:8080/",
          "height": 407
        },
        "id": "b22VkMUwG6AH",
        "outputId": "1353b7c5-045a-41cc-b876-775723f715b7"
      },
      "outputs": [
        {
          "data": {
            "image/png": "[encoded data removed]",
            "text/plain": [
              "<Figure size 1400x400 with 2 Axes>"
            ]
          },
          "metadata": {},
          "output_type": "display_data"
        }
      ],
      "source": [
        "with sns.axes_style(\"white\"):\n",
        "    fig, axes = plt.subplots(ncols=2, figsize=(14, 4))\n",
        "    sns.distplot(nobs_by_date, kde=False, ax=axes[0])\n",
        "    axes[0].set_title('# of Stocks per Week')\n",
        "    axes[0].set_xlabel('# of Observations')\n",
        "    sns.boxplot(x='Characteristic',\n",
        "                y='# Observations',\n",
        "                data=nobs_by_characteristic,\n",
        "                ax=axes[1],\n",
        "                palette='Blues')\n",
        "    axes[1].set_xticklabels(axes[1].get_xticklabels(),\n",
        "                            rotation=25,\n",
        "                            ha='right')\n",
        "    axes[1].set_title('# of Observation per Stock Characteristic')\n",
        "    sns.despine()\n",
        "    fig.tight_layout()\n",
        "    # fig.savefig(results_path / 'of Stocks per Week', dpi=600)"
      ]
    },
    {
      "cell_type": "markdown",
      "metadata": {
        "id": "RcveLXAGG6AH"
      },
      "source": [
        "### Rank-normalize characteristics"
      ]
    },
    {
      "cell_type": "code",
      "execution_count": 14,
      "metadata": {
        "ExecuteTime": {
          "end_time": "2021-02-24T18:54:46.798214Z",
          "start_time": "2021-02-24T18:52:56.260370Z"
        },
        "id": "qRXGH5HMG6AH"
      },
      "outputs": [],
      "source": [
        "data.loc[:, characteristics] = (data.loc[:, characteristics]\n",
        "                                .groupby(level='date')\n",
        "                                .apply(lambda x: pd.DataFrame(quantile_transform(x, \n",
        "                                                                                 copy=True, \n",
        "                                                                                 n_quantiles=x.shape[0]),\n",
        "                                                              columns=characteristics,\n",
        "                                                              index=x.index.get_level_values('ticker')))\n",
        "                               .mul(2).sub(1))"
      ]
    },
    {
      "cell_type": "code",
      "execution_count": 15,
      "metadata": {
        "ExecuteTime": {
          "end_time": "2021-02-24T18:54:46.944271Z",
          "start_time": "2021-02-24T18:54:46.799110Z"
        },
        "colab": {
          "base_uri": "https://localhost:8080/"
        },
        "id": "CPAaj0CfG6AH",
        "outputId": "2393e17e-4a92-42f8-a67e-28eeec09b1eb"
      },
      "outputs": [
        {
          "name": "stdout",
          "output_type": "stream",
          "text": [
            "<class 'pandas.core.frame.DataFrame'>\n",
            "MultiIndex: 5393250 entries, (Timestamp('1993-01-01 00:00:00', freq='W-FRI'), 'A') to (Timestamp('2020-01-03 00:00:00', freq='W-FRI'), 'ZYXI')\n",
            "Data columns (total 17 columns):\n",
            " #   Column       Non-Null Count    Dtype  \n",
            "---  ------       --------------    -----  \n",
            " 0   returns      3091645 non-null  float64\n",
            " 1   beta         2677781 non-null  float64\n",
            " 2   betasq       2677781 non-null  float64\n",
            " 3   chmom        2947392 non-null  float64\n",
            " 4   dolvol       3069376 non-null  float64\n",
            " 5   idiovol      2677781 non-null  float64\n",
            " 6   ill          2785453 non-null  float64\n",
            " 7   indmom       3091645 non-null  float64\n",
            " 8   maxret       3069822 non-null  float64\n",
            " 9   mom12m       2947392 non-null  float64\n",
            " 10  mom1m        3081787 non-null  float64\n",
            " 11  mom36m       2676077 non-null  float64\n",
            " 12  mvel         3094437 non-null  float64\n",
            " 13  retvol       3081787 non-null  float64\n",
            " 14  turn         3056929 non-null  float64\n",
            " 15  turn_std     3077284 non-null  float64\n",
            " 16  returns_fwd  3090691 non-null  float64\n",
            "dtypes: float64(17)\n",
            "memory usage: 720.3+ MB\n"
          ]
        }
      ],
      "source": [
        "data.info(null_counts=True)"
      ]
    },
    {
      "cell_type": "code",
      "execution_count": 16,
      "metadata": {
        "ExecuteTime": {
          "end_time": "2021-02-24T18:54:46.948950Z",
          "start_time": "2021-02-24T18:54:46.945523Z"
        },
        "colab": {
          "base_uri": "https://localhost:8080/"
        },
        "id": "dnqooaKBG6AH",
        "outputId": "e51e6a0c-880c-4922-bc9d-7ee9005c51e9"
      },
      "outputs": [
        {
          "data": {
            "text/plain": [
              "FrozenList(['date', 'ticker'])"
            ]
          },
          "execution_count": 16,
          "metadata": {},
          "output_type": "execute_result"
        }
      ],
      "source": [
        "data.index.names"
      ]
    },
    {
      "cell_type": "code",
      "execution_count": 17,
      "metadata": {
        "ExecuteTime": {
          "end_time": "2021-02-24T18:54:50.852191Z",
          "start_time": "2021-02-24T18:54:46.950191Z"
        },
        "colab": {
          "base_uri": "https://localhost:8080/",
          "height": 399
        },
        "id": "G_pCOAC4G6AI",
        "outputId": "dcf2b5d9-0ede-4a5b-cae9-21e34af4fd89"
      },
      "outputs": [
        {
          "data": {
            "text/html": [
              "<div>\n",
              "<style scoped>\n",
              "    .dataframe tbody tr th:only-of-type {\n",
              "        vertical-align: middle;\n",
              "    }\n",
              "\n",
              "    .dataframe tbody tr th {\n",
              "        vertical-align: top;\n",
              "    }\n",
              "\n",
              "    .dataframe thead th {\n",
              "        text-align: right;\n",
              "    }\n",
              "</style>\n",
              "<table border=\"1\" class=\"dataframe\">\n",
              "  <thead>\n",
              "    <tr style=\"text-align: right;\">\n",
              "      <th></th>\n",
              "      <th>returns</th>\n",
              "      <th>beta</th>\n",
              "      <th>betasq</th>\n",
              "      <th>chmom</th>\n",
              "      <th>dolvol</th>\n",
              "      <th>idiovol</th>\n",
              "      <th>ill</th>\n",
              "      <th>indmom</th>\n",
              "      <th>maxret</th>\n",
              "      <th>mom12m</th>\n",
              "      <th>mom1m</th>\n",
              "      <th>mom36m</th>\n",
              "      <th>mvel</th>\n",
              "      <th>retvol</th>\n",
              "      <th>turn</th>\n",
              "      <th>turn_std</th>\n",
              "      <th>returns_fwd</th>\n",
              "    </tr>\n",
              "  </thead>\n",
              "  <tbody>\n",
              "    <tr>\n",
              "      <th>count</th>\n",
              "      <td>3.091645e+06</td>\n",
              "      <td>2.677781e+06</td>\n",
              "      <td>2.677781e+06</td>\n",
              "      <td>2.947392e+06</td>\n",
              "      <td>3.069376e+06</td>\n",
              "      <td>2.677781e+06</td>\n",
              "      <td>2.785453e+06</td>\n",
              "      <td>3.091645e+06</td>\n",
              "      <td>3.069822e+06</td>\n",
              "      <td>2.947392e+06</td>\n",
              "      <td>3.081787e+06</td>\n",
              "      <td>2.676077e+06</td>\n",
              "      <td>3.094437e+06</td>\n",
              "      <td>3.081787e+06</td>\n",
              "      <td>3.056929e+06</td>\n",
              "      <td>3.077284e+06</td>\n",
              "      <td>3.090691e+06</td>\n",
              "    </tr>\n",
              "    <tr>\n",
              "      <th>mean</th>\n",
              "      <td>3.045176e-03</td>\n",
              "      <td>-5.309169e-08</td>\n",
              "      <td>-5.146152e-07</td>\n",
              "      <td>6.963426e-09</td>\n",
              "      <td>-4.709343e-07</td>\n",
              "      <td>-2.391944e-07</td>\n",
              "      <td>-5.998247e-07</td>\n",
              "      <td>7.947761e-04</td>\n",
              "      <td>-1.238270e-07</td>\n",
              "      <td>-1.101284e-07</td>\n",
              "      <td>3.994020e-08</td>\n",
              "      <td>-1.678374e-07</td>\n",
              "      <td>-3.933234e-08</td>\n",
              "      <td>-1.024869e-06</td>\n",
              "      <td>-4.668285e-07</td>\n",
              "      <td>-9.886441e-07</td>\n",
              "      <td>3.042616e-03</td>\n",
              "    </tr>\n",
              "    <tr>\n",
              "      <th>std</th>\n",
              "      <td>6.134996e-02</td>\n",
              "      <td>5.776538e-01</td>\n",
              "      <td>5.776544e-01</td>\n",
              "      <td>5.776258e-01</td>\n",
              "      <td>5.776161e-01</td>\n",
              "      <td>5.776539e-01</td>\n",
              "      <td>5.776421e-01</td>\n",
              "      <td>5.879197e-01</td>\n",
              "      <td>5.776144e-01</td>\n",
              "      <td>5.776259e-01</td>\n",
              "      <td>5.776114e-01</td>\n",
              "      <td>5.776540e-01</td>\n",
              "      <td>5.776128e-01</td>\n",
              "      <td>5.776155e-01</td>\n",
              "      <td>5.776164e-01</td>\n",
              "      <td>5.776150e-01</td>\n",
              "      <td>6.135423e-02</td>\n",
              "    </tr>\n",
              "    <tr>\n",
              "      <th>min</th>\n",
              "      <td>-9.549180e-01</td>\n",
              "      <td>-1.000000e+00</td>\n",
              "      <td>-1.000000e+00</td>\n",
              "      <td>-1.000000e+00</td>\n",
              "      <td>-1.000000e+00</td>\n",
              "      <td>-1.000000e+00</td>\n",
              "      <td>-1.000000e+00</td>\n",
              "      <td>-1.000000e+00</td>\n",
              "      <td>-1.000000e+00</td>\n",
              "      <td>-1.000000e+00</td>\n",
              "      <td>-1.000000e+00</td>\n",
              "      <td>-1.000000e+00</td>\n",
              "      <td>-1.000000e+00</td>\n",
              "      <td>-1.000000e+00</td>\n",
              "      <td>-1.000000e+00</td>\n",
              "      <td>-1.000000e+00</td>\n",
              "      <td>-9.549180e-01</td>\n",
              "    </tr>\n",
              "    <tr>\n",
              "      <th>25%</th>\n",
              "      <td>-2.155692e-02</td>\n",
              "      <td>-5.002539e-01</td>\n",
              "      <td>-5.002617e-01</td>\n",
              "      <td>-5.002054e-01</td>\n",
              "      <td>-5.001815e-01</td>\n",
              "      <td>-5.002382e-01</td>\n",
              "      <td>-5.002250e-01</td>\n",
              "      <td>-4.900628e-01</td>\n",
              "      <td>-5.002588e-01</td>\n",
              "      <td>-5.002046e-01</td>\n",
              "      <td>-5.000749e-01</td>\n",
              "      <td>-5.002558e-01</td>\n",
              "      <td>-5.001877e-01</td>\n",
              "      <td>-5.001996e-01</td>\n",
              "      <td>-5.001927e-01</td>\n",
              "      <td>-5.001929e-01</td>\n",
              "      <td>-2.156144e-02</td>\n",
              "    </tr>\n",
              "    <tr>\n",
              "      <th>50%</th>\n",
              "      <td>9.764409e-04</td>\n",
              "      <td>0.000000e+00</td>\n",
              "      <td>0.000000e+00</td>\n",
              "      <td>0.000000e+00</td>\n",
              "      <td>-1.110223e-16</td>\n",
              "      <td>-1.110223e-16</td>\n",
              "      <td>0.000000e+00</td>\n",
              "      <td>1.046025e-03</td>\n",
              "      <td>0.000000e+00</td>\n",
              "      <td>0.000000e+00</td>\n",
              "      <td>-1.110223e-16</td>\n",
              "      <td>0.000000e+00</td>\n",
              "      <td>-1.110223e-16</td>\n",
              "      <td>-1.110223e-16</td>\n",
              "      <td>0.000000e+00</td>\n",
              "      <td>0.000000e+00</td>\n",
              "      <td>9.764634e-04</td>\n",
              "    </tr>\n",
              "    <tr>\n",
              "      <th>75%</th>\n",
              "      <td>2.502054e-02</td>\n",
              "      <td>5.002418e-01</td>\n",
              "      <td>5.002408e-01</td>\n",
              "      <td>5.002116e-01</td>\n",
              "      <td>5.001990e-01</td>\n",
              "      <td>5.002417e-01</td>\n",
              "      <td>5.002108e-01</td>\n",
              "      <td>4.811715e-01</td>\n",
              "      <td>5.001784e-01</td>\n",
              "      <td>5.002182e-01</td>\n",
              "      <td>5.001866e-01</td>\n",
              "      <td>5.002496e-01</td>\n",
              "      <td>5.001930e-01</td>\n",
              "      <td>5.001858e-01</td>\n",
              "      <td>5.001975e-01</td>\n",
              "      <td>5.001834e-01</td>\n",
              "      <td>2.501880e-02</td>\n",
              "    </tr>\n",
              "    <tr>\n",
              "      <th>max</th>\n",
              "      <td>4.000000e+00</td>\n",
              "      <td>1.000000e+00</td>\n",
              "      <td>1.000000e+00</td>\n",
              "      <td>1.000000e+00</td>\n",
              "      <td>1.000000e+00</td>\n",
              "      <td>1.000000e+00</td>\n",
              "      <td>1.000000e+00</td>\n",
              "      <td>1.000000e+00</td>\n",
              "      <td>1.000000e+00</td>\n",
              "      <td>1.000000e+00</td>\n",
              "      <td>1.000000e+00</td>\n",
              "      <td>1.000000e+00</td>\n",
              "      <td>1.000000e+00</td>\n",
              "      <td>1.000000e+00</td>\n",
              "      <td>1.000000e+00</td>\n",
              "      <td>1.000000e+00</td>\n",
              "      <td>4.000000e+00</td>\n",
              "    </tr>\n",
              "  </tbody>\n",
              "</table>\n",
              "</div>"
            ],
            "text/plain": [
              "            returns          beta        betasq         chmom        dolvol  \\\n",
              "count  3.091645e+06  2.677781e+06  2.677781e+06  2.947392e+06  3.069376e+06   \n",
              "mean   3.045176e-03 -5.309169e-08 -5.146152e-07  6.963426e-09 -4.709343e-07   \n",
              "std    6.134996e-02  5.776538e-01  5.776544e-01  5.776258e-01  5.776161e-01   \n",
              "min   -9.549180e-01 -1.000000e+00 -1.000000e+00 -1.000000e+00 -1.000000e+00   \n",
              "25%   -2.155692e-02 -5.002539e-01 -5.002617e-01 -5.002054e-01 -5.001815e-01   \n",
              "50%    9.764409e-04  0.000000e+00  0.000000e+00  0.000000e+00 -1.110223e-16   \n",
              "75%    2.502054e-02  5.002418e-01  5.002408e-01  5.002116e-01  5.001990e-01   \n",
              "max    4.000000e+00  1.000000e+00  1.000000e+00  1.000000e+00  1.000000e+00   \n",
              "\n",
              "            idiovol           ill        indmom        maxret        mom12m  \\\n",
              "count  2.677781e+06  2.785453e+06  3.091645e+06  3.069822e+06  2.947392e+06   \n",
              "mean  -2.391944e-07 -5.998247e-07  7.947761e-04 -1.238270e-07 -1.101284e-07   \n",
              "std    5.776539e-01  5.776421e-01  5.879197e-01  5.776144e-01  5.776259e-01   \n",
              "min   -1.000000e+00 -1.000000e+00 -1.000000e+00 -1.000000e+00 -1.000000e+00   \n",
              "25%   -5.002382e-01 -5.002250e-01 -4.900628e-01 -5.002588e-01 -5.002046e-01   \n",
              "50%   -1.110223e-16  0.000000e+00  1.046025e-03  0.000000e+00  0.000000e+00   \n",
              "75%    5.002417e-01  5.002108e-01  4.811715e-01  5.001784e-01  5.002182e-01   \n",
              "max    1.000000e+00  1.000000e+00  1.000000e+00  1.000000e+00  1.000000e+00   \n",
              "\n",
              "              mom1m        mom36m          mvel        retvol          turn  \\\n",
              "count  3.081787e+06  2.676077e+06  3.094437e+06  3.081787e+06  3.056929e+06   \n",
              "mean   3.994020e-08 -1.678374e-07 -3.933234e-08 -1.024869e-06 -4.668285e-07   \n",
              "std    5.776114e-01  5.776540e-01  5.776128e-01  5.776155e-01  5.776164e-01   \n",
              "min   -1.000000e+00 -1.000000e+00 -1.000000e+00 -1.000000e+00 -1.000000e+00   \n",
              "25%   -5.000749e-01 -5.002558e-01 -5.001877e-01 -5.001996e-01 -5.001927e-01   \n",
              "50%   -1.110223e-16  0.000000e+00 -1.110223e-16 -1.110223e-16  0.000000e+00   \n",
              "75%    5.001866e-01  5.002496e-01  5.001930e-01  5.001858e-01  5.001975e-01   \n",
              "max    1.000000e+00  1.000000e+00  1.000000e+00  1.000000e+00  1.000000e+00   \n",
              "\n",
              "           turn_std   returns_fwd  \n",
              "count  3.077284e+06  3.090691e+06  \n",
              "mean  -9.886441e-07  3.042616e-03  \n",
              "std    5.776150e-01  6.135423e-02  \n",
              "min   -1.000000e+00 -9.549180e-01  \n",
              "25%   -5.001929e-01 -2.156144e-02  \n",
              "50%    0.000000e+00  9.764634e-04  \n",
              "75%    5.001834e-01  2.501880e-02  \n",
              "max    1.000000e+00  4.000000e+00  "
            ]
          },
          "execution_count": 17,
          "metadata": {},
          "output_type": "execute_result"
        }
      ],
      "source": [
        "data.describe()"
      ]
    },
    {
      "cell_type": "code",
      "execution_count": 18,
      "metadata": {
        "ExecuteTime": {
          "end_time": "2021-02-24T18:54:51.653434Z",
          "start_time": "2021-02-24T18:54:50.853071Z"
        },
        "id": "Bgf0yr-DG6AI"
      },
      "outputs": [],
      "source": [
        "data = data.loc[idx[:'2019', :], :]"
      ]
    },
    {
      "cell_type": "code",
      "execution_count": 19,
      "metadata": {
        "ExecuteTime": {
          "end_time": "2021-02-24T18:54:52.175796Z",
          "start_time": "2021-02-24T18:54:51.654300Z"
        },
        "id": "b2ue55JPG6AI"
      },
      "outputs": [],
      "source": [
        "data.loc[:, ['returns', 'returns_fwd']] = data.loc[:, ['returns', 'returns_fwd']].clip(lower=-1, upper=1.0)"
      ]
    },
    {
      "cell_type": "code",
      "execution_count": 20,
      "metadata": {
        "ExecuteTime": {
          "end_time": "2021-02-24T18:54:52.551139Z",
          "start_time": "2021-02-24T18:54:52.176641Z"
        },
        "id": "ubThCAzvG6AI"
      },
      "outputs": [],
      "source": [
        "data = data.fillna(-2)"
      ]
    },
    {
      "cell_type": "code",
      "execution_count": 21,
      "metadata": {
        "ExecuteTime": {
          "end_time": "2021-02-24T18:54:53.177682Z",
          "start_time": "2021-02-24T18:54:52.551965Z"
        },
        "id": "dbL7Y2fUG6AI"
      },
      "outputs": [],
      "source": [
        "data.to_hdf(results_path / 'autoencoder.h5', 'model_data')"
      ]
    },
    {
      "cell_type": "markdown",
      "metadata": {
        "id": "aZhu0InOG6AI"
      },
      "source": [
        "## Architecture"
      ]
    },
    {
      "cell_type": "code",
      "execution_count": 22,
      "metadata": {
        "ExecuteTime": {
          "end_time": "2021-02-25T02:19:55.884348Z",
          "start_time": "2021-02-25T02:19:54.229906Z"
        },
        "id": "D12Z1ydfG6AI"
      },
      "outputs": [],
      "source": [
        "data = pd.read_hdf(results_path / 'autoencoder.h5', 'model_data')"
      ]
    },
    {
      "cell_type": "markdown",
      "metadata": {
        "id": "-bpjOx7FG6AI"
      },
      "source": [
        "### Key parameters"
      ]
    },
    {
      "cell_type": "code",
      "execution_count": 23,
      "metadata": {
        "ExecuteTime": {
          "end_time": "2021-02-25T02:19:56.938323Z",
          "start_time": "2021-02-25T02:19:56.887604Z"
        },
        "id": "TRNt3IhNG6AI"
      },
      "outputs": [],
      "source": [
        "n_factors = 3\n",
        "n_characteristics = len(characteristics)\n",
        "n_tickers = len(data.index.unique('ticker'))"
      ]
    },
    {
      "cell_type": "code",
      "execution_count": 24,
      "metadata": {
        "ExecuteTime": {
          "end_time": "2021-02-25T02:19:57.066339Z",
          "start_time": "2021-02-25T02:19:57.056425Z"
        },
        "colab": {
          "base_uri": "https://localhost:8080/"
        },
        "id": "SXdtaEpUG6AI",
        "outputId": "0394bc41-e4df-456c-cd79-0d8f0b9260bc"
      },
      "outputs": [
        {
          "data": {
            "text/plain": [
              "3825"
            ]
          },
          "execution_count": 24,
          "metadata": {},
          "output_type": "execute_result"
        }
      ],
      "source": [
        "n_tickers"
      ]
    },
    {
      "cell_type": "code",
      "execution_count": 25,
      "metadata": {
        "ExecuteTime": {
          "end_time": "2021-02-25T02:19:57.769420Z",
          "start_time": "2021-02-25T02:19:57.761574Z"
        },
        "colab": {
          "base_uri": "https://localhost:8080/"
        },
        "id": "TR7cTuH2G6AJ",
        "outputId": "2004e998-4e36-41d6-b55c-22edb3feadc7"
      },
      "outputs": [
        {
          "data": {
            "text/plain": [
              "15"
            ]
          },
          "execution_count": 25,
          "metadata": {},
          "output_type": "execute_result"
        }
      ],
      "source": [
        "n_characteristics"
      ]
    },
    {
      "cell_type": "markdown",
      "metadata": {
        "id": "e3ZahFnmG6AJ"
      },
      "source": [
        "### Input Layer"
      ]
    },
    {
      "cell_type": "code",
      "execution_count": 26,
      "metadata": {
        "ExecuteTime": {
          "end_time": "2021-02-24T18:54:54.294252Z",
          "start_time": "2021-02-24T18:54:54.279343Z"
        },
        "id": "uLCzsLNbG6AJ"
      },
      "outputs": [],
      "source": [
        "input_beta = Input((n_tickers, n_characteristics), name='input_beta')\n",
        "input_factor = Input((n_tickers,), name='input_factor')"
      ]
    },
    {
      "cell_type": "markdown",
      "metadata": {
        "id": "hbukeRCjG6AJ"
      },
      "source": [
        "### Stock Characteristics Network"
      ]
    },
    {
      "cell_type": "code",
      "execution_count": 27,
      "metadata": {
        "ExecuteTime": {
          "end_time": "2021-02-24T18:54:55.015972Z",
          "start_time": "2021-02-24T18:54:54.295081Z"
        },
        "id": "SLDent98G6AJ"
      },
      "outputs": [],
      "source": [
        "hidden_layer = Dense(units=8, activation='relu', name='hidden_layer')(input_beta)\n",
        "batch_norm = BatchNormalization(name='batch_norm')(hidden_layer)\n",
        "output_beta = Dense(units=n_factors, name='output_beta')(batch_norm)"
      ]
    },
    {
      "cell_type": "markdown",
      "metadata": {
        "id": "UdetRIiJG6AJ"
      },
      "source": [
        "### Factor Network"
      ]
    },
    {
      "cell_type": "code",
      "execution_count": 28,
      "metadata": {
        "ExecuteTime": {
          "end_time": "2021-02-24T18:54:55.023022Z",
          "start_time": "2021-02-24T18:54:55.016867Z"
        },
        "id": "kzvm_04QG6AJ"
      },
      "outputs": [],
      "source": [
        "output_factor = Dense(units=n_factors, name='output_factor')(input_factor)"
      ]
    },
    {
      "cell_type": "markdown",
      "metadata": {
        "id": "RXenirpqG6AJ"
      },
      "source": [
        "### Output Layer"
      ]
    },
    {
      "cell_type": "code",
      "execution_count": 29,
      "metadata": {
        "ExecuteTime": {
          "end_time": "2021-02-24T18:54:55.030563Z",
          "start_time": "2021-02-24T18:54:55.024006Z"
        },
        "id": "0rLK9dJqG6AJ"
      },
      "outputs": [],
      "source": [
        "output = Dot(axes=(2,1), name='output_layer')([output_beta, output_factor])"
      ]
    },
    {
      "cell_type": "markdown",
      "metadata": {
        "id": "mL5ofl37G6AJ"
      },
      "source": [
        "### Compile Layer"
      ]
    },
    {
      "cell_type": "code",
      "execution_count": 30,
      "metadata": {
        "ExecuteTime": {
          "end_time": "2021-02-24T18:54:55.044843Z",
          "start_time": "2021-02-24T18:54:55.031505Z"
        },
        "id": "m4ULKi4lG6AJ"
      },
      "outputs": [],
      "source": [
        "model = Model(inputs=[input_beta, input_factor], outputs=output)\n",
        "model.compile(loss='mse', optimizer='adam')"
      ]
    },
    {
      "cell_type": "markdown",
      "metadata": {
        "id": "AWLzNjujG6AK"
      },
      "source": [
        "### Automate model generation"
      ]
    },
    {
      "cell_type": "code",
      "execution_count": 31,
      "metadata": {
        "ExecuteTime": {
          "end_time": "2021-02-25T02:20:24.943542Z",
          "start_time": "2021-02-25T02:20:24.940487Z"
        },
        "id": "gWc_qQt7G6AK"
      },
      "outputs": [],
      "source": [
        "def make_model(hidden_units=8, n_factors=3):\n",
        "    input_beta = Input((n_tickers, n_characteristics), name='input_beta')\n",
        "    input_factor = Input((n_tickers,), name='input_factor')\n",
        "\n",
        "    hidden_layer = Dense(units=hidden_units, activation='relu', name='hidden_layer')(input_beta)\n",
        "    batch_norm = BatchNormalization(name='batch_norm')(hidden_layer)\n",
        "    \n",
        "    output_beta = Dense(units=n_factors, name='output_beta')(batch_norm)\n",
        "\n",
        "    output_factor = Dense(units=n_factors, name='output_factor')(input_factor)\n",
        "\n",
        "    output = Dot(axes=(2,1), name='output_layer')([output_beta, output_factor])\n",
        "\n",
        "    model = Model(inputs=[input_beta, input_factor], outputs=output)\n",
        "    model.compile(loss='mse', optimizer='adam')\n",
        "    return model"
      ]
    },
    {
      "cell_type": "markdown",
      "metadata": {
        "id": "2IPY0kmLG6AK"
      },
      "source": [
        "### Model Summary"
      ]
    },
    {
      "cell_type": "code",
      "execution_count": 32,
      "metadata": {
        "ExecuteTime": {
          "end_time": "2021-02-24T18:54:55.060992Z",
          "start_time": "2021-02-24T18:54:55.051617Z"
        },
        "colab": {
          "base_uri": "https://localhost:8080/"
        },
        "id": "r5gN4RLtG6AK",
        "outputId": "43982cf3-d348-4c97-f221-afdf495820ea"
      },
      "outputs": [
        {
          "name": "stdout",
          "output_type": "stream",
          "text": [
            "Model: \"model\"\n",
            "__________________________________________________________________________________________________\n",
            " Layer (type)                   Output Shape         Param #     Connected to                     \n",
            "==================================================================================================\n",
            " input_beta (InputLayer)        [(None, 3825, 15)]   0           []                               \n",
            "                                                                                                  \n",
            " hidden_layer (Dense)           (None, 3825, 8)      128         ['input_beta[0][0]']             \n",
            "                                                                                                  \n",
            " batch_norm (BatchNormalization  (None, 3825, 8)     32          ['hidden_layer[0][0]']           \n",
            " )                                                                                                \n",
            "                                                                                                  \n",
            " input_factor (InputLayer)      [(None, 3825)]       0           []                               \n",
            "                                                                                                  \n",
            " output_beta (Dense)            (None, 3825, 3)      27          ['batch_norm[0][0]']             \n",
            "                                                                                                  \n",
            " output_factor (Dense)          (None, 3)            11478       ['input_factor[0][0]']           \n",
            "                                                                                                  \n",
            " output_layer (Dot)             (None, 3825)         0           ['output_beta[0][0]',            \n",
            "                                                                  'output_factor[0][0]']          \n",
            "                                                                                                  \n",
            "==================================================================================================\n",
            "Total params: 11,665\n",
            "Trainable params: 11,649\n",
            "Non-trainable params: 16\n",
            "__________________________________________________________________________________________________\n"
          ]
        }
      ],
      "source": [
        "model.summary()"
      ]
    },
    {
      "cell_type": "markdown",
      "metadata": {
        "id": "ntThvUmmHWNQ"
      },
      "source": [
        "### 모델 시각화"
      ]
    },
    {
      "cell_type": "code",
      "execution_count": null,
      "metadata": {
        "id": "VvCMNAMMBzcX"
      },
      "outputs": [],
      "source": [
        "# model_img_file = (results_path / 'model.png' )\n",
        "# tf.keras.utils.plot_model(model, to_file=model_img_file, \n",
        "#                           show_shapes=True, \n",
        "#                           show_layer_activations=True, \n",
        "#                           show_dtype=True,\n",
        "#                           show_layer_names=True )\n",
        "\n",
        "# model.save(results_path / 'model_img.h5')"
      ]
    },
    {
      "cell_type": "markdown",
      "metadata": {
        "id": "wFZt1G0rG6AK"
      },
      "source": [
        "## Train Model"
      ]
    },
    {
      "cell_type": "markdown",
      "metadata": {
        "id": "b-WjCAhEG6AK"
      },
      "source": [
        "### Cross-validation parameters"
      ]
    },
    {
      "cell_type": "code",
      "execution_count": 33,
      "metadata": {
        "ExecuteTime": {
          "end_time": "2021-02-25T02:20:29.903066Z",
          "start_time": "2021-02-25T02:20:29.897417Z"
        },
        "id": "idi-meTnG6AK"
      },
      "outputs": [],
      "source": [
        "YEAR = 52"
      ]
    },
    {
      "cell_type": "code",
      "execution_count": 36,
      "metadata": {
        "ExecuteTime": {
          "end_time": "2021-02-25T02:20:30.091049Z",
          "start_time": "2021-02-25T02:20:30.086342Z"
        },
        "id": "ij2BlrbjG6AK"
      },
      "outputs": [],
      "source": [
        "cv = MultipleTimeSeriesCV(n_splits=5, # 5\n",
        "                          train_period_length=20*YEAR,\n",
        "                          test_period_length=1*YEAR,\n",
        "                          lookahead=1)"
      ]
    },
    {
      "cell_type": "code",
      "execution_count": 37,
      "metadata": {
        "ExecuteTime": {
          "end_time": "2021-02-25T02:20:30.241815Z",
          "start_time": "2021-02-25T02:20:30.232493Z"
        },
        "id": "jlnPNQA7G6AK"
      },
      "outputs": [],
      "source": [
        "def get_train_valid_data(data, train_idx, val_idx):\n",
        "    train, val = data.iloc[train_idx], data.iloc[val_idx]\n",
        "    X1_train = train.loc[:, characteristics].values.reshape(-1, n_tickers, n_characteristics)\n",
        "    X1_val = val.loc[:, characteristics].values.reshape(-1, n_tickers, n_characteristics)\n",
        "    X2_train = train.loc[:, 'returns'].unstack('ticker')\n",
        "    X2_val = val.loc[:, 'returns'].unstack('ticker')\n",
        "    y_train = train.returns_fwd.unstack('ticker')\n",
        "    y_val = val.returns_fwd.unstack('ticker')\n",
        "    return X1_train, X2_train, y_train, X1_val, X2_val, y_val"
      ]
    },
    {
      "cell_type": "markdown",
      "metadata": {
        "id": "n4easAuxG6AK"
      },
      "source": [
        "### Hyperparameter Options"
      ]
    },
    {
      "cell_type": "code",
      "execution_count": 55,
      "metadata": {
        "ExecuteTime": {
          "end_time": "2021-02-25T02:20:33.307625Z",
          "start_time": "2021-02-25T02:20:33.301301Z"
        },
        "id": "WjIuCe-GG6AL"
      },
      "outputs": [],
      "source": [
        "factor_opts = [2, 3, 4, 5, 6] # 2, 3, 4, 5, 6\n",
        "unit_opts = [16, 32] # 8, 16, 32"
      ]
    },
    {
      "cell_type": "code",
      "execution_count": 56,
      "metadata": {
        "ExecuteTime": {
          "end_time": "2021-02-25T02:20:33.390923Z",
          "start_time": "2021-02-25T02:20:33.389108Z"
        },
        "id": "01Nyhm4NG6AL"
      },
      "outputs": [],
      "source": [
        "param_grid = list(product(unit_opts, factor_opts))"
      ]
    },
    {
      "cell_type": "markdown",
      "metadata": {
        "id": "9BxH3rJNG6AL"
      },
      "source": [
        "### Run Cross-Validation"
      ]
    },
    {
      "cell_type": "code",
      "execution_count": 57,
      "metadata": {
        "ExecuteTime": {
          "end_time": "2021-02-24T18:54:55.113516Z",
          "start_time": "2021-02-24T18:54:55.104687Z"
        },
        "id": "iO8vps_TG6AL"
      },
      "outputs": [],
      "source": [
        "batch_size = 1024"
      ]
    },
    {
      "cell_type": "code",
      "execution_count": 58,
      "metadata": {
        "ExecuteTime": {
          "end_time": "2021-02-24T18:54:55.121852Z",
          "start_time": "2021-02-24T18:54:55.114344Z"
        },
        "id": "axwYRei7G6AL"
      },
      "outputs": [],
      "source": [
        "cols = ['units', 'n_factors', 'fold', 'epoch', 'ic_mean', \n",
        "        'ic_daily_mean', 'ic_daily_std', 'ic_daily_median']"
      ]
    },
    {
      "cell_type": "code",
      "execution_count": 59,
      "metadata": {
        "id": "cjYdK5ezHFP9"
      },
      "outputs": [],
      "source": [
        "import gc\n",
        "from tensorflow.keras import backend as k\n",
        "from tensorflow.keras.callbacks import Callback\n",
        "from keras.utils import Sequence\n",
        "\n",
        "# Define a custom data generator to feed data to the model\n",
        "class DataGenerator(Sequence):\n",
        "    def __init__(self, X1, X2, y, batch_size):\n",
        "        self.X1 = X1\n",
        "        self.X2 = X2\n",
        "        self.y = y\n",
        "        self.batch_size = batch_size\n",
        "\n",
        "    def __len__(self):\n",
        "        return int(np.ceil(len(self.X1) / float(self.batch_size)))\n",
        "\n",
        "    def __getitem__(self, idx):\n",
        "        batch_X1 = self.X1[idx * self.batch_size:(idx + 1) * self.batch_size]\n",
        "        batch_X2 = self.X2[idx * self.batch_size:(idx + 1) * self.batch_size]\n",
        "        batch_y = self.y[idx * self.batch_size:(idx + 1) * self.batch_size]\n",
        "        return [batch_X1, batch_X2], batch_y\n",
        "\n",
        "class ClearMemory(Callback):\n",
        "    def on_epoch_end(self, epoch, logs=None):\n",
        "        gc.collect()\n",
        "        k.clear_session()"
      ]
    },
    {
      "cell_type": "code",
      "execution_count": 60,
      "metadata": {
        "colab": {
          "base_uri": "https://localhost:8080/",
          "height": 437
        },
        "id": "rZ9lq3oWZd7e",
        "outputId": "63bd0820-0e9d-4caf-f176-6afeb0e45127"
      },
      "outputs": [
        {
          "name": "stdout",
          "output_type": "stream",
          "text": [
            "units: 16 , n_factors: 2\n",
            "00:00:04 | 2 | 16 | 00-000 | -7.49% | -3.66% | -2.60%\n",
            "00:00:57 | 2 | 16 | 00-050 | -5.56% | -2.34% | -0.79%\n",
            "00:01:49 | 2 | 16 | 00-100 | -2.56% | -1.31% | -0.41%\n",
            "00:02:45 | 2 | 16 | 00-150 | -1.08% | -0.47% | -0.10%\n",
            "00:03:38 | 2 | 16 | 00-200 |  0.18% |  0.15% | -0.09%\n",
            "00:04:33 | 2 | 16 | 01-000 |  1.79% |  0.31% |  0.29%\n",
            "00:05:25 | 2 | 16 | 01-050 | -0.82% | -2.19% | -1.94%\n",
            "00:06:18 | 2 | 16 | 01-100 |  0.28% |  0.60% |  0.81%\n",
            "00:07:11 | 2 | 16 | 01-150 |  0.05% | -1.07% | -0.59%\n",
            "00:08:05 | 2 | 16 | 01-200 | -1.18% | -1.53% | -1.81%\n",
            "00:09:02 | 2 | 16 | 02-000 | -1.39% |  0.36% | -0.02%\n",
            "00:09:57 | 2 | 16 | 02-050 |  0.03% |  0.22% |  1.15%\n",
            "00:10:55 | 2 | 16 | 02-100 |  0.08% |  0.15% |  0.72%\n",
            "00:11:53 | 2 | 16 | 02-150 | -0.32% | -0.60% | -1.90%\n",
            "00:12:50 | 2 | 16 | 02-200 | -0.34% | -0.69% | -1.93%\n",
            "00:13:51 | 2 | 16 | 03-000 |  0.95% | -0.99% | -1.74%\n",
            "00:14:51 | 2 | 16 | 03-050 | -0.11% | -0.38% |  0.23%\n",
            "00:15:52 | 2 | 16 | 03-100 | -0.35% | -0.35% | -0.43%\n",
            "00:16:50 | 2 | 16 | 03-150 | -1.10% | -0.27% | -0.12%\n",
            "00:17:45 | 2 | 16 | 03-200 | -1.18% | -0.08% |  0.04%\n",
            "00:18:43 | 2 | 16 | 04-000 |  1.51% |  1.72% |  2.31%\n",
            "00:19:37 | 2 | 16 | 04-050 |  2.63% |  3.64% |  6.32%\n",
            "00:20:32 | 2 | 16 | 04-100 |  2.58% |  2.35% |  5.66%\n",
            "00:21:28 | 2 | 16 | 04-150 |  2.90% |  2.68% |  4.44%\n",
            "00:22:25 | 2 | 16 | 04-200 |  3.12% |  3.20% |  4.04%\n",
            "units: 16 , n_factors: 3\n",
            "00:23:25 | 3 | 16 | 00-000 | -0.84% | -1.90% | -2.46%\n",
            "00:24:23 | 3 | 16 | 00-050 | -1.97% | -0.68% | -0.87%\n",
            "00:25:23 | 3 | 16 | 00-100 | -0.26% | -0.07% |  0.25%\n",
            "00:26:21 | 3 | 16 | 00-150 | -1.34% | -0.81% | -0.99%\n",
            "00:27:21 | 3 | 16 | 00-200 | -1.96% | -1.28% | -1.81%\n",
            "00:28:23 | 3 | 16 | 01-000 | -1.58% | -0.35% | -0.14%\n",
            "00:29:23 | 3 | 16 | 01-050 |  0.37% | -0.42% | -0.83%\n",
            "00:30:24 | 3 | 16 | 01-100 |  0.79% | -0.24% | -0.64%\n",
            "00:31:26 | 3 | 16 | 01-150 |  0.66% | -0.60% | -0.58%\n",
            "00:32:28 | 3 | 16 | 01-200 |  0.51% | -0.34% | -1.18%\n",
            "00:33:32 | 3 | 16 | 02-000 | -1.15% | -0.75% | -0.97%\n",
            "00:34:34 | 3 | 16 | 02-050 | -1.12% | -0.58% | -2.64%\n",
            "00:35:35 | 3 | 16 | 02-100 | -0.69% | -0.55% | -1.39%\n",
            "00:36:41 | 3 | 16 | 02-150 | -0.44% | -0.44% | -0.94%\n",
            "00:37:46 | 3 | 16 | 02-200 | -0.35% | -0.62% | -0.95%\n",
            "00:38:54 | 3 | 16 | 03-000 |  0.10% | -0.21% | -0.30%\n",
            "00:40:01 | 3 | 16 | 03-050 |  0.09% | -0.21% |  0.55%\n",
            "00:41:05 | 3 | 16 | 03-100 | -0.19% | -0.32% | -0.31%\n",
            "00:42:11 | 3 | 16 | 03-150 | -0.01% | -0.47% |  0.32%\n",
            "00:43:18 | 3 | 16 | 03-200 | -0.14% | -0.50% | -0.20%\n",
            "00:44:27 | 3 | 16 | 04-000 | -2.22% | -1.07% |  1.15%\n",
            "00:45:33 | 3 | 16 | 04-050 | -2.32% | -2.09% |  0.59%\n",
            "00:46:46 | 3 | 16 | 04-100 | -0.43% | -0.84% | -0.36%\n",
            "00:47:49 | 3 | 16 | 04-150 |  0.58% | -0.78% | -1.14%\n",
            "00:48:54 | 3 | 16 | 04-200 |  1.14% | -0.15% |  0.73%\n",
            "units: 16 , n_factors: 4\n",
            "00:49:59 | 4 | 16 | 00-000 |  0.29% | -1.12% | -0.81%\n",
            "00:51:05 | 4 | 16 | 00-050 |  0.74% |  1.19% |  1.22%\n",
            "00:52:11 | 4 | 16 | 00-100 |  0.70% |  1.15% |  1.24%\n",
            "00:53:17 | 4 | 16 | 00-150 |  0.71% |  1.13% |  1.69%\n",
            "00:54:23 | 4 | 16 | 00-200 |  0.75% |  1.13% |  2.29%\n",
            "00:55:31 | 4 | 16 | 01-000 |  1.27% |  1.72% |  2.04%\n",
            "00:56:38 | 4 | 16 | 01-050 |  1.87% |  1.62% |  2.42%\n",
            "00:57:46 | 4 | 16 | 01-100 |  2.13% |  1.97% |  2.08%\n",
            "00:58:54 | 4 | 16 | 01-150 |  1.62% |  1.90% |  1.81%\n",
            "01:00:02 | 4 | 16 | 01-200 |  1.53% |  1.79% |  1.63%\n",
            "01:01:12 | 4 | 16 | 02-000 |  0.42% |  0.37% | -1.12%\n",
            "01:02:22 | 4 | 16 | 02-050 | -2.75% | -1.42% | -0.60%\n",
            "01:03:30 | 4 | 16 | 02-100 | -2.98% | -1.79% | -2.24%\n",
            "01:04:39 | 4 | 16 | 02-150 | -2.69% | -1.75% | -2.25%\n",
            "01:05:50 | 4 | 16 | 02-200 | -1.76% | -1.78% | -0.87%\n",
            "01:07:04 | 4 | 16 | 03-000 |  1.24% | -1.06% | -1.61%\n",
            "01:08:15 | 4 | 16 | 03-050 |  0.50% |  0.32% | -0.64%\n",
            "01:09:28 | 4 | 16 | 03-100 |  0.10% |  0.23% |  0.05%\n",
            "01:10:40 | 4 | 16 | 03-150 | -0.06% |  0.13% | -0.20%\n",
            "01:11:57 | 4 | 16 | 03-200 |  0.14% |  0.16% |  0.37%\n",
            "01:13:12 | 4 | 16 | 04-000 | -3.38% | -3.20% | -4.96%\n",
            "01:14:25 | 4 | 16 | 04-050 |  4.06% |  4.04% |  4.03%\n",
            "01:15:43 | 4 | 16 | 04-100 |  2.03% |  1.79% |  1.72%\n",
            "01:16:59 | 4 | 16 | 04-150 |  2.35% |  2.26% |  1.75%\n",
            "01:18:16 | 4 | 16 | 04-200 |  1.94% |  1.90% |  0.94%\n",
            "units: 16 , n_factors: 5\n",
            "01:19:38 | 5 | 16 | 00-000 | -0.43% | -1.73% | -0.92%\n",
            "01:20:56 | 5 | 16 | 00-050 | -0.75% | -0.84% | -1.01%\n",
            "01:22:17 | 5 | 16 | 00-100 | -0.74% | -0.73% | -0.45%\n",
            "01:23:36 | 5 | 16 | 00-150 | -0.57% | -0.64% |  0.50%\n",
            "01:24:56 | 5 | 16 | 00-200 | -0.46% | -0.47% |  0.27%\n",
            "01:26:21 | 5 | 16 | 01-000 | -3.05% |  1.54% |  2.07%\n",
            "01:27:43 | 5 | 16 | 01-050 |  0.15% |  2.31% |  3.23%\n",
            "01:29:04 | 5 | 16 | 01-100 |  1.39% |  2.16% |  3.33%\n",
            "01:30:30 | 5 | 16 | 01-150 |  1.78% |  2.20% |  2.89%\n",
            "01:31:56 | 5 | 16 | 01-200 |  1.30% |  1.74% |  1.89%\n",
            "01:33:23 | 5 | 16 | 02-000 |  1.10% |  1.28% |  1.13%\n",
            "01:34:45 | 5 | 16 | 02-050 |  0.31% |  0.10% |  0.71%\n",
            "01:36:11 | 5 | 16 | 02-100 |  0.45% |  0.21% |  0.37%\n",
            "01:37:36 | 5 | 16 | 02-150 |  0.46% |  0.24% |  0.42%\n",
            "01:38:59 | 5 | 16 | 02-200 |  0.42% |  0.24% |  0.66%\n",
            "01:40:29 | 5 | 16 | 03-000 | -1.41% | -1.28% | -1.02%\n",
            "01:41:56 | 5 | 16 | 03-050 |  1.15% |  1.51% |  1.49%\n",
            "01:43:25 | 5 | 16 | 03-100 |  1.06% |  1.21% |  1.59%\n",
            "01:44:57 | 5 | 16 | 03-150 |  0.51% |  0.63% |  0.10%\n",
            "01:46:28 | 5 | 16 | 03-200 |  0.79% |  0.90% |  0.78%\n",
            "01:48:03 | 5 | 16 | 04-000 |  0.01% |  0.15% | -2.47%\n",
            "01:49:37 | 5 | 16 | 04-050 |  0.32% | -0.02% |  0.31%\n",
            "01:51:12 | 5 | 16 | 04-100 |  1.21% |  0.19% |  0.71%\n",
            "01:52:52 | 5 | 16 | 04-150 |  1.18% |  0.26% |  0.97%\n",
            "01:54:27 | 5 | 16 | 04-200 |  1.02% |  0.28% |  0.86%\n",
            "units: 16 , n_factors: 6\n",
            "01:56:04 | 6 | 16 | 00-000 | -1.56% | -1.24% | -0.25%\n",
            "01:57:41 | 6 | 16 | 00-050 |  0.28% |  0.15% | -0.68%\n",
            "01:59:18 | 6 | 16 | 00-100 |  1.26% |  0.42% |  0.65%\n",
            "02:00:56 | 6 | 16 | 00-150 |  1.73% |  0.60% |  0.23%\n",
            "02:02:35 | 6 | 16 | 00-200 |  1.92% |  0.68% |  0.40%\n",
            "02:04:27 | 6 | 16 | 01-000 | -2.43% | -2.43% | -4.27%\n",
            "02:06:19 | 6 | 16 | 01-050 | -2.88% | -3.20% | -3.40%\n",
            "02:08:02 | 6 | 16 | 01-100 | -2.47% | -3.22% | -2.49%\n",
            "02:09:40 | 6 | 16 | 01-150 | -2.29% | -3.12% | -2.02%\n",
            "02:11:18 | 6 | 16 | 01-200 | -2.16% | -3.02% | -1.53%\n",
            "02:13:02 | 6 | 16 | 02-000 | -1.97% | -2.35% | -2.88%\n",
            "02:14:45 | 6 | 16 | 02-050 |  1.02% |  0.24% | -1.04%\n",
            "02:16:29 | 6 | 16 | 02-100 |  0.75% |  0.14% | -1.47%\n",
            "02:18:10 | 6 | 16 | 02-150 |  0.56% |  0.00% | -1.36%\n",
            "02:19:58 | 6 | 16 | 02-200 |  0.47% | -0.12% | -1.42%\n",
            "02:21:45 | 6 | 16 | 03-000 | -1.29% | -1.38% | -0.99%\n",
            "02:23:28 | 6 | 16 | 03-050 | -1.38% | -1.47% | -1.07%\n",
            "02:25:14 | 6 | 16 | 03-100 | -0.32% | -1.47% | -1.41%\n",
            "02:27:01 | 6 | 16 | 03-150 |  0.17% | -1.42% | -0.69%\n",
            "02:28:40 | 6 | 16 | 03-200 |  0.32% | -1.40% | -0.98%\n",
            "02:30:27 | 6 | 16 | 04-000 |  2.73% |  3.31% |  3.94%\n",
            "02:32:12 | 6 | 16 | 04-050 | -0.27% |  2.41% |  5.72%\n",
            "02:33:57 | 6 | 16 | 04-100 | -0.29% |  2.39% |  5.02%\n",
            "02:35:43 | 6 | 16 | 04-150 | -0.01% |  2.33% |  5.12%\n",
            "02:37:32 | 6 | 16 | 04-200 |  0.18% |  2.25% |  4.78%\n",
            "units: 32 , n_factors: 2\n"
          ]
        },
        {
          "ename": "ResourceExhaustedError",
          "evalue": "Graph execution error:\n\nDetected at node 'gradient_tape/model/batch_norm/moments/BroadcastTo_1' defined at (most recent call last):\n    File \"C:\\Users\\chldl\\AppData\\Local\\Programs\\Python\\Python38\\lib\\runpy.py\", line 194, in _run_module_as_main\n      return _run_code(code, main_globals, None,\n    File \"C:\\Users\\chldl\\AppData\\Local\\Programs\\Python\\Python38\\lib\\runpy.py\", line 87, in _run_code\n      exec(code, run_globals)\n    File \"c:\\Users\\chldl\\Desktop\\Study\\2022-2\\Capston_design\\Capston_CodeSpace\\capston\\lib\\site-packages\\ipykernel_launcher.py\", line 17, in <module>\n      app.launch_new_instance()\n    File \"c:\\Users\\chldl\\Desktop\\Study\\2022-2\\Capston_design\\Capston_CodeSpace\\capston\\lib\\site-packages\\traitlets\\config\\application.py\", line 992, in launch_instance\n      app.start()\n    File \"c:\\Users\\chldl\\Desktop\\Study\\2022-2\\Capston_design\\Capston_CodeSpace\\capston\\lib\\site-packages\\ipykernel\\kernelapp.py\", line 711, in start\n      self.io_loop.start()\n    File \"c:\\Users\\chldl\\Desktop\\Study\\2022-2\\Capston_design\\Capston_CodeSpace\\capston\\lib\\site-packages\\tornado\\platform\\asyncio.py\", line 215, in start\n      self.asyncio_loop.run_forever()\n    File \"C:\\Users\\chldl\\AppData\\Local\\Programs\\Python\\Python38\\lib\\asyncio\\base_events.py\", line 570, in run_forever\n      self._run_once()\n    File \"C:\\Users\\chldl\\AppData\\Local\\Programs\\Python\\Python38\\lib\\asyncio\\base_events.py\", line 1859, in _run_once\n      handle._run()\n    File \"C:\\Users\\chldl\\AppData\\Local\\Programs\\Python\\Python38\\lib\\asyncio\\events.py\", line 81, in _run\n      self._context.run(self._callback, *self._args)\n    File \"c:\\Users\\chldl\\Desktop\\Study\\2022-2\\Capston_design\\Capston_CodeSpace\\capston\\lib\\site-packages\\ipykernel\\kernelbase.py\", line 510, in dispatch_queue\n      await self.process_one()\n    File \"c:\\Users\\chldl\\Desktop\\Study\\2022-2\\Capston_design\\Capston_CodeSpace\\capston\\lib\\site-packages\\ipykernel\\kernelbase.py\", line 499, in process_one\n      await dispatch(*args)\n    File \"c:\\Users\\chldl\\Desktop\\Study\\2022-2\\Capston_design\\Capston_CodeSpace\\capston\\lib\\site-packages\\ipykernel\\kernelbase.py\", line 406, in dispatch_shell\n      await result\n    File \"c:\\Users\\chldl\\Desktop\\Study\\2022-2\\Capston_design\\Capston_CodeSpace\\capston\\lib\\site-packages\\ipykernel\\kernelbase.py\", line 729, in execute_request\n      reply_content = await reply_content\n    File \"c:\\Users\\chldl\\Desktop\\Study\\2022-2\\Capston_design\\Capston_CodeSpace\\capston\\lib\\site-packages\\ipykernel\\ipkernel.py\", line 411, in do_execute\n      res = shell.run_cell(\n    File \"c:\\Users\\chldl\\Desktop\\Study\\2022-2\\Capston_design\\Capston_CodeSpace\\capston\\lib\\site-packages\\ipykernel\\zmqshell.py\", line 531, in run_cell\n      return super().run_cell(*args, **kwargs)\n    File \"c:\\Users\\chldl\\Desktop\\Study\\2022-2\\Capston_design\\Capston_CodeSpace\\capston\\lib\\site-packages\\IPython\\core\\interactiveshell.py\", line 2940, in run_cell\n      result = self._run_cell(\n    File \"c:\\Users\\chldl\\Desktop\\Study\\2022-2\\Capston_design\\Capston_CodeSpace\\capston\\lib\\site-packages\\IPython\\core\\interactiveshell.py\", line 2995, in _run_cell\n      return runner(coro)\n    File \"c:\\Users\\chldl\\Desktop\\Study\\2022-2\\Capston_design\\Capston_CodeSpace\\capston\\lib\\site-packages\\IPython\\core\\async_helpers.py\", line 129, in _pseudo_sync_runner\n      coro.send(None)\n    File \"c:\\Users\\chldl\\Desktop\\Study\\2022-2\\Capston_design\\Capston_CodeSpace\\capston\\lib\\site-packages\\IPython\\core\\interactiveshell.py\", line 3194, in run_cell_async\n      has_raised = await self.run_ast_nodes(code_ast.body, cell_name,\n    File \"c:\\Users\\chldl\\Desktop\\Study\\2022-2\\Capston_design\\Capston_CodeSpace\\capston\\lib\\site-packages\\IPython\\core\\interactiveshell.py\", line 3373, in run_ast_nodes\n      if await self.run_code(code, result, async_=asy):\n    File \"c:\\Users\\chldl\\Desktop\\Study\\2022-2\\Capston_design\\Capston_CodeSpace\\capston\\lib\\site-packages\\IPython\\core\\interactiveshell.py\", line 3433, in run_code\n      exec(code_obj, self.user_global_ns, self.user_ns)\n    File \"C:\\Users\\chldl\\AppData\\Local\\Temp\\ipykernel_3148\\4285107039.py\", line 13, in <module>\n      model.fit_generator(train_gen,\n    File \"c:\\Users\\chldl\\Desktop\\Study\\2022-2\\Capston_design\\Capston_CodeSpace\\capston\\lib\\site-packages\\keras\\engine\\training.py\", line 2507, in fit_generator\n      return self.fit(\n    File \"c:\\Users\\chldl\\Desktop\\Study\\2022-2\\Capston_design\\Capston_CodeSpace\\capston\\lib\\site-packages\\keras\\utils\\traceback_utils.py\", line 65, in error_handler\n      return fn(*args, **kwargs)\n    File \"c:\\Users\\chldl\\Desktop\\Study\\2022-2\\Capston_design\\Capston_CodeSpace\\capston\\lib\\site-packages\\keras\\engine\\training.py\", line 1564, in fit\n      tmp_logs = self.train_function(iterator)\n    File \"c:\\Users\\chldl\\Desktop\\Study\\2022-2\\Capston_design\\Capston_CodeSpace\\capston\\lib\\site-packages\\keras\\engine\\training.py\", line 1160, in train_function\n      return step_function(self, iterator)\n    File \"c:\\Users\\chldl\\Desktop\\Study\\2022-2\\Capston_design\\Capston_CodeSpace\\capston\\lib\\site-packages\\keras\\engine\\training.py\", line 1146, in step_function\n      outputs = model.distribute_strategy.run(run_step, args=(data,))\n    File \"c:\\Users\\chldl\\Desktop\\Study\\2022-2\\Capston_design\\Capston_CodeSpace\\capston\\lib\\site-packages\\keras\\engine\\training.py\", line 1135, in run_step\n      outputs = model.train_step(data)\n    File \"c:\\Users\\chldl\\Desktop\\Study\\2022-2\\Capston_design\\Capston_CodeSpace\\capston\\lib\\site-packages\\keras\\engine\\training.py\", line 997, in train_step\n      self.optimizer.minimize(loss, self.trainable_variables, tape=tape)\n    File \"c:\\Users\\chldl\\Desktop\\Study\\2022-2\\Capston_design\\Capston_CodeSpace\\capston\\lib\\site-packages\\keras\\optimizers\\optimizer_v2\\optimizer_v2.py\", line 576, in minimize\n      grads_and_vars = self._compute_gradients(\n    File \"c:\\Users\\chldl\\Desktop\\Study\\2022-2\\Capston_design\\Capston_CodeSpace\\capston\\lib\\site-packages\\keras\\optimizers\\optimizer_v2\\optimizer_v2.py\", line 634, in _compute_gradients\n      grads_and_vars = self._get_gradients(\n    File \"c:\\Users\\chldl\\Desktop\\Study\\2022-2\\Capston_design\\Capston_CodeSpace\\capston\\lib\\site-packages\\keras\\optimizers\\optimizer_v2\\optimizer_v2.py\", line 510, in _get_gradients\n      grads = tape.gradient(loss, var_list, grad_loss)\nNode: 'gradient_tape/model/batch_norm/moments/BroadcastTo_1'\nOOM when allocating tensor with shape[1024,3825,32] and type float on /job:localhost/replica:0/task:0/device:GPU:0 by allocator GPU_0_bfc\n\t [[{{node gradient_tape/model/batch_norm/moments/BroadcastTo_1}}]]\nHint: If you want to see a list of allocated tensors when OOM happens, add report_tensor_allocations_upon_oom to RunOptions for current allocation info. This isn't available when running in Eager mode.\n [Op:__inference_train_function_1168316]",
          "output_type": "error",
          "traceback": [
            "\u001b[1;31m---------------------------------------------------------------------------\u001b[0m",
            "\u001b[1;31mResourceExhaustedError\u001b[0m                    Traceback (most recent call last)",
            "Cell \u001b[1;32mIn[60], line 13\u001b[0m\n\u001b[0;32m     11\u001b[0m model \u001b[39m=\u001b[39m make_model(hidden_units\u001b[39m=\u001b[39munits, n_factors\u001b[39m=\u001b[39mn_factors)\n\u001b[0;32m     12\u001b[0m \u001b[39mfor\u001b[39;00m epoch \u001b[39min\u001b[39;00m \u001b[39mrange\u001b[39m(\u001b[39m250\u001b[39m):\n\u001b[1;32m---> 13\u001b[0m     model\u001b[39m.\u001b[39;49mfit_generator(train_gen,\n\u001b[0;32m     14\u001b[0m                         validation_data\u001b[39m=\u001b[39;49mval_gen,\n\u001b[0;32m     15\u001b[0m                         epochs\u001b[39m=\u001b[39;49mepoch \u001b[39m+\u001b[39;49m \u001b[39m1\u001b[39;49m,\n\u001b[0;32m     16\u001b[0m                         initial_epoch\u001b[39m=\u001b[39;49mepoch, verbose\u001b[39m=\u001b[39;49m\u001b[39mFalse\u001b[39;49;00m, shuffle\u001b[39m=\u001b[39;49m\u001b[39mTrue\u001b[39;49;00m, callbacks\u001b[39m=\u001b[39;49mClearMemory())\n\u001b[0;32m     17\u001b[0m     y_pred \u001b[39m=\u001b[39m model\u001b[39m.\u001b[39mpredict_generator(val_gen, callbacks\u001b[39m=\u001b[39mClearMemory())\n\u001b[0;32m     18\u001b[0m     y_true \u001b[39m=\u001b[39m y_val\u001b[39m.\u001b[39mstack()\u001b[39m.\u001b[39mvalues\n",
            "File \u001b[1;32mc:\\Users\\chldl\\Desktop\\Study\\2022-2\\Capston_design\\Capston_CodeSpace\\capston\\lib\\site-packages\\keras\\engine\\training.py:2507\u001b[0m, in \u001b[0;36mModel.fit_generator\u001b[1;34m(self, generator, steps_per_epoch, epochs, verbose, callbacks, validation_data, validation_steps, validation_freq, class_weight, max_queue_size, workers, use_multiprocessing, shuffle, initial_epoch)\u001b[0m\n\u001b[0;32m   2495\u001b[0m \u001b[39m\"\"\"Fits the model on data yielded batch-by-batch by a Python generator.\u001b[39;00m\n\u001b[0;32m   2496\u001b[0m \n\u001b[0;32m   2497\u001b[0m \u001b[39mDEPRECATED:\u001b[39;00m\n\u001b[0;32m   2498\u001b[0m \u001b[39m  `Model.fit` now supports generators, so there is no longer any need to\u001b[39;00m\n\u001b[0;32m   2499\u001b[0m \u001b[39m  use this endpoint.\u001b[39;00m\n\u001b[0;32m   2500\u001b[0m \u001b[39m\"\"\"\u001b[39;00m\n\u001b[0;32m   2501\u001b[0m warnings\u001b[39m.\u001b[39mwarn(\n\u001b[0;32m   2502\u001b[0m     \u001b[39m\"\u001b[39m\u001b[39m`Model.fit_generator` is deprecated and \u001b[39m\u001b[39m\"\u001b[39m\n\u001b[0;32m   2503\u001b[0m     \u001b[39m\"\u001b[39m\u001b[39mwill be removed in a future version. \u001b[39m\u001b[39m\"\u001b[39m\n\u001b[0;32m   2504\u001b[0m     \u001b[39m\"\u001b[39m\u001b[39mPlease use `Model.fit`, which supports generators.\u001b[39m\u001b[39m\"\u001b[39m,\n\u001b[0;32m   2505\u001b[0m     stacklevel\u001b[39m=\u001b[39m\u001b[39m2\u001b[39m,\n\u001b[0;32m   2506\u001b[0m )\n\u001b[1;32m-> 2507\u001b[0m \u001b[39mreturn\u001b[39;00m \u001b[39mself\u001b[39;49m\u001b[39m.\u001b[39;49mfit(\n\u001b[0;32m   2508\u001b[0m     generator,\n\u001b[0;32m   2509\u001b[0m     steps_per_epoch\u001b[39m=\u001b[39;49msteps_per_epoch,\n\u001b[0;32m   2510\u001b[0m     epochs\u001b[39m=\u001b[39;49mepochs,\n\u001b[0;32m   2511\u001b[0m     verbose\u001b[39m=\u001b[39;49mverbose,\n\u001b[0;32m   2512\u001b[0m     callbacks\u001b[39m=\u001b[39;49mcallbacks,\n\u001b[0;32m   2513\u001b[0m     validation_data\u001b[39m=\u001b[39;49mvalidation_data,\n\u001b[0;32m   2514\u001b[0m     validation_steps\u001b[39m=\u001b[39;49mvalidation_steps,\n\u001b[0;32m   2515\u001b[0m     validation_freq\u001b[39m=\u001b[39;49mvalidation_freq,\n\u001b[0;32m   2516\u001b[0m     class_weight\u001b[39m=\u001b[39;49mclass_weight,\n\u001b[0;32m   2517\u001b[0m     max_queue_size\u001b[39m=\u001b[39;49mmax_queue_size,\n\u001b[0;32m   2518\u001b[0m     workers\u001b[39m=\u001b[39;49mworkers,\n\u001b[0;32m   2519\u001b[0m     use_multiprocessing\u001b[39m=\u001b[39;49muse_multiprocessing,\n\u001b[0;32m   2520\u001b[0m     shuffle\u001b[39m=\u001b[39;49mshuffle,\n\u001b[0;32m   2521\u001b[0m     initial_epoch\u001b[39m=\u001b[39;49minitial_epoch,\n\u001b[0;32m   2522\u001b[0m )\n",
            "File \u001b[1;32mc:\\Users\\chldl\\Desktop\\Study\\2022-2\\Capston_design\\Capston_CodeSpace\\capston\\lib\\site-packages\\keras\\utils\\traceback_utils.py:70\u001b[0m, in \u001b[0;36mfilter_traceback.<locals>.error_handler\u001b[1;34m(*args, **kwargs)\u001b[0m\n\u001b[0;32m     67\u001b[0m     filtered_tb \u001b[39m=\u001b[39m _process_traceback_frames(e\u001b[39m.\u001b[39m__traceback__)\n\u001b[0;32m     68\u001b[0m     \u001b[39m# To get the full stack trace, call:\u001b[39;00m\n\u001b[0;32m     69\u001b[0m     \u001b[39m# `tf.debugging.disable_traceback_filtering()`\u001b[39;00m\n\u001b[1;32m---> 70\u001b[0m     \u001b[39mraise\u001b[39;00m e\u001b[39m.\u001b[39mwith_traceback(filtered_tb) \u001b[39mfrom\u001b[39;00m \u001b[39mNone\u001b[39m\n\u001b[0;32m     71\u001b[0m \u001b[39mfinally\u001b[39;00m:\n\u001b[0;32m     72\u001b[0m     \u001b[39mdel\u001b[39;00m filtered_tb\n",
            "File \u001b[1;32mc:\\Users\\chldl\\Desktop\\Study\\2022-2\\Capston_design\\Capston_CodeSpace\\capston\\lib\\site-packages\\tensorflow\\python\\eager\\execute.py:54\u001b[0m, in \u001b[0;36mquick_execute\u001b[1;34m(op_name, num_outputs, inputs, attrs, ctx, name)\u001b[0m\n\u001b[0;32m     52\u001b[0m \u001b[39mtry\u001b[39;00m:\n\u001b[0;32m     53\u001b[0m   ctx\u001b[39m.\u001b[39mensure_initialized()\n\u001b[1;32m---> 54\u001b[0m   tensors \u001b[39m=\u001b[39m pywrap_tfe\u001b[39m.\u001b[39mTFE_Py_Execute(ctx\u001b[39m.\u001b[39m_handle, device_name, op_name,\n\u001b[0;32m     55\u001b[0m                                       inputs, attrs, num_outputs)\n\u001b[0;32m     56\u001b[0m \u001b[39mexcept\u001b[39;00m core\u001b[39m.\u001b[39m_NotOkStatusException \u001b[39mas\u001b[39;00m e:\n\u001b[0;32m     57\u001b[0m   \u001b[39mif\u001b[39;00m name \u001b[39mis\u001b[39;00m \u001b[39mnot\u001b[39;00m \u001b[39mNone\u001b[39;00m:\n",
            "\u001b[1;31mResourceExhaustedError\u001b[0m: Graph execution error:\n\nDetected at node 'gradient_tape/model/batch_norm/moments/BroadcastTo_1' defined at (most recent call last):\n    File \"C:\\Users\\chldl\\AppData\\Local\\Programs\\Python\\Python38\\lib\\runpy.py\", line 194, in _run_module_as_main\n      return _run_code(code, main_globals, None,\n    File \"C:\\Users\\chldl\\AppData\\Local\\Programs\\Python\\Python38\\lib\\runpy.py\", line 87, in _run_code\n      exec(code, run_globals)\n    File \"c:\\Users\\chldl\\Desktop\\Study\\2022-2\\Capston_design\\Capston_CodeSpace\\capston\\lib\\site-packages\\ipykernel_launcher.py\", line 17, in <module>\n      app.launch_new_instance()\n    File \"c:\\Users\\chldl\\Desktop\\Study\\2022-2\\Capston_design\\Capston_CodeSpace\\capston\\lib\\site-packages\\traitlets\\config\\application.py\", line 992, in launch_instance\n      app.start()\n    File \"c:\\Users\\chldl\\Desktop\\Study\\2022-2\\Capston_design\\Capston_CodeSpace\\capston\\lib\\site-packages\\ipykernel\\kernelapp.py\", line 711, in start\n      self.io_loop.start()\n    File \"c:\\Users\\chldl\\Desktop\\Study\\2022-2\\Capston_design\\Capston_CodeSpace\\capston\\lib\\site-packages\\tornado\\platform\\asyncio.py\", line 215, in start\n      self.asyncio_loop.run_forever()\n    File \"C:\\Users\\chldl\\AppData\\Local\\Programs\\Python\\Python38\\lib\\asyncio\\base_events.py\", line 570, in run_forever\n      self._run_once()\n    File \"C:\\Users\\chldl\\AppData\\Local\\Programs\\Python\\Python38\\lib\\asyncio\\base_events.py\", line 1859, in _run_once\n      handle._run()\n    File \"C:\\Users\\chldl\\AppData\\Local\\Programs\\Python\\Python38\\lib\\asyncio\\events.py\", line 81, in _run\n      self._context.run(self._callback, *self._args)\n    File \"c:\\Users\\chldl\\Desktop\\Study\\2022-2\\Capston_design\\Capston_CodeSpace\\capston\\lib\\site-packages\\ipykernel\\kernelbase.py\", line 510, in dispatch_queue\n      await self.process_one()\n    File \"c:\\Users\\chldl\\Desktop\\Study\\2022-2\\Capston_design\\Capston_CodeSpace\\capston\\lib\\site-packages\\ipykernel\\kernelbase.py\", line 499, in process_one\n      await dispatch(*args)\n    File \"c:\\Users\\chldl\\Desktop\\Study\\2022-2\\Capston_design\\Capston_CodeSpace\\capston\\lib\\site-packages\\ipykernel\\kernelbase.py\", line 406, in dispatch_shell\n      await result\n    File \"c:\\Users\\chldl\\Desktop\\Study\\2022-2\\Capston_design\\Capston_CodeSpace\\capston\\lib\\site-packages\\ipykernel\\kernelbase.py\", line 729, in execute_request\n      reply_content = await reply_content\n    File \"c:\\Users\\chldl\\Desktop\\Study\\2022-2\\Capston_design\\Capston_CodeSpace\\capston\\lib\\site-packages\\ipykernel\\ipkernel.py\", line 411, in do_execute\n      res = shell.run_cell(\n    File \"c:\\Users\\chldl\\Desktop\\Study\\2022-2\\Capston_design\\Capston_CodeSpace\\capston\\lib\\site-packages\\ipykernel\\zmqshell.py\", line 531, in run_cell\n      return super().run_cell(*args, **kwargs)\n    File \"c:\\Users\\chldl\\Desktop\\Study\\2022-2\\Capston_design\\Capston_CodeSpace\\capston\\lib\\site-packages\\IPython\\core\\interactiveshell.py\", line 2940, in run_cell\n      result = self._run_cell(\n    File \"c:\\Users\\chldl\\Desktop\\Study\\2022-2\\Capston_design\\Capston_CodeSpace\\capston\\lib\\site-packages\\IPython\\core\\interactiveshell.py\", line 2995, in _run_cell\n      return runner(coro)\n    File \"c:\\Users\\chldl\\Desktop\\Study\\2022-2\\Capston_design\\Capston_CodeSpace\\capston\\lib\\site-packages\\IPython\\core\\async_helpers.py\", line 129, in _pseudo_sync_runner\n      coro.send(None)\n    File \"c:\\Users\\chldl\\Desktop\\Study\\2022-2\\Capston_design\\Capston_CodeSpace\\capston\\lib\\site-packages\\IPython\\core\\interactiveshell.py\", line 3194, in run_cell_async\n      has_raised = await self.run_ast_nodes(code_ast.body, cell_name,\n    File \"c:\\Users\\chldl\\Desktop\\Study\\2022-2\\Capston_design\\Capston_CodeSpace\\capston\\lib\\site-packages\\IPython\\core\\interactiveshell.py\", line 3373, in run_ast_nodes\n      if await self.run_code(code, result, async_=asy):\n    File \"c:\\Users\\chldl\\Desktop\\Study\\2022-2\\Capston_design\\Capston_CodeSpace\\capston\\lib\\site-packages\\IPython\\core\\interactiveshell.py\", line 3433, in run_code\n      exec(code_obj, self.user_global_ns, self.user_ns)\n    File \"C:\\Users\\chldl\\AppData\\Local\\Temp\\ipykernel_3148\\4285107039.py\", line 13, in <module>\n      model.fit_generator(train_gen,\n    File \"c:\\Users\\chldl\\Desktop\\Study\\2022-2\\Capston_design\\Capston_CodeSpace\\capston\\lib\\site-packages\\keras\\engine\\training.py\", line 2507, in fit_generator\n      return self.fit(\n    File \"c:\\Users\\chldl\\Desktop\\Study\\2022-2\\Capston_design\\Capston_CodeSpace\\capston\\lib\\site-packages\\keras\\utils\\traceback_utils.py\", line 65, in error_handler\n      return fn(*args, **kwargs)\n    File \"c:\\Users\\chldl\\Desktop\\Study\\2022-2\\Capston_design\\Capston_CodeSpace\\capston\\lib\\site-packages\\keras\\engine\\training.py\", line 1564, in fit\n      tmp_logs = self.train_function(iterator)\n    File \"c:\\Users\\chldl\\Desktop\\Study\\2022-2\\Capston_design\\Capston_CodeSpace\\capston\\lib\\site-packages\\keras\\engine\\training.py\", line 1160, in train_function\n      return step_function(self, iterator)\n    File \"c:\\Users\\chldl\\Desktop\\Study\\2022-2\\Capston_design\\Capston_CodeSpace\\capston\\lib\\site-packages\\keras\\engine\\training.py\", line 1146, in step_function\n      outputs = model.distribute_strategy.run(run_step, args=(data,))\n    File \"c:\\Users\\chldl\\Desktop\\Study\\2022-2\\Capston_design\\Capston_CodeSpace\\capston\\lib\\site-packages\\keras\\engine\\training.py\", line 1135, in run_step\n      outputs = model.train_step(data)\n    File \"c:\\Users\\chldl\\Desktop\\Study\\2022-2\\Capston_design\\Capston_CodeSpace\\capston\\lib\\site-packages\\keras\\engine\\training.py\", line 997, in train_step\n      self.optimizer.minimize(loss, self.trainable_variables, tape=tape)\n    File \"c:\\Users\\chldl\\Desktop\\Study\\2022-2\\Capston_design\\Capston_CodeSpace\\capston\\lib\\site-packages\\keras\\optimizers\\optimizer_v2\\optimizer_v2.py\", line 576, in minimize\n      grads_and_vars = self._compute_gradients(\n    File \"c:\\Users\\chldl\\Desktop\\Study\\2022-2\\Capston_design\\Capston_CodeSpace\\capston\\lib\\site-packages\\keras\\optimizers\\optimizer_v2\\optimizer_v2.py\", line 634, in _compute_gradients\n      grads_and_vars = self._get_gradients(\n    File \"c:\\Users\\chldl\\Desktop\\Study\\2022-2\\Capston_design\\Capston_CodeSpace\\capston\\lib\\site-packages\\keras\\optimizers\\optimizer_v2\\optimizer_v2.py\", line 510, in _get_gradients\n      grads = tape.gradient(loss, var_list, grad_loss)\nNode: 'gradient_tape/model/batch_norm/moments/BroadcastTo_1'\nOOM when allocating tensor with shape[1024,3825,32] and type float on /job:localhost/replica:0/task:0/device:GPU:0 by allocator GPU_0_bfc\n\t [[{{node gradient_tape/model/batch_norm/moments/BroadcastTo_1}}]]\nHint: If you want to see a list of allocated tensors when OOM happens, add report_tensor_allocations_upon_oom to RunOptions for current allocation info. This isn't available when running in Eager mode.\n [Op:__inference_train_function_1168316]"
          ]
        }
      ],
      "source": [
        "start = time()\n",
        "for units, n_factors in param_grid:\n",
        "    print(\"units:\", units, \", n_factors:\", n_factors)\n",
        "    scores = []\n",
        "    for fold, (train_idx, val_idx) in enumerate(cv.split(data)):\n",
        "        X1_train, X2_train, y_train, X1_val, X2_val, y_val = get_train_valid_data(data,\n",
        "                                                                                  train_idx,\n",
        "                                                                                  val_idx)\n",
        "        train_gen = DataGenerator(X1_train, X2_train, y_train, batch_size=batch_size)\n",
        "        val_gen = DataGenerator(X1_val, X2_val, y_val, batch_size=batch_size)\n",
        "        model = make_model(hidden_units=units, n_factors=n_factors)\n",
        "        for epoch in range(250):\n",
        "            model.fit_generator(train_gen,\n",
        "                                validation_data=val_gen,\n",
        "                                epochs=epoch + 1,\n",
        "                                initial_epoch=epoch, verbose=False, shuffle=True, callbacks=ClearMemory())\n",
        "            y_pred = model.predict_generator(val_gen, callbacks=ClearMemory())\n",
        "            y_true = y_val.stack().values\n",
        "            date_index = y_val.stack().index\n",
        "            result = (pd.DataFrame({'y_pred': y_pred.reshape(-1),\n",
        "                                    'y_true': y_true},\n",
        "                                   index=date_index)\n",
        "                      .replace(-2, np.nan).dropna())\n",
        "            r0 = spearmanr(result.y_true, result.y_pred)[0]\n",
        "            r1 = result.groupby(level='date').apply(lambda x: spearmanr(x.y_pred,\n",
        "                                                                        x.y_true)[0])\n",
        "\n",
        "            scores.append([units, n_factors, fold, epoch, r0,\n",
        "                           r1.mean(), r1.std(), r1.median()])\n",
        "            if epoch % 50 == 0:\n",
        "                print(f'{format_time(time()-start)} | {n_factors} | {units:02} | {fold:02}-{epoch:03} | {r0:6.2%} | '\n",
        "                  f'{r1.mean():6.2%} | {r1.median():6.2%}')\n",
        "            \n",
        "        scores = pd.DataFrame(scores, columns=cols)\n",
        "        scores.to_hdf(results_path / 'scores.h5', f'{units}/{n_factors}')"
      ]
    },
    {
      "cell_type": "markdown",
      "metadata": {
        "id": "dIM2p89BG6AL"
      },
      "source": [
        "### Evaluate Results"
      ]
    },
    {
      "cell_type": "code",
      "execution_count": 46,
      "metadata": {
        "ExecuteTime": {
          "end_time": "2021-02-25T01:24:37.645031Z",
          "start_time": "2021-02-25T01:24:37.472670Z"
        },
        "colab": {
          "base_uri": "https://localhost:8080/"
        },
        "id": "O8W-ZRhJG6AL",
        "outputId": "a9441050-db1e-4938-aac9-f4a88aa56ae6"
      },
      "outputs": [
        {
          "name": "stdout",
          "output_type": "stream",
          "text": [
            "[     units  n_factors  fold  epoch   ic_mean  ic_daily_mean  ic_daily_std  \\\n",
            "0        8          2     0      0  0.027923      -0.001603      0.077540   \n",
            "1        8          2     0      1  0.027612       0.003124      0.075661   \n",
            "2        8          2     0      2  0.028143       0.011055      0.068375   \n",
            "3        8          2     0      3  0.024787       0.010616      0.068812   \n",
            "4        8          2     0      4  0.031027       0.008218      0.068623   \n",
            "..     ...        ...   ...    ...       ...            ...           ...   \n",
            "245      8          2     0    245 -0.055260       0.008629      0.058061   \n",
            "246      8          2     0    246 -0.047854       0.008286      0.057883   \n",
            "247      8          2     0    247 -0.055439       0.008547      0.058135   \n",
            "248      8          2     0    248 -0.046051       0.008120      0.057348   \n",
            "249      8          2     0    249 -0.064400       0.009195      0.058378   \n",
            "\n",
            "     ic_daily_median  \n",
            "0           0.004001  \n",
            "1           0.006257  \n",
            "2           0.009073  \n",
            "3           0.009466  \n",
            "4           0.006275  \n",
            "..               ...  \n",
            "245         0.002756  \n",
            "246         0.002747  \n",
            "247         0.001846  \n",
            "248         0.002459  \n",
            "249         0.005860  \n",
            "\n",
            "[250 rows x 8 columns],      units  n_factors  fold  epoch   ic_mean  ic_daily_mean  ic_daily_std  \\\n",
            "0        8          3     0      0 -0.009382      -0.000879      0.088745   \n",
            "1        8          3     0      1  0.002713       0.010776      0.094897   \n",
            "2        8          3     0      2  0.014533       0.025587      0.102408   \n",
            "3        8          3     0      3 -0.016249      -0.011558      0.098170   \n",
            "4        8          3     0      4 -0.009067      -0.015337      0.100421   \n",
            "..     ...        ...   ...    ...       ...            ...           ...   \n",
            "245      8          3     0    245  0.007913      -0.003318      0.096946   \n",
            "246      8          3     0    246  0.005974      -0.006243      0.097720   \n",
            "247      8          3     0    247  0.003343      -0.011208      0.096281   \n",
            "248      8          3     0    248  0.000693      -0.018057      0.092933   \n",
            "249      8          3     0    249  0.002094      -0.013925      0.095612   \n",
            "\n",
            "     ic_daily_median  \n",
            "0          -0.004105  \n",
            "1           0.012658  \n",
            "2           0.029126  \n",
            "3          -0.016166  \n",
            "4          -0.018317  \n",
            "..               ...  \n",
            "245        -0.006336  \n",
            "246        -0.006576  \n",
            "247        -0.010050  \n",
            "248        -0.017695  \n",
            "249        -0.012070  \n",
            "\n",
            "[250 rows x 8 columns],      units  n_factors  fold  epoch   ic_mean  ic_daily_mean  ic_daily_std  \\\n",
            "0        8          4     0      0 -0.010166       0.012587      0.100155   \n",
            "1        8          4     0      1 -0.010237       0.012707      0.097064   \n",
            "2        8          4     0      2 -0.004693       0.015273      0.092038   \n",
            "3        8          4     0      3 -0.007571       0.010528      0.098727   \n",
            "4        8          4     0      4 -0.014719       0.005483      0.096957   \n",
            "..     ...        ...   ...    ...       ...            ...           ...   \n",
            "245      8          4     0    245  0.005022       0.013178      0.094246   \n",
            "246      8          4     0    246  0.005031       0.013195      0.094217   \n",
            "247      8          4     0    247  0.005042       0.013232      0.094202   \n",
            "248      8          4     0    248  0.005008       0.013236      0.094179   \n",
            "249      8          4     0    249  0.004941       0.013202      0.094169   \n",
            "\n",
            "     ic_daily_median  \n",
            "0           0.007058  \n",
            "1           0.010838  \n",
            "2           0.008065  \n",
            "3           0.008458  \n",
            "4           0.002442  \n",
            "..               ...  \n",
            "245         0.016975  \n",
            "246         0.017007  \n",
            "247         0.017114  \n",
            "248         0.017288  \n",
            "249         0.017287  \n",
            "\n",
            "[250 rows x 8 columns],      units  n_factors  fold  epoch   ic_mean  ic_daily_mean  ic_daily_std  \\\n",
            "0        8          5     0      0 -0.009978      -0.016577      0.066744   \n",
            "1        8          5     0      1 -0.005608      -0.013300      0.073569   \n",
            "2        8          5     0      2 -0.038657      -0.036564      0.095803   \n",
            "3        8          5     0      3 -0.044916      -0.044509      0.080596   \n",
            "4        8          5     0      4 -0.038132      -0.036350      0.092949   \n",
            "..     ...        ...   ...    ...       ...            ...           ...   \n",
            "245      8          5     0    245 -0.013191      -0.007792      0.070889   \n",
            "246      8          5     0    246 -0.012993      -0.007558      0.070728   \n",
            "247      8          5     0    247 -0.012868      -0.007421      0.070728   \n",
            "248      8          5     0    248 -0.012706      -0.007291      0.070683   \n",
            "249      8          5     0    249 -0.012625      -0.007182      0.070883   \n",
            "\n",
            "     ic_daily_median  \n",
            "0          -0.023976  \n",
            "1          -0.017799  \n",
            "2          -0.036759  \n",
            "3          -0.047059  \n",
            "4          -0.040180  \n",
            "..               ...  \n",
            "245        -0.008851  \n",
            "246        -0.008646  \n",
            "247        -0.009047  \n",
            "248        -0.009492  \n",
            "249        -0.010036  \n",
            "\n",
            "[250 rows x 8 columns],      units  n_factors  fold  epoch   ic_mean  ic_daily_mean  ic_daily_std  \\\n",
            "0        8          6     0      0  0.028120      -0.005604      0.085012   \n",
            "1        8          6     0      1  0.051614       0.009133      0.076337   \n",
            "2        8          6     0      2  0.031378      -0.009737      0.083282   \n",
            "3        8          6     0      3  0.022808      -0.015218      0.089665   \n",
            "4        8          6     0      4  0.019738      -0.015260      0.069557   \n",
            "..     ...        ...   ...    ...       ...            ...           ...   \n",
            "245      8          6     0    245 -0.011941      -0.008155      0.058573   \n",
            "246      8          6     0    246 -0.011897      -0.008063      0.058397   \n",
            "247      8          6     0    247 -0.011968      -0.008024      0.058363   \n",
            "248      8          6     0    248 -0.012069      -0.008080      0.058444   \n",
            "249      8          6     0    249 -0.011913      -0.008004      0.058251   \n",
            "\n",
            "     ic_daily_median  \n",
            "0          -0.011165  \n",
            "1          -0.000175  \n",
            "2          -0.021096  \n",
            "3          -0.014101  \n",
            "4          -0.024392  \n",
            "..               ...  \n",
            "245        -0.015509  \n",
            "246        -0.015532  \n",
            "247        -0.015572  \n",
            "248        -0.015558  \n",
            "249        -0.015649  \n",
            "\n",
            "[250 rows x 8 columns]]\n"
          ]
        }
      ],
      "source": [
        "scores = []\n",
        "with pd.HDFStore(results_path / 'scores.h5') as store:\n",
        "    for key in store.keys():\n",
        "        scores.append(store[key])\n",
        "print(scores)\n",
        "scores = pd.concat(scores)"
      ]
    },
    {
      "cell_type": "code",
      "execution_count": 47,
      "metadata": {
        "ExecuteTime": {
          "end_time": "2021-02-25T01:24:38.690579Z",
          "start_time": "2021-02-25T01:24:38.680750Z"
        },
        "colab": {
          "base_uri": "https://localhost:8080/"
        },
        "id": "hMztxTYrG6AL",
        "outputId": "6b710c5a-0db1-4a85-e7be-fe00fa1cdba6"
      },
      "outputs": [
        {
          "name": "stdout",
          "output_type": "stream",
          "text": [
            "<class 'pandas.core.frame.DataFrame'>\n",
            "Int64Index: 1250 entries, 0 to 249\n",
            "Data columns (total 8 columns):\n",
            " #   Column           Non-Null Count  Dtype  \n",
            "---  ------           --------------  -----  \n",
            " 0   units            1250 non-null   int64  \n",
            " 1   n_factors        1250 non-null   int64  \n",
            " 2   fold             1250 non-null   int64  \n",
            " 3   epoch            1250 non-null   int64  \n",
            " 4   ic_mean          1250 non-null   float64\n",
            " 5   ic_daily_mean    1250 non-null   float64\n",
            " 6   ic_daily_std     1250 non-null   float64\n",
            " 7   ic_daily_median  1250 non-null   float64\n",
            "dtypes: float64(4), int64(4)\n",
            "memory usage: 87.9 KB\n"
          ]
        }
      ],
      "source": [
        "scores.info()"
      ]
    },
    {
      "cell_type": "code",
      "execution_count": 49,
      "metadata": {
        "ExecuteTime": {
          "end_time": "2021-02-25T01:24:40.755460Z",
          "start_time": "2021-02-25T01:24:40.737523Z"
        },
        "id": "zxY8oAt6G6AM"
      },
      "outputs": [],
      "source": [
        "avg = (scores.groupby(['n_factors', 'units', 'epoch'])\n",
        "       ['ic_mean', 'ic_daily_mean', 'ic_daily_median']\n",
        "       .mean()\n",
        "      .reset_index())"
      ]
    },
    {
      "cell_type": "code",
      "execution_count": 50,
      "metadata": {
        "ExecuteTime": {
          "end_time": "2021-02-25T01:24:40.967622Z",
          "start_time": "2021-02-25T01:24:40.946156Z"
        },
        "colab": {
          "base_uri": "https://localhost:8080/",
          "height": 677
        },
        "id": "-kjtkcHYG6AM",
        "outputId": "ea0906e6-890f-43a0-b547-f064f37f5bed"
      },
      "outputs": [
        {
          "data": {
            "text/html": [
              "<div>\n",
              "<style scoped>\n",
              "    .dataframe tbody tr th:only-of-type {\n",
              "        vertical-align: middle;\n",
              "    }\n",
              "\n",
              "    .dataframe tbody tr th {\n",
              "        vertical-align: top;\n",
              "    }\n",
              "\n",
              "    .dataframe thead th {\n",
              "        text-align: right;\n",
              "    }\n",
              "</style>\n",
              "<table border=\"1\" class=\"dataframe\">\n",
              "  <thead>\n",
              "    <tr style=\"text-align: right;\">\n",
              "      <th></th>\n",
              "      <th>n_factors</th>\n",
              "      <th>units</th>\n",
              "      <th>epoch</th>\n",
              "      <th>ic_mean</th>\n",
              "      <th>ic_daily_mean</th>\n",
              "      <th>ic_daily_median</th>\n",
              "    </tr>\n",
              "  </thead>\n",
              "  <tbody>\n",
              "    <tr>\n",
              "      <th>80</th>\n",
              "      <td>2</td>\n",
              "      <td>8</td>\n",
              "      <td>80</td>\n",
              "      <td>0.016350</td>\n",
              "      <td>0.033598</td>\n",
              "      <td>0.036727</td>\n",
              "    </tr>\n",
              "    <tr>\n",
              "      <th>81</th>\n",
              "      <td>2</td>\n",
              "      <td>8</td>\n",
              "      <td>81</td>\n",
              "      <td>0.014830</td>\n",
              "      <td>0.033179</td>\n",
              "      <td>0.036606</td>\n",
              "    </tr>\n",
              "    <tr>\n",
              "      <th>610</th>\n",
              "      <td>4</td>\n",
              "      <td>8</td>\n",
              "      <td>110</td>\n",
              "      <td>0.014688</td>\n",
              "      <td>0.015893</td>\n",
              "      <td>0.032187</td>\n",
              "    </tr>\n",
              "    <tr>\n",
              "      <th>82</th>\n",
              "      <td>2</td>\n",
              "      <td>8</td>\n",
              "      <td>82</td>\n",
              "      <td>0.009944</td>\n",
              "      <td>0.031508</td>\n",
              "      <td>0.032081</td>\n",
              "    </tr>\n",
              "    <tr>\n",
              "      <th>76</th>\n",
              "      <td>2</td>\n",
              "      <td>8</td>\n",
              "      <td>76</td>\n",
              "      <td>0.018618</td>\n",
              "      <td>0.033552</td>\n",
              "      <td>0.032012</td>\n",
              "    </tr>\n",
              "    <tr>\n",
              "      <th>134</th>\n",
              "      <td>2</td>\n",
              "      <td>8</td>\n",
              "      <td>134</td>\n",
              "      <td>-0.004657</td>\n",
              "      <td>0.026652</td>\n",
              "      <td>0.031985</td>\n",
              "    </tr>\n",
              "    <tr>\n",
              "      <th>135</th>\n",
              "      <td>2</td>\n",
              "      <td>8</td>\n",
              "      <td>135</td>\n",
              "      <td>-0.005692</td>\n",
              "      <td>0.026621</td>\n",
              "      <td>0.031972</td>\n",
              "    </tr>\n",
              "    <tr>\n",
              "      <th>83</th>\n",
              "      <td>2</td>\n",
              "      <td>8</td>\n",
              "      <td>83</td>\n",
              "      <td>0.005299</td>\n",
              "      <td>0.029144</td>\n",
              "      <td>0.031594</td>\n",
              "    </tr>\n",
              "    <tr>\n",
              "      <th>136</th>\n",
              "      <td>2</td>\n",
              "      <td>8</td>\n",
              "      <td>136</td>\n",
              "      <td>-0.006684</td>\n",
              "      <td>0.026502</td>\n",
              "      <td>0.031562</td>\n",
              "    </tr>\n",
              "    <tr>\n",
              "      <th>79</th>\n",
              "      <td>2</td>\n",
              "      <td>8</td>\n",
              "      <td>79</td>\n",
              "      <td>0.010723</td>\n",
              "      <td>0.030385</td>\n",
              "      <td>0.031457</td>\n",
              "    </tr>\n",
              "    <tr>\n",
              "      <th>133</th>\n",
              "      <td>2</td>\n",
              "      <td>8</td>\n",
              "      <td>133</td>\n",
              "      <td>-0.003865</td>\n",
              "      <td>0.026582</td>\n",
              "      <td>0.031408</td>\n",
              "    </tr>\n",
              "    <tr>\n",
              "      <th>86</th>\n",
              "      <td>2</td>\n",
              "      <td>8</td>\n",
              "      <td>86</td>\n",
              "      <td>0.006639</td>\n",
              "      <td>0.030320</td>\n",
              "      <td>0.030979</td>\n",
              "    </tr>\n",
              "    <tr>\n",
              "      <th>84</th>\n",
              "      <td>2</td>\n",
              "      <td>8</td>\n",
              "      <td>84</td>\n",
              "      <td>0.005073</td>\n",
              "      <td>0.029470</td>\n",
              "      <td>0.030361</td>\n",
              "    </tr>\n",
              "    <tr>\n",
              "      <th>85</th>\n",
              "      <td>2</td>\n",
              "      <td>8</td>\n",
              "      <td>85</td>\n",
              "      <td>0.006680</td>\n",
              "      <td>0.030385</td>\n",
              "      <td>0.030237</td>\n",
              "    </tr>\n",
              "    <tr>\n",
              "      <th>87</th>\n",
              "      <td>2</td>\n",
              "      <td>8</td>\n",
              "      <td>87</td>\n",
              "      <td>0.005126</td>\n",
              "      <td>0.029843</td>\n",
              "      <td>0.030063</td>\n",
              "    </tr>\n",
              "    <tr>\n",
              "      <th>96</th>\n",
              "      <td>2</td>\n",
              "      <td>8</td>\n",
              "      <td>96</td>\n",
              "      <td>0.000481</td>\n",
              "      <td>0.028213</td>\n",
              "      <td>0.029651</td>\n",
              "    </tr>\n",
              "    <tr>\n",
              "      <th>92</th>\n",
              "      <td>2</td>\n",
              "      <td>8</td>\n",
              "      <td>92</td>\n",
              "      <td>0.002268</td>\n",
              "      <td>0.028816</td>\n",
              "      <td>0.029521</td>\n",
              "    </tr>\n",
              "    <tr>\n",
              "      <th>91</th>\n",
              "      <td>2</td>\n",
              "      <td>8</td>\n",
              "      <td>91</td>\n",
              "      <td>0.003003</td>\n",
              "      <td>0.029018</td>\n",
              "      <td>0.029456</td>\n",
              "    </tr>\n",
              "    <tr>\n",
              "      <th>93</th>\n",
              "      <td>2</td>\n",
              "      <td>8</td>\n",
              "      <td>93</td>\n",
              "      <td>0.001387</td>\n",
              "      <td>0.028538</td>\n",
              "      <td>0.029401</td>\n",
              "    </tr>\n",
              "    <tr>\n",
              "      <th>95</th>\n",
              "      <td>2</td>\n",
              "      <td>8</td>\n",
              "      <td>95</td>\n",
              "      <td>0.000694</td>\n",
              "      <td>0.028301</td>\n",
              "      <td>0.029244</td>\n",
              "    </tr>\n",
              "  </tbody>\n",
              "</table>\n",
              "</div>"
            ],
            "text/plain": [
              "     n_factors  units  epoch   ic_mean  ic_daily_mean  ic_daily_median\n",
              "80           2      8     80  0.016350       0.033598         0.036727\n",
              "81           2      8     81  0.014830       0.033179         0.036606\n",
              "610          4      8    110  0.014688       0.015893         0.032187\n",
              "82           2      8     82  0.009944       0.031508         0.032081\n",
              "76           2      8     76  0.018618       0.033552         0.032012\n",
              "134          2      8    134 -0.004657       0.026652         0.031985\n",
              "135          2      8    135 -0.005692       0.026621         0.031972\n",
              "83           2      8     83  0.005299       0.029144         0.031594\n",
              "136          2      8    136 -0.006684       0.026502         0.031562\n",
              "79           2      8     79  0.010723       0.030385         0.031457\n",
              "133          2      8    133 -0.003865       0.026582         0.031408\n",
              "86           2      8     86  0.006639       0.030320         0.030979\n",
              "84           2      8     84  0.005073       0.029470         0.030361\n",
              "85           2      8     85  0.006680       0.030385         0.030237\n",
              "87           2      8     87  0.005126       0.029843         0.030063\n",
              "96           2      8     96  0.000481       0.028213         0.029651\n",
              "92           2      8     92  0.002268       0.028816         0.029521\n",
              "91           2      8     91  0.003003       0.029018         0.029456\n",
              "93           2      8     93  0.001387       0.028538         0.029401\n",
              "95           2      8     95  0.000694       0.028301         0.029244"
            ]
          },
          "execution_count": 50,
          "metadata": {},
          "output_type": "execute_result"
        }
      ],
      "source": [
        "avg.nlargest(n=20, columns=['ic_daily_median'])"
      ]
    },
    {
      "cell_type": "code",
      "execution_count": 51,
      "metadata": {
        "ExecuteTime": {
          "end_time": "2021-02-25T01:24:42.905824Z",
          "start_time": "2021-02-25T01:24:42.868325Z"
        },
        "colab": {
          "base_uri": "https://localhost:8080/",
          "height": 238
        },
        "id": "ymvDFzIuG6AM",
        "outputId": "df578ddb-994c-47e9-bc76-cad9dfd1d459"
      },
      "outputs": [
        {
          "data": {
            "text/html": [
              "<div>\n",
              "<style scoped>\n",
              "    .dataframe tbody tr th:only-of-type {\n",
              "        vertical-align: middle;\n",
              "    }\n",
              "\n",
              "    .dataframe tbody tr th {\n",
              "        vertical-align: top;\n",
              "    }\n",
              "\n",
              "    .dataframe thead th {\n",
              "        text-align: right;\n",
              "    }\n",
              "</style>\n",
              "<table border=\"1\" class=\"dataframe\">\n",
              "  <thead>\n",
              "    <tr style=\"text-align: right;\">\n",
              "      <th></th>\n",
              "      <th></th>\n",
              "      <th>n_factors</th>\n",
              "      <th>units</th>\n",
              "      <th>epoch</th>\n",
              "      <th>ic_mean</th>\n",
              "      <th>ic_daily_mean</th>\n",
              "      <th>ic_daily_median</th>\n",
              "    </tr>\n",
              "    <tr>\n",
              "      <th>n_factors</th>\n",
              "      <th>units</th>\n",
              "      <th></th>\n",
              "      <th></th>\n",
              "      <th></th>\n",
              "      <th></th>\n",
              "      <th></th>\n",
              "      <th></th>\n",
              "    </tr>\n",
              "  </thead>\n",
              "  <tbody>\n",
              "    <tr>\n",
              "      <th rowspan=\"2\" valign=\"top\">2</th>\n",
              "      <th>8</th>\n",
              "      <td>2</td>\n",
              "      <td>8</td>\n",
              "      <td>80</td>\n",
              "      <td>0.016350</td>\n",
              "      <td>0.033598</td>\n",
              "      <td>0.036727</td>\n",
              "    </tr>\n",
              "    <tr>\n",
              "      <th>8</th>\n",
              "      <td>2</td>\n",
              "      <td>8</td>\n",
              "      <td>81</td>\n",
              "      <td>0.014830</td>\n",
              "      <td>0.033179</td>\n",
              "      <td>0.036606</td>\n",
              "    </tr>\n",
              "    <tr>\n",
              "      <th>4</th>\n",
              "      <th>8</th>\n",
              "      <td>4</td>\n",
              "      <td>8</td>\n",
              "      <td>110</td>\n",
              "      <td>0.014688</td>\n",
              "      <td>0.015893</td>\n",
              "      <td>0.032187</td>\n",
              "    </tr>\n",
              "    <tr>\n",
              "      <th rowspan=\"2\" valign=\"top\">2</th>\n",
              "      <th>8</th>\n",
              "      <td>2</td>\n",
              "      <td>8</td>\n",
              "      <td>82</td>\n",
              "      <td>0.009944</td>\n",
              "      <td>0.031508</td>\n",
              "      <td>0.032081</td>\n",
              "    </tr>\n",
              "    <tr>\n",
              "      <th>8</th>\n",
              "      <td>2</td>\n",
              "      <td>8</td>\n",
              "      <td>76</td>\n",
              "      <td>0.018618</td>\n",
              "      <td>0.033552</td>\n",
              "      <td>0.032012</td>\n",
              "    </tr>\n",
              "  </tbody>\n",
              "</table>\n",
              "</div>"
            ],
            "text/plain": [
              "                 n_factors  units  epoch   ic_mean  ic_daily_mean  \\\n",
              "n_factors units                                                     \n",
              "2         8              2      8     80  0.016350       0.033598   \n",
              "          8              2      8     81  0.014830       0.033179   \n",
              "4         8              4      8    110  0.014688       0.015893   \n",
              "2         8              2      8     82  0.009944       0.031508   \n",
              "          8              2      8     76  0.018618       0.033552   \n",
              "\n",
              "                 ic_daily_median  \n",
              "n_factors units                   \n",
              "2         8             0.036727  \n",
              "          8             0.036606  \n",
              "4         8             0.032187  \n",
              "2         8             0.032081  \n",
              "          8             0.032012  "
            ]
          },
          "execution_count": 51,
          "metadata": {},
          "output_type": "execute_result"
        }
      ],
      "source": [
        "top = (avg.groupby(['n_factors', 'units'])\n",
        "       .apply(lambda x: x.nlargest(n=5, columns=['ic_daily_median']))\n",
        "       .reset_index(-1, drop=True))\n",
        "\n",
        "top.nlargest(n=5, columns=['ic_daily_median'])"
      ]
    },
    {
      "cell_type": "code",
      "execution_count": 54,
      "metadata": {
        "ExecuteTime": {
          "end_time": "2021-02-24T21:42:05.316440Z",
          "start_time": "2021-02-24T21:42:03.450732Z"
        },
        "colab": {
          "base_uri": "https://localhost:8080/",
          "height": 377
        },
        "id": "TavrBsH0G6AM",
        "outputId": "6e7b79cb-f8d6-450c-b1e7-b7c11f88bc3f"
      },
      "outputs": [
        {
          "data": {
            "image/png": "[encoded data removed]",
            "text/plain": [
              "<Figure size 2000x800 with 10 Axes>"
            ]
          },
          "metadata": {},
          "output_type": "display_data"
        }
      ],
      "source": [
        "fig, axes = plt.subplots(ncols=5, nrows=2, figsize=(20, 8), sharey='row', sharex=True)\n",
        "\n",
        "for n in range(2, 7):\n",
        "    df = avg[avg.n_factors==n].pivot(index='epoch', columns='units', values='ic_mean')\n",
        "    df.rolling(10).mean().loc[:200].plot(ax=axes[0][n-2], lw=1, title=f'{n} Factors')\n",
        "    axes[0][n-2].axhline(0, ls='--', c='k', lw=1)\n",
        "    axes[0][n-2].get_legend().remove()\n",
        "    axes[0][n-2].set_ylabel('IC (10-epoch rolling mean)')\n",
        "\n",
        "    df = avg[avg.n_factors==n].pivot(index='epoch', columns='units', values='ic_daily_median')\n",
        "    df.rolling(10).mean().loc[:200].plot(ax=axes[1][n-2], lw=1)\n",
        "    axes[1][n-2].axhline(0, ls='--', c='k', lw=1)\n",
        "    axes[1][n-2].get_legend().remove()\n",
        "    axes[1][n-2].set_ylabel('IC, Daily Median (10-epoch rolling mean)')\n",
        "\n",
        "handles, labels = axes[0][0].get_legend_handles_labels()\n",
        "fig.legend(handles, labels, loc='center right', title='# Units')\n",
        "fig.suptitle('Cross-Validation Performance (2015-2019)', fontsize=16)\n",
        "fig.tight_layout()\n",
        "fig.subplots_adjust(top=.9)\n",
        "fig.savefig(results_path / 'cv_performance', dpi=300);"
      ]
    },
    {
      "cell_type": "markdown",
      "metadata": {
        "id": "ukS9TwYwG6AM"
      },
      "source": [
        "## Generate Predictions"
      ]
    },
    {
      "cell_type": "markdown",
      "metadata": {
        "id": "Sd7OSqCcG6AM"
      },
      "source": [
        "We'll average over a range of epochs that appears to deliver good predictions."
      ]
    },
    {
      "cell_type": "code",
      "execution_count": null,
      "metadata": {
        "ExecuteTime": {
          "end_time": "2021-02-25T02:20:39.334590Z",
          "start_time": "2021-02-25T02:20:39.328174Z"
        },
        "id": "n3Vz9AQpG6AN"
      },
      "outputs": [],
      "source": [
        "n_factors = 4\n",
        "units = 32\n",
        "batch_size = 32\n",
        "first_epoch = 50\n",
        "last_epoch = 80"
      ]
    },
    {
      "cell_type": "code",
      "execution_count": null,
      "metadata": {
        "ExecuteTime": {
          "end_time": "2021-02-25T02:53:07.097416Z",
          "start_time": "2021-02-25T02:20:39.526027Z"
        },
        "colab": {
          "base_uri": "https://localhost:8080/"
        },
        "id": "kMpzmg5sG6AN",
        "outputId": "9aa4f777-0cba-44c0-afdc-a1f0c3022e2b",
        "scrolled": false
      },
      "outputs": [
        {
          "name": "stderr",
          "output_type": "stream",
          "text": [
            "\r  0%|          | 0/30 [00:00<?, ?it/s]"
          ]
        },
        {
          "name": "stdout",
          "output_type": "stream",
          "text": [
            "2/2 [==============================] - 0s 7ms/step\n",
            "2/2 [==============================] - 0s 11ms/step\n",
            "2/2 [==============================] - 0s 12ms/step\n"
          ]
        },
        {
          "name": "stderr",
          "output_type": "stream",
          "text": [
            "\r  3%|▎         | 1/30 [01:08<33:10, 68.65s/it]"
          ]
        },
        {
          "name": "stdout",
          "output_type": "stream",
          "text": [
            "2/2 [==============================] - 0s 8ms/step\n",
            "2/2 [==============================] - 0s 8ms/step\n",
            "2/2 [==============================] - 0s 8ms/step\n"
          ]
        },
        {
          "name": "stderr",
          "output_type": "stream",
          "text": [
            "\r  7%|▋         | 2/30 [02:07<29:22, 62.96s/it]"
          ]
        },
        {
          "name": "stdout",
          "output_type": "stream",
          "text": [
            "2/2 [==============================] - 0s 8ms/step\n",
            "2/2 [==============================] - 0s 10ms/step\n",
            "2/2 [==============================] - 0s 9ms/step\n"
          ]
        },
        {
          "name": "stderr",
          "output_type": "stream",
          "text": [
            "\r 10%|█         | 3/30 [03:06<27:31, 61.18s/it]"
          ]
        },
        {
          "name": "stdout",
          "output_type": "stream",
          "text": [
            "2/2 [==============================] - 0s 13ms/step\n",
            "2/2 [==============================] - 0s 8ms/step\n",
            "2/2 [==============================] - 0s 10ms/step\n"
          ]
        },
        {
          "name": "stderr",
          "output_type": "stream",
          "text": [
            "\r 13%|█▎        | 4/30 [04:06<26:13, 60.53s/it]"
          ]
        },
        {
          "name": "stdout",
          "output_type": "stream",
          "text": [
            "2/2 [==============================] - 0s 8ms/step\n",
            "2/2 [==============================] - 0s 8ms/step\n",
            "2/2 [==============================] - 0s 8ms/step\n"
          ]
        },
        {
          "name": "stderr",
          "output_type": "stream",
          "text": [
            "\r 17%|█▋        | 5/30 [05:04<24:54, 59.77s/it]"
          ]
        },
        {
          "name": "stdout",
          "output_type": "stream",
          "text": [
            "2/2 [==============================] - 0s 8ms/step\n",
            "2/2 [==============================] - 0s 8ms/step\n",
            "2/2 [==============================] - 0s 7ms/step\n"
          ]
        },
        {
          "name": "stderr",
          "output_type": "stream",
          "text": [
            "\r 20%|██        | 6/30 [06:05<24:02, 60.11s/it]"
          ]
        },
        {
          "name": "stdout",
          "output_type": "stream",
          "text": [
            "2/2 [==============================] - 0s 8ms/step\n",
            "2/2 [==============================] - 0s 9ms/step\n",
            "2/2 [==============================] - 0s 9ms/step\n"
          ]
        },
        {
          "name": "stderr",
          "output_type": "stream",
          "text": [
            "\r 23%|██▎       | 7/30 [07:05<22:58, 59.95s/it]"
          ]
        },
        {
          "name": "stdout",
          "output_type": "stream",
          "text": [
            "2/2 [==============================] - 0s 8ms/step\n",
            "2/2 [==============================] - 0s 8ms/step\n",
            "2/2 [==============================] - 0s 17ms/step\n"
          ]
        },
        {
          "name": "stderr",
          "output_type": "stream",
          "text": [
            "\r 27%|██▋       | 8/30 [08:06<22:11, 60.54s/it]"
          ]
        },
        {
          "name": "stdout",
          "output_type": "stream",
          "text": [
            "2/2 [==============================] - 0s 8ms/step\n",
            "2/2 [==============================] - 0s 7ms/step\n",
            "2/2 [==============================] - 0s 7ms/step\n"
          ]
        },
        {
          "name": "stderr",
          "output_type": "stream",
          "text": [
            "\r 30%|███       | 9/30 [09:02<20:40, 59.08s/it]"
          ]
        },
        {
          "name": "stdout",
          "output_type": "stream",
          "text": [
            "2/2 [==============================] - 0s 10ms/step\n",
            "2/2 [==============================] - 0s 9ms/step\n",
            "2/2 [==============================] - 0s 7ms/step\n"
          ]
        },
        {
          "name": "stderr",
          "output_type": "stream",
          "text": [
            "\r 33%|███▎      | 10/30 [10:03<19:51, 59.56s/it]"
          ]
        },
        {
          "name": "stdout",
          "output_type": "stream",
          "text": [
            "2/2 [==============================] - 0s 8ms/step\n",
            "2/2 [==============================] - 0s 8ms/step\n",
            "2/2 [==============================] - 0s 9ms/step\n"
          ]
        },
        {
          "name": "stderr",
          "output_type": "stream",
          "text": [
            "\r 37%|███▋      | 11/30 [11:07<19:18, 60.96s/it]"
          ]
        },
        {
          "name": "stdout",
          "output_type": "stream",
          "text": [
            "2/2 [==============================] - 0s 11ms/step\n",
            "2/2 [==============================] - 0s 7ms/step\n",
            "2/2 [==============================] - 0s 9ms/step\n"
          ]
        },
        {
          "name": "stderr",
          "output_type": "stream",
          "text": [
            "\r 40%|████      | 12/30 [12:05<18:01, 60.10s/it]"
          ]
        },
        {
          "name": "stdout",
          "output_type": "stream",
          "text": [
            "2/2 [==============================] - 0s 8ms/step\n",
            "2/2 [==============================] - 0s 9ms/step\n",
            "2/2 [==============================] - 0s 8ms/step\n"
          ]
        },
        {
          "name": "stderr",
          "output_type": "stream",
          "text": [
            "\r 43%|████▎     | 13/30 [13:08<17:15, 60.90s/it]"
          ]
        },
        {
          "name": "stdout",
          "output_type": "stream",
          "text": [
            "2/2 [==============================] - 0s 8ms/step\n",
            "2/2 [==============================] - 0s 10ms/step\n",
            "2/2 [==============================] - 0s 8ms/step\n"
          ]
        },
        {
          "name": "stderr",
          "output_type": "stream",
          "text": [
            "\r 47%|████▋     | 14/30 [14:15<16:44, 62.79s/it]"
          ]
        },
        {
          "name": "stdout",
          "output_type": "stream",
          "text": [
            "2/2 [==============================] - 0s 9ms/step\n",
            "2/2 [==============================] - 0s 8ms/step\n",
            "2/2 [==============================] - 0s 10ms/step\n"
          ]
        },
        {
          "name": "stderr",
          "output_type": "stream",
          "text": [
            "\r 50%|█████     | 15/30 [15:19<15:49, 63.30s/it]"
          ]
        },
        {
          "name": "stdout",
          "output_type": "stream",
          "text": [
            "2/2 [==============================] - 0s 9ms/step\n",
            "2/2 [==============================] - 0s 8ms/step\n",
            "2/2 [==============================] - 0s 9ms/step\n"
          ]
        },
        {
          "name": "stderr",
          "output_type": "stream",
          "text": [
            "\r 53%|█████▎    | 16/30 [16:25<14:55, 63.95s/it]"
          ]
        },
        {
          "name": "stdout",
          "output_type": "stream",
          "text": [
            "2/2 [==============================] - 0s 9ms/step\n",
            "2/2 [==============================] - 0s 8ms/step\n",
            "2/2 [==============================] - 0s 8ms/step\n"
          ]
        },
        {
          "name": "stderr",
          "output_type": "stream",
          "text": [
            "\r 57%|█████▋    | 17/30 [17:27<13:42, 63.30s/it]"
          ]
        },
        {
          "name": "stdout",
          "output_type": "stream",
          "text": [
            "2/2 [==============================] - 0s 8ms/step\n",
            "2/2 [==============================] - 0s 7ms/step\n",
            "2/2 [==============================] - 0s 9ms/step\n"
          ]
        },
        {
          "name": "stderr",
          "output_type": "stream",
          "text": [
            "\r 60%|██████    | 18/30 [18:34<12:55, 64.59s/it]"
          ]
        },
        {
          "name": "stdout",
          "output_type": "stream",
          "text": [
            "2/2 [==============================] - 0s 8ms/step\n",
            "2/2 [==============================] - 0s 9ms/step\n",
            "2/2 [==============================] - 0s 11ms/step\n"
          ]
        },
        {
          "name": "stderr",
          "output_type": "stream",
          "text": [
            "\r 63%|██████▎   | 19/30 [19:45<12:09, 66.36s/it]"
          ]
        },
        {
          "name": "stdout",
          "output_type": "stream",
          "text": [
            "2/2 [==============================] - 0s 7ms/step\n",
            "2/2 [==============================] - 0s 9ms/step\n",
            "2/2 [==============================] - 0s 7ms/step\n"
          ]
        },
        {
          "name": "stderr",
          "output_type": "stream",
          "text": [
            "\r 67%|██████▋   | 20/30 [20:53<11:08, 66.85s/it]"
          ]
        },
        {
          "name": "stdout",
          "output_type": "stream",
          "text": [
            "2/2 [==============================] - 0s 9ms/step\n",
            "2/2 [==============================] - 0s 9ms/step\n",
            "2/2 [==============================] - 0s 11ms/step\n"
          ]
        },
        {
          "name": "stderr",
          "output_type": "stream",
          "text": [
            "\r 70%|███████   | 21/30 [22:00<10:02, 66.91s/it]"
          ]
        },
        {
          "name": "stdout",
          "output_type": "stream",
          "text": [
            "2/2 [==============================] - 0s 9ms/step\n",
            "2/2 [==============================] - 0s 9ms/step\n",
            "2/2 [==============================] - 0s 8ms/step\n"
          ]
        },
        {
          "name": "stderr",
          "output_type": "stream",
          "text": [
            "\r 73%|███████▎  | 22/30 [23:10<09:02, 67.82s/it]"
          ]
        },
        {
          "name": "stdout",
          "output_type": "stream",
          "text": [
            "2/2 [==============================] - 0s 9ms/step\n",
            "2/2 [==============================] - 0s 8ms/step\n",
            "2/2 [==============================] - 0s 8ms/step\n"
          ]
        },
        {
          "name": "stderr",
          "output_type": "stream",
          "text": [
            "\r 77%|███████▋  | 23/30 [24:18<07:56, 68.08s/it]"
          ]
        },
        {
          "name": "stdout",
          "output_type": "stream",
          "text": [
            "2/2 [==============================] - 0s 8ms/step\n",
            "2/2 [==============================] - 0s 15ms/step\n",
            "2/2 [==============================] - 0s 8ms/step\n"
          ]
        },
        {
          "name": "stderr",
          "output_type": "stream",
          "text": [
            "\r 80%|████████  | 24/30 [25:29<06:52, 68.70s/it]"
          ]
        },
        {
          "name": "stdout",
          "output_type": "stream",
          "text": [
            "2/2 [==============================] - 0s 14ms/step\n",
            "2/2 [==============================] - 0s 14ms/step\n",
            "2/2 [==============================] - 0s 7ms/step\n"
          ]
        },
        {
          "name": "stderr",
          "output_type": "stream",
          "text": [
            "\r 83%|████████▎ | 25/30 [26:39<05:46, 69.34s/it]"
          ]
        },
        {
          "name": "stdout",
          "output_type": "stream",
          "text": [
            "2/2 [==============================] - 0s 7ms/step\n",
            "2/2 [==============================] - 0s 8ms/step\n",
            "2/2 [==============================] - 0s 10ms/step\n"
          ]
        },
        {
          "name": "stderr",
          "output_type": "stream",
          "text": [
            "\r 87%|████████▋ | 26/30 [28:10<05:03, 75.80s/it]"
          ]
        },
        {
          "name": "stdout",
          "output_type": "stream",
          "text": [
            "2/2 [==============================] - 0s 8ms/step\n",
            "2/2 [==============================] - 0s 12ms/step\n",
            "2/2 [==============================] - 0s 8ms/step\n"
          ]
        },
        {
          "name": "stderr",
          "output_type": "stream",
          "text": [
            "\r 90%|█████████ | 27/30 [29:22<03:43, 74.58s/it]"
          ]
        },
        {
          "name": "stdout",
          "output_type": "stream",
          "text": [
            "2/2 [==============================] - 0s 8ms/step\n",
            "2/2 [==============================] - 0s 9ms/step\n",
            "2/2 [==============================] - 0s 7ms/step\n"
          ]
        },
        {
          "name": "stderr",
          "output_type": "stream",
          "text": [
            "\r 93%|█████████▎| 28/30 [30:54<02:39, 79.86s/it]"
          ]
        },
        {
          "name": "stdout",
          "output_type": "stream",
          "text": [
            "2/2 [==============================] - 0s 8ms/step\n",
            "2/2 [==============================] - 0s 8ms/step\n",
            "2/2 [==============================] - 0s 7ms/step\n"
          ]
        },
        {
          "name": "stderr",
          "output_type": "stream",
          "text": [
            "\r 97%|█████████▋| 29/30 [33:07<01:35, 95.78s/it]"
          ]
        },
        {
          "name": "stdout",
          "output_type": "stream",
          "text": [
            "2/2 [==============================] - 0s 9ms/step\n",
            "2/2 [==============================] - 0s 8ms/step\n",
            "2/2 [==============================] - 0s 8ms/step\n"
          ]
        },
        {
          "name": "stderr",
          "output_type": "stream",
          "text": [
            "100%|██████████| 30/30 [35:00<00:00, 70.00s/it] \n"
          ]
        }
      ],
      "source": [
        "predictions = []\n",
        "for epoch in tqdm(list(range(first_epoch, last_epoch))):\n",
        "    epoch_preds = []\n",
        "    for fold, (train_idx, val_idx) in enumerate(cv.split(data)):\n",
        "        X1_train, X2_train, y_train, X1_val, X2_val, y_val = get_train_valid_data(data,\n",
        "                                                                                  train_idx,\n",
        "                                                                                  val_idx)\n",
        "        model.fit([X1_train, X2_train], y_train,\n",
        "                  batch_size=batch_size,\n",
        "                  epochs=epoch,\n",
        "                  verbose=False,\n",
        "                  shuffle=True)\n",
        "        epoch_preds.append(pd.Series(model.predict([X1_val, X2_val]).reshape(-1),\n",
        "                                     index=y_val.stack().index).to_frame(epoch))\n",
        "\n",
        "    predictions.append(pd.concat(epoch_preds))"
      ]
    },
    {
      "cell_type": "code",
      "execution_count": null,
      "metadata": {
        "ExecuteTime": {
          "end_time": "2021-02-24T22:56:10.170667Z",
          "start_time": "2021-02-24T22:56:05.415887Z"
        },
        "id": "xsQnA28qG6AN"
      },
      "outputs": [],
      "source": [
        "predictions_combined = pd.concat(predictions, axis=1).sort_index()   "
      ]
    },
    {
      "cell_type": "code",
      "execution_count": null,
      "metadata": {
        "ExecuteTime": {
          "end_time": "2021-02-24T22:56:10.236001Z",
          "start_time": "2021-02-24T22:56:10.171537Z"
        },
        "colab": {
          "base_uri": "https://localhost:8080/"
        },
        "id": "0uMWaNvzG6AN",
        "outputId": "216ed910-6677-403d-84ce-ded4e206ca36"
      },
      "outputs": [
        {
          "name": "stdout",
          "output_type": "stream",
          "text": [
            "<class 'pandas.core.frame.DataFrame'>\n",
            "MultiIndex: 596700 entries, (Timestamp('2017-01-06 00:00:00'), 'A') to (Timestamp('2019-12-27 00:00:00'), 'ZYXI')\n",
            "Data columns (total 30 columns):\n",
            " #   Column  Non-Null Count   Dtype  \n",
            "---  ------  --------------   -----  \n",
            " 0   50      596700 non-null  float32\n",
            " 1   51      596700 non-null  float32\n",
            " 2   52      596700 non-null  float32\n",
            " 3   53      596700 non-null  float32\n",
            " 4   54      596700 non-null  float32\n",
            " 5   55      596700 non-null  float32\n",
            " 6   56      596700 non-null  float32\n",
            " 7   57      596700 non-null  float32\n",
            " 8   58      596700 non-null  float32\n",
            " 9   59      596700 non-null  float32\n",
            " 10  60      596700 non-null  float32\n",
            " 11  61      596700 non-null  float32\n",
            " 12  62      596700 non-null  float32\n",
            " 13  63      596700 non-null  float32\n",
            " 14  64      596700 non-null  float32\n",
            " 15  65      596700 non-null  float32\n",
            " 16  66      596700 non-null  float32\n",
            " 17  67      596700 non-null  float32\n",
            " 18  68      596700 non-null  float32\n",
            " 19  69      596700 non-null  float32\n",
            " 20  70      596700 non-null  float32\n",
            " 21  71      596700 non-null  float32\n",
            " 22  72      596700 non-null  float32\n",
            " 23  73      596700 non-null  float32\n",
            " 24  74      596700 non-null  float32\n",
            " 25  75      596700 non-null  float32\n",
            " 26  76      596700 non-null  float32\n",
            " 27  77      596700 non-null  float32\n",
            " 28  78      596700 non-null  float32\n",
            " 29  79      596700 non-null  float32\n",
            "dtypes: float32(30)\n",
            "memory usage: 70.7+ MB\n"
          ]
        }
      ],
      "source": [
        "predictions_combined.info()"
      ]
    },
    {
      "cell_type": "code",
      "execution_count": null,
      "metadata": {
        "ExecuteTime": {
          "end_time": "2021-02-24T22:56:10.394903Z",
          "start_time": "2021-02-24T22:56:10.236930Z"
        },
        "id": "mV0rDdJsG6AN"
      },
      "outputs": [],
      "source": [
        "predictions_combined.to_hdf(results_path / 'predictions.h5', 'predictions')"
      ]
    },
    {
      "cell_type": "code",
      "execution_count": null,
      "metadata": {
        "id": "3bJuKgM2tVBv"
      },
      "outputs": [],
      "source": []
    }
  ],
  "metadata": {
    "colab": {
      "collapsed_sections": [
        "ntThvUmmHWNQ"
      ],
      "provenance": []
    },
    "gpuClass": "standard",
    "kernelspec": {
      "display_name": "Python 3",
      "language": "python",
      "name": "python3"
    },
    "language_info": {
      "codemirror_mode": {
        "name": "ipython",
        "version": 3
      },
      "file_extension": ".py",
      "mimetype": "text/x-python",
      "name": "python",
      "nbconvert_exporter": "python",
      "pygments_lexer": "ipython3",
      "version": "3.8.8"
    },
    "toc": {
      "base_numbering": 1,
      "nav_menu": {},
      "number_sections": true,
      "sideBar": true,
      "skip_h1_title": true,
      "title_cell": "Table of Contents",
      "title_sidebar": "Contents",
      "toc_cell": false,
      "toc_position": {
        "height": "calc(100% - 180px)",
        "left": "10px",
        "top": "150px",
        "width": "304px"
      },
      "toc_section_display": true,
      "toc_window_display": true
    }
  },
  "nbformat": 4,
  "nbformat_minor": 0
}
