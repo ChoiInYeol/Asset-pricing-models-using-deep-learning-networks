{
  "cells": [
    {
      "cell_type": "markdown",
      "metadata": {
        "id": "1eVwN96NG6AD"
      },
      "source": [
        "# Conditional Autoencoder for Asset Pricing - Part 2: The Model"
      ]
    },
    {
      "cell_type": "code",
      "source": [
        "from google.colab import drive\n",
        "drive.mount('/content/drive')"
      ],
      "metadata": {
        "colab": {
          "base_uri": "https://localhost:8080/"
        },
        "id": "zG66Pp9HG7-t",
        "outputId": "23793f8f-1b73-4a73-a7b0-c40f38dbdcc3"
      },
      "execution_count": null,
      "outputs": [
        {
          "output_type": "stream",
          "name": "stdout",
          "text": [
            "Drive already mounted at /content/drive; to attempt to forcibly remount, call drive.mount(\"/content/drive\", force_remount=True).\n"
          ]
        }
      ]
    },
    {
      "cell_type": "markdown",
      "metadata": {
        "id": "qj0ahGMNG6AE"
      },
      "source": [
        "This notebook uses a dataset created using `yfinance` in the notebook [conditional_autoencoder_for_asset_pricing_data](05_conditional_autoencoder_for_asset_pricing_data.ipynb). The results will vary depending on which ticker downloads succeeded."
      ]
    },
    {
      "cell_type": "code",
      "execution_count": null,
      "metadata": {
        "ExecuteTime": {
          "end_time": "2021-02-25T02:19:34.605450Z",
          "start_time": "2021-02-25T02:19:34.603752Z"
        },
        "id": "frjNW8ZuG6AE"
      },
      "outputs": [],
      "source": [
        "import warnings\n",
        "warnings.filterwarnings('ignore')"
      ]
    },
    {
      "cell_type": "code",
      "execution_count": null,
      "metadata": {
        "ExecuteTime": {
          "end_time": "2021-02-25T02:19:36.827983Z",
          "start_time": "2021-02-25T02:19:34.779105Z"
        },
        "id": "tOutZnArG6AE"
      },
      "outputs": [],
      "source": [
        "import sys, os\n",
        "from time import time\n",
        "from pathlib import Path\n",
        "from itertools import product\n",
        "from tqdm import tqdm \n",
        "\n",
        "import numpy as np\n",
        "import pandas as pd\n",
        "\n",
        "import matplotlib.pyplot as plt\n",
        "import seaborn as sns\n",
        "\n",
        "import tensorflow as tf\n",
        "from tensorflow.keras.layers import Input, Dense, Dot, Reshape, BatchNormalization\n",
        "from tensorflow.keras.models import Model\n",
        "from tensorflow.keras.callbacks import TensorBoard\n",
        "\n",
        "from sklearn.preprocessing import quantile_transform\n",
        "\n",
        "from scipy.stats import spearmanr"
      ]
    },
    {
      "cell_type": "code",
      "execution_count": null,
      "metadata": {
        "ExecuteTime": {
          "end_time": "2021-02-25T02:19:36.921304Z",
          "start_time": "2021-02-25T02:19:36.829045Z"
        },
        "colab": {
          "base_uri": "https://localhost:8080/"
        },
        "id": "UO1YJSZ9G6AE",
        "outputId": "859567b3-0a0f-4563-b7d6-74f0e065c8f7"
      },
      "outputs": [
        {
          "output_type": "stream",
          "name": "stdout",
          "text": [
            "Using GPU\n"
          ]
        }
      ],
      "source": [
        "gpu_devices = tf.config.experimental.list_physical_devices('GPU')\n",
        "if gpu_devices:\n",
        "    print('Using GPU')\n",
        "    tf.config.experimental.set_memory_growth(gpu_devices[0], True)\n",
        "else:\n",
        "    print('Using CPU')"
      ]
    },
    {
      "cell_type": "code",
      "source": [
        "import os\n",
        "\n",
        "# Get the current working directory\n",
        "path = os.getcwd()\n",
        "\n",
        "# Print the path\n",
        "print(\"Current Path:\", path)\n",
        "\n",
        "# 이동할 디렉토리 경로\n",
        "path = '/content/drive/MyDrive/Colab Notebooks'\n",
        "\n",
        "# 디렉토리 변경\n",
        "os.chdir(path)"
      ],
      "metadata": {
        "colab": {
          "base_uri": "https://localhost:8080/"
        },
        "id": "Gcg67FhDJYKK",
        "outputId": "a4ecd176-c40b-4c87-b43c-a92b91b8c6a9"
      },
      "execution_count": null,
      "outputs": [
        {
          "output_type": "stream",
          "name": "stdout",
          "text": [
            "Current Path: /content\n"
          ]
        }
      ]
    },
    {
      "cell_type": "code",
      "execution_count": null,
      "metadata": {
        "ExecuteTime": {
          "end_time": "2021-02-25T02:19:36.936409Z",
          "start_time": "2021-02-25T02:19:36.923157Z"
        },
        "id": "1pG8OyM0G6AF"
      },
      "outputs": [],
      "source": [
        "sys.path.insert(1, os.path.join(sys.path[0], '..'))\n",
        "from utils import MultipleTimeSeriesCV, format_time"
      ]
    },
    {
      "cell_type": "code",
      "execution_count": null,
      "metadata": {
        "ExecuteTime": {
          "end_time": "2021-02-25T02:19:36.941712Z",
          "start_time": "2021-02-25T02:19:36.937278Z"
        },
        "id": "Y4FheCqQG6AF"
      },
      "outputs": [],
      "source": [
        "idx = pd.IndexSlice\n",
        "sns.set_style('whitegrid')\n",
        "np.random.seed(42)"
      ]
    },
    {
      "cell_type": "code",
      "execution_count": null,
      "metadata": {
        "ExecuteTime": {
          "end_time": "2021-02-25T02:19:37.833897Z",
          "start_time": "2021-02-25T02:19:37.830039Z"
        },
        "id": "58RNH46yG6AF"
      },
      "outputs": [],
      "source": [
        "results_path = Path('results', 'asset_pricing')\n",
        "if not results_path.exists():\n",
        "    results_path.mkdir(parents=True)"
      ]
    },
    {
      "cell_type": "code",
      "execution_count": null,
      "metadata": {
        "ExecuteTime": {
          "end_time": "2021-02-25T02:19:38.033251Z",
          "start_time": "2021-02-25T02:19:38.027838Z"
        },
        "id": "GkbXEVVdG6AF"
      },
      "outputs": [],
      "source": [
        "characteristics = ['beta', 'betasq', 'chmom', 'dolvol', 'idiovol', 'ill', 'indmom',\n",
        "                   'maxret', 'mom12m', 'mom1m', 'mom36m', 'mvel', 'retvol', 'turn', 'turn_std']"
      ]
    },
    {
      "cell_type": "markdown",
      "metadata": {
        "id": "IglpRJCpG6AG"
      },
      "source": [
        "## Load Data"
      ]
    },
    {
      "cell_type": "code",
      "execution_count": null,
      "metadata": {
        "ExecuteTime": {
          "end_time": "2021-02-24T18:50:13.572501Z",
          "start_time": "2021-02-24T18:50:13.512736Z"
        },
        "id": "CLrJcRaXG6AG",
        "outputId": "d178afdb-e492-4cbb-9bce-6ff9395fca85",
        "colab": {
          "base_uri": "https://localhost:8080/"
        }
      },
      "outputs": [
        {
          "output_type": "stream",
          "name": "stdout",
          "text": [
            "<class 'pandas.io.pytables.HDFStore'>\n",
            "File path: results/asset_pricing/autoencoder.h5\n",
            "/close                      frame        (shape->[7559,3825]) \n",
            "/factor/beta                frame        (shape->[2677781,1]) \n",
            "/factor/betasq              frame        (shape->[2677781,1]) \n",
            "/factor/chmom               frame        (shape->[3032594,1]) \n",
            "/factor/dolvol              frame        (shape->[3194404,1]) \n",
            "/factor/idiovol             frame        (shape->[2677781,1]) \n",
            "/factor/ill                 frame        (shape->[2880851,1]) \n",
            "/factor/indmom              frame        (shape->[3182400,1]) \n",
            "/factor/maxret              frame        (shape->[3194850,1]) \n",
            "/factor/mom12m              frame        (shape->[3032594,1]) \n",
            "/factor/mom1m               series       (shape->[3210620])   \n",
            "/factor/mom36m              frame        (shape->[2676077,1]) \n",
            "/factor/mvel                frame        (shape->[3227144,1]) \n",
            "/factor/retvol              frame        (shape->[3210620,1]) \n",
            "/factor/turn                frame        (shape->[3178142,1]) \n",
            "/factor/turn_std            frame        (shape->[3209297,1]) \n",
            "/metadata                   frame        (shape->[1,3])       \n",
            "/model_data                 frame        (shape->[5389425,17])\n",
            "/returns                    frame        (shape->[1565,3825]) \n",
            "/volume                     frame        (shape->[7559,3825]) \n"
          ]
        }
      ],
      "source": [
        "with pd.HDFStore(results_path / 'autoencoder.h5') as store:\n",
        "    print(store.info())"
      ]
    },
    {
      "cell_type": "markdown",
      "metadata": {
        "id": "j4e2kMyKG6AG"
      },
      "source": [
        "### Weekly returns"
      ]
    },
    {
      "cell_type": "code",
      "execution_count": null,
      "metadata": {
        "ExecuteTime": {
          "end_time": "2021-02-25T01:26:06.206795Z",
          "start_time": "2021-02-25T01:26:04.882874Z"
        },
        "id": "O9jSRvG_G6AG"
      },
      "outputs": [],
      "source": [
        "data = (pd.read_hdf(results_path / 'autoencoder.h5', 'returns')\n",
        "        .stack(dropna=False)\n",
        "        .to_frame('returns')\n",
        "        .loc[idx['1993':, :], :])\n",
        "\n",
        "# 램 문제 발생으로 인한 1993 -> 2013"
      ]
    },
    {
      "cell_type": "code",
      "execution_count": null,
      "metadata": {
        "ExecuteTime": {
          "end_time": "2021-02-25T01:31:04.871050Z",
          "start_time": "2021-02-25T01:26:29.547812Z"
        },
        "id": "oQeFh3FQG6AG"
      },
      "outputs": [],
      "source": [
        "with pd.HDFStore(results_path / 'autoencoder.h5') as store:\n",
        "    keys = [k[1:] for k in store.keys() if k[1:].startswith('factor')]\n",
        "    for key in keys:\n",
        "        data[key.split('/')[-1]] = store[key].squeeze()"
      ]
    },
    {
      "cell_type": "code",
      "execution_count": null,
      "metadata": {
        "ExecuteTime": {
          "end_time": "2021-02-25T01:31:05.500857Z",
          "start_time": "2021-02-25T01:31:04.872471Z"
        },
        "id": "O88_kIdqG6AG"
      },
      "outputs": [],
      "source": [
        "characteristics = data.drop('returns', axis=1).columns.tolist()"
      ]
    },
    {
      "cell_type": "code",
      "execution_count": null,
      "metadata": {
        "ExecuteTime": {
          "end_time": "2021-02-25T01:31:20.675618Z",
          "start_time": "2021-02-25T01:31:05.506982Z"
        },
        "id": "AckyPRVfG6AG"
      },
      "outputs": [],
      "source": [
        "data['returns_fwd'] = data.returns.unstack('ticker').shift(-1).stack()"
      ]
    },
    {
      "cell_type": "code",
      "execution_count": null,
      "metadata": {
        "ExecuteTime": {
          "end_time": "2021-02-25T01:31:21.117546Z",
          "start_time": "2021-02-25T01:31:20.677182Z"
        },
        "id": "wsPwsDDXG6AG",
        "outputId": "a7b4e7e0-b298-426b-a6bc-216d9d67ee48",
        "colab": {
          "base_uri": "https://localhost:8080/"
        }
      },
      "outputs": [
        {
          "output_type": "stream",
          "name": "stdout",
          "text": [
            "<class 'pandas.core.frame.DataFrame'>\n",
            "MultiIndex: 5393250 entries, (Timestamp('1993-01-01 00:00:00', freq='W-FRI'), 'A') to (Timestamp('2020-01-03 00:00:00', freq='W-FRI'), 'ZYXI')\n",
            "Data columns (total 17 columns):\n",
            " #   Column       Non-Null Count    Dtype  \n",
            "---  ------       --------------    -----  \n",
            " 0   returns      3091645 non-null  float64\n",
            " 1   beta         2677781 non-null  float64\n",
            " 2   betasq       2677781 non-null  float64\n",
            " 3   chmom        2947392 non-null  float64\n",
            " 4   dolvol       3069376 non-null  float64\n",
            " 5   idiovol      2677781 non-null  float64\n",
            " 6   ill          2785453 non-null  float64\n",
            " 7   indmom       3091645 non-null  float64\n",
            " 8   maxret       3069822 non-null  float64\n",
            " 9   mom12m       2947392 non-null  float64\n",
            " 10  mom1m        3081787 non-null  float64\n",
            " 11  mom36m       2676077 non-null  float64\n",
            " 12  mvel         3094437 non-null  float64\n",
            " 13  retvol       3081787 non-null  float64\n",
            " 14  turn         3056929 non-null  float64\n",
            " 15  turn_std     3077284 non-null  float64\n",
            " 16  returns_fwd  3090691 non-null  float64\n",
            "dtypes: float64(17)\n",
            "memory usage: 720.3+ MB\n"
          ]
        }
      ],
      "source": [
        "data.info(null_counts=True)"
      ]
    },
    {
      "cell_type": "code",
      "execution_count": null,
      "metadata": {
        "ExecuteTime": {
          "end_time": "2021-02-24T18:52:55.851733Z",
          "start_time": "2021-02-24T18:52:54.472212Z"
        },
        "id": "CJxw4oxSG6AH"
      },
      "outputs": [],
      "source": [
        "nobs_by_date = data.groupby(level='date').count().max(1)\n",
        "nobs_by_characteristic = pd.melt(data[characteristics].groupby(level='date').count(),\n",
        "                                 value_name='# Observations',\n",
        "                                 var_name=['Characteristic'])"
      ]
    },
    {
      "cell_type": "code",
      "execution_count": null,
      "metadata": {
        "ExecuteTime": {
          "end_time": "2021-02-24T18:52:56.259184Z",
          "start_time": "2021-02-24T18:52:55.852633Z"
        },
        "id": "b22VkMUwG6AH",
        "outputId": "1353b7c5-045a-41cc-b876-775723f715b7",
        "colab": {
          "base_uri": "https://localhost:8080/",
          "height": 407
        }
      },
      "outputs": [
        {
          "output_type": "display_data",
          "data": {
            "text/plain": [
              "<Figure size 1400x400 with 2 Axes>"
            ],
            "image/png": "[encoded data removed]"
          },
          "metadata": {}
        }
      ],
      "source": [
        "with sns.axes_style(\"white\"):\n",
        "    fig, axes = plt.subplots(ncols=2, figsize=(14, 4))\n",
        "    sns.distplot(nobs_by_date, kde=False, ax=axes[0])\n",
        "    axes[0].set_title('# of Stocks per Week')\n",
        "    axes[0].set_xlabel('# of Observations')\n",
        "    sns.boxplot(x='Characteristic',\n",
        "                y='# Observations',\n",
        "                data=nobs_by_characteristic,\n",
        "                ax=axes[1],\n",
        "                palette='Blues')\n",
        "    axes[1].set_xticklabels(axes[1].get_xticklabels(),\n",
        "                            rotation=25,\n",
        "                            ha='right')\n",
        "    axes[1].set_title('# of Observation per Stock Characteristic')\n",
        "    sns.despine()\n",
        "    fig.tight_layout()\n",
        "    # fig.savefig(results_path / 'of Stocks per Week', dpi=600)"
      ]
    },
    {
      "cell_type": "markdown",
      "metadata": {
        "id": "RcveLXAGG6AH"
      },
      "source": [
        "### Rank-normalize characteristics"
      ]
    },
    {
      "cell_type": "code",
      "execution_count": null,
      "metadata": {
        "ExecuteTime": {
          "end_time": "2021-02-24T18:54:46.798214Z",
          "start_time": "2021-02-24T18:52:56.260370Z"
        },
        "id": "qRXGH5HMG6AH"
      },
      "outputs": [],
      "source": [
        "data.loc[:, characteristics] = (data.loc[:, characteristics]\n",
        "                                .groupby(level='date')\n",
        "                                .apply(lambda x: pd.DataFrame(quantile_transform(x, \n",
        "                                                                                 copy=True, \n",
        "                                                                                 n_quantiles=x.shape[0]),\n",
        "                                                              columns=characteristics,\n",
        "                                                              index=x.index.get_level_values('ticker')))\n",
        "                               .mul(2).sub(1))"
      ]
    },
    {
      "cell_type": "code",
      "execution_count": null,
      "metadata": {
        "ExecuteTime": {
          "end_time": "2021-02-24T18:54:46.944271Z",
          "start_time": "2021-02-24T18:54:46.799110Z"
        },
        "id": "CPAaj0CfG6AH",
        "outputId": "2393e17e-4a92-42f8-a67e-28eeec09b1eb",
        "colab": {
          "base_uri": "https://localhost:8080/"
        }
      },
      "outputs": [
        {
          "output_type": "stream",
          "name": "stdout",
          "text": [
            "<class 'pandas.core.frame.DataFrame'>\n",
            "MultiIndex: 5393250 entries, (Timestamp('1993-01-01 00:00:00', freq='W-FRI'), 'A') to (Timestamp('2020-01-03 00:00:00', freq='W-FRI'), 'ZYXI')\n",
            "Data columns (total 17 columns):\n",
            " #   Column       Non-Null Count    Dtype  \n",
            "---  ------       --------------    -----  \n",
            " 0   returns      3091645 non-null  float64\n",
            " 1   beta         2677781 non-null  float64\n",
            " 2   betasq       2677781 non-null  float64\n",
            " 3   chmom        2947392 non-null  float64\n",
            " 4   dolvol       3069376 non-null  float64\n",
            " 5   idiovol      2677781 non-null  float64\n",
            " 6   ill          2785453 non-null  float64\n",
            " 7   indmom       3091645 non-null  float64\n",
            " 8   maxret       3069822 non-null  float64\n",
            " 9   mom12m       2947392 non-null  float64\n",
            " 10  mom1m        3081787 non-null  float64\n",
            " 11  mom36m       2676077 non-null  float64\n",
            " 12  mvel         3094437 non-null  float64\n",
            " 13  retvol       3081787 non-null  float64\n",
            " 14  turn         3056929 non-null  float64\n",
            " 15  turn_std     3077284 non-null  float64\n",
            " 16  returns_fwd  3090691 non-null  float64\n",
            "dtypes: float64(17)\n",
            "memory usage: 720.3+ MB\n"
          ]
        }
      ],
      "source": [
        "data.info(null_counts=True)"
      ]
    },
    {
      "cell_type": "code",
      "execution_count": null,
      "metadata": {
        "ExecuteTime": {
          "end_time": "2021-02-24T18:54:46.948950Z",
          "start_time": "2021-02-24T18:54:46.945523Z"
        },
        "id": "dnqooaKBG6AH",
        "outputId": "e51e6a0c-880c-4922-bc9d-7ee9005c51e9",
        "colab": {
          "base_uri": "https://localhost:8080/"
        }
      },
      "outputs": [
        {
          "output_type": "execute_result",
          "data": {
            "text/plain": [
              "FrozenList(['date', 'ticker'])"
            ]
          },
          "metadata": {},
          "execution_count": 22
        }
      ],
      "source": [
        "data.index.names"
      ]
    },
    {
      "cell_type": "code",
      "execution_count": null,
      "metadata": {
        "ExecuteTime": {
          "end_time": "2021-02-24T18:54:50.852191Z",
          "start_time": "2021-02-24T18:54:46.950191Z"
        },
        "id": "G_pCOAC4G6AI",
        "outputId": "dcf2b5d9-0ede-4a5b-cae9-21e34af4fd89",
        "colab": {
          "base_uri": "https://localhost:8080/",
          "height": 399
        }
      },
      "outputs": [
        {
          "output_type": "execute_result",
          "data": {
            "text/plain": [
              "            returns          beta        betasq         chmom        dolvol  \\\n",
              "count  3.091645e+06  2.677781e+06  2.677781e+06  2.947392e+06  3.069376e+06   \n",
              "mean   3.045176e-03 -5.309169e-08 -5.146152e-07  6.963426e-09 -4.709343e-07   \n",
              "std    6.134996e-02  5.776538e-01  5.776544e-01  5.776258e-01  5.776161e-01   \n",
              "min   -9.549180e-01 -1.000000e+00 -1.000000e+00 -1.000000e+00 -1.000000e+00   \n",
              "25%   -2.155692e-02 -5.002539e-01 -5.002617e-01 -5.002054e-01 -5.001815e-01   \n",
              "50%    9.764409e-04  0.000000e+00  0.000000e+00  0.000000e+00 -1.110223e-16   \n",
              "75%    2.502054e-02  5.002418e-01  5.002408e-01  5.002116e-01  5.001990e-01   \n",
              "max    4.000000e+00  1.000000e+00  1.000000e+00  1.000000e+00  1.000000e+00   \n",
              "\n",
              "            idiovol           ill        indmom        maxret        mom12m  \\\n",
              "count  2.677781e+06  2.785453e+06  3.091645e+06  3.069822e+06  2.947392e+06   \n",
              "mean  -2.391944e-07 -5.998247e-07  7.947761e-04 -1.238270e-07 -1.101284e-07   \n",
              "std    5.776539e-01  5.776421e-01  5.879197e-01  5.776144e-01  5.776259e-01   \n",
              "min   -1.000000e+00 -1.000000e+00 -1.000000e+00 -1.000000e+00 -1.000000e+00   \n",
              "25%   -5.002382e-01 -5.002250e-01 -4.900628e-01 -5.002588e-01 -5.002046e-01   \n",
              "50%   -1.110223e-16  0.000000e+00  1.046025e-03  0.000000e+00  0.000000e+00   \n",
              "75%    5.002417e-01  5.002108e-01  4.811715e-01  5.001784e-01  5.002182e-01   \n",
              "max    1.000000e+00  1.000000e+00  1.000000e+00  1.000000e+00  1.000000e+00   \n",
              "\n",
              "              mom1m        mom36m          mvel        retvol          turn  \\\n",
              "count  3.081787e+06  2.676077e+06  3.094437e+06  3.081787e+06  3.056929e+06   \n",
              "mean   3.994020e-08 -1.678374e-07 -3.933234e-08 -1.024869e-06 -4.668285e-07   \n",
              "std    5.776114e-01  5.776540e-01  5.776128e-01  5.776155e-01  5.776164e-01   \n",
              "min   -1.000000e+00 -1.000000e+00 -1.000000e+00 -1.000000e+00 -1.000000e+00   \n",
              "25%   -5.000749e-01 -5.002558e-01 -5.001877e-01 -5.001996e-01 -5.001927e-01   \n",
              "50%   -1.110223e-16  0.000000e+00 -1.110223e-16 -1.110223e-16  0.000000e+00   \n",
              "75%    5.001866e-01  5.002496e-01  5.001930e-01  5.001858e-01  5.001975e-01   \n",
              "max    1.000000e+00  1.000000e+00  1.000000e+00  1.000000e+00  1.000000e+00   \n",
              "\n",
              "           turn_std   returns_fwd  \n",
              "count  3.077284e+06  3.090691e+06  \n",
              "mean  -9.886441e-07  3.042616e-03  \n",
              "std    5.776150e-01  6.135423e-02  \n",
              "min   -1.000000e+00 -9.549180e-01  \n",
              "25%   -5.001929e-01 -2.156144e-02  \n",
              "50%    0.000000e+00  9.764634e-04  \n",
              "75%    5.001834e-01  2.501880e-02  \n",
              "max    1.000000e+00  4.000000e+00  "
            ],
            "text/html": [
              "\n",
              "  <div id=\"df-edf1c03f-2beb-4cf4-b648-2e9bd2617cb3\">\n",
              "    <div class=\"colab-df-container\">\n",
              "      <div>\n",
              "<style scoped>\n",
              "    .dataframe tbody tr th:only-of-type {\n",
              "        vertical-align: middle;\n",
              "    }\n",
              "\n",
              "    .dataframe tbody tr th {\n",
              "        vertical-align: top;\n",
              "    }\n",
              "\n",
              "    .dataframe thead th {\n",
              "        text-align: right;\n",
              "    }\n",
              "</style>\n",
              "<table border=\"1\" class=\"dataframe\">\n",
              "  <thead>\n",
              "    <tr style=\"text-align: right;\">\n",
              "      <th></th>\n",
              "      <th>returns</th>\n",
              "      <th>beta</th>\n",
              "      <th>betasq</th>\n",
              "      <th>chmom</th>\n",
              "      <th>dolvol</th>\n",
              "      <th>idiovol</th>\n",
              "      <th>ill</th>\n",
              "      <th>indmom</th>\n",
              "      <th>maxret</th>\n",
              "      <th>mom12m</th>\n",
              "      <th>mom1m</th>\n",
              "      <th>mom36m</th>\n",
              "      <th>mvel</th>\n",
              "      <th>retvol</th>\n",
              "      <th>turn</th>\n",
              "      <th>turn_std</th>\n",
              "      <th>returns_fwd</th>\n",
              "    </tr>\n",
              "  </thead>\n",
              "  <tbody>\n",
              "    <tr>\n",
              "      <th>count</th>\n",
              "      <td>3.091645e+06</td>\n",
              "      <td>2.677781e+06</td>\n",
              "      <td>2.677781e+06</td>\n",
              "      <td>2.947392e+06</td>\n",
              "      <td>3.069376e+06</td>\n",
              "      <td>2.677781e+06</td>\n",
              "      <td>2.785453e+06</td>\n",
              "      <td>3.091645e+06</td>\n",
              "      <td>3.069822e+06</td>\n",
              "      <td>2.947392e+06</td>\n",
              "      <td>3.081787e+06</td>\n",
              "      <td>2.676077e+06</td>\n",
              "      <td>3.094437e+06</td>\n",
              "      <td>3.081787e+06</td>\n",
              "      <td>3.056929e+06</td>\n",
              "      <td>3.077284e+06</td>\n",
              "      <td>3.090691e+06</td>\n",
              "    </tr>\n",
              "    <tr>\n",
              "      <th>mean</th>\n",
              "      <td>3.045176e-03</td>\n",
              "      <td>-5.309169e-08</td>\n",
              "      <td>-5.146152e-07</td>\n",
              "      <td>6.963426e-09</td>\n",
              "      <td>-4.709343e-07</td>\n",
              "      <td>-2.391944e-07</td>\n",
              "      <td>-5.998247e-07</td>\n",
              "      <td>7.947761e-04</td>\n",
              "      <td>-1.238270e-07</td>\n",
              "      <td>-1.101284e-07</td>\n",
              "      <td>3.994020e-08</td>\n",
              "      <td>-1.678374e-07</td>\n",
              "      <td>-3.933234e-08</td>\n",
              "      <td>-1.024869e-06</td>\n",
              "      <td>-4.668285e-07</td>\n",
              "      <td>-9.886441e-07</td>\n",
              "      <td>3.042616e-03</td>\n",
              "    </tr>\n",
              "    <tr>\n",
              "      <th>std</th>\n",
              "      <td>6.134996e-02</td>\n",
              "      <td>5.776538e-01</td>\n",
              "      <td>5.776544e-01</td>\n",
              "      <td>5.776258e-01</td>\n",
              "      <td>5.776161e-01</td>\n",
              "      <td>5.776539e-01</td>\n",
              "      <td>5.776421e-01</td>\n",
              "      <td>5.879197e-01</td>\n",
              "      <td>5.776144e-01</td>\n",
              "      <td>5.776259e-01</td>\n",
              "      <td>5.776114e-01</td>\n",
              "      <td>5.776540e-01</td>\n",
              "      <td>5.776128e-01</td>\n",
              "      <td>5.776155e-01</td>\n",
              "      <td>5.776164e-01</td>\n",
              "      <td>5.776150e-01</td>\n",
              "      <td>6.135423e-02</td>\n",
              "    </tr>\n",
              "    <tr>\n",
              "      <th>min</th>\n",
              "      <td>-9.549180e-01</td>\n",
              "      <td>-1.000000e+00</td>\n",
              "      <td>-1.000000e+00</td>\n",
              "      <td>-1.000000e+00</td>\n",
              "      <td>-1.000000e+00</td>\n",
              "      <td>-1.000000e+00</td>\n",
              "      <td>-1.000000e+00</td>\n",
              "      <td>-1.000000e+00</td>\n",
              "      <td>-1.000000e+00</td>\n",
              "      <td>-1.000000e+00</td>\n",
              "      <td>-1.000000e+00</td>\n",
              "      <td>-1.000000e+00</td>\n",
              "      <td>-1.000000e+00</td>\n",
              "      <td>-1.000000e+00</td>\n",
              "      <td>-1.000000e+00</td>\n",
              "      <td>-1.000000e+00</td>\n",
              "      <td>-9.549180e-01</td>\n",
              "    </tr>\n",
              "    <tr>\n",
              "      <th>25%</th>\n",
              "      <td>-2.155692e-02</td>\n",
              "      <td>-5.002539e-01</td>\n",
              "      <td>-5.002617e-01</td>\n",
              "      <td>-5.002054e-01</td>\n",
              "      <td>-5.001815e-01</td>\n",
              "      <td>-5.002382e-01</td>\n",
              "      <td>-5.002250e-01</td>\n",
              "      <td>-4.900628e-01</td>\n",
              "      <td>-5.002588e-01</td>\n",
              "      <td>-5.002046e-01</td>\n",
              "      <td>-5.000749e-01</td>\n",
              "      <td>-5.002558e-01</td>\n",
              "      <td>-5.001877e-01</td>\n",
              "      <td>-5.001996e-01</td>\n",
              "      <td>-5.001927e-01</td>\n",
              "      <td>-5.001929e-01</td>\n",
              "      <td>-2.156144e-02</td>\n",
              "    </tr>\n",
              "    <tr>\n",
              "      <th>50%</th>\n",
              "      <td>9.764409e-04</td>\n",
              "      <td>0.000000e+00</td>\n",
              "      <td>0.000000e+00</td>\n",
              "      <td>0.000000e+00</td>\n",
              "      <td>-1.110223e-16</td>\n",
              "      <td>-1.110223e-16</td>\n",
              "      <td>0.000000e+00</td>\n",
              "      <td>1.046025e-03</td>\n",
              "      <td>0.000000e+00</td>\n",
              "      <td>0.000000e+00</td>\n",
              "      <td>-1.110223e-16</td>\n",
              "      <td>0.000000e+00</td>\n",
              "      <td>-1.110223e-16</td>\n",
              "      <td>-1.110223e-16</td>\n",
              "      <td>0.000000e+00</td>\n",
              "      <td>0.000000e+00</td>\n",
              "      <td>9.764634e-04</td>\n",
              "    </tr>\n",
              "    <tr>\n",
              "      <th>75%</th>\n",
              "      <td>2.502054e-02</td>\n",
              "      <td>5.002418e-01</td>\n",
              "      <td>5.002408e-01</td>\n",
              "      <td>5.002116e-01</td>\n",
              "      <td>5.001990e-01</td>\n",
              "      <td>5.002417e-01</td>\n",
              "      <td>5.002108e-01</td>\n",
              "      <td>4.811715e-01</td>\n",
              "      <td>5.001784e-01</td>\n",
              "      <td>5.002182e-01</td>\n",
              "      <td>5.001866e-01</td>\n",
              "      <td>5.002496e-01</td>\n",
              "      <td>5.001930e-01</td>\n",
              "      <td>5.001858e-01</td>\n",
              "      <td>5.001975e-01</td>\n",
              "      <td>5.001834e-01</td>\n",
              "      <td>2.501880e-02</td>\n",
              "    </tr>\n",
              "    <tr>\n",
              "      <th>max</th>\n",
              "      <td>4.000000e+00</td>\n",
              "      <td>1.000000e+00</td>\n",
              "      <td>1.000000e+00</td>\n",
              "      <td>1.000000e+00</td>\n",
              "      <td>1.000000e+00</td>\n",
              "      <td>1.000000e+00</td>\n",
              "      <td>1.000000e+00</td>\n",
              "      <td>1.000000e+00</td>\n",
              "      <td>1.000000e+00</td>\n",
              "      <td>1.000000e+00</td>\n",
              "      <td>1.000000e+00</td>\n",
              "      <td>1.000000e+00</td>\n",
              "      <td>1.000000e+00</td>\n",
              "      <td>1.000000e+00</td>\n",
              "      <td>1.000000e+00</td>\n",
              "      <td>1.000000e+00</td>\n",
              "      <td>4.000000e+00</td>\n",
              "    </tr>\n",
              "  </tbody>\n",
              "</table>\n",
              "</div>\n",
              "      <button class=\"colab-df-convert\" onclick=\"convertToInteractive('df-edf1c03f-2beb-4cf4-b648-2e9bd2617cb3')\"\n",
              "              title=\"Convert this dataframe to an interactive table.\"\n",
              "              style=\"display:none;\">\n",
              "        \n",
              "  <svg xmlns=\"http://www.w3.org/2000/svg\" height=\"24px\"viewBox=\"0 0 24 24\"\n",
              "       width=\"24px\">\n",
              "    <path d=\"M0 0h24v24H0V0z\" fill=\"none\"/>\n",
              "    <path d=\"M18.56 5.44l.94 2.06.94-2.06 2.06-.94-2.06-.94-.94-2.06-.94 2.06-2.06.94zm-11 1L8.5 8.5l.94-2.06 2.06-.94-2.06-.94L8.5 2.5l-.94 2.06-2.06.94zm10 10l.94 2.06.94-2.06 2.06-.94-2.06-.94-.94-2.06-.94 2.06-2.06.94z\"/><path d=\"M17.41 7.96l-1.37-1.37c-.4-.4-.92-.59-1.43-.59-.52 0-1.04.2-1.43.59L10.3 9.45l-7.72 7.72c-.78.78-.78 2.05 0 2.83L4 21.41c.39.39.9.59 1.41.59.51 0 1.02-.2 1.41-.59l7.78-7.78 2.81-2.81c.8-.78.8-2.07 0-2.86zM5.41 20L4 18.59l7.72-7.72 1.47 1.35L5.41 20z\"/>\n",
              "  </svg>\n",
              "      </button>\n",
              "      \n",
              "  <style>\n",
              "    .colab-df-container {\n",
              "      display:flex;\n",
              "      flex-wrap:wrap;\n",
              "      gap: 12px;\n",
              "    }\n",
              "\n",
              "    .colab-df-convert {\n",
              "      background-color: #E8F0FE;\n",
              "      border: none;\n",
              "      border-radius: 50%;\n",
              "      cursor: pointer;\n",
              "      display: none;\n",
              "      fill: #1967D2;\n",
              "      height: 32px;\n",
              "      padding: 0 0 0 0;\n",
              "      width: 32px;\n",
              "    }\n",
              "\n",
              "    .colab-df-convert:hover {\n",
              "      background-color: #E2EBFA;\n",
              "      box-shadow: 0px 1px 2px rgba(60, 64, 67, 0.3), 0px 1px 3px 1px rgba(60, 64, 67, 0.15);\n",
              "      fill: #174EA6;\n",
              "    }\n",
              "\n",
              "    [theme=dark] .colab-df-convert {\n",
              "      background-color: #3B4455;\n",
              "      fill: #D2E3FC;\n",
              "    }\n",
              "\n",
              "    [theme=dark] .colab-df-convert:hover {\n",
              "      background-color: #434B5C;\n",
              "      box-shadow: 0px 1px 3px 1px rgba(0, 0, 0, 0.15);\n",
              "      filter: drop-shadow(0px 1px 2px rgba(0, 0, 0, 0.3));\n",
              "      fill: #FFFFFF;\n",
              "    }\n",
              "  </style>\n",
              "\n",
              "      <script>\n",
              "        const buttonEl =\n",
              "          document.querySelector('#df-edf1c03f-2beb-4cf4-b648-2e9bd2617cb3 button.colab-df-convert');\n",
              "        buttonEl.style.display =\n",
              "          google.colab.kernel.accessAllowed ? 'block' : 'none';\n",
              "\n",
              "        async function convertToInteractive(key) {\n",
              "          const element = document.querySelector('#df-edf1c03f-2beb-4cf4-b648-2e9bd2617cb3');\n",
              "          const dataTable =\n",
              "            await google.colab.kernel.invokeFunction('convertToInteractive',\n",
              "                                                     [key], {});\n",
              "          if (!dataTable) return;\n",
              "\n",
              "          const docLinkHtml = 'Like what you see? Visit the ' +\n",
              "            '<a target=\"_blank\" href=https://colab.research.google.com/notebooks/data_table.ipynb>data table notebook</a>'\n",
              "            + ' to learn more about interactive tables.';\n",
              "          element.innerHTML = '';\n",
              "          dataTable['output_type'] = 'display_data';\n",
              "          await google.colab.output.renderOutput(dataTable, element);\n",
              "          const docLink = document.createElement('div');\n",
              "          docLink.innerHTML = docLinkHtml;\n",
              "          element.appendChild(docLink);\n",
              "        }\n",
              "      </script>\n",
              "    </div>\n",
              "  </div>\n",
              "  "
            ]
          },
          "metadata": {},
          "execution_count": 23
        }
      ],
      "source": [
        "data.describe()"
      ]
    },
    {
      "cell_type": "code",
      "execution_count": null,
      "metadata": {
        "ExecuteTime": {
          "end_time": "2021-02-24T18:54:51.653434Z",
          "start_time": "2021-02-24T18:54:50.853071Z"
        },
        "id": "Bgf0yr-DG6AI"
      },
      "outputs": [],
      "source": [
        "data = data.loc[idx[:'2019', :], :]"
      ]
    },
    {
      "cell_type": "code",
      "execution_count": null,
      "metadata": {
        "ExecuteTime": {
          "end_time": "2021-02-24T18:54:52.175796Z",
          "start_time": "2021-02-24T18:54:51.654300Z"
        },
        "id": "b2ue55JPG6AI"
      },
      "outputs": [],
      "source": [
        "data.loc[:, ['returns', 'returns_fwd']] = data.loc[:, ['returns', 'returns_fwd']].clip(lower=-1, upper=1.0)"
      ]
    },
    {
      "cell_type": "code",
      "execution_count": null,
      "metadata": {
        "ExecuteTime": {
          "end_time": "2021-02-24T18:54:52.551139Z",
          "start_time": "2021-02-24T18:54:52.176641Z"
        },
        "id": "ubThCAzvG6AI"
      },
      "outputs": [],
      "source": [
        "data = data.fillna(-2)"
      ]
    },
    {
      "cell_type": "code",
      "execution_count": null,
      "metadata": {
        "ExecuteTime": {
          "end_time": "2021-02-24T18:54:53.177682Z",
          "start_time": "2021-02-24T18:54:52.551965Z"
        },
        "id": "dbL7Y2fUG6AI"
      },
      "outputs": [],
      "source": [
        "data.to_hdf(results_path / 'autoencoder.h5', 'model_data')"
      ]
    },
    {
      "cell_type": "markdown",
      "metadata": {
        "id": "aZhu0InOG6AI"
      },
      "source": [
        "## Architecture"
      ]
    },
    {
      "cell_type": "code",
      "execution_count": null,
      "metadata": {
        "ExecuteTime": {
          "end_time": "2021-02-25T02:19:55.884348Z",
          "start_time": "2021-02-25T02:19:54.229906Z"
        },
        "id": "D12Z1ydfG6AI"
      },
      "outputs": [],
      "source": [
        "data = pd.read_hdf(results_path / 'autoencoder.h5', 'model_data')"
      ]
    },
    {
      "cell_type": "markdown",
      "metadata": {
        "id": "-bpjOx7FG6AI"
      },
      "source": [
        "### Key parameters"
      ]
    },
    {
      "cell_type": "code",
      "execution_count": null,
      "metadata": {
        "ExecuteTime": {
          "end_time": "2021-02-25T02:19:56.938323Z",
          "start_time": "2021-02-25T02:19:56.887604Z"
        },
        "id": "TRNt3IhNG6AI"
      },
      "outputs": [],
      "source": [
        "n_factors = 3\n",
        "n_characteristics = len(characteristics)\n",
        "n_tickers = len(data.index.unique('ticker'))"
      ]
    },
    {
      "cell_type": "code",
      "execution_count": null,
      "metadata": {
        "ExecuteTime": {
          "end_time": "2021-02-25T02:19:57.066339Z",
          "start_time": "2021-02-25T02:19:57.056425Z"
        },
        "id": "SXdtaEpUG6AI",
        "outputId": "0394bc41-e4df-456c-cd79-0d8f0b9260bc",
        "colab": {
          "base_uri": "https://localhost:8080/"
        }
      },
      "outputs": [
        {
          "output_type": "execute_result",
          "data": {
            "text/plain": [
              "3825"
            ]
          },
          "metadata": {},
          "execution_count": 30
        }
      ],
      "source": [
        "n_tickers"
      ]
    },
    {
      "cell_type": "code",
      "execution_count": null,
      "metadata": {
        "ExecuteTime": {
          "end_time": "2021-02-25T02:19:57.769420Z",
          "start_time": "2021-02-25T02:19:57.761574Z"
        },
        "id": "TR7cTuH2G6AJ",
        "outputId": "2004e998-4e36-41d6-b55c-22edb3feadc7",
        "colab": {
          "base_uri": "https://localhost:8080/"
        }
      },
      "outputs": [
        {
          "output_type": "execute_result",
          "data": {
            "text/plain": [
              "15"
            ]
          },
          "metadata": {},
          "execution_count": 31
        }
      ],
      "source": [
        "n_characteristics"
      ]
    },
    {
      "cell_type": "markdown",
      "metadata": {
        "id": "e3ZahFnmG6AJ"
      },
      "source": [
        "### Input Layer"
      ]
    },
    {
      "cell_type": "code",
      "execution_count": null,
      "metadata": {
        "ExecuteTime": {
          "end_time": "2021-02-24T18:54:54.294252Z",
          "start_time": "2021-02-24T18:54:54.279343Z"
        },
        "id": "uLCzsLNbG6AJ"
      },
      "outputs": [],
      "source": [
        "input_beta = Input((n_tickers, n_characteristics), name='input_beta')\n",
        "input_factor = Input((n_tickers,), name='input_factor')"
      ]
    },
    {
      "cell_type": "markdown",
      "metadata": {
        "id": "hbukeRCjG6AJ"
      },
      "source": [
        "### Stock Characteristics Network"
      ]
    },
    {
      "cell_type": "code",
      "execution_count": null,
      "metadata": {
        "ExecuteTime": {
          "end_time": "2021-02-24T18:54:55.015972Z",
          "start_time": "2021-02-24T18:54:54.295081Z"
        },
        "id": "SLDent98G6AJ"
      },
      "outputs": [],
      "source": [
        "hidden_layer = Dense(units=8, activation='relu', name='hidden_layer')(input_beta)\n",
        "batch_norm = BatchNormalization(name='batch_norm')(hidden_layer)\n",
        "output_beta = Dense(units=n_factors, name='output_beta')(batch_norm)"
      ]
    },
    {
      "cell_type": "markdown",
      "metadata": {
        "id": "UdetRIiJG6AJ"
      },
      "source": [
        "### Factor Network"
      ]
    },
    {
      "cell_type": "code",
      "execution_count": null,
      "metadata": {
        "ExecuteTime": {
          "end_time": "2021-02-24T18:54:55.023022Z",
          "start_time": "2021-02-24T18:54:55.016867Z"
        },
        "id": "kzvm_04QG6AJ"
      },
      "outputs": [],
      "source": [
        "output_factor = Dense(units=n_factors, name='output_factor')(input_factor)"
      ]
    },
    {
      "cell_type": "markdown",
      "metadata": {
        "id": "RXenirpqG6AJ"
      },
      "source": [
        "### Output Layer"
      ]
    },
    {
      "cell_type": "code",
      "execution_count": null,
      "metadata": {
        "ExecuteTime": {
          "end_time": "2021-02-24T18:54:55.030563Z",
          "start_time": "2021-02-24T18:54:55.024006Z"
        },
        "id": "0rLK9dJqG6AJ"
      },
      "outputs": [],
      "source": [
        "output = Dot(axes=(2,1), name='output_layer')([output_beta, output_factor])"
      ]
    },
    {
      "cell_type": "markdown",
      "metadata": {
        "id": "mL5ofl37G6AJ"
      },
      "source": [
        "### Compile Layer"
      ]
    },
    {
      "cell_type": "code",
      "execution_count": null,
      "metadata": {
        "ExecuteTime": {
          "end_time": "2021-02-24T18:54:55.044843Z",
          "start_time": "2021-02-24T18:54:55.031505Z"
        },
        "id": "m4ULKi4lG6AJ"
      },
      "outputs": [],
      "source": [
        "model = Model(inputs=[input_beta, input_factor], outputs=output)\n",
        "model.compile(loss='mse', optimizer='adam')"
      ]
    },
    {
      "cell_type": "markdown",
      "metadata": {
        "id": "AWLzNjujG6AK"
      },
      "source": [
        "### Automate model generation"
      ]
    },
    {
      "cell_type": "code",
      "execution_count": null,
      "metadata": {
        "ExecuteTime": {
          "end_time": "2021-02-25T02:20:24.943542Z",
          "start_time": "2021-02-25T02:20:24.940487Z"
        },
        "id": "gWc_qQt7G6AK"
      },
      "outputs": [],
      "source": [
        "def make_model(hidden_units=8, n_factors=3):\n",
        "    input_beta = Input((n_tickers, n_characteristics), name='input_beta')\n",
        "    input_factor = Input((n_tickers,), name='input_factor')\n",
        "\n",
        "    hidden_layer = Dense(units=hidden_units, activation='relu', name='hidden_layer')(input_beta)\n",
        "    batch_norm = BatchNormalization(name='batch_norm')(hidden_layer)\n",
        "    \n",
        "    output_beta = Dense(units=n_factors, name='output_beta')(batch_norm)\n",
        "\n",
        "    output_factor = Dense(units=n_factors, name='output_factor')(input_factor)\n",
        "\n",
        "    output = Dot(axes=(2,1), name='output_layer')([output_beta, output_factor])\n",
        "\n",
        "    model = Model(inputs=[input_beta, input_factor], outputs=output)\n",
        "    model.compile(loss='mse', optimizer='adam')\n",
        "    return model"
      ]
    },
    {
      "cell_type": "markdown",
      "metadata": {
        "id": "2IPY0kmLG6AK"
      },
      "source": [
        "### Model Summary"
      ]
    },
    {
      "cell_type": "code",
      "execution_count": null,
      "metadata": {
        "ExecuteTime": {
          "end_time": "2021-02-24T18:54:55.060992Z",
          "start_time": "2021-02-24T18:54:55.051617Z"
        },
        "id": "r5gN4RLtG6AK",
        "outputId": "43982cf3-d348-4c97-f221-afdf495820ea",
        "colab": {
          "base_uri": "https://localhost:8080/"
        }
      },
      "outputs": [
        {
          "output_type": "stream",
          "name": "stdout",
          "text": [
            "Model: \"model\"\n",
            "__________________________________________________________________________________________________\n",
            " Layer (type)                   Output Shape         Param #     Connected to                     \n",
            "==================================================================================================\n",
            " input_beta (InputLayer)        [(None, 3825, 15)]   0           []                               \n",
            "                                                                                                  \n",
            " hidden_layer (Dense)           (None, 3825, 8)      128         ['input_beta[0][0]']             \n",
            "                                                                                                  \n",
            " batch_norm (BatchNormalization  (None, 3825, 8)     32          ['hidden_layer[0][0]']           \n",
            " )                                                                                                \n",
            "                                                                                                  \n",
            " input_factor (InputLayer)      [(None, 3825)]       0           []                               \n",
            "                                                                                                  \n",
            " output_beta (Dense)            (None, 3825, 3)      27          ['batch_norm[0][0]']             \n",
            "                                                                                                  \n",
            " output_factor (Dense)          (None, 3)            11478       ['input_factor[0][0]']           \n",
            "                                                                                                  \n",
            " output_layer (Dot)             (None, 3825)         0           ['output_beta[0][0]',            \n",
            "                                                                  'output_factor[0][0]']          \n",
            "                                                                                                  \n",
            "==================================================================================================\n",
            "Total params: 11,665\n",
            "Trainable params: 11,649\n",
            "Non-trainable params: 16\n",
            "__________________________________________________________________________________________________\n"
          ]
        }
      ],
      "source": [
        "model.summary()"
      ]
    },
    {
      "cell_type": "markdown",
      "source": [
        "### 모델 시각화"
      ],
      "metadata": {
        "id": "ntThvUmmHWNQ"
      }
    },
    {
      "cell_type": "code",
      "source": [
        "# model_img_file = (results_path / 'model.png' )\n",
        "# tf.keras.utils.plot_model(model, to_file=model_img_file, \n",
        "#                           show_shapes=True, \n",
        "#                           show_layer_activations=True, \n",
        "#                           show_dtype=True,\n",
        "#                           show_layer_names=True )\n",
        "\n",
        "# model.save(results_path / 'model_img.h5')"
      ],
      "metadata": {
        "id": "VvCMNAMMBzcX"
      },
      "execution_count": null,
      "outputs": []
    },
    {
      "cell_type": "markdown",
      "metadata": {
        "id": "wFZt1G0rG6AK"
      },
      "source": [
        "## Train Model"
      ]
    },
    {
      "cell_type": "markdown",
      "metadata": {
        "id": "b-WjCAhEG6AK"
      },
      "source": [
        "### Cross-validation parameters"
      ]
    },
    {
      "cell_type": "code",
      "execution_count": null,
      "metadata": {
        "ExecuteTime": {
          "end_time": "2021-02-25T02:20:29.903066Z",
          "start_time": "2021-02-25T02:20:29.897417Z"
        },
        "id": "idi-meTnG6AK"
      },
      "outputs": [],
      "source": [
        "YEAR = 52"
      ]
    },
    {
      "cell_type": "code",
      "execution_count": null,
      "metadata": {
        "ExecuteTime": {
          "end_time": "2021-02-25T02:20:30.091049Z",
          "start_time": "2021-02-25T02:20:30.086342Z"
        },
        "id": "ij2BlrbjG6AK"
      },
      "outputs": [],
      "source": [
        "cv = MultipleTimeSeriesCV(n_splits=5, # 5\n",
        "                          train_period_length=20*YEAR,\n",
        "                          test_period_length=1*YEAR,\n",
        "                          lookahead=1)"
      ]
    },
    {
      "cell_type": "code",
      "execution_count": null,
      "metadata": {
        "ExecuteTime": {
          "end_time": "2021-02-25T02:20:30.241815Z",
          "start_time": "2021-02-25T02:20:30.232493Z"
        },
        "id": "jlnPNQA7G6AK"
      },
      "outputs": [],
      "source": [
        "def get_train_valid_data(data, train_idx, val_idx):\n",
        "    train, val = data.iloc[train_idx], data.iloc[val_idx]\n",
        "    X1_train = train.loc[:, characteristics].values.reshape(-1, n_tickers, n_characteristics)\n",
        "    X1_val = val.loc[:, characteristics].values.reshape(-1, n_tickers, n_characteristics)\n",
        "    X2_train = train.loc[:, 'returns'].unstack('ticker')\n",
        "    X2_val = val.loc[:, 'returns'].unstack('ticker')\n",
        "    y_train = train.returns_fwd.unstack('ticker')\n",
        "    y_val = val.returns_fwd.unstack('ticker')\n",
        "    return X1_train, X2_train, y_train, X1_val, X2_val, y_val"
      ]
    },
    {
      "cell_type": "markdown",
      "metadata": {
        "id": "n4easAuxG6AK"
      },
      "source": [
        "### Hyperparameter Options"
      ]
    },
    {
      "cell_type": "code",
      "execution_count": null,
      "metadata": {
        "ExecuteTime": {
          "end_time": "2021-02-25T02:20:33.307625Z",
          "start_time": "2021-02-25T02:20:33.301301Z"
        },
        "id": "WjIuCe-GG6AL"
      },
      "outputs": [],
      "source": [
        "factor_opts = [2, 3, 4, 5, 6] # 2, 3, 4, 5, 6\n",
        "unit_opts = [8, 16, 32] # 8, 16, 32"
      ]
    },
    {
      "cell_type": "code",
      "execution_count": null,
      "metadata": {
        "ExecuteTime": {
          "end_time": "2021-02-25T02:20:33.390923Z",
          "start_time": "2021-02-25T02:20:33.389108Z"
        },
        "id": "01Nyhm4NG6AL"
      },
      "outputs": [],
      "source": [
        "param_grid = list(product(unit_opts, factor_opts))"
      ]
    },
    {
      "cell_type": "markdown",
      "metadata": {
        "id": "9BxH3rJNG6AL"
      },
      "source": [
        "### Run Cross-Validation"
      ]
    },
    {
      "cell_type": "code",
      "execution_count": null,
      "metadata": {
        "ExecuteTime": {
          "end_time": "2021-02-24T18:54:55.113516Z",
          "start_time": "2021-02-24T18:54:55.104687Z"
        },
        "id": "iO8vps_TG6AL"
      },
      "outputs": [],
      "source": [
        "batch_size = 256"
      ]
    },
    {
      "cell_type": "code",
      "execution_count": null,
      "metadata": {
        "ExecuteTime": {
          "end_time": "2021-02-24T18:54:55.121852Z",
          "start_time": "2021-02-24T18:54:55.114344Z"
        },
        "id": "axwYRei7G6AL"
      },
      "outputs": [],
      "source": [
        "cols = ['units', 'n_factors', 'fold', 'epoch', 'ic_mean', \n",
        "        'ic_daily_mean', 'ic_daily_std', 'ic_daily_median']"
      ]
    },
    {
      "cell_type": "code",
      "source": [
        "import gc\n",
        "from tensorflow.keras import backend as k\n",
        "from tensorflow.keras.callbacks import Callback\n",
        "from keras.utils import Sequence\n",
        "\n",
        "# Define a custom data generator to feed data to the model\n",
        "class DataGenerator(Sequence):\n",
        "    def __init__(self, X1, X2, y, batch_size):\n",
        "        self.X1 = X1\n",
        "        self.X2 = X2\n",
        "        self.y = y\n",
        "        self.batch_size = batch_size\n",
        "\n",
        "    def __len__(self):\n",
        "        return int(np.ceil(len(self.X1) / float(self.batch_size)))\n",
        "\n",
        "    def __getitem__(self, idx):\n",
        "        batch_X1 = self.X1[idx * self.batch_size:(idx + 1) * self.batch_size]\n",
        "        batch_X2 = self.X2[idx * self.batch_size:(idx + 1) * self.batch_size]\n",
        "        batch_y = self.y[idx * self.batch_size:(idx + 1) * self.batch_size]\n",
        "        return [batch_X1, batch_X2], batch_y\n",
        "\n",
        "class ClearMemory(Callback):\n",
        "    def on_epoch_end(self, epoch, logs=None):\n",
        "        gc.collect()\n",
        "        k.clear_session()"
      ],
      "metadata": {
        "id": "cjYdK5ezHFP9"
      },
      "execution_count": null,
      "outputs": []
    },
    {
      "cell_type": "code",
      "source": [
        "start = time()\n",
        "for units, n_factors in param_grid:\n",
        "    units = 8\n",
        "    n_factors = 6\n",
        "    print(\"units:\", units, \", n_factors:\", n_factors)\n",
        "    scores = []\n",
        "    for fold, (train_idx, val_idx) in enumerate(cv.split(data)):\n",
        "        X1_train, X2_train, y_train, X1_val, X2_val, y_val = get_train_valid_data(data,\n",
        "                                                                                  train_idx,\n",
        "                                                                                  val_idx)\n",
        "        train_gen = DataGenerator(X1_train, X2_train, y_train, batch_size=batch_size)\n",
        "        val_gen = DataGenerator(X1_val, X2_val, y_val, batch_size=batch_size)\n",
        "        model = make_model(hidden_units=units, n_factors=n_factors)\n",
        "        for epoch in range(250):\n",
        "            model.fit_generator(train_gen,\n",
        "                                validation_data=val_gen,\n",
        "                                epochs=epoch + 1,\n",
        "                                initial_epoch=epoch, verbose=False, shuffle=True, callbacks=ClearMemory())\n",
        "            y_pred = model.predict_generator(val_gen, callbacks=ClearMemory())\n",
        "            y_true = y_val.stack().values\n",
        "            date_index = y_val.stack().index\n",
        "            result = (pd.DataFrame({'y_pred': y_pred.reshape(-1),\n",
        "                                    'y_true': y_true},\n",
        "                                   index=date_index)\n",
        "                      .replace(-2, np.nan).dropna())\n",
        "            r0 = spearmanr(result.y_true, result.y_pred)[0]\n",
        "            r1 = result.groupby(level='date').apply(lambda x: spearmanr(x.y_pred,\n",
        "                                                                        x.y_true)[0])\n",
        "\n",
        "            scores.append([units, n_factors, fold, epoch, r0,\n",
        "                           r1.mean(), r1.std(), r1.median()])\n",
        "            if epoch % 50 == 0:\n",
        "                print(f'{format_time(time()-start)} | {n_factors} | {units:02} | {fold:02}-{epoch:03} | {r0:6.2%} | '\n",
        "                  f'{r1.mean():6.2%} | {r1.median():6.2%}')\n",
        "            \n",
        "        scores = pd.DataFrame(scores, columns=cols)\n",
        "        scores.to_hdf(results_path / 'scores.h5', f'{units}/{n_factors}')"
      ],
      "metadata": {
        "colab": {
          "base_uri": "https://localhost:8080/",
          "height": 437
        },
        "id": "rZ9lq3oWZd7e",
        "outputId": "63bd0820-0e9d-4caf-f176-6afeb0e45127"
      },
      "execution_count": null,
      "outputs": [
        {
          "output_type": "stream",
          "name": "stdout",
          "text": [
            "units: 8 , n_factors: 6\n",
            "00:00:07 | 6 | 08 | 00-000 | -6.12% | -1.71% | -3.00%\n"
          ]
        },
        {
          "output_type": "error",
          "ename": "KeyboardInterrupt",
          "evalue": "ignored",
          "traceback": [
            "\u001b[0;31m---------------------------------------------------------------------------\u001b[0m",
            "\u001b[0;31mKeyboardInterrupt\u001b[0m                         Traceback (most recent call last)",
            "\u001b[0;32m<ipython-input-52-4ed0a58de44a>\u001b[0m in \u001b[0;36m<cell line: 2>\u001b[0;34m()\u001b[0m\n\u001b[1;32m     13\u001b[0m         \u001b[0mmodel\u001b[0m \u001b[0;34m=\u001b[0m \u001b[0mmake_model\u001b[0m\u001b[0;34m(\u001b[0m\u001b[0mhidden_units\u001b[0m\u001b[0;34m=\u001b[0m\u001b[0munits\u001b[0m\u001b[0;34m,\u001b[0m \u001b[0mn_factors\u001b[0m\u001b[0;34m=\u001b[0m\u001b[0mn_factors\u001b[0m\u001b[0;34m)\u001b[0m\u001b[0;34m\u001b[0m\u001b[0;34m\u001b[0m\u001b[0m\n\u001b[1;32m     14\u001b[0m         \u001b[0;32mfor\u001b[0m \u001b[0mepoch\u001b[0m \u001b[0;32min\u001b[0m \u001b[0mrange\u001b[0m\u001b[0;34m(\u001b[0m\u001b[0;36m250\u001b[0m\u001b[0;34m)\u001b[0m\u001b[0;34m:\u001b[0m\u001b[0;34m\u001b[0m\u001b[0;34m\u001b[0m\u001b[0m\n\u001b[0;32m---> 15\u001b[0;31m             model.fit_generator(train_gen,\n\u001b[0m\u001b[1;32m     16\u001b[0m                                 \u001b[0mvalidation_data\u001b[0m\u001b[0;34m=\u001b[0m\u001b[0mval_gen\u001b[0m\u001b[0;34m,\u001b[0m\u001b[0;34m\u001b[0m\u001b[0;34m\u001b[0m\u001b[0m\n\u001b[1;32m     17\u001b[0m                                 \u001b[0mepochs\u001b[0m\u001b[0;34m=\u001b[0m\u001b[0mepoch\u001b[0m \u001b[0;34m+\u001b[0m \u001b[0;36m1\u001b[0m\u001b[0;34m,\u001b[0m\u001b[0;34m\u001b[0m\u001b[0;34m\u001b[0m\u001b[0m\n",
            "\u001b[0;32m/usr/local/lib/python3.10/dist-packages/keras/engine/training.py\u001b[0m in \u001b[0;36mfit_generator\u001b[0;34m(self, generator, steps_per_epoch, epochs, verbose, callbacks, validation_data, validation_steps, validation_freq, class_weight, max_queue_size, workers, use_multiprocessing, shuffle, initial_epoch)\u001b[0m\n\u001b[1;32m   2634\u001b[0m             \u001b[0mstacklevel\u001b[0m\u001b[0;34m=\u001b[0m\u001b[0;36m2\u001b[0m\u001b[0;34m,\u001b[0m\u001b[0;34m\u001b[0m\u001b[0;34m\u001b[0m\u001b[0m\n\u001b[1;32m   2635\u001b[0m         )\n\u001b[0;32m-> 2636\u001b[0;31m         return self.fit(\n\u001b[0m\u001b[1;32m   2637\u001b[0m             \u001b[0mgenerator\u001b[0m\u001b[0;34m,\u001b[0m\u001b[0;34m\u001b[0m\u001b[0;34m\u001b[0m\u001b[0m\n\u001b[1;32m   2638\u001b[0m             \u001b[0msteps_per_epoch\u001b[0m\u001b[0;34m=\u001b[0m\u001b[0msteps_per_epoch\u001b[0m\u001b[0;34m,\u001b[0m\u001b[0;34m\u001b[0m\u001b[0;34m\u001b[0m\u001b[0m\n",
            "\u001b[0;32m/usr/local/lib/python3.10/dist-packages/keras/utils/traceback_utils.py\u001b[0m in \u001b[0;36merror_handler\u001b[0;34m(*args, **kwargs)\u001b[0m\n\u001b[1;32m     63\u001b[0m         \u001b[0mfiltered_tb\u001b[0m \u001b[0;34m=\u001b[0m \u001b[0;32mNone\u001b[0m\u001b[0;34m\u001b[0m\u001b[0;34m\u001b[0m\u001b[0m\n\u001b[1;32m     64\u001b[0m         \u001b[0;32mtry\u001b[0m\u001b[0;34m:\u001b[0m\u001b[0;34m\u001b[0m\u001b[0;34m\u001b[0m\u001b[0m\n\u001b[0;32m---> 65\u001b[0;31m             \u001b[0;32mreturn\u001b[0m \u001b[0mfn\u001b[0m\u001b[0;34m(\u001b[0m\u001b[0;34m*\u001b[0m\u001b[0margs\u001b[0m\u001b[0;34m,\u001b[0m \u001b[0;34m**\u001b[0m\u001b[0mkwargs\u001b[0m\u001b[0;34m)\u001b[0m\u001b[0;34m\u001b[0m\u001b[0;34m\u001b[0m\u001b[0m\n\u001b[0m\u001b[1;32m     66\u001b[0m         \u001b[0;32mexcept\u001b[0m \u001b[0mException\u001b[0m \u001b[0;32mas\u001b[0m \u001b[0me\u001b[0m\u001b[0;34m:\u001b[0m\u001b[0;34m\u001b[0m\u001b[0;34m\u001b[0m\u001b[0m\n\u001b[1;32m     67\u001b[0m             \u001b[0mfiltered_tb\u001b[0m \u001b[0;34m=\u001b[0m \u001b[0m_process_traceback_frames\u001b[0m\u001b[0;34m(\u001b[0m\u001b[0me\u001b[0m\u001b[0;34m.\u001b[0m\u001b[0m__traceback__\u001b[0m\u001b[0;34m)\u001b[0m\u001b[0;34m\u001b[0m\u001b[0;34m\u001b[0m\u001b[0m\n",
            "\u001b[0;32m/usr/local/lib/python3.10/dist-packages/keras/engine/training.py\u001b[0m in \u001b[0;36mfit\u001b[0;34m(self, x, y, batch_size, epochs, verbose, callbacks, validation_split, validation_data, shuffle, class_weight, sample_weight, initial_epoch, steps_per_epoch, validation_steps, validation_batch_size, validation_freq, max_queue_size, workers, use_multiprocessing)\u001b[0m\n\u001b[1;32m   1670\u001b[0m             )\n\u001b[1;32m   1671\u001b[0m             \u001b[0mlogs\u001b[0m \u001b[0;34m=\u001b[0m \u001b[0;32mNone\u001b[0m\u001b[0;34m\u001b[0m\u001b[0;34m\u001b[0m\u001b[0m\n\u001b[0;32m-> 1672\u001b[0;31m             \u001b[0;32mfor\u001b[0m \u001b[0mepoch\u001b[0m\u001b[0;34m,\u001b[0m \u001b[0miterator\u001b[0m \u001b[0;32min\u001b[0m \u001b[0mdata_handler\u001b[0m\u001b[0;34m.\u001b[0m\u001b[0menumerate_epochs\u001b[0m\u001b[0;34m(\u001b[0m\u001b[0;34m)\u001b[0m\u001b[0;34m:\u001b[0m\u001b[0;34m\u001b[0m\u001b[0;34m\u001b[0m\u001b[0m\n\u001b[0m\u001b[1;32m   1673\u001b[0m                 \u001b[0mself\u001b[0m\u001b[0;34m.\u001b[0m\u001b[0mreset_metrics\u001b[0m\u001b[0;34m(\u001b[0m\u001b[0;34m)\u001b[0m\u001b[0;34m\u001b[0m\u001b[0;34m\u001b[0m\u001b[0m\n\u001b[1;32m   1674\u001b[0m                 \u001b[0mcallbacks\u001b[0m\u001b[0;34m.\u001b[0m\u001b[0mon_epoch_begin\u001b[0m\u001b[0;34m(\u001b[0m\u001b[0mepoch\u001b[0m\u001b[0;34m)\u001b[0m\u001b[0;34m\u001b[0m\u001b[0;34m\u001b[0m\u001b[0m\n",
            "\u001b[0;32m/usr/local/lib/python3.10/dist-packages/keras/engine/data_adapter.py\u001b[0m in \u001b[0;36menumerate_epochs\u001b[0;34m(self)\u001b[0m\n\u001b[1;32m   1303\u001b[0m         \u001b[0;34m\"\"\"Yields `(epoch, tf.data.Iterator)`.\"\"\"\u001b[0m\u001b[0;34m\u001b[0m\u001b[0;34m\u001b[0m\u001b[0m\n\u001b[1;32m   1304\u001b[0m         \u001b[0;32mwith\u001b[0m \u001b[0mself\u001b[0m\u001b[0;34m.\u001b[0m\u001b[0m_truncate_execution_to_epoch\u001b[0m\u001b[0;34m(\u001b[0m\u001b[0;34m)\u001b[0m\u001b[0;34m:\u001b[0m\u001b[0;34m\u001b[0m\u001b[0;34m\u001b[0m\u001b[0m\n\u001b[0;32m-> 1305\u001b[0;31m             \u001b[0mdata_iterator\u001b[0m \u001b[0;34m=\u001b[0m \u001b[0miter\u001b[0m\u001b[0;34m(\u001b[0m\u001b[0mself\u001b[0m\u001b[0;34m.\u001b[0m\u001b[0m_dataset\u001b[0m\u001b[0;34m)\u001b[0m\u001b[0;34m\u001b[0m\u001b[0;34m\u001b[0m\u001b[0m\n\u001b[0m\u001b[1;32m   1306\u001b[0m             \u001b[0;32mfor\u001b[0m \u001b[0mepoch\u001b[0m \u001b[0;32min\u001b[0m \u001b[0mrange\u001b[0m\u001b[0;34m(\u001b[0m\u001b[0mself\u001b[0m\u001b[0;34m.\u001b[0m\u001b[0m_initial_epoch\u001b[0m\u001b[0;34m,\u001b[0m \u001b[0mself\u001b[0m\u001b[0;34m.\u001b[0m\u001b[0m_epochs\u001b[0m\u001b[0;34m)\u001b[0m\u001b[0;34m:\u001b[0m\u001b[0;34m\u001b[0m\u001b[0;34m\u001b[0m\u001b[0m\n\u001b[1;32m   1307\u001b[0m                 \u001b[0;32mif\u001b[0m \u001b[0mself\u001b[0m\u001b[0;34m.\u001b[0m\u001b[0m_insufficient_data\u001b[0m\u001b[0;34m:\u001b[0m  \u001b[0;31m# Set by `catch_stop_iteration`.\u001b[0m\u001b[0;34m\u001b[0m\u001b[0;34m\u001b[0m\u001b[0m\n",
            "\u001b[0;32m/usr/local/lib/python3.10/dist-packages/tensorflow/python/data/ops/dataset_ops.py\u001b[0m in \u001b[0;36m__iter__\u001b[0;34m(self)\u001b[0m\n\u001b[1;32m    503\u001b[0m     \u001b[0;32mif\u001b[0m \u001b[0mcontext\u001b[0m\u001b[0;34m.\u001b[0m\u001b[0mexecuting_eagerly\u001b[0m\u001b[0;34m(\u001b[0m\u001b[0;34m)\u001b[0m \u001b[0;32mor\u001b[0m \u001b[0mops\u001b[0m\u001b[0;34m.\u001b[0m\u001b[0minside_function\u001b[0m\u001b[0;34m(\u001b[0m\u001b[0;34m)\u001b[0m\u001b[0;34m:\u001b[0m\u001b[0;34m\u001b[0m\u001b[0;34m\u001b[0m\u001b[0m\n\u001b[1;32m    504\u001b[0m       \u001b[0;32mwith\u001b[0m \u001b[0mops\u001b[0m\u001b[0;34m.\u001b[0m\u001b[0mcolocate_with\u001b[0m\u001b[0;34m(\u001b[0m\u001b[0mself\u001b[0m\u001b[0;34m.\u001b[0m\u001b[0m_variant_tensor\u001b[0m\u001b[0;34m)\u001b[0m\u001b[0;34m:\u001b[0m\u001b[0;34m\u001b[0m\u001b[0;34m\u001b[0m\u001b[0m\n\u001b[0;32m--> 505\u001b[0;31m         \u001b[0;32mreturn\u001b[0m \u001b[0miterator_ops\u001b[0m\u001b[0;34m.\u001b[0m\u001b[0mOwnedIterator\u001b[0m\u001b[0;34m(\u001b[0m\u001b[0mself\u001b[0m\u001b[0;34m)\u001b[0m\u001b[0;34m\u001b[0m\u001b[0;34m\u001b[0m\u001b[0m\n\u001b[0m\u001b[1;32m    506\u001b[0m     \u001b[0;32melse\u001b[0m\u001b[0;34m:\u001b[0m\u001b[0;34m\u001b[0m\u001b[0;34m\u001b[0m\u001b[0m\n\u001b[1;32m    507\u001b[0m       raise RuntimeError(\"`tf.data.Dataset` only supports Python-style \"\n",
            "\u001b[0;32m/usr/local/lib/python3.10/dist-packages/tensorflow/python/data/ops/iterator_ops.py\u001b[0m in \u001b[0;36m__init__\u001b[0;34m(self, dataset, components, element_spec)\u001b[0m\n\u001b[1;32m    711\u001b[0m             \u001b[0;34m\"When `dataset` is provided, `element_spec` and `components` must \"\u001b[0m\u001b[0;34m\u001b[0m\u001b[0;34m\u001b[0m\u001b[0m\n\u001b[1;32m    712\u001b[0m             \"not be specified.\")\n\u001b[0;32m--> 713\u001b[0;31m       \u001b[0mself\u001b[0m\u001b[0;34m.\u001b[0m\u001b[0m_create_iterator\u001b[0m\u001b[0;34m(\u001b[0m\u001b[0mdataset\u001b[0m\u001b[0;34m)\u001b[0m\u001b[0;34m\u001b[0m\u001b[0;34m\u001b[0m\u001b[0m\n\u001b[0m\u001b[1;32m    714\u001b[0m \u001b[0;34m\u001b[0m\u001b[0m\n\u001b[1;32m    715\u001b[0m     \u001b[0mself\u001b[0m\u001b[0;34m.\u001b[0m\u001b[0m_get_next_call_count\u001b[0m \u001b[0;34m=\u001b[0m \u001b[0;36m0\u001b[0m\u001b[0;34m\u001b[0m\u001b[0;34m\u001b[0m\u001b[0m\n",
            "\u001b[0;32m/usr/local/lib/python3.10/dist-packages/tensorflow/python/data/ops/iterator_ops.py\u001b[0m in \u001b[0;36m_create_iterator\u001b[0;34m(self, dataset)\u001b[0m\n\u001b[1;32m    750\u001b[0m             self._flat_output_types)\n\u001b[1;32m    751\u001b[0m         \u001b[0mself\u001b[0m\u001b[0;34m.\u001b[0m\u001b[0m_iterator_resource\u001b[0m\u001b[0;34m.\u001b[0m\u001b[0mop\u001b[0m\u001b[0;34m.\u001b[0m\u001b[0mexperimental_set_type\u001b[0m\u001b[0;34m(\u001b[0m\u001b[0mfulltype\u001b[0m\u001b[0;34m)\u001b[0m\u001b[0;34m\u001b[0m\u001b[0;34m\u001b[0m\u001b[0m\n\u001b[0;32m--> 752\u001b[0;31m       \u001b[0mgen_dataset_ops\u001b[0m\u001b[0;34m.\u001b[0m\u001b[0mmake_iterator\u001b[0m\u001b[0;34m(\u001b[0m\u001b[0mds_variant\u001b[0m\u001b[0;34m,\u001b[0m \u001b[0mself\u001b[0m\u001b[0;34m.\u001b[0m\u001b[0m_iterator_resource\u001b[0m\u001b[0;34m)\u001b[0m\u001b[0;34m\u001b[0m\u001b[0;34m\u001b[0m\u001b[0m\n\u001b[0m\u001b[1;32m    753\u001b[0m \u001b[0;34m\u001b[0m\u001b[0m\n\u001b[1;32m    754\u001b[0m   \u001b[0;32mdef\u001b[0m \u001b[0m__iter__\u001b[0m\u001b[0;34m(\u001b[0m\u001b[0mself\u001b[0m\u001b[0;34m)\u001b[0m\u001b[0;34m:\u001b[0m\u001b[0;34m\u001b[0m\u001b[0;34m\u001b[0m\u001b[0m\n",
            "\u001b[0;32m/usr/local/lib/python3.10/dist-packages/tensorflow/python/ops/gen_dataset_ops.py\u001b[0m in \u001b[0;36mmake_iterator\u001b[0;34m(dataset, iterator, name)\u001b[0m\n\u001b[1;32m   3406\u001b[0m   \u001b[0;32mif\u001b[0m \u001b[0mtld\u001b[0m\u001b[0;34m.\u001b[0m\u001b[0mis_eager\u001b[0m\u001b[0;34m:\u001b[0m\u001b[0;34m\u001b[0m\u001b[0;34m\u001b[0m\u001b[0m\n\u001b[1;32m   3407\u001b[0m     \u001b[0;32mtry\u001b[0m\u001b[0;34m:\u001b[0m\u001b[0;34m\u001b[0m\u001b[0;34m\u001b[0m\u001b[0m\n\u001b[0;32m-> 3408\u001b[0;31m       _result = pywrap_tfe.TFE_Py_FastPathExecute(\n\u001b[0m\u001b[1;32m   3409\u001b[0m         _ctx, \"MakeIterator\", name, dataset, iterator)\n\u001b[1;32m   3410\u001b[0m       \u001b[0;32mreturn\u001b[0m \u001b[0m_result\u001b[0m\u001b[0;34m\u001b[0m\u001b[0;34m\u001b[0m\u001b[0m\n",
            "\u001b[0;31mKeyboardInterrupt\u001b[0m: "
          ]
        }
      ]
    },
    {
      "cell_type": "code",
      "source": [
        "start = time()\n",
        "units = 8\n",
        "n_factors = 6\n",
        "print(\"units:\", units, \", n_factors:\", n_factors)\n",
        "scores = []\n",
        "for fold, (train_idx, val_idx) in enumerate(cv.split(data)):\n",
        "    X1_train, X2_train, y_train, X1_val, X2_val, y_val = get_train_valid_data(data,\n",
        "                                                                              train_idx,\n",
        "                                                                              val_idx)\n",
        "    train_gen = DataGenerator(X1_train, X2_train, y_train, batch_size=batch_size)\n",
        "    val_gen = DataGenerator(X1_val, X2_val, y_val, batch_size=batch_size)\n",
        "    model = make_model(hidden_units=units, n_factors=n_factors)\n",
        "    for epoch in range(250):\n",
        "        model.fit_generator(train_gen,\n",
        "                            validation_data=val_gen,\n",
        "                            epochs=epoch + 1,\n",
        "                            initial_epoch=epoch, verbose=False, shuffle=True, callbacks=ClearMemory())\n",
        "        y_pred = model.predict_generator(val_gen, callbacks=ClearMemory())\n",
        "        y_true = y_val.stack().values\n",
        "        date_index = y_val.stack().index\n",
        "        result = (pd.DataFrame({'y_pred': y_pred.reshape(-1),\n",
        "                                'y_true': y_true},\n",
        "                                index=date_index)\n",
        "                  .replace(-2, np.nan).dropna())\n",
        "        r0 = spearmanr(result.y_true, result.y_pred)[0]\n",
        "        r1 = result.groupby(level='date').apply(lambda x: spearmanr(x.y_pred,\n",
        "                                                                    x.y_true)[0])\n",
        "\n",
        "        scores.append([units, n_factors, fold, epoch, r0,\n",
        "                        r1.mean(), r1.std(), r1.median()])\n",
        "        if epoch % 50 == 0:\n",
        "            print(f'{format_time(time()-start)} | {n_factors} | {units:02} | {fold:02}-{epoch:03} | {r0:6.2%} | '\n",
        "              f'{r1.mean():6.2%} | {r1.median():6.2%}')\n",
        "        \n",
        "    scores = pd.DataFrame(scores, columns=cols)\n",
        "    scores.to_hdf(results_path / 'scores.h5', f'{units}/{n_factors}')"
      ],
      "metadata": {
        "colab": {
          "base_uri": "https://localhost:8080/"
        },
        "id": "I_eJ2ejrOhgH",
        "outputId": "5875b285-fa6a-4fcb-b581-c753ad75ca7f"
      },
      "execution_count": null,
      "outputs": [
        {
          "output_type": "stream",
          "name": "stdout",
          "text": [
            "units: 8 , n_factors: 6\n",
            "00:00:08 | 6 | 08 | 00-000 | -0.56% |  0.11% |  0.70%\n",
            "00:01:24 | 6 | 08 | 00-050 |  0.35% |  0.30% | -0.23%\n",
            "00:02:42 | 6 | 08 | 00-100 |  0.02% | -0.10% | -0.90%\n",
            "00:03:59 | 6 | 08 | 00-150 |  0.31% |  0.13% | -0.05%\n",
            "00:05:15 | 6 | 08 | 00-200 | -0.08% |  0.36% | -0.17%\n"
          ]
        },
        {
          "output_type": "stream",
          "name": "stderr",
          "text": [
            "ERROR:root:Internal Python error in the inspect module.\n",
            "Below is the traceback from this internal error.\n",
            "\n",
            "ERROR:root:Internal Python error in the inspect module.\n",
            "Below is the traceback from this internal error.\n",
            "\n",
            "ERROR:root:Internal Python error in the inspect module.\n",
            "Below is the traceback from this internal error.\n",
            "\n"
          ]
        },
        {
          "output_type": "stream",
          "name": "stdout",
          "text": [
            "Traceback (most recent call last):\n",
            "  File \"/usr/local/lib/python3.10/dist-packages/IPython/core/interactiveshell.py\", line 3553, in run_code\n",
            "    exec(code_obj, self.user_global_ns, self.user_ns)\n",
            "  File \"<ipython-input-53-591cb7618587>\", line 36, in <cell line: 6>\n",
            "    scores.to_hdf(results_path / 'scores.h5', f'{units}/{n_factors}')\n",
            "  File \"/usr/local/lib/python3.10/dist-packages/pandas/core/generic.py\", line 2799, in to_hdf\n",
            "    pytables.to_hdf(\n",
            "  File \"/usr/local/lib/python3.10/dist-packages/pandas/io/pytables.py\", line 298, in to_hdf\n",
            "    with HDFStore(\n",
            "  File \"/usr/local/lib/python3.10/dist-packages/pandas/io/pytables.py\", line 578, in __init__\n",
            "    self.open(mode=mode, **kwargs)\n",
            "  File \"/usr/local/lib/python3.10/dist-packages/pandas/io/pytables.py\", line 737, in open\n",
            "    self._handle = tables.open_file(self._path, self._mode, **kwargs)\n",
            "  File \"/usr/local/lib/python3.10/dist-packages/tables/file.py\", line 300, in open_file\n",
            "    return File(filename, mode, title, root_uep, filters, **kwargs)\n",
            "  File \"/usr/local/lib/python3.10/dist-packages/tables/file.py\", line 750, in __init__\n",
            "    self._g_new(filename, mode, **params)\n",
            "  File \"tables/hdf5extension.pyx\", line 366, in tables.hdf5extension.File._g_new\n",
            "  File \"/usr/local/lib/python3.10/dist-packages/tables/utils.py\", line 138, in check_file_access\n",
            "    path = Path(filename).resolve()\n",
            "  File \"/usr/lib/python3.10/pathlib.py\", line 1077, in resolve\n",
            "    s = self._accessor.realpath(self, strict=strict)\n",
            "  File \"/usr/lib/python3.10/posixpath.py\", line 397, in realpath\n",
            "    return abspath(path)\n",
            "  File \"/usr/lib/python3.10/posixpath.py\", line 384, in abspath\n",
            "    cwd = os.getcwd()\n",
            "OSError: [Errno 107] Transport endpoint is not connected\n",
            "\n",
            "During handling of the above exception, another exception occurred:\n",
            "\n",
            "Traceback (most recent call last):\n",
            "  File \"/usr/local/lib/python3.10/dist-packages/IPython/core/interactiveshell.py\", line 2099, in showtraceback\n",
            "    stb = value._render_traceback_()\n",
            "AttributeError: 'OSError' object has no attribute '_render_traceback_'\n",
            "\n",
            "During handling of the above exception, another exception occurred:\n",
            "\n",
            "Traceback (most recent call last):\n",
            "  File \"/usr/local/lib/python3.10/dist-packages/IPython/core/ultratb.py\", line 1101, in get_records\n",
            "    return _fixed_getinnerframes(etb, number_of_lines_of_context, tb_offset)\n",
            "  File \"/usr/local/lib/python3.10/dist-packages/IPython/core/ultratb.py\", line 248, in wrapped\n",
            "    return f(*args, **kwargs)\n",
            "  File \"/usr/local/lib/python3.10/dist-packages/IPython/core/ultratb.py\", line 281, in _fixed_getinnerframes\n",
            "    records = fix_frame_records_filenames(inspect.getinnerframes(etb, context))\n",
            "  File \"/usr/lib/python3.10/inspect.py\", line 1662, in getinnerframes\n",
            "    frameinfo = (tb.tb_frame,) + getframeinfo(tb, context)\n",
            "  File \"/usr/lib/python3.10/inspect.py\", line 1620, in getframeinfo\n",
            "    filename = getsourcefile(frame) or getfile(frame)\n",
            "  File \"/usr/lib/python3.10/inspect.py\", line 829, in getsourcefile\n",
            "    module = getmodule(object, filename)\n",
            "  File \"/usr/lib/python3.10/inspect.py\", line 861, in getmodule\n",
            "    file = getabsfile(object, _filename)\n",
            "  File \"/usr/lib/python3.10/inspect.py\", line 845, in getabsfile\n",
            "    return os.path.normcase(os.path.abspath(_filename))\n",
            "  File \"/usr/lib/python3.10/posixpath.py\", line 384, in abspath\n",
            "    cwd = os.getcwd()\n",
            "OSError: [Errno 107] Transport endpoint is not connected\n",
            "Traceback (most recent call last):\n",
            "  File \"/usr/local/lib/python3.10/dist-packages/IPython/core/interactiveshell.py\", line 3553, in run_code\n",
            "    exec(code_obj, self.user_global_ns, self.user_ns)\n",
            "  File \"<ipython-input-53-591cb7618587>\", line 36, in <cell line: 6>\n",
            "    scores.to_hdf(results_path / 'scores.h5', f'{units}/{n_factors}')\n",
            "  File \"/usr/local/lib/python3.10/dist-packages/pandas/core/generic.py\", line 2799, in to_hdf\n",
            "    pytables.to_hdf(\n",
            "  File \"/usr/local/lib/python3.10/dist-packages/pandas/io/pytables.py\", line 298, in to_hdf\n",
            "    with HDFStore(\n",
            "  File \"/usr/local/lib/python3.10/dist-packages/pandas/io/pytables.py\", line 578, in __init__\n",
            "    self.open(mode=mode, **kwargs)\n",
            "  File \"/usr/local/lib/python3.10/dist-packages/pandas/io/pytables.py\", line 737, in open\n",
            "    self._handle = tables.open_file(self._path, self._mode, **kwargs)\n",
            "  File \"/usr/local/lib/python3.10/dist-packages/tables/file.py\", line 300, in open_file\n",
            "    return File(filename, mode, title, root_uep, filters, **kwargs)\n",
            "  File \"/usr/local/lib/python3.10/dist-packages/tables/file.py\", line 750, in __init__\n",
            "    self._g_new(filename, mode, **params)\n",
            "  File \"tables/hdf5extension.pyx\", line 366, in tables.hdf5extension.File._g_new\n",
            "  File \"/usr/local/lib/python3.10/dist-packages/tables/utils.py\", line 138, in check_file_access\n",
            "    path = Path(filename).resolve()\n",
            "  File \"/usr/lib/python3.10/pathlib.py\", line 1077, in resolve\n",
            "    s = self._accessor.realpath(self, strict=strict)\n",
            "  File \"/usr/lib/python3.10/posixpath.py\", line 397, in realpath\n",
            "    return abspath(path)\n",
            "  File \"/usr/lib/python3.10/posixpath.py\", line 384, in abspath\n",
            "    cwd = os.getcwd()\n",
            "OSError: [Errno 107] Transport endpoint is not connected\n",
            "\n",
            "During handling of the above exception, another exception occurred:\n",
            "\n",
            "Traceback (most recent call last):\n",
            "  File \"/usr/local/lib/python3.10/dist-packages/IPython/core/interactiveshell.py\", line 2099, in showtraceback\n",
            "    stb = value._render_traceback_()\n",
            "AttributeError: 'OSError' object has no attribute '_render_traceback_'\n",
            "\n",
            "During handling of the above exception, another exception occurred:\n",
            "\n",
            "Traceback (most recent call last):\n",
            "  File \"/usr/local/lib/python3.10/dist-packages/IPython/core/interactiveshell.py\", line 3473, in run_ast_nodes\n",
            "    if (await self.run_code(code, result,  async_=asy)):\n",
            "  File \"/usr/local/lib/python3.10/dist-packages/IPython/core/interactiveshell.py\", line 3575, in run_code\n",
            "    self.showtraceback(running_compiled_code=True)\n",
            "  File \"/usr/local/lib/python3.10/dist-packages/IPython/core/interactiveshell.py\", line 2101, in showtraceback\n",
            "    stb = self.InteractiveTB.structured_traceback(etype,\n",
            "  File \"/usr/local/lib/python3.10/dist-packages/IPython/core/ultratb.py\", line 1367, in structured_traceback\n",
            "    return FormattedTB.structured_traceback(\n",
            "  File \"/usr/local/lib/python3.10/dist-packages/IPython/core/ultratb.py\", line 1267, in structured_traceback\n",
            "    return VerboseTB.structured_traceback(\n",
            "  File \"/usr/local/lib/python3.10/dist-packages/IPython/core/ultratb.py\", line 1124, in structured_traceback\n",
            "    formatted_exception = self.format_exception_as_a_whole(etype, evalue, etb, number_of_lines_of_context,\n",
            "  File \"/usr/local/lib/python3.10/dist-packages/IPython/core/ultratb.py\", line 1082, in format_exception_as_a_whole\n",
            "    last_unique, recursion_repeat = find_recursion(orig_etype, evalue, records)\n",
            "  File \"/usr/local/lib/python3.10/dist-packages/IPython/core/ultratb.py\", line 382, in find_recursion\n",
            "    return len(records), 0\n",
            "TypeError: object of type 'NoneType' has no len()\n",
            "\n",
            "During handling of the above exception, another exception occurred:\n",
            "\n",
            "Traceback (most recent call last):\n",
            "  File \"/usr/local/lib/python3.10/dist-packages/IPython/core/interactiveshell.py\", line 2099, in showtraceback\n",
            "    stb = value._render_traceback_()\n",
            "AttributeError: 'TypeError' object has no attribute '_render_traceback_'\n",
            "\n",
            "During handling of the above exception, another exception occurred:\n",
            "\n",
            "Traceback (most recent call last):\n",
            "  File \"/usr/local/lib/python3.10/dist-packages/IPython/core/ultratb.py\", line 1101, in get_records\n",
            "    return _fixed_getinnerframes(etb, number_of_lines_of_context, tb_offset)\n",
            "  File \"/usr/local/lib/python3.10/dist-packages/IPython/core/ultratb.py\", line 248, in wrapped\n",
            "    return f(*args, **kwargs)\n",
            "  File \"/usr/local/lib/python3.10/dist-packages/IPython/core/ultratb.py\", line 281, in _fixed_getinnerframes\n",
            "    records = fix_frame_records_filenames(inspect.getinnerframes(etb, context))\n",
            "  File \"/usr/lib/python3.10/inspect.py\", line 1662, in getinnerframes\n",
            "    frameinfo = (tb.tb_frame,) + getframeinfo(tb, context)\n",
            "  File \"/usr/lib/python3.10/inspect.py\", line 1620, in getframeinfo\n",
            "    filename = getsourcefile(frame) or getfile(frame)\n",
            "  File \"/usr/lib/python3.10/inspect.py\", line 829, in getsourcefile\n",
            "    module = getmodule(object, filename)\n",
            "  File \"/usr/lib/python3.10/inspect.py\", line 861, in getmodule\n",
            "    file = getabsfile(object, _filename)\n",
            "  File \"/usr/lib/python3.10/inspect.py\", line 845, in getabsfile\n",
            "    return os.path.normcase(os.path.abspath(_filename))\n",
            "  File \"/usr/lib/python3.10/posixpath.py\", line 384, in abspath\n",
            "    cwd = os.getcwd()\n",
            "OSError: [Errno 107] Transport endpoint is not connected\n",
            "Traceback (most recent call last):\n",
            "  File \"/usr/local/lib/python3.10/dist-packages/IPython/core/interactiveshell.py\", line 3553, in run_code\n",
            "    exec(code_obj, self.user_global_ns, self.user_ns)\n",
            "  File \"<ipython-input-53-591cb7618587>\", line 36, in <cell line: 6>\n",
            "    scores.to_hdf(results_path / 'scores.h5', f'{units}/{n_factors}')\n",
            "  File \"/usr/local/lib/python3.10/dist-packages/pandas/core/generic.py\", line 2799, in to_hdf\n",
            "    pytables.to_hdf(\n",
            "  File \"/usr/local/lib/python3.10/dist-packages/pandas/io/pytables.py\", line 298, in to_hdf\n",
            "    with HDFStore(\n",
            "  File \"/usr/local/lib/python3.10/dist-packages/pandas/io/pytables.py\", line 578, in __init__\n",
            "    self.open(mode=mode, **kwargs)\n",
            "  File \"/usr/local/lib/python3.10/dist-packages/pandas/io/pytables.py\", line 737, in open\n",
            "    self._handle = tables.open_file(self._path, self._mode, **kwargs)\n",
            "  File \"/usr/local/lib/python3.10/dist-packages/tables/file.py\", line 300, in open_file\n",
            "    return File(filename, mode, title, root_uep, filters, **kwargs)\n",
            "  File \"/usr/local/lib/python3.10/dist-packages/tables/file.py\", line 750, in __init__\n",
            "    self._g_new(filename, mode, **params)\n",
            "  File \"tables/hdf5extension.pyx\", line 366, in tables.hdf5extension.File._g_new\n",
            "  File \"/usr/local/lib/python3.10/dist-packages/tables/utils.py\", line 138, in check_file_access\n",
            "    path = Path(filename).resolve()\n",
            "  File \"/usr/lib/python3.10/pathlib.py\", line 1077, in resolve\n",
            "    s = self._accessor.realpath(self, strict=strict)\n",
            "  File \"/usr/lib/python3.10/posixpath.py\", line 397, in realpath\n",
            "    return abspath(path)\n",
            "  File \"/usr/lib/python3.10/posixpath.py\", line 384, in abspath\n",
            "    cwd = os.getcwd()\n",
            "OSError: [Errno 107] Transport endpoint is not connected\n",
            "\n",
            "During handling of the above exception, another exception occurred:\n",
            "\n",
            "Traceback (most recent call last):\n",
            "  File \"/usr/local/lib/python3.10/dist-packages/IPython/core/interactiveshell.py\", line 2099, in showtraceback\n",
            "    stb = value._render_traceback_()\n",
            "AttributeError: 'OSError' object has no attribute '_render_traceback_'\n",
            "\n",
            "During handling of the above exception, another exception occurred:\n",
            "\n",
            "Traceback (most recent call last):\n",
            "  File \"/usr/local/lib/python3.10/dist-packages/IPython/core/interactiveshell.py\", line 3473, in run_ast_nodes\n",
            "    if (await self.run_code(code, result,  async_=asy)):\n",
            "  File \"/usr/local/lib/python3.10/dist-packages/IPython/core/interactiveshell.py\", line 3575, in run_code\n",
            "    self.showtraceback(running_compiled_code=True)\n",
            "  File \"/usr/local/lib/python3.10/dist-packages/IPython/core/interactiveshell.py\", line 2101, in showtraceback\n",
            "    stb = self.InteractiveTB.structured_traceback(etype,\n",
            "  File \"/usr/local/lib/python3.10/dist-packages/IPython/core/ultratb.py\", line 1367, in structured_traceback\n",
            "    return FormattedTB.structured_traceback(\n",
            "  File \"/usr/local/lib/python3.10/dist-packages/IPython/core/ultratb.py\", line 1267, in structured_traceback\n",
            "    return VerboseTB.structured_traceback(\n",
            "  File \"/usr/local/lib/python3.10/dist-packages/IPython/core/ultratb.py\", line 1124, in structured_traceback\n",
            "    formatted_exception = self.format_exception_as_a_whole(etype, evalue, etb, number_of_lines_of_context,\n",
            "  File \"/usr/local/lib/python3.10/dist-packages/IPython/core/ultratb.py\", line 1082, in format_exception_as_a_whole\n",
            "    last_unique, recursion_repeat = find_recursion(orig_etype, evalue, records)\n",
            "  File \"/usr/local/lib/python3.10/dist-packages/IPython/core/ultratb.py\", line 382, in find_recursion\n",
            "    return len(records), 0\n",
            "TypeError: object of type 'NoneType' has no len()\n",
            "\n",
            "During handling of the above exception, another exception occurred:\n",
            "\n",
            "Traceback (most recent call last):\n",
            "  File \"/usr/local/lib/python3.10/dist-packages/IPython/core/interactiveshell.py\", line 2099, in showtraceback\n",
            "    stb = value._render_traceback_()\n",
            "AttributeError: 'TypeError' object has no attribute '_render_traceback_'\n",
            "\n",
            "During handling of the above exception, another exception occurred:\n",
            "\n",
            "Traceback (most recent call last):\n",
            "  File \"/usr/local/lib/python3.10/dist-packages/IPython/core/interactiveshell.py\", line 3030, in _run_cell\n",
            "    return runner(coro)\n",
            "  File \"/usr/local/lib/python3.10/dist-packages/IPython/core/async_helpers.py\", line 78, in _pseudo_sync_runner\n",
            "    coro.send(None)\n",
            "  File \"/usr/local/lib/python3.10/dist-packages/IPython/core/interactiveshell.py\", line 3257, in run_cell_async\n",
            "    has_raised = await self.run_ast_nodes(code_ast.body, cell_name,\n",
            "  File \"/usr/local/lib/python3.10/dist-packages/IPython/core/interactiveshell.py\", line 3492, in run_ast_nodes\n",
            "    self.showtraceback()\n",
            "  File \"/usr/local/lib/python3.10/dist-packages/IPython/core/interactiveshell.py\", line 2101, in showtraceback\n",
            "    stb = self.InteractiveTB.structured_traceback(etype,\n",
            "  File \"/usr/local/lib/python3.10/dist-packages/IPython/core/ultratb.py\", line 1367, in structured_traceback\n",
            "    return FormattedTB.structured_traceback(\n",
            "  File \"/usr/local/lib/python3.10/dist-packages/IPython/core/ultratb.py\", line 1267, in structured_traceback\n",
            "    return VerboseTB.structured_traceback(\n",
            "  File \"/usr/local/lib/python3.10/dist-packages/IPython/core/ultratb.py\", line 1142, in structured_traceback\n",
            "    formatted_exceptions += self.format_exception_as_a_whole(etype, evalue, etb, lines_of_context,\n",
            "  File \"/usr/local/lib/python3.10/dist-packages/IPython/core/ultratb.py\", line 1082, in format_exception_as_a_whole\n",
            "    last_unique, recursion_repeat = find_recursion(orig_etype, evalue, records)\n",
            "  File \"/usr/local/lib/python3.10/dist-packages/IPython/core/ultratb.py\", line 382, in find_recursion\n",
            "    return len(records), 0\n",
            "TypeError: object of type 'NoneType' has no len()\n",
            "\n",
            "During handling of the above exception, another exception occurred:\n",
            "\n",
            "Traceback (most recent call last):\n",
            "  File \"/usr/local/lib/python3.10/dist-packages/IPython/core/interactiveshell.py\", line 2099, in showtraceback\n",
            "    stb = value._render_traceback_()\n",
            "AttributeError: 'TypeError' object has no attribute '_render_traceback_'\n",
            "\n",
            "During handling of the above exception, another exception occurred:\n",
            "\n",
            "Traceback (most recent call last):\n",
            "  File \"/usr/local/lib/python3.10/dist-packages/IPython/core/ultratb.py\", line 1101, in get_records\n",
            "    return _fixed_getinnerframes(etb, number_of_lines_of_context, tb_offset)\n",
            "  File \"/usr/local/lib/python3.10/dist-packages/IPython/core/ultratb.py\", line 248, in wrapped\n",
            "    return f(*args, **kwargs)\n",
            "  File \"/usr/local/lib/python3.10/dist-packages/IPython/core/ultratb.py\", line 281, in _fixed_getinnerframes\n",
            "    records = fix_frame_records_filenames(inspect.getinnerframes(etb, context))\n",
            "  File \"/usr/lib/python3.10/inspect.py\", line 1662, in getinnerframes\n",
            "    frameinfo = (tb.tb_frame,) + getframeinfo(tb, context)\n",
            "  File \"/usr/lib/python3.10/inspect.py\", line 1620, in getframeinfo\n",
            "    filename = getsourcefile(frame) or getfile(frame)\n",
            "  File \"/usr/lib/python3.10/inspect.py\", line 829, in getsourcefile\n",
            "    module = getmodule(object, filename)\n",
            "  File \"/usr/lib/python3.10/inspect.py\", line 861, in getmodule\n",
            "    file = getabsfile(object, _filename)\n",
            "  File \"/usr/lib/python3.10/inspect.py\", line 845, in getabsfile\n",
            "    return os.path.normcase(os.path.abspath(_filename))\n",
            "  File \"/usr/lib/python3.10/posixpath.py\", line 384, in abspath\n",
            "    cwd = os.getcwd()\n",
            "OSError: [Errno 107] Transport endpoint is not connected\n"
          ]
        }
      ]
    },
    {
      "cell_type": "markdown",
      "metadata": {
        "id": "dIM2p89BG6AL"
      },
      "source": [
        "### Evaluate Results"
      ]
    },
    {
      "cell_type": "code",
      "execution_count": null,
      "metadata": {
        "ExecuteTime": {
          "end_time": "2021-02-25T01:24:37.645031Z",
          "start_time": "2021-02-25T01:24:37.472670Z"
        },
        "id": "O8W-ZRhJG6AL",
        "colab": {
          "base_uri": "https://localhost:8080/"
        },
        "outputId": "a9441050-db1e-4938-aac9-f4a88aa56ae6"
      },
      "outputs": [
        {
          "output_type": "stream",
          "name": "stdout",
          "text": [
            "[     units  n_factors  fold  epoch   ic_mean  ic_daily_mean  ic_daily_std  \\\n",
            "0        8          3     0      0  0.022081       0.015232      0.105900   \n",
            "1        8          3     0      1  0.029416       0.013397      0.111267   \n",
            "2        8          3     0      2  0.030882       0.009246      0.120236   \n",
            "3        8          3     0      3  0.027612       0.007296      0.116196   \n",
            "4        8          3     0      4  0.026918       0.005429      0.118711   \n",
            "..     ...        ...   ...    ...       ...            ...           ...   \n",
            "745      8          3     2    245 -0.023873      -0.016513      0.066291   \n",
            "746      8          3     2    246 -0.025152      -0.004223      0.100457   \n",
            "747      8          3     2    247 -0.021553       0.006718      0.108607   \n",
            "748      8          3     2    248 -0.022449      -0.013686      0.104184   \n",
            "749      8          3     2    249 -0.031973      -0.022541      0.084247   \n",
            "\n",
            "     ic_daily_median  \n",
            "0           0.028588  \n",
            "1           0.023574  \n",
            "2           0.008599  \n",
            "3           0.014084  \n",
            "4           0.012961  \n",
            "..               ...  \n",
            "745        -0.020962  \n",
            "746        -0.006315  \n",
            "747         0.009247  \n",
            "748        -0.027857  \n",
            "749        -0.033387  \n",
            "\n",
            "[750 rows x 8 columns],      units  n_factors  fold  epoch   ic_mean  ic_daily_mean  ic_daily_std  \\\n",
            "0        8          4     0      0 -0.018643      -0.017371      0.075149   \n",
            "1        8          4     0      1 -0.028231      -0.023647      0.068794   \n",
            "2        8          4     0      2 -0.025593      -0.024482      0.068327   \n",
            "3        8          4     0      3 -0.011332      -0.011686      0.070929   \n",
            "4        8          4     0      4 -0.005402      -0.009691      0.069704   \n",
            "..     ...        ...   ...    ...       ...            ...           ...   \n",
            "745      8          4     2    245  0.001346       0.010297      0.050665   \n",
            "746      8          4     2    246 -0.011865      -0.004603      0.065106   \n",
            "747      8          4     2    247 -0.022187      -0.006040      0.042837   \n",
            "748      8          4     2    248 -0.023711      -0.004987      0.044287   \n",
            "749      8          4     2    249 -0.027649      -0.006412      0.042602   \n",
            "\n",
            "     ic_daily_median  \n",
            "0          -0.014539  \n",
            "1          -0.023209  \n",
            "2          -0.019770  \n",
            "3          -0.004123  \n",
            "4          -0.001910  \n",
            "..               ...  \n",
            "745         0.007458  \n",
            "746        -0.009000  \n",
            "747        -0.004462  \n",
            "748        -0.005765  \n",
            "749        -0.013679  \n",
            "\n",
            "[750 rows x 8 columns]]\n"
          ]
        }
      ],
      "source": [
        "scores = []\n",
        "with pd.HDFStore(results_path / 'scores.h5') as store:\n",
        "    for key in store.keys():\n",
        "        scores.append(store[key])\n",
        "print(scores)\n",
        "scores = pd.concat(scores)"
      ]
    },
    {
      "cell_type": "code",
      "execution_count": null,
      "metadata": {
        "ExecuteTime": {
          "end_time": "2021-02-25T01:24:38.690579Z",
          "start_time": "2021-02-25T01:24:38.680750Z"
        },
        "id": "hMztxTYrG6AL",
        "outputId": "6b710c5a-0db1-4a85-e7be-fe00fa1cdba6",
        "colab": {
          "base_uri": "https://localhost:8080/"
        }
      },
      "outputs": [
        {
          "output_type": "stream",
          "name": "stdout",
          "text": [
            "<class 'pandas.core.frame.DataFrame'>\n",
            "Int64Index: 1500 entries, 0 to 749\n",
            "Data columns (total 8 columns):\n",
            " #   Column           Non-Null Count  Dtype  \n",
            "---  ------           --------------  -----  \n",
            " 0   units            1500 non-null   int64  \n",
            " 1   n_factors        1500 non-null   int64  \n",
            " 2   fold             1500 non-null   int64  \n",
            " 3   epoch            1500 non-null   int64  \n",
            " 4   ic_mean          1500 non-null   float64\n",
            " 5   ic_daily_mean    1500 non-null   float64\n",
            " 6   ic_daily_std     1500 non-null   float64\n",
            " 7   ic_daily_median  1500 non-null   float64\n",
            "dtypes: float64(4), int64(4)\n",
            "memory usage: 105.5 KB\n"
          ]
        }
      ],
      "source": [
        "scores.info()"
      ]
    },
    {
      "cell_type": "code",
      "source": [
        "scores[750:]"
      ],
      "metadata": {
        "colab": {
          "base_uri": "https://localhost:8080/",
          "height": 424
        },
        "id": "fMsO7Yqbit5q",
        "outputId": "f55b2123-7b0b-4c11-8af2-082eba479364"
      },
      "execution_count": null,
      "outputs": [
        {
          "output_type": "execute_result",
          "data": {
            "text/plain": [
              "     units  n_factors  fold  epoch   ic_mean  ic_daily_mean  ic_daily_std  \\\n",
              "0        8          4     0      0 -0.018643      -0.017371      0.075149   \n",
              "1        8          4     0      1 -0.028231      -0.023647      0.068794   \n",
              "2        8          4     0      2 -0.025593      -0.024482      0.068327   \n",
              "3        8          4     0      3 -0.011332      -0.011686      0.070929   \n",
              "4        8          4     0      4 -0.005402      -0.009691      0.069704   \n",
              "..     ...        ...   ...    ...       ...            ...           ...   \n",
              "745      8          4     2    245  0.001346       0.010297      0.050665   \n",
              "746      8          4     2    246 -0.011865      -0.004603      0.065106   \n",
              "747      8          4     2    247 -0.022187      -0.006040      0.042837   \n",
              "748      8          4     2    248 -0.023711      -0.004987      0.044287   \n",
              "749      8          4     2    249 -0.027649      -0.006412      0.042602   \n",
              "\n",
              "     ic_daily_median  \n",
              "0          -0.014539  \n",
              "1          -0.023209  \n",
              "2          -0.019770  \n",
              "3          -0.004123  \n",
              "4          -0.001910  \n",
              "..               ...  \n",
              "745         0.007458  \n",
              "746        -0.009000  \n",
              "747        -0.004462  \n",
              "748        -0.005765  \n",
              "749        -0.013679  \n",
              "\n",
              "[750 rows x 8 columns]"
            ],
            "text/html": [
              "\n",
              "  <div id=\"df-ffdfe112-8e34-4334-91f4-fe2412fe71f6\">\n",
              "    <div class=\"colab-df-container\">\n",
              "      <div>\n",
              "<style scoped>\n",
              "    .dataframe tbody tr th:only-of-type {\n",
              "        vertical-align: middle;\n",
              "    }\n",
              "\n",
              "    .dataframe tbody tr th {\n",
              "        vertical-align: top;\n",
              "    }\n",
              "\n",
              "    .dataframe thead th {\n",
              "        text-align: right;\n",
              "    }\n",
              "</style>\n",
              "<table border=\"1\" class=\"dataframe\">\n",
              "  <thead>\n",
              "    <tr style=\"text-align: right;\">\n",
              "      <th></th>\n",
              "      <th>units</th>\n",
              "      <th>n_factors</th>\n",
              "      <th>fold</th>\n",
              "      <th>epoch</th>\n",
              "      <th>ic_mean</th>\n",
              "      <th>ic_daily_mean</th>\n",
              "      <th>ic_daily_std</th>\n",
              "      <th>ic_daily_median</th>\n",
              "    </tr>\n",
              "  </thead>\n",
              "  <tbody>\n",
              "    <tr>\n",
              "      <th>0</th>\n",
              "      <td>8</td>\n",
              "      <td>4</td>\n",
              "      <td>0</td>\n",
              "      <td>0</td>\n",
              "      <td>-0.018643</td>\n",
              "      <td>-0.017371</td>\n",
              "      <td>0.075149</td>\n",
              "      <td>-0.014539</td>\n",
              "    </tr>\n",
              "    <tr>\n",
              "      <th>1</th>\n",
              "      <td>8</td>\n",
              "      <td>4</td>\n",
              "      <td>0</td>\n",
              "      <td>1</td>\n",
              "      <td>-0.028231</td>\n",
              "      <td>-0.023647</td>\n",
              "      <td>0.068794</td>\n",
              "      <td>-0.023209</td>\n",
              "    </tr>\n",
              "    <tr>\n",
              "      <th>2</th>\n",
              "      <td>8</td>\n",
              "      <td>4</td>\n",
              "      <td>0</td>\n",
              "      <td>2</td>\n",
              "      <td>-0.025593</td>\n",
              "      <td>-0.024482</td>\n",
              "      <td>0.068327</td>\n",
              "      <td>-0.019770</td>\n",
              "    </tr>\n",
              "    <tr>\n",
              "      <th>3</th>\n",
              "      <td>8</td>\n",
              "      <td>4</td>\n",
              "      <td>0</td>\n",
              "      <td>3</td>\n",
              "      <td>-0.011332</td>\n",
              "      <td>-0.011686</td>\n",
              "      <td>0.070929</td>\n",
              "      <td>-0.004123</td>\n",
              "    </tr>\n",
              "    <tr>\n",
              "      <th>4</th>\n",
              "      <td>8</td>\n",
              "      <td>4</td>\n",
              "      <td>0</td>\n",
              "      <td>4</td>\n",
              "      <td>-0.005402</td>\n",
              "      <td>-0.009691</td>\n",
              "      <td>0.069704</td>\n",
              "      <td>-0.001910</td>\n",
              "    </tr>\n",
              "    <tr>\n",
              "      <th>...</th>\n",
              "      <td>...</td>\n",
              "      <td>...</td>\n",
              "      <td>...</td>\n",
              "      <td>...</td>\n",
              "      <td>...</td>\n",
              "      <td>...</td>\n",
              "      <td>...</td>\n",
              "      <td>...</td>\n",
              "    </tr>\n",
              "    <tr>\n",
              "      <th>745</th>\n",
              "      <td>8</td>\n",
              "      <td>4</td>\n",
              "      <td>2</td>\n",
              "      <td>245</td>\n",
              "      <td>0.001346</td>\n",
              "      <td>0.010297</td>\n",
              "      <td>0.050665</td>\n",
              "      <td>0.007458</td>\n",
              "    </tr>\n",
              "    <tr>\n",
              "      <th>746</th>\n",
              "      <td>8</td>\n",
              "      <td>4</td>\n",
              "      <td>2</td>\n",
              "      <td>246</td>\n",
              "      <td>-0.011865</td>\n",
              "      <td>-0.004603</td>\n",
              "      <td>0.065106</td>\n",
              "      <td>-0.009000</td>\n",
              "    </tr>\n",
              "    <tr>\n",
              "      <th>747</th>\n",
              "      <td>8</td>\n",
              "      <td>4</td>\n",
              "      <td>2</td>\n",
              "      <td>247</td>\n",
              "      <td>-0.022187</td>\n",
              "      <td>-0.006040</td>\n",
              "      <td>0.042837</td>\n",
              "      <td>-0.004462</td>\n",
              "    </tr>\n",
              "    <tr>\n",
              "      <th>748</th>\n",
              "      <td>8</td>\n",
              "      <td>4</td>\n",
              "      <td>2</td>\n",
              "      <td>248</td>\n",
              "      <td>-0.023711</td>\n",
              "      <td>-0.004987</td>\n",
              "      <td>0.044287</td>\n",
              "      <td>-0.005765</td>\n",
              "    </tr>\n",
              "    <tr>\n",
              "      <th>749</th>\n",
              "      <td>8</td>\n",
              "      <td>4</td>\n",
              "      <td>2</td>\n",
              "      <td>249</td>\n",
              "      <td>-0.027649</td>\n",
              "      <td>-0.006412</td>\n",
              "      <td>0.042602</td>\n",
              "      <td>-0.013679</td>\n",
              "    </tr>\n",
              "  </tbody>\n",
              "</table>\n",
              "<p>750 rows × 8 columns</p>\n",
              "</div>\n",
              "      <button class=\"colab-df-convert\" onclick=\"convertToInteractive('df-ffdfe112-8e34-4334-91f4-fe2412fe71f6')\"\n",
              "              title=\"Convert this dataframe to an interactive table.\"\n",
              "              style=\"display:none;\">\n",
              "        \n",
              "  <svg xmlns=\"http://www.w3.org/2000/svg\" height=\"24px\"viewBox=\"0 0 24 24\"\n",
              "       width=\"24px\">\n",
              "    <path d=\"M0 0h24v24H0V0z\" fill=\"none\"/>\n",
              "    <path d=\"M18.56 5.44l.94 2.06.94-2.06 2.06-.94-2.06-.94-.94-2.06-.94 2.06-2.06.94zm-11 1L8.5 8.5l.94-2.06 2.06-.94-2.06-.94L8.5 2.5l-.94 2.06-2.06.94zm10 10l.94 2.06.94-2.06 2.06-.94-2.06-.94-.94-2.06-.94 2.06-2.06.94z\"/><path d=\"M17.41 7.96l-1.37-1.37c-.4-.4-.92-.59-1.43-.59-.52 0-1.04.2-1.43.59L10.3 9.45l-7.72 7.72c-.78.78-.78 2.05 0 2.83L4 21.41c.39.39.9.59 1.41.59.51 0 1.02-.2 1.41-.59l7.78-7.78 2.81-2.81c.8-.78.8-2.07 0-2.86zM5.41 20L4 18.59l7.72-7.72 1.47 1.35L5.41 20z\"/>\n",
              "  </svg>\n",
              "      </button>\n",
              "      \n",
              "  <style>\n",
              "    .colab-df-container {\n",
              "      display:flex;\n",
              "      flex-wrap:wrap;\n",
              "      gap: 12px;\n",
              "    }\n",
              "\n",
              "    .colab-df-convert {\n",
              "      background-color: #E8F0FE;\n",
              "      border: none;\n",
              "      border-radius: 50%;\n",
              "      cursor: pointer;\n",
              "      display: none;\n",
              "      fill: #1967D2;\n",
              "      height: 32px;\n",
              "      padding: 0 0 0 0;\n",
              "      width: 32px;\n",
              "    }\n",
              "\n",
              "    .colab-df-convert:hover {\n",
              "      background-color: #E2EBFA;\n",
              "      box-shadow: 0px 1px 2px rgba(60, 64, 67, 0.3), 0px 1px 3px 1px rgba(60, 64, 67, 0.15);\n",
              "      fill: #174EA6;\n",
              "    }\n",
              "\n",
              "    [theme=dark] .colab-df-convert {\n",
              "      background-color: #3B4455;\n",
              "      fill: #D2E3FC;\n",
              "    }\n",
              "\n",
              "    [theme=dark] .colab-df-convert:hover {\n",
              "      background-color: #434B5C;\n",
              "      box-shadow: 0px 1px 3px 1px rgba(0, 0, 0, 0.15);\n",
              "      filter: drop-shadow(0px 1px 2px rgba(0, 0, 0, 0.3));\n",
              "      fill: #FFFFFF;\n",
              "    }\n",
              "  </style>\n",
              "\n",
              "      <script>\n",
              "        const buttonEl =\n",
              "          document.querySelector('#df-ffdfe112-8e34-4334-91f4-fe2412fe71f6 button.colab-df-convert');\n",
              "        buttonEl.style.display =\n",
              "          google.colab.kernel.accessAllowed ? 'block' : 'none';\n",
              "\n",
              "        async function convertToInteractive(key) {\n",
              "          const element = document.querySelector('#df-ffdfe112-8e34-4334-91f4-fe2412fe71f6');\n",
              "          const dataTable =\n",
              "            await google.colab.kernel.invokeFunction('convertToInteractive',\n",
              "                                                     [key], {});\n",
              "          if (!dataTable) return;\n",
              "\n",
              "          const docLinkHtml = 'Like what you see? Visit the ' +\n",
              "            '<a target=\"_blank\" href=https://colab.research.google.com/notebooks/data_table.ipynb>data table notebook</a>'\n",
              "            + ' to learn more about interactive tables.';\n",
              "          element.innerHTML = '';\n",
              "          dataTable['output_type'] = 'display_data';\n",
              "          await google.colab.output.renderOutput(dataTable, element);\n",
              "          const docLink = document.createElement('div');\n",
              "          docLink.innerHTML = docLinkHtml;\n",
              "          element.appendChild(docLink);\n",
              "        }\n",
              "      </script>\n",
              "    </div>\n",
              "  </div>\n",
              "  "
            ]
          },
          "metadata": {},
          "execution_count": 54
        }
      ]
    },
    {
      "cell_type": "code",
      "execution_count": null,
      "metadata": {
        "ExecuteTime": {
          "end_time": "2021-02-25T01:24:40.755460Z",
          "start_time": "2021-02-25T01:24:40.737523Z"
        },
        "id": "zxY8oAt6G6AM"
      },
      "outputs": [],
      "source": [
        "avg = (scores.groupby(['n_factors', 'units', 'epoch'])\n",
        "       ['ic_mean', 'ic_daily_mean', 'ic_daily_median']\n",
        "       .mean()\n",
        "      .reset_index())"
      ]
    },
    {
      "cell_type": "code",
      "execution_count": null,
      "metadata": {
        "ExecuteTime": {
          "end_time": "2021-02-25T01:24:40.967622Z",
          "start_time": "2021-02-25T01:24:40.946156Z"
        },
        "id": "-kjtkcHYG6AM",
        "outputId": "ea0906e6-890f-43a0-b547-f064f37f5bed",
        "colab": {
          "base_uri": "https://localhost:8080/",
          "height": 677
        }
      },
      "outputs": [
        {
          "output_type": "execute_result",
          "data": {
            "text/plain": [
              "     n_factors  units  epoch   ic_mean  ic_daily_mean  ic_daily_median\n",
              "481          4      8    231  0.037049       0.013816         0.017496\n",
              "185          3      8    185  0.032385       0.012865         0.015756\n",
              "178          3      8    178  0.037521       0.010901         0.015203\n",
              "215          3      8    215  0.030807       0.004167         0.014856\n",
              "174          3      8    174  0.031471       0.013959         0.014080\n",
              "484          4      8    234  0.006876       0.011015         0.012349\n",
              "454          4      8    204  0.041009       0.008959         0.012056\n",
              "157          3      8    157  0.024041       0.008819         0.011577\n",
              "222          3      8    222  0.024492       0.008855         0.011401\n",
              "381          4      8    131  0.046625       0.001743         0.011117\n",
              "358          4      8    108  0.043546       0.003392         0.010507\n",
              "129          3      8    129  0.028732       0.008332         0.010418\n",
              "348          4      8     98  0.038499       0.004280         0.010170\n",
              "366          4      8    116  0.044412       0.003660         0.010089\n",
              "444          4      8    194  0.040746       0.001589         0.009305\n",
              "305          4      8     55  0.019842       0.006101         0.009297\n",
              "379          4      8    129  0.040022       0.001772         0.009277\n",
              "386          4      8    136  0.042569       0.003827         0.009231\n",
              "183          3      8    183  0.028509       0.008757         0.008999\n",
              "362          4      8    112  0.040012       0.000562         0.008896"
            ],
            "text/html": [
              "\n",
              "  <div id=\"df-e7656fda-7098-4098-8a40-5bcf6903b4a9\">\n",
              "    <div class=\"colab-df-container\">\n",
              "      <div>\n",
              "<style scoped>\n",
              "    .dataframe tbody tr th:only-of-type {\n",
              "        vertical-align: middle;\n",
              "    }\n",
              "\n",
              "    .dataframe tbody tr th {\n",
              "        vertical-align: top;\n",
              "    }\n",
              "\n",
              "    .dataframe thead th {\n",
              "        text-align: right;\n",
              "    }\n",
              "</style>\n",
              "<table border=\"1\" class=\"dataframe\">\n",
              "  <thead>\n",
              "    <tr style=\"text-align: right;\">\n",
              "      <th></th>\n",
              "      <th>n_factors</th>\n",
              "      <th>units</th>\n",
              "      <th>epoch</th>\n",
              "      <th>ic_mean</th>\n",
              "      <th>ic_daily_mean</th>\n",
              "      <th>ic_daily_median</th>\n",
              "    </tr>\n",
              "  </thead>\n",
              "  <tbody>\n",
              "    <tr>\n",
              "      <th>481</th>\n",
              "      <td>4</td>\n",
              "      <td>8</td>\n",
              "      <td>231</td>\n",
              "      <td>0.037049</td>\n",
              "      <td>0.013816</td>\n",
              "      <td>0.017496</td>\n",
              "    </tr>\n",
              "    <tr>\n",
              "      <th>185</th>\n",
              "      <td>3</td>\n",
              "      <td>8</td>\n",
              "      <td>185</td>\n",
              "      <td>0.032385</td>\n",
              "      <td>0.012865</td>\n",
              "      <td>0.015756</td>\n",
              "    </tr>\n",
              "    <tr>\n",
              "      <th>178</th>\n",
              "      <td>3</td>\n",
              "      <td>8</td>\n",
              "      <td>178</td>\n",
              "      <td>0.037521</td>\n",
              "      <td>0.010901</td>\n",
              "      <td>0.015203</td>\n",
              "    </tr>\n",
              "    <tr>\n",
              "      <th>215</th>\n",
              "      <td>3</td>\n",
              "      <td>8</td>\n",
              "      <td>215</td>\n",
              "      <td>0.030807</td>\n",
              "      <td>0.004167</td>\n",
              "      <td>0.014856</td>\n",
              "    </tr>\n",
              "    <tr>\n",
              "      <th>174</th>\n",
              "      <td>3</td>\n",
              "      <td>8</td>\n",
              "      <td>174</td>\n",
              "      <td>0.031471</td>\n",
              "      <td>0.013959</td>\n",
              "      <td>0.014080</td>\n",
              "    </tr>\n",
              "    <tr>\n",
              "      <th>484</th>\n",
              "      <td>4</td>\n",
              "      <td>8</td>\n",
              "      <td>234</td>\n",
              "      <td>0.006876</td>\n",
              "      <td>0.011015</td>\n",
              "      <td>0.012349</td>\n",
              "    </tr>\n",
              "    <tr>\n",
              "      <th>454</th>\n",
              "      <td>4</td>\n",
              "      <td>8</td>\n",
              "      <td>204</td>\n",
              "      <td>0.041009</td>\n",
              "      <td>0.008959</td>\n",
              "      <td>0.012056</td>\n",
              "    </tr>\n",
              "    <tr>\n",
              "      <th>157</th>\n",
              "      <td>3</td>\n",
              "      <td>8</td>\n",
              "      <td>157</td>\n",
              "      <td>0.024041</td>\n",
              "      <td>0.008819</td>\n",
              "      <td>0.011577</td>\n",
              "    </tr>\n",
              "    <tr>\n",
              "      <th>222</th>\n",
              "      <td>3</td>\n",
              "      <td>8</td>\n",
              "      <td>222</td>\n",
              "      <td>0.024492</td>\n",
              "      <td>0.008855</td>\n",
              "      <td>0.011401</td>\n",
              "    </tr>\n",
              "    <tr>\n",
              "      <th>381</th>\n",
              "      <td>4</td>\n",
              "      <td>8</td>\n",
              "      <td>131</td>\n",
              "      <td>0.046625</td>\n",
              "      <td>0.001743</td>\n",
              "      <td>0.011117</td>\n",
              "    </tr>\n",
              "    <tr>\n",
              "      <th>358</th>\n",
              "      <td>4</td>\n",
              "      <td>8</td>\n",
              "      <td>108</td>\n",
              "      <td>0.043546</td>\n",
              "      <td>0.003392</td>\n",
              "      <td>0.010507</td>\n",
              "    </tr>\n",
              "    <tr>\n",
              "      <th>129</th>\n",
              "      <td>3</td>\n",
              "      <td>8</td>\n",
              "      <td>129</td>\n",
              "      <td>0.028732</td>\n",
              "      <td>0.008332</td>\n",
              "      <td>0.010418</td>\n",
              "    </tr>\n",
              "    <tr>\n",
              "      <th>348</th>\n",
              "      <td>4</td>\n",
              "      <td>8</td>\n",
              "      <td>98</td>\n",
              "      <td>0.038499</td>\n",
              "      <td>0.004280</td>\n",
              "      <td>0.010170</td>\n",
              "    </tr>\n",
              "    <tr>\n",
              "      <th>366</th>\n",
              "      <td>4</td>\n",
              "      <td>8</td>\n",
              "      <td>116</td>\n",
              "      <td>0.044412</td>\n",
              "      <td>0.003660</td>\n",
              "      <td>0.010089</td>\n",
              "    </tr>\n",
              "    <tr>\n",
              "      <th>444</th>\n",
              "      <td>4</td>\n",
              "      <td>8</td>\n",
              "      <td>194</td>\n",
              "      <td>0.040746</td>\n",
              "      <td>0.001589</td>\n",
              "      <td>0.009305</td>\n",
              "    </tr>\n",
              "    <tr>\n",
              "      <th>305</th>\n",
              "      <td>4</td>\n",
              "      <td>8</td>\n",
              "      <td>55</td>\n",
              "      <td>0.019842</td>\n",
              "      <td>0.006101</td>\n",
              "      <td>0.009297</td>\n",
              "    </tr>\n",
              "    <tr>\n",
              "      <th>379</th>\n",
              "      <td>4</td>\n",
              "      <td>8</td>\n",
              "      <td>129</td>\n",
              "      <td>0.040022</td>\n",
              "      <td>0.001772</td>\n",
              "      <td>0.009277</td>\n",
              "    </tr>\n",
              "    <tr>\n",
              "      <th>386</th>\n",
              "      <td>4</td>\n",
              "      <td>8</td>\n",
              "      <td>136</td>\n",
              "      <td>0.042569</td>\n",
              "      <td>0.003827</td>\n",
              "      <td>0.009231</td>\n",
              "    </tr>\n",
              "    <tr>\n",
              "      <th>183</th>\n",
              "      <td>3</td>\n",
              "      <td>8</td>\n",
              "      <td>183</td>\n",
              "      <td>0.028509</td>\n",
              "      <td>0.008757</td>\n",
              "      <td>0.008999</td>\n",
              "    </tr>\n",
              "    <tr>\n",
              "      <th>362</th>\n",
              "      <td>4</td>\n",
              "      <td>8</td>\n",
              "      <td>112</td>\n",
              "      <td>0.040012</td>\n",
              "      <td>0.000562</td>\n",
              "      <td>0.008896</td>\n",
              "    </tr>\n",
              "  </tbody>\n",
              "</table>\n",
              "</div>\n",
              "      <button class=\"colab-df-convert\" onclick=\"convertToInteractive('df-e7656fda-7098-4098-8a40-5bcf6903b4a9')\"\n",
              "              title=\"Convert this dataframe to an interactive table.\"\n",
              "              style=\"display:none;\">\n",
              "        \n",
              "  <svg xmlns=\"http://www.w3.org/2000/svg\" height=\"24px\"viewBox=\"0 0 24 24\"\n",
              "       width=\"24px\">\n",
              "    <path d=\"M0 0h24v24H0V0z\" fill=\"none\"/>\n",
              "    <path d=\"M18.56 5.44l.94 2.06.94-2.06 2.06-.94-2.06-.94-.94-2.06-.94 2.06-2.06.94zm-11 1L8.5 8.5l.94-2.06 2.06-.94-2.06-.94L8.5 2.5l-.94 2.06-2.06.94zm10 10l.94 2.06.94-2.06 2.06-.94-2.06-.94-.94-2.06-.94 2.06-2.06.94z\"/><path d=\"M17.41 7.96l-1.37-1.37c-.4-.4-.92-.59-1.43-.59-.52 0-1.04.2-1.43.59L10.3 9.45l-7.72 7.72c-.78.78-.78 2.05 0 2.83L4 21.41c.39.39.9.59 1.41.59.51 0 1.02-.2 1.41-.59l7.78-7.78 2.81-2.81c.8-.78.8-2.07 0-2.86zM5.41 20L4 18.59l7.72-7.72 1.47 1.35L5.41 20z\"/>\n",
              "  </svg>\n",
              "      </button>\n",
              "      \n",
              "  <style>\n",
              "    .colab-df-container {\n",
              "      display:flex;\n",
              "      flex-wrap:wrap;\n",
              "      gap: 12px;\n",
              "    }\n",
              "\n",
              "    .colab-df-convert {\n",
              "      background-color: #E8F0FE;\n",
              "      border: none;\n",
              "      border-radius: 50%;\n",
              "      cursor: pointer;\n",
              "      display: none;\n",
              "      fill: #1967D2;\n",
              "      height: 32px;\n",
              "      padding: 0 0 0 0;\n",
              "      width: 32px;\n",
              "    }\n",
              "\n",
              "    .colab-df-convert:hover {\n",
              "      background-color: #E2EBFA;\n",
              "      box-shadow: 0px 1px 2px rgba(60, 64, 67, 0.3), 0px 1px 3px 1px rgba(60, 64, 67, 0.15);\n",
              "      fill: #174EA6;\n",
              "    }\n",
              "\n",
              "    [theme=dark] .colab-df-convert {\n",
              "      background-color: #3B4455;\n",
              "      fill: #D2E3FC;\n",
              "    }\n",
              "\n",
              "    [theme=dark] .colab-df-convert:hover {\n",
              "      background-color: #434B5C;\n",
              "      box-shadow: 0px 1px 3px 1px rgba(0, 0, 0, 0.15);\n",
              "      filter: drop-shadow(0px 1px 2px rgba(0, 0, 0, 0.3));\n",
              "      fill: #FFFFFF;\n",
              "    }\n",
              "  </style>\n",
              "\n",
              "      <script>\n",
              "        const buttonEl =\n",
              "          document.querySelector('#df-e7656fda-7098-4098-8a40-5bcf6903b4a9 button.colab-df-convert');\n",
              "        buttonEl.style.display =\n",
              "          google.colab.kernel.accessAllowed ? 'block' : 'none';\n",
              "\n",
              "        async function convertToInteractive(key) {\n",
              "          const element = document.querySelector('#df-e7656fda-7098-4098-8a40-5bcf6903b4a9');\n",
              "          const dataTable =\n",
              "            await google.colab.kernel.invokeFunction('convertToInteractive',\n",
              "                                                     [key], {});\n",
              "          if (!dataTable) return;\n",
              "\n",
              "          const docLinkHtml = 'Like what you see? Visit the ' +\n",
              "            '<a target=\"_blank\" href=https://colab.research.google.com/notebooks/data_table.ipynb>data table notebook</a>'\n",
              "            + ' to learn more about interactive tables.';\n",
              "          element.innerHTML = '';\n",
              "          dataTable['output_type'] = 'display_data';\n",
              "          await google.colab.output.renderOutput(dataTable, element);\n",
              "          const docLink = document.createElement('div');\n",
              "          docLink.innerHTML = docLinkHtml;\n",
              "          element.appendChild(docLink);\n",
              "        }\n",
              "      </script>\n",
              "    </div>\n",
              "  </div>\n",
              "  "
            ]
          },
          "metadata": {},
          "execution_count": 49
        }
      ],
      "source": [
        "avg.nlargest(n=20, columns=['ic_daily_median'])"
      ]
    },
    {
      "cell_type": "code",
      "execution_count": null,
      "metadata": {
        "ExecuteTime": {
          "end_time": "2021-02-25T01:24:42.905824Z",
          "start_time": "2021-02-25T01:24:42.868325Z"
        },
        "id": "ymvDFzIuG6AM",
        "outputId": "df578ddb-994c-47e9-bc76-cad9dfd1d459",
        "colab": {
          "base_uri": "https://localhost:8080/",
          "height": 238
        }
      },
      "outputs": [
        {
          "output_type": "execute_result",
          "data": {
            "text/plain": [
              "                 n_factors  units  epoch   ic_mean  ic_daily_mean  \\\n",
              "n_factors units                                                     \n",
              "4         8              4      8    231  0.037049       0.013816   \n",
              "3         8              3      8    185  0.032385       0.012865   \n",
              "          8              3      8    178  0.037521       0.010901   \n",
              "          8              3      8    215  0.030807       0.004167   \n",
              "          8              3      8    174  0.031471       0.013959   \n",
              "\n",
              "                 ic_daily_median  \n",
              "n_factors units                   \n",
              "4         8             0.017496  \n",
              "3         8             0.015756  \n",
              "          8             0.015203  \n",
              "          8             0.014856  \n",
              "          8             0.014080  "
            ],
            "text/html": [
              "\n",
              "  <div id=\"df-ca2544bd-e1a4-47d8-8279-289b3a7bee30\">\n",
              "    <div class=\"colab-df-container\">\n",
              "      <div>\n",
              "<style scoped>\n",
              "    .dataframe tbody tr th:only-of-type {\n",
              "        vertical-align: middle;\n",
              "    }\n",
              "\n",
              "    .dataframe tbody tr th {\n",
              "        vertical-align: top;\n",
              "    }\n",
              "\n",
              "    .dataframe thead th {\n",
              "        text-align: right;\n",
              "    }\n",
              "</style>\n",
              "<table border=\"1\" class=\"dataframe\">\n",
              "  <thead>\n",
              "    <tr style=\"text-align: right;\">\n",
              "      <th></th>\n",
              "      <th></th>\n",
              "      <th>n_factors</th>\n",
              "      <th>units</th>\n",
              "      <th>epoch</th>\n",
              "      <th>ic_mean</th>\n",
              "      <th>ic_daily_mean</th>\n",
              "      <th>ic_daily_median</th>\n",
              "    </tr>\n",
              "    <tr>\n",
              "      <th>n_factors</th>\n",
              "      <th>units</th>\n",
              "      <th></th>\n",
              "      <th></th>\n",
              "      <th></th>\n",
              "      <th></th>\n",
              "      <th></th>\n",
              "      <th></th>\n",
              "    </tr>\n",
              "  </thead>\n",
              "  <tbody>\n",
              "    <tr>\n",
              "      <th>4</th>\n",
              "      <th>8</th>\n",
              "      <td>4</td>\n",
              "      <td>8</td>\n",
              "      <td>231</td>\n",
              "      <td>0.037049</td>\n",
              "      <td>0.013816</td>\n",
              "      <td>0.017496</td>\n",
              "    </tr>\n",
              "    <tr>\n",
              "      <th rowspan=\"4\" valign=\"top\">3</th>\n",
              "      <th>8</th>\n",
              "      <td>3</td>\n",
              "      <td>8</td>\n",
              "      <td>185</td>\n",
              "      <td>0.032385</td>\n",
              "      <td>0.012865</td>\n",
              "      <td>0.015756</td>\n",
              "    </tr>\n",
              "    <tr>\n",
              "      <th>8</th>\n",
              "      <td>3</td>\n",
              "      <td>8</td>\n",
              "      <td>178</td>\n",
              "      <td>0.037521</td>\n",
              "      <td>0.010901</td>\n",
              "      <td>0.015203</td>\n",
              "    </tr>\n",
              "    <tr>\n",
              "      <th>8</th>\n",
              "      <td>3</td>\n",
              "      <td>8</td>\n",
              "      <td>215</td>\n",
              "      <td>0.030807</td>\n",
              "      <td>0.004167</td>\n",
              "      <td>0.014856</td>\n",
              "    </tr>\n",
              "    <tr>\n",
              "      <th>8</th>\n",
              "      <td>3</td>\n",
              "      <td>8</td>\n",
              "      <td>174</td>\n",
              "      <td>0.031471</td>\n",
              "      <td>0.013959</td>\n",
              "      <td>0.014080</td>\n",
              "    </tr>\n",
              "  </tbody>\n",
              "</table>\n",
              "</div>\n",
              "      <button class=\"colab-df-convert\" onclick=\"convertToInteractive('df-ca2544bd-e1a4-47d8-8279-289b3a7bee30')\"\n",
              "              title=\"Convert this dataframe to an interactive table.\"\n",
              "              style=\"display:none;\">\n",
              "        \n",
              "  <svg xmlns=\"http://www.w3.org/2000/svg\" height=\"24px\"viewBox=\"0 0 24 24\"\n",
              "       width=\"24px\">\n",
              "    <path d=\"M0 0h24v24H0V0z\" fill=\"none\"/>\n",
              "    <path d=\"M18.56 5.44l.94 2.06.94-2.06 2.06-.94-2.06-.94-.94-2.06-.94 2.06-2.06.94zm-11 1L8.5 8.5l.94-2.06 2.06-.94-2.06-.94L8.5 2.5l-.94 2.06-2.06.94zm10 10l.94 2.06.94-2.06 2.06-.94-2.06-.94-.94-2.06-.94 2.06-2.06.94z\"/><path d=\"M17.41 7.96l-1.37-1.37c-.4-.4-.92-.59-1.43-.59-.52 0-1.04.2-1.43.59L10.3 9.45l-7.72 7.72c-.78.78-.78 2.05 0 2.83L4 21.41c.39.39.9.59 1.41.59.51 0 1.02-.2 1.41-.59l7.78-7.78 2.81-2.81c.8-.78.8-2.07 0-2.86zM5.41 20L4 18.59l7.72-7.72 1.47 1.35L5.41 20z\"/>\n",
              "  </svg>\n",
              "      </button>\n",
              "      \n",
              "  <style>\n",
              "    .colab-df-container {\n",
              "      display:flex;\n",
              "      flex-wrap:wrap;\n",
              "      gap: 12px;\n",
              "    }\n",
              "\n",
              "    .colab-df-convert {\n",
              "      background-color: #E8F0FE;\n",
              "      border: none;\n",
              "      border-radius: 50%;\n",
              "      cursor: pointer;\n",
              "      display: none;\n",
              "      fill: #1967D2;\n",
              "      height: 32px;\n",
              "      padding: 0 0 0 0;\n",
              "      width: 32px;\n",
              "    }\n",
              "\n",
              "    .colab-df-convert:hover {\n",
              "      background-color: #E2EBFA;\n",
              "      box-shadow: 0px 1px 2px rgba(60, 64, 67, 0.3), 0px 1px 3px 1px rgba(60, 64, 67, 0.15);\n",
              "      fill: #174EA6;\n",
              "    }\n",
              "\n",
              "    [theme=dark] .colab-df-convert {\n",
              "      background-color: #3B4455;\n",
              "      fill: #D2E3FC;\n",
              "    }\n",
              "\n",
              "    [theme=dark] .colab-df-convert:hover {\n",
              "      background-color: #434B5C;\n",
              "      box-shadow: 0px 1px 3px 1px rgba(0, 0, 0, 0.15);\n",
              "      filter: drop-shadow(0px 1px 2px rgba(0, 0, 0, 0.3));\n",
              "      fill: #FFFFFF;\n",
              "    }\n",
              "  </style>\n",
              "\n",
              "      <script>\n",
              "        const buttonEl =\n",
              "          document.querySelector('#df-ca2544bd-e1a4-47d8-8279-289b3a7bee30 button.colab-df-convert');\n",
              "        buttonEl.style.display =\n",
              "          google.colab.kernel.accessAllowed ? 'block' : 'none';\n",
              "\n",
              "        async function convertToInteractive(key) {\n",
              "          const element = document.querySelector('#df-ca2544bd-e1a4-47d8-8279-289b3a7bee30');\n",
              "          const dataTable =\n",
              "            await google.colab.kernel.invokeFunction('convertToInteractive',\n",
              "                                                     [key], {});\n",
              "          if (!dataTable) return;\n",
              "\n",
              "          const docLinkHtml = 'Like what you see? Visit the ' +\n",
              "            '<a target=\"_blank\" href=https://colab.research.google.com/notebooks/data_table.ipynb>data table notebook</a>'\n",
              "            + ' to learn more about interactive tables.';\n",
              "          element.innerHTML = '';\n",
              "          dataTable['output_type'] = 'display_data';\n",
              "          await google.colab.output.renderOutput(dataTable, element);\n",
              "          const docLink = document.createElement('div');\n",
              "          docLink.innerHTML = docLinkHtml;\n",
              "          element.appendChild(docLink);\n",
              "        }\n",
              "      </script>\n",
              "    </div>\n",
              "  </div>\n",
              "  "
            ]
          },
          "metadata": {},
          "execution_count": 50
        }
      ],
      "source": [
        "top = (avg.groupby(['n_factors', 'units'])\n",
        "       .apply(lambda x: x.nlargest(n=5, columns=['ic_daily_median']))\n",
        "       .reset_index(-1, drop=True))\n",
        "\n",
        "top.nlargest(n=5, columns=['ic_daily_median'])"
      ]
    },
    {
      "cell_type": "code",
      "execution_count": null,
      "metadata": {
        "ExecuteTime": {
          "end_time": "2021-02-24T21:42:05.316440Z",
          "start_time": "2021-02-24T21:42:03.450732Z"
        },
        "id": "TavrBsH0G6AM",
        "outputId": "6e7b79cb-f8d6-450c-b1e7-b7c11f88bc3f",
        "colab": {
          "base_uri": "https://localhost:8080/",
          "height": 377
        }
      },
      "outputs": [
        {
          "output_type": "display_data",
          "data": {
            "text/plain": [
              "<Figure size 2000x800 with 6 Axes>"
            ],
            "image/png": "[encoded data removed]"
          },
          "metadata": {}
        }
      ],
      "source": [
        "fig, axes = plt.subplots(ncols=3, nrows=2, figsize=(20, 8), sharey='row', sharex=True)\n",
        "\n",
        "for n in range(3, 5):\n",
        "    df = avg[avg.n_factors==n].pivot(index='epoch', columns='units', values='ic_mean')\n",
        "    df.rolling(10).mean().loc[:200].plot(ax=axes[0][n-2], lw=1, title=f'{n} Factors')\n",
        "    axes[0][n-2].axhline(0, ls='--', c='k', lw=1)\n",
        "    axes[0][n-2].get_legend().remove()\n",
        "    axes[0][n-2].set_ylabel('IC (10-epoch rolling mean)')\n",
        "\n",
        "    df = avg[avg.n_factors==n].pivot(index='epoch', columns='units', values='ic_daily_median')\n",
        "    df.rolling(10).mean().loc[:200].plot(ax=axes[1][n-2], lw=1)\n",
        "    axes[1][n-2].axhline(0, ls='--', c='k', lw=1)\n",
        "    axes[1][n-2].get_legend().remove()\n",
        "    axes[1][n-2].set_ylabel('IC, Daily Median (10-epoch rolling mean)')\n",
        "\n",
        "handles, labels = axes[0][0].get_legend_handles_labels()\n",
        "fig.legend(handles, labels, loc='center right', title='# Units')\n",
        "fig.suptitle('Cross-Validation Performance (2015-2019)', fontsize=16)\n",
        "fig.tight_layout()\n",
        "fig.subplots_adjust(top=.9)\n",
        "fig.savefig(results_path / 'cv_performance', dpi=300);"
      ]
    },
    {
      "cell_type": "markdown",
      "metadata": {
        "id": "ukS9TwYwG6AM"
      },
      "source": [
        "## Generate Predictions"
      ]
    },
    {
      "cell_type": "markdown",
      "metadata": {
        "id": "Sd7OSqCcG6AM"
      },
      "source": [
        "We'll average over a range of epochs that appears to deliver good predictions."
      ]
    },
    {
      "cell_type": "code",
      "execution_count": null,
      "metadata": {
        "ExecuteTime": {
          "end_time": "2021-02-25T02:20:39.334590Z",
          "start_time": "2021-02-25T02:20:39.328174Z"
        },
        "id": "n3Vz9AQpG6AN"
      },
      "outputs": [],
      "source": [
        "n_factors = 4\n",
        "units = 8\n",
        "batch_size = 16\n",
        "first_epoch = 50\n",
        "last_epoch = 80"
      ]
    },
    {
      "cell_type": "code",
      "execution_count": null,
      "metadata": {
        "ExecuteTime": {
          "end_time": "2021-02-25T02:53:07.097416Z",
          "start_time": "2021-02-25T02:20:39.526027Z"
        },
        "scrolled": false,
        "id": "kMpzmg5sG6AN",
        "outputId": "9aa4f777-0cba-44c0-afdc-a1f0c3022e2b",
        "colab": {
          "base_uri": "https://localhost:8080/"
        }
      },
      "outputs": [
        {
          "output_type": "stream",
          "name": "stderr",
          "text": [
            "\r  0%|          | 0/30 [00:00<?, ?it/s]"
          ]
        },
        {
          "output_type": "stream",
          "name": "stdout",
          "text": [
            "2/2 [==============================] - 0s 7ms/step\n",
            "2/2 [==============================] - 0s 11ms/step\n",
            "2/2 [==============================] - 0s 12ms/step\n"
          ]
        },
        {
          "output_type": "stream",
          "name": "stderr",
          "text": [
            "\r  3%|▎         | 1/30 [01:08<33:10, 68.65s/it]"
          ]
        },
        {
          "output_type": "stream",
          "name": "stdout",
          "text": [
            "2/2 [==============================] - 0s 8ms/step\n",
            "2/2 [==============================] - 0s 8ms/step\n",
            "2/2 [==============================] - 0s 8ms/step\n"
          ]
        },
        {
          "output_type": "stream",
          "name": "stderr",
          "text": [
            "\r  7%|▋         | 2/30 [02:07<29:22, 62.96s/it]"
          ]
        },
        {
          "output_type": "stream",
          "name": "stdout",
          "text": [
            "2/2 [==============================] - 0s 8ms/step\n",
            "2/2 [==============================] - 0s 10ms/step\n",
            "2/2 [==============================] - 0s 9ms/step\n"
          ]
        },
        {
          "output_type": "stream",
          "name": "stderr",
          "text": [
            "\r 10%|█         | 3/30 [03:06<27:31, 61.18s/it]"
          ]
        },
        {
          "output_type": "stream",
          "name": "stdout",
          "text": [
            "2/2 [==============================] - 0s 13ms/step\n",
            "2/2 [==============================] - 0s 8ms/step\n",
            "2/2 [==============================] - 0s 10ms/step\n"
          ]
        },
        {
          "output_type": "stream",
          "name": "stderr",
          "text": [
            "\r 13%|█▎        | 4/30 [04:06<26:13, 60.53s/it]"
          ]
        },
        {
          "output_type": "stream",
          "name": "stdout",
          "text": [
            "2/2 [==============================] - 0s 8ms/step\n",
            "2/2 [==============================] - 0s 8ms/step\n",
            "2/2 [==============================] - 0s 8ms/step\n"
          ]
        },
        {
          "output_type": "stream",
          "name": "stderr",
          "text": [
            "\r 17%|█▋        | 5/30 [05:04<24:54, 59.77s/it]"
          ]
        },
        {
          "output_type": "stream",
          "name": "stdout",
          "text": [
            "2/2 [==============================] - 0s 8ms/step\n",
            "2/2 [==============================] - 0s 8ms/step\n",
            "2/2 [==============================] - 0s 7ms/step\n"
          ]
        },
        {
          "output_type": "stream",
          "name": "stderr",
          "text": [
            "\r 20%|██        | 6/30 [06:05<24:02, 60.11s/it]"
          ]
        },
        {
          "output_type": "stream",
          "name": "stdout",
          "text": [
            "2/2 [==============================] - 0s 8ms/step\n",
            "2/2 [==============================] - 0s 9ms/step\n",
            "2/2 [==============================] - 0s 9ms/step\n"
          ]
        },
        {
          "output_type": "stream",
          "name": "stderr",
          "text": [
            "\r 23%|██▎       | 7/30 [07:05<22:58, 59.95s/it]"
          ]
        },
        {
          "output_type": "stream",
          "name": "stdout",
          "text": [
            "2/2 [==============================] - 0s 8ms/step\n",
            "2/2 [==============================] - 0s 8ms/step\n",
            "2/2 [==============================] - 0s 17ms/step\n"
          ]
        },
        {
          "output_type": "stream",
          "name": "stderr",
          "text": [
            "\r 27%|██▋       | 8/30 [08:06<22:11, 60.54s/it]"
          ]
        },
        {
          "output_type": "stream",
          "name": "stdout",
          "text": [
            "2/2 [==============================] - 0s 8ms/step\n",
            "2/2 [==============================] - 0s 7ms/step\n",
            "2/2 [==============================] - 0s 7ms/step\n"
          ]
        },
        {
          "output_type": "stream",
          "name": "stderr",
          "text": [
            "\r 30%|███       | 9/30 [09:02<20:40, 59.08s/it]"
          ]
        },
        {
          "output_type": "stream",
          "name": "stdout",
          "text": [
            "2/2 [==============================] - 0s 10ms/step\n",
            "2/2 [==============================] - 0s 9ms/step\n",
            "2/2 [==============================] - 0s 7ms/step\n"
          ]
        },
        {
          "output_type": "stream",
          "name": "stderr",
          "text": [
            "\r 33%|███▎      | 10/30 [10:03<19:51, 59.56s/it]"
          ]
        },
        {
          "output_type": "stream",
          "name": "stdout",
          "text": [
            "2/2 [==============================] - 0s 8ms/step\n",
            "2/2 [==============================] - 0s 8ms/step\n",
            "2/2 [==============================] - 0s 9ms/step\n"
          ]
        },
        {
          "output_type": "stream",
          "name": "stderr",
          "text": [
            "\r 37%|███▋      | 11/30 [11:07<19:18, 60.96s/it]"
          ]
        },
        {
          "output_type": "stream",
          "name": "stdout",
          "text": [
            "2/2 [==============================] - 0s 11ms/step\n",
            "2/2 [==============================] - 0s 7ms/step\n",
            "2/2 [==============================] - 0s 9ms/step\n"
          ]
        },
        {
          "output_type": "stream",
          "name": "stderr",
          "text": [
            "\r 40%|████      | 12/30 [12:05<18:01, 60.10s/it]"
          ]
        },
        {
          "output_type": "stream",
          "name": "stdout",
          "text": [
            "2/2 [==============================] - 0s 8ms/step\n",
            "2/2 [==============================] - 0s 9ms/step\n",
            "2/2 [==============================] - 0s 8ms/step\n"
          ]
        },
        {
          "output_type": "stream",
          "name": "stderr",
          "text": [
            "\r 43%|████▎     | 13/30 [13:08<17:15, 60.90s/it]"
          ]
        },
        {
          "output_type": "stream",
          "name": "stdout",
          "text": [
            "2/2 [==============================] - 0s 8ms/step\n",
            "2/2 [==============================] - 0s 10ms/step\n",
            "2/2 [==============================] - 0s 8ms/step\n"
          ]
        },
        {
          "output_type": "stream",
          "name": "stderr",
          "text": [
            "\r 47%|████▋     | 14/30 [14:15<16:44, 62.79s/it]"
          ]
        },
        {
          "output_type": "stream",
          "name": "stdout",
          "text": [
            "2/2 [==============================] - 0s 9ms/step\n",
            "2/2 [==============================] - 0s 8ms/step\n",
            "2/2 [==============================] - 0s 10ms/step\n"
          ]
        },
        {
          "output_type": "stream",
          "name": "stderr",
          "text": [
            "\r 50%|█████     | 15/30 [15:19<15:49, 63.30s/it]"
          ]
        },
        {
          "output_type": "stream",
          "name": "stdout",
          "text": [
            "2/2 [==============================] - 0s 9ms/step\n",
            "2/2 [==============================] - 0s 8ms/step\n",
            "2/2 [==============================] - 0s 9ms/step\n"
          ]
        },
        {
          "output_type": "stream",
          "name": "stderr",
          "text": [
            "\r 53%|█████▎    | 16/30 [16:25<14:55, 63.95s/it]"
          ]
        },
        {
          "output_type": "stream",
          "name": "stdout",
          "text": [
            "2/2 [==============================] - 0s 9ms/step\n",
            "2/2 [==============================] - 0s 8ms/step\n",
            "2/2 [==============================] - 0s 8ms/step\n"
          ]
        },
        {
          "output_type": "stream",
          "name": "stderr",
          "text": [
            "\r 57%|█████▋    | 17/30 [17:27<13:42, 63.30s/it]"
          ]
        },
        {
          "output_type": "stream",
          "name": "stdout",
          "text": [
            "2/2 [==============================] - 0s 8ms/step\n",
            "2/2 [==============================] - 0s 7ms/step\n",
            "2/2 [==============================] - 0s 9ms/step\n"
          ]
        },
        {
          "output_type": "stream",
          "name": "stderr",
          "text": [
            "\r 60%|██████    | 18/30 [18:34<12:55, 64.59s/it]"
          ]
        },
        {
          "output_type": "stream",
          "name": "stdout",
          "text": [
            "2/2 [==============================] - 0s 8ms/step\n",
            "2/2 [==============================] - 0s 9ms/step\n",
            "2/2 [==============================] - 0s 11ms/step\n"
          ]
        },
        {
          "output_type": "stream",
          "name": "stderr",
          "text": [
            "\r 63%|██████▎   | 19/30 [19:45<12:09, 66.36s/it]"
          ]
        },
        {
          "output_type": "stream",
          "name": "stdout",
          "text": [
            "2/2 [==============================] - 0s 7ms/step\n",
            "2/2 [==============================] - 0s 9ms/step\n",
            "2/2 [==============================] - 0s 7ms/step\n"
          ]
        },
        {
          "output_type": "stream",
          "name": "stderr",
          "text": [
            "\r 67%|██████▋   | 20/30 [20:53<11:08, 66.85s/it]"
          ]
        },
        {
          "output_type": "stream",
          "name": "stdout",
          "text": [
            "2/2 [==============================] - 0s 9ms/step\n",
            "2/2 [==============================] - 0s 9ms/step\n",
            "2/2 [==============================] - 0s 11ms/step\n"
          ]
        },
        {
          "output_type": "stream",
          "name": "stderr",
          "text": [
            "\r 70%|███████   | 21/30 [22:00<10:02, 66.91s/it]"
          ]
        },
        {
          "output_type": "stream",
          "name": "stdout",
          "text": [
            "2/2 [==============================] - 0s 9ms/step\n",
            "2/2 [==============================] - 0s 9ms/step\n",
            "2/2 [==============================] - 0s 8ms/step\n"
          ]
        },
        {
          "output_type": "stream",
          "name": "stderr",
          "text": [
            "\r 73%|███████▎  | 22/30 [23:10<09:02, 67.82s/it]"
          ]
        },
        {
          "output_type": "stream",
          "name": "stdout",
          "text": [
            "2/2 [==============================] - 0s 9ms/step\n",
            "2/2 [==============================] - 0s 8ms/step\n",
            "2/2 [==============================] - 0s 8ms/step\n"
          ]
        },
        {
          "output_type": "stream",
          "name": "stderr",
          "text": [
            "\r 77%|███████▋  | 23/30 [24:18<07:56, 68.08s/it]"
          ]
        },
        {
          "output_type": "stream",
          "name": "stdout",
          "text": [
            "2/2 [==============================] - 0s 8ms/step\n",
            "2/2 [==============================] - 0s 15ms/step\n",
            "2/2 [==============================] - 0s 8ms/step\n"
          ]
        },
        {
          "output_type": "stream",
          "name": "stderr",
          "text": [
            "\r 80%|████████  | 24/30 [25:29<06:52, 68.70s/it]"
          ]
        },
        {
          "output_type": "stream",
          "name": "stdout",
          "text": [
            "2/2 [==============================] - 0s 14ms/step\n",
            "2/2 [==============================] - 0s 14ms/step\n",
            "2/2 [==============================] - 0s 7ms/step\n"
          ]
        },
        {
          "output_type": "stream",
          "name": "stderr",
          "text": [
            "\r 83%|████████▎ | 25/30 [26:39<05:46, 69.34s/it]"
          ]
        },
        {
          "output_type": "stream",
          "name": "stdout",
          "text": [
            "2/2 [==============================] - 0s 7ms/step\n",
            "2/2 [==============================] - 0s 8ms/step\n",
            "2/2 [==============================] - 0s 10ms/step\n"
          ]
        },
        {
          "output_type": "stream",
          "name": "stderr",
          "text": [
            "\r 87%|████████▋ | 26/30 [28:10<05:03, 75.80s/it]"
          ]
        },
        {
          "output_type": "stream",
          "name": "stdout",
          "text": [
            "2/2 [==============================] - 0s 8ms/step\n",
            "2/2 [==============================] - 0s 12ms/step\n",
            "2/2 [==============================] - 0s 8ms/step\n"
          ]
        },
        {
          "output_type": "stream",
          "name": "stderr",
          "text": [
            "\r 90%|█████████ | 27/30 [29:22<03:43, 74.58s/it]"
          ]
        },
        {
          "output_type": "stream",
          "name": "stdout",
          "text": [
            "2/2 [==============================] - 0s 8ms/step\n",
            "2/2 [==============================] - 0s 9ms/step\n",
            "2/2 [==============================] - 0s 7ms/step\n"
          ]
        },
        {
          "output_type": "stream",
          "name": "stderr",
          "text": [
            "\r 93%|█████████▎| 28/30 [30:54<02:39, 79.86s/it]"
          ]
        },
        {
          "output_type": "stream",
          "name": "stdout",
          "text": [
            "2/2 [==============================] - 0s 8ms/step\n",
            "2/2 [==============================] - 0s 8ms/step\n",
            "2/2 [==============================] - 0s 7ms/step\n"
          ]
        },
        {
          "output_type": "stream",
          "name": "stderr",
          "text": [
            "\r 97%|█████████▋| 29/30 [33:07<01:35, 95.78s/it]"
          ]
        },
        {
          "output_type": "stream",
          "name": "stdout",
          "text": [
            "2/2 [==============================] - 0s 9ms/step\n",
            "2/2 [==============================] - 0s 8ms/step\n",
            "2/2 [==============================] - 0s 8ms/step\n"
          ]
        },
        {
          "output_type": "stream",
          "name": "stderr",
          "text": [
            "100%|██████████| 30/30 [35:00<00:00, 70.00s/it] \n"
          ]
        }
      ],
      "source": [
        "predictions = []\n",
        "for epoch in tqdm(list(range(first_epoch, last_epoch))):\n",
        "    epoch_preds = []\n",
        "    for fold, (train_idx, val_idx) in enumerate(cv.split(data)):\n",
        "        X1_train, X2_train, y_train, X1_val, X2_val, y_val = get_train_valid_data(data,\n",
        "                                                                                  train_idx,\n",
        "                                                                                  val_idx)\n",
        "        model.fit([X1_train, X2_train], y_train,\n",
        "                  batch_size=batch_size,\n",
        "                  epochs=epoch,\n",
        "                  verbose=0,\n",
        "                  shuffle=True)\n",
        "        epoch_preds.append(pd.Series(model.predict([X1_val, X2_val]).reshape(-1),\n",
        "                                     index=y_val.stack().index).to_frame(epoch))\n",
        "\n",
        "    predictions.append(pd.concat(epoch_preds))"
      ]
    },
    {
      "cell_type": "code",
      "execution_count": null,
      "metadata": {
        "ExecuteTime": {
          "end_time": "2021-02-24T22:56:10.170667Z",
          "start_time": "2021-02-24T22:56:05.415887Z"
        },
        "id": "xsQnA28qG6AN"
      },
      "outputs": [],
      "source": [
        "predictions_combined = pd.concat(predictions, axis=1).sort_index()   "
      ]
    },
    {
      "cell_type": "code",
      "execution_count": null,
      "metadata": {
        "ExecuteTime": {
          "end_time": "2021-02-24T22:56:10.236001Z",
          "start_time": "2021-02-24T22:56:10.171537Z"
        },
        "id": "0uMWaNvzG6AN",
        "outputId": "216ed910-6677-403d-84ce-ded4e206ca36",
        "colab": {
          "base_uri": "https://localhost:8080/"
        }
      },
      "outputs": [
        {
          "output_type": "stream",
          "name": "stdout",
          "text": [
            "<class 'pandas.core.frame.DataFrame'>\n",
            "MultiIndex: 596700 entries, (Timestamp('2017-01-06 00:00:00'), 'A') to (Timestamp('2019-12-27 00:00:00'), 'ZYXI')\n",
            "Data columns (total 30 columns):\n",
            " #   Column  Non-Null Count   Dtype  \n",
            "---  ------  --------------   -----  \n",
            " 0   50      596700 non-null  float32\n",
            " 1   51      596700 non-null  float32\n",
            " 2   52      596700 non-null  float32\n",
            " 3   53      596700 non-null  float32\n",
            " 4   54      596700 non-null  float32\n",
            " 5   55      596700 non-null  float32\n",
            " 6   56      596700 non-null  float32\n",
            " 7   57      596700 non-null  float32\n",
            " 8   58      596700 non-null  float32\n",
            " 9   59      596700 non-null  float32\n",
            " 10  60      596700 non-null  float32\n",
            " 11  61      596700 non-null  float32\n",
            " 12  62      596700 non-null  float32\n",
            " 13  63      596700 non-null  float32\n",
            " 14  64      596700 non-null  float32\n",
            " 15  65      596700 non-null  float32\n",
            " 16  66      596700 non-null  float32\n",
            " 17  67      596700 non-null  float32\n",
            " 18  68      596700 non-null  float32\n",
            " 19  69      596700 non-null  float32\n",
            " 20  70      596700 non-null  float32\n",
            " 21  71      596700 non-null  float32\n",
            " 22  72      596700 non-null  float32\n",
            " 23  73      596700 non-null  float32\n",
            " 24  74      596700 non-null  float32\n",
            " 25  75      596700 non-null  float32\n",
            " 26  76      596700 non-null  float32\n",
            " 27  77      596700 non-null  float32\n",
            " 28  78      596700 non-null  float32\n",
            " 29  79      596700 non-null  float32\n",
            "dtypes: float32(30)\n",
            "memory usage: 70.7+ MB\n"
          ]
        }
      ],
      "source": [
        "predictions_combined.info()"
      ]
    },
    {
      "cell_type": "code",
      "execution_count": null,
      "metadata": {
        "ExecuteTime": {
          "end_time": "2021-02-24T22:56:10.394903Z",
          "start_time": "2021-02-24T22:56:10.236930Z"
        },
        "id": "mV0rDdJsG6AN"
      },
      "outputs": [],
      "source": [
        "predictions_combined.to_hdf(results_path / 'predictions.h5', 'predictions')"
      ]
    },
    {
      "cell_type": "code",
      "source": [],
      "metadata": {
        "id": "3bJuKgM2tVBv"
      },
      "execution_count": null,
      "outputs": []
    }
  ],
  "metadata": {
    "kernelspec": {
      "display_name": "Python 3",
      "language": "python",
      "name": "python3"
    },
    "language_info": {
      "codemirror_mode": {
        "name": "ipython",
        "version": 3
      },
      "file_extension": ".py",
      "mimetype": "text/x-python",
      "name": "python",
      "nbconvert_exporter": "python",
      "pygments_lexer": "ipython3",
      "version": "3.8.8"
    },
    "toc": {
      "base_numbering": 1,
      "nav_menu": {},
      "number_sections": true,
      "sideBar": true,
      "skip_h1_title": true,
      "title_cell": "Table of Contents",
      "title_sidebar": "Contents",
      "toc_cell": false,
      "toc_position": {
        "height": "calc(100% - 180px)",
        "left": "10px",
        "top": "150px",
        "width": "304px"
      },
      "toc_section_display": true,
      "toc_window_display": true
    },
    "colab": {
      "provenance": [],
      "collapsed_sections": [
        "ntThvUmmHWNQ"
      ]
    },
    "gpuClass": "standard"
  },
  "nbformat": 4,
  "nbformat_minor": 0
}