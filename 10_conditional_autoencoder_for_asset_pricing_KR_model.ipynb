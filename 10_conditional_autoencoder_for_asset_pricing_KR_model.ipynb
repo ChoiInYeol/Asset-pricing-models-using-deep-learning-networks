{
  "cells": [
    {
      "attachments": {},
      "cell_type": "markdown",
      "metadata": {
        "id": "1eVwN96NG6AD"
      },
      "source": [
        "# Conditional Autoencoder for Asset Pricing - Part 2: The Model"
      ]
    },
    {
      "attachments": {},
      "cell_type": "markdown",
      "metadata": {
        "id": "qj0ahGMNG6AE"
      },
      "source": [
        "This notebook uses a dataset created using `yfinance` in the notebook [conditional_autoencoder_for_asset_pricing_data](05_conditional_autoencoder_for_asset_pricing_data.ipynb). The results will vary depending on which ticker downloads succeeded."
      ]
    },
    {
      "attachments": {},
      "cell_type": "markdown",
      "metadata": {},
      "source": [
        "### if Colab"
      ]
    },
    {
      "cell_type": "code",
      "execution_count": 11,
      "metadata": {},
      "outputs": [
        {
          "name": "stdout",
          "output_type": "stream",
          "text": [
            "Not running on Colab\n"
          ]
        }
      ],
      "source": [
        "import os\n",
        "\n",
        "if 'COLAB_GPU' in os.environ:\n",
        "    print(\"Running on Colab\")\n",
        "    from google.colab import drive\n",
        "    drive.mount('/content/drive')\n",
        "    # Get the current working directory\n",
        "    path = os.getcwd()\n",
        "    # Print the path\n",
        "    print(\"Current Path:\", path)\n",
        "    # 이동할 디렉토리 경로\n",
        "    path = '/content/drive/MyDrive/Colab Notebooks'\n",
        "    # 디렉토리 변경\n",
        "    os.chdir(path)\n",
        "else:\n",
        "    print(\"Not running on Colab\")"
      ]
    },
    {
      "cell_type": "code",
      "execution_count": 12,
      "metadata": {
        "ExecuteTime": {
          "end_time": "2021-02-25T02:19:34.605450Z",
          "start_time": "2021-02-25T02:19:34.603752Z"
        },
        "id": "frjNW8ZuG6AE"
      },
      "outputs": [],
      "source": [
        "import warnings\n",
        "warnings.filterwarnings('ignore')"
      ]
    },
    {
      "cell_type": "code",
      "execution_count": 13,
      "metadata": {
        "ExecuteTime": {
          "end_time": "2021-02-25T02:19:36.827983Z",
          "start_time": "2021-02-25T02:19:34.779105Z"
        },
        "id": "tOutZnArG6AE"
      },
      "outputs": [],
      "source": [
        "import sys, os\n",
        "from time import time\n",
        "from pathlib import Path\n",
        "from itertools import product\n",
        "from tqdm import tqdm \n",
        "\n",
        "import numpy as np\n",
        "import pandas as pd\n",
        "\n",
        "import matplotlib.pyplot as plt\n",
        "import seaborn as sns\n",
        "\n",
        "import tensorflow as tf\n",
        "from tensorflow.keras.layers import Input, Dense, Dot, Reshape, BatchNormalization\n",
        "from tensorflow.keras.models import Model\n",
        "from tensorflow.keras.callbacks import TensorBoard\n",
        "\n",
        "from sklearn.preprocessing import quantile_transform\n",
        "\n",
        "from scipy.stats import spearmanr"
      ]
    },
    {
      "cell_type": "code",
      "execution_count": 14,
      "metadata": {
        "ExecuteTime": {
          "end_time": "2021-02-25T02:19:36.921304Z",
          "start_time": "2021-02-25T02:19:36.829045Z"
        },
        "colab": {
          "base_uri": "https://localhost:8080/"
        },
        "id": "UO1YJSZ9G6AE",
        "outputId": "859567b3-0a0f-4563-b7d6-74f0e065c8f7"
      },
      "outputs": [
        {
          "name": "stdout",
          "output_type": "stream",
          "text": [
            "Using GPU\n"
          ]
        }
      ],
      "source": [
        "gpu_devices = tf.config.experimental.list_physical_devices('GPU')\n",
        "if gpu_devices:\n",
        "    print('Using GPU')\n",
        "    tf.config.experimental.set_memory_growth(gpu_devices[0], True)\n",
        "else:\n",
        "    print('Using CPU')"
      ]
    },
    {
      "cell_type": "code",
      "execution_count": 15,
      "metadata": {},
      "outputs": [],
      "source": [
        "sys.path.insert(1, os.path.join(sys.path[0], '..'))\n",
        "from utils import MultipleTimeSeriesCV, format_time"
      ]
    },
    {
      "cell_type": "code",
      "execution_count": 16,
      "metadata": {
        "ExecuteTime": {
          "end_time": "2021-02-25T02:19:36.941712Z",
          "start_time": "2021-02-25T02:19:36.937278Z"
        },
        "id": "Y4FheCqQG6AF"
      },
      "outputs": [],
      "source": [
        "idx = pd.IndexSlice\n",
        "sns.set_style('whitegrid')\n",
        "np.random.seed(42)"
      ]
    },
    {
      "cell_type": "code",
      "execution_count": 17,
      "metadata": {
        "ExecuteTime": {
          "end_time": "2021-02-25T02:19:37.833897Z",
          "start_time": "2021-02-25T02:19:37.830039Z"
        },
        "id": "58RNH46yG6AF"
      },
      "outputs": [],
      "source": [
        "results_path = Path('KR2_results', 'asset_pricing')\n",
        "if not results_path.exists():\n",
        "    results_path.mkdir(parents=True)"
      ]
    },
    {
      "cell_type": "code",
      "execution_count": 18,
      "metadata": {
        "ExecuteTime": {
          "end_time": "2021-02-25T02:19:38.033251Z",
          "start_time": "2021-02-25T02:19:38.027838Z"
        },
        "id": "GkbXEVVdG6AF"
      },
      "outputs": [],
      "source": [
        "characteristics = ['beta', 'betasq', 'chmom', 'dolvol', 'idiovol', 'ill', 'indmom',\n",
        "                   'maxret', 'mom12m', 'mom1m', 'mom36m', 'mvel', 'retvol', 'turn', 'turn_std']"
      ]
    },
    {
      "attachments": {},
      "cell_type": "markdown",
      "metadata": {
        "id": "IglpRJCpG6AG"
      },
      "source": [
        "## Load Data"
      ]
    },
    {
      "cell_type": "code",
      "execution_count": 19,
      "metadata": {
        "ExecuteTime": {
          "end_time": "2021-02-24T18:50:13.572501Z",
          "start_time": "2021-02-24T18:50:13.512736Z"
        },
        "colab": {
          "base_uri": "https://localhost:8080/"
        },
        "id": "CLrJcRaXG6AG",
        "outputId": "d178afdb-e492-4cbb-9bce-6ff9395fca85"
      },
      "outputs": [
        {
          "name": "stdout",
          "output_type": "stream",
          "text": [
            "<class 'pandas.io.pytables.HDFStore'>\n",
            "File path: KR2_results\\asset_pricing\\autoencoder.h5\n",
            "/close                      frame        (shape->[5911,824])\n",
            "/factor/beta                frame        (shape->[636412,1])\n",
            "/factor/betasq              frame        (shape->[636412,1])\n",
            "/factor/chmom               frame        (shape->[719304,1])\n",
            "/factor/dolvol              frame        (shape->[751641,1])\n",
            "/factor/idiovol             frame        (shape->[636412,1])\n",
            "/factor/ill                 frame        (shape->[610638,1])\n",
            "/factor/indmom              frame        (shape->[741818,1])\n",
            "/factor/maxret              frame        (shape->[754438,1])\n",
            "/factor/mom12m              frame        (shape->[719304,1])\n",
            "/factor/mom1m               series       (shape->[757803])  \n",
            "/factor/mom36m              frame        (shape->[636856,1])\n",
            "/factor/mvel                frame        (shape->[761233,1])\n",
            "/factor/retvol              frame        (shape->[757803,1])\n",
            "/factor/turn                frame        (shape->[745530,1])\n",
            "/factor/turn_std            frame        (shape->[755072,1])\n",
            "/metadata                   frame        (shape->[1,3])     \n",
            "/returns                    frame        (shape->[1229,824])\n",
            "/volume                     frame        (shape->[5911,824])\n"
          ]
        }
      ],
      "source": [
        "with pd.HDFStore(results_path / 'autoencoder.h5') as store:\n",
        "    print(store.info())"
      ]
    },
    {
      "attachments": {},
      "cell_type": "markdown",
      "metadata": {
        "id": "j4e2kMyKG6AG"
      },
      "source": [
        "### Weekly returns"
      ]
    },
    {
      "cell_type": "code",
      "execution_count": 29,
      "metadata": {
        "ExecuteTime": {
          "end_time": "2021-02-25T01:26:06.206795Z",
          "start_time": "2021-02-25T01:26:04.882874Z"
        },
        "id": "O9jSRvG_G6AG"
      },
      "outputs": [],
      "source": [
        "data = (pd.read_hdf(results_path / 'autoencoder.h5', 'returns')\n",
        "        .stack(dropna=False)\n",
        "        .to_frame('returns')\n",
        "        .loc[idx['2000':, :], :])\n",
        "\n",
        "# 램 문제 발생으로 인한 1993 -> 2013"
      ]
    },
    {
      "cell_type": "code",
      "execution_count": null,
      "metadata": {
        "ExecuteTime": {
          "end_time": "2021-02-25T01:31:04.871050Z",
          "start_time": "2021-02-25T01:26:29.547812Z"
        },
        "id": "oQeFh3FQG6AG"
      },
      "outputs": [],
      "source": [
        "with pd.HDFStore(results_path / 'autoencoder.h5') as store:\n",
        "    keys = [k[1:] for k in store.keys() if k[1:].startswith('factor')]\n",
        "    for key in keys:\n",
        "        data[key.split('/')[-1]] = store[key].squeeze()"
      ]
    },
    {
      "cell_type": "code",
      "execution_count": 22,
      "metadata": {
        "ExecuteTime": {
          "end_time": "2021-02-25T01:31:05.500857Z",
          "start_time": "2021-02-25T01:31:04.872471Z"
        },
        "id": "O88_kIdqG6AG"
      },
      "outputs": [],
      "source": [
        "characteristics = data.drop('returns', axis=1).columns.tolist()"
      ]
    },
    {
      "cell_type": "code",
      "execution_count": 23,
      "metadata": {
        "ExecuteTime": {
          "end_time": "2021-02-25T01:31:20.675618Z",
          "start_time": "2021-02-25T01:31:05.506982Z"
        },
        "id": "AckyPRVfG6AG"
      },
      "outputs": [],
      "source": [
        "data['returns_fwd'] = data.returns.unstack('ticker').shift(-1).stack()"
      ]
    },
    {
      "cell_type": "code",
      "execution_count": 26,
      "metadata": {
        "ExecuteTime": {
          "end_time": "2021-02-25T01:31:21.117546Z",
          "start_time": "2021-02-25T01:31:20.677182Z"
        },
        "colab": {
          "base_uri": "https://localhost:8080/"
        },
        "id": "wsPwsDDXG6AG",
        "outputId": "a7b4e7e0-b298-426b-a6bc-216d9d67ee48"
      },
      "outputs": [
        {
          "name": "stdout",
          "output_type": "stream",
          "text": [
            "<class 'pandas.core.frame.DataFrame'>\n",
            "MultiIndex: 1012696 entries, (Timestamp('2000-01-14 00:00:00'), '005930.KS') to (Timestamp('2023-07-28 00:00:00'), '001525.KS')\n",
            "Data columns (total 6 columns):\n",
            " #   Column       Non-Null Count   Dtype  \n",
            "---  ------       --------------   -----  \n",
            " 0   returns      761164 non-null  float64\n",
            " 1   beta         636412 non-null  float64\n",
            " 2   betasq       636412 non-null  float64\n",
            " 3   chmom        719304 non-null  float64\n",
            " 4   dolvol       751641 non-null  float64\n",
            " 5   returns_fwd  760805 non-null  float64\n",
            "dtypes: float64(6)\n",
            "memory usage: 50.3+ MB\n"
          ]
        }
      ],
      "source": [
        "data.info()"
      ]
    },
    {
      "cell_type": "code",
      "execution_count": 27,
      "metadata": {
        "ExecuteTime": {
          "end_time": "2021-02-24T18:52:55.851733Z",
          "start_time": "2021-02-24T18:52:54.472212Z"
        },
        "id": "CJxw4oxSG6AH"
      },
      "outputs": [],
      "source": [
        "nobs_by_date = data.groupby(level='date').count().max(1)\n",
        "nobs_by_characteristic = pd.melt(data[characteristics].groupby(level='date').count(),\n",
        "                                 value_name='# Observations',\n",
        "                                 var_name=['Characteristic'])"
      ]
    },
    {
      "attachments": {},
      "cell_type": "markdown",
      "metadata": {},
      "source": [
        "### 주식 개수, Beta 개수"
      ]
    },
    {
      "cell_type": "code",
      "execution_count": 28,
      "metadata": {
        "ExecuteTime": {
          "end_time": "2021-02-24T18:52:56.259184Z",
          "start_time": "2021-02-24T18:52:55.852633Z"
        },
        "colab": {
          "base_uri": "https://localhost:8080/",
          "height": 407
        },
        "id": "b22VkMUwG6AH",
        "outputId": "1353b7c5-045a-41cc-b876-775723f715b7"
      },
      "outputs": [
        {
          "data": {
            "image/png": "[encoded data removed]",
            "text/plain": [
              "<Figure size 1400x400 with 2 Axes>"
            ]
          },
          "metadata": {},
          "output_type": "display_data"
        }
      ],
      "source": [
        "with sns.axes_style(\"white\"):\n",
        "    fig, axes = plt.subplots(ncols=2, figsize=(14, 4))\n",
        "    sns.distplot(nobs_by_date, kde=False, ax=axes[0], bins=30)\n",
        "    axes[0].set_title('# of Stocks per Week')\n",
        "    axes[0].set_xlabel('# of Observations')\n",
        "    sns.boxplot(x='Characteristic',\n",
        "                y='# Observations',\n",
        "                data=nobs_by_characteristic,\n",
        "                ax=axes[1],\n",
        "                palette='Blues')\n",
        "    axes[1].set_xticklabels(axes[1].get_xticklabels(),\n",
        "                            rotation=25,\n",
        "                            ha='right')\n",
        "    axes[1].set_title('# of Observation per Stock Characteristic')\n",
        "    sns.despine()\n",
        "    fig.tight_layout()\n",
        "    # fig.savefig(results_path / 'of Stocks per Week', dpi=600)"
      ]
    },
    {
      "cell_type": "code",
      "execution_count": 247,
      "metadata": {},
      "outputs": [
        {
          "data": {
            "text/html": [
              "<div>\n",
              "<style scoped>\n",
              "    .dataframe tbody tr th:only-of-type {\n",
              "        vertical-align: middle;\n",
              "    }\n",
              "\n",
              "    .dataframe tbody tr th {\n",
              "        vertical-align: top;\n",
              "    }\n",
              "\n",
              "    .dataframe thead th {\n",
              "        text-align: right;\n",
              "    }\n",
              "</style>\n",
              "<table border=\"1\" class=\"dataframe\">\n",
              "  <thead>\n",
              "    <tr style=\"text-align: right;\">\n",
              "      <th></th>\n",
              "      <th>Characteristic</th>\n",
              "      <th># Observations</th>\n",
              "    </tr>\n",
              "  </thead>\n",
              "  <tbody>\n",
              "    <tr>\n",
              "      <th>0</th>\n",
              "      <td>beta</td>\n",
              "      <td>0</td>\n",
              "    </tr>\n",
              "    <tr>\n",
              "      <th>1</th>\n",
              "      <td>beta</td>\n",
              "      <td>0</td>\n",
              "    </tr>\n",
              "    <tr>\n",
              "      <th>2</th>\n",
              "      <td>beta</td>\n",
              "      <td>0</td>\n",
              "    </tr>\n",
              "    <tr>\n",
              "      <th>3</th>\n",
              "      <td>beta</td>\n",
              "      <td>0</td>\n",
              "    </tr>\n",
              "    <tr>\n",
              "      <th>4</th>\n",
              "      <td>beta</td>\n",
              "      <td>0</td>\n",
              "    </tr>\n",
              "    <tr>\n",
              "      <th>...</th>\n",
              "      <td>...</td>\n",
              "      <td>...</td>\n",
              "    </tr>\n",
              "    <tr>\n",
              "      <th>18265</th>\n",
              "      <td>turn_std</td>\n",
              "      <td>853</td>\n",
              "    </tr>\n",
              "    <tr>\n",
              "      <th>18266</th>\n",
              "      <td>turn_std</td>\n",
              "      <td>854</td>\n",
              "    </tr>\n",
              "    <tr>\n",
              "      <th>18267</th>\n",
              "      <td>turn_std</td>\n",
              "      <td>856</td>\n",
              "    </tr>\n",
              "    <tr>\n",
              "      <th>18268</th>\n",
              "      <td>turn_std</td>\n",
              "      <td>856</td>\n",
              "    </tr>\n",
              "    <tr>\n",
              "      <th>18269</th>\n",
              "      <td>turn_std</td>\n",
              "      <td>856</td>\n",
              "    </tr>\n",
              "  </tbody>\n",
              "</table>\n",
              "<p>18270 rows × 2 columns</p>\n",
              "</div>"
            ],
            "text/plain": [
              "      Characteristic  # Observations\n",
              "0               beta               0\n",
              "1               beta               0\n",
              "2               beta               0\n",
              "3               beta               0\n",
              "4               beta               0\n",
              "...              ...             ...\n",
              "18265       turn_std             853\n",
              "18266       turn_std             854\n",
              "18267       turn_std             856\n",
              "18268       turn_std             856\n",
              "18269       turn_std             856\n",
              "\n",
              "[18270 rows x 2 columns]"
            ]
          },
          "execution_count": 247,
          "metadata": {},
          "output_type": "execute_result"
        }
      ],
      "source": [
        "nobs_by_characteristic"
      ]
    },
    {
      "cell_type": "code",
      "execution_count": 248,
      "metadata": {},
      "outputs": [
        {
          "data": {
            "text/html": [
              "<div>\n",
              "<style scoped>\n",
              "    .dataframe tbody tr th:only-of-type {\n",
              "        vertical-align: middle;\n",
              "    }\n",
              "\n",
              "    .dataframe tbody tr th {\n",
              "        vertical-align: top;\n",
              "    }\n",
              "\n",
              "    .dataframe thead th {\n",
              "        text-align: right;\n",
              "    }\n",
              "</style>\n",
              "<table border=\"1\" class=\"dataframe\">\n",
              "  <thead>\n",
              "    <tr style=\"text-align: right;\">\n",
              "      <th></th>\n",
              "      <th>Characteristic</th>\n",
              "      <th># Observations</th>\n",
              "    </tr>\n",
              "  </thead>\n",
              "  <tbody>\n",
              "    <tr>\n",
              "      <th>17052</th>\n",
              "      <td>turn_std</td>\n",
              "      <td>0</td>\n",
              "    </tr>\n",
              "    <tr>\n",
              "      <th>17054</th>\n",
              "      <td>turn_std</td>\n",
              "      <td>0</td>\n",
              "    </tr>\n",
              "    <tr>\n",
              "      <th>17977</th>\n",
              "      <td>turn_std</td>\n",
              "      <td>0</td>\n",
              "    </tr>\n",
              "    <tr>\n",
              "      <th>17053</th>\n",
              "      <td>turn_std</td>\n",
              "      <td>0</td>\n",
              "    </tr>\n",
              "    <tr>\n",
              "      <th>17055</th>\n",
              "      <td>turn_std</td>\n",
              "      <td>378</td>\n",
              "    </tr>\n",
              "    <tr>\n",
              "      <th>...</th>\n",
              "      <td>...</td>\n",
              "      <td>...</td>\n",
              "    </tr>\n",
              "    <tr>\n",
              "      <th>18261</th>\n",
              "      <td>turn_std</td>\n",
              "      <td>853</td>\n",
              "    </tr>\n",
              "    <tr>\n",
              "      <th>18266</th>\n",
              "      <td>turn_std</td>\n",
              "      <td>854</td>\n",
              "    </tr>\n",
              "    <tr>\n",
              "      <th>18268</th>\n",
              "      <td>turn_std</td>\n",
              "      <td>856</td>\n",
              "    </tr>\n",
              "    <tr>\n",
              "      <th>18267</th>\n",
              "      <td>turn_std</td>\n",
              "      <td>856</td>\n",
              "    </tr>\n",
              "    <tr>\n",
              "      <th>18269</th>\n",
              "      <td>turn_std</td>\n",
              "      <td>856</td>\n",
              "    </tr>\n",
              "  </tbody>\n",
              "</table>\n",
              "<p>1218 rows × 2 columns</p>\n",
              "</div>"
            ],
            "text/plain": [
              "      Characteristic  # Observations\n",
              "17052       turn_std               0\n",
              "17054       turn_std               0\n",
              "17977       turn_std               0\n",
              "17053       turn_std               0\n",
              "17055       turn_std             378\n",
              "...              ...             ...\n",
              "18261       turn_std             853\n",
              "18266       turn_std             854\n",
              "18268       turn_std             856\n",
              "18267       turn_std             856\n",
              "18269       turn_std             856\n",
              "\n",
              "[1218 rows x 2 columns]"
            ]
          },
          "execution_count": 248,
          "metadata": {},
          "output_type": "execute_result"
        }
      ],
      "source": [
        "nobs_by_characteristic[nobs_by_characteristic[\"Characteristic\"] == \"turn_std\"].sort_values(by=\"# Observations\")"
      ]
    },
    {
      "attachments": {},
      "cell_type": "markdown",
      "metadata": {
        "id": "RcveLXAGG6AH"
      },
      "source": [
        "### Rank-normalize characteristics"
      ]
    },
    {
      "cell_type": "code",
      "execution_count": 249,
      "metadata": {
        "ExecuteTime": {
          "end_time": "2021-02-24T18:54:46.798214Z",
          "start_time": "2021-02-24T18:52:56.260370Z"
        },
        "id": "qRXGH5HMG6AH"
      },
      "outputs": [],
      "source": [
        "data.loc[:, characteristics] = (data.loc[:, characteristics]\n",
        "                                .groupby(level='date')\n",
        "                                .apply(lambda x: pd.DataFrame(quantile_transform(x, \n",
        "                                                                                 copy=True, \n",
        "                                                                                 n_quantiles=x.shape[0]),\n",
        "                                                              columns=characteristics,\n",
        "                                                              index=x.index.get_level_values('ticker')))\n",
        "                               .mul(2).sub(1))"
      ]
    },
    {
      "cell_type": "code",
      "execution_count": 250,
      "metadata": {
        "ExecuteTime": {
          "end_time": "2021-02-24T18:54:46.944271Z",
          "start_time": "2021-02-24T18:54:46.799110Z"
        },
        "colab": {
          "base_uri": "https://localhost:8080/"
        },
        "id": "CPAaj0CfG6AH",
        "outputId": "2393e17e-4a92-42f8-a67e-28eeec09b1eb"
      },
      "outputs": [
        {
          "name": "stdout",
          "output_type": "stream",
          "text": [
            "<class 'pandas.core.frame.DataFrame'>\n",
            "MultiIndex: 1045044 entries, (Timestamp('2000-01-14 00:00:00', freq='W-FRI'), '005930.KS') to (Timestamp('2023-05-12 00:00:00', freq='W-FRI'), '000547.KS')\n",
            "Data columns (total 17 columns):\n",
            " #   Column       Non-Null Count   Dtype  \n",
            "---  ------       --------------   -----  \n",
            " 0   returns      787971 non-null  float64\n",
            " 1   beta         658062 non-null  float64\n",
            " 2   betasq       658062 non-null  float64\n",
            " 3   chmom        744340 non-null  float64\n",
            " 4   dolvol       777778 non-null  float64\n",
            " 5   idiovol      658062 non-null  float64\n",
            " 6   ill          628189 non-null  float64\n",
            " 7   indmom       767616 non-null  float64\n",
            " 8   maxret       780979 non-null  float64\n",
            " 9   mom12m       744340 non-null  float64\n",
            " 10  mom1m        784469 non-null  float64\n",
            " 11  mom36m       658553 non-null  float64\n",
            " 12  mvel         787656 non-null  float64\n",
            " 13  retvol       784469 non-null  float64\n",
            " 14  turn         771259 non-null  float64\n",
            " 15  turn_std     781354 non-null  float64\n",
            " 16  returns_fwd  787593 non-null  float64\n",
            "dtypes: float64(17)\n",
            "memory usage: 139.6+ MB\n"
          ]
        }
      ],
      "source": [
        "data.info(null_counts=True)"
      ]
    },
    {
      "cell_type": "code",
      "execution_count": 251,
      "metadata": {
        "ExecuteTime": {
          "end_time": "2021-02-24T18:54:46.948950Z",
          "start_time": "2021-02-24T18:54:46.945523Z"
        },
        "colab": {
          "base_uri": "https://localhost:8080/"
        },
        "id": "dnqooaKBG6AH",
        "outputId": "e51e6a0c-880c-4922-bc9d-7ee9005c51e9"
      },
      "outputs": [
        {
          "data": {
            "text/plain": [
              "FrozenList(['date', 'ticker'])"
            ]
          },
          "execution_count": 251,
          "metadata": {},
          "output_type": "execute_result"
        }
      ],
      "source": [
        "data.index.names"
      ]
    },
    {
      "cell_type": "code",
      "execution_count": 252,
      "metadata": {
        "ExecuteTime": {
          "end_time": "2021-02-24T18:54:50.852191Z",
          "start_time": "2021-02-24T18:54:46.950191Z"
        },
        "colab": {
          "base_uri": "https://localhost:8080/",
          "height": 399
        },
        "id": "G_pCOAC4G6AI",
        "outputId": "dcf2b5d9-0ede-4a5b-cae9-21e34af4fd89"
      },
      "outputs": [
        {
          "data": {
            "text/html": [
              "<div>\n",
              "<style scoped>\n",
              "    .dataframe tbody tr th:only-of-type {\n",
              "        vertical-align: middle;\n",
              "    }\n",
              "\n",
              "    .dataframe tbody tr th {\n",
              "        vertical-align: top;\n",
              "    }\n",
              "\n",
              "    .dataframe thead th {\n",
              "        text-align: right;\n",
              "    }\n",
              "</style>\n",
              "<table border=\"1\" class=\"dataframe\">\n",
              "  <thead>\n",
              "    <tr style=\"text-align: right;\">\n",
              "      <th></th>\n",
              "      <th>returns</th>\n",
              "      <th>beta</th>\n",
              "      <th>betasq</th>\n",
              "      <th>chmom</th>\n",
              "      <th>dolvol</th>\n",
              "      <th>idiovol</th>\n",
              "      <th>ill</th>\n",
              "      <th>indmom</th>\n",
              "      <th>maxret</th>\n",
              "      <th>mom12m</th>\n",
              "      <th>mom1m</th>\n",
              "      <th>mom36m</th>\n",
              "      <th>mvel</th>\n",
              "      <th>retvol</th>\n",
              "      <th>turn</th>\n",
              "      <th>turn_std</th>\n",
              "      <th>returns_fwd</th>\n",
              "    </tr>\n",
              "  </thead>\n",
              "  <tbody>\n",
              "    <tr>\n",
              "      <th>count</th>\n",
              "      <td>787971.000000</td>\n",
              "      <td>6.580620e+05</td>\n",
              "      <td>658062.000000</td>\n",
              "      <td>7.443400e+05</td>\n",
              "      <td>777778.000000</td>\n",
              "      <td>658062.000000</td>\n",
              "      <td>6.281890e+05</td>\n",
              "      <td>767616.000000</td>\n",
              "      <td>780979.000000</td>\n",
              "      <td>744340.000000</td>\n",
              "      <td>7.844690e+05</td>\n",
              "      <td>658553.000000</td>\n",
              "      <td>7.876560e+05</td>\n",
              "      <td>784469.000000</td>\n",
              "      <td>771259.000000</td>\n",
              "      <td>781354.000000</td>\n",
              "      <td>787593.000000</td>\n",
              "    </tr>\n",
              "    <tr>\n",
              "      <th>mean</th>\n",
              "      <td>0.003311</td>\n",
              "      <td>-2.616659e-07</td>\n",
              "      <td>-0.000003</td>\n",
              "      <td>-2.354048e-07</td>\n",
              "      <td>-0.000013</td>\n",
              "      <td>-0.000001</td>\n",
              "      <td>-1.706637e-05</td>\n",
              "      <td>0.001858</td>\n",
              "      <td>-0.000001</td>\n",
              "      <td>-0.000001</td>\n",
              "      <td>-6.476835e-07</td>\n",
              "      <td>-0.000001</td>\n",
              "      <td>-4.751343e-07</td>\n",
              "      <td>-0.000011</td>\n",
              "      <td>-0.000014</td>\n",
              "      <td>-0.000018</td>\n",
              "      <td>0.003307</td>\n",
              "    </tr>\n",
              "    <tr>\n",
              "      <th>std</th>\n",
              "      <td>0.072245</td>\n",
              "      <td>5.782771e-01</td>\n",
              "      <td>0.578280</td>\n",
              "      <td>5.782461e-01</td>\n",
              "      <td>0.578261</td>\n",
              "      <td>0.578276</td>\n",
              "      <td>5.782350e-01</td>\n",
              "      <td>0.590767</td>\n",
              "      <td>0.578235</td>\n",
              "      <td>0.578248</td>\n",
              "      <td>5.782317e-01</td>\n",
              "      <td>0.578279</td>\n",
              "      <td>5.782348e-01</td>\n",
              "      <td>0.578253</td>\n",
              "      <td>0.578260</td>\n",
              "      <td>0.578263</td>\n",
              "      <td>0.072220</td>\n",
              "    </tr>\n",
              "    <tr>\n",
              "      <th>min</th>\n",
              "      <td>-0.972147</td>\n",
              "      <td>-1.000000e+00</td>\n",
              "      <td>-1.000000</td>\n",
              "      <td>-1.000000e+00</td>\n",
              "      <td>-1.000000</td>\n",
              "      <td>-1.000000</td>\n",
              "      <td>-1.000000e+00</td>\n",
              "      <td>-1.000000</td>\n",
              "      <td>-1.000000</td>\n",
              "      <td>-1.000000</td>\n",
              "      <td>-1.000000e+00</td>\n",
              "      <td>-1.000000</td>\n",
              "      <td>-1.000000e+00</td>\n",
              "      <td>-1.000000</td>\n",
              "      <td>-1.000000</td>\n",
              "      <td>-1.000000</td>\n",
              "      <td>-0.972147</td>\n",
              "    </tr>\n",
              "    <tr>\n",
              "      <th>25%</th>\n",
              "      <td>-0.028455</td>\n",
              "      <td>-5.007122e-01</td>\n",
              "      <td>-0.500718</td>\n",
              "      <td>-5.006776e-01</td>\n",
              "      <td>-0.500689</td>\n",
              "      <td>-0.500699</td>\n",
              "      <td>-5.006899e-01</td>\n",
              "      <td>-0.495916</td>\n",
              "      <td>-0.500642</td>\n",
              "      <td>-0.500736</td>\n",
              "      <td>-5.006528e-01</td>\n",
              "      <td>-0.500721</td>\n",
              "      <td>-5.006923e-01</td>\n",
              "      <td>-0.500680</td>\n",
              "      <td>-0.500669</td>\n",
              "      <td>-0.500681</td>\n",
              "      <td>-0.028436</td>\n",
              "    </tr>\n",
              "    <tr>\n",
              "      <th>50%</th>\n",
              "      <td>0.000000</td>\n",
              "      <td>4.215423e-05</td>\n",
              "      <td>0.000026</td>\n",
              "      <td>-9.497526e-06</td>\n",
              "      <td>0.000055</td>\n",
              "      <td>0.000042</td>\n",
              "      <td>1.432557e-07</td>\n",
              "      <td>0.014002</td>\n",
              "      <td>-0.000031</td>\n",
              "      <td>0.000053</td>\n",
              "      <td>5.101654e-05</td>\n",
              "      <td>-0.000006</td>\n",
              "      <td>-9.863743e-05</td>\n",
              "      <td>0.000021</td>\n",
              "      <td>0.000050</td>\n",
              "      <td>0.000048</td>\n",
              "      <td>0.000000</td>\n",
              "    </tr>\n",
              "    <tr>\n",
              "      <th>75%</th>\n",
              "      <td>0.028571</td>\n",
              "      <td>5.007229e-01</td>\n",
              "      <td>0.500723</td>\n",
              "      <td>5.007073e-01</td>\n",
              "      <td>0.500687</td>\n",
              "      <td>0.500718</td>\n",
              "      <td>5.006864e-01</td>\n",
              "      <td>0.481914</td>\n",
              "      <td>0.500677</td>\n",
              "      <td>0.500718</td>\n",
              "      <td>5.006900e-01</td>\n",
              "      <td>0.500711</td>\n",
              "      <td>5.006832e-01</td>\n",
              "      <td>0.500697</td>\n",
              "      <td>0.500678</td>\n",
              "      <td>0.500686</td>\n",
              "      <td>0.028571</td>\n",
              "    </tr>\n",
              "    <tr>\n",
              "      <th>max</th>\n",
              "      <td>2.697885</td>\n",
              "      <td>1.000000e+00</td>\n",
              "      <td>1.000000</td>\n",
              "      <td>1.000000e+00</td>\n",
              "      <td>1.000000</td>\n",
              "      <td>1.000000</td>\n",
              "      <td>1.000000e+00</td>\n",
              "      <td>1.000000</td>\n",
              "      <td>1.000000</td>\n",
              "      <td>1.000000</td>\n",
              "      <td>1.000000e+00</td>\n",
              "      <td>1.000000</td>\n",
              "      <td>1.000000e+00</td>\n",
              "      <td>1.000000</td>\n",
              "      <td>1.000000</td>\n",
              "      <td>1.000000</td>\n",
              "      <td>2.697885</td>\n",
              "    </tr>\n",
              "  </tbody>\n",
              "</table>\n",
              "</div>"
            ],
            "text/plain": [
              "             returns          beta         betasq         chmom  \\\n",
              "count  787971.000000  6.580620e+05  658062.000000  7.443400e+05   \n",
              "mean        0.003311 -2.616659e-07      -0.000003 -2.354048e-07   \n",
              "std         0.072245  5.782771e-01       0.578280  5.782461e-01   \n",
              "min        -0.972147 -1.000000e+00      -1.000000 -1.000000e+00   \n",
              "25%        -0.028455 -5.007122e-01      -0.500718 -5.006776e-01   \n",
              "50%         0.000000  4.215423e-05       0.000026 -9.497526e-06   \n",
              "75%         0.028571  5.007229e-01       0.500723  5.007073e-01   \n",
              "max         2.697885  1.000000e+00       1.000000  1.000000e+00   \n",
              "\n",
              "              dolvol        idiovol           ill         indmom  \\\n",
              "count  777778.000000  658062.000000  6.281890e+05  767616.000000   \n",
              "mean       -0.000013      -0.000001 -1.706637e-05       0.001858   \n",
              "std         0.578261       0.578276  5.782350e-01       0.590767   \n",
              "min        -1.000000      -1.000000 -1.000000e+00      -1.000000   \n",
              "25%        -0.500689      -0.500699 -5.006899e-01      -0.495916   \n",
              "50%         0.000055       0.000042  1.432557e-07       0.014002   \n",
              "75%         0.500687       0.500718  5.006864e-01       0.481914   \n",
              "max         1.000000       1.000000  1.000000e+00       1.000000   \n",
              "\n",
              "              maxret         mom12m         mom1m         mom36m  \\\n",
              "count  780979.000000  744340.000000  7.844690e+05  658553.000000   \n",
              "mean       -0.000001      -0.000001 -6.476835e-07      -0.000001   \n",
              "std         0.578235       0.578248  5.782317e-01       0.578279   \n",
              "min        -1.000000      -1.000000 -1.000000e+00      -1.000000   \n",
              "25%        -0.500642      -0.500736 -5.006528e-01      -0.500721   \n",
              "50%        -0.000031       0.000053  5.101654e-05      -0.000006   \n",
              "75%         0.500677       0.500718  5.006900e-01       0.500711   \n",
              "max         1.000000       1.000000  1.000000e+00       1.000000   \n",
              "\n",
              "               mvel         retvol           turn       turn_std  \\\n",
              "count  7.876560e+05  784469.000000  771259.000000  781354.000000   \n",
              "mean  -4.751343e-07      -0.000011      -0.000014      -0.000018   \n",
              "std    5.782348e-01       0.578253       0.578260       0.578263   \n",
              "min   -1.000000e+00      -1.000000      -1.000000      -1.000000   \n",
              "25%   -5.006923e-01      -0.500680      -0.500669      -0.500681   \n",
              "50%   -9.863743e-05       0.000021       0.000050       0.000048   \n",
              "75%    5.006832e-01       0.500697       0.500678       0.500686   \n",
              "max    1.000000e+00       1.000000       1.000000       1.000000   \n",
              "\n",
              "         returns_fwd  \n",
              "count  787593.000000  \n",
              "mean        0.003307  \n",
              "std         0.072220  \n",
              "min        -0.972147  \n",
              "25%        -0.028436  \n",
              "50%         0.000000  \n",
              "75%         0.028571  \n",
              "max         2.697885  "
            ]
          },
          "execution_count": 252,
          "metadata": {},
          "output_type": "execute_result"
        }
      ],
      "source": [
        "data.describe()"
      ]
    },
    {
      "cell_type": "code",
      "execution_count": 253,
      "metadata": {
        "ExecuteTime": {
          "end_time": "2021-02-24T18:54:51.653434Z",
          "start_time": "2021-02-24T18:54:50.853071Z"
        },
        "id": "Bgf0yr-DG6AI"
      },
      "outputs": [],
      "source": [
        "data = data.loc[idx[:'2023', :], :]"
      ]
    },
    {
      "cell_type": "code",
      "execution_count": 254,
      "metadata": {
        "ExecuteTime": {
          "end_time": "2021-02-24T18:54:52.175796Z",
          "start_time": "2021-02-24T18:54:51.654300Z"
        },
        "id": "b2ue55JPG6AI"
      },
      "outputs": [],
      "source": [
        "data.loc[:, ['returns', 'returns_fwd']] = data.loc[:, ['returns', 'returns_fwd']].clip(lower=-1, upper=1.0)"
      ]
    },
    {
      "cell_type": "code",
      "execution_count": 255,
      "metadata": {
        "ExecuteTime": {
          "end_time": "2021-02-24T18:54:52.551139Z",
          "start_time": "2021-02-24T18:54:52.176641Z"
        },
        "id": "ubThCAzvG6AI"
      },
      "outputs": [],
      "source": [
        "data = data.fillna(-2)"
      ]
    },
    {
      "cell_type": "code",
      "execution_count": 256,
      "metadata": {
        "ExecuteTime": {
          "end_time": "2021-02-24T18:54:53.177682Z",
          "start_time": "2021-02-24T18:54:52.551965Z"
        },
        "id": "dbL7Y2fUG6AI"
      },
      "outputs": [],
      "source": [
        "data.to_hdf(results_path / 'autoencoder.h5', 'model_data')"
      ]
    },
    {
      "attachments": {},
      "cell_type": "markdown",
      "metadata": {
        "id": "aZhu0InOG6AI"
      },
      "source": [
        "## Architecture"
      ]
    },
    {
      "cell_type": "code",
      "execution_count": 261,
      "metadata": {
        "ExecuteTime": {
          "end_time": "2021-02-25T02:19:55.884348Z",
          "start_time": "2021-02-25T02:19:54.229906Z"
        },
        "id": "D12Z1ydfG6AI"
      },
      "outputs": [],
      "source": [
        "data = pd.read_hdf(results_path / 'autoencoder.h5', 'model_data')"
      ]
    },
    {
      "attachments": {},
      "cell_type": "markdown",
      "metadata": {
        "id": "-bpjOx7FG6AI"
      },
      "source": [
        "### Key parameters"
      ]
    },
    {
      "cell_type": "code",
      "execution_count": 275,
      "metadata": {
        "ExecuteTime": {
          "end_time": "2021-02-25T02:19:56.938323Z",
          "start_time": "2021-02-25T02:19:56.887604Z"
        },
        "id": "TRNt3IhNG6AI"
      },
      "outputs": [],
      "source": [
        "n_factors = 3\n",
        "n_characteristics = len(characteristics)\n",
        "n_tickers = len(data.index.unique('ticker'))"
      ]
    },
    {
      "cell_type": "code",
      "execution_count": 276,
      "metadata": {
        "ExecuteTime": {
          "end_time": "2021-02-25T02:19:57.066339Z",
          "start_time": "2021-02-25T02:19:57.056425Z"
        },
        "colab": {
          "base_uri": "https://localhost:8080/"
        },
        "id": "SXdtaEpUG6AI",
        "outputId": "0394bc41-e4df-456c-cd79-0d8f0b9260bc"
      },
      "outputs": [
        {
          "data": {
            "text/plain": [
              "858"
            ]
          },
          "execution_count": 276,
          "metadata": {},
          "output_type": "execute_result"
        }
      ],
      "source": [
        "n_tickers"
      ]
    },
    {
      "cell_type": "code",
      "execution_count": 277,
      "metadata": {
        "ExecuteTime": {
          "end_time": "2021-02-25T02:19:57.769420Z",
          "start_time": "2021-02-25T02:19:57.761574Z"
        },
        "colab": {
          "base_uri": "https://localhost:8080/"
        },
        "id": "TR7cTuH2G6AJ",
        "outputId": "2004e998-4e36-41d6-b55c-22edb3feadc7"
      },
      "outputs": [
        {
          "data": {
            "text/plain": [
              "15"
            ]
          },
          "execution_count": 277,
          "metadata": {},
          "output_type": "execute_result"
        }
      ],
      "source": [
        "n_characteristics"
      ]
    },
    {
      "attachments": {},
      "cell_type": "markdown",
      "metadata": {
        "id": "e3ZahFnmG6AJ"
      },
      "source": [
        "### Input Layer"
      ]
    },
    {
      "cell_type": "code",
      "execution_count": 278,
      "metadata": {
        "ExecuteTime": {
          "end_time": "2021-02-24T18:54:54.294252Z",
          "start_time": "2021-02-24T18:54:54.279343Z"
        },
        "id": "uLCzsLNbG6AJ"
      },
      "outputs": [],
      "source": [
        "input_beta = Input((n_tickers, n_characteristics), name='input_beta')\n",
        "input_factor = Input((n_tickers,), name='input_factor')"
      ]
    },
    {
      "attachments": {},
      "cell_type": "markdown",
      "metadata": {
        "id": "hbukeRCjG6AJ"
      },
      "source": [
        "### Stock Characteristics Network"
      ]
    },
    {
      "cell_type": "code",
      "execution_count": 279,
      "metadata": {
        "ExecuteTime": {
          "end_time": "2021-02-24T18:54:55.015972Z",
          "start_time": "2021-02-24T18:54:54.295081Z"
        },
        "id": "SLDent98G6AJ"
      },
      "outputs": [],
      "source": [
        "hidden_layer = Dense(units=8, activation='relu', name='hidden_layer')(input_beta)\n",
        "batch_norm = BatchNormalization(name='batch_norm')(hidden_layer)\n",
        "output_beta = Dense(units=n_factors, name='output_beta')(batch_norm)"
      ]
    },
    {
      "attachments": {},
      "cell_type": "markdown",
      "metadata": {
        "id": "UdetRIiJG6AJ"
      },
      "source": [
        "### Factor Network"
      ]
    },
    {
      "cell_type": "code",
      "execution_count": 287,
      "metadata": {
        "ExecuteTime": {
          "end_time": "2021-02-24T18:54:55.023022Z",
          "start_time": "2021-02-24T18:54:55.016867Z"
        },
        "id": "kzvm_04QG6AJ"
      },
      "outputs": [],
      "source": [
        "pfo_factor = Dense(units=n_characteristics, name='pfo_factor')(input_factor)\n",
        "output_factor = Dense(units=n_factors, name='output_factor')(pfo_factor)"
      ]
    },
    {
      "attachments": {},
      "cell_type": "markdown",
      "metadata": {
        "id": "RXenirpqG6AJ"
      },
      "source": [
        "### Output Layer"
      ]
    },
    {
      "cell_type": "code",
      "execution_count": 288,
      "metadata": {
        "ExecuteTime": {
          "end_time": "2021-02-24T18:54:55.030563Z",
          "start_time": "2021-02-24T18:54:55.024006Z"
        },
        "id": "0rLK9dJqG6AJ"
      },
      "outputs": [],
      "source": [
        "output = Dot(axes=(2,1), name='output_layer')([output_beta, output_factor])"
      ]
    },
    {
      "attachments": {},
      "cell_type": "markdown",
      "metadata": {
        "id": "mL5ofl37G6AJ"
      },
      "source": [
        "### Compile Layer"
      ]
    },
    {
      "cell_type": "code",
      "execution_count": 289,
      "metadata": {
        "ExecuteTime": {
          "end_time": "2021-02-24T18:54:55.044843Z",
          "start_time": "2021-02-24T18:54:55.031505Z"
        },
        "id": "m4ULKi4lG6AJ"
      },
      "outputs": [],
      "source": [
        "model = Model(inputs=[input_beta, input_factor], outputs=output)\n",
        "model.compile(loss='mse', optimizer='adam')"
      ]
    },
    {
      "attachments": {},
      "cell_type": "markdown",
      "metadata": {
        "id": "AWLzNjujG6AK"
      },
      "source": [
        "### Automate model generation"
      ]
    },
    {
      "cell_type": "code",
      "execution_count": 290,
      "metadata": {
        "ExecuteTime": {
          "end_time": "2021-02-25T02:20:24.943542Z",
          "start_time": "2021-02-25T02:20:24.940487Z"
        },
        "id": "gWc_qQt7G6AK"
      },
      "outputs": [],
      "source": [
        "def make_model(hidden_units=8, n_factors=3):\n",
        "    input_beta = Input((n_tickers, n_characteristics), name='input_beta')\n",
        "    input_factor = Input((n_tickers,), name='input_factor')\n",
        "\n",
        "    hidden_layer = Dense(units=hidden_units, activation='relu', name='hidden_layer')(input_beta)\n",
        "    batch_norm = BatchNormalization(name='batch_norm')(hidden_layer)\n",
        "    \n",
        "    output_beta = Dense(units=n_factors, name='output_beta')(batch_norm)\n",
        "    \n",
        "    pfo_factor = Dense(units=n_characteristics, name='pfo_factor')(input_factor)\n",
        "    output_factor = Dense(units=n_factors, name='output_factor')(pfo_factor)\n",
        "\n",
        "    output = Dot(axes=(2,1), name='output_layer')([output_beta, output_factor])\n",
        "\n",
        "    model = Model(inputs=[input_beta, input_factor], outputs=output)\n",
        "    model.compile(loss='mse', optimizer='adam')\n",
        "    return model"
      ]
    },
    {
      "attachments": {},
      "cell_type": "markdown",
      "metadata": {
        "id": "2IPY0kmLG6AK"
      },
      "source": [
        "### Model Summary"
      ]
    },
    {
      "cell_type": "code",
      "execution_count": 291,
      "metadata": {
        "ExecuteTime": {
          "end_time": "2021-02-24T18:54:55.060992Z",
          "start_time": "2021-02-24T18:54:55.051617Z"
        },
        "colab": {
          "base_uri": "https://localhost:8080/"
        },
        "id": "r5gN4RLtG6AK",
        "outputId": "43982cf3-d348-4c97-f221-afdf495820ea"
      },
      "outputs": [
        {
          "name": "stdout",
          "output_type": "stream",
          "text": [
            "Model: \"model_2\"\n",
            "__________________________________________________________________________________________________\n",
            " Layer (type)                   Output Shape         Param #     Connected to                     \n",
            "==================================================================================================\n",
            " input_beta (InputLayer)        [(None, 858, 15)]    0           []                               \n",
            "                                                                                                  \n",
            " hidden_layer (Dense)           (None, 858, 8)       128         ['input_beta[0][0]']             \n",
            "                                                                                                  \n",
            " input_factor (InputLayer)      [(None, 858)]        0           []                               \n",
            "                                                                                                  \n",
            " batch_norm (BatchNormalization  (None, 858, 8)      32          ['hidden_layer[0][0]']           \n",
            " )                                                                                                \n",
            "                                                                                                  \n",
            " pfo_factor (Dense)             (None, 15)           12885       ['input_factor[0][0]']           \n",
            "                                                                                                  \n",
            " output_beta (Dense)            (None, 858, 3)       27          ['batch_norm[0][0]']             \n",
            "                                                                                                  \n",
            " output_factor (Dense)          (None, 3)            48          ['pfo_factor[0][0]']             \n",
            "                                                                                                  \n",
            " output_layer (Dot)             (None, 858)          0           ['output_beta[0][0]',            \n",
            "                                                                  'output_factor[0][0]']          \n",
            "                                                                                                  \n",
            "==================================================================================================\n",
            "Total params: 13,120\n",
            "Trainable params: 13,104\n",
            "Non-trainable params: 16\n",
            "__________________________________________________________________________________________________\n"
          ]
        }
      ],
      "source": [
        "model.summary()"
      ]
    },
    {
      "attachments": {},
      "cell_type": "markdown",
      "metadata": {
        "id": "ntThvUmmHWNQ"
      },
      "source": [
        "### 모델 시각화"
      ]
    },
    {
      "cell_type": "code",
      "execution_count": 292,
      "metadata": {
        "id": "VvCMNAMMBzcX"
      },
      "outputs": [],
      "source": [
        "model_img_file = (results_path / 'model.png' )\n",
        "tf.keras.utils.plot_model(model, to_file=model_img_file, \n",
        "                          show_shapes=True, \n",
        "                          show_layer_activations=True, \n",
        "                          show_dtype=True,\n",
        "                          show_layer_names=True,\n",
        "                          dpi=600)\n",
        "\n",
        "model.save(results_path / 'model_img.h5')"
      ]
    },
    {
      "attachments": {},
      "cell_type": "markdown",
      "metadata": {
        "id": "wFZt1G0rG6AK"
      },
      "source": [
        "## Train Model"
      ]
    },
    {
      "attachments": {},
      "cell_type": "markdown",
      "metadata": {
        "id": "b-WjCAhEG6AK"
      },
      "source": [
        "### Cross-validation parameters"
      ]
    },
    {
      "cell_type": "code",
      "execution_count": 293,
      "metadata": {
        "ExecuteTime": {
          "end_time": "2021-02-25T02:20:29.903066Z",
          "start_time": "2021-02-25T02:20:29.897417Z"
        },
        "id": "idi-meTnG6AK"
      },
      "outputs": [],
      "source": [
        "YEAR = 52"
      ]
    },
    {
      "cell_type": "code",
      "execution_count": 310,
      "metadata": {
        "ExecuteTime": {
          "end_time": "2021-02-25T02:20:30.091049Z",
          "start_time": "2021-02-25T02:20:30.086342Z"
        },
        "id": "ij2BlrbjG6AK"
      },
      "outputs": [],
      "source": [
        "cv = MultipleTimeSeriesCV(n_splits=5, # 5\n",
        "                          train_period_length=15*YEAR,\n",
        "                          test_period_length=1*YEAR,\n",
        "                          lookahead=1)"
      ]
    },
    {
      "cell_type": "code",
      "execution_count": 311,
      "metadata": {
        "ExecuteTime": {
          "end_time": "2021-02-25T02:20:30.241815Z",
          "start_time": "2021-02-25T02:20:30.232493Z"
        },
        "id": "jlnPNQA7G6AK"
      },
      "outputs": [],
      "source": [
        "def get_train_valid_data(data, train_idx, val_idx):\n",
        "    train, val = data.iloc[train_idx], data.iloc[val_idx]\n",
        "    X1_train = train.loc[:, characteristics].values.reshape(-1, n_tickers, n_characteristics)\n",
        "    X1_val = val.loc[:, characteristics].values.reshape(-1, n_tickers, n_characteristics)\n",
        "    X2_train = train.loc[:, 'returns'].unstack('ticker')\n",
        "    X2_val = val.loc[:, 'returns'].unstack('ticker')\n",
        "    y_train = train.returns_fwd.unstack('ticker')\n",
        "    y_val = val.returns_fwd.unstack('ticker')\n",
        "    return X1_train, X2_train, y_train, X1_val, X2_val, y_val"
      ]
    },
    {
      "attachments": {},
      "cell_type": "markdown",
      "metadata": {
        "id": "n4easAuxG6AK"
      },
      "source": [
        "### Hyperparameter Options"
      ]
    },
    {
      "cell_type": "code",
      "execution_count": 312,
      "metadata": {
        "ExecuteTime": {
          "end_time": "2021-02-25T02:20:33.307625Z",
          "start_time": "2021-02-25T02:20:33.301301Z"
        },
        "id": "WjIuCe-GG6AL"
      },
      "outputs": [],
      "source": [
        "factor_opts = [2, 3, 4, 5, 6] # 2, 3, 4, 5, 6\n",
        "unit_opts = [8, 16, 32] # 8, 16, 32"
      ]
    },
    {
      "cell_type": "code",
      "execution_count": 313,
      "metadata": {
        "ExecuteTime": {
          "end_time": "2021-02-25T02:20:33.390923Z",
          "start_time": "2021-02-25T02:20:33.389108Z"
        },
        "id": "01Nyhm4NG6AL"
      },
      "outputs": [],
      "source": [
        "param_grid = list(product(unit_opts, factor_opts))"
      ]
    },
    {
      "attachments": {},
      "cell_type": "markdown",
      "metadata": {
        "id": "9BxH3rJNG6AL"
      },
      "source": [
        "### Run Cross-Validation"
      ]
    },
    {
      "cell_type": "code",
      "execution_count": 314,
      "metadata": {
        "ExecuteTime": {
          "end_time": "2021-02-24T18:54:55.113516Z",
          "start_time": "2021-02-24T18:54:55.104687Z"
        },
        "id": "iO8vps_TG6AL"
      },
      "outputs": [],
      "source": [
        "batch_size = 64"
      ]
    },
    {
      "cell_type": "code",
      "execution_count": 315,
      "metadata": {
        "ExecuteTime": {
          "end_time": "2021-02-24T18:54:55.121852Z",
          "start_time": "2021-02-24T18:54:55.114344Z"
        },
        "id": "axwYRei7G6AL"
      },
      "outputs": [],
      "source": [
        "cols = ['units', 'n_factors', 'fold', 'epoch', 'ic_mean', \n",
        "        'ic_daily_mean', 'ic_daily_std', 'ic_daily_median']"
      ]
    },
    {
      "cell_type": "code",
      "execution_count": 316,
      "metadata": {
        "id": "cjYdK5ezHFP9"
      },
      "outputs": [],
      "source": [
        "import gc\n",
        "from tensorflow.keras import backend as k\n",
        "from tensorflow.keras.callbacks import Callback\n",
        "from keras.utils import Sequence\n",
        "\n",
        "# Define a custom data generator to feed data to the model\n",
        "class DataGenerator(Sequence):\n",
        "    def __init__(self, X1, X2, y, batch_size):\n",
        "        self.X1 = X1\n",
        "        self.X2 = X2\n",
        "        self.y = y\n",
        "        self.batch_size = batch_size\n",
        "\n",
        "    def __len__(self):\n",
        "        return int(np.ceil(len(self.X1) / float(self.batch_size)))\n",
        "\n",
        "    def __getitem__(self, idx):\n",
        "        batch_X1 = self.X1[idx * self.batch_size:(idx + 1) * self.batch_size]\n",
        "        batch_X2 = self.X2[idx * self.batch_size:(idx + 1) * self.batch_size]\n",
        "        batch_y = self.y[idx * self.batch_size:(idx + 1) * self.batch_size]\n",
        "        return [batch_X1, batch_X2], batch_y\n",
        "\n",
        "class ClearMemory(Callback):\n",
        "    def on_epoch_end(self, epoch, logs=None):\n",
        "        gc.collect()\n",
        "        k.clear_session()\n",
        "\n",
        "from keras.callbacks import EarlyStopping\n",
        "# define early stopping callback\n",
        "early_stop = EarlyStopping(monitor='val_loss', patience=10, verbose=1, mode='min')"
      ]
    },
    {
      "cell_type": "code",
      "execution_count": 317,
      "metadata": {},
      "outputs": [
        {
          "name": "stdout",
          "output_type": "stream",
          "text": [
            "units: 8 , n_factors: 3\n",
            "39:40:27 | 3 | 08 | 00-000 |  1.72% |  3.14% |  2.00%\n",
            "39:46:36 | 3 | 08 | 00-050 |  0.81% |  1.40% |  0.90%\n",
            "39:52:44 | 3 | 08 | 00-100 |  1.18% |  0.62% |  0.66%\n",
            "39:59:03 | 3 | 08 | 00-150 |  1.37% |  0.10% | -0.28%\n",
            "40:04:56 | 3 | 08 | 00-200 |  1.03% |  0.51% | -0.73%\n",
            "40:10:36 | 3 | 08 | 01-000 |  2.31% |  0.73% |  0.60%\n",
            "40:16:17 | 3 | 08 | 01-050 | -2.84% |  0.59% |  3.67%\n",
            "40:21:50 | 3 | 08 | 01-100 | -3.64% |  0.96% |  2.99%\n",
            "40:27:26 | 3 | 08 | 01-150 | -3.80% |  1.20% |  3.92%\n",
            "40:33:06 | 3 | 08 | 01-200 | -4.49% | -0.29% | -0.30%\n",
            "40:38:35 | 3 | 08 | 02-000 |  6.83% |  5.78% |  5.25%\n",
            "40:44:07 | 3 | 08 | 02-050 |  4.55% |  5.56% |  7.30%\n",
            "40:49:40 | 3 | 08 | 02-100 |  3.01% |  5.19% |  7.46%\n",
            "40:55:16 | 3 | 08 | 02-150 |  2.39% |  6.15% |  7.66%\n",
            "41:00:46 | 3 | 08 | 02-200 |  0.51% |  4.34% |  6.07%\n",
            "41:06:13 | 3 | 08 | 03-000 |  0.97% |  1.00% | -0.26%\n",
            "41:11:41 | 3 | 08 | 03-050 | -0.14% |  0.62% |  2.11%\n",
            "41:17:20 | 3 | 08 | 03-100 |  0.34% |  1.14% |  2.88%\n",
            "41:22:56 | 3 | 08 | 03-150 | -0.78% |  1.12% |  2.28%\n",
            "41:28:33 | 3 | 08 | 03-200 | -0.86% |  0.86% |  1.51%\n",
            "41:34:10 | 3 | 08 | 04-000 |  2.50% | -2.26% | -5.28%\n",
            "41:39:44 | 3 | 08 | 04-050 |  0.79% |  0.53% |  0.62%\n",
            "41:45:21 | 3 | 08 | 04-100 |  1.09% |  1.42% |  3.37%\n",
            "41:51:03 | 3 | 08 | 04-150 |  1.13% |  1.90% |  3.96%\n",
            "41:56:41 | 3 | 08 | 04-200 | -0.48% |  0.20% |  0.85%\n"
          ]
        }
      ],
      "source": [
        "units = 8\n",
        "n_factors = 3\n",
        "print(\"units:\", units, \", n_factors:\", n_factors)\n",
        "scores = []\n",
        "for fold, (train_idx, val_idx) in enumerate(cv.split(data)):\n",
        "    X1_train, X2_train, y_train, X1_val, X2_val, y_val = get_train_valid_data(data,\n",
        "                                                                                train_idx,\n",
        "                                                                                val_idx)\n",
        "    train_gen = DataGenerator(X1_train, X2_train, y_train, batch_size=batch_size)\n",
        "    val_gen = DataGenerator(X1_val, X2_val, y_val, batch_size=batch_size)\n",
        "    model = make_model(hidden_units=units, n_factors=n_factors)\n",
        "    for epoch in range(250):\n",
        "        model.fit_generator(train_gen,\n",
        "                            validation_data=val_gen,\n",
        "                            epochs=epoch + 1,\n",
        "                            initial_epoch=epoch, verbose=False, shuffle=True, callbacks=[ClearMemory(), early_stop])\n",
        "        y_pred = model.predict_generator(val_gen, callbacks=ClearMemory())\n",
        "        y_true = y_val.stack().values\n",
        "        date_index = y_val.stack().index\n",
        "        result = (pd.DataFrame({'y_pred': y_pred.reshape(-1),\n",
        "                                'y_true': y_true},\n",
        "                                index=date_index)\n",
        "                    .replace(-2, np.nan).dropna())\n",
        "        r0 = spearmanr(result.y_true, result.y_pred)[0]\n",
        "        r1 = result.groupby(level='date').apply(lambda x: spearmanr(x.y_pred,\n",
        "                                                                    x.y_true)[0])\n",
        "\n",
        "        scores.append([units, n_factors, fold, epoch, r0,\n",
        "                        r1.mean(), r1.std(), r1.median()])\n",
        "        if epoch % 50 == 0:\n",
        "            print(f'{format_time(time()-start)} | {n_factors} | {units:02} | {fold:02}-{epoch:03} | {r0:6.2%} | '\n",
        "                f'{r1.mean():6.2%} | {r1.median():6.2%}')\n",
        "        \n",
        "    scores = pd.DataFrame(scores, columns=cols)\n",
        "    scores.to_hdf(results_path / 'scores.h5', f'{units}/{n_factors}')"
      ]
    },
    {
      "cell_type": "code",
      "execution_count": 91,
      "metadata": {
        "colab": {
          "base_uri": "https://localhost:8080/",
          "height": 437
        },
        "id": "rZ9lq3oWZd7e",
        "outputId": "63bd0820-0e9d-4caf-f176-6afeb0e45127"
      },
      "outputs": [
        {
          "name": "stdout",
          "output_type": "stream",
          "text": [
            "units: 8 , n_factors: 2\n",
            "00:00:02 | 2 | 08 | 00-000 | -4.05% | -4.42% | -1.47%\n",
            "00:00:27 | 2 | 08 | 00-050 | -2.38% | -3.92% | -2.41%\n",
            "00:00:52 | 2 | 08 | 00-100 | -2.23% | -3.75% | -1.28%\n",
            "00:01:18 | 2 | 08 | 00-150 | -2.61% | -3.10% | -1.47%\n",
            "00:01:43 | 2 | 08 | 00-200 | -4.43% | -1.99% |  0.08%\n",
            "00:02:13 | 2 | 08 | 01-000 |  2.36% |  2.37% |  2.07%\n",
            "00:02:43 | 2 | 08 | 01-050 | -0.41% |  0.47% |  1.27%\n",
            "00:03:14 | 2 | 08 | 01-100 | -0.43% |  0.35% |  0.28%\n",
            "00:03:42 | 2 | 08 | 01-150 | -0.44% |  1.06% |  1.12%\n",
            "00:04:10 | 2 | 08 | 01-200 | -0.31% |  1.68% |  0.06%\n",
            "00:04:39 | 2 | 08 | 02-000 | -2.53% | -3.54% | -5.19%\n",
            "00:05:07 | 2 | 08 | 02-050 | -1.39% | -1.57% | -1.27%\n",
            "00:05:35 | 2 | 08 | 02-100 | -1.68% | -1.03% | -0.70%\n",
            "00:06:02 | 2 | 08 | 02-150 | -2.18% | -0.89% | -0.04%\n",
            "00:06:29 | 2 | 08 | 02-200 | -2.61% | -0.87% |  0.40%\n",
            "00:06:57 | 2 | 08 | 03-000 | -0.82% | -2.10% | -1.72%\n",
            "00:07:24 | 2 | 08 | 03-050 | -1.14% | -0.81% |  0.25%\n",
            "00:07:52 | 2 | 08 | 03-100 | -0.62% | -0.08% |  0.06%\n",
            "00:08:19 | 2 | 08 | 03-150 | -0.38% |  0.35% |  0.61%\n",
            "00:08:47 | 2 | 08 | 03-200 | -0.31% |  0.39% |  0.68%\n",
            "00:09:16 | 2 | 08 | 04-000 | -3.17% | -0.82% | -0.68%\n",
            "00:09:43 | 2 | 08 | 04-050 |  0.11% | -0.94% | -0.42%\n",
            "00:10:12 | 2 | 08 | 04-100 |  2.15% | -0.08% | -0.31%\n",
            "00:10:41 | 2 | 08 | 04-150 |  0.45% |  0.45% |  0.08%\n",
            "00:11:09 | 2 | 08 | 04-200 | -0.57% |  0.44% |  0.11%\n",
            "units: 8 , n_factors: 3\n",
            "00:11:39 | 3 | 08 | 00-000 | -4.89% | -5.28% | -4.56%\n",
            "00:12:08 | 3 | 08 | 00-050 | -0.49% | -0.09% | -1.73%\n",
            "00:12:38 | 3 | 08 | 00-100 |  0.30% |  0.18% | -1.25%\n",
            "00:13:10 | 3 | 08 | 00-150 |  0.59% |  0.09% | -2.44%\n",
            "00:13:41 | 3 | 08 | 00-200 |  0.91% |  0.17% | -1.71%\n",
            "00:14:11 | 3 | 08 | 01-000 | -2.41% | -3.10% | -2.51%\n",
            "00:14:40 | 3 | 08 | 01-050 | -3.45% | -5.33% | -4.28%\n",
            "00:15:10 | 3 | 08 | 01-100 | -2.96% | -4.91% | -5.28%\n",
            "00:15:40 | 3 | 08 | 01-150 | -2.15% | -4.35% | -5.32%\n",
            "00:16:09 | 3 | 08 | 01-200 | -2.38% | -4.20% | -4.40%\n",
            "00:16:40 | 3 | 08 | 02-000 | -3.82% | -4.51% | -3.00%\n",
            "00:17:10 | 3 | 08 | 02-050 | -3.81% | -3.64% | -3.27%\n",
            "00:17:41 | 3 | 08 | 02-100 | -3.92% | -4.17% | -4.07%\n",
            "00:18:11 | 3 | 08 | 02-150 | -3.08% | -3.36% | -2.88%\n",
            "00:18:42 | 3 | 08 | 02-200 | -2.48% | -3.28% | -1.93%\n",
            "00:19:14 | 3 | 08 | 03-000 |  0.18% |  1.24% |  0.50%\n",
            "00:19:45 | 3 | 08 | 03-050 |  0.58% | -0.40% | -0.67%\n",
            "00:20:17 | 3 | 08 | 03-100 |  2.53% |  1.21% |  0.13%\n",
            "00:20:49 | 3 | 08 | 03-150 |  4.36% |  0.71% |  0.08%\n",
            "00:21:21 | 3 | 08 | 03-200 |  4.85% |  0.71% |  0.05%\n",
            "00:21:58 | 3 | 08 | 04-000 |  1.58% | -0.84% |  0.19%\n",
            "00:22:32 | 3 | 08 | 04-050 | -1.05% |  0.84% |  2.39%\n",
            "00:23:07 | 3 | 08 | 04-100 | -0.79% |  1.30% |  1.90%\n",
            "00:23:46 | 3 | 08 | 04-150 | -2.67% |  1.22% |  2.57%\n",
            "00:24:22 | 3 | 08 | 04-200 | -4.91% |  1.04% |  1.55%\n",
            "units: 8 , n_factors: 4\n",
            "00:24:57 | 4 | 08 | 00-000 | -2.16% | -2.87% | -1.42%\n",
            "00:25:31 | 4 | 08 | 00-050 | -1.87% | -4.13% | -3.95%\n",
            "00:26:06 | 4 | 08 | 00-100 | -1.00% | -4.06% | -4.23%\n",
            "00:26:44 | 4 | 08 | 00-150 |  0.23% | -3.44% | -3.25%\n",
            "00:27:21 | 4 | 08 | 00-200 |  0.79% | -2.83% | -0.64%\n",
            "00:28:03 | 4 | 08 | 01-000 |  2.75% |  3.59% |  1.36%\n",
            "00:28:40 | 4 | 08 | 01-050 |  0.80% |  1.19% |  1.55%\n",
            "00:29:18 | 4 | 08 | 01-100 |  0.17% | -0.16% | -0.15%\n",
            "00:29:57 | 4 | 08 | 01-150 | -0.09% | -1.24% | -1.02%\n",
            "00:30:39 | 4 | 08 | 01-200 |  0.12% | -1.50% | -0.56%\n",
            "00:31:21 | 4 | 08 | 02-000 |  1.16% | -0.33% |  1.28%\n",
            "00:32:03 | 4 | 08 | 02-050 |  0.49% |  0.47% | -1.66%\n",
            "00:32:46 | 4 | 08 | 02-100 |  0.79% |  0.42% |  1.03%\n",
            "00:33:26 | 4 | 08 | 02-150 |  0.61% |  0.60% |  0.14%\n",
            "00:34:08 | 4 | 08 | 02-200 |  0.21% |  0.82% | -1.09%\n",
            "00:34:52 | 4 | 08 | 03-000 |  0.42% |  1.10% |  0.82%\n",
            "00:35:30 | 4 | 08 | 03-050 |  2.64% |  3.63% |  2.81%\n",
            "00:36:09 | 4 | 08 | 03-100 |  1.23% |  3.44% |  2.49%\n",
            "00:36:52 | 4 | 08 | 03-150 | -0.38% |  2.37% |  2.80%\n",
            "00:37:40 | 4 | 08 | 03-200 | -1.32% |  1.68% |  2.59%\n",
            "00:38:30 | 4 | 08 | 04-000 | -0.22% | -0.78% | -0.73%\n",
            "00:39:09 | 4 | 08 | 04-050 |  3.07% | -0.57% |  0.13%\n",
            "00:39:50 | 4 | 08 | 04-100 |  2.38% |  0.04% | -0.78%\n",
            "00:40:35 | 4 | 08 | 04-150 |  3.67% |  0.64% |  0.22%\n",
            "00:41:17 | 4 | 08 | 04-200 |  5.59% |  1.05% |  1.64%\n",
            "units: 8 , n_factors: 5\n",
            "00:42:02 | 5 | 08 | 00-000 | -1.93% | -0.10% | -1.60%\n",
            "00:42:47 | 5 | 08 | 00-050 |  0.28% | -0.39% |  1.31%\n",
            "00:43:33 | 5 | 08 | 00-100 | -0.12% |  0.01% |  1.60%\n",
            "00:44:27 | 5 | 08 | 00-150 | -1.96% | -0.33% |  1.24%\n",
            "00:45:14 | 5 | 08 | 00-200 | -1.63% | -0.07% |  0.25%\n",
            "00:46:00 | 5 | 08 | 01-000 | -0.30% |  1.04% |  0.53%\n",
            "00:46:52 | 5 | 08 | 01-050 | -1.30% | -0.48% |  0.55%\n",
            "00:47:45 | 5 | 08 | 01-100 | -1.60% | -0.28% |  1.28%\n",
            "00:48:32 | 5 | 08 | 01-150 | -0.99% | -0.55% | -0.22%\n",
            "00:49:26 | 5 | 08 | 01-200 | -0.72% | -0.93% | -0.36%\n",
            "00:50:14 | 5 | 08 | 02-000 |  2.56% |  0.71% |  1.97%\n",
            "00:51:13 | 5 | 08 | 02-050 | -1.98% | -1.10% | -1.87%\n",
            "00:52:13 | 5 | 08 | 02-100 | -2.63% | -1.92% | -2.52%\n",
            "00:53:01 | 5 | 08 | 02-150 | -2.25% | -0.72% | -0.58%\n",
            "00:53:55 | 5 | 08 | 02-200 | -2.35% | -0.81% | -1.07%\n",
            "00:54:48 | 5 | 08 | 03-000 |  0.44% | -1.26% | -0.44%\n",
            "00:55:45 | 5 | 08 | 03-050 |  0.15% | -0.74% | -0.71%\n",
            "00:56:50 | 5 | 08 | 03-100 | -1.51% | -2.31% | -3.27%\n",
            "00:57:58 | 5 | 08 | 03-150 | -1.59% | -1.78% | -2.38%\n",
            "00:59:05 | 5 | 08 | 03-200 | -1.63% | -1.82% | -2.67%\n",
            "01:00:09 | 5 | 08 | 04-000 |  0.78% |  2.39% |  1.56%\n",
            "01:01:07 | 5 | 08 | 04-050 | -3.83% | -2.04% | -2.16%\n",
            "01:02:09 | 5 | 08 | 04-100 | -2.89% | -2.33% | -2.52%\n",
            "01:03:08 | 5 | 08 | 04-150 | -1.79% | -2.94% | -1.88%\n",
            "01:04:27 | 5 | 08 | 04-200 | -0.95% | -2.78% | -2.41%\n",
            "units: 8 , n_factors: 6\n",
            "01:05:44 | 6 | 08 | 00-000 |  4.46% |  5.18% |  5.96%\n",
            "01:07:03 | 6 | 08 | 00-050 |  0.30% |  0.03% |  0.47%\n",
            "01:08:19 | 6 | 08 | 00-100 | -1.32% | -1.13% | -0.34%\n",
            "01:09:38 | 6 | 08 | 00-150 | -1.78% | -1.19% | -0.47%\n",
            "01:10:57 | 6 | 08 | 00-200 | -1.44% | -0.46% | -1.80%\n",
            "01:12:19 | 6 | 08 | 01-000 |  2.15% |  0.95% |  0.40%\n",
            "01:13:40 | 6 | 08 | 01-050 |  0.77% |  0.42% |  0.84%\n",
            "01:15:06 | 6 | 08 | 01-100 |  1.32% |  1.39% |  1.15%\n",
            "01:16:46 | 6 | 08 | 01-150 |  1.05% |  1.43% |  1.02%\n",
            "01:18:07 | 6 | 08 | 01-200 |  1.21% |  1.59% |  1.73%\n",
            "01:19:26 | 6 | 08 | 02-000 | -0.46% | -0.18% |  0.30%\n",
            "01:20:46 | 6 | 08 | 02-050 |  1.92% | -0.47% | -2.02%\n",
            "01:22:08 | 6 | 08 | 02-100 |  1.21% | -1.30% | -1.88%\n",
            "01:23:24 | 6 | 08 | 02-150 |  0.66% |  1.14% |  2.05%\n",
            "01:24:42 | 6 | 08 | 02-200 |  0.97% |  0.56% |  0.89%\n",
            "01:25:59 | 6 | 08 | 03-000 | -2.90% | -3.19% | -4.26%\n",
            "01:27:14 | 6 | 08 | 03-050 | -0.18% | -2.08% | -2.81%\n",
            "01:28:21 | 6 | 08 | 03-100 |  1.27% | -0.90% | -0.62%\n",
            "01:29:29 | 6 | 08 | 03-150 |  2.54% | -0.22% | -0.06%\n",
            "01:30:38 | 6 | 08 | 03-200 |  3.42% |  0.41% |  1.01%\n",
            "01:31:51 | 6 | 08 | 04-000 | -4.24% | -0.16% |  1.54%\n",
            "01:33:02 | 6 | 08 | 04-050 |  0.96% | -0.23% |  0.43%\n",
            "01:34:14 | 6 | 08 | 04-100 |  1.26% | -0.81% | -1.74%\n",
            "01:35:25 | 6 | 08 | 04-150 |  1.37% | -0.93% | -0.93%\n",
            "01:36:37 | 6 | 08 | 04-200 |  1.23% | -1.16% | -2.02%\n",
            "units: 16 , n_factors: 2\n",
            "01:37:49 | 2 | 16 | 00-000 | -4.24% | -1.69% | -1.96%\n",
            "01:38:55 | 2 | 16 | 00-050 | -1.33% | -1.14% | -0.99%\n",
            "01:40:02 | 2 | 16 | 00-100 | -1.04% | -0.51% | -0.23%\n",
            "01:41:10 | 2 | 16 | 00-150 | -3.36% | -0.82% | -1.46%\n",
            "01:42:27 | 2 | 16 | 00-200 | -5.65% | -0.86% | -0.27%\n",
            "01:43:36 | 2 | 16 | 01-000 | -0.68% |  0.21% | -0.15%\n",
            "01:44:45 | 2 | 16 | 01-050 | -0.50% |  0.57% |  1.08%\n",
            "01:45:58 | 2 | 16 | 01-100 | -0.88% | -0.02% | -1.11%\n",
            "01:47:08 | 2 | 16 | 01-150 | -0.89% | -0.26% | -0.83%\n",
            "01:48:17 | 2 | 16 | 01-200 | -1.47% | -0.08% |  0.09%\n",
            "01:49:28 | 2 | 16 | 02-000 |  0.13% |  0.33% |  0.67%\n",
            "01:50:39 | 2 | 16 | 02-050 | -0.05% | -0.19% |  0.27%\n",
            "01:51:52 | 2 | 16 | 02-100 | -0.47% |  0.87% | -0.01%\n",
            "01:53:04 | 2 | 16 | 02-150 | -0.17% |  0.24% | -0.32%\n",
            "01:54:19 | 2 | 16 | 02-200 |  0.44% |  0.31% |  0.51%\n",
            "01:55:34 | 2 | 16 | 03-000 | -3.04% | -1.52% | -2.02%\n",
            "01:56:49 | 2 | 16 | 03-050 | -0.01% |  0.06% |  0.36%\n",
            "01:58:05 | 2 | 16 | 03-100 | -3.40% |  0.18% | -0.38%\n",
            "01:59:22 | 2 | 16 | 03-150 | -5.38% |  0.10% |  0.16%\n",
            "02:00:41 | 2 | 16 | 03-200 | -5.58% | -0.72% |  0.18%\n",
            "02:02:14 | 2 | 16 | 04-000 |  1.32% |  0.41% | -0.81%\n",
            "02:03:45 | 2 | 16 | 04-050 | -1.22% |  1.50% |  0.84%\n",
            "02:05:15 | 2 | 16 | 04-100 | -2.58% |  1.05% | -0.41%\n",
            "02:06:44 | 2 | 16 | 04-150 | -3.88% |  0.78% | -0.63%\n",
            "02:08:21 | 2 | 16 | 04-200 | -4.85% |  0.80% |  0.50%\n",
            "units: 16 , n_factors: 3\n",
            "02:10:04 | 3 | 16 | 00-000 |  1.36% |  1.11% |  1.82%\n",
            "02:11:48 | 3 | 16 | 00-050 | -4.38% | -1.62% | -2.03%\n",
            "02:13:24 | 3 | 16 | 00-100 | -4.63% | -1.63% | -2.58%\n",
            "02:15:02 | 3 | 16 | 00-150 | -4.70% | -1.54% | -2.09%\n",
            "02:16:37 | 3 | 16 | 00-200 | -4.80% | -2.01% | -2.41%\n",
            "02:18:31 | 3 | 16 | 01-000 |  1.96% |  1.28% |  1.17%\n",
            "02:20:19 | 3 | 16 | 01-050 | -1.66% | -0.42% |  0.14%\n",
            "02:22:10 | 3 | 16 | 01-100 | -2.99% | -0.68% | -1.28%\n",
            "02:24:00 | 3 | 16 | 01-150 | -2.92% | -1.21% | -1.46%\n",
            "02:25:43 | 3 | 16 | 01-200 | -2.07% | -0.48% | -0.98%\n",
            "02:27:27 | 3 | 16 | 02-000 |  1.64% |  1.14% | -1.08%\n",
            "02:29:13 | 3 | 16 | 02-050 |  0.07% | -0.60% |  0.52%\n",
            "02:31:03 | 3 | 16 | 02-100 |  1.76% | -0.23% | -1.49%\n",
            "02:32:54 | 3 | 16 | 02-150 |  2.47% |  0.08% | -0.43%\n",
            "02:34:38 | 3 | 16 | 02-200 |  2.10% | -0.18% |  0.54%\n",
            "02:36:23 | 3 | 16 | 03-000 | -2.45% | -3.11% | -2.03%\n",
            "02:38:10 | 3 | 16 | 03-050 | -1.82% | -2.21% | -1.23%\n",
            "02:39:57 | 3 | 16 | 03-100 | -4.06% | -2.82% | -3.12%\n",
            "02:41:42 | 3 | 16 | 03-150 | -6.09% | -2.74% | -2.92%\n",
            "02:43:30 | 3 | 16 | 03-200 | -7.14% | -1.92% | -1.65%\n",
            "02:45:17 | 3 | 16 | 04-000 | -2.27% | -2.12% | -1.74%\n",
            "02:47:05 | 3 | 16 | 04-050 | -0.39% | -1.56% | -2.28%\n",
            "02:48:51 | 3 | 16 | 04-100 | -1.01% | -1.48% | -1.83%\n",
            "02:50:38 | 3 | 16 | 04-150 | -1.76% | -1.12% | -1.49%\n",
            "02:52:29 | 3 | 16 | 04-200 | -2.76% | -1.35% | -1.47%\n",
            "units: 16 , n_factors: 4\n",
            "02:54:18 | 4 | 16 | 00-000 | -3.86% | -1.51% | -1.53%\n",
            "02:56:07 | 4 | 16 | 00-050 |  1.93% |  0.46% |  0.57%\n",
            "02:57:58 | 4 | 16 | 00-100 |  4.29% |  1.47% |  1.54%\n",
            "02:59:50 | 4 | 16 | 00-150 |  5.64% |  2.43% |  3.20%\n",
            "03:01:41 | 4 | 16 | 00-200 |  6.59% |  2.19% |  4.25%\n",
            "03:03:35 | 4 | 16 | 01-000 | -0.94% | -2.44% | -4.97%\n",
            "03:05:32 | 4 | 16 | 01-050 | -3.44% | -3.09% | -4.82%\n",
            "03:07:28 | 4 | 16 | 01-100 | -3.25% | -2.49% | -3.85%\n",
            "03:09:22 | 4 | 16 | 01-150 | -3.08% | -1.91% | -2.06%\n",
            "03:11:17 | 4 | 16 | 01-200 | -2.27% | -1.30% | -1.18%\n",
            "03:13:14 | 4 | 16 | 02-000 | -0.01% | -0.93% | -0.10%\n",
            "03:15:20 | 4 | 16 | 02-050 |  0.25% |  0.29% | -0.11%\n",
            "03:17:34 | 4 | 16 | 02-100 | -0.62% | -0.68% | -0.90%\n",
            "03:19:53 | 4 | 16 | 02-150 | -0.54% | -0.46% | -0.33%\n",
            "03:22:02 | 4 | 16 | 02-200 |  0.05% |  0.14% |  0.23%\n",
            "03:24:16 | 4 | 16 | 03-000 |  1.13% |  0.37% | -0.16%\n",
            "03:26:37 | 4 | 16 | 03-050 |  3.08% |  0.93% | -1.38%\n",
            "03:29:10 | 4 | 16 | 03-100 |  2.11% |  1.07% |  1.03%\n",
            "03:31:34 | 4 | 16 | 03-150 |  1.24% |  2.01% |  1.83%\n",
            "03:33:53 | 4 | 16 | 03-200 |  0.08% |  2.02% |  1.85%\n",
            "03:36:14 | 4 | 16 | 04-000 |  0.27% |  2.12% |  3.37%\n",
            "03:38:39 | 4 | 16 | 04-050 | -0.40% |  0.04% | -0.02%\n",
            "03:40:59 | 4 | 16 | 04-100 | -0.09% | -0.32% | -1.56%\n",
            "03:43:20 | 4 | 16 | 04-150 | -0.27% | -0.87% | -1.76%\n",
            "03:45:41 | 4 | 16 | 04-200 |  1.11% | -0.85% | -1.90%\n",
            "units: 16 , n_factors: 5\n",
            "03:48:06 | 5 | 16 | 00-000 | -4.07% | -1.76% | -1.74%\n",
            "03:50:30 | 5 | 16 | 00-050 | -4.46% | -5.17% | -6.08%\n",
            "03:52:53 | 5 | 16 | 00-100 | -4.59% | -5.35% | -6.15%\n",
            "03:55:20 | 5 | 16 | 00-150 | -3.96% | -4.56% | -5.10%\n",
            "03:57:47 | 5 | 16 | 00-200 | -3.67% | -3.85% | -4.47%\n",
            "04:00:14 | 5 | 16 | 01-000 | -0.49% |  1.02% | -1.15%\n",
            "04:02:37 | 5 | 16 | 01-050 |  1.20% |  0.18% |  0.14%\n",
            "04:05:03 | 5 | 16 | 01-100 |  1.11% |  0.05% |  0.65%\n",
            "04:07:35 | 5 | 16 | 01-150 |  1.14% |  0.01% |  0.35%\n",
            "04:10:08 | 5 | 16 | 01-200 |  2.04% |  0.18% | -0.37%\n",
            "04:12:44 | 5 | 16 | 02-000 | -0.63% |  0.15% | -0.57%\n",
            "04:15:17 | 5 | 16 | 02-050 |  1.29% |  1.12% |  2.12%\n",
            "04:17:50 | 5 | 16 | 02-100 |  1.53% |  1.43% |  1.31%\n",
            "04:20:22 | 5 | 16 | 02-150 |  1.62% |  1.16% |  0.60%\n",
            "04:22:59 | 5 | 16 | 02-200 |  2.09% |  1.41% |  1.67%\n",
            "04:25:37 | 5 | 16 | 03-000 |  1.58% |  2.40% |  1.48%\n",
            "04:28:18 | 5 | 16 | 03-050 |  1.79% |  1.86% |  2.32%\n",
            "04:30:56 | 5 | 16 | 03-100 |  1.07% |  1.23% |  0.55%\n",
            "04:33:33 | 5 | 16 | 03-150 |  1.14% |  1.68% |  1.06%\n",
            "04:36:13 | 5 | 16 | 03-200 |  1.03% |  1.82% |  2.81%\n",
            "04:38:54 | 5 | 16 | 04-000 |  0.80% |  2.23% |  3.13%\n",
            "04:41:30 | 5 | 16 | 04-050 | -3.70% | -1.98% | -1.45%\n",
            "04:44:08 | 5 | 16 | 04-100 | -2.18% | -0.95% | -0.29%\n",
            "04:46:52 | 5 | 16 | 04-150 | -3.89% | -0.36% |  0.38%\n",
            "04:49:33 | 5 | 16 | 04-200 | -4.81% |  0.12% |  0.27%\n",
            "units: 16 , n_factors: 6\n",
            "04:52:20 | 6 | 16 | 00-000 |  0.21% | -0.88% |  0.97%\n",
            "04:55:04 | 6 | 16 | 00-050 |  0.62% |  1.54% |  3.05%\n",
            "04:57:49 | 6 | 16 | 00-100 |  0.45% |  2.00% |  2.46%\n",
            "05:00:33 | 6 | 16 | 00-150 | -2.35% |  1.05% |  1.19%\n",
            "05:03:16 | 6 | 16 | 00-200 | -4.23% |  0.54% |  1.30%\n",
            "05:05:58 | 6 | 16 | 01-000 | -3.04% | -1.33% | -1.92%\n",
            "05:08:48 | 6 | 16 | 01-050 | -0.77% | -0.99% | -1.85%\n",
            "05:11:35 | 6 | 16 | 01-100 | -0.39% |  0.18% | -0.71%\n",
            "05:14:26 | 6 | 16 | 01-150 | -0.30% |  0.53% |  0.16%\n",
            "05:17:16 | 6 | 16 | 01-200 |  0.26% |  1.01% |  1.06%\n",
            "05:20:03 | 6 | 16 | 02-000 | -3.14% | -3.17% | -3.73%\n",
            "05:22:53 | 6 | 16 | 02-050 | -0.52% | -0.54% |  0.02%\n",
            "05:25:44 | 6 | 16 | 02-100 | -0.30% | -1.86% | -0.53%\n",
            "05:28:35 | 6 | 16 | 02-150 | -0.24% | -2.22% | -2.00%\n",
            "05:31:29 | 6 | 16 | 02-200 | -0.38% | -1.89% | -2.16%\n",
            "05:34:22 | 6 | 16 | 03-000 |  0.68% | -0.98% |  0.02%\n",
            "05:37:21 | 6 | 16 | 03-050 |  0.05% | -0.76% | -0.17%\n",
            "05:40:32 | 6 | 16 | 03-100 | -0.40% | -0.22% | -0.35%\n",
            "05:43:38 | 6 | 16 | 03-150 |  1.17% |  1.14% |  1.54%\n",
            "05:46:43 | 6 | 16 | 03-200 |  0.77% |  0.72% |  1.22%\n",
            "05:49:50 | 6 | 16 | 04-000 | -4.08% |  1.06% |  1.35%\n",
            "05:53:01 | 6 | 16 | 04-050 |  1.41% | -4.48% | -5.76%\n",
            "05:56:11 | 6 | 16 | 04-100 |  1.85% | -3.61% | -4.10%\n",
            "05:59:15 | 6 | 16 | 04-150 |  1.32% | -2.92% | -3.79%\n",
            "06:02:30 | 6 | 16 | 04-200 | -0.09% | -2.69% | -3.52%\n",
            "units: 32 , n_factors: 2\n",
            "06:05:49 | 2 | 32 | 00-000 |  2.02% |  1.01% |  0.54%\n",
            "06:09:11 | 2 | 32 | 00-050 |  3.00% |  1.07% |  0.91%\n",
            "06:12:32 | 2 | 32 | 00-100 |  3.88% |  0.97% |  0.95%\n",
            "06:15:52 | 2 | 32 | 00-150 |  4.47% |  1.57% |  1.57%\n",
            "06:19:09 | 2 | 32 | 00-200 |  4.64% |  0.35% |  1.42%\n",
            "06:22:30 | 2 | 32 | 01-000 |  0.47% |  0.66% | -0.68%\n",
            "06:25:54 | 2 | 32 | 01-050 |  0.49% |  1.03% |  0.06%\n",
            "06:29:22 | 2 | 32 | 01-100 | -0.18% |  1.20% |  0.59%\n",
            "06:32:45 | 2 | 32 | 01-150 | -1.34% |  1.34% |  1.17%\n",
            "06:36:08 | 2 | 32 | 01-200 | -2.75% |  0.89% |  0.47%\n",
            "06:39:32 | 2 | 32 | 02-000 | -2.27% | -2.00% | -0.97%\n",
            "06:42:58 | 2 | 32 | 02-050 |  0.76% |  1.17% |  1.64%\n",
            "06:46:21 | 2 | 32 | 02-100 |  2.74% |  1.32% |  1.00%\n",
            "06:49:49 | 2 | 32 | 02-150 |  2.44% |  0.97% |  0.95%\n",
            "06:53:12 | 2 | 32 | 02-200 |  1.66% |  0.50% |  0.33%\n",
            "06:56:39 | 2 | 32 | 03-000 | -0.68% | -1.64% | -1.69%\n",
            "07:00:05 | 2 | 32 | 03-050 |  0.42% |  0.50% |  0.61%\n",
            "07:03:32 | 2 | 32 | 03-100 |  0.73% |  1.80% |  1.75%\n",
            "07:07:04 | 2 | 32 | 03-150 | -3.20% |  1.20% |  1.40%\n",
            "07:10:29 | 2 | 32 | 03-200 | -4.42% | -0.06% | -0.28%\n",
            "07:14:01 | 2 | 32 | 04-000 | -4.97% | -1.19% | -2.19%\n",
            "07:17:33 | 2 | 32 | 04-050 |  2.24% |  0.68% | -0.21%\n",
            "07:21:09 | 2 | 32 | 04-100 |  7.26% |  0.97% |  0.82%\n",
            "07:24:43 | 2 | 32 | 04-150 |  8.32% |  0.95% |  0.74%\n",
            "07:28:26 | 2 | 32 | 04-200 |  7.38% |  0.10% | -0.62%\n",
            "units: 32 , n_factors: 3\n",
            "07:32:12 | 3 | 32 | 00-000 | -1.54% |  0.01% | -2.39%\n",
            "07:35:57 | 3 | 32 | 00-050 | -0.69% |  0.64% | -0.42%\n",
            "07:39:47 | 3 | 32 | 00-100 | -0.36% |  1.35% |  1.30%\n",
            "07:43:34 | 3 | 32 | 00-150 | -0.20% |  1.12% |  1.70%\n",
            "07:47:23 | 3 | 32 | 00-200 |  0.10% |  0.91% |  2.28%\n",
            "07:51:13 | 3 | 32 | 01-000 |  1.07% |  2.13% |  2.08%\n",
            "07:55:06 | 3 | 32 | 01-050 |  0.18% |  0.70% |  1.17%\n",
            "07:58:58 | 3 | 32 | 01-100 | -1.66% | -0.35% | -0.38%\n",
            "08:02:48 | 3 | 32 | 01-150 | -2.10% |  0.22% | -0.28%\n",
            "08:06:41 | 3 | 32 | 01-200 | -2.96% | -0.29% |  0.45%\n",
            "08:10:35 | 3 | 32 | 02-000 | -1.99% |  0.29% |  0.34%\n",
            "08:14:35 | 3 | 32 | 02-050 |  2.49% |  0.30% | -0.13%\n",
            "08:18:35 | 3 | 32 | 02-100 |  2.91% | -0.21% | -0.46%\n",
            "08:22:35 | 3 | 32 | 02-150 |  2.80% | -0.47% | -0.54%\n",
            "08:26:34 | 3 | 32 | 02-200 |  2.34% | -0.71% | -0.46%\n",
            "08:30:29 | 3 | 32 | 03-000 | -3.42% | -3.62% | -4.59%\n",
            "08:34:19 | 3 | 32 | 03-050 |  0.95% |  1.08% |  1.03%\n",
            "08:38:15 | 3 | 32 | 03-100 | -0.14% |  1.23% |  1.69%\n",
            "08:42:24 | 3 | 32 | 03-150 |  0.28% |  2.22% |  2.87%\n",
            "08:46:43 | 3 | 32 | 03-200 |  0.10% |  2.07% |  2.61%\n",
            "08:51:01 | 3 | 32 | 04-000 | -2.92% |  3.29% |  3.14%\n",
            "08:55:17 | 3 | 32 | 04-050 | -0.37% |  0.73% |  0.12%\n",
            "08:59:38 | 3 | 32 | 04-100 |  0.63% |  0.95% |  1.47%\n",
            "09:03:50 | 3 | 32 | 04-150 |  2.45% |  0.40% | -0.74%\n",
            "09:08:09 | 3 | 32 | 04-200 | -3.09% | -0.11% | -1.49%\n",
            "units: 32 , n_factors: 4\n",
            "09:12:28 | 4 | 32 | 00-000 |  2.71% |  2.59% |  2.83%\n",
            "09:16:47 | 4 | 32 | 00-050 |  0.77% |  1.45% |  1.56%\n",
            "09:21:10 | 4 | 32 | 00-100 |  2.04% |  1.50% |  2.35%\n",
            "09:25:24 | 4 | 32 | 00-150 |  0.64% | -0.48% | -0.61%\n",
            "09:29:47 | 4 | 32 | 00-200 |  0.22% |  0.42% |  1.49%\n",
            "09:34:06 | 4 | 32 | 01-000 |  3.46% |  1.45% |  1.17%\n",
            "09:38:25 | 4 | 32 | 01-050 |  2.70% |  1.83% |  2.75%\n",
            "09:42:15 | 4 | 32 | 01-100 |  2.84% |  1.03% | -0.13%\n",
            "09:46:10 | 4 | 32 | 01-150 |  3.64% |  0.88% |  0.19%\n",
            "09:50:06 | 4 | 32 | 01-200 |  3.87% |  0.87% |  0.28%\n",
            "09:54:11 | 4 | 32 | 02-000 | -1.17% | -1.32% |  0.92%\n",
            "09:58:08 | 4 | 32 | 02-050 | -0.14% | -0.99% | -1.71%\n",
            "10:02:05 | 4 | 32 | 02-100 |  1.22% | -0.90% | -0.65%\n",
            "10:05:55 | 4 | 32 | 02-150 |  1.23% | -0.86% |  0.17%\n",
            "10:09:49 | 4 | 32 | 02-200 |  1.87% | -0.16% |  0.75%\n",
            "10:13:50 | 4 | 32 | 03-000 |  0.86% |  0.28% | -0.04%\n",
            "10:17:43 | 4 | 32 | 03-050 | -1.74% | -0.42% | -0.51%\n",
            "10:21:48 | 4 | 32 | 03-100 | -2.31% |  0.17% | -0.69%\n",
            "10:25:56 | 4 | 32 | 03-150 | -2.11% |  0.68% |  0.39%\n",
            "10:29:58 | 4 | 32 | 03-200 | -2.05% |  1.00% |  1.80%\n",
            "10:34:08 | 4 | 32 | 04-000 | -4.00% |  1.51% |  0.18%\n",
            "10:38:16 | 4 | 32 | 04-050 | -3.29% | -1.56% | -1.43%\n",
            "10:42:22 | 4 | 32 | 04-100 | -7.27% | -0.19% |  0.18%\n",
            "10:46:28 | 4 | 32 | 04-150 | -5.63% |  0.62% | -0.27%\n",
            "10:50:39 | 4 | 32 | 04-200 | -6.54% |  1.35% |  1.30%\n",
            "units: 32 , n_factors: 5\n",
            "10:54:60 | 5 | 32 | 00-000 | -0.78% | -1.03% | -0.81%\n",
            "10:59:08 | 5 | 32 | 00-050 |  2.51% |  2.79% |  3.23%\n",
            "11:03:23 | 5 | 32 | 00-100 |  1.83% |  3.64% |  4.91%\n",
            "11:07:43 | 5 | 32 | 00-150 |  0.73% |  3.94% |  4.04%\n",
            "11:11:54 | 5 | 32 | 00-200 | -0.29% |  3.35% |  3.13%\n",
            "11:16:09 | 5 | 32 | 01-000 |  2.81% |  3.74% |  5.57%\n",
            "11:20:50 | 5 | 32 | 01-050 | -1.28% | -2.34% | -2.49%\n",
            "11:25:16 | 5 | 32 | 01-100 | -1.47% | -2.07% | -3.21%\n",
            "11:29:31 | 5 | 32 | 01-150 | -1.59% | -1.53% | -4.42%\n",
            "11:33:43 | 5 | 32 | 01-200 | -2.10% | -1.61% | -4.54%\n",
            "11:37:55 | 5 | 32 | 02-000 | -2.94% | -0.94% | -1.49%\n",
            "11:42:06 | 5 | 32 | 02-050 | -0.78% | -1.21% | -1.24%\n",
            "11:46:28 | 5 | 32 | 02-100 | -0.01% | -0.75% | -0.30%\n",
            "11:50:53 | 5 | 32 | 02-150 |  0.20% | -0.67% |  0.04%\n",
            "11:55:11 | 5 | 32 | 02-200 |  0.97% | -0.35% |  0.23%\n",
            "11:59:28 | 5 | 32 | 03-000 |  0.69% | -1.16% |  0.56%\n",
            "12:03:40 | 5 | 32 | 03-050 | -0.19% | -0.36% | -0.59%\n",
            "12:07:57 | 5 | 32 | 03-100 |  1.65% |  0.49% |  0.40%\n",
            "12:12:16 | 5 | 32 | 03-150 |  3.03% |  1.00% |  1.19%\n",
            "12:16:34 | 5 | 32 | 03-200 |  4.08% |  0.95% |  0.08%\n",
            "12:20:52 | 5 | 32 | 04-000 |  0.66% | -3.32% | -0.78%\n",
            "12:25:12 | 5 | 32 | 04-050 |  2.89% | -1.27% | -0.94%\n",
            "12:29:39 | 5 | 32 | 04-100 |  2.16% | -1.83% | -3.07%\n",
            "12:34:02 | 5 | 32 | 04-150 |  3.35% | -1.55% | -1.54%\n",
            "12:38:24 | 5 | 32 | 04-200 |  3.81% | -1.88% | -1.98%\n",
            "units: 32 , n_factors: 6\n",
            "12:42:50 | 6 | 32 | 00-000 |  0.14% |  3.01% |  2.09%\n",
            "12:47:17 | 6 | 32 | 00-050 |  1.05% | -1.01% | -2.35%\n",
            "12:51:50 | 6 | 32 | 00-100 |  3.60% | -1.61% | -3.54%\n",
            "12:56:24 | 6 | 32 | 00-150 |  1.40% | -2.13% | -2.24%\n",
            "13:00:54 | 6 | 32 | 00-200 |  1.93% | -2.05% | -2.68%\n",
            "13:05:31 | 6 | 32 | 01-000 | -1.61% | -0.71% | -0.58%\n",
            "13:10:18 | 6 | 32 | 01-050 | -0.25% |  0.16% | -0.37%\n",
            "13:14:49 | 6 | 32 | 01-100 |  0.27% |  1.26% | -0.03%\n",
            "13:19:31 | 6 | 32 | 01-150 |  0.76% |  1.20% |  1.59%\n",
            "13:24:11 | 6 | 32 | 01-200 |  0.82% |  0.36% |  0.73%\n",
            "13:28:53 | 6 | 32 | 02-000 |  3.81% |  1.16% |  0.18%\n",
            "13:33:27 | 6 | 32 | 02-050 |  0.12% | -0.77% | -1.02%\n",
            "13:38:06 | 6 | 32 | 02-100 | -0.57% | -1.80% | -2.86%\n",
            "13:42:48 | 6 | 32 | 02-150 |  0.02% | -1.95% | -3.05%\n",
            "13:47:25 | 6 | 32 | 02-200 |  0.22% | -1.58% | -1.91%\n",
            "13:52:09 | 6 | 32 | 03-000 |  0.23% | -0.66% |  0.32%\n",
            "13:56:55 | 6 | 32 | 03-050 |  3.85% |  3.84% |  3.52%\n",
            "14:01:35 | 6 | 32 | 03-100 |  3.69% |  3.85% |  4.35%\n",
            "14:06:11 | 6 | 32 | 03-150 |  3.01% |  3.34% |  5.17%\n",
            "14:11:01 | 6 | 32 | 03-200 |  2.13% |  2.76% |  3.75%\n",
            "14:15:52 | 6 | 32 | 04-000 | -2.43% | -1.13% |  0.14%\n",
            "14:20:37 | 6 | 32 | 04-050 |  0.18% | -0.52% |  0.34%\n",
            "14:25:30 | 6 | 32 | 04-100 |  0.68% | -0.43% |  0.06%\n",
            "14:30:20 | 6 | 32 | 04-150 |  2.65% | -0.26% | -0.29%\n",
            "14:35:07 | 6 | 32 | 04-200 |  3.48% |  0.50% |  0.22%\n"
          ]
        }
      ],
      "source": [
        "start = time()\n",
        "for units, n_factors in param_grid:\n",
        "    print(\"units:\", units, \", n_factors:\", n_factors)\n",
        "    scores = []\n",
        "    for fold, (train_idx, val_idx) in enumerate(cv.split(data)):\n",
        "        X1_train, X2_train, y_train, X1_val, X2_val, y_val = get_train_valid_data(data,\n",
        "                                                                                  train_idx,\n",
        "                                                                                  val_idx)\n",
        "        train_gen = DataGenerator(X1_train, X2_train, y_train, batch_size=batch_size)\n",
        "        val_gen = DataGenerator(X1_val, X2_val, y_val, batch_size=batch_size)\n",
        "        model = make_model(hidden_units=units, n_factors=n_factors)\n",
        "        for epoch in range(250):\n",
        "            model.fit_generator(train_gen,\n",
        "                                validation_data=val_gen,\n",
        "                                epochs=epoch + 1,\n",
        "                                initial_epoch=epoch, verbose=False, shuffle=True, callbacks=ClearMemory())\n",
        "            y_pred = model.predict_generator(val_gen, callbacks=ClearMemory())\n",
        "            y_true = y_val.stack().values\n",
        "            date_index = y_val.stack().index\n",
        "            result = (pd.DataFrame({'y_pred': y_pred.reshape(-1),\n",
        "                                    'y_true': y_true},\n",
        "                                   index=date_index)\n",
        "                      .replace(-2, np.nan).dropna())\n",
        "            r0 = spearmanr(result.y_true, result.y_pred)[0]\n",
        "            r1 = result.groupby(level='date').apply(lambda x: spearmanr(x.y_pred,\n",
        "                                                                        x.y_true)[0])\n",
        "\n",
        "            scores.append([units, n_factors, fold, epoch, r0,\n",
        "                           r1.mean(), r1.std(), r1.median()])\n",
        "            if epoch % 50 == 0:\n",
        "                print(f'{format_time(time()-start)} | {n_factors} | {units:02} | {fold:02}-{epoch:03} | {r0:6.2%} | '\n",
        "                  f'{r1.mean():6.2%} | {r1.median():6.2%}')\n",
        "            \n",
        "        scores = pd.DataFrame(scores, columns=cols)\n",
        "        scores.to_hdf(results_path / 'scores.h5', f'{units}/{n_factors}')"
      ]
    },
    {
      "attachments": {},
      "cell_type": "markdown",
      "metadata": {
        "id": "dIM2p89BG6AL"
      },
      "source": [
        "### Evaluate Results"
      ]
    },
    {
      "cell_type": "code",
      "execution_count": 318,
      "metadata": {
        "ExecuteTime": {
          "end_time": "2021-02-25T01:24:37.645031Z",
          "start_time": "2021-02-25T01:24:37.472670Z"
        },
        "colab": {
          "base_uri": "https://localhost:8080/"
        },
        "id": "O8W-ZRhJG6AL",
        "outputId": "a9441050-db1e-4938-aac9-f4a88aa56ae6"
      },
      "outputs": [
        {
          "name": "stdout",
          "output_type": "stream",
          "text": [
            "[     units  n_factors  fold  epoch   ic_mean  ic_daily_mean  ic_daily_std  \\\n",
            "0        8          3     0      0  0.017229       0.031378      0.089028   \n",
            "1        8          3     0      1  0.011602      -0.000100      0.086461   \n",
            "2        8          3     0      2  0.005690       0.002270      0.084440   \n",
            "3        8          3     0      3  0.012815       0.013447      0.090168   \n",
            "4        8          3     0      4  0.013983       0.013425      0.090880   \n",
            "..     ...        ...   ...    ...       ...            ...           ...   \n",
            "245      8          3     0    245  0.019281       0.009177      0.094405   \n",
            "246      8          3     0    246  0.019499       0.007717      0.093689   \n",
            "247      8          3     0    247  0.013158       0.001211      0.091735   \n",
            "248      8          3     0    248  0.018188       0.005341      0.088630   \n",
            "249      8          3     0    249  0.010297       0.002083      0.092527   \n",
            "\n",
            "     ic_daily_median  \n",
            "0           0.019999  \n",
            "1          -0.008484  \n",
            "2          -0.008356  \n",
            "3           0.003691  \n",
            "4           0.006809  \n",
            "..               ...  \n",
            "245         0.001726  \n",
            "246         0.000835  \n",
            "247        -0.021170  \n",
            "248        -0.001732  \n",
            "249        -0.018799  \n",
            "\n",
            "[250 rows x 8 columns],      units  n_factors  fold  epoch   ic_mean  ic_daily_mean  ic_daily_std  \\\n",
            "0       16          4     0      0 -0.032395      -0.056349      0.107924   \n",
            "1       16          4     0      1 -0.034646      -0.062336      0.111452   \n",
            "2       16          4     0      2 -0.030234      -0.058520      0.098234   \n",
            "3       16          4     0      3 -0.030947      -0.055839      0.103491   \n",
            "4       16          4     0      4 -0.032781      -0.057532      0.104359   \n",
            "..     ...        ...   ...    ...       ...            ...           ...   \n",
            "245     16          4     0    245 -0.042935      -0.032300      0.061745   \n",
            "246     16          4     0    246 -0.034966      -0.031114      0.062086   \n",
            "247     16          4     0    247 -0.039540      -0.036793      0.064300   \n",
            "248     16          4     0    248 -0.038797      -0.035061      0.062710   \n",
            "249     16          4     0    249 -0.036940      -0.034020      0.062336   \n",
            "\n",
            "     ic_daily_median  \n",
            "0          -0.017182  \n",
            "1          -0.036904  \n",
            "2          -0.031779  \n",
            "3          -0.030528  \n",
            "4          -0.034402  \n",
            "..               ...  \n",
            "245        -0.042850  \n",
            "246        -0.029091  \n",
            "247        -0.037993  \n",
            "248        -0.037957  \n",
            "249        -0.031813  \n",
            "\n",
            "[250 rows x 8 columns]]\n"
          ]
        }
      ],
      "source": [
        "scores = []\n",
        "with pd.HDFStore(results_path / 'scores.h5') as store:\n",
        "    for key in store.keys():\n",
        "        scores.append(store[key])\n",
        "print(scores)\n",
        "scores = pd.concat(scores)"
      ]
    },
    {
      "cell_type": "code",
      "execution_count": 319,
      "metadata": {
        "ExecuteTime": {
          "end_time": "2021-02-25T01:24:38.690579Z",
          "start_time": "2021-02-25T01:24:38.680750Z"
        },
        "colab": {
          "base_uri": "https://localhost:8080/"
        },
        "id": "hMztxTYrG6AL",
        "outputId": "6b710c5a-0db1-4a85-e7be-fe00fa1cdba6"
      },
      "outputs": [
        {
          "name": "stdout",
          "output_type": "stream",
          "text": [
            "<class 'pandas.core.frame.DataFrame'>\n",
            "Int64Index: 500 entries, 0 to 249\n",
            "Data columns (total 8 columns):\n",
            " #   Column           Non-Null Count  Dtype  \n",
            "---  ------           --------------  -----  \n",
            " 0   units            500 non-null    int64  \n",
            " 1   n_factors        500 non-null    int64  \n",
            " 2   fold             500 non-null    int64  \n",
            " 3   epoch            500 non-null    int64  \n",
            " 4   ic_mean          500 non-null    float64\n",
            " 5   ic_daily_mean    500 non-null    float64\n",
            " 6   ic_daily_std     500 non-null    float64\n",
            " 7   ic_daily_median  500 non-null    float64\n",
            "dtypes: float64(4), int64(4)\n",
            "memory usage: 35.2 KB\n"
          ]
        }
      ],
      "source": [
        "scores.info()"
      ]
    },
    {
      "cell_type": "code",
      "execution_count": 320,
      "metadata": {
        "ExecuteTime": {
          "end_time": "2021-02-25T01:24:40.755460Z",
          "start_time": "2021-02-25T01:24:40.737523Z"
        },
        "id": "zxY8oAt6G6AM"
      },
      "outputs": [],
      "source": [
        "avg = (scores.groupby(['n_factors', 'units', 'epoch'])\n",
        "       ['ic_mean', 'ic_daily_mean', 'ic_daily_median']\n",
        "       .mean()\n",
        "      .reset_index())"
      ]
    },
    {
      "cell_type": "code",
      "execution_count": 324,
      "metadata": {
        "ExecuteTime": {
          "end_time": "2021-02-25T01:24:40.967622Z",
          "start_time": "2021-02-25T01:24:40.946156Z"
        },
        "colab": {
          "base_uri": "https://localhost:8080/",
          "height": 677
        },
        "id": "-kjtkcHYG6AM",
        "outputId": "ea0906e6-890f-43a0-b547-f064f37f5bed"
      },
      "outputs": [
        {
          "data": {
            "text/html": [
              "<div>\n",
              "<style scoped>\n",
              "    .dataframe tbody tr th:only-of-type {\n",
              "        vertical-align: middle;\n",
              "    }\n",
              "\n",
              "    .dataframe tbody tr th {\n",
              "        vertical-align: top;\n",
              "    }\n",
              "\n",
              "    .dataframe thead th {\n",
              "        text-align: right;\n",
              "    }\n",
              "</style>\n",
              "<table border=\"1\" class=\"dataframe\">\n",
              "  <thead>\n",
              "    <tr style=\"text-align: right;\">\n",
              "      <th></th>\n",
              "      <th>n_factors</th>\n",
              "      <th>units</th>\n",
              "      <th>epoch</th>\n",
              "      <th>ic_mean</th>\n",
              "      <th>ic_daily_mean</th>\n",
              "      <th>ic_daily_median</th>\n",
              "    </tr>\n",
              "  </thead>\n",
              "  <tbody>\n",
              "    <tr>\n",
              "      <th>36</th>\n",
              "      <td>3</td>\n",
              "      <td>8</td>\n",
              "      <td>36</td>\n",
              "      <td>0.021097</td>\n",
              "      <td>0.032065</td>\n",
              "      <td>0.031935</td>\n",
              "    </tr>\n",
              "    <tr>\n",
              "      <th>0</th>\n",
              "      <td>3</td>\n",
              "      <td>8</td>\n",
              "      <td>0</td>\n",
              "      <td>0.017229</td>\n",
              "      <td>0.031378</td>\n",
              "      <td>0.019999</td>\n",
              "    </tr>\n",
              "    <tr>\n",
              "      <th>19</th>\n",
              "      <td>3</td>\n",
              "      <td>8</td>\n",
              "      <td>19</td>\n",
              "      <td>0.006346</td>\n",
              "      <td>0.017253</td>\n",
              "      <td>0.018472</td>\n",
              "    </tr>\n",
              "    <tr>\n",
              "      <th>23</th>\n",
              "      <td>3</td>\n",
              "      <td>8</td>\n",
              "      <td>23</td>\n",
              "      <td>0.008843</td>\n",
              "      <td>0.020951</td>\n",
              "      <td>0.016793</td>\n",
              "    </tr>\n",
              "    <tr>\n",
              "      <th>22</th>\n",
              "      <td>3</td>\n",
              "      <td>8</td>\n",
              "      <td>22</td>\n",
              "      <td>-0.002534</td>\n",
              "      <td>0.009432</td>\n",
              "      <td>0.016300</td>\n",
              "    </tr>\n",
              "    <tr>\n",
              "      <th>21</th>\n",
              "      <td>3</td>\n",
              "      <td>8</td>\n",
              "      <td>21</td>\n",
              "      <td>0.011908</td>\n",
              "      <td>0.022143</td>\n",
              "      <td>0.015048</td>\n",
              "    </tr>\n",
              "    <tr>\n",
              "      <th>24</th>\n",
              "      <td>3</td>\n",
              "      <td>8</td>\n",
              "      <td>24</td>\n",
              "      <td>0.002780</td>\n",
              "      <td>0.013394</td>\n",
              "      <td>0.014745</td>\n",
              "    </tr>\n",
              "    <tr>\n",
              "      <th>42</th>\n",
              "      <td>3</td>\n",
              "      <td>8</td>\n",
              "      <td>42</td>\n",
              "      <td>0.009878</td>\n",
              "      <td>0.015758</td>\n",
              "      <td>0.014701</td>\n",
              "    </tr>\n",
              "    <tr>\n",
              "      <th>38</th>\n",
              "      <td>3</td>\n",
              "      <td>8</td>\n",
              "      <td>38</td>\n",
              "      <td>0.012004</td>\n",
              "      <td>0.008996</td>\n",
              "      <td>0.014524</td>\n",
              "    </tr>\n",
              "    <tr>\n",
              "      <th>18</th>\n",
              "      <td>3</td>\n",
              "      <td>8</td>\n",
              "      <td>18</td>\n",
              "      <td>0.005584</td>\n",
              "      <td>0.016014</td>\n",
              "      <td>0.013357</td>\n",
              "    </tr>\n",
              "    <tr>\n",
              "      <th>30</th>\n",
              "      <td>3</td>\n",
              "      <td>8</td>\n",
              "      <td>30</td>\n",
              "      <td>0.004491</td>\n",
              "      <td>0.014121</td>\n",
              "      <td>0.013169</td>\n",
              "    </tr>\n",
              "    <tr>\n",
              "      <th>5</th>\n",
              "      <td>3</td>\n",
              "      <td>8</td>\n",
              "      <td>5</td>\n",
              "      <td>0.013031</td>\n",
              "      <td>0.014874</td>\n",
              "      <td>0.012926</td>\n",
              "    </tr>\n",
              "    <tr>\n",
              "      <th>25</th>\n",
              "      <td>3</td>\n",
              "      <td>8</td>\n",
              "      <td>25</td>\n",
              "      <td>0.000040</td>\n",
              "      <td>0.009820</td>\n",
              "      <td>0.012926</td>\n",
              "    </tr>\n",
              "    <tr>\n",
              "      <th>52</th>\n",
              "      <td>3</td>\n",
              "      <td>8</td>\n",
              "      <td>52</td>\n",
              "      <td>0.008530</td>\n",
              "      <td>0.015122</td>\n",
              "      <td>0.012818</td>\n",
              "    </tr>\n",
              "    <tr>\n",
              "      <th>51</th>\n",
              "      <td>3</td>\n",
              "      <td>8</td>\n",
              "      <td>51</td>\n",
              "      <td>0.008737</td>\n",
              "      <td>0.015326</td>\n",
              "      <td>0.012754</td>\n",
              "    </tr>\n",
              "    <tr>\n",
              "      <th>29</th>\n",
              "      <td>3</td>\n",
              "      <td>8</td>\n",
              "      <td>29</td>\n",
              "      <td>0.005367</td>\n",
              "      <td>0.015172</td>\n",
              "      <td>0.012501</td>\n",
              "    </tr>\n",
              "    <tr>\n",
              "      <th>11</th>\n",
              "      <td>3</td>\n",
              "      <td>8</td>\n",
              "      <td>11</td>\n",
              "      <td>0.006743</td>\n",
              "      <td>0.015098</td>\n",
              "      <td>0.011735</td>\n",
              "    </tr>\n",
              "    <tr>\n",
              "      <th>37</th>\n",
              "      <td>3</td>\n",
              "      <td>8</td>\n",
              "      <td>37</td>\n",
              "      <td>-0.000623</td>\n",
              "      <td>0.008352</td>\n",
              "      <td>0.011462</td>\n",
              "    </tr>\n",
              "    <tr>\n",
              "      <th>41</th>\n",
              "      <td>3</td>\n",
              "      <td>8</td>\n",
              "      <td>41</td>\n",
              "      <td>0.009476</td>\n",
              "      <td>0.014749</td>\n",
              "      <td>0.011311</td>\n",
              "    </tr>\n",
              "    <tr>\n",
              "      <th>33</th>\n",
              "      <td>3</td>\n",
              "      <td>8</td>\n",
              "      <td>33</td>\n",
              "      <td>0.004886</td>\n",
              "      <td>0.015353</td>\n",
              "      <td>0.011225</td>\n",
              "    </tr>\n",
              "    <tr>\n",
              "      <th>31</th>\n",
              "      <td>3</td>\n",
              "      <td>8</td>\n",
              "      <td>31</td>\n",
              "      <td>0.007297</td>\n",
              "      <td>0.017228</td>\n",
              "      <td>0.010761</td>\n",
              "    </tr>\n",
              "    <tr>\n",
              "      <th>71</th>\n",
              "      <td>3</td>\n",
              "      <td>8</td>\n",
              "      <td>71</td>\n",
              "      <td>0.010104</td>\n",
              "      <td>0.010863</td>\n",
              "      <td>0.010632</td>\n",
              "    </tr>\n",
              "    <tr>\n",
              "      <th>12</th>\n",
              "      <td>3</td>\n",
              "      <td>8</td>\n",
              "      <td>12</td>\n",
              "      <td>0.008031</td>\n",
              "      <td>0.015487</td>\n",
              "      <td>0.010574</td>\n",
              "    </tr>\n",
              "    <tr>\n",
              "      <th>105</th>\n",
              "      <td>3</td>\n",
              "      <td>8</td>\n",
              "      <td>105</td>\n",
              "      <td>0.011933</td>\n",
              "      <td>0.006930</td>\n",
              "      <td>0.010532</td>\n",
              "    </tr>\n",
              "    <tr>\n",
              "      <th>74</th>\n",
              "      <td>3</td>\n",
              "      <td>8</td>\n",
              "      <td>74</td>\n",
              "      <td>0.010204</td>\n",
              "      <td>0.010201</td>\n",
              "      <td>0.010313</td>\n",
              "    </tr>\n",
              "    <tr>\n",
              "      <th>106</th>\n",
              "      <td>3</td>\n",
              "      <td>8</td>\n",
              "      <td>106</td>\n",
              "      <td>0.012543</td>\n",
              "      <td>0.005737</td>\n",
              "      <td>0.010290</td>\n",
              "    </tr>\n",
              "    <tr>\n",
              "      <th>34</th>\n",
              "      <td>3</td>\n",
              "      <td>8</td>\n",
              "      <td>34</td>\n",
              "      <td>0.008935</td>\n",
              "      <td>0.015913</td>\n",
              "      <td>0.010169</td>\n",
              "    </tr>\n",
              "    <tr>\n",
              "      <th>108</th>\n",
              "      <td>3</td>\n",
              "      <td>8</td>\n",
              "      <td>108</td>\n",
              "      <td>0.012576</td>\n",
              "      <td>0.006028</td>\n",
              "      <td>0.010142</td>\n",
              "    </tr>\n",
              "    <tr>\n",
              "      <th>6</th>\n",
              "      <td>3</td>\n",
              "      <td>8</td>\n",
              "      <td>6</td>\n",
              "      <td>0.012670</td>\n",
              "      <td>0.015309</td>\n",
              "      <td>0.010128</td>\n",
              "    </tr>\n",
              "    <tr>\n",
              "      <th>104</th>\n",
              "      <td>3</td>\n",
              "      <td>8</td>\n",
              "      <td>104</td>\n",
              "      <td>0.011994</td>\n",
              "      <td>0.006289</td>\n",
              "      <td>0.010047</td>\n",
              "    </tr>\n",
              "    <tr>\n",
              "      <th>107</th>\n",
              "      <td>3</td>\n",
              "      <td>8</td>\n",
              "      <td>107</td>\n",
              "      <td>0.012313</td>\n",
              "      <td>0.005753</td>\n",
              "      <td>0.010044</td>\n",
              "    </tr>\n",
              "    <tr>\n",
              "      <th>26</th>\n",
              "      <td>3</td>\n",
              "      <td>8</td>\n",
              "      <td>26</td>\n",
              "      <td>0.008312</td>\n",
              "      <td>0.017861</td>\n",
              "      <td>0.009502</td>\n",
              "    </tr>\n",
              "    <tr>\n",
              "      <th>69</th>\n",
              "      <td>3</td>\n",
              "      <td>8</td>\n",
              "      <td>69</td>\n",
              "      <td>0.010228</td>\n",
              "      <td>0.011345</td>\n",
              "      <td>0.009464</td>\n",
              "    </tr>\n",
              "    <tr>\n",
              "      <th>76</th>\n",
              "      <td>3</td>\n",
              "      <td>8</td>\n",
              "      <td>76</td>\n",
              "      <td>0.010321</td>\n",
              "      <td>0.009737</td>\n",
              "      <td>0.009140</td>\n",
              "    </tr>\n",
              "    <tr>\n",
              "      <th>109</th>\n",
              "      <td>3</td>\n",
              "      <td>8</td>\n",
              "      <td>109</td>\n",
              "      <td>0.012640</td>\n",
              "      <td>0.005796</td>\n",
              "      <td>0.009110</td>\n",
              "    </tr>\n",
              "    <tr>\n",
              "      <th>47</th>\n",
              "      <td>3</td>\n",
              "      <td>8</td>\n",
              "      <td>47</td>\n",
              "      <td>0.008225</td>\n",
              "      <td>0.016766</td>\n",
              "      <td>0.009034</td>\n",
              "    </tr>\n",
              "    <tr>\n",
              "      <th>75</th>\n",
              "      <td>3</td>\n",
              "      <td>8</td>\n",
              "      <td>75</td>\n",
              "      <td>0.010493</td>\n",
              "      <td>0.010335</td>\n",
              "      <td>0.009030</td>\n",
              "    </tr>\n",
              "    <tr>\n",
              "      <th>50</th>\n",
              "      <td>3</td>\n",
              "      <td>8</td>\n",
              "      <td>50</td>\n",
              "      <td>0.008066</td>\n",
              "      <td>0.014022</td>\n",
              "      <td>0.008978</td>\n",
              "    </tr>\n",
              "    <tr>\n",
              "      <th>102</th>\n",
              "      <td>3</td>\n",
              "      <td>8</td>\n",
              "      <td>102</td>\n",
              "      <td>0.011819</td>\n",
              "      <td>0.006367</td>\n",
              "      <td>0.008582</td>\n",
              "    </tr>\n",
              "    <tr>\n",
              "      <th>89</th>\n",
              "      <td>3</td>\n",
              "      <td>8</td>\n",
              "      <td>89</td>\n",
              "      <td>0.011440</td>\n",
              "      <td>0.008464</td>\n",
              "      <td>0.008567</td>\n",
              "    </tr>\n",
              "    <tr>\n",
              "      <th>14</th>\n",
              "      <td>3</td>\n",
              "      <td>8</td>\n",
              "      <td>14</td>\n",
              "      <td>0.007460</td>\n",
              "      <td>0.015677</td>\n",
              "      <td>0.008558</td>\n",
              "    </tr>\n",
              "    <tr>\n",
              "      <th>66</th>\n",
              "      <td>3</td>\n",
              "      <td>8</td>\n",
              "      <td>66</td>\n",
              "      <td>0.009861</td>\n",
              "      <td>0.011893</td>\n",
              "      <td>0.008260</td>\n",
              "    </tr>\n",
              "    <tr>\n",
              "      <th>83</th>\n",
              "      <td>3</td>\n",
              "      <td>8</td>\n",
              "      <td>83</td>\n",
              "      <td>0.011306</td>\n",
              "      <td>0.008752</td>\n",
              "      <td>0.008228</td>\n",
              "    </tr>\n",
              "    <tr>\n",
              "      <th>77</th>\n",
              "      <td>3</td>\n",
              "      <td>8</td>\n",
              "      <td>77</td>\n",
              "      <td>0.011089</td>\n",
              "      <td>0.009600</td>\n",
              "      <td>0.008194</td>\n",
              "    </tr>\n",
              "    <tr>\n",
              "      <th>10</th>\n",
              "      <td>3</td>\n",
              "      <td>8</td>\n",
              "      <td>10</td>\n",
              "      <td>0.010738</td>\n",
              "      <td>0.016476</td>\n",
              "      <td>0.008120</td>\n",
              "    </tr>\n",
              "    <tr>\n",
              "      <th>7</th>\n",
              "      <td>3</td>\n",
              "      <td>8</td>\n",
              "      <td>7</td>\n",
              "      <td>0.009377</td>\n",
              "      <td>0.013815</td>\n",
              "      <td>0.008090</td>\n",
              "    </tr>\n",
              "    <tr>\n",
              "      <th>78</th>\n",
              "      <td>3</td>\n",
              "      <td>8</td>\n",
              "      <td>78</td>\n",
              "      <td>0.009996</td>\n",
              "      <td>0.009510</td>\n",
              "      <td>0.007946</td>\n",
              "    </tr>\n",
              "    <tr>\n",
              "      <th>13</th>\n",
              "      <td>3</td>\n",
              "      <td>8</td>\n",
              "      <td>13</td>\n",
              "      <td>0.006312</td>\n",
              "      <td>0.014750</td>\n",
              "      <td>0.007783</td>\n",
              "    </tr>\n",
              "    <tr>\n",
              "      <th>45</th>\n",
              "      <td>3</td>\n",
              "      <td>8</td>\n",
              "      <td>45</td>\n",
              "      <td>0.010443</td>\n",
              "      <td>0.014754</td>\n",
              "      <td>0.007769</td>\n",
              "    </tr>\n",
              "    <tr>\n",
              "      <th>121</th>\n",
              "      <td>3</td>\n",
              "      <td>8</td>\n",
              "      <td>121</td>\n",
              "      <td>0.013095</td>\n",
              "      <td>0.004373</td>\n",
              "      <td>0.007707</td>\n",
              "    </tr>\n",
              "  </tbody>\n",
              "</table>\n",
              "</div>"
            ],
            "text/plain": [
              "     n_factors  units  epoch   ic_mean  ic_daily_mean  ic_daily_median\n",
              "36           3      8     36  0.021097       0.032065         0.031935\n",
              "0            3      8      0  0.017229       0.031378         0.019999\n",
              "19           3      8     19  0.006346       0.017253         0.018472\n",
              "23           3      8     23  0.008843       0.020951         0.016793\n",
              "22           3      8     22 -0.002534       0.009432         0.016300\n",
              "21           3      8     21  0.011908       0.022143         0.015048\n",
              "24           3      8     24  0.002780       0.013394         0.014745\n",
              "42           3      8     42  0.009878       0.015758         0.014701\n",
              "38           3      8     38  0.012004       0.008996         0.014524\n",
              "18           3      8     18  0.005584       0.016014         0.013357\n",
              "30           3      8     30  0.004491       0.014121         0.013169\n",
              "5            3      8      5  0.013031       0.014874         0.012926\n",
              "25           3      8     25  0.000040       0.009820         0.012926\n",
              "52           3      8     52  0.008530       0.015122         0.012818\n",
              "51           3      8     51  0.008737       0.015326         0.012754\n",
              "29           3      8     29  0.005367       0.015172         0.012501\n",
              "11           3      8     11  0.006743       0.015098         0.011735\n",
              "37           3      8     37 -0.000623       0.008352         0.011462\n",
              "41           3      8     41  0.009476       0.014749         0.011311\n",
              "33           3      8     33  0.004886       0.015353         0.011225\n",
              "31           3      8     31  0.007297       0.017228         0.010761\n",
              "71           3      8     71  0.010104       0.010863         0.010632\n",
              "12           3      8     12  0.008031       0.015487         0.010574\n",
              "105          3      8    105  0.011933       0.006930         0.010532\n",
              "74           3      8     74  0.010204       0.010201         0.010313\n",
              "106          3      8    106  0.012543       0.005737         0.010290\n",
              "34           3      8     34  0.008935       0.015913         0.010169\n",
              "108          3      8    108  0.012576       0.006028         0.010142\n",
              "6            3      8      6  0.012670       0.015309         0.010128\n",
              "104          3      8    104  0.011994       0.006289         0.010047\n",
              "107          3      8    107  0.012313       0.005753         0.010044\n",
              "26           3      8     26  0.008312       0.017861         0.009502\n",
              "69           3      8     69  0.010228       0.011345         0.009464\n",
              "76           3      8     76  0.010321       0.009737         0.009140\n",
              "109          3      8    109  0.012640       0.005796         0.009110\n",
              "47           3      8     47  0.008225       0.016766         0.009034\n",
              "75           3      8     75  0.010493       0.010335         0.009030\n",
              "50           3      8     50  0.008066       0.014022         0.008978\n",
              "102          3      8    102  0.011819       0.006367         0.008582\n",
              "89           3      8     89  0.011440       0.008464         0.008567\n",
              "14           3      8     14  0.007460       0.015677         0.008558\n",
              "66           3      8     66  0.009861       0.011893         0.008260\n",
              "83           3      8     83  0.011306       0.008752         0.008228\n",
              "77           3      8     77  0.011089       0.009600         0.008194\n",
              "10           3      8     10  0.010738       0.016476         0.008120\n",
              "7            3      8      7  0.009377       0.013815         0.008090\n",
              "78           3      8     78  0.009996       0.009510         0.007946\n",
              "13           3      8     13  0.006312       0.014750         0.007783\n",
              "45           3      8     45  0.010443       0.014754         0.007769\n",
              "121          3      8    121  0.013095       0.004373         0.007707"
            ]
          },
          "execution_count": 324,
          "metadata": {},
          "output_type": "execute_result"
        }
      ],
      "source": [
        "avg.nlargest(n=50, columns=['ic_daily_median'])"
      ]
    },
    {
      "cell_type": "code",
      "execution_count": 322,
      "metadata": {
        "ExecuteTime": {
          "end_time": "2021-02-25T01:24:42.905824Z",
          "start_time": "2021-02-25T01:24:42.868325Z"
        },
        "colab": {
          "base_uri": "https://localhost:8080/",
          "height": 238
        },
        "id": "ymvDFzIuG6AM",
        "outputId": "df578ddb-994c-47e9-bc76-cad9dfd1d459"
      },
      "outputs": [
        {
          "data": {
            "text/html": [
              "<div>\n",
              "<style scoped>\n",
              "    .dataframe tbody tr th:only-of-type {\n",
              "        vertical-align: middle;\n",
              "    }\n",
              "\n",
              "    .dataframe tbody tr th {\n",
              "        vertical-align: top;\n",
              "    }\n",
              "\n",
              "    .dataframe thead th {\n",
              "        text-align: right;\n",
              "    }\n",
              "</style>\n",
              "<table border=\"1\" class=\"dataframe\">\n",
              "  <thead>\n",
              "    <tr style=\"text-align: right;\">\n",
              "      <th></th>\n",
              "      <th></th>\n",
              "      <th>n_factors</th>\n",
              "      <th>units</th>\n",
              "      <th>epoch</th>\n",
              "      <th>ic_mean</th>\n",
              "      <th>ic_daily_mean</th>\n",
              "      <th>ic_daily_median</th>\n",
              "    </tr>\n",
              "    <tr>\n",
              "      <th>n_factors</th>\n",
              "      <th>units</th>\n",
              "      <th></th>\n",
              "      <th></th>\n",
              "      <th></th>\n",
              "      <th></th>\n",
              "      <th></th>\n",
              "      <th></th>\n",
              "    </tr>\n",
              "  </thead>\n",
              "  <tbody>\n",
              "    <tr>\n",
              "      <th rowspan=\"5\" valign=\"top\">3</th>\n",
              "      <th>8</th>\n",
              "      <td>3</td>\n",
              "      <td>8</td>\n",
              "      <td>36</td>\n",
              "      <td>0.021097</td>\n",
              "      <td>0.032065</td>\n",
              "      <td>0.031935</td>\n",
              "    </tr>\n",
              "    <tr>\n",
              "      <th>8</th>\n",
              "      <td>3</td>\n",
              "      <td>8</td>\n",
              "      <td>0</td>\n",
              "      <td>0.017229</td>\n",
              "      <td>0.031378</td>\n",
              "      <td>0.019999</td>\n",
              "    </tr>\n",
              "    <tr>\n",
              "      <th>8</th>\n",
              "      <td>3</td>\n",
              "      <td>8</td>\n",
              "      <td>19</td>\n",
              "      <td>0.006346</td>\n",
              "      <td>0.017253</td>\n",
              "      <td>0.018472</td>\n",
              "    </tr>\n",
              "    <tr>\n",
              "      <th>8</th>\n",
              "      <td>3</td>\n",
              "      <td>8</td>\n",
              "      <td>23</td>\n",
              "      <td>0.008843</td>\n",
              "      <td>0.020951</td>\n",
              "      <td>0.016793</td>\n",
              "    </tr>\n",
              "    <tr>\n",
              "      <th>8</th>\n",
              "      <td>3</td>\n",
              "      <td>8</td>\n",
              "      <td>22</td>\n",
              "      <td>-0.002534</td>\n",
              "      <td>0.009432</td>\n",
              "      <td>0.016300</td>\n",
              "    </tr>\n",
              "  </tbody>\n",
              "</table>\n",
              "</div>"
            ],
            "text/plain": [
              "                 n_factors  units  epoch   ic_mean  ic_daily_mean  \\\n",
              "n_factors units                                                     \n",
              "3         8              3      8     36  0.021097       0.032065   \n",
              "          8              3      8      0  0.017229       0.031378   \n",
              "          8              3      8     19  0.006346       0.017253   \n",
              "          8              3      8     23  0.008843       0.020951   \n",
              "          8              3      8     22 -0.002534       0.009432   \n",
              "\n",
              "                 ic_daily_median  \n",
              "n_factors units                   \n",
              "3         8             0.031935  \n",
              "          8             0.019999  \n",
              "          8             0.018472  \n",
              "          8             0.016793  \n",
              "          8             0.016300  "
            ]
          },
          "execution_count": 322,
          "metadata": {},
          "output_type": "execute_result"
        }
      ],
      "source": [
        "top = (avg.groupby(['n_factors', 'units'])\n",
        "       .apply(lambda x: x.nlargest(n=5, columns=['ic_daily_median']))\n",
        "       .reset_index(-1, drop=True))\n",
        "\n",
        "top.nlargest(n=5, columns=['ic_daily_median'])"
      ]
    },
    {
      "cell_type": "code",
      "execution_count": 323,
      "metadata": {
        "ExecuteTime": {
          "end_time": "2021-02-24T21:42:05.316440Z",
          "start_time": "2021-02-24T21:42:03.450732Z"
        },
        "colab": {
          "base_uri": "https://localhost:8080/",
          "height": 377
        },
        "id": "TavrBsH0G6AM",
        "outputId": "6e7b79cb-f8d6-450c-b1e7-b7c11f88bc3f"
      },
      "outputs": [
        {
          "ename": "TypeError",
          "evalue": "no numeric data to plot",
          "output_type": "error",
          "traceback": [
            "\u001b[1;31m---------------------------------------------------------------------------\u001b[0m",
            "\u001b[1;31mTypeError\u001b[0m                                 Traceback (most recent call last)",
            "Cell \u001b[1;32mIn[323], line 5\u001b[0m\n\u001b[0;32m      3\u001b[0m \u001b[39mfor\u001b[39;00m n \u001b[39min\u001b[39;00m \u001b[39mrange\u001b[39m(\u001b[39m2\u001b[39m, \u001b[39m7\u001b[39m):\n\u001b[0;32m      4\u001b[0m     df \u001b[39m=\u001b[39m avg[avg\u001b[39m.\u001b[39mn_factors\u001b[39m==\u001b[39mn]\u001b[39m.\u001b[39mpivot(index\u001b[39m=\u001b[39m\u001b[39m'\u001b[39m\u001b[39mepoch\u001b[39m\u001b[39m'\u001b[39m, columns\u001b[39m=\u001b[39m\u001b[39m'\u001b[39m\u001b[39munits\u001b[39m\u001b[39m'\u001b[39m, values\u001b[39m=\u001b[39m\u001b[39m'\u001b[39m\u001b[39mic_mean\u001b[39m\u001b[39m'\u001b[39m)\n\u001b[1;32m----> 5\u001b[0m     df\u001b[39m.\u001b[39;49mrolling(\u001b[39m10\u001b[39;49m)\u001b[39m.\u001b[39;49mmean()\u001b[39m.\u001b[39;49mloc[:\u001b[39m200\u001b[39;49m]\u001b[39m.\u001b[39;49mplot(ax\u001b[39m=\u001b[39;49maxes[\u001b[39m0\u001b[39;49m][n\u001b[39m-\u001b[39;49m\u001b[39m2\u001b[39;49m], lw\u001b[39m=\u001b[39;49m\u001b[39m1\u001b[39;49m, title\u001b[39m=\u001b[39;49m\u001b[39mf\u001b[39;49m\u001b[39m'\u001b[39;49m\u001b[39m{\u001b[39;49;00mn\u001b[39m}\u001b[39;49;00m\u001b[39m Factors\u001b[39;49m\u001b[39m'\u001b[39;49m)\n\u001b[0;32m      6\u001b[0m     axes[\u001b[39m0\u001b[39m][n\u001b[39m-\u001b[39m\u001b[39m2\u001b[39m]\u001b[39m.\u001b[39maxhline(\u001b[39m0\u001b[39m, ls\u001b[39m=\u001b[39m\u001b[39m'\u001b[39m\u001b[39m--\u001b[39m\u001b[39m'\u001b[39m, c\u001b[39m=\u001b[39m\u001b[39m'\u001b[39m\u001b[39mk\u001b[39m\u001b[39m'\u001b[39m, lw\u001b[39m=\u001b[39m\u001b[39m1\u001b[39m)\n\u001b[0;32m      7\u001b[0m     axes[\u001b[39m0\u001b[39m][n\u001b[39m-\u001b[39m\u001b[39m2\u001b[39m]\u001b[39m.\u001b[39mget_legend()\u001b[39m.\u001b[39mremove()\n",
            "File \u001b[1;32mc:\\Users\\chldl\\Desktop\\Study\\2022-2\\Capston_design\\Capston_CodeSpace\\capston\\lib\\site-packages\\pandas\\plotting\\_core.py:1000\u001b[0m, in \u001b[0;36mPlotAccessor.__call__\u001b[1;34m(self, *args, **kwargs)\u001b[0m\n\u001b[0;32m    997\u001b[0m             label_name \u001b[39m=\u001b[39m label_kw \u001b[39mor\u001b[39;00m data\u001b[39m.\u001b[39mcolumns\n\u001b[0;32m    998\u001b[0m             data\u001b[39m.\u001b[39mcolumns \u001b[39m=\u001b[39m label_name\n\u001b[1;32m-> 1000\u001b[0m \u001b[39mreturn\u001b[39;00m plot_backend\u001b[39m.\u001b[39;49mplot(data, kind\u001b[39m=\u001b[39;49mkind, \u001b[39m*\u001b[39;49m\u001b[39m*\u001b[39;49mkwargs)\n",
            "File \u001b[1;32mc:\\Users\\chldl\\Desktop\\Study\\2022-2\\Capston_design\\Capston_CodeSpace\\capston\\lib\\site-packages\\pandas\\plotting\\_matplotlib\\__init__.py:71\u001b[0m, in \u001b[0;36mplot\u001b[1;34m(data, kind, **kwargs)\u001b[0m\n\u001b[0;32m     69\u001b[0m         kwargs[\u001b[39m\"\u001b[39m\u001b[39max\u001b[39m\u001b[39m\"\u001b[39m] \u001b[39m=\u001b[39m \u001b[39mgetattr\u001b[39m(ax, \u001b[39m\"\u001b[39m\u001b[39mleft_ax\u001b[39m\u001b[39m\"\u001b[39m, ax)\n\u001b[0;32m     70\u001b[0m plot_obj \u001b[39m=\u001b[39m PLOT_CLASSES[kind](data, \u001b[39m*\u001b[39m\u001b[39m*\u001b[39mkwargs)\n\u001b[1;32m---> 71\u001b[0m plot_obj\u001b[39m.\u001b[39;49mgenerate()\n\u001b[0;32m     72\u001b[0m plot_obj\u001b[39m.\u001b[39mdraw()\n\u001b[0;32m     73\u001b[0m \u001b[39mreturn\u001b[39;00m plot_obj\u001b[39m.\u001b[39mresult\n",
            "File \u001b[1;32mc:\\Users\\chldl\\Desktop\\Study\\2022-2\\Capston_design\\Capston_CodeSpace\\capston\\lib\\site-packages\\pandas\\plotting\\_matplotlib\\core.py:450\u001b[0m, in \u001b[0;36mMPLPlot.generate\u001b[1;34m(self)\u001b[0m\n\u001b[0;32m    448\u001b[0m \u001b[39mdef\u001b[39;00m \u001b[39mgenerate\u001b[39m(\u001b[39mself\u001b[39m) \u001b[39m-\u001b[39m\u001b[39m>\u001b[39m \u001b[39mNone\u001b[39;00m:\n\u001b[0;32m    449\u001b[0m     \u001b[39mself\u001b[39m\u001b[39m.\u001b[39m_args_adjust()\n\u001b[1;32m--> 450\u001b[0m     \u001b[39mself\u001b[39;49m\u001b[39m.\u001b[39;49m_compute_plot_data()\n\u001b[0;32m    451\u001b[0m     \u001b[39mself\u001b[39m\u001b[39m.\u001b[39m_setup_subplots()\n\u001b[0;32m    452\u001b[0m     \u001b[39mself\u001b[39m\u001b[39m.\u001b[39m_make_plot()\n",
            "File \u001b[1;32mc:\\Users\\chldl\\Desktop\\Study\\2022-2\\Capston_design\\Capston_CodeSpace\\capston\\lib\\site-packages\\pandas\\plotting\\_matplotlib\\core.py:635\u001b[0m, in \u001b[0;36mMPLPlot._compute_plot_data\u001b[1;34m(self)\u001b[0m\n\u001b[0;32m    633\u001b[0m \u001b[39m# no non-numeric frames or series allowed\u001b[39;00m\n\u001b[0;32m    634\u001b[0m \u001b[39mif\u001b[39;00m is_empty:\n\u001b[1;32m--> 635\u001b[0m     \u001b[39mraise\u001b[39;00m \u001b[39mTypeError\u001b[39;00m(\u001b[39m\"\u001b[39m\u001b[39mno numeric data to plot\u001b[39m\u001b[39m\"\u001b[39m)\n\u001b[0;32m    637\u001b[0m \u001b[39mself\u001b[39m\u001b[39m.\u001b[39mdata \u001b[39m=\u001b[39m numeric_data\u001b[39m.\u001b[39mapply(\u001b[39mself\u001b[39m\u001b[39m.\u001b[39m_convert_to_ndarray)\n",
            "\u001b[1;31mTypeError\u001b[0m: no numeric data to plot"
          ]
        },
        {
          "data": {
            "image/png": "[encoded data removed]",
            "text/plain": [
              "<Figure size 2000x800 with 10 Axes>"
            ]
          },
          "metadata": {},
          "output_type": "display_data"
        }
      ],
      "source": [
        "fig, axes = plt.subplots(ncols=5, nrows=2, figsize=(20, 8), sharey='row', sharex=True)\n",
        "\n",
        "for n in range(2, 7):\n",
        "    df = avg[avg.n_factors==n].pivot(index='epoch', columns='units', values='ic_mean')\n",
        "    df.rolling(10).mean().loc[:200].plot(ax=axes[0][n-2], lw=1, title=f'{n} Factors')\n",
        "    axes[0][n-2].axhline(0, ls='--', c='k', lw=1)\n",
        "    axes[0][n-2].get_legend().remove()\n",
        "    axes[0][n-2].set_ylabel('IC (10-epoch rolling mean)')\n",
        "\n",
        "    df = avg[avg.n_factors==n].pivot(index='epoch', columns='units', values='ic_daily_median')\n",
        "    df.rolling(10).mean().loc[:200].plot(ax=axes[1][n-2], lw=1)\n",
        "    axes[1][n-2].axhline(0, ls='--', c='k', lw=1)\n",
        "    axes[1][n-2].get_legend().remove()\n",
        "    axes[1][n-2].set_ylabel('IC, Daily Median (10-epoch rolling mean)')\n",
        "\n",
        "handles, labels = axes[0][0].get_legend_handles_labels()\n",
        "fig.legend(handles, labels, loc='center right', title='# Units')\n",
        "fig.suptitle('Cross-Validation Performance (2015-2019)', fontsize=16)\n",
        "fig.tight_layout()\n",
        "fig.subplots_adjust(top=.9)\n",
        "fig.savefig(results_path / 'cv_performance', dpi=600);"
      ]
    },
    {
      "attachments": {},
      "cell_type": "markdown",
      "metadata": {
        "id": "ukS9TwYwG6AM"
      },
      "source": [
        "## Generate Predictions"
      ]
    },
    {
      "attachments": {},
      "cell_type": "markdown",
      "metadata": {
        "id": "Sd7OSqCcG6AM"
      },
      "source": [
        "We'll average over a range of epochs that appears to deliver good predictions."
      ]
    },
    {
      "cell_type": "code",
      "execution_count": 325,
      "metadata": {
        "ExecuteTime": {
          "end_time": "2021-02-25T02:20:39.334590Z",
          "start_time": "2021-02-25T02:20:39.328174Z"
        },
        "id": "n3Vz9AQpG6AN"
      },
      "outputs": [],
      "source": [
        "n_factors = 3\n",
        "units = 8\n",
        "batch_size = 64\n",
        "first_epoch = 50\n",
        "last_epoch = 80"
      ]
    },
    {
      "cell_type": "code",
      "execution_count": 326,
      "metadata": {
        "ExecuteTime": {
          "end_time": "2021-02-25T02:53:07.097416Z",
          "start_time": "2021-02-25T02:20:39.526027Z"
        },
        "colab": {
          "base_uri": "https://localhost:8080/"
        },
        "id": "kMpzmg5sG6AN",
        "outputId": "9aa4f777-0cba-44c0-afdc-a1f0c3022e2b",
        "scrolled": false
      },
      "outputs": [
        {
          "name": "stderr",
          "output_type": "stream",
          "text": [
            "  0%|          | 0/30 [00:00<?, ?it/s]"
          ]
        },
        {
          "name": "stdout",
          "output_type": "stream",
          "text": [
            "Epoch 12: early stopping\n",
            "Epoch 11: early stopping\n",
            "Epoch 17: early stopping\n",
            "Epoch 14: early stopping\n"
          ]
        },
        {
          "name": "stderr",
          "output_type": "stream",
          "text": [
            "  3%|▎         | 1/30 [06:24<3:05:36, 384.02s/it]"
          ]
        },
        {
          "name": "stdout",
          "output_type": "stream",
          "text": [
            "Epoch 11: early stopping\n",
            "Epoch 26: early stopping\n",
            "Epoch 20: early stopping\n",
            "Epoch 11: early stopping\n"
          ]
        },
        {
          "name": "stderr",
          "output_type": "stream",
          "text": [
            "  7%|▋         | 2/30 [13:43<3:14:23, 416.57s/it]"
          ]
        },
        {
          "name": "stdout",
          "output_type": "stream",
          "text": [
            "Epoch 49: early stopping\n",
            "Epoch 15: early stopping\n",
            "Epoch 11: early stopping\n",
            "Epoch 11: early stopping\n",
            "Epoch 11: early stopping\n"
          ]
        },
        {
          "name": "stderr",
          "output_type": "stream",
          "text": [
            " 10%|█         | 3/30 [19:16<2:50:20, 378.55s/it]"
          ]
        },
        {
          "name": "stdout",
          "output_type": "stream",
          "text": [
            "Epoch 12: early stopping\n",
            "Epoch 23: early stopping\n",
            "Epoch 14: early stopping\n",
            "Epoch 12: early stopping\n"
          ]
        },
        {
          "name": "stderr",
          "output_type": "stream",
          "text": [
            " 13%|█▎        | 4/30 [26:00<2:48:24, 388.64s/it]"
          ]
        },
        {
          "name": "stdout",
          "output_type": "stream",
          "text": [
            "Epoch 11: early stopping\n",
            "Epoch 11: early stopping\n",
            "Epoch 12: early stopping\n",
            "Epoch 27: early stopping\n"
          ]
        },
        {
          "name": "stderr",
          "output_type": "stream",
          "text": [
            " 17%|█▋        | 5/30 [32:50<2:45:02, 396.11s/it]"
          ]
        },
        {
          "name": "stdout",
          "output_type": "stream",
          "text": [
            "Epoch 12: early stopping\n",
            "Epoch 13: early stopping\n",
            "Epoch 13: early stopping\n",
            "Epoch 12: early stopping\n"
          ]
        },
        {
          "name": "stderr",
          "output_type": "stream",
          "text": [
            " 20%|██        | 6/30 [39:09<2:36:13, 390.55s/it]"
          ]
        },
        {
          "name": "stdout",
          "output_type": "stream",
          "text": [
            "Epoch 14: early stopping\n",
            "Epoch 18: early stopping\n",
            "Epoch 16: early stopping\n",
            "Epoch 12: early stopping\n"
          ]
        },
        {
          "name": "stderr",
          "output_type": "stream",
          "text": [
            " 23%|██▎       | 7/30 [45:59<2:32:07, 396.84s/it]"
          ]
        },
        {
          "name": "stdout",
          "output_type": "stream",
          "text": [
            "Epoch 11: early stopping\n",
            "Epoch 11: early stopping\n",
            "Epoch 17: early stopping\n",
            "Epoch 16: early stopping\n"
          ]
        },
        {
          "name": "stderr",
          "output_type": "stream",
          "text": [
            " 27%|██▋       | 8/30 [52:34<2:25:19, 396.33s/it]"
          ]
        },
        {
          "name": "stdout",
          "output_type": "stream",
          "text": [
            "Epoch 45: early stopping\n",
            "Epoch 12: early stopping\n",
            "Epoch 11: early stopping\n",
            "Epoch 13: early stopping\n",
            "Epoch 11: early stopping\n"
          ]
        },
        {
          "name": "stderr",
          "output_type": "stream",
          "text": [
            " 30%|███       | 9/30 [58:04<2:11:24, 375.47s/it]"
          ]
        },
        {
          "name": "stdout",
          "output_type": "stream",
          "text": [
            "Epoch 34: early stopping\n",
            "Epoch 12: early stopping\n",
            "Epoch 17: early stopping\n",
            "Epoch 17: early stopping\n",
            "Epoch 12: early stopping\n"
          ]
        },
        {
          "name": "stderr",
          "output_type": "stream",
          "text": [
            " 33%|███▎      | 10/30 [1:03:30<2:00:05, 360.28s/it]"
          ]
        },
        {
          "name": "stdout",
          "output_type": "stream",
          "text": [
            "Epoch 38: early stopping\n",
            "Epoch 13: early stopping\n",
            "Epoch 19: early stopping\n",
            "Epoch 15: early stopping\n",
            "Epoch 13: early stopping\n"
          ]
        },
        {
          "name": "stderr",
          "output_type": "stream",
          "text": [
            " 37%|███▋      | 11/30 [1:09:21<1:53:07, 357.26s/it]"
          ]
        },
        {
          "name": "stdout",
          "output_type": "stream",
          "text": [
            "Epoch 13: early stopping\n",
            "Epoch 13: early stopping\n",
            "Epoch 13: early stopping\n",
            "Epoch 13: early stopping\n",
            "Epoch 18: early stopping\n"
          ]
        },
        {
          "name": "stderr",
          "output_type": "stream",
          "text": [
            " 40%|████      | 12/30 [1:13:33<1:37:36, 325.34s/it]"
          ]
        },
        {
          "name": "stdout",
          "output_type": "stream",
          "text": [
            "Epoch 13: early stopping\n",
            "Epoch 12: early stopping\n",
            "Epoch 11: early stopping\n",
            "Epoch 19: early stopping\n",
            "Epoch 12: early stopping\n"
          ]
        },
        {
          "name": "stderr",
          "output_type": "stream",
          "text": [
            " 43%|████▎     | 13/30 [1:17:32<1:24:47, 299.25s/it]"
          ]
        },
        {
          "name": "stdout",
          "output_type": "stream",
          "text": [
            "Epoch 18: early stopping\n",
            "Epoch 12: early stopping\n",
            "Epoch 11: early stopping\n",
            "Epoch 19: early stopping\n",
            "Epoch 11: early stopping\n"
          ]
        },
        {
          "name": "stderr",
          "output_type": "stream",
          "text": [
            " 47%|████▋     | 14/30 [1:21:59<1:17:08, 289.29s/it]"
          ]
        },
        {
          "name": "stdout",
          "output_type": "stream",
          "text": [
            "Epoch 27: early stopping\n",
            "Epoch 11: early stopping\n",
            "Epoch 18: early stopping\n",
            "Epoch 17: early stopping\n",
            "Epoch 24: early stopping\n"
          ]
        },
        {
          "name": "stderr",
          "output_type": "stream",
          "text": [
            " 50%|█████     | 15/30 [1:27:50<1:16:58, 307.91s/it]"
          ]
        },
        {
          "name": "stdout",
          "output_type": "stream",
          "text": [
            "Epoch 46: early stopping\n",
            "Epoch 12: early stopping\n",
            "Epoch 23: early stopping\n",
            "Epoch 12: early stopping\n",
            "Epoch 11: early stopping\n"
          ]
        },
        {
          "name": "stderr",
          "output_type": "stream",
          "text": [
            " 53%|█████▎    | 16/30 [1:34:07<1:16:41, 328.68s/it]"
          ]
        },
        {
          "name": "stdout",
          "output_type": "stream",
          "text": [
            "Epoch 42: early stopping\n",
            "Epoch 12: early stopping\n",
            "Epoch 24: early stopping\n",
            "Epoch 20: early stopping\n",
            "Epoch 12: early stopping\n"
          ]
        },
        {
          "name": "stderr",
          "output_type": "stream",
          "text": [
            " 57%|█████▋    | 17/30 [1:40:29<1:14:45, 345.01s/it]"
          ]
        },
        {
          "name": "stdout",
          "output_type": "stream",
          "text": [
            "Epoch 45: early stopping\n",
            "Epoch 13: early stopping\n",
            "Epoch 11: early stopping\n",
            "Epoch 16: early stopping\n",
            "Epoch 11: early stopping\n"
          ]
        },
        {
          "name": "stderr",
          "output_type": "stream",
          "text": [
            " 60%|██████    | 18/30 [1:46:18<1:09:14, 346.20s/it]"
          ]
        },
        {
          "name": "stdout",
          "output_type": "stream",
          "text": [
            "Epoch 45: early stopping\n",
            "Epoch 12: early stopping\n",
            "Epoch 18: early stopping\n",
            "Epoch 22: early stopping\n",
            "Epoch 11: early stopping\n"
          ]
        },
        {
          "name": "stderr",
          "output_type": "stream",
          "text": [
            " 63%|██████▎   | 19/30 [1:52:46<1:05:43, 358.52s/it]"
          ]
        },
        {
          "name": "stdout",
          "output_type": "stream",
          "text": [
            "Epoch 54: early stopping\n",
            "Epoch 12: early stopping\n",
            "Epoch 12: early stopping\n",
            "Epoch 16: early stopping\n",
            "Epoch 15: early stopping\n"
          ]
        },
        {
          "name": "stderr",
          "output_type": "stream",
          "text": [
            " 67%|██████▋   | 20/30 [1:59:10<1:01:03, 366.39s/it]"
          ]
        },
        {
          "name": "stdout",
          "output_type": "stream",
          "text": [
            "Epoch 48: early stopping\n",
            "Epoch 19: early stopping\n",
            "Epoch 14: early stopping\n",
            "Epoch 13: early stopping\n",
            "Epoch 13: early stopping\n"
          ]
        },
        {
          "name": "stderr",
          "output_type": "stream",
          "text": [
            " 70%|███████   | 21/30 [2:05:35<55:45, 371.74s/it]  "
          ]
        },
        {
          "name": "stdout",
          "output_type": "stream",
          "text": [
            "Epoch 42: early stopping\n",
            "Epoch 13: early stopping\n",
            "Epoch 14: early stopping\n",
            "Epoch 15: early stopping\n",
            "Epoch 16: early stopping\n"
          ]
        },
        {
          "name": "stderr",
          "output_type": "stream",
          "text": [
            " 73%|███████▎  | 22/30 [2:11:47<49:36, 372.02s/it]"
          ]
        },
        {
          "name": "stdout",
          "output_type": "stream",
          "text": [
            "Epoch 55: early stopping\n",
            "Epoch 12: early stopping\n",
            "Epoch 11: early stopping\n",
            "Epoch 12: early stopping\n",
            "Epoch 14: early stopping\n"
          ]
        },
        {
          "name": "stderr",
          "output_type": "stream",
          "text": [
            " 77%|███████▋  | 23/30 [2:17:57<43:19, 371.29s/it]"
          ]
        },
        {
          "name": "stdout",
          "output_type": "stream",
          "text": [
            "Epoch 49: early stopping\n",
            "Epoch 13: early stopping\n",
            "Epoch 13: early stopping\n",
            "Epoch 14: early stopping\n",
            "Epoch 11: early stopping\n"
          ]
        },
        {
          "name": "stderr",
          "output_type": "stream",
          "text": [
            " 80%|████████  | 24/30 [2:23:56<36:46, 367.71s/it]"
          ]
        },
        {
          "name": "stdout",
          "output_type": "stream",
          "text": [
            "Epoch 62: early stopping\n",
            "Epoch 13: early stopping\n",
            "Epoch 14: early stopping\n",
            "Epoch 17: early stopping\n",
            "Epoch 12: early stopping\n"
          ]
        },
        {
          "name": "stderr",
          "output_type": "stream",
          "text": [
            " 83%|████████▎ | 25/30 [2:31:08<32:14, 386.84s/it]"
          ]
        },
        {
          "name": "stdout",
          "output_type": "stream",
          "text": [
            "Epoch 54: early stopping\n",
            "Epoch 12: early stopping\n",
            "Epoch 11: early stopping\n",
            "Epoch 12: early stopping\n",
            "Epoch 11: early stopping\n"
          ]
        },
        {
          "name": "stderr",
          "output_type": "stream",
          "text": [
            " 87%|████████▋ | 26/30 [2:37:53<26:10, 392.51s/it]"
          ]
        },
        {
          "name": "stdout",
          "output_type": "stream",
          "text": [
            "Epoch 52: early stopping\n",
            "Epoch 13: early stopping\n",
            "Epoch 11: early stopping\n",
            "Epoch 16: early stopping\n",
            "Epoch 11: early stopping\n"
          ]
        },
        {
          "name": "stderr",
          "output_type": "stream",
          "text": [
            " 90%|█████████ | 27/30 [2:44:27<19:38, 392.96s/it]"
          ]
        },
        {
          "name": "stdout",
          "output_type": "stream",
          "text": [
            "Epoch 39: early stopping\n",
            "Epoch 12: early stopping\n",
            "Epoch 12: early stopping\n",
            "Epoch 12: early stopping\n",
            "Epoch 12: early stopping\n"
          ]
        },
        {
          "name": "stderr",
          "output_type": "stream",
          "text": [
            " 93%|█████████▎| 28/30 [2:49:47<12:22, 371.06s/it]"
          ]
        },
        {
          "name": "stdout",
          "output_type": "stream",
          "text": [
            "Epoch 41: early stopping\n",
            "Epoch 13: early stopping\n",
            "Epoch 11: early stopping\n",
            "Epoch 13: early stopping\n",
            "Epoch 12: early stopping\n"
          ]
        },
        {
          "name": "stderr",
          "output_type": "stream",
          "text": [
            " 97%|█████████▋| 29/30 [2:55:16<05:58, 358.38s/it]"
          ]
        },
        {
          "name": "stdout",
          "output_type": "stream",
          "text": [
            "Epoch 65: early stopping\n",
            "Epoch 12: early stopping\n",
            "Epoch 11: early stopping\n",
            "Epoch 12: early stopping\n",
            "Epoch 11: early stopping\n"
          ]
        },
        {
          "name": "stderr",
          "output_type": "stream",
          "text": [
            "100%|██████████| 30/30 [3:02:07<00:00, 364.24s/it]\n"
          ]
        }
      ],
      "source": [
        "predictions = []\n",
        "for epoch in tqdm(list(range(first_epoch, last_epoch))):\n",
        "    epoch_preds = []\n",
        "    for fold, (train_idx, val_idx) in enumerate(cv.split(data)):\n",
        "        X1_train, X2_train, y_train, X1_val, X2_val, y_val = get_train_valid_data(data,\n",
        "                                                                                  train_idx,\n",
        "                                                                                  val_idx)\n",
        "        \n",
        "        train_gen = DataGenerator(X1_train, X2_train, y_train, batch_size=batch_size)\n",
        "        val_gen = DataGenerator(X1_val, X2_val, y_val, batch_size=batch_size)\n",
        "        \n",
        "        model.fit_generator(train_gen,\n",
        "                    validation_data=val_gen,\n",
        "                  epochs=epoch,\n",
        "                  verbose=0,\n",
        "                  shuffle=True, callbacks=[ClearMemory(), early_stop])\n",
        "        epoch_preds.append(pd.Series(model.predict_generator(val_gen, callbacks=[ClearMemory(), early_stop]).reshape(-1),\n",
        "                                     index=y_val.stack().index).to_frame(epoch))\n",
        "\n",
        "    predictions.append(pd.concat(epoch_preds))"
      ]
    },
    {
      "cell_type": "code",
      "execution_count": 327,
      "metadata": {
        "ExecuteTime": {
          "end_time": "2021-02-24T22:56:10.170667Z",
          "start_time": "2021-02-24T22:56:05.415887Z"
        },
        "id": "xsQnA28qG6AN"
      },
      "outputs": [],
      "source": [
        "predictions_combined = pd.concat(predictions, axis=1).sort_index()"
      ]
    },
    {
      "cell_type": "code",
      "execution_count": 331,
      "metadata": {
        "ExecuteTime": {
          "end_time": "2021-02-24T22:56:10.236001Z",
          "start_time": "2021-02-24T22:56:10.171537Z"
        },
        "colab": {
          "base_uri": "https://localhost:8080/"
        },
        "id": "0uMWaNvzG6AN",
        "outputId": "216ed910-6677-403d-84ce-ded4e206ca36"
      },
      "outputs": [
        {
          "name": "stdout",
          "output_type": "stream",
          "text": [
            "<class 'pandas.core.frame.DataFrame'>\n",
            "MultiIndex: 223080 entries, (Timestamp('2018-05-25 00:00:00'), '000020.KS') to (Timestamp('2023-05-12 00:00:00'), '950210.KS')\n",
            "Data columns (total 30 columns):\n",
            " #   Column  Non-Null Count   Dtype  \n",
            "---  ------  --------------   -----  \n",
            " 0   50      223080 non-null  float32\n",
            " 1   51      223080 non-null  float32\n",
            " 2   52      223080 non-null  float32\n",
            " 3   53      223080 non-null  float32\n",
            " 4   54      223080 non-null  float32\n",
            " 5   55      223080 non-null  float32\n",
            " 6   56      223080 non-null  float32\n",
            " 7   57      223080 non-null  float32\n",
            " 8   58      223080 non-null  float32\n",
            " 9   59      223080 non-null  float32\n",
            " 10  60      223080 non-null  float32\n",
            " 11  61      223080 non-null  float32\n",
            " 12  62      223080 non-null  float32\n",
            " 13  63      223080 non-null  float32\n",
            " 14  64      223080 non-null  float32\n",
            " 15  65      223080 non-null  float32\n",
            " 16  66      223080 non-null  float32\n",
            " 17  67      223080 non-null  float32\n",
            " 18  68      223080 non-null  float32\n",
            " 19  69      223080 non-null  float32\n",
            " 20  70      223080 non-null  float32\n",
            " 21  71      223080 non-null  float32\n",
            " 22  72      223080 non-null  float32\n",
            " 23  73      223080 non-null  float32\n",
            " 24  74      223080 non-null  float32\n",
            " 25  75      223080 non-null  float32\n",
            " 26  76      223080 non-null  float32\n",
            " 27  77      223080 non-null  float32\n",
            " 28  78      223080 non-null  float32\n",
            " 29  79      223080 non-null  float32\n",
            "dtypes: float32(30)\n",
            "memory usage: 26.4+ MB\n"
          ]
        }
      ],
      "source": [
        "predictions_combined.info()"
      ]
    },
    {
      "cell_type": "code",
      "execution_count": 332,
      "metadata": {
        "ExecuteTime": {
          "end_time": "2021-02-24T22:56:10.394903Z",
          "start_time": "2021-02-24T22:56:10.236930Z"
        },
        "id": "mV0rDdJsG6AN"
      },
      "outputs": [],
      "source": [
        "predictions_combined.to_hdf(results_path / 'predictions.h5', 'predictions')"
      ]
    },
    {
      "cell_type": "code",
      "execution_count": 333,
      "metadata": {
        "id": "3bJuKgM2tVBv"
      },
      "outputs": [
        {
          "data": {
            "text/html": [
              "<div>\n",
              "<style scoped>\n",
              "    .dataframe tbody tr th:only-of-type {\n",
              "        vertical-align: middle;\n",
              "    }\n",
              "\n",
              "    .dataframe tbody tr th {\n",
              "        vertical-align: top;\n",
              "    }\n",
              "\n",
              "    .dataframe thead th {\n",
              "        text-align: right;\n",
              "    }\n",
              "</style>\n",
              "<table border=\"1\" class=\"dataframe\">\n",
              "  <thead>\n",
              "    <tr style=\"text-align: right;\">\n",
              "      <th></th>\n",
              "      <th></th>\n",
              "      <th>50</th>\n",
              "      <th>51</th>\n",
              "      <th>52</th>\n",
              "      <th>53</th>\n",
              "      <th>54</th>\n",
              "      <th>55</th>\n",
              "      <th>56</th>\n",
              "      <th>57</th>\n",
              "      <th>58</th>\n",
              "      <th>59</th>\n",
              "      <th>...</th>\n",
              "      <th>70</th>\n",
              "      <th>71</th>\n",
              "      <th>72</th>\n",
              "      <th>73</th>\n",
              "      <th>74</th>\n",
              "      <th>75</th>\n",
              "      <th>76</th>\n",
              "      <th>77</th>\n",
              "      <th>78</th>\n",
              "      <th>79</th>\n",
              "    </tr>\n",
              "    <tr>\n",
              "      <th>date</th>\n",
              "      <th>ticker</th>\n",
              "      <th></th>\n",
              "      <th></th>\n",
              "      <th></th>\n",
              "      <th></th>\n",
              "      <th></th>\n",
              "      <th></th>\n",
              "      <th></th>\n",
              "      <th></th>\n",
              "      <th></th>\n",
              "      <th></th>\n",
              "      <th></th>\n",
              "      <th></th>\n",
              "      <th></th>\n",
              "      <th></th>\n",
              "      <th></th>\n",
              "      <th></th>\n",
              "      <th></th>\n",
              "      <th></th>\n",
              "      <th></th>\n",
              "      <th></th>\n",
              "      <th></th>\n",
              "    </tr>\n",
              "  </thead>\n",
              "  <tbody>\n",
              "    <tr>\n",
              "      <th rowspan=\"5\" valign=\"top\">2018-05-25</th>\n",
              "      <th>000020.KS</th>\n",
              "      <td>0.040641</td>\n",
              "      <td>0.081166</td>\n",
              "      <td>0.097349</td>\n",
              "      <td>0.098991</td>\n",
              "      <td>0.119275</td>\n",
              "      <td>0.118682</td>\n",
              "      <td>0.115823</td>\n",
              "      <td>0.138521</td>\n",
              "      <td>0.128921</td>\n",
              "      <td>0.119598</td>\n",
              "      <td>...</td>\n",
              "      <td>0.166055</td>\n",
              "      <td>0.167745</td>\n",
              "      <td>0.167015</td>\n",
              "      <td>0.172683</td>\n",
              "      <td>0.161027</td>\n",
              "      <td>0.170037</td>\n",
              "      <td>0.165164</td>\n",
              "      <td>0.162555</td>\n",
              "      <td>0.175062</td>\n",
              "      <td>0.163776</td>\n",
              "    </tr>\n",
              "    <tr>\n",
              "      <th>000040.KS</th>\n",
              "      <td>0.092641</td>\n",
              "      <td>0.104553</td>\n",
              "      <td>0.120835</td>\n",
              "      <td>0.118723</td>\n",
              "      <td>0.125409</td>\n",
              "      <td>0.124329</td>\n",
              "      <td>0.126815</td>\n",
              "      <td>0.148523</td>\n",
              "      <td>0.132446</td>\n",
              "      <td>0.121560</td>\n",
              "      <td>...</td>\n",
              "      <td>0.160247</td>\n",
              "      <td>0.153608</td>\n",
              "      <td>0.148865</td>\n",
              "      <td>0.153466</td>\n",
              "      <td>0.153959</td>\n",
              "      <td>0.152358</td>\n",
              "      <td>0.148719</td>\n",
              "      <td>0.156427</td>\n",
              "      <td>0.162235</td>\n",
              "      <td>0.153175</td>\n",
              "    </tr>\n",
              "    <tr>\n",
              "      <th>000050.KS</th>\n",
              "      <td>0.101895</td>\n",
              "      <td>0.143689</td>\n",
              "      <td>0.120337</td>\n",
              "      <td>0.130517</td>\n",
              "      <td>0.143669</td>\n",
              "      <td>0.150319</td>\n",
              "      <td>0.117780</td>\n",
              "      <td>0.141134</td>\n",
              "      <td>0.126851</td>\n",
              "      <td>0.107337</td>\n",
              "      <td>...</td>\n",
              "      <td>0.147569</td>\n",
              "      <td>0.143726</td>\n",
              "      <td>0.139907</td>\n",
              "      <td>0.145353</td>\n",
              "      <td>0.146795</td>\n",
              "      <td>0.143260</td>\n",
              "      <td>0.139743</td>\n",
              "      <td>0.146252</td>\n",
              "      <td>0.149947</td>\n",
              "      <td>0.141103</td>\n",
              "    </tr>\n",
              "    <tr>\n",
              "      <th>000070.KS</th>\n",
              "      <td>0.083896</td>\n",
              "      <td>0.104633</td>\n",
              "      <td>0.122944</td>\n",
              "      <td>0.110993</td>\n",
              "      <td>0.121802</td>\n",
              "      <td>0.116582</td>\n",
              "      <td>0.124479</td>\n",
              "      <td>0.143900</td>\n",
              "      <td>0.131539</td>\n",
              "      <td>0.122675</td>\n",
              "      <td>...</td>\n",
              "      <td>0.166656</td>\n",
              "      <td>0.162356</td>\n",
              "      <td>0.159780</td>\n",
              "      <td>0.166870</td>\n",
              "      <td>0.158356</td>\n",
              "      <td>0.165013</td>\n",
              "      <td>0.160635</td>\n",
              "      <td>0.161776</td>\n",
              "      <td>0.172344</td>\n",
              "      <td>0.161516</td>\n",
              "    </tr>\n",
              "    <tr>\n",
              "      <th>000075.KS</th>\n",
              "      <td>0.114436</td>\n",
              "      <td>0.121420</td>\n",
              "      <td>0.125571</td>\n",
              "      <td>0.125743</td>\n",
              "      <td>0.126555</td>\n",
              "      <td>0.131347</td>\n",
              "      <td>0.118277</td>\n",
              "      <td>0.142389</td>\n",
              "      <td>0.130253</td>\n",
              "      <td>0.119357</td>\n",
              "      <td>...</td>\n",
              "      <td>0.155218</td>\n",
              "      <td>0.153405</td>\n",
              "      <td>0.151002</td>\n",
              "      <td>0.158347</td>\n",
              "      <td>0.156245</td>\n",
              "      <td>0.154041</td>\n",
              "      <td>0.151334</td>\n",
              "      <td>0.154143</td>\n",
              "      <td>0.161630</td>\n",
              "      <td>0.151395</td>\n",
              "    </tr>\n",
              "    <tr>\n",
              "      <th>...</th>\n",
              "      <th>...</th>\n",
              "      <td>...</td>\n",
              "      <td>...</td>\n",
              "      <td>...</td>\n",
              "      <td>...</td>\n",
              "      <td>...</td>\n",
              "      <td>...</td>\n",
              "      <td>...</td>\n",
              "      <td>...</td>\n",
              "      <td>...</td>\n",
              "      <td>...</td>\n",
              "      <td>...</td>\n",
              "      <td>...</td>\n",
              "      <td>...</td>\n",
              "      <td>...</td>\n",
              "      <td>...</td>\n",
              "      <td>...</td>\n",
              "      <td>...</td>\n",
              "      <td>...</td>\n",
              "      <td>...</td>\n",
              "      <td>...</td>\n",
              "      <td>...</td>\n",
              "    </tr>\n",
              "    <tr>\n",
              "      <th rowspan=\"5\" valign=\"top\">2023-05-12</th>\n",
              "      <th>451800.KS</th>\n",
              "      <td>0.043185</td>\n",
              "      <td>0.040875</td>\n",
              "      <td>0.023914</td>\n",
              "      <td>0.028295</td>\n",
              "      <td>0.021827</td>\n",
              "      <td>0.017456</td>\n",
              "      <td>0.022532</td>\n",
              "      <td>0.025019</td>\n",
              "      <td>0.030964</td>\n",
              "      <td>0.040930</td>\n",
              "      <td>...</td>\n",
              "      <td>0.066590</td>\n",
              "      <td>0.070182</td>\n",
              "      <td>0.077850</td>\n",
              "      <td>0.063280</td>\n",
              "      <td>0.064770</td>\n",
              "      <td>0.065536</td>\n",
              "      <td>0.065173</td>\n",
              "      <td>0.069061</td>\n",
              "      <td>0.071161</td>\n",
              "      <td>0.077495</td>\n",
              "    </tr>\n",
              "    <tr>\n",
              "      <th>452260.KS</th>\n",
              "      <td>0.032751</td>\n",
              "      <td>0.029912</td>\n",
              "      <td>0.019208</td>\n",
              "      <td>0.024241</td>\n",
              "      <td>0.024190</td>\n",
              "      <td>0.023607</td>\n",
              "      <td>0.026725</td>\n",
              "      <td>0.030483</td>\n",
              "      <td>0.037750</td>\n",
              "      <td>0.048165</td>\n",
              "      <td>...</td>\n",
              "      <td>0.057060</td>\n",
              "      <td>0.061336</td>\n",
              "      <td>0.069746</td>\n",
              "      <td>0.058287</td>\n",
              "      <td>0.059121</td>\n",
              "      <td>0.059042</td>\n",
              "      <td>0.059423</td>\n",
              "      <td>0.067136</td>\n",
              "      <td>0.064378</td>\n",
              "      <td>0.072080</td>\n",
              "    </tr>\n",
              "    <tr>\n",
              "      <th>453340.KS</th>\n",
              "      <td>0.024177</td>\n",
              "      <td>0.026142</td>\n",
              "      <td>0.020134</td>\n",
              "      <td>0.024196</td>\n",
              "      <td>0.021928</td>\n",
              "      <td>0.024761</td>\n",
              "      <td>0.031764</td>\n",
              "      <td>0.042945</td>\n",
              "      <td>0.065138</td>\n",
              "      <td>0.075654</td>\n",
              "      <td>...</td>\n",
              "      <td>0.086080</td>\n",
              "      <td>0.087899</td>\n",
              "      <td>0.091441</td>\n",
              "      <td>0.074112</td>\n",
              "      <td>0.077464</td>\n",
              "      <td>0.093499</td>\n",
              "      <td>0.080278</td>\n",
              "      <td>0.079729</td>\n",
              "      <td>0.091098</td>\n",
              "      <td>0.089868</td>\n",
              "    </tr>\n",
              "    <tr>\n",
              "      <th>900140.KS</th>\n",
              "      <td>0.040498</td>\n",
              "      <td>0.032382</td>\n",
              "      <td>0.014603</td>\n",
              "      <td>0.017197</td>\n",
              "      <td>0.011275</td>\n",
              "      <td>0.009519</td>\n",
              "      <td>0.009810</td>\n",
              "      <td>0.012886</td>\n",
              "      <td>0.009735</td>\n",
              "      <td>0.016366</td>\n",
              "      <td>...</td>\n",
              "      <td>0.026200</td>\n",
              "      <td>0.029312</td>\n",
              "      <td>0.028507</td>\n",
              "      <td>0.029512</td>\n",
              "      <td>0.033366</td>\n",
              "      <td>0.034181</td>\n",
              "      <td>0.034423</td>\n",
              "      <td>0.043177</td>\n",
              "      <td>0.038895</td>\n",
              "      <td>0.042410</td>\n",
              "    </tr>\n",
              "    <tr>\n",
              "      <th>950210.KS</th>\n",
              "      <td>-0.013945</td>\n",
              "      <td>0.003388</td>\n",
              "      <td>-0.002909</td>\n",
              "      <td>-0.000422</td>\n",
              "      <td>-0.013596</td>\n",
              "      <td>-0.015738</td>\n",
              "      <td>-0.011282</td>\n",
              "      <td>-0.011584</td>\n",
              "      <td>-0.014105</td>\n",
              "      <td>-0.008136</td>\n",
              "      <td>...</td>\n",
              "      <td>0.010118</td>\n",
              "      <td>0.015144</td>\n",
              "      <td>0.021265</td>\n",
              "      <td>0.027270</td>\n",
              "      <td>0.029878</td>\n",
              "      <td>0.028687</td>\n",
              "      <td>0.031764</td>\n",
              "      <td>0.041370</td>\n",
              "      <td>0.034814</td>\n",
              "      <td>0.038642</td>\n",
              "    </tr>\n",
              "  </tbody>\n",
              "</table>\n",
              "<p>223080 rows × 30 columns</p>\n",
              "</div>"
            ],
            "text/plain": [
              "                            50        51        52        53        54  \\\n",
              "date       ticker                                                        \n",
              "2018-05-25 000020.KS  0.040641  0.081166  0.097349  0.098991  0.119275   \n",
              "           000040.KS  0.092641  0.104553  0.120835  0.118723  0.125409   \n",
              "           000050.KS  0.101895  0.143689  0.120337  0.130517  0.143669   \n",
              "           000070.KS  0.083896  0.104633  0.122944  0.110993  0.121802   \n",
              "           000075.KS  0.114436  0.121420  0.125571  0.125743  0.126555   \n",
              "...                        ...       ...       ...       ...       ...   \n",
              "2023-05-12 451800.KS  0.043185  0.040875  0.023914  0.028295  0.021827   \n",
              "           452260.KS  0.032751  0.029912  0.019208  0.024241  0.024190   \n",
              "           453340.KS  0.024177  0.026142  0.020134  0.024196  0.021928   \n",
              "           900140.KS  0.040498  0.032382  0.014603  0.017197  0.011275   \n",
              "           950210.KS -0.013945  0.003388 -0.002909 -0.000422 -0.013596   \n",
              "\n",
              "                            55        56        57        58        59  ...  \\\n",
              "date       ticker                                                       ...   \n",
              "2018-05-25 000020.KS  0.118682  0.115823  0.138521  0.128921  0.119598  ...   \n",
              "           000040.KS  0.124329  0.126815  0.148523  0.132446  0.121560  ...   \n",
              "           000050.KS  0.150319  0.117780  0.141134  0.126851  0.107337  ...   \n",
              "           000070.KS  0.116582  0.124479  0.143900  0.131539  0.122675  ...   \n",
              "           000075.KS  0.131347  0.118277  0.142389  0.130253  0.119357  ...   \n",
              "...                        ...       ...       ...       ...       ...  ...   \n",
              "2023-05-12 451800.KS  0.017456  0.022532  0.025019  0.030964  0.040930  ...   \n",
              "           452260.KS  0.023607  0.026725  0.030483  0.037750  0.048165  ...   \n",
              "           453340.KS  0.024761  0.031764  0.042945  0.065138  0.075654  ...   \n",
              "           900140.KS  0.009519  0.009810  0.012886  0.009735  0.016366  ...   \n",
              "           950210.KS -0.015738 -0.011282 -0.011584 -0.014105 -0.008136  ...   \n",
              "\n",
              "                            70        71        72        73        74  \\\n",
              "date       ticker                                                        \n",
              "2018-05-25 000020.KS  0.166055  0.167745  0.167015  0.172683  0.161027   \n",
              "           000040.KS  0.160247  0.153608  0.148865  0.153466  0.153959   \n",
              "           000050.KS  0.147569  0.143726  0.139907  0.145353  0.146795   \n",
              "           000070.KS  0.166656  0.162356  0.159780  0.166870  0.158356   \n",
              "           000075.KS  0.155218  0.153405  0.151002  0.158347  0.156245   \n",
              "...                        ...       ...       ...       ...       ...   \n",
              "2023-05-12 451800.KS  0.066590  0.070182  0.077850  0.063280  0.064770   \n",
              "           452260.KS  0.057060  0.061336  0.069746  0.058287  0.059121   \n",
              "           453340.KS  0.086080  0.087899  0.091441  0.074112  0.077464   \n",
              "           900140.KS  0.026200  0.029312  0.028507  0.029512  0.033366   \n",
              "           950210.KS  0.010118  0.015144  0.021265  0.027270  0.029878   \n",
              "\n",
              "                            75        76        77        78        79  \n",
              "date       ticker                                                       \n",
              "2018-05-25 000020.KS  0.170037  0.165164  0.162555  0.175062  0.163776  \n",
              "           000040.KS  0.152358  0.148719  0.156427  0.162235  0.153175  \n",
              "           000050.KS  0.143260  0.139743  0.146252  0.149947  0.141103  \n",
              "           000070.KS  0.165013  0.160635  0.161776  0.172344  0.161516  \n",
              "           000075.KS  0.154041  0.151334  0.154143  0.161630  0.151395  \n",
              "...                        ...       ...       ...       ...       ...  \n",
              "2023-05-12 451800.KS  0.065536  0.065173  0.069061  0.071161  0.077495  \n",
              "           452260.KS  0.059042  0.059423  0.067136  0.064378  0.072080  \n",
              "           453340.KS  0.093499  0.080278  0.079729  0.091098  0.089868  \n",
              "           900140.KS  0.034181  0.034423  0.043177  0.038895  0.042410  \n",
              "           950210.KS  0.028687  0.031764  0.041370  0.034814  0.038642  \n",
              "\n",
              "[223080 rows x 30 columns]"
            ]
          },
          "execution_count": 333,
          "metadata": {},
          "output_type": "execute_result"
        }
      ],
      "source": [
        "predictions_combined"
      ]
    },
    {
      "cell_type": "code",
      "execution_count": null,
      "metadata": {},
      "outputs": [],
      "source": []
    }
  ],
  "metadata": {
    "colab": {
      "collapsed_sections": [
        "ntThvUmmHWNQ"
      ],
      "provenance": []
    },
    "gpuClass": "standard",
    "kernelspec": {
      "display_name": "Python 3",
      "language": "python",
      "name": "python3"
    },
    "language_info": {
      "codemirror_mode": {
        "name": "ipython",
        "version": 3
      },
      "file_extension": ".py",
      "mimetype": "text/x-python",
      "name": "python",
      "nbconvert_exporter": "python",
      "pygments_lexer": "ipython3",
      "version": "3.10.11"
    },
    "toc": {
      "base_numbering": 1,
      "nav_menu": {},
      "number_sections": true,
      "sideBar": true,
      "skip_h1_title": true,
      "title_cell": "Table of Contents",
      "title_sidebar": "Contents",
      "toc_cell": false,
      "toc_position": {
        "height": "calc(100% - 180px)",
        "left": "10px",
        "top": "150px",
        "width": "304px"
      },
      "toc_section_display": true,
      "toc_window_display": true
    }
  },
  "nbformat": 4,
  "nbformat_minor": 0
}
