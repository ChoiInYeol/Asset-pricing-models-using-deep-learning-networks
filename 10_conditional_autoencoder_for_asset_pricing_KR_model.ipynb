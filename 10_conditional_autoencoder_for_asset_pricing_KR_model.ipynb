{
  "cells": [
    {
      "attachments": {},
      "cell_type": "markdown",
      "metadata": {
        "id": "1eVwN96NG6AD"
      },
      "source": [
        "# Conditional Autoencoder for Asset Pricing - Part 2: The Model"
      ]
    },
    {
      "attachments": {},
      "cell_type": "markdown",
      "metadata": {
        "id": "qj0ahGMNG6AE"
      },
      "source": [
        "This notebook uses a dataset created using `yfinance` in the notebook [conditional_autoencoder_for_asset_pricing_data](05_conditional_autoencoder_for_asset_pricing_data.ipynb). The results will vary depending on which ticker downloads succeeded."
      ]
    },
    {
      "attachments": {},
      "cell_type": "markdown",
      "metadata": {},
      "source": [
        "### if Colab"
      ]
    },
    {
      "cell_type": "code",
      "execution_count": 1,
      "metadata": {},
      "outputs": [
        {
          "name": "stdout",
          "output_type": "stream",
          "text": [
            "Not running on Colab\n"
          ]
        }
      ],
      "source": [
        "import os\n",
        "\n",
        "if 'COLAB_GPU' in os.environ:\n",
        "    print(\"Running on Colab\")\n",
        "    from google.colab import drive\n",
        "    drive.mount('/content/drive')\n",
        "    # Get the current working directory\n",
        "    path = os.getcwd()\n",
        "    # Print the path\n",
        "    print(\"Current Path:\", path)\n",
        "    # 이동할 디렉토리 경로\n",
        "    path = '/content/drive/MyDrive/Colab Notebooks'\n",
        "    # 디렉토리 변경\n",
        "    os.chdir(path)\n",
        "else:\n",
        "    print(\"Not running on Colab\")"
      ]
    },
    {
      "cell_type": "code",
      "execution_count": 2,
      "metadata": {
        "ExecuteTime": {
          "end_time": "2021-02-25T02:19:34.605450Z",
          "start_time": "2021-02-25T02:19:34.603752Z"
        },
        "id": "frjNW8ZuG6AE"
      },
      "outputs": [],
      "source": [
        "import warnings\n",
        "warnings.filterwarnings('ignore')"
      ]
    },
    {
      "cell_type": "code",
      "execution_count": 3,
      "metadata": {
        "ExecuteTime": {
          "end_time": "2021-02-25T02:19:36.827983Z",
          "start_time": "2021-02-25T02:19:34.779105Z"
        },
        "id": "tOutZnArG6AE"
      },
      "outputs": [],
      "source": [
        "import sys, os\n",
        "from time import time\n",
        "from pathlib import Path\n",
        "from itertools import product\n",
        "from tqdm import tqdm \n",
        "\n",
        "import numpy as np\n",
        "import pandas as pd\n",
        "\n",
        "import matplotlib.pyplot as plt\n",
        "import seaborn as sns\n",
        "\n",
        "import tensorflow as tf\n",
        "from tensorflow.keras.layers import Input, Dense, Dot, Reshape, BatchNormalization\n",
        "from tensorflow.keras.models import Model\n",
        "from tensorflow.keras.callbacks import TensorBoard\n",
        "\n",
        "from sklearn.preprocessing import quantile_transform\n",
        "\n",
        "from scipy.stats import spearmanr"
      ]
    },
    {
      "cell_type": "code",
      "execution_count": 4,
      "metadata": {
        "ExecuteTime": {
          "end_time": "2021-02-25T02:19:36.921304Z",
          "start_time": "2021-02-25T02:19:36.829045Z"
        },
        "colab": {
          "base_uri": "https://localhost:8080/"
        },
        "id": "UO1YJSZ9G6AE",
        "outputId": "859567b3-0a0f-4563-b7d6-74f0e065c8f7"
      },
      "outputs": [
        {
          "name": "stdout",
          "output_type": "stream",
          "text": [
            "Using GPU\n"
          ]
        }
      ],
      "source": [
        "gpu_devices = tf.config.experimental.list_physical_devices('GPU')\n",
        "if gpu_devices:\n",
        "    print('Using GPU')\n",
        "    tf.config.experimental.set_memory_growth(gpu_devices[0], True)\n",
        "else:\n",
        "    print('Using CPU')"
      ]
    },
    {
      "cell_type": "code",
      "execution_count": 5,
      "metadata": {},
      "outputs": [],
      "source": [
        "sys.path.insert(1, os.path.join(sys.path[0], '..'))\n",
        "from utils import MultipleTimeSeriesCV, format_time"
      ]
    },
    {
      "cell_type": "code",
      "execution_count": 6,
      "metadata": {
        "ExecuteTime": {
          "end_time": "2021-02-25T02:19:36.941712Z",
          "start_time": "2021-02-25T02:19:36.937278Z"
        },
        "id": "Y4FheCqQG6AF"
      },
      "outputs": [],
      "source": [
        "idx = pd.IndexSlice\n",
        "sns.set_style('whitegrid')\n",
        "np.random.seed(42)"
      ]
    },
    {
      "cell_type": "code",
      "execution_count": 7,
      "metadata": {
        "ExecuteTime": {
          "end_time": "2021-02-25T02:19:37.833897Z",
          "start_time": "2021-02-25T02:19:37.830039Z"
        },
        "id": "58RNH46yG6AF"
      },
      "outputs": [],
      "source": [
        "results_path = Path('KR_results', 'asset_pricing')\n",
        "if not results_path.exists():\n",
        "    results_path.mkdir(parents=True)"
      ]
    },
    {
      "cell_type": "code",
      "execution_count": 8,
      "metadata": {
        "ExecuteTime": {
          "end_time": "2021-02-25T02:19:38.033251Z",
          "start_time": "2021-02-25T02:19:38.027838Z"
        },
        "id": "GkbXEVVdG6AF"
      },
      "outputs": [],
      "source": [
        "characteristics = ['beta', 'betasq', 'chmom', 'dolvol', 'idiovol', 'ill', 'indmom',\n",
        "                   'maxret', 'mom12m', 'mom1m', 'mom36m', 'mvel', 'retvol', 'turn', 'turn_std']"
      ]
    },
    {
      "attachments": {},
      "cell_type": "markdown",
      "metadata": {
        "id": "IglpRJCpG6AG"
      },
      "source": [
        "## Load Data"
      ]
    },
    {
      "cell_type": "code",
      "execution_count": 9,
      "metadata": {
        "ExecuteTime": {
          "end_time": "2021-02-24T18:50:13.572501Z",
          "start_time": "2021-02-24T18:50:13.512736Z"
        },
        "colab": {
          "base_uri": "https://localhost:8080/"
        },
        "id": "CLrJcRaXG6AG",
        "outputId": "d178afdb-e492-4cbb-9bce-6ff9395fca85"
      },
      "outputs": [
        {
          "name": "stdout",
          "output_type": "stream",
          "text": [
            "<class 'pandas.io.pytables.HDFStore'>\n",
            "File path: KR_results\\asset_pricing\\autoencoder.h5\n",
            "/close                      frame        (shape->[5032,762])\n",
            "/factor/beta                frame        (shape->[481458,1])\n",
            "/factor/betasq              frame        (shape->[481458,1])\n",
            "/factor/chmom               frame        (shape->[557031,1])\n",
            "/factor/dolvol              frame        (shape->[586586,1])\n",
            "/factor/idiovol             frame        (shape->[481458,1])\n",
            "/factor/ill                 frame        (shape->[464593,1])\n",
            "/factor/indmom              frame        (shape->[577165,1])\n",
            "/factor/maxret              frame        (shape->[589355,1])\n",
            "/factor/mom12m              frame        (shape->[557031,1])\n",
            "/factor/mom1m               series       (shape->[592451])  \n",
            "/factor/mom36m              frame        (shape->[482052,1])\n",
            "/factor/mvel                frame        (shape->[595625,1])\n",
            "/factor/retvol              frame        (shape->[592451,1])\n",
            "/factor/turn                frame        (shape->[580790,1])\n",
            "/factor/turn_std            frame        (shape->[589756,1])\n",
            "/metadata                   frame        (shape->[1,3])     \n",
            "/returns                    frame        (shape->[1043,762])\n",
            "/volume                     frame        (shape->[5032,762])\n"
          ]
        }
      ],
      "source": [
        "with pd.HDFStore(results_path / 'autoencoder.h5') as store:\n",
        "    print(store.info())"
      ]
    },
    {
      "attachments": {},
      "cell_type": "markdown",
      "metadata": {
        "id": "j4e2kMyKG6AG"
      },
      "source": [
        "### Weekly returns"
      ]
    },
    {
      "cell_type": "code",
      "execution_count": 52,
      "metadata": {
        "ExecuteTime": {
          "end_time": "2021-02-25T01:26:06.206795Z",
          "start_time": "2021-02-25T01:26:04.882874Z"
        },
        "id": "O9jSRvG_G6AG"
      },
      "outputs": [],
      "source": [
        "data = (pd.read_hdf(results_path / 'autoencoder.h5', 'returns')\n",
        "        .stack(dropna=False)\n",
        "        .to_frame('returns')\n",
        "        .loc[idx['2000':, :], :])\n",
        "\n",
        "# 램 문제 발생으로 인한 1993 -> 2013"
      ]
    },
    {
      "cell_type": "code",
      "execution_count": 53,
      "metadata": {
        "ExecuteTime": {
          "end_time": "2021-02-25T01:31:04.871050Z",
          "start_time": "2021-02-25T01:26:29.547812Z"
        },
        "id": "oQeFh3FQG6AG"
      },
      "outputs": [],
      "source": [
        "with pd.HDFStore(results_path / 'autoencoder.h5') as store:\n",
        "    keys = [k[1:] for k in store.keys() if k[1:].startswith('factor')]\n",
        "    for key in keys:\n",
        "        data[key.split('/')[-1]] = store[key].squeeze()"
      ]
    },
    {
      "cell_type": "code",
      "execution_count": 54,
      "metadata": {
        "ExecuteTime": {
          "end_time": "2021-02-25T01:31:05.500857Z",
          "start_time": "2021-02-25T01:31:04.872471Z"
        },
        "id": "O88_kIdqG6AG"
      },
      "outputs": [],
      "source": [
        "characteristics = data.drop('returns', axis=1).columns.tolist()"
      ]
    },
    {
      "cell_type": "code",
      "execution_count": 55,
      "metadata": {
        "ExecuteTime": {
          "end_time": "2021-02-25T01:31:20.675618Z",
          "start_time": "2021-02-25T01:31:05.506982Z"
        },
        "id": "AckyPRVfG6AG"
      },
      "outputs": [],
      "source": [
        "data['returns_fwd'] = data.returns.unstack('ticker').shift(-1).stack()"
      ]
    },
    {
      "cell_type": "code",
      "execution_count": 56,
      "metadata": {
        "ExecuteTime": {
          "end_time": "2021-02-25T01:31:21.117546Z",
          "start_time": "2021-02-25T01:31:20.677182Z"
        },
        "colab": {
          "base_uri": "https://localhost:8080/"
        },
        "id": "wsPwsDDXG6AG",
        "outputId": "a7b4e7e0-b298-426b-a6bc-216d9d67ee48"
      },
      "outputs": [
        {
          "name": "stdout",
          "output_type": "stream",
          "text": [
            "<class 'pandas.core.frame.DataFrame'>\n",
            "MultiIndex: 794766 entries, (Timestamp('2000-01-14 00:00:00', freq='W-FRI'), '005930.KS') to (Timestamp('2020-01-03 00:00:00', freq='W-FRI'), '000547.KS')\n",
            "Data columns (total 17 columns):\n",
            " #   Column       Non-Null Count   Dtype  \n",
            "---  ------       --------------   -----  \n",
            " 0   returns      595598 non-null  float64\n",
            " 1   beta         481458 non-null  float64\n",
            " 2   betasq       481458 non-null  float64\n",
            " 3   chmom        557031 non-null  float64\n",
            " 4   dolvol       586586 non-null  float64\n",
            " 5   idiovol      481458 non-null  float64\n",
            " 6   ill          464593 non-null  float64\n",
            " 7   indmom       577165 non-null  float64\n",
            " 8   maxret       589355 non-null  float64\n",
            " 9   mom12m       557031 non-null  float64\n",
            " 10  mom1m        592451 non-null  float64\n",
            " 11  mom36m       482052 non-null  float64\n",
            " 12  mvel         595284 non-null  float64\n",
            " 13  retvol       592451 non-null  float64\n",
            " 14  turn         580790 non-null  float64\n",
            " 15  turn_std     589756 non-null  float64\n",
            " 16  returns_fwd  595257 non-null  float64\n",
            "dtypes: float64(17)\n",
            "memory usage: 106.2+ MB\n"
          ]
        }
      ],
      "source": [
        "data.info(null_counts=True)"
      ]
    },
    {
      "cell_type": "code",
      "execution_count": 57,
      "metadata": {
        "ExecuteTime": {
          "end_time": "2021-02-24T18:52:55.851733Z",
          "start_time": "2021-02-24T18:52:54.472212Z"
        },
        "id": "CJxw4oxSG6AH"
      },
      "outputs": [],
      "source": [
        "nobs_by_date = data.groupby(level='date').count().max(1)\n",
        "nobs_by_characteristic = pd.melt(data[characteristics].groupby(level='date').count(),\n",
        "                                 value_name='# Observations',\n",
        "                                 var_name=['Characteristic'])"
      ]
    },
    {
      "attachments": {},
      "cell_type": "markdown",
      "metadata": {},
      "source": [
        "### 주식 개수, Beta 개수"
      ]
    },
    {
      "cell_type": "code",
      "execution_count": 58,
      "metadata": {
        "ExecuteTime": {
          "end_time": "2021-02-24T18:52:56.259184Z",
          "start_time": "2021-02-24T18:52:55.852633Z"
        },
        "colab": {
          "base_uri": "https://localhost:8080/",
          "height": 407
        },
        "id": "b22VkMUwG6AH",
        "outputId": "1353b7c5-045a-41cc-b876-775723f715b7"
      },
      "outputs": [
        {
          "data": {
            "image/png": "[encoded data removed]",
            "text/plain": [
              "<Figure size 1400x400 with 2 Axes>"
            ]
          },
          "metadata": {},
          "output_type": "display_data"
        }
      ],
      "source": [
        "with sns.axes_style(\"white\"):\n",
        "    fig, axes = plt.subplots(ncols=2, figsize=(14, 4))\n",
        "    sns.distplot(nobs_by_date, kde=False, ax=axes[0])\n",
        "    axes[0].set_title('# of Stocks per Week')\n",
        "    axes[0].set_xlabel('# of Observations')\n",
        "    sns.boxplot(x='Characteristic',\n",
        "                y='# Observations',\n",
        "                data=nobs_by_characteristic,\n",
        "                ax=axes[1],\n",
        "                palette='Blues')\n",
        "    axes[1].set_xticklabels(axes[1].get_xticklabels(),\n",
        "                            rotation=25,\n",
        "                            ha='right')\n",
        "    axes[1].set_title('# of Observation per Stock Characteristic')\n",
        "    sns.despine()\n",
        "    fig.tight_layout()\n",
        "    # fig.savefig(results_path / 'of Stocks per Week', dpi=600)"
      ]
    },
    {
      "attachments": {},
      "cell_type": "markdown",
      "metadata": {
        "id": "RcveLXAGG6AH"
      },
      "source": [
        "### Rank-normalize characteristics"
      ]
    },
    {
      "cell_type": "code",
      "execution_count": 59,
      "metadata": {
        "ExecuteTime": {
          "end_time": "2021-02-24T18:54:46.798214Z",
          "start_time": "2021-02-24T18:52:56.260370Z"
        },
        "id": "qRXGH5HMG6AH"
      },
      "outputs": [],
      "source": [
        "data.loc[:, characteristics] = (data.loc[:, characteristics]\n",
        "                                .groupby(level='date')\n",
        "                                .apply(lambda x: pd.DataFrame(quantile_transform(x, \n",
        "                                                                                 copy=True, \n",
        "                                                                                 n_quantiles=x.shape[0]),\n",
        "                                                              columns=characteristics,\n",
        "                                                              index=x.index.get_level_values('ticker')))\n",
        "                               .mul(2).sub(1))"
      ]
    },
    {
      "cell_type": "code",
      "execution_count": 60,
      "metadata": {
        "ExecuteTime": {
          "end_time": "2021-02-24T18:54:46.944271Z",
          "start_time": "2021-02-24T18:54:46.799110Z"
        },
        "colab": {
          "base_uri": "https://localhost:8080/"
        },
        "id": "CPAaj0CfG6AH",
        "outputId": "2393e17e-4a92-42f8-a67e-28eeec09b1eb"
      },
      "outputs": [
        {
          "name": "stdout",
          "output_type": "stream",
          "text": [
            "<class 'pandas.core.frame.DataFrame'>\n",
            "MultiIndex: 794766 entries, (Timestamp('2000-01-14 00:00:00', freq='W-FRI'), '005930.KS') to (Timestamp('2020-01-03 00:00:00', freq='W-FRI'), '000547.KS')\n",
            "Data columns (total 17 columns):\n",
            " #   Column       Non-Null Count   Dtype  \n",
            "---  ------       --------------   -----  \n",
            " 0   returns      595598 non-null  float64\n",
            " 1   beta         481458 non-null  float64\n",
            " 2   betasq       481458 non-null  float64\n",
            " 3   chmom        557031 non-null  float64\n",
            " 4   dolvol       586586 non-null  float64\n",
            " 5   idiovol      481458 non-null  float64\n",
            " 6   ill          464593 non-null  float64\n",
            " 7   indmom       577165 non-null  float64\n",
            " 8   maxret       589355 non-null  float64\n",
            " 9   mom12m       557031 non-null  float64\n",
            " 10  mom1m        592451 non-null  float64\n",
            " 11  mom36m       482052 non-null  float64\n",
            " 12  mvel         595284 non-null  float64\n",
            " 13  retvol       592451 non-null  float64\n",
            " 14  turn         580790 non-null  float64\n",
            " 15  turn_std     589756 non-null  float64\n",
            " 16  returns_fwd  595257 non-null  float64\n",
            "dtypes: float64(17)\n",
            "memory usage: 106.2+ MB\n"
          ]
        }
      ],
      "source": [
        "data.info(null_counts=True)"
      ]
    },
    {
      "cell_type": "code",
      "execution_count": 61,
      "metadata": {
        "ExecuteTime": {
          "end_time": "2021-02-24T18:54:46.948950Z",
          "start_time": "2021-02-24T18:54:46.945523Z"
        },
        "colab": {
          "base_uri": "https://localhost:8080/"
        },
        "id": "dnqooaKBG6AH",
        "outputId": "e51e6a0c-880c-4922-bc9d-7ee9005c51e9"
      },
      "outputs": [
        {
          "data": {
            "text/plain": [
              "FrozenList(['date', 'ticker'])"
            ]
          },
          "execution_count": 61,
          "metadata": {},
          "output_type": "execute_result"
        }
      ],
      "source": [
        "data.index.names"
      ]
    },
    {
      "cell_type": "code",
      "execution_count": 62,
      "metadata": {
        "ExecuteTime": {
          "end_time": "2021-02-24T18:54:50.852191Z",
          "start_time": "2021-02-24T18:54:46.950191Z"
        },
        "colab": {
          "base_uri": "https://localhost:8080/",
          "height": 399
        },
        "id": "G_pCOAC4G6AI",
        "outputId": "dcf2b5d9-0ede-4a5b-cae9-21e34af4fd89"
      },
      "outputs": [
        {
          "data": {
            "text/html": [
              "<div>\n",
              "<style scoped>\n",
              "    .dataframe tbody tr th:only-of-type {\n",
              "        vertical-align: middle;\n",
              "    }\n",
              "\n",
              "    .dataframe tbody tr th {\n",
              "        vertical-align: top;\n",
              "    }\n",
              "\n",
              "    .dataframe thead th {\n",
              "        text-align: right;\n",
              "    }\n",
              "</style>\n",
              "<table border=\"1\" class=\"dataframe\">\n",
              "  <thead>\n",
              "    <tr style=\"text-align: right;\">\n",
              "      <th></th>\n",
              "      <th>returns</th>\n",
              "      <th>beta</th>\n",
              "      <th>betasq</th>\n",
              "      <th>chmom</th>\n",
              "      <th>dolvol</th>\n",
              "      <th>idiovol</th>\n",
              "      <th>ill</th>\n",
              "      <th>indmom</th>\n",
              "      <th>maxret</th>\n",
              "      <th>mom12m</th>\n",
              "      <th>mom1m</th>\n",
              "      <th>mom36m</th>\n",
              "      <th>mvel</th>\n",
              "      <th>retvol</th>\n",
              "      <th>turn</th>\n",
              "      <th>turn_std</th>\n",
              "      <th>returns_fwd</th>\n",
              "    </tr>\n",
              "  </thead>\n",
              "  <tbody>\n",
              "    <tr>\n",
              "      <th>count</th>\n",
              "      <td>595598.000000</td>\n",
              "      <td>4.814580e+05</td>\n",
              "      <td>481458.000000</td>\n",
              "      <td>5.570310e+05</td>\n",
              "      <td>586586.000000</td>\n",
              "      <td>4.814580e+05</td>\n",
              "      <td>464593.000000</td>\n",
              "      <td>577165.000000</td>\n",
              "      <td>589355.000000</td>\n",
              "      <td>557031.000000</td>\n",
              "      <td>5.924510e+05</td>\n",
              "      <td>482052.000000</td>\n",
              "      <td>5.952840e+05</td>\n",
              "      <td>592451.000000</td>\n",
              "      <td>580790.000000</td>\n",
              "      <td>589756.000000</td>\n",
              "      <td>595257.000000</td>\n",
              "    </tr>\n",
              "    <tr>\n",
              "      <th>mean</th>\n",
              "      <td>0.003292</td>\n",
              "      <td>-8.137395e-07</td>\n",
              "      <td>-0.000004</td>\n",
              "      <td>-4.759804e-07</td>\n",
              "      <td>-0.000008</td>\n",
              "      <td>-9.712880e-07</td>\n",
              "      <td>-0.000012</td>\n",
              "      <td>0.003306</td>\n",
              "      <td>-0.000002</td>\n",
              "      <td>-0.000002</td>\n",
              "      <td>-9.995265e-07</td>\n",
              "      <td>-0.000002</td>\n",
              "      <td>-4.823162e-07</td>\n",
              "      <td>-0.000009</td>\n",
              "      <td>-0.000012</td>\n",
              "      <td>-0.000016</td>\n",
              "      <td>0.003287</td>\n",
              "    </tr>\n",
              "    <tr>\n",
              "      <th>std</th>\n",
              "      <td>0.071555</td>\n",
              "      <td>5.784097e-01</td>\n",
              "      <td>0.578413</td>\n",
              "      <td>5.783683e-01</td>\n",
              "      <td>0.578373</td>\n",
              "      <td>5.784099e-01</td>\n",
              "      <td>0.578329</td>\n",
              "      <td>0.596680</td>\n",
              "      <td>0.578354</td>\n",
              "      <td>0.578371</td>\n",
              "      <td>5.783504e-01</td>\n",
              "      <td>0.578411</td>\n",
              "      <td>5.783544e-01</td>\n",
              "      <td>0.578366</td>\n",
              "      <td>0.578375</td>\n",
              "      <td>0.578375</td>\n",
              "      <td>0.071521</td>\n",
              "    </tr>\n",
              "    <tr>\n",
              "      <th>min</th>\n",
              "      <td>-0.972147</td>\n",
              "      <td>-1.000000e+00</td>\n",
              "      <td>-1.000000</td>\n",
              "      <td>-1.000000e+00</td>\n",
              "      <td>-1.000000</td>\n",
              "      <td>-1.000000e+00</td>\n",
              "      <td>-1.000000</td>\n",
              "      <td>-1.000000</td>\n",
              "      <td>-1.000000</td>\n",
              "      <td>-1.000000</td>\n",
              "      <td>-1.000000e+00</td>\n",
              "      <td>-1.000000</td>\n",
              "      <td>-1.000000e+00</td>\n",
              "      <td>-1.000000</td>\n",
              "      <td>-1.000000</td>\n",
              "      <td>-1.000000</td>\n",
              "      <td>-0.972147</td>\n",
              "    </tr>\n",
              "    <tr>\n",
              "      <th>25%</th>\n",
              "      <td>-0.028504</td>\n",
              "      <td>-5.008374e-01</td>\n",
              "      <td>-0.500838</td>\n",
              "      <td>-5.008237e-01</td>\n",
              "      <td>-0.500829</td>\n",
              "      <td>-5.008652e-01</td>\n",
              "      <td>-0.500765</td>\n",
              "      <td>-0.504599</td>\n",
              "      <td>-0.500789</td>\n",
              "      <td>-0.500803</td>\n",
              "      <td>-5.007657e-01</td>\n",
              "      <td>-0.500852</td>\n",
              "      <td>-5.008022e-01</td>\n",
              "      <td>-0.500849</td>\n",
              "      <td>-0.500845</td>\n",
              "      <td>-0.500850</td>\n",
              "      <td>-0.028485</td>\n",
              "    </tr>\n",
              "    <tr>\n",
              "      <th>50%</th>\n",
              "      <td>0.000000</td>\n",
              "      <td>-4.448633e-05</td>\n",
              "      <td>-0.000046</td>\n",
              "      <td>1.220118e-05</td>\n",
              "      <td>-0.000065</td>\n",
              "      <td>-1.771724e-05</td>\n",
              "      <td>-0.000003</td>\n",
              "      <td>0.010512</td>\n",
              "      <td>-0.000034</td>\n",
              "      <td>0.000019</td>\n",
              "      <td>0.000000e+00</td>\n",
              "      <td>-0.000140</td>\n",
              "      <td>1.471535e-05</td>\n",
              "      <td>0.000062</td>\n",
              "      <td>0.000026</td>\n",
              "      <td>-0.000003</td>\n",
              "      <td>0.000000</td>\n",
              "    </tr>\n",
              "    <tr>\n",
              "      <th>75%</th>\n",
              "      <td>0.028736</td>\n",
              "      <td>5.008398e-01</td>\n",
              "      <td>0.500840</td>\n",
              "      <td>5.008250e-01</td>\n",
              "      <td>0.500829</td>\n",
              "      <td>5.008613e-01</td>\n",
              "      <td>0.500764</td>\n",
              "      <td>0.480946</td>\n",
              "      <td>0.500790</td>\n",
              "      <td>0.500799</td>\n",
              "      <td>5.008169e-01</td>\n",
              "      <td>0.500830</td>\n",
              "      <td>5.007896e-01</td>\n",
              "      <td>0.500814</td>\n",
              "      <td>0.500840</td>\n",
              "      <td>0.500835</td>\n",
              "      <td>0.028721</td>\n",
              "    </tr>\n",
              "    <tr>\n",
              "      <th>max</th>\n",
              "      <td>2.697885</td>\n",
              "      <td>1.000000e+00</td>\n",
              "      <td>1.000000</td>\n",
              "      <td>1.000000e+00</td>\n",
              "      <td>1.000000</td>\n",
              "      <td>1.000000e+00</td>\n",
              "      <td>1.000000</td>\n",
              "      <td>1.000000</td>\n",
              "      <td>1.000000</td>\n",
              "      <td>1.000000</td>\n",
              "      <td>1.000000e+00</td>\n",
              "      <td>1.000000</td>\n",
              "      <td>1.000000e+00</td>\n",
              "      <td>1.000000</td>\n",
              "      <td>1.000000</td>\n",
              "      <td>1.000000</td>\n",
              "      <td>2.697885</td>\n",
              "    </tr>\n",
              "  </tbody>\n",
              "</table>\n",
              "</div>"
            ],
            "text/plain": [
              "             returns          beta         betasq         chmom  \\\n",
              "count  595598.000000  4.814580e+05  481458.000000  5.570310e+05   \n",
              "mean        0.003292 -8.137395e-07      -0.000004 -4.759804e-07   \n",
              "std         0.071555  5.784097e-01       0.578413  5.783683e-01   \n",
              "min        -0.972147 -1.000000e+00      -1.000000 -1.000000e+00   \n",
              "25%        -0.028504 -5.008374e-01      -0.500838 -5.008237e-01   \n",
              "50%         0.000000 -4.448633e-05      -0.000046  1.220118e-05   \n",
              "75%         0.028736  5.008398e-01       0.500840  5.008250e-01   \n",
              "max         2.697885  1.000000e+00       1.000000  1.000000e+00   \n",
              "\n",
              "              dolvol       idiovol            ill         indmom  \\\n",
              "count  586586.000000  4.814580e+05  464593.000000  577165.000000   \n",
              "mean       -0.000008 -9.712880e-07      -0.000012       0.003306   \n",
              "std         0.578373  5.784099e-01       0.578329       0.596680   \n",
              "min        -1.000000 -1.000000e+00      -1.000000      -1.000000   \n",
              "25%        -0.500829 -5.008652e-01      -0.500765      -0.504599   \n",
              "50%        -0.000065 -1.771724e-05      -0.000003       0.010512   \n",
              "75%         0.500829  5.008613e-01       0.500764       0.480946   \n",
              "max         1.000000  1.000000e+00       1.000000       1.000000   \n",
              "\n",
              "              maxret         mom12m         mom1m         mom36m  \\\n",
              "count  589355.000000  557031.000000  5.924510e+05  482052.000000   \n",
              "mean       -0.000002      -0.000002 -9.995265e-07      -0.000002   \n",
              "std         0.578354       0.578371  5.783504e-01       0.578411   \n",
              "min        -1.000000      -1.000000 -1.000000e+00      -1.000000   \n",
              "25%        -0.500789      -0.500803 -5.007657e-01      -0.500852   \n",
              "50%        -0.000034       0.000019  0.000000e+00      -0.000140   \n",
              "75%         0.500790       0.500799  5.008169e-01       0.500830   \n",
              "max         1.000000       1.000000  1.000000e+00       1.000000   \n",
              "\n",
              "               mvel         retvol           turn       turn_std  \\\n",
              "count  5.952840e+05  592451.000000  580790.000000  589756.000000   \n",
              "mean  -4.823162e-07      -0.000009      -0.000012      -0.000016   \n",
              "std    5.783544e-01       0.578366       0.578375       0.578375   \n",
              "min   -1.000000e+00      -1.000000      -1.000000      -1.000000   \n",
              "25%   -5.008022e-01      -0.500849      -0.500845      -0.500850   \n",
              "50%    1.471535e-05       0.000062       0.000026      -0.000003   \n",
              "75%    5.007896e-01       0.500814       0.500840       0.500835   \n",
              "max    1.000000e+00       1.000000       1.000000       1.000000   \n",
              "\n",
              "         returns_fwd  \n",
              "count  595257.000000  \n",
              "mean        0.003287  \n",
              "std         0.071521  \n",
              "min        -0.972147  \n",
              "25%        -0.028485  \n",
              "50%         0.000000  \n",
              "75%         0.028721  \n",
              "max         2.697885  "
            ]
          },
          "execution_count": 62,
          "metadata": {},
          "output_type": "execute_result"
        }
      ],
      "source": [
        "data.describe()"
      ]
    },
    {
      "cell_type": "code",
      "execution_count": 63,
      "metadata": {
        "ExecuteTime": {
          "end_time": "2021-02-24T18:54:51.653434Z",
          "start_time": "2021-02-24T18:54:50.853071Z"
        },
        "id": "Bgf0yr-DG6AI"
      },
      "outputs": [],
      "source": [
        "data = data.loc[idx[:'2019', :], :]"
      ]
    },
    {
      "cell_type": "code",
      "execution_count": 64,
      "metadata": {
        "ExecuteTime": {
          "end_time": "2021-02-24T18:54:52.175796Z",
          "start_time": "2021-02-24T18:54:51.654300Z"
        },
        "id": "b2ue55JPG6AI"
      },
      "outputs": [],
      "source": [
        "data.loc[:, ['returns', 'returns_fwd']] = data.loc[:, ['returns', 'returns_fwd']].clip(lower=-1, upper=1.0)"
      ]
    },
    {
      "cell_type": "code",
      "execution_count": 65,
      "metadata": {
        "ExecuteTime": {
          "end_time": "2021-02-24T18:54:52.551139Z",
          "start_time": "2021-02-24T18:54:52.176641Z"
        },
        "id": "ubThCAzvG6AI"
      },
      "outputs": [],
      "source": [
        "data = data.fillna(-2)"
      ]
    },
    {
      "cell_type": "code",
      "execution_count": 66,
      "metadata": {
        "ExecuteTime": {
          "end_time": "2021-02-24T18:54:53.177682Z",
          "start_time": "2021-02-24T18:54:52.551965Z"
        },
        "id": "dbL7Y2fUG6AI"
      },
      "outputs": [],
      "source": [
        "data.to_hdf(results_path / 'autoencoder.h5', 'model_data')"
      ]
    },
    {
      "attachments": {},
      "cell_type": "markdown",
      "metadata": {
        "id": "aZhu0InOG6AI"
      },
      "source": [
        "## Architecture"
      ]
    },
    {
      "cell_type": "code",
      "execution_count": 67,
      "metadata": {
        "ExecuteTime": {
          "end_time": "2021-02-25T02:19:55.884348Z",
          "start_time": "2021-02-25T02:19:54.229906Z"
        },
        "id": "D12Z1ydfG6AI"
      },
      "outputs": [],
      "source": [
        "data = pd.read_hdf(results_path / 'autoencoder.h5', 'model_data')"
      ]
    },
    {
      "attachments": {},
      "cell_type": "markdown",
      "metadata": {
        "id": "-bpjOx7FG6AI"
      },
      "source": [
        "### Key parameters"
      ]
    },
    {
      "cell_type": "code",
      "execution_count": 68,
      "metadata": {
        "ExecuteTime": {
          "end_time": "2021-02-25T02:19:56.938323Z",
          "start_time": "2021-02-25T02:19:56.887604Z"
        },
        "id": "TRNt3IhNG6AI"
      },
      "outputs": [],
      "source": [
        "n_factors = 3\n",
        "n_characteristics = len(characteristics)\n",
        "n_tickers = len(data.index.unique('ticker'))"
      ]
    },
    {
      "cell_type": "code",
      "execution_count": 69,
      "metadata": {
        "ExecuteTime": {
          "end_time": "2021-02-25T02:19:57.066339Z",
          "start_time": "2021-02-25T02:19:57.056425Z"
        },
        "colab": {
          "base_uri": "https://localhost:8080/"
        },
        "id": "SXdtaEpUG6AI",
        "outputId": "0394bc41-e4df-456c-cd79-0d8f0b9260bc"
      },
      "outputs": [
        {
          "data": {
            "text/plain": [
              "762"
            ]
          },
          "execution_count": 69,
          "metadata": {},
          "output_type": "execute_result"
        }
      ],
      "source": [
        "n_tickers"
      ]
    },
    {
      "cell_type": "code",
      "execution_count": 70,
      "metadata": {
        "ExecuteTime": {
          "end_time": "2021-02-25T02:19:57.769420Z",
          "start_time": "2021-02-25T02:19:57.761574Z"
        },
        "colab": {
          "base_uri": "https://localhost:8080/"
        },
        "id": "TR7cTuH2G6AJ",
        "outputId": "2004e998-4e36-41d6-b55c-22edb3feadc7"
      },
      "outputs": [
        {
          "data": {
            "text/plain": [
              "15"
            ]
          },
          "execution_count": 70,
          "metadata": {},
          "output_type": "execute_result"
        }
      ],
      "source": [
        "n_characteristics"
      ]
    },
    {
      "attachments": {},
      "cell_type": "markdown",
      "metadata": {
        "id": "e3ZahFnmG6AJ"
      },
      "source": [
        "### Input Layer"
      ]
    },
    {
      "cell_type": "code",
      "execution_count": 71,
      "metadata": {
        "ExecuteTime": {
          "end_time": "2021-02-24T18:54:54.294252Z",
          "start_time": "2021-02-24T18:54:54.279343Z"
        },
        "id": "uLCzsLNbG6AJ"
      },
      "outputs": [],
      "source": [
        "input_beta = Input((n_tickers, n_characteristics), name='input_beta')\n",
        "input_factor = Input((n_tickers,), name='input_factor')"
      ]
    },
    {
      "attachments": {},
      "cell_type": "markdown",
      "metadata": {
        "id": "hbukeRCjG6AJ"
      },
      "source": [
        "### Stock Characteristics Network"
      ]
    },
    {
      "cell_type": "code",
      "execution_count": 72,
      "metadata": {
        "ExecuteTime": {
          "end_time": "2021-02-24T18:54:55.015972Z",
          "start_time": "2021-02-24T18:54:54.295081Z"
        },
        "id": "SLDent98G6AJ"
      },
      "outputs": [],
      "source": [
        "hidden_layer = Dense(units=8, activation='relu', name='hidden_layer')(input_beta)\n",
        "batch_norm = BatchNormalization(name='batch_norm')(hidden_layer)\n",
        "output_beta = Dense(units=n_factors, name='output_beta')(batch_norm)"
      ]
    },
    {
      "attachments": {},
      "cell_type": "markdown",
      "metadata": {
        "id": "UdetRIiJG6AJ"
      },
      "source": [
        "### Factor Network"
      ]
    },
    {
      "cell_type": "code",
      "execution_count": 73,
      "metadata": {
        "ExecuteTime": {
          "end_time": "2021-02-24T18:54:55.023022Z",
          "start_time": "2021-02-24T18:54:55.016867Z"
        },
        "id": "kzvm_04QG6AJ"
      },
      "outputs": [],
      "source": [
        "output_factor = Dense(units=n_factors, name='output_factor')(input_factor)"
      ]
    },
    {
      "attachments": {},
      "cell_type": "markdown",
      "metadata": {
        "id": "RXenirpqG6AJ"
      },
      "source": [
        "### Output Layer"
      ]
    },
    {
      "cell_type": "code",
      "execution_count": 74,
      "metadata": {
        "ExecuteTime": {
          "end_time": "2021-02-24T18:54:55.030563Z",
          "start_time": "2021-02-24T18:54:55.024006Z"
        },
        "id": "0rLK9dJqG6AJ"
      },
      "outputs": [],
      "source": [
        "output = Dot(axes=(2,1), name='output_layer')([output_beta, output_factor])"
      ]
    },
    {
      "attachments": {},
      "cell_type": "markdown",
      "metadata": {
        "id": "mL5ofl37G6AJ"
      },
      "source": [
        "### Compile Layer"
      ]
    },
    {
      "cell_type": "code",
      "execution_count": 75,
      "metadata": {
        "ExecuteTime": {
          "end_time": "2021-02-24T18:54:55.044843Z",
          "start_time": "2021-02-24T18:54:55.031505Z"
        },
        "id": "m4ULKi4lG6AJ"
      },
      "outputs": [],
      "source": [
        "model = Model(inputs=[input_beta, input_factor], outputs=output)\n",
        "model.compile(loss='mse', optimizer='adam')"
      ]
    },
    {
      "attachments": {},
      "cell_type": "markdown",
      "metadata": {
        "id": "AWLzNjujG6AK"
      },
      "source": [
        "### Automate model generation"
      ]
    },
    {
      "cell_type": "code",
      "execution_count": 76,
      "metadata": {
        "ExecuteTime": {
          "end_time": "2021-02-25T02:20:24.943542Z",
          "start_time": "2021-02-25T02:20:24.940487Z"
        },
        "id": "gWc_qQt7G6AK"
      },
      "outputs": [],
      "source": [
        "def make_model(hidden_units=8, n_factors=3):\n",
        "    input_beta = Input((n_tickers, n_characteristics), name='input_beta')\n",
        "    input_factor = Input((n_tickers,), name='input_factor')\n",
        "\n",
        "    hidden_layer = Dense(units=hidden_units, activation='relu', name='hidden_layer')(input_beta)\n",
        "    batch_norm = BatchNormalization(name='batch_norm')(hidden_layer)\n",
        "    \n",
        "    output_beta = Dense(units=n_factors, name='output_beta')(batch_norm)\n",
        "\n",
        "    output_factor = Dense(units=n_factors, name='output_factor')(input_factor)\n",
        "\n",
        "    output = Dot(axes=(2,1), name='output_layer')([output_beta, output_factor])\n",
        "\n",
        "    model = Model(inputs=[input_beta, input_factor], outputs=output)\n",
        "    model.compile(loss='mse', optimizer='adam')\n",
        "    return model"
      ]
    },
    {
      "attachments": {},
      "cell_type": "markdown",
      "metadata": {
        "id": "2IPY0kmLG6AK"
      },
      "source": [
        "### Model Summary"
      ]
    },
    {
      "cell_type": "code",
      "execution_count": 77,
      "metadata": {
        "ExecuteTime": {
          "end_time": "2021-02-24T18:54:55.060992Z",
          "start_time": "2021-02-24T18:54:55.051617Z"
        },
        "colab": {
          "base_uri": "https://localhost:8080/"
        },
        "id": "r5gN4RLtG6AK",
        "outputId": "43982cf3-d348-4c97-f221-afdf495820ea"
      },
      "outputs": [
        {
          "name": "stdout",
          "output_type": "stream",
          "text": [
            "Model: \"model_1\"\n",
            "__________________________________________________________________________________________________\n",
            " Layer (type)                   Output Shape         Param #     Connected to                     \n",
            "==================================================================================================\n",
            " input_beta (InputLayer)        [(None, 762, 15)]    0           []                               \n",
            "                                                                                                  \n",
            " hidden_layer (Dense)           (None, 762, 8)       128         ['input_beta[0][0]']             \n",
            "                                                                                                  \n",
            " batch_norm (BatchNormalization  (None, 762, 8)      32          ['hidden_layer[0][0]']           \n",
            " )                                                                                                \n",
            "                                                                                                  \n",
            " input_factor (InputLayer)      [(None, 762)]        0           []                               \n",
            "                                                                                                  \n",
            " output_beta (Dense)            (None, 762, 3)       27          ['batch_norm[0][0]']             \n",
            "                                                                                                  \n",
            " output_factor (Dense)          (None, 3)            2289        ['input_factor[0][0]']           \n",
            "                                                                                                  \n",
            " output_layer (Dot)             (None, 762)          0           ['output_beta[0][0]',            \n",
            "                                                                  'output_factor[0][0]']          \n",
            "                                                                                                  \n",
            "==================================================================================================\n",
            "Total params: 2,476\n",
            "Trainable params: 2,460\n",
            "Non-trainable params: 16\n",
            "__________________________________________________________________________________________________\n"
          ]
        }
      ],
      "source": [
        "model.summary()"
      ]
    },
    {
      "attachments": {},
      "cell_type": "markdown",
      "metadata": {
        "id": "ntThvUmmHWNQ"
      },
      "source": [
        "### 모델 시각화"
      ]
    },
    {
      "cell_type": "code",
      "execution_count": 78,
      "metadata": {
        "id": "VvCMNAMMBzcX"
      },
      "outputs": [],
      "source": [
        "# model_img_file = (results_path / 'model.png' )\n",
        "# tf.keras.utils.plot_model(model, to_file=model_img_file, \n",
        "#                           show_shapes=True, \n",
        "#                           show_layer_activations=True, \n",
        "#                           show_dtype=True,\n",
        "#                           show_layer_names=True )\n",
        "\n",
        "# model.save(results_path / 'model_img.h5')"
      ]
    },
    {
      "attachments": {},
      "cell_type": "markdown",
      "metadata": {
        "id": "wFZt1G0rG6AK"
      },
      "source": [
        "## Train Model"
      ]
    },
    {
      "attachments": {},
      "cell_type": "markdown",
      "metadata": {
        "id": "b-WjCAhEG6AK"
      },
      "source": [
        "### Cross-validation parameters"
      ]
    },
    {
      "cell_type": "code",
      "execution_count": 79,
      "metadata": {
        "ExecuteTime": {
          "end_time": "2021-02-25T02:20:29.903066Z",
          "start_time": "2021-02-25T02:20:29.897417Z"
        },
        "id": "idi-meTnG6AK"
      },
      "outputs": [],
      "source": [
        "YEAR = 52"
      ]
    },
    {
      "cell_type": "code",
      "execution_count": 84,
      "metadata": {
        "ExecuteTime": {
          "end_time": "2021-02-25T02:20:30.091049Z",
          "start_time": "2021-02-25T02:20:30.086342Z"
        },
        "id": "ij2BlrbjG6AK"
      },
      "outputs": [],
      "source": [
        "cv = MultipleTimeSeriesCV(n_splits=5, # 5\n",
        "                          train_period_length=10*YEAR,\n",
        "                          test_period_length=1*YEAR,\n",
        "                          lookahead=1)"
      ]
    },
    {
      "cell_type": "code",
      "execution_count": 85,
      "metadata": {
        "ExecuteTime": {
          "end_time": "2021-02-25T02:20:30.241815Z",
          "start_time": "2021-02-25T02:20:30.232493Z"
        },
        "id": "jlnPNQA7G6AK"
      },
      "outputs": [],
      "source": [
        "def get_train_valid_data(data, train_idx, val_idx):\n",
        "    train, val = data.iloc[train_idx], data.iloc[val_idx]\n",
        "    X1_train = train.loc[:, characteristics].values.reshape(-1, n_tickers, n_characteristics)\n",
        "    X1_val = val.loc[:, characteristics].values.reshape(-1, n_tickers, n_characteristics)\n",
        "    X2_train = train.loc[:, 'returns'].unstack('ticker')\n",
        "    X2_val = val.loc[:, 'returns'].unstack('ticker')\n",
        "    y_train = train.returns_fwd.unstack('ticker')\n",
        "    y_val = val.returns_fwd.unstack('ticker')\n",
        "    return X1_train, X2_train, y_train, X1_val, X2_val, y_val"
      ]
    },
    {
      "attachments": {},
      "cell_type": "markdown",
      "metadata": {
        "id": "n4easAuxG6AK"
      },
      "source": [
        "### Hyperparameter Options"
      ]
    },
    {
      "cell_type": "code",
      "execution_count": 86,
      "metadata": {
        "ExecuteTime": {
          "end_time": "2021-02-25T02:20:33.307625Z",
          "start_time": "2021-02-25T02:20:33.301301Z"
        },
        "id": "WjIuCe-GG6AL"
      },
      "outputs": [],
      "source": [
        "factor_opts = [2, 3, 4, 5, 6] # 2, 3, 4, 5, 6\n",
        "unit_opts = [8, 16, 32] # 8, 16, 32"
      ]
    },
    {
      "cell_type": "code",
      "execution_count": 87,
      "metadata": {
        "ExecuteTime": {
          "end_time": "2021-02-25T02:20:33.390923Z",
          "start_time": "2021-02-25T02:20:33.389108Z"
        },
        "id": "01Nyhm4NG6AL"
      },
      "outputs": [],
      "source": [
        "param_grid = list(product(unit_opts, factor_opts))"
      ]
    },
    {
      "attachments": {},
      "cell_type": "markdown",
      "metadata": {
        "id": "9BxH3rJNG6AL"
      },
      "source": [
        "### Run Cross-Validation"
      ]
    },
    {
      "cell_type": "code",
      "execution_count": 88,
      "metadata": {
        "ExecuteTime": {
          "end_time": "2021-02-24T18:54:55.113516Z",
          "start_time": "2021-02-24T18:54:55.104687Z"
        },
        "id": "iO8vps_TG6AL"
      },
      "outputs": [],
      "source": [
        "batch_size = 32"
      ]
    },
    {
      "cell_type": "code",
      "execution_count": 89,
      "metadata": {
        "ExecuteTime": {
          "end_time": "2021-02-24T18:54:55.121852Z",
          "start_time": "2021-02-24T18:54:55.114344Z"
        },
        "id": "axwYRei7G6AL"
      },
      "outputs": [],
      "source": [
        "cols = ['units', 'n_factors', 'fold', 'epoch', 'ic_mean', \n",
        "        'ic_daily_mean', 'ic_daily_std', 'ic_daily_median']"
      ]
    },
    {
      "cell_type": "code",
      "execution_count": 90,
      "metadata": {
        "id": "cjYdK5ezHFP9"
      },
      "outputs": [],
      "source": [
        "import gc\n",
        "from tensorflow.keras import backend as k\n",
        "from tensorflow.keras.callbacks import Callback\n",
        "from keras.utils import Sequence\n",
        "\n",
        "# Define a custom data generator to feed data to the model\n",
        "class DataGenerator(Sequence):\n",
        "    def __init__(self, X1, X2, y, batch_size):\n",
        "        self.X1 = X1\n",
        "        self.X2 = X2\n",
        "        self.y = y\n",
        "        self.batch_size = batch_size\n",
        "\n",
        "    def __len__(self):\n",
        "        return int(np.ceil(len(self.X1) / float(self.batch_size)))\n",
        "\n",
        "    def __getitem__(self, idx):\n",
        "        batch_X1 = self.X1[idx * self.batch_size:(idx + 1) * self.batch_size]\n",
        "        batch_X2 = self.X2[idx * self.batch_size:(idx + 1) * self.batch_size]\n",
        "        batch_y = self.y[idx * self.batch_size:(idx + 1) * self.batch_size]\n",
        "        return [batch_X1, batch_X2], batch_y\n",
        "\n",
        "class ClearMemory(Callback):\n",
        "    def on_epoch_end(self, epoch, logs=None):\n",
        "        gc.collect()\n",
        "        k.clear_session()"
      ]
    },
    {
      "cell_type": "code",
      "execution_count": 91,
      "metadata": {
        "colab": {
          "base_uri": "https://localhost:8080/",
          "height": 437
        },
        "id": "rZ9lq3oWZd7e",
        "outputId": "63bd0820-0e9d-4caf-f176-6afeb0e45127"
      },
      "outputs": [
        {
          "name": "stdout",
          "output_type": "stream",
          "text": [
            "units: 8 , n_factors: 2\n",
            "00:00:02 | 2 | 08 | 00-000 | -4.05% | -4.42% | -1.47%\n",
            "00:00:27 | 2 | 08 | 00-050 | -2.38% | -3.92% | -2.41%\n",
            "00:00:52 | 2 | 08 | 00-100 | -2.23% | -3.75% | -1.28%\n",
            "00:01:18 | 2 | 08 | 00-150 | -2.61% | -3.10% | -1.47%\n",
            "00:01:43 | 2 | 08 | 00-200 | -4.43% | -1.99% |  0.08%\n",
            "00:02:13 | 2 | 08 | 01-000 |  2.36% |  2.37% |  2.07%\n",
            "00:02:43 | 2 | 08 | 01-050 | -0.41% |  0.47% |  1.27%\n",
            "00:03:14 | 2 | 08 | 01-100 | -0.43% |  0.35% |  0.28%\n",
            "00:03:42 | 2 | 08 | 01-150 | -0.44% |  1.06% |  1.12%\n",
            "00:04:10 | 2 | 08 | 01-200 | -0.31% |  1.68% |  0.06%\n",
            "00:04:39 | 2 | 08 | 02-000 | -2.53% | -3.54% | -5.19%\n",
            "00:05:07 | 2 | 08 | 02-050 | -1.39% | -1.57% | -1.27%\n",
            "00:05:35 | 2 | 08 | 02-100 | -1.68% | -1.03% | -0.70%\n",
            "00:06:02 | 2 | 08 | 02-150 | -2.18% | -0.89% | -0.04%\n",
            "00:06:29 | 2 | 08 | 02-200 | -2.61% | -0.87% |  0.40%\n",
            "00:06:57 | 2 | 08 | 03-000 | -0.82% | -2.10% | -1.72%\n",
            "00:07:24 | 2 | 08 | 03-050 | -1.14% | -0.81% |  0.25%\n",
            "00:07:52 | 2 | 08 | 03-100 | -0.62% | -0.08% |  0.06%\n",
            "00:08:19 | 2 | 08 | 03-150 | -0.38% |  0.35% |  0.61%\n",
            "00:08:47 | 2 | 08 | 03-200 | -0.31% |  0.39% |  0.68%\n",
            "00:09:16 | 2 | 08 | 04-000 | -3.17% | -0.82% | -0.68%\n",
            "00:09:43 | 2 | 08 | 04-050 |  0.11% | -0.94% | -0.42%\n",
            "00:10:12 | 2 | 08 | 04-100 |  2.15% | -0.08% | -0.31%\n",
            "00:10:41 | 2 | 08 | 04-150 |  0.45% |  0.45% |  0.08%\n",
            "00:11:09 | 2 | 08 | 04-200 | -0.57% |  0.44% |  0.11%\n",
            "units: 8 , n_factors: 3\n",
            "00:11:39 | 3 | 08 | 00-000 | -4.89% | -5.28% | -4.56%\n",
            "00:12:08 | 3 | 08 | 00-050 | -0.49% | -0.09% | -1.73%\n",
            "00:12:38 | 3 | 08 | 00-100 |  0.30% |  0.18% | -1.25%\n",
            "00:13:10 | 3 | 08 | 00-150 |  0.59% |  0.09% | -2.44%\n",
            "00:13:41 | 3 | 08 | 00-200 |  0.91% |  0.17% | -1.71%\n",
            "00:14:11 | 3 | 08 | 01-000 | -2.41% | -3.10% | -2.51%\n",
            "00:14:40 | 3 | 08 | 01-050 | -3.45% | -5.33% | -4.28%\n",
            "00:15:10 | 3 | 08 | 01-100 | -2.96% | -4.91% | -5.28%\n",
            "00:15:40 | 3 | 08 | 01-150 | -2.15% | -4.35% | -5.32%\n",
            "00:16:09 | 3 | 08 | 01-200 | -2.38% | -4.20% | -4.40%\n",
            "00:16:40 | 3 | 08 | 02-000 | -3.82% | -4.51% | -3.00%\n",
            "00:17:10 | 3 | 08 | 02-050 | -3.81% | -3.64% | -3.27%\n",
            "00:17:41 | 3 | 08 | 02-100 | -3.92% | -4.17% | -4.07%\n",
            "00:18:11 | 3 | 08 | 02-150 | -3.08% | -3.36% | -2.88%\n",
            "00:18:42 | 3 | 08 | 02-200 | -2.48% | -3.28% | -1.93%\n",
            "00:19:14 | 3 | 08 | 03-000 |  0.18% |  1.24% |  0.50%\n",
            "00:19:45 | 3 | 08 | 03-050 |  0.58% | -0.40% | -0.67%\n",
            "00:20:17 | 3 | 08 | 03-100 |  2.53% |  1.21% |  0.13%\n",
            "00:20:49 | 3 | 08 | 03-150 |  4.36% |  0.71% |  0.08%\n",
            "00:21:21 | 3 | 08 | 03-200 |  4.85% |  0.71% |  0.05%\n",
            "00:21:58 | 3 | 08 | 04-000 |  1.58% | -0.84% |  0.19%\n",
            "00:22:32 | 3 | 08 | 04-050 | -1.05% |  0.84% |  2.39%\n",
            "00:23:07 | 3 | 08 | 04-100 | -0.79% |  1.30% |  1.90%\n",
            "00:23:46 | 3 | 08 | 04-150 | -2.67% |  1.22% |  2.57%\n",
            "00:24:22 | 3 | 08 | 04-200 | -4.91% |  1.04% |  1.55%\n",
            "units: 8 , n_factors: 4\n",
            "00:24:57 | 4 | 08 | 00-000 | -2.16% | -2.87% | -1.42%\n",
            "00:25:31 | 4 | 08 | 00-050 | -1.87% | -4.13% | -3.95%\n",
            "00:26:06 | 4 | 08 | 00-100 | -1.00% | -4.06% | -4.23%\n",
            "00:26:44 | 4 | 08 | 00-150 |  0.23% | -3.44% | -3.25%\n",
            "00:27:21 | 4 | 08 | 00-200 |  0.79% | -2.83% | -0.64%\n",
            "00:28:03 | 4 | 08 | 01-000 |  2.75% |  3.59% |  1.36%\n",
            "00:28:40 | 4 | 08 | 01-050 |  0.80% |  1.19% |  1.55%\n",
            "00:29:18 | 4 | 08 | 01-100 |  0.17% | -0.16% | -0.15%\n",
            "00:29:57 | 4 | 08 | 01-150 | -0.09% | -1.24% | -1.02%\n",
            "00:30:39 | 4 | 08 | 01-200 |  0.12% | -1.50% | -0.56%\n",
            "00:31:21 | 4 | 08 | 02-000 |  1.16% | -0.33% |  1.28%\n",
            "00:32:03 | 4 | 08 | 02-050 |  0.49% |  0.47% | -1.66%\n",
            "00:32:46 | 4 | 08 | 02-100 |  0.79% |  0.42% |  1.03%\n",
            "00:33:26 | 4 | 08 | 02-150 |  0.61% |  0.60% |  0.14%\n",
            "00:34:08 | 4 | 08 | 02-200 |  0.21% |  0.82% | -1.09%\n",
            "00:34:52 | 4 | 08 | 03-000 |  0.42% |  1.10% |  0.82%\n",
            "00:35:30 | 4 | 08 | 03-050 |  2.64% |  3.63% |  2.81%\n",
            "00:36:09 | 4 | 08 | 03-100 |  1.23% |  3.44% |  2.49%\n",
            "00:36:52 | 4 | 08 | 03-150 | -0.38% |  2.37% |  2.80%\n",
            "00:37:40 | 4 | 08 | 03-200 | -1.32% |  1.68% |  2.59%\n",
            "00:38:30 | 4 | 08 | 04-000 | -0.22% | -0.78% | -0.73%\n",
            "00:39:09 | 4 | 08 | 04-050 |  3.07% | -0.57% |  0.13%\n",
            "00:39:50 | 4 | 08 | 04-100 |  2.38% |  0.04% | -0.78%\n",
            "00:40:35 | 4 | 08 | 04-150 |  3.67% |  0.64% |  0.22%\n",
            "00:41:17 | 4 | 08 | 04-200 |  5.59% |  1.05% |  1.64%\n",
            "units: 8 , n_factors: 5\n",
            "00:42:02 | 5 | 08 | 00-000 | -1.93% | -0.10% | -1.60%\n",
            "00:42:47 | 5 | 08 | 00-050 |  0.28% | -0.39% |  1.31%\n",
            "00:43:33 | 5 | 08 | 00-100 | -0.12% |  0.01% |  1.60%\n",
            "00:44:27 | 5 | 08 | 00-150 | -1.96% | -0.33% |  1.24%\n",
            "00:45:14 | 5 | 08 | 00-200 | -1.63% | -0.07% |  0.25%\n",
            "00:46:00 | 5 | 08 | 01-000 | -0.30% |  1.04% |  0.53%\n",
            "00:46:52 | 5 | 08 | 01-050 | -1.30% | -0.48% |  0.55%\n",
            "00:47:45 | 5 | 08 | 01-100 | -1.60% | -0.28% |  1.28%\n",
            "00:48:32 | 5 | 08 | 01-150 | -0.99% | -0.55% | -0.22%\n",
            "00:49:26 | 5 | 08 | 01-200 | -0.72% | -0.93% | -0.36%\n",
            "00:50:14 | 5 | 08 | 02-000 |  2.56% |  0.71% |  1.97%\n",
            "00:51:13 | 5 | 08 | 02-050 | -1.98% | -1.10% | -1.87%\n",
            "00:52:13 | 5 | 08 | 02-100 | -2.63% | -1.92% | -2.52%\n",
            "00:53:01 | 5 | 08 | 02-150 | -2.25% | -0.72% | -0.58%\n",
            "00:53:55 | 5 | 08 | 02-200 | -2.35% | -0.81% | -1.07%\n",
            "00:54:48 | 5 | 08 | 03-000 |  0.44% | -1.26% | -0.44%\n",
            "00:55:45 | 5 | 08 | 03-050 |  0.15% | -0.74% | -0.71%\n",
            "00:56:50 | 5 | 08 | 03-100 | -1.51% | -2.31% | -3.27%\n",
            "00:57:58 | 5 | 08 | 03-150 | -1.59% | -1.78% | -2.38%\n",
            "00:59:05 | 5 | 08 | 03-200 | -1.63% | -1.82% | -2.67%\n",
            "01:00:09 | 5 | 08 | 04-000 |  0.78% |  2.39% |  1.56%\n",
            "01:01:07 | 5 | 08 | 04-050 | -3.83% | -2.04% | -2.16%\n",
            "01:02:09 | 5 | 08 | 04-100 | -2.89% | -2.33% | -2.52%\n",
            "01:03:08 | 5 | 08 | 04-150 | -1.79% | -2.94% | -1.88%\n",
            "01:04:27 | 5 | 08 | 04-200 | -0.95% | -2.78% | -2.41%\n",
            "units: 8 , n_factors: 6\n",
            "01:05:44 | 6 | 08 | 00-000 |  4.46% |  5.18% |  5.96%\n",
            "01:07:03 | 6 | 08 | 00-050 |  0.30% |  0.03% |  0.47%\n",
            "01:08:19 | 6 | 08 | 00-100 | -1.32% | -1.13% | -0.34%\n",
            "01:09:38 | 6 | 08 | 00-150 | -1.78% | -1.19% | -0.47%\n",
            "01:10:57 | 6 | 08 | 00-200 | -1.44% | -0.46% | -1.80%\n",
            "01:12:19 | 6 | 08 | 01-000 |  2.15% |  0.95% |  0.40%\n",
            "01:13:40 | 6 | 08 | 01-050 |  0.77% |  0.42% |  0.84%\n",
            "01:15:06 | 6 | 08 | 01-100 |  1.32% |  1.39% |  1.15%\n",
            "01:16:46 | 6 | 08 | 01-150 |  1.05% |  1.43% |  1.02%\n",
            "01:18:07 | 6 | 08 | 01-200 |  1.21% |  1.59% |  1.73%\n",
            "01:19:26 | 6 | 08 | 02-000 | -0.46% | -0.18% |  0.30%\n",
            "01:20:46 | 6 | 08 | 02-050 |  1.92% | -0.47% | -2.02%\n",
            "01:22:08 | 6 | 08 | 02-100 |  1.21% | -1.30% | -1.88%\n",
            "01:23:24 | 6 | 08 | 02-150 |  0.66% |  1.14% |  2.05%\n",
            "01:24:42 | 6 | 08 | 02-200 |  0.97% |  0.56% |  0.89%\n",
            "01:25:59 | 6 | 08 | 03-000 | -2.90% | -3.19% | -4.26%\n",
            "01:27:14 | 6 | 08 | 03-050 | -0.18% | -2.08% | -2.81%\n",
            "01:28:21 | 6 | 08 | 03-100 |  1.27% | -0.90% | -0.62%\n",
            "01:29:29 | 6 | 08 | 03-150 |  2.54% | -0.22% | -0.06%\n",
            "01:30:38 | 6 | 08 | 03-200 |  3.42% |  0.41% |  1.01%\n",
            "01:31:51 | 6 | 08 | 04-000 | -4.24% | -0.16% |  1.54%\n",
            "01:33:02 | 6 | 08 | 04-050 |  0.96% | -0.23% |  0.43%\n",
            "01:34:14 | 6 | 08 | 04-100 |  1.26% | -0.81% | -1.74%\n",
            "01:35:25 | 6 | 08 | 04-150 |  1.37% | -0.93% | -0.93%\n",
            "01:36:37 | 6 | 08 | 04-200 |  1.23% | -1.16% | -2.02%\n",
            "units: 16 , n_factors: 2\n",
            "01:37:49 | 2 | 16 | 00-000 | -4.24% | -1.69% | -1.96%\n",
            "01:38:55 | 2 | 16 | 00-050 | -1.33% | -1.14% | -0.99%\n",
            "01:40:02 | 2 | 16 | 00-100 | -1.04% | -0.51% | -0.23%\n",
            "01:41:10 | 2 | 16 | 00-150 | -3.36% | -0.82% | -1.46%\n",
            "01:42:27 | 2 | 16 | 00-200 | -5.65% | -0.86% | -0.27%\n",
            "01:43:36 | 2 | 16 | 01-000 | -0.68% |  0.21% | -0.15%\n",
            "01:44:45 | 2 | 16 | 01-050 | -0.50% |  0.57% |  1.08%\n",
            "01:45:58 | 2 | 16 | 01-100 | -0.88% | -0.02% | -1.11%\n",
            "01:47:08 | 2 | 16 | 01-150 | -0.89% | -0.26% | -0.83%\n",
            "01:48:17 | 2 | 16 | 01-200 | -1.47% | -0.08% |  0.09%\n",
            "01:49:28 | 2 | 16 | 02-000 |  0.13% |  0.33% |  0.67%\n",
            "01:50:39 | 2 | 16 | 02-050 | -0.05% | -0.19% |  0.27%\n",
            "01:51:52 | 2 | 16 | 02-100 | -0.47% |  0.87% | -0.01%\n",
            "01:53:04 | 2 | 16 | 02-150 | -0.17% |  0.24% | -0.32%\n",
            "01:54:19 | 2 | 16 | 02-200 |  0.44% |  0.31% |  0.51%\n",
            "01:55:34 | 2 | 16 | 03-000 | -3.04% | -1.52% | -2.02%\n",
            "01:56:49 | 2 | 16 | 03-050 | -0.01% |  0.06% |  0.36%\n",
            "01:58:05 | 2 | 16 | 03-100 | -3.40% |  0.18% | -0.38%\n",
            "01:59:22 | 2 | 16 | 03-150 | -5.38% |  0.10% |  0.16%\n",
            "02:00:41 | 2 | 16 | 03-200 | -5.58% | -0.72% |  0.18%\n",
            "02:02:14 | 2 | 16 | 04-000 |  1.32% |  0.41% | -0.81%\n",
            "02:03:45 | 2 | 16 | 04-050 | -1.22% |  1.50% |  0.84%\n",
            "02:05:15 | 2 | 16 | 04-100 | -2.58% |  1.05% | -0.41%\n",
            "02:06:44 | 2 | 16 | 04-150 | -3.88% |  0.78% | -0.63%\n",
            "02:08:21 | 2 | 16 | 04-200 | -4.85% |  0.80% |  0.50%\n",
            "units: 16 , n_factors: 3\n",
            "02:10:04 | 3 | 16 | 00-000 |  1.36% |  1.11% |  1.82%\n",
            "02:11:48 | 3 | 16 | 00-050 | -4.38% | -1.62% | -2.03%\n",
            "02:13:24 | 3 | 16 | 00-100 | -4.63% | -1.63% | -2.58%\n",
            "02:15:02 | 3 | 16 | 00-150 | -4.70% | -1.54% | -2.09%\n",
            "02:16:37 | 3 | 16 | 00-200 | -4.80% | -2.01% | -2.41%\n",
            "02:18:31 | 3 | 16 | 01-000 |  1.96% |  1.28% |  1.17%\n",
            "02:20:19 | 3 | 16 | 01-050 | -1.66% | -0.42% |  0.14%\n",
            "02:22:10 | 3 | 16 | 01-100 | -2.99% | -0.68% | -1.28%\n",
            "02:24:00 | 3 | 16 | 01-150 | -2.92% | -1.21% | -1.46%\n",
            "02:25:43 | 3 | 16 | 01-200 | -2.07% | -0.48% | -0.98%\n",
            "02:27:27 | 3 | 16 | 02-000 |  1.64% |  1.14% | -1.08%\n",
            "02:29:13 | 3 | 16 | 02-050 |  0.07% | -0.60% |  0.52%\n",
            "02:31:03 | 3 | 16 | 02-100 |  1.76% | -0.23% | -1.49%\n",
            "02:32:54 | 3 | 16 | 02-150 |  2.47% |  0.08% | -0.43%\n",
            "02:34:38 | 3 | 16 | 02-200 |  2.10% | -0.18% |  0.54%\n",
            "02:36:23 | 3 | 16 | 03-000 | -2.45% | -3.11% | -2.03%\n",
            "02:38:10 | 3 | 16 | 03-050 | -1.82% | -2.21% | -1.23%\n",
            "02:39:57 | 3 | 16 | 03-100 | -4.06% | -2.82% | -3.12%\n",
            "02:41:42 | 3 | 16 | 03-150 | -6.09% | -2.74% | -2.92%\n",
            "02:43:30 | 3 | 16 | 03-200 | -7.14% | -1.92% | -1.65%\n",
            "02:45:17 | 3 | 16 | 04-000 | -2.27% | -2.12% | -1.74%\n",
            "02:47:05 | 3 | 16 | 04-050 | -0.39% | -1.56% | -2.28%\n",
            "02:48:51 | 3 | 16 | 04-100 | -1.01% | -1.48% | -1.83%\n",
            "02:50:38 | 3 | 16 | 04-150 | -1.76% | -1.12% | -1.49%\n",
            "02:52:29 | 3 | 16 | 04-200 | -2.76% | -1.35% | -1.47%\n",
            "units: 16 , n_factors: 4\n",
            "02:54:18 | 4 | 16 | 00-000 | -3.86% | -1.51% | -1.53%\n",
            "02:56:07 | 4 | 16 | 00-050 |  1.93% |  0.46% |  0.57%\n",
            "02:57:58 | 4 | 16 | 00-100 |  4.29% |  1.47% |  1.54%\n",
            "02:59:50 | 4 | 16 | 00-150 |  5.64% |  2.43% |  3.20%\n",
            "03:01:41 | 4 | 16 | 00-200 |  6.59% |  2.19% |  4.25%\n",
            "03:03:35 | 4 | 16 | 01-000 | -0.94% | -2.44% | -4.97%\n",
            "03:05:32 | 4 | 16 | 01-050 | -3.44% | -3.09% | -4.82%\n",
            "03:07:28 | 4 | 16 | 01-100 | -3.25% | -2.49% | -3.85%\n",
            "03:09:22 | 4 | 16 | 01-150 | -3.08% | -1.91% | -2.06%\n",
            "03:11:17 | 4 | 16 | 01-200 | -2.27% | -1.30% | -1.18%\n",
            "03:13:14 | 4 | 16 | 02-000 | -0.01% | -0.93% | -0.10%\n",
            "03:15:20 | 4 | 16 | 02-050 |  0.25% |  0.29% | -0.11%\n",
            "03:17:34 | 4 | 16 | 02-100 | -0.62% | -0.68% | -0.90%\n",
            "03:19:53 | 4 | 16 | 02-150 | -0.54% | -0.46% | -0.33%\n",
            "03:22:02 | 4 | 16 | 02-200 |  0.05% |  0.14% |  0.23%\n",
            "03:24:16 | 4 | 16 | 03-000 |  1.13% |  0.37% | -0.16%\n",
            "03:26:37 | 4 | 16 | 03-050 |  3.08% |  0.93% | -1.38%\n",
            "03:29:10 | 4 | 16 | 03-100 |  2.11% |  1.07% |  1.03%\n",
            "03:31:34 | 4 | 16 | 03-150 |  1.24% |  2.01% |  1.83%\n",
            "03:33:53 | 4 | 16 | 03-200 |  0.08% |  2.02% |  1.85%\n",
            "03:36:14 | 4 | 16 | 04-000 |  0.27% |  2.12% |  3.37%\n",
            "03:38:39 | 4 | 16 | 04-050 | -0.40% |  0.04% | -0.02%\n",
            "03:40:59 | 4 | 16 | 04-100 | -0.09% | -0.32% | -1.56%\n",
            "03:43:20 | 4 | 16 | 04-150 | -0.27% | -0.87% | -1.76%\n",
            "03:45:41 | 4 | 16 | 04-200 |  1.11% | -0.85% | -1.90%\n",
            "units: 16 , n_factors: 5\n",
            "03:48:06 | 5 | 16 | 00-000 | -4.07% | -1.76% | -1.74%\n",
            "03:50:30 | 5 | 16 | 00-050 | -4.46% | -5.17% | -6.08%\n",
            "03:52:53 | 5 | 16 | 00-100 | -4.59% | -5.35% | -6.15%\n",
            "03:55:20 | 5 | 16 | 00-150 | -3.96% | -4.56% | -5.10%\n",
            "03:57:47 | 5 | 16 | 00-200 | -3.67% | -3.85% | -4.47%\n",
            "04:00:14 | 5 | 16 | 01-000 | -0.49% |  1.02% | -1.15%\n",
            "04:02:37 | 5 | 16 | 01-050 |  1.20% |  0.18% |  0.14%\n",
            "04:05:03 | 5 | 16 | 01-100 |  1.11% |  0.05% |  0.65%\n",
            "04:07:35 | 5 | 16 | 01-150 |  1.14% |  0.01% |  0.35%\n",
            "04:10:08 | 5 | 16 | 01-200 |  2.04% |  0.18% | -0.37%\n",
            "04:12:44 | 5 | 16 | 02-000 | -0.63% |  0.15% | -0.57%\n",
            "04:15:17 | 5 | 16 | 02-050 |  1.29% |  1.12% |  2.12%\n",
            "04:17:50 | 5 | 16 | 02-100 |  1.53% |  1.43% |  1.31%\n",
            "04:20:22 | 5 | 16 | 02-150 |  1.62% |  1.16% |  0.60%\n",
            "04:22:59 | 5 | 16 | 02-200 |  2.09% |  1.41% |  1.67%\n",
            "04:25:37 | 5 | 16 | 03-000 |  1.58% |  2.40% |  1.48%\n",
            "04:28:18 | 5 | 16 | 03-050 |  1.79% |  1.86% |  2.32%\n",
            "04:30:56 | 5 | 16 | 03-100 |  1.07% |  1.23% |  0.55%\n",
            "04:33:33 | 5 | 16 | 03-150 |  1.14% |  1.68% |  1.06%\n",
            "04:36:13 | 5 | 16 | 03-200 |  1.03% |  1.82% |  2.81%\n",
            "04:38:54 | 5 | 16 | 04-000 |  0.80% |  2.23% |  3.13%\n",
            "04:41:30 | 5 | 16 | 04-050 | -3.70% | -1.98% | -1.45%\n",
            "04:44:08 | 5 | 16 | 04-100 | -2.18% | -0.95% | -0.29%\n",
            "04:46:52 | 5 | 16 | 04-150 | -3.89% | -0.36% |  0.38%\n",
            "04:49:33 | 5 | 16 | 04-200 | -4.81% |  0.12% |  0.27%\n",
            "units: 16 , n_factors: 6\n",
            "04:52:20 | 6 | 16 | 00-000 |  0.21% | -0.88% |  0.97%\n",
            "04:55:04 | 6 | 16 | 00-050 |  0.62% |  1.54% |  3.05%\n",
            "04:57:49 | 6 | 16 | 00-100 |  0.45% |  2.00% |  2.46%\n",
            "05:00:33 | 6 | 16 | 00-150 | -2.35% |  1.05% |  1.19%\n",
            "05:03:16 | 6 | 16 | 00-200 | -4.23% |  0.54% |  1.30%\n",
            "05:05:58 | 6 | 16 | 01-000 | -3.04% | -1.33% | -1.92%\n",
            "05:08:48 | 6 | 16 | 01-050 | -0.77% | -0.99% | -1.85%\n",
            "05:11:35 | 6 | 16 | 01-100 | -0.39% |  0.18% | -0.71%\n",
            "05:14:26 | 6 | 16 | 01-150 | -0.30% |  0.53% |  0.16%\n",
            "05:17:16 | 6 | 16 | 01-200 |  0.26% |  1.01% |  1.06%\n",
            "05:20:03 | 6 | 16 | 02-000 | -3.14% | -3.17% | -3.73%\n",
            "05:22:53 | 6 | 16 | 02-050 | -0.52% | -0.54% |  0.02%\n",
            "05:25:44 | 6 | 16 | 02-100 | -0.30% | -1.86% | -0.53%\n",
            "05:28:35 | 6 | 16 | 02-150 | -0.24% | -2.22% | -2.00%\n",
            "05:31:29 | 6 | 16 | 02-200 | -0.38% | -1.89% | -2.16%\n",
            "05:34:22 | 6 | 16 | 03-000 |  0.68% | -0.98% |  0.02%\n",
            "05:37:21 | 6 | 16 | 03-050 |  0.05% | -0.76% | -0.17%\n",
            "05:40:32 | 6 | 16 | 03-100 | -0.40% | -0.22% | -0.35%\n",
            "05:43:38 | 6 | 16 | 03-150 |  1.17% |  1.14% |  1.54%\n",
            "05:46:43 | 6 | 16 | 03-200 |  0.77% |  0.72% |  1.22%\n",
            "05:49:50 | 6 | 16 | 04-000 | -4.08% |  1.06% |  1.35%\n",
            "05:53:01 | 6 | 16 | 04-050 |  1.41% | -4.48% | -5.76%\n",
            "05:56:11 | 6 | 16 | 04-100 |  1.85% | -3.61% | -4.10%\n",
            "05:59:15 | 6 | 16 | 04-150 |  1.32% | -2.92% | -3.79%\n",
            "06:02:30 | 6 | 16 | 04-200 | -0.09% | -2.69% | -3.52%\n",
            "units: 32 , n_factors: 2\n",
            "06:05:49 | 2 | 32 | 00-000 |  2.02% |  1.01% |  0.54%\n",
            "06:09:11 | 2 | 32 | 00-050 |  3.00% |  1.07% |  0.91%\n",
            "06:12:32 | 2 | 32 | 00-100 |  3.88% |  0.97% |  0.95%\n",
            "06:15:52 | 2 | 32 | 00-150 |  4.47% |  1.57% |  1.57%\n",
            "06:19:09 | 2 | 32 | 00-200 |  4.64% |  0.35% |  1.42%\n",
            "06:22:30 | 2 | 32 | 01-000 |  0.47% |  0.66% | -0.68%\n",
            "06:25:54 | 2 | 32 | 01-050 |  0.49% |  1.03% |  0.06%\n",
            "06:29:22 | 2 | 32 | 01-100 | -0.18% |  1.20% |  0.59%\n",
            "06:32:45 | 2 | 32 | 01-150 | -1.34% |  1.34% |  1.17%\n",
            "06:36:08 | 2 | 32 | 01-200 | -2.75% |  0.89% |  0.47%\n",
            "06:39:32 | 2 | 32 | 02-000 | -2.27% | -2.00% | -0.97%\n",
            "06:42:58 | 2 | 32 | 02-050 |  0.76% |  1.17% |  1.64%\n",
            "06:46:21 | 2 | 32 | 02-100 |  2.74% |  1.32% |  1.00%\n",
            "06:49:49 | 2 | 32 | 02-150 |  2.44% |  0.97% |  0.95%\n",
            "06:53:12 | 2 | 32 | 02-200 |  1.66% |  0.50% |  0.33%\n",
            "06:56:39 | 2 | 32 | 03-000 | -0.68% | -1.64% | -1.69%\n",
            "07:00:05 | 2 | 32 | 03-050 |  0.42% |  0.50% |  0.61%\n",
            "07:03:32 | 2 | 32 | 03-100 |  0.73% |  1.80% |  1.75%\n",
            "07:07:04 | 2 | 32 | 03-150 | -3.20% |  1.20% |  1.40%\n",
            "07:10:29 | 2 | 32 | 03-200 | -4.42% | -0.06% | -0.28%\n",
            "07:14:01 | 2 | 32 | 04-000 | -4.97% | -1.19% | -2.19%\n",
            "07:17:33 | 2 | 32 | 04-050 |  2.24% |  0.68% | -0.21%\n",
            "07:21:09 | 2 | 32 | 04-100 |  7.26% |  0.97% |  0.82%\n",
            "07:24:43 | 2 | 32 | 04-150 |  8.32% |  0.95% |  0.74%\n",
            "07:28:26 | 2 | 32 | 04-200 |  7.38% |  0.10% | -0.62%\n",
            "units: 32 , n_factors: 3\n",
            "07:32:12 | 3 | 32 | 00-000 | -1.54% |  0.01% | -2.39%\n",
            "07:35:57 | 3 | 32 | 00-050 | -0.69% |  0.64% | -0.42%\n",
            "07:39:47 | 3 | 32 | 00-100 | -0.36% |  1.35% |  1.30%\n",
            "07:43:34 | 3 | 32 | 00-150 | -0.20% |  1.12% |  1.70%\n",
            "07:47:23 | 3 | 32 | 00-200 |  0.10% |  0.91% |  2.28%\n",
            "07:51:13 | 3 | 32 | 01-000 |  1.07% |  2.13% |  2.08%\n",
            "07:55:06 | 3 | 32 | 01-050 |  0.18% |  0.70% |  1.17%\n",
            "07:58:58 | 3 | 32 | 01-100 | -1.66% | -0.35% | -0.38%\n",
            "08:02:48 | 3 | 32 | 01-150 | -2.10% |  0.22% | -0.28%\n",
            "08:06:41 | 3 | 32 | 01-200 | -2.96% | -0.29% |  0.45%\n",
            "08:10:35 | 3 | 32 | 02-000 | -1.99% |  0.29% |  0.34%\n",
            "08:14:35 | 3 | 32 | 02-050 |  2.49% |  0.30% | -0.13%\n",
            "08:18:35 | 3 | 32 | 02-100 |  2.91% | -0.21% | -0.46%\n",
            "08:22:35 | 3 | 32 | 02-150 |  2.80% | -0.47% | -0.54%\n",
            "08:26:34 | 3 | 32 | 02-200 |  2.34% | -0.71% | -0.46%\n",
            "08:30:29 | 3 | 32 | 03-000 | -3.42% | -3.62% | -4.59%\n",
            "08:34:19 | 3 | 32 | 03-050 |  0.95% |  1.08% |  1.03%\n",
            "08:38:15 | 3 | 32 | 03-100 | -0.14% |  1.23% |  1.69%\n",
            "08:42:24 | 3 | 32 | 03-150 |  0.28% |  2.22% |  2.87%\n",
            "08:46:43 | 3 | 32 | 03-200 |  0.10% |  2.07% |  2.61%\n",
            "08:51:01 | 3 | 32 | 04-000 | -2.92% |  3.29% |  3.14%\n",
            "08:55:17 | 3 | 32 | 04-050 | -0.37% |  0.73% |  0.12%\n",
            "08:59:38 | 3 | 32 | 04-100 |  0.63% |  0.95% |  1.47%\n",
            "09:03:50 | 3 | 32 | 04-150 |  2.45% |  0.40% | -0.74%\n",
            "09:08:09 | 3 | 32 | 04-200 | -3.09% | -0.11% | -1.49%\n",
            "units: 32 , n_factors: 4\n",
            "09:12:28 | 4 | 32 | 00-000 |  2.71% |  2.59% |  2.83%\n",
            "09:16:47 | 4 | 32 | 00-050 |  0.77% |  1.45% |  1.56%\n",
            "09:21:10 | 4 | 32 | 00-100 |  2.04% |  1.50% |  2.35%\n",
            "09:25:24 | 4 | 32 | 00-150 |  0.64% | -0.48% | -0.61%\n",
            "09:29:47 | 4 | 32 | 00-200 |  0.22% |  0.42% |  1.49%\n",
            "09:34:06 | 4 | 32 | 01-000 |  3.46% |  1.45% |  1.17%\n",
            "09:38:25 | 4 | 32 | 01-050 |  2.70% |  1.83% |  2.75%\n",
            "09:42:15 | 4 | 32 | 01-100 |  2.84% |  1.03% | -0.13%\n",
            "09:46:10 | 4 | 32 | 01-150 |  3.64% |  0.88% |  0.19%\n",
            "09:50:06 | 4 | 32 | 01-200 |  3.87% |  0.87% |  0.28%\n",
            "09:54:11 | 4 | 32 | 02-000 | -1.17% | -1.32% |  0.92%\n",
            "09:58:08 | 4 | 32 | 02-050 | -0.14% | -0.99% | -1.71%\n",
            "10:02:05 | 4 | 32 | 02-100 |  1.22% | -0.90% | -0.65%\n",
            "10:05:55 | 4 | 32 | 02-150 |  1.23% | -0.86% |  0.17%\n",
            "10:09:49 | 4 | 32 | 02-200 |  1.87% | -0.16% |  0.75%\n",
            "10:13:50 | 4 | 32 | 03-000 |  0.86% |  0.28% | -0.04%\n",
            "10:17:43 | 4 | 32 | 03-050 | -1.74% | -0.42% | -0.51%\n",
            "10:21:48 | 4 | 32 | 03-100 | -2.31% |  0.17% | -0.69%\n",
            "10:25:56 | 4 | 32 | 03-150 | -2.11% |  0.68% |  0.39%\n",
            "10:29:58 | 4 | 32 | 03-200 | -2.05% |  1.00% |  1.80%\n",
            "10:34:08 | 4 | 32 | 04-000 | -4.00% |  1.51% |  0.18%\n",
            "10:38:16 | 4 | 32 | 04-050 | -3.29% | -1.56% | -1.43%\n",
            "10:42:22 | 4 | 32 | 04-100 | -7.27% | -0.19% |  0.18%\n",
            "10:46:28 | 4 | 32 | 04-150 | -5.63% |  0.62% | -0.27%\n",
            "10:50:39 | 4 | 32 | 04-200 | -6.54% |  1.35% |  1.30%\n",
            "units: 32 , n_factors: 5\n",
            "10:54:60 | 5 | 32 | 00-000 | -0.78% | -1.03% | -0.81%\n",
            "10:59:08 | 5 | 32 | 00-050 |  2.51% |  2.79% |  3.23%\n",
            "11:03:23 | 5 | 32 | 00-100 |  1.83% |  3.64% |  4.91%\n",
            "11:07:43 | 5 | 32 | 00-150 |  0.73% |  3.94% |  4.04%\n",
            "11:11:54 | 5 | 32 | 00-200 | -0.29% |  3.35% |  3.13%\n",
            "11:16:09 | 5 | 32 | 01-000 |  2.81% |  3.74% |  5.57%\n",
            "11:20:50 | 5 | 32 | 01-050 | -1.28% | -2.34% | -2.49%\n",
            "11:25:16 | 5 | 32 | 01-100 | -1.47% | -2.07% | -3.21%\n",
            "11:29:31 | 5 | 32 | 01-150 | -1.59% | -1.53% | -4.42%\n",
            "11:33:43 | 5 | 32 | 01-200 | -2.10% | -1.61% | -4.54%\n",
            "11:37:55 | 5 | 32 | 02-000 | -2.94% | -0.94% | -1.49%\n",
            "11:42:06 | 5 | 32 | 02-050 | -0.78% | -1.21% | -1.24%\n",
            "11:46:28 | 5 | 32 | 02-100 | -0.01% | -0.75% | -0.30%\n",
            "11:50:53 | 5 | 32 | 02-150 |  0.20% | -0.67% |  0.04%\n",
            "11:55:11 | 5 | 32 | 02-200 |  0.97% | -0.35% |  0.23%\n",
            "11:59:28 | 5 | 32 | 03-000 |  0.69% | -1.16% |  0.56%\n",
            "12:03:40 | 5 | 32 | 03-050 | -0.19% | -0.36% | -0.59%\n",
            "12:07:57 | 5 | 32 | 03-100 |  1.65% |  0.49% |  0.40%\n",
            "12:12:16 | 5 | 32 | 03-150 |  3.03% |  1.00% |  1.19%\n",
            "12:16:34 | 5 | 32 | 03-200 |  4.08% |  0.95% |  0.08%\n",
            "12:20:52 | 5 | 32 | 04-000 |  0.66% | -3.32% | -0.78%\n",
            "12:25:12 | 5 | 32 | 04-050 |  2.89% | -1.27% | -0.94%\n",
            "12:29:39 | 5 | 32 | 04-100 |  2.16% | -1.83% | -3.07%\n",
            "12:34:02 | 5 | 32 | 04-150 |  3.35% | -1.55% | -1.54%\n",
            "12:38:24 | 5 | 32 | 04-200 |  3.81% | -1.88% | -1.98%\n",
            "units: 32 , n_factors: 6\n",
            "12:42:50 | 6 | 32 | 00-000 |  0.14% |  3.01% |  2.09%\n",
            "12:47:17 | 6 | 32 | 00-050 |  1.05% | -1.01% | -2.35%\n",
            "12:51:50 | 6 | 32 | 00-100 |  3.60% | -1.61% | -3.54%\n",
            "12:56:24 | 6 | 32 | 00-150 |  1.40% | -2.13% | -2.24%\n",
            "13:00:54 | 6 | 32 | 00-200 |  1.93% | -2.05% | -2.68%\n",
            "13:05:31 | 6 | 32 | 01-000 | -1.61% | -0.71% | -0.58%\n",
            "13:10:18 | 6 | 32 | 01-050 | -0.25% |  0.16% | -0.37%\n",
            "13:14:49 | 6 | 32 | 01-100 |  0.27% |  1.26% | -0.03%\n",
            "13:19:31 | 6 | 32 | 01-150 |  0.76% |  1.20% |  1.59%\n",
            "13:24:11 | 6 | 32 | 01-200 |  0.82% |  0.36% |  0.73%\n",
            "13:28:53 | 6 | 32 | 02-000 |  3.81% |  1.16% |  0.18%\n",
            "13:33:27 | 6 | 32 | 02-050 |  0.12% | -0.77% | -1.02%\n",
            "13:38:06 | 6 | 32 | 02-100 | -0.57% | -1.80% | -2.86%\n",
            "13:42:48 | 6 | 32 | 02-150 |  0.02% | -1.95% | -3.05%\n",
            "13:47:25 | 6 | 32 | 02-200 |  0.22% | -1.58% | -1.91%\n",
            "13:52:09 | 6 | 32 | 03-000 |  0.23% | -0.66% |  0.32%\n",
            "13:56:55 | 6 | 32 | 03-050 |  3.85% |  3.84% |  3.52%\n",
            "14:01:35 | 6 | 32 | 03-100 |  3.69% |  3.85% |  4.35%\n",
            "14:06:11 | 6 | 32 | 03-150 |  3.01% |  3.34% |  5.17%\n",
            "14:11:01 | 6 | 32 | 03-200 |  2.13% |  2.76% |  3.75%\n",
            "14:15:52 | 6 | 32 | 04-000 | -2.43% | -1.13% |  0.14%\n",
            "14:20:37 | 6 | 32 | 04-050 |  0.18% | -0.52% |  0.34%\n",
            "14:25:30 | 6 | 32 | 04-100 |  0.68% | -0.43% |  0.06%\n",
            "14:30:20 | 6 | 32 | 04-150 |  2.65% | -0.26% | -0.29%\n",
            "14:35:07 | 6 | 32 | 04-200 |  3.48% |  0.50% |  0.22%\n"
          ]
        }
      ],
      "source": [
        "start = time()\n",
        "for units, n_factors in param_grid:\n",
        "    print(\"units:\", units, \", n_factors:\", n_factors)\n",
        "    scores = []\n",
        "    for fold, (train_idx, val_idx) in enumerate(cv.split(data)):\n",
        "        X1_train, X2_train, y_train, X1_val, X2_val, y_val = get_train_valid_data(data,\n",
        "                                                                                  train_idx,\n",
        "                                                                                  val_idx)\n",
        "        train_gen = DataGenerator(X1_train, X2_train, y_train, batch_size=batch_size)\n",
        "        val_gen = DataGenerator(X1_val, X2_val, y_val, batch_size=batch_size)\n",
        "        model = make_model(hidden_units=units, n_factors=n_factors)\n",
        "        for epoch in range(250):\n",
        "            model.fit_generator(train_gen,\n",
        "                                validation_data=val_gen,\n",
        "                                epochs=epoch + 1,\n",
        "                                initial_epoch=epoch, verbose=False, shuffle=True, callbacks=ClearMemory())\n",
        "            y_pred = model.predict_generator(val_gen, callbacks=ClearMemory())\n",
        "            y_true = y_val.stack().values\n",
        "            date_index = y_val.stack().index\n",
        "            result = (pd.DataFrame({'y_pred': y_pred.reshape(-1),\n",
        "                                    'y_true': y_true},\n",
        "                                   index=date_index)\n",
        "                      .replace(-2, np.nan).dropna())\n",
        "            r0 = spearmanr(result.y_true, result.y_pred)[0]\n",
        "            r1 = result.groupby(level='date').apply(lambda x: spearmanr(x.y_pred,\n",
        "                                                                        x.y_true)[0])\n",
        "\n",
        "            scores.append([units, n_factors, fold, epoch, r0,\n",
        "                           r1.mean(), r1.std(), r1.median()])\n",
        "            if epoch % 50 == 0:\n",
        "                print(f'{format_time(time()-start)} | {n_factors} | {units:02} | {fold:02}-{epoch:03} | {r0:6.2%} | '\n",
        "                  f'{r1.mean():6.2%} | {r1.median():6.2%}')\n",
        "            \n",
        "        scores = pd.DataFrame(scores, columns=cols)\n",
        "        scores.to_hdf(results_path / 'scores.h5', f'{units}/{n_factors}')"
      ]
    },
    {
      "attachments": {},
      "cell_type": "markdown",
      "metadata": {
        "id": "dIM2p89BG6AL"
      },
      "source": [
        "### Evaluate Results"
      ]
    },
    {
      "cell_type": "code",
      "execution_count": 92,
      "metadata": {
        "ExecuteTime": {
          "end_time": "2021-02-25T01:24:37.645031Z",
          "start_time": "2021-02-25T01:24:37.472670Z"
        },
        "colab": {
          "base_uri": "https://localhost:8080/"
        },
        "id": "O8W-ZRhJG6AL",
        "outputId": "a9441050-db1e-4938-aac9-f4a88aa56ae6"
      },
      "outputs": [
        {
          "name": "stdout",
          "output_type": "stream",
          "text": [
            "[     units  n_factors  fold  epoch   ic_mean  ic_daily_mean  ic_daily_std  \\\n",
            "0        8          2     0      0 -0.040467      -0.044185      0.157133   \n",
            "1        8          2     0      1 -0.040034      -0.046525      0.157454   \n",
            "2        8          2     0      2 -0.039022      -0.047462      0.157251   \n",
            "3        8          2     0      3 -0.038553      -0.048246      0.157361   \n",
            "4        8          2     0      4 -0.038434      -0.049712      0.157408   \n",
            "..     ...        ...   ...    ...       ...            ...           ...   \n",
            "245      8          2     0    245 -0.060154      -0.028111      0.114439   \n",
            "246      8          2     0    246 -0.061711      -0.028357      0.114208   \n",
            "247      8          2     0    247 -0.058859      -0.023290      0.108154   \n",
            "248      8          2     0    248 -0.057346      -0.017558      0.100698   \n",
            "249      8          2     0    249 -0.050417      -0.015545      0.099857   \n",
            "\n",
            "     ic_daily_median  \n",
            "0          -0.014684  \n",
            "1          -0.027027  \n",
            "2          -0.029178  \n",
            "3          -0.032382  \n",
            "4          -0.034795  \n",
            "..               ...  \n",
            "245        -0.016121  \n",
            "246        -0.015683  \n",
            "247        -0.017831  \n",
            "248        -0.011797  \n",
            "249        -0.012652  \n",
            "\n",
            "[250 rows x 8 columns],      units  n_factors  fold  epoch   ic_mean  ic_daily_mean  ic_daily_std  \\\n",
            "0        8          3     0      0 -0.048897      -0.052825      0.080960   \n",
            "1        8          3     0      1 -0.041676      -0.049859      0.078221   \n",
            "2        8          3     0      2 -0.037712      -0.047166      0.076529   \n",
            "3        8          3     0      3 -0.035093      -0.044486      0.075827   \n",
            "4        8          3     0      4 -0.031139      -0.040676      0.075067   \n",
            "..     ...        ...   ...    ...       ...            ...           ...   \n",
            "245      8          3     0    245  0.007617       0.004254      0.100302   \n",
            "246      8          3     0    246  0.004151       0.001262      0.099356   \n",
            "247      8          3     0    247  0.005432       0.004922      0.100241   \n",
            "248      8          3     0    248  0.003306       0.002620      0.099589   \n",
            "249      8          3     0    249  0.005887       0.004062      0.100487   \n",
            "\n",
            "     ic_daily_median  \n",
            "0          -0.045585  \n",
            "1          -0.053845  \n",
            "2          -0.038455  \n",
            "3          -0.042331  \n",
            "4          -0.039412  \n",
            "..               ...  \n",
            "245        -0.004693  \n",
            "246        -0.016211  \n",
            "247        -0.004828  \n",
            "248        -0.018210  \n",
            "249        -0.004977  \n",
            "\n",
            "[250 rows x 8 columns],      units  n_factors  fold  epoch   ic_mean  ic_daily_mean  ic_daily_std  \\\n",
            "0        8          4     0      0 -0.021561      -0.028697      0.154270   \n",
            "1        8          4     0      1 -0.020900      -0.028126      0.153561   \n",
            "2        8          4     0      2 -0.020609      -0.028688      0.153628   \n",
            "3        8          4     0      3 -0.019702      -0.028924      0.153968   \n",
            "4        8          4     0      4 -0.020440      -0.031954      0.153458   \n",
            "..     ...        ...   ...    ...       ...            ...           ...   \n",
            "245      8          4     0    245  0.007285      -0.028223      0.121917   \n",
            "246      8          4     0    246  0.009093      -0.029952      0.123523   \n",
            "247      8          4     0    247  0.009330      -0.030816      0.124560   \n",
            "248      8          4     0    248  0.008899      -0.031278      0.123269   \n",
            "249      8          4     0    249  0.006024      -0.028114      0.120720   \n",
            "\n",
            "     ic_daily_median  \n",
            "0          -0.014202  \n",
            "1          -0.008505  \n",
            "2          -0.009272  \n",
            "3          -0.008127  \n",
            "4          -0.007142  \n",
            "..               ...  \n",
            "245        -0.006335  \n",
            "246        -0.007614  \n",
            "247        -0.008722  \n",
            "248        -0.008150  \n",
            "249        -0.004101  \n",
            "\n",
            "[250 rows x 8 columns],      units  n_factors  fold  epoch   ic_mean  ic_daily_mean  ic_daily_std  \\\n",
            "0        8          5     0      0 -0.019263      -0.001040      0.118805   \n",
            "1        8          5     0      1 -0.011601      -0.001440      0.123835   \n",
            "2        8          5     0      2 -0.006157       0.000272      0.125444   \n",
            "3        8          5     0      3 -0.007560      -0.002626      0.128640   \n",
            "4        8          5     0      4 -0.003889      -0.000171      0.130595   \n",
            "..     ...        ...   ...    ...       ...            ...           ...   \n",
            "245      8          5     0    245  0.007069      -0.002011      0.094015   \n",
            "246      8          5     0    246  0.004436      -0.002389      0.094799   \n",
            "247      8          5     0    247  0.003395      -0.002818      0.095687   \n",
            "248      8          5     0    248  0.001909      -0.002491      0.095098   \n",
            "249      8          5     0    249  0.001536      -0.001536      0.094336   \n",
            "\n",
            "     ic_daily_median  \n",
            "0          -0.015963  \n",
            "1          -0.007388  \n",
            "2           0.006715  \n",
            "3           0.006329  \n",
            "4           0.012958  \n",
            "..               ...  \n",
            "245         0.002155  \n",
            "246        -0.000267  \n",
            "247        -0.004758  \n",
            "248        -0.004077  \n",
            "249        -0.006826  \n",
            "\n",
            "[250 rows x 8 columns],      units  n_factors  fold  epoch   ic_mean  ic_daily_mean  ic_daily_std  \\\n",
            "0        8          6     0      0  0.044577       0.051750      0.108026   \n",
            "1        8          6     0      1  0.049023       0.054658      0.106453   \n",
            "2        8          6     0      2  0.044427       0.051191      0.107350   \n",
            "3        8          6     0      3  0.041965       0.051911      0.106786   \n",
            "4        8          6     0      4  0.036797       0.044078      0.106230   \n",
            "..     ...        ...   ...    ...       ...            ...           ...   \n",
            "245      8          6     0    245 -0.006384       0.002730      0.081385   \n",
            "246      8          6     0    246 -0.006324       0.002227      0.080937   \n",
            "247      8          6     0    247 -0.005820       0.002802      0.081604   \n",
            "248      8          6     0    248 -0.005796       0.002880      0.081579   \n",
            "249      8          6     0    249 -0.005714       0.002659      0.081540   \n",
            "\n",
            "     ic_daily_median  \n",
            "0           0.059643  \n",
            "1           0.061283  \n",
            "2           0.054749  \n",
            "3           0.051215  \n",
            "4           0.047698  \n",
            "..               ...  \n",
            "245         0.001636  \n",
            "246         0.001887  \n",
            "247         0.001493  \n",
            "248         0.001637  \n",
            "249         0.001189  \n",
            "\n",
            "[250 rows x 8 columns],      units  n_factors  fold  epoch   ic_mean  ic_daily_mean  ic_daily_std  \\\n",
            "0       32          2     0      0  0.020166       0.010051      0.069280   \n",
            "1       32          2     0      1  0.022888       0.009155      0.061843   \n",
            "2       32          2     0      2  0.022350       0.009306      0.060438   \n",
            "3       32          2     0      3  0.022935       0.009509      0.060063   \n",
            "4       32          2     0      4  0.020749       0.007391      0.057876   \n",
            "..     ...        ...   ...    ...       ...            ...           ...   \n",
            "245     32          2     0    245  0.047836       0.023056      0.069788   \n",
            "246     32          2     0    246  0.043489       0.002155      0.079751   \n",
            "247     32          2     0    247  0.044744      -0.000625      0.072361   \n",
            "248     32          2     0    248  0.045132       0.010152      0.074370   \n",
            "249     32          2     0    249  0.044324       0.000560      0.074391   \n",
            "\n",
            "     ic_daily_median  \n",
            "0           0.005437  \n",
            "1           0.004401  \n",
            "2           0.005110  \n",
            "3           0.002348  \n",
            "4           0.007517  \n",
            "..               ...  \n",
            "245         0.027197  \n",
            "246         0.004886  \n",
            "247         0.006356  \n",
            "248         0.013424  \n",
            "249         0.005197  \n",
            "\n",
            "[250 rows x 8 columns],      units  n_factors  fold  epoch   ic_mean  ic_daily_mean  ic_daily_std  \\\n",
            "0       32          3     0      0 -0.015367       0.000079      0.127410   \n",
            "1       32          3     0      1 -0.004227       0.001795      0.118769   \n",
            "2       32          3     0      2  0.007562       0.001311      0.111992   \n",
            "3       32          3     0      3  0.010716       0.002549      0.111103   \n",
            "4       32          3     0      4  0.007011       0.003102      0.112676   \n",
            "..     ...        ...   ...    ...       ...            ...           ...   \n",
            "245     32          3     0    245 -0.000907       0.008474      0.056798   \n",
            "246     32          3     0    246 -0.000639       0.009644      0.057511   \n",
            "247     32          3     0    247 -0.001291       0.008454      0.057053   \n",
            "248     32          3     0    248 -0.001926       0.008544      0.056348   \n",
            "249     32          3     0    249  0.000805       0.010404      0.059490   \n",
            "\n",
            "     ic_daily_median  \n",
            "0          -0.023896  \n",
            "1          -0.014599  \n",
            "2          -0.007081  \n",
            "3          -0.012033  \n",
            "4          -0.008496  \n",
            "..               ...  \n",
            "245         0.011858  \n",
            "246         0.011888  \n",
            "247         0.011538  \n",
            "248         0.009842  \n",
            "249         0.013043  \n",
            "\n",
            "[250 rows x 8 columns],      units  n_factors  fold  epoch   ic_mean  ic_daily_mean  ic_daily_std  \\\n",
            "0       32          4     0      0  0.027113       0.025867      0.097822   \n",
            "1       32          4     0      1  0.019115       0.022068      0.096482   \n",
            "2       32          4     0      2  0.013996       0.019843      0.092046   \n",
            "3       32          4     0      3  0.010987       0.019675      0.088825   \n",
            "4       32          4     0      4  0.009428       0.021304      0.083707   \n",
            "..     ...        ...   ...    ...       ...            ...           ...   \n",
            "245     32          4     0    245 -0.005154      -0.001430      0.050531   \n",
            "246     32          4     0    246 -0.005402      -0.001490      0.049741   \n",
            "247     32          4     0    247 -0.004528      -0.001876      0.051963   \n",
            "248     32          4     0    248 -0.004190      -0.000912      0.051454   \n",
            "249     32          4     0    249 -0.004081      -0.002289      0.050569   \n",
            "\n",
            "     ic_daily_median  \n",
            "0           0.028335  \n",
            "1           0.023695  \n",
            "2           0.031574  \n",
            "3           0.036152  \n",
            "4           0.038806  \n",
            "..               ...  \n",
            "245        -0.003100  \n",
            "246        -0.003721  \n",
            "247        -0.000923  \n",
            "248        -0.001074  \n",
            "249        -0.003177  \n",
            "\n",
            "[250 rows x 8 columns],      units  n_factors  fold  epoch   ic_mean  ic_daily_mean  ic_daily_std  \\\n",
            "0       32          5     0      0 -0.007823      -0.010274      0.154537   \n",
            "1       32          5     0      1 -0.003556      -0.014831      0.151691   \n",
            "2       32          5     0      2  0.005879      -0.008207      0.147859   \n",
            "3       32          5     0      3  0.014811      -0.000987      0.140106   \n",
            "4       32          5     0      4  0.018660       0.002560      0.130447   \n",
            "..     ...        ...   ...    ...       ...            ...           ...   \n",
            "245     32          5     0    245  0.006786       0.028790      0.066852   \n",
            "246     32          5     0    246  0.005538       0.028090      0.066749   \n",
            "247     32          5     0    247  0.005812       0.028876      0.067189   \n",
            "248     32          5     0    248  0.006627       0.029205      0.067522   \n",
            "249     32          5     0    249  0.006093       0.028919      0.067258   \n",
            "\n",
            "     ic_daily_median  \n",
            "0          -0.008079  \n",
            "1          -0.015100  \n",
            "2          -0.014367  \n",
            "3          -0.008416  \n",
            "4           0.003541  \n",
            "..               ...  \n",
            "245         0.024737  \n",
            "246         0.023155  \n",
            "247         0.025208  \n",
            "248         0.027538  \n",
            "249         0.025754  \n",
            "\n",
            "[250 rows x 8 columns],      units  n_factors  fold  epoch   ic_mean  ic_daily_mean  ic_daily_std  \\\n",
            "0       32          6     0      0  0.001415       0.030087      0.116551   \n",
            "1       32          6     0      1  0.006419       0.031717      0.114176   \n",
            "2       32          6     0      2  0.008349       0.030434      0.113328   \n",
            "3       32          6     0      3  0.009312       0.028065      0.108110   \n",
            "4       32          6     0      4  0.009398       0.025832      0.101833   \n",
            "..     ...        ...   ...    ...       ...            ...           ...   \n",
            "245     32          6     0    245  0.010052      -0.021743      0.070991   \n",
            "246     32          6     0    246  0.009705      -0.022822      0.072304   \n",
            "247     32          6     0    247  0.010522      -0.021372      0.071107   \n",
            "248     32          6     0    248  0.009038      -0.022225      0.071610   \n",
            "249     32          6     0    249  0.010126      -0.021503      0.072118   \n",
            "\n",
            "     ic_daily_median  \n",
            "0           0.020926  \n",
            "1           0.026338  \n",
            "2           0.023273  \n",
            "3           0.027825  \n",
            "4           0.029025  \n",
            "..               ...  \n",
            "245        -0.022398  \n",
            "246        -0.027086  \n",
            "247        -0.020458  \n",
            "248        -0.024217  \n",
            "249        -0.022774  \n",
            "\n",
            "[250 rows x 8 columns],      units  n_factors  fold  epoch   ic_mean  ic_daily_mean  ic_daily_std  \\\n",
            "0       16          2     0      0 -0.042441      -0.016875      0.076966   \n",
            "1       16          2     0      1 -0.033623      -0.008269      0.068025   \n",
            "2       16          2     0      2 -0.034197      -0.009895      0.069241   \n",
            "3       16          2     0      3 -0.030334      -0.008500      0.067808   \n",
            "4       16          2     0      4 -0.027706      -0.008978      0.067773   \n",
            "..     ...        ...   ...    ...       ...            ...           ...   \n",
            "245     16          2     0    245 -0.064039      -0.012149      0.049004   \n",
            "246     16          2     0    246 -0.063109      -0.009408      0.051177   \n",
            "247     16          2     0    247 -0.065159      -0.013739      0.049289   \n",
            "248     16          2     0    248 -0.063959      -0.011267      0.049507   \n",
            "249     16          2     0    249 -0.066003      -0.014747      0.049062   \n",
            "\n",
            "     ic_daily_median  \n",
            "0          -0.019570  \n",
            "1          -0.011671  \n",
            "2          -0.015214  \n",
            "3          -0.012401  \n",
            "4          -0.014794  \n",
            "..               ...  \n",
            "245        -0.000712  \n",
            "246        -0.004091  \n",
            "247        -0.002052  \n",
            "248         0.000727  \n",
            "249        -0.002160  \n",
            "\n",
            "[250 rows x 8 columns],      units  n_factors  fold  epoch   ic_mean  ic_daily_mean  ic_daily_std  \\\n",
            "0       16          3     0      0  0.013611       0.011082      0.116346   \n",
            "1       16          3     0      1  0.002113       0.000255      0.115754   \n",
            "2       16          3     0      2 -0.000765      -0.003166      0.113460   \n",
            "3       16          3     0      3 -0.005351      -0.005306      0.107409   \n",
            "4       16          3     0      4 -0.011585      -0.008267      0.107551   \n",
            "..     ...        ...   ...    ...       ...            ...           ...   \n",
            "245     16          3     0    245 -0.044532      -0.019144      0.075613   \n",
            "246     16          3     0    246 -0.045063      -0.020022      0.076737   \n",
            "247     16          3     0    247 -0.044691      -0.019716      0.079561   \n",
            "248     16          3     0    248 -0.044508      -0.020490      0.078949   \n",
            "249     16          3     0    249 -0.046337      -0.022360      0.080604   \n",
            "\n",
            "     ic_daily_median  \n",
            "0           0.018172  \n",
            "1           0.001800  \n",
            "2           0.001259  \n",
            "3          -0.000892  \n",
            "4          -0.005788  \n",
            "..               ...  \n",
            "245        -0.017664  \n",
            "246        -0.022006  \n",
            "247        -0.013543  \n",
            "248        -0.016541  \n",
            "249        -0.019655  \n",
            "\n",
            "[250 rows x 8 columns],      units  n_factors  fold  epoch   ic_mean  ic_daily_mean  ic_daily_std  \\\n",
            "0       16          4     0      0 -0.038633      -0.015056      0.088377   \n",
            "1       16          4     0      1 -0.029725      -0.012903      0.093596   \n",
            "2       16          4     0      2 -0.021034      -0.010709      0.087543   \n",
            "3       16          4     0      3 -0.018527      -0.010532      0.090470   \n",
            "4       16          4     0      4 -0.014868      -0.009644      0.088092   \n",
            "..     ...        ...   ...    ...       ...            ...           ...   \n",
            "245     16          4     0    245  0.047943       0.008108      0.075669   \n",
            "246     16          4     0    246  0.061234       0.024036      0.071477   \n",
            "247     16          4     0    247  0.061212       0.026526      0.068529   \n",
            "248     16          4     0    248  0.060900       0.023805      0.069609   \n",
            "249     16          4     0    249  0.062832       0.025096      0.070443   \n",
            "\n",
            "     ic_daily_median  \n",
            "0          -0.015327  \n",
            "1          -0.023170  \n",
            "2          -0.017915  \n",
            "3          -0.016732  \n",
            "4          -0.013644  \n",
            "..               ...  \n",
            "245         0.020892  \n",
            "246         0.043277  \n",
            "247         0.044573  \n",
            "248         0.040922  \n",
            "249         0.041595  \n",
            "\n",
            "[250 rows x 8 columns],      units  n_factors  fold  epoch   ic_mean  ic_daily_mean  ic_daily_std  \\\n",
            "0       16          5     0      0 -0.040735      -0.017631      0.114266   \n",
            "1       16          5     0      1 -0.044664      -0.021279      0.104001   \n",
            "2       16          5     0      2 -0.041385      -0.018034      0.106578   \n",
            "3       16          5     0      3 -0.040716      -0.018351      0.103774   \n",
            "4       16          5     0      4 -0.041502      -0.021113      0.103631   \n",
            "..     ...        ...   ...    ...       ...            ...           ...   \n",
            "245     16          5     0    245 -0.026715      -0.032510      0.068025   \n",
            "246     16          5     0    246 -0.026785      -0.032910      0.067678   \n",
            "247     16          5     0    247 -0.025979      -0.032537      0.067642   \n",
            "248     16          5     0    248 -0.025920      -0.032408      0.067507   \n",
            "249     16          5     0    249 -0.025932      -0.032684      0.067093   \n",
            "\n",
            "     ic_daily_median  \n",
            "0          -0.017399  \n",
            "1          -0.025371  \n",
            "2          -0.022594  \n",
            "3          -0.017534  \n",
            "4          -0.021822  \n",
            "..               ...  \n",
            "245        -0.037333  \n",
            "246        -0.036198  \n",
            "247        -0.035719  \n",
            "248        -0.034681  \n",
            "249        -0.034610  \n",
            "\n",
            "[250 rows x 8 columns],      units  n_factors  fold  epoch   ic_mean  ic_daily_mean  ic_daily_std  \\\n",
            "0       16          6     0      0  0.002150      -0.008779      0.111975   \n",
            "1       16          6     0      1 -0.001045      -0.001387      0.102308   \n",
            "2       16          6     0      2 -0.007913      -0.003237      0.097075   \n",
            "3       16          6     0      3 -0.004269      -0.001298      0.095864   \n",
            "4       16          6     0      4 -0.001578      -0.000045      0.093648   \n",
            "..     ...        ...   ...    ...       ...            ...           ...   \n",
            "245     16          6     0    245 -0.059088      -0.004065      0.065236   \n",
            "246     16          6     0    246 -0.060125      -0.004341      0.065293   \n",
            "247     16          6     0    247 -0.060204      -0.004534      0.065432   \n",
            "248     16          6     0    248 -0.060009      -0.004371      0.065145   \n",
            "249     16          6     0    249 -0.060887      -0.004496      0.065169   \n",
            "\n",
            "     ic_daily_median  \n",
            "0           0.009673  \n",
            "1           0.003302  \n",
            "2           0.006301  \n",
            "3           0.012195  \n",
            "4           0.017180  \n",
            "..               ...  \n",
            "245         0.001074  \n",
            "246         0.000312  \n",
            "247         0.000951  \n",
            "248        -0.000335  \n",
            "249        -0.001297  \n",
            "\n",
            "[250 rows x 8 columns]]\n"
          ]
        }
      ],
      "source": [
        "scores = []\n",
        "with pd.HDFStore(results_path / 'scores.h5') as store:\n",
        "    for key in store.keys():\n",
        "        scores.append(store[key])\n",
        "print(scores)\n",
        "scores = pd.concat(scores)"
      ]
    },
    {
      "cell_type": "code",
      "execution_count": 93,
      "metadata": {
        "ExecuteTime": {
          "end_time": "2021-02-25T01:24:38.690579Z",
          "start_time": "2021-02-25T01:24:38.680750Z"
        },
        "colab": {
          "base_uri": "https://localhost:8080/"
        },
        "id": "hMztxTYrG6AL",
        "outputId": "6b710c5a-0db1-4a85-e7be-fe00fa1cdba6"
      },
      "outputs": [
        {
          "name": "stdout",
          "output_type": "stream",
          "text": [
            "<class 'pandas.core.frame.DataFrame'>\n",
            "Int64Index: 3750 entries, 0 to 249\n",
            "Data columns (total 8 columns):\n",
            " #   Column           Non-Null Count  Dtype  \n",
            "---  ------           --------------  -----  \n",
            " 0   units            3750 non-null   int64  \n",
            " 1   n_factors        3750 non-null   int64  \n",
            " 2   fold             3750 non-null   int64  \n",
            " 3   epoch            3750 non-null   int64  \n",
            " 4   ic_mean          3750 non-null   float64\n",
            " 5   ic_daily_mean    3750 non-null   float64\n",
            " 6   ic_daily_std     3750 non-null   float64\n",
            " 7   ic_daily_median  3750 non-null   float64\n",
            "dtypes: float64(4), int64(4)\n",
            "memory usage: 263.7 KB\n"
          ]
        }
      ],
      "source": [
        "scores.info()"
      ]
    },
    {
      "cell_type": "code",
      "execution_count": 94,
      "metadata": {
        "ExecuteTime": {
          "end_time": "2021-02-25T01:24:40.755460Z",
          "start_time": "2021-02-25T01:24:40.737523Z"
        },
        "id": "zxY8oAt6G6AM"
      },
      "outputs": [],
      "source": [
        "avg = (scores.groupby(['n_factors', 'units', 'epoch'])\n",
        "       ['ic_mean', 'ic_daily_mean', 'ic_daily_median']\n",
        "       .mean()\n",
        "      .reset_index())"
      ]
    },
    {
      "cell_type": "code",
      "execution_count": 95,
      "metadata": {
        "ExecuteTime": {
          "end_time": "2021-02-25T01:24:40.967622Z",
          "start_time": "2021-02-25T01:24:40.946156Z"
        },
        "colab": {
          "base_uri": "https://localhost:8080/",
          "height": 677
        },
        "id": "-kjtkcHYG6AM",
        "outputId": "ea0906e6-890f-43a0-b547-f064f37f5bed"
      },
      "outputs": [
        {
          "data": {
            "text/html": [
              "<div>\n",
              "<style scoped>\n",
              "    .dataframe tbody tr th:only-of-type {\n",
              "        vertical-align: middle;\n",
              "    }\n",
              "\n",
              "    .dataframe tbody tr th {\n",
              "        vertical-align: top;\n",
              "    }\n",
              "\n",
              "    .dataframe thead th {\n",
              "        text-align: right;\n",
              "    }\n",
              "</style>\n",
              "<table border=\"1\" class=\"dataframe\">\n",
              "  <thead>\n",
              "    <tr style=\"text-align: right;\">\n",
              "      <th></th>\n",
              "      <th>n_factors</th>\n",
              "      <th>units</th>\n",
              "      <th>epoch</th>\n",
              "      <th>ic_mean</th>\n",
              "      <th>ic_daily_mean</th>\n",
              "      <th>ic_daily_median</th>\n",
              "    </tr>\n",
              "  </thead>\n",
              "  <tbody>\n",
              "    <tr>\n",
              "      <th>3001</th>\n",
              "      <td>6</td>\n",
              "      <td>8</td>\n",
              "      <td>1</td>\n",
              "      <td>0.049023</td>\n",
              "      <td>0.054658</td>\n",
              "      <td>0.061283</td>\n",
              "    </tr>\n",
              "    <tr>\n",
              "      <th>3000</th>\n",
              "      <td>6</td>\n",
              "      <td>8</td>\n",
              "      <td>0</td>\n",
              "      <td>0.044577</td>\n",
              "      <td>0.051750</td>\n",
              "      <td>0.059643</td>\n",
              "    </tr>\n",
              "    <tr>\n",
              "      <th>3002</th>\n",
              "      <td>6</td>\n",
              "      <td>8</td>\n",
              "      <td>2</td>\n",
              "      <td>0.044427</td>\n",
              "      <td>0.051191</td>\n",
              "      <td>0.054749</td>\n",
              "    </tr>\n",
              "    <tr>\n",
              "      <th>2883</th>\n",
              "      <td>5</td>\n",
              "      <td>32</td>\n",
              "      <td>133</td>\n",
              "      <td>0.016092</td>\n",
              "      <td>0.044448</td>\n",
              "      <td>0.052153</td>\n",
              "    </tr>\n",
              "    <tr>\n",
              "      <th>3003</th>\n",
              "      <td>6</td>\n",
              "      <td>8</td>\n",
              "      <td>3</td>\n",
              "      <td>0.041965</td>\n",
              "      <td>0.051911</td>\n",
              "      <td>0.051215</td>\n",
              "    </tr>\n",
              "    <tr>\n",
              "      <th>2858</th>\n",
              "      <td>5</td>\n",
              "      <td>32</td>\n",
              "      <td>108</td>\n",
              "      <td>0.016261</td>\n",
              "      <td>0.037543</td>\n",
              "      <td>0.050634</td>\n",
              "    </tr>\n",
              "    <tr>\n",
              "      <th>2859</th>\n",
              "      <td>5</td>\n",
              "      <td>32</td>\n",
              "      <td>109</td>\n",
              "      <td>0.016382</td>\n",
              "      <td>0.037988</td>\n",
              "      <td>0.050587</td>\n",
              "    </tr>\n",
              "    <tr>\n",
              "      <th>2835</th>\n",
              "      <td>5</td>\n",
              "      <td>32</td>\n",
              "      <td>85</td>\n",
              "      <td>0.024101</td>\n",
              "      <td>0.039988</td>\n",
              "      <td>0.050546</td>\n",
              "    </tr>\n",
              "    <tr>\n",
              "      <th>2862</th>\n",
              "      <td>5</td>\n",
              "      <td>32</td>\n",
              "      <td>112</td>\n",
              "      <td>0.015454</td>\n",
              "      <td>0.038013</td>\n",
              "      <td>0.050502</td>\n",
              "    </tr>\n",
              "    <tr>\n",
              "      <th>2857</th>\n",
              "      <td>5</td>\n",
              "      <td>32</td>\n",
              "      <td>107</td>\n",
              "      <td>0.016340</td>\n",
              "      <td>0.037044</td>\n",
              "      <td>0.050277</td>\n",
              "    </tr>\n",
              "    <tr>\n",
              "      <th>2837</th>\n",
              "      <td>5</td>\n",
              "      <td>32</td>\n",
              "      <td>87</td>\n",
              "      <td>0.022387</td>\n",
              "      <td>0.037571</td>\n",
              "      <td>0.050273</td>\n",
              "    </tr>\n",
              "    <tr>\n",
              "      <th>2881</th>\n",
              "      <td>5</td>\n",
              "      <td>32</td>\n",
              "      <td>131</td>\n",
              "      <td>0.014975</td>\n",
              "      <td>0.043296</td>\n",
              "      <td>0.050138</td>\n",
              "    </tr>\n",
              "    <tr>\n",
              "      <th>2888</th>\n",
              "      <td>5</td>\n",
              "      <td>32</td>\n",
              "      <td>138</td>\n",
              "      <td>0.015383</td>\n",
              "      <td>0.043343</td>\n",
              "      <td>0.049968</td>\n",
              "    </tr>\n",
              "    <tr>\n",
              "      <th>2866</th>\n",
              "      <td>5</td>\n",
              "      <td>32</td>\n",
              "      <td>116</td>\n",
              "      <td>0.015727</td>\n",
              "      <td>0.039862</td>\n",
              "      <td>0.049960</td>\n",
              "    </tr>\n",
              "    <tr>\n",
              "      <th>2853</th>\n",
              "      <td>5</td>\n",
              "      <td>32</td>\n",
              "      <td>103</td>\n",
              "      <td>0.017682</td>\n",
              "      <td>0.036527</td>\n",
              "      <td>0.049957</td>\n",
              "    </tr>\n",
              "    <tr>\n",
              "      <th>2867</th>\n",
              "      <td>5</td>\n",
              "      <td>32</td>\n",
              "      <td>117</td>\n",
              "      <td>0.015001</td>\n",
              "      <td>0.039427</td>\n",
              "      <td>0.049918</td>\n",
              "    </tr>\n",
              "    <tr>\n",
              "      <th>2861</th>\n",
              "      <td>5</td>\n",
              "      <td>32</td>\n",
              "      <td>111</td>\n",
              "      <td>0.016065</td>\n",
              "      <td>0.038218</td>\n",
              "      <td>0.049876</td>\n",
              "    </tr>\n",
              "    <tr>\n",
              "      <th>2865</th>\n",
              "      <td>5</td>\n",
              "      <td>32</td>\n",
              "      <td>115</td>\n",
              "      <td>0.016505</td>\n",
              "      <td>0.040214</td>\n",
              "      <td>0.049729</td>\n",
              "    </tr>\n",
              "    <tr>\n",
              "      <th>2855</th>\n",
              "      <td>5</td>\n",
              "      <td>32</td>\n",
              "      <td>105</td>\n",
              "      <td>0.017238</td>\n",
              "      <td>0.036784</td>\n",
              "      <td>0.049497</td>\n",
              "    </tr>\n",
              "    <tr>\n",
              "      <th>2856</th>\n",
              "      <td>5</td>\n",
              "      <td>32</td>\n",
              "      <td>106</td>\n",
              "      <td>0.016831</td>\n",
              "      <td>0.036957</td>\n",
              "      <td>0.049261</td>\n",
              "    </tr>\n",
              "  </tbody>\n",
              "</table>\n",
              "</div>"
            ],
            "text/plain": [
              "      n_factors  units  epoch   ic_mean  ic_daily_mean  ic_daily_median\n",
              "3001          6      8      1  0.049023       0.054658         0.061283\n",
              "3000          6      8      0  0.044577       0.051750         0.059643\n",
              "3002          6      8      2  0.044427       0.051191         0.054749\n",
              "2883          5     32    133  0.016092       0.044448         0.052153\n",
              "3003          6      8      3  0.041965       0.051911         0.051215\n",
              "2858          5     32    108  0.016261       0.037543         0.050634\n",
              "2859          5     32    109  0.016382       0.037988         0.050587\n",
              "2835          5     32     85  0.024101       0.039988         0.050546\n",
              "2862          5     32    112  0.015454       0.038013         0.050502\n",
              "2857          5     32    107  0.016340       0.037044         0.050277\n",
              "2837          5     32     87  0.022387       0.037571         0.050273\n",
              "2881          5     32    131  0.014975       0.043296         0.050138\n",
              "2888          5     32    138  0.015383       0.043343         0.049968\n",
              "2866          5     32    116  0.015727       0.039862         0.049960\n",
              "2853          5     32    103  0.017682       0.036527         0.049957\n",
              "2867          5     32    117  0.015001       0.039427         0.049918\n",
              "2861          5     32    111  0.016065       0.038218         0.049876\n",
              "2865          5     32    115  0.016505       0.040214         0.049729\n",
              "2855          5     32    105  0.017238       0.036784         0.049497\n",
              "2856          5     32    106  0.016831       0.036957         0.049261"
            ]
          },
          "execution_count": 95,
          "metadata": {},
          "output_type": "execute_result"
        }
      ],
      "source": [
        "avg.nlargest(n=20, columns=['ic_daily_median'])"
      ]
    },
    {
      "cell_type": "code",
      "execution_count": 96,
      "metadata": {
        "ExecuteTime": {
          "end_time": "2021-02-25T01:24:42.905824Z",
          "start_time": "2021-02-25T01:24:42.868325Z"
        },
        "colab": {
          "base_uri": "https://localhost:8080/",
          "height": 238
        },
        "id": "ymvDFzIuG6AM",
        "outputId": "df578ddb-994c-47e9-bc76-cad9dfd1d459"
      },
      "outputs": [
        {
          "data": {
            "text/html": [
              "<div>\n",
              "<style scoped>\n",
              "    .dataframe tbody tr th:only-of-type {\n",
              "        vertical-align: middle;\n",
              "    }\n",
              "\n",
              "    .dataframe tbody tr th {\n",
              "        vertical-align: top;\n",
              "    }\n",
              "\n",
              "    .dataframe thead th {\n",
              "        text-align: right;\n",
              "    }\n",
              "</style>\n",
              "<table border=\"1\" class=\"dataframe\">\n",
              "  <thead>\n",
              "    <tr style=\"text-align: right;\">\n",
              "      <th></th>\n",
              "      <th></th>\n",
              "      <th>n_factors</th>\n",
              "      <th>units</th>\n",
              "      <th>epoch</th>\n",
              "      <th>ic_mean</th>\n",
              "      <th>ic_daily_mean</th>\n",
              "      <th>ic_daily_median</th>\n",
              "    </tr>\n",
              "    <tr>\n",
              "      <th>n_factors</th>\n",
              "      <th>units</th>\n",
              "      <th></th>\n",
              "      <th></th>\n",
              "      <th></th>\n",
              "      <th></th>\n",
              "      <th></th>\n",
              "      <th></th>\n",
              "    </tr>\n",
              "  </thead>\n",
              "  <tbody>\n",
              "    <tr>\n",
              "      <th rowspan=\"3\" valign=\"top\">6</th>\n",
              "      <th>8</th>\n",
              "      <td>6</td>\n",
              "      <td>8</td>\n",
              "      <td>1</td>\n",
              "      <td>0.049023</td>\n",
              "      <td>0.054658</td>\n",
              "      <td>0.061283</td>\n",
              "    </tr>\n",
              "    <tr>\n",
              "      <th>8</th>\n",
              "      <td>6</td>\n",
              "      <td>8</td>\n",
              "      <td>0</td>\n",
              "      <td>0.044577</td>\n",
              "      <td>0.051750</td>\n",
              "      <td>0.059643</td>\n",
              "    </tr>\n",
              "    <tr>\n",
              "      <th>8</th>\n",
              "      <td>6</td>\n",
              "      <td>8</td>\n",
              "      <td>2</td>\n",
              "      <td>0.044427</td>\n",
              "      <td>0.051191</td>\n",
              "      <td>0.054749</td>\n",
              "    </tr>\n",
              "    <tr>\n",
              "      <th>5</th>\n",
              "      <th>32</th>\n",
              "      <td>5</td>\n",
              "      <td>32</td>\n",
              "      <td>133</td>\n",
              "      <td>0.016092</td>\n",
              "      <td>0.044448</td>\n",
              "      <td>0.052153</td>\n",
              "    </tr>\n",
              "    <tr>\n",
              "      <th>6</th>\n",
              "      <th>8</th>\n",
              "      <td>6</td>\n",
              "      <td>8</td>\n",
              "      <td>3</td>\n",
              "      <td>0.041965</td>\n",
              "      <td>0.051911</td>\n",
              "      <td>0.051215</td>\n",
              "    </tr>\n",
              "  </tbody>\n",
              "</table>\n",
              "</div>"
            ],
            "text/plain": [
              "                 n_factors  units  epoch   ic_mean  ic_daily_mean  \\\n",
              "n_factors units                                                     \n",
              "6         8              6      8      1  0.049023       0.054658   \n",
              "          8              6      8      0  0.044577       0.051750   \n",
              "          8              6      8      2  0.044427       0.051191   \n",
              "5         32             5     32    133  0.016092       0.044448   \n",
              "6         8              6      8      3  0.041965       0.051911   \n",
              "\n",
              "                 ic_daily_median  \n",
              "n_factors units                   \n",
              "6         8             0.061283  \n",
              "          8             0.059643  \n",
              "          8             0.054749  \n",
              "5         32            0.052153  \n",
              "6         8             0.051215  "
            ]
          },
          "execution_count": 96,
          "metadata": {},
          "output_type": "execute_result"
        }
      ],
      "source": [
        "top = (avg.groupby(['n_factors', 'units'])\n",
        "       .apply(lambda x: x.nlargest(n=5, columns=['ic_daily_median']))\n",
        "       .reset_index(-1, drop=True))\n",
        "\n",
        "top.nlargest(n=5, columns=['ic_daily_median'])"
      ]
    },
    {
      "cell_type": "code",
      "execution_count": 97,
      "metadata": {
        "ExecuteTime": {
          "end_time": "2021-02-24T21:42:05.316440Z",
          "start_time": "2021-02-24T21:42:03.450732Z"
        },
        "colab": {
          "base_uri": "https://localhost:8080/",
          "height": 377
        },
        "id": "TavrBsH0G6AM",
        "outputId": "6e7b79cb-f8d6-450c-b1e7-b7c11f88bc3f"
      },
      "outputs": [
        {
          "data": {
            "image/png": "[encoded data removed]",
            "text/plain": [
              "<Figure size 2000x800 with 10 Axes>"
            ]
          },
          "metadata": {},
          "output_type": "display_data"
        }
      ],
      "source": [
        "fig, axes = plt.subplots(ncols=5, nrows=2, figsize=(20, 8), sharey='row', sharex=True)\n",
        "\n",
        "for n in range(2, 7):\n",
        "    df = avg[avg.n_factors==n].pivot(index='epoch', columns='units', values='ic_mean')\n",
        "    df.rolling(10).mean().loc[:200].plot(ax=axes[0][n-2], lw=1, title=f'{n} Factors')\n",
        "    axes[0][n-2].axhline(0, ls='--', c='k', lw=1)\n",
        "    axes[0][n-2].get_legend().remove()\n",
        "    axes[0][n-2].set_ylabel('IC (10-epoch rolling mean)')\n",
        "\n",
        "    df = avg[avg.n_factors==n].pivot(index='epoch', columns='units', values='ic_daily_median')\n",
        "    df.rolling(10).mean().loc[:200].plot(ax=axes[1][n-2], lw=1)\n",
        "    axes[1][n-2].axhline(0, ls='--', c='k', lw=1)\n",
        "    axes[1][n-2].get_legend().remove()\n",
        "    axes[1][n-2].set_ylabel('IC, Daily Median (10-epoch rolling mean)')\n",
        "\n",
        "handles, labels = axes[0][0].get_legend_handles_labels()\n",
        "fig.legend(handles, labels, loc='center right', title='# Units')\n",
        "fig.suptitle('Cross-Validation Performance (2015-2019)', fontsize=16)\n",
        "fig.tight_layout()\n",
        "fig.subplots_adjust(top=.9)\n",
        "fig.savefig(results_path / 'cv_performance', dpi=600);"
      ]
    },
    {
      "attachments": {},
      "cell_type": "markdown",
      "metadata": {
        "id": "ukS9TwYwG6AM"
      },
      "source": [
        "## Generate Predictions"
      ]
    },
    {
      "attachments": {},
      "cell_type": "markdown",
      "metadata": {
        "id": "Sd7OSqCcG6AM"
      },
      "source": [
        "We'll average over a range of epochs that appears to deliver good predictions."
      ]
    },
    {
      "cell_type": "code",
      "execution_count": 100,
      "metadata": {
        "ExecuteTime": {
          "end_time": "2021-02-25T02:20:39.334590Z",
          "start_time": "2021-02-25T02:20:39.328174Z"
        },
        "id": "n3Vz9AQpG6AN"
      },
      "outputs": [],
      "source": [
        "n_factors = 4\n",
        "units = 16\n",
        "batch_size = 32\n",
        "first_epoch = 160\n",
        "last_epoch = 190"
      ]
    },
    {
      "cell_type": "code",
      "execution_count": 101,
      "metadata": {
        "ExecuteTime": {
          "end_time": "2021-02-25T02:53:07.097416Z",
          "start_time": "2021-02-25T02:20:39.526027Z"
        },
        "colab": {
          "base_uri": "https://localhost:8080/"
        },
        "id": "kMpzmg5sG6AN",
        "outputId": "9aa4f777-0cba-44c0-afdc-a1f0c3022e2b",
        "scrolled": false
      },
      "outputs": [
        {
          "name": "stderr",
          "output_type": "stream",
          "text": [
            "  0%|          | 0/30 [00:00<?, ?it/s]"
          ]
        }
      ],
      "source": [
        "predictions = []\n",
        "for epoch in tqdm(list(range(first_epoch, last_epoch))):\n",
        "    epoch_preds = []\n",
        "    for fold, (train_idx, val_idx) in enumerate(cv.split(data)):\n",
        "        X1_train, X2_train, y_train, X1_val, X2_val, y_val = get_train_valid_data(data,\n",
        "                                                                                  train_idx,\n",
        "                                                                                  val_idx)\n",
        "        \n",
        "        train_gen = DataGenerator(X1_train, X2_train, y_train, batch_size=batch_size)\n",
        "        val_gen = DataGenerator(X1_val, X2_val, y_val, batch_size=batch_size)\n",
        "        \n",
        "        model.fit_generator(train_gen,\n",
        "                    validation_data=val_gen,\n",
        "                  epochs=epoch,\n",
        "                  verbose=False,\n",
        "                  shuffle=True, callbacks=ClearMemory())\n",
        "        epoch_preds.append(pd.Series(model.predict_generator(val_gen, callbacks=ClearMemory()).reshape(-1),\n",
        "                                     index=y_val.stack().index).to_frame(epoch))\n",
        "\n",
        "    predictions.append(pd.concat(epoch_preds))"
      ]
    },
    {
      "cell_type": "code",
      "execution_count": 58,
      "metadata": {
        "ExecuteTime": {
          "end_time": "2021-02-24T22:56:10.170667Z",
          "start_time": "2021-02-24T22:56:05.415887Z"
        },
        "id": "xsQnA28qG6AN"
      },
      "outputs": [],
      "source": [
        "predictions_combined = pd.concat(predictions, axis=1).sort_index()   "
      ]
    },
    {
      "cell_type": "code",
      "execution_count": 59,
      "metadata": {
        "ExecuteTime": {
          "end_time": "2021-02-24T22:56:10.236001Z",
          "start_time": "2021-02-24T22:56:10.171537Z"
        },
        "colab": {
          "base_uri": "https://localhost:8080/"
        },
        "id": "0uMWaNvzG6AN",
        "outputId": "216ed910-6677-403d-84ce-ded4e206ca36"
      },
      "outputs": [
        {
          "name": "stdout",
          "output_type": "stream",
          "text": [
            "<class 'pandas.core.frame.DataFrame'>\n",
            "MultiIndex: 994500 entries, (Timestamp('2015-01-09 00:00:00'), 'A') to (Timestamp('2019-12-27 00:00:00'), 'ZYXI')\n",
            "Data columns (total 30 columns):\n",
            " #   Column  Non-Null Count   Dtype  \n",
            "---  ------  --------------   -----  \n",
            " 0   50      994500 non-null  float32\n",
            " 1   51      994500 non-null  float32\n",
            " 2   52      994500 non-null  float32\n",
            " 3   53      994500 non-null  float32\n",
            " 4   54      994500 non-null  float32\n",
            " 5   55      994500 non-null  float32\n",
            " 6   56      994500 non-null  float32\n",
            " 7   57      994500 non-null  float32\n",
            " 8   58      994500 non-null  float32\n",
            " 9   59      994500 non-null  float32\n",
            " 10  60      994500 non-null  float32\n",
            " 11  61      994500 non-null  float32\n",
            " 12  62      994500 non-null  float32\n",
            " 13  63      994500 non-null  float32\n",
            " 14  64      994500 non-null  float32\n",
            " 15  65      994500 non-null  float32\n",
            " 16  66      994500 non-null  float32\n",
            " 17  67      994500 non-null  float32\n",
            " 18  68      994500 non-null  float32\n",
            " 19  69      994500 non-null  float32\n",
            " 20  70      994500 non-null  float32\n",
            " 21  71      994500 non-null  float32\n",
            " 22  72      994500 non-null  float32\n",
            " 23  73      994500 non-null  float32\n",
            " 24  74      994500 non-null  float32\n",
            " 25  75      994500 non-null  float32\n",
            " 26  76      994500 non-null  float32\n",
            " 27  77      994500 non-null  float32\n",
            " 28  78      994500 non-null  float32\n",
            " 29  79      994500 non-null  float32\n",
            "dtypes: float32(30)\n",
            "memory usage: 117.8+ MB\n"
          ]
        }
      ],
      "source": [
        "predictions_combined.info()"
      ]
    },
    {
      "cell_type": "code",
      "execution_count": 60,
      "metadata": {
        "ExecuteTime": {
          "end_time": "2021-02-24T22:56:10.394903Z",
          "start_time": "2021-02-24T22:56:10.236930Z"
        },
        "id": "mV0rDdJsG6AN"
      },
      "outputs": [],
      "source": [
        "predictions_combined.to_hdf(results_path / 'predictions.h5', 'predictions')"
      ]
    },
    {
      "cell_type": "code",
      "execution_count": 61,
      "metadata": {
        "id": "3bJuKgM2tVBv"
      },
      "outputs": [
        {
          "data": {
            "text/html": [
              "<div>\n",
              "<style scoped>\n",
              "    .dataframe tbody tr th:only-of-type {\n",
              "        vertical-align: middle;\n",
              "    }\n",
              "\n",
              "    .dataframe tbody tr th {\n",
              "        vertical-align: top;\n",
              "    }\n",
              "\n",
              "    .dataframe thead th {\n",
              "        text-align: right;\n",
              "    }\n",
              "</style>\n",
              "<table border=\"1\" class=\"dataframe\">\n",
              "  <thead>\n",
              "    <tr style=\"text-align: right;\">\n",
              "      <th></th>\n",
              "      <th></th>\n",
              "      <th>50</th>\n",
              "      <th>51</th>\n",
              "      <th>52</th>\n",
              "      <th>53</th>\n",
              "      <th>54</th>\n",
              "      <th>55</th>\n",
              "      <th>56</th>\n",
              "      <th>57</th>\n",
              "      <th>58</th>\n",
              "      <th>59</th>\n",
              "      <th>...</th>\n",
              "      <th>70</th>\n",
              "      <th>71</th>\n",
              "      <th>72</th>\n",
              "      <th>73</th>\n",
              "      <th>74</th>\n",
              "      <th>75</th>\n",
              "      <th>76</th>\n",
              "      <th>77</th>\n",
              "      <th>78</th>\n",
              "      <th>79</th>\n",
              "    </tr>\n",
              "    <tr>\n",
              "      <th>date</th>\n",
              "      <th>ticker</th>\n",
              "      <th></th>\n",
              "      <th></th>\n",
              "      <th></th>\n",
              "      <th></th>\n",
              "      <th></th>\n",
              "      <th></th>\n",
              "      <th></th>\n",
              "      <th></th>\n",
              "      <th></th>\n",
              "      <th></th>\n",
              "      <th></th>\n",
              "      <th></th>\n",
              "      <th></th>\n",
              "      <th></th>\n",
              "      <th></th>\n",
              "      <th></th>\n",
              "      <th></th>\n",
              "      <th></th>\n",
              "      <th></th>\n",
              "      <th></th>\n",
              "      <th></th>\n",
              "    </tr>\n",
              "  </thead>\n",
              "  <tbody>\n",
              "    <tr>\n",
              "      <th rowspan=\"5\" valign=\"top\">2015-01-09</th>\n",
              "      <th>A</th>\n",
              "      <td>0.163845</td>\n",
              "      <td>2.253947</td>\n",
              "      <td>0.127273</td>\n",
              "      <td>0.331235</td>\n",
              "      <td>0.368946</td>\n",
              "      <td>0.274428</td>\n",
              "      <td>0.278209</td>\n",
              "      <td>0.280361</td>\n",
              "      <td>0.293108</td>\n",
              "      <td>0.332145</td>\n",
              "      <td>...</td>\n",
              "      <td>0.317030</td>\n",
              "      <td>0.339076</td>\n",
              "      <td>0.322740</td>\n",
              "      <td>0.326238</td>\n",
              "      <td>0.550870</td>\n",
              "      <td>0.299175</td>\n",
              "      <td>0.348998</td>\n",
              "      <td>0.324916</td>\n",
              "      <td>0.282634</td>\n",
              "      <td>0.308473</td>\n",
              "    </tr>\n",
              "    <tr>\n",
              "      <th>AA</th>\n",
              "      <td>0.118959</td>\n",
              "      <td>-1.111887</td>\n",
              "      <td>0.648148</td>\n",
              "      <td>0.384320</td>\n",
              "      <td>0.117708</td>\n",
              "      <td>0.151717</td>\n",
              "      <td>0.269880</td>\n",
              "      <td>0.281045</td>\n",
              "      <td>0.341255</td>\n",
              "      <td>0.336829</td>\n",
              "      <td>...</td>\n",
              "      <td>0.322095</td>\n",
              "      <td>0.323567</td>\n",
              "      <td>0.322120</td>\n",
              "      <td>0.298718</td>\n",
              "      <td>0.626114</td>\n",
              "      <td>0.303172</td>\n",
              "      <td>0.393962</td>\n",
              "      <td>0.293908</td>\n",
              "      <td>0.259345</td>\n",
              "      <td>0.290426</td>\n",
              "    </tr>\n",
              "    <tr>\n",
              "      <th>AADI</th>\n",
              "      <td>-1.328732</td>\n",
              "      <td>-1.842666</td>\n",
              "      <td>-0.962857</td>\n",
              "      <td>-1.377674</td>\n",
              "      <td>-1.194699</td>\n",
              "      <td>-1.531664</td>\n",
              "      <td>-1.492771</td>\n",
              "      <td>-1.286886</td>\n",
              "      <td>-1.405183</td>\n",
              "      <td>-1.301660</td>\n",
              "      <td>...</td>\n",
              "      <td>-1.559719</td>\n",
              "      <td>-1.209913</td>\n",
              "      <td>-1.507776</td>\n",
              "      <td>-1.488106</td>\n",
              "      <td>-1.898374</td>\n",
              "      <td>-1.458233</td>\n",
              "      <td>-1.565765</td>\n",
              "      <td>-1.389038</td>\n",
              "      <td>-1.298695</td>\n",
              "      <td>-1.396177</td>\n",
              "    </tr>\n",
              "    <tr>\n",
              "      <th>AAIC</th>\n",
              "      <td>0.297681</td>\n",
              "      <td>2.981762</td>\n",
              "      <td>0.089403</td>\n",
              "      <td>0.381781</td>\n",
              "      <td>0.412266</td>\n",
              "      <td>0.298492</td>\n",
              "      <td>0.275337</td>\n",
              "      <td>0.275040</td>\n",
              "      <td>0.279732</td>\n",
              "      <td>0.333327</td>\n",
              "      <td>...</td>\n",
              "      <td>0.321817</td>\n",
              "      <td>0.325378</td>\n",
              "      <td>0.319755</td>\n",
              "      <td>0.307327</td>\n",
              "      <td>0.453940</td>\n",
              "      <td>0.303913</td>\n",
              "      <td>0.348626</td>\n",
              "      <td>0.307179</td>\n",
              "      <td>0.279705</td>\n",
              "      <td>0.304476</td>\n",
              "    </tr>\n",
              "    <tr>\n",
              "      <th>AAL</th>\n",
              "      <td>-0.659490</td>\n",
              "      <td>-2.965192</td>\n",
              "      <td>0.424770</td>\n",
              "      <td>0.254553</td>\n",
              "      <td>0.270742</td>\n",
              "      <td>0.256534</td>\n",
              "      <td>0.300733</td>\n",
              "      <td>0.300509</td>\n",
              "      <td>0.340131</td>\n",
              "      <td>0.332326</td>\n",
              "      <td>...</td>\n",
              "      <td>0.316456</td>\n",
              "      <td>0.332708</td>\n",
              "      <td>0.318068</td>\n",
              "      <td>0.329193</td>\n",
              "      <td>0.608879</td>\n",
              "      <td>0.315767</td>\n",
              "      <td>0.372209</td>\n",
              "      <td>0.306310</td>\n",
              "      <td>0.275149</td>\n",
              "      <td>0.296512</td>\n",
              "    </tr>\n",
              "    <tr>\n",
              "      <th>...</th>\n",
              "      <th>...</th>\n",
              "      <td>...</td>\n",
              "      <td>...</td>\n",
              "      <td>...</td>\n",
              "      <td>...</td>\n",
              "      <td>...</td>\n",
              "      <td>...</td>\n",
              "      <td>...</td>\n",
              "      <td>...</td>\n",
              "      <td>...</td>\n",
              "      <td>...</td>\n",
              "      <td>...</td>\n",
              "      <td>...</td>\n",
              "      <td>...</td>\n",
              "      <td>...</td>\n",
              "      <td>...</td>\n",
              "      <td>...</td>\n",
              "      <td>...</td>\n",
              "      <td>...</td>\n",
              "      <td>...</td>\n",
              "      <td>...</td>\n",
              "      <td>...</td>\n",
              "    </tr>\n",
              "    <tr>\n",
              "      <th rowspan=\"5\" valign=\"top\">2019-12-27</th>\n",
              "      <th>ZUO</th>\n",
              "      <td>-0.126787</td>\n",
              "      <td>-0.009605</td>\n",
              "      <td>0.001154</td>\n",
              "      <td>0.025288</td>\n",
              "      <td>0.036062</td>\n",
              "      <td>0.020983</td>\n",
              "      <td>0.028174</td>\n",
              "      <td>0.024564</td>\n",
              "      <td>0.015017</td>\n",
              "      <td>0.017405</td>\n",
              "      <td>...</td>\n",
              "      <td>-0.003368</td>\n",
              "      <td>0.007164</td>\n",
              "      <td>0.009423</td>\n",
              "      <td>0.006905</td>\n",
              "      <td>0.007982</td>\n",
              "      <td>0.008723</td>\n",
              "      <td>0.006857</td>\n",
              "      <td>0.009580</td>\n",
              "      <td>0.006314</td>\n",
              "      <td>0.012547</td>\n",
              "    </tr>\n",
              "    <tr>\n",
              "      <th>ZVRA</th>\n",
              "      <td>-0.485836</td>\n",
              "      <td>-0.268491</td>\n",
              "      <td>-0.027064</td>\n",
              "      <td>0.027107</td>\n",
              "      <td>0.043426</td>\n",
              "      <td>0.011752</td>\n",
              "      <td>0.021900</td>\n",
              "      <td>0.025650</td>\n",
              "      <td>0.024678</td>\n",
              "      <td>0.024838</td>\n",
              "      <td>...</td>\n",
              "      <td>-0.002937</td>\n",
              "      <td>0.009489</td>\n",
              "      <td>0.010290</td>\n",
              "      <td>0.007870</td>\n",
              "      <td>0.008098</td>\n",
              "      <td>0.008320</td>\n",
              "      <td>0.007220</td>\n",
              "      <td>0.011311</td>\n",
              "      <td>0.007730</td>\n",
              "      <td>0.012445</td>\n",
              "    </tr>\n",
              "    <tr>\n",
              "      <th>ZWS</th>\n",
              "      <td>-0.015085</td>\n",
              "      <td>-0.023858</td>\n",
              "      <td>0.017088</td>\n",
              "      <td>0.035486</td>\n",
              "      <td>0.035245</td>\n",
              "      <td>0.010735</td>\n",
              "      <td>0.020892</td>\n",
              "      <td>0.020042</td>\n",
              "      <td>0.014949</td>\n",
              "      <td>0.018891</td>\n",
              "      <td>...</td>\n",
              "      <td>-0.002961</td>\n",
              "      <td>0.007963</td>\n",
              "      <td>0.009845</td>\n",
              "      <td>0.007388</td>\n",
              "      <td>0.008004</td>\n",
              "      <td>0.008567</td>\n",
              "      <td>0.007078</td>\n",
              "      <td>0.010279</td>\n",
              "      <td>0.007313</td>\n",
              "      <td>0.012656</td>\n",
              "    </tr>\n",
              "    <tr>\n",
              "      <th>ZYME</th>\n",
              "      <td>-0.130669</td>\n",
              "      <td>0.053675</td>\n",
              "      <td>0.027365</td>\n",
              "      <td>0.033928</td>\n",
              "      <td>0.031878</td>\n",
              "      <td>0.014364</td>\n",
              "      <td>0.019338</td>\n",
              "      <td>0.013764</td>\n",
              "      <td>0.011871</td>\n",
              "      <td>0.016113</td>\n",
              "      <td>...</td>\n",
              "      <td>-0.002940</td>\n",
              "      <td>0.007529</td>\n",
              "      <td>0.009540</td>\n",
              "      <td>0.007114</td>\n",
              "      <td>0.007890</td>\n",
              "      <td>0.008619</td>\n",
              "      <td>0.006868</td>\n",
              "      <td>0.009687</td>\n",
              "      <td>0.006690</td>\n",
              "      <td>0.012711</td>\n",
              "    </tr>\n",
              "    <tr>\n",
              "      <th>ZYXI</th>\n",
              "      <td>0.106575</td>\n",
              "      <td>0.044895</td>\n",
              "      <td>0.023050</td>\n",
              "      <td>0.030492</td>\n",
              "      <td>0.035902</td>\n",
              "      <td>0.009103</td>\n",
              "      <td>0.019475</td>\n",
              "      <td>0.018767</td>\n",
              "      <td>0.016591</td>\n",
              "      <td>0.020396</td>\n",
              "      <td>...</td>\n",
              "      <td>-0.003608</td>\n",
              "      <td>0.007362</td>\n",
              "      <td>0.009630</td>\n",
              "      <td>0.007043</td>\n",
              "      <td>0.008035</td>\n",
              "      <td>0.008694</td>\n",
              "      <td>0.006999</td>\n",
              "      <td>0.010037</td>\n",
              "      <td>0.006613</td>\n",
              "      <td>0.012590</td>\n",
              "    </tr>\n",
              "  </tbody>\n",
              "</table>\n",
              "<p>994500 rows × 30 columns</p>\n",
              "</div>"
            ],
            "text/plain": [
              "                         50        51        52        53        54        55  \\\n",
              "date       ticker                                                               \n",
              "2015-01-09 A       0.163845  2.253947  0.127273  0.331235  0.368946  0.274428   \n",
              "           AA      0.118959 -1.111887  0.648148  0.384320  0.117708  0.151717   \n",
              "           AADI   -1.328732 -1.842666 -0.962857 -1.377674 -1.194699 -1.531664   \n",
              "           AAIC    0.297681  2.981762  0.089403  0.381781  0.412266  0.298492   \n",
              "           AAL    -0.659490 -2.965192  0.424770  0.254553  0.270742  0.256534   \n",
              "...                     ...       ...       ...       ...       ...       ...   \n",
              "2019-12-27 ZUO    -0.126787 -0.009605  0.001154  0.025288  0.036062  0.020983   \n",
              "           ZVRA   -0.485836 -0.268491 -0.027064  0.027107  0.043426  0.011752   \n",
              "           ZWS    -0.015085 -0.023858  0.017088  0.035486  0.035245  0.010735   \n",
              "           ZYME   -0.130669  0.053675  0.027365  0.033928  0.031878  0.014364   \n",
              "           ZYXI    0.106575  0.044895  0.023050  0.030492  0.035902  0.009103   \n",
              "\n",
              "                         56        57        58        59  ...        70  \\\n",
              "date       ticker                                          ...             \n",
              "2015-01-09 A       0.278209  0.280361  0.293108  0.332145  ...  0.317030   \n",
              "           AA      0.269880  0.281045  0.341255  0.336829  ...  0.322095   \n",
              "           AADI   -1.492771 -1.286886 -1.405183 -1.301660  ... -1.559719   \n",
              "           AAIC    0.275337  0.275040  0.279732  0.333327  ...  0.321817   \n",
              "           AAL     0.300733  0.300509  0.340131  0.332326  ...  0.316456   \n",
              "...                     ...       ...       ...       ...  ...       ...   \n",
              "2019-12-27 ZUO     0.028174  0.024564  0.015017  0.017405  ... -0.003368   \n",
              "           ZVRA    0.021900  0.025650  0.024678  0.024838  ... -0.002937   \n",
              "           ZWS     0.020892  0.020042  0.014949  0.018891  ... -0.002961   \n",
              "           ZYME    0.019338  0.013764  0.011871  0.016113  ... -0.002940   \n",
              "           ZYXI    0.019475  0.018767  0.016591  0.020396  ... -0.003608   \n",
              "\n",
              "                         71        72        73        74        75        76  \\\n",
              "date       ticker                                                               \n",
              "2015-01-09 A       0.339076  0.322740  0.326238  0.550870  0.299175  0.348998   \n",
              "           AA      0.323567  0.322120  0.298718  0.626114  0.303172  0.393962   \n",
              "           AADI   -1.209913 -1.507776 -1.488106 -1.898374 -1.458233 -1.565765   \n",
              "           AAIC    0.325378  0.319755  0.307327  0.453940  0.303913  0.348626   \n",
              "           AAL     0.332708  0.318068  0.329193  0.608879  0.315767  0.372209   \n",
              "...                     ...       ...       ...       ...       ...       ...   \n",
              "2019-12-27 ZUO     0.007164  0.009423  0.006905  0.007982  0.008723  0.006857   \n",
              "           ZVRA    0.009489  0.010290  0.007870  0.008098  0.008320  0.007220   \n",
              "           ZWS     0.007963  0.009845  0.007388  0.008004  0.008567  0.007078   \n",
              "           ZYME    0.007529  0.009540  0.007114  0.007890  0.008619  0.006868   \n",
              "           ZYXI    0.007362  0.009630  0.007043  0.008035  0.008694  0.006999   \n",
              "\n",
              "                         77        78        79  \n",
              "date       ticker                                \n",
              "2015-01-09 A       0.324916  0.282634  0.308473  \n",
              "           AA      0.293908  0.259345  0.290426  \n",
              "           AADI   -1.389038 -1.298695 -1.396177  \n",
              "           AAIC    0.307179  0.279705  0.304476  \n",
              "           AAL     0.306310  0.275149  0.296512  \n",
              "...                     ...       ...       ...  \n",
              "2019-12-27 ZUO     0.009580  0.006314  0.012547  \n",
              "           ZVRA    0.011311  0.007730  0.012445  \n",
              "           ZWS     0.010279  0.007313  0.012656  \n",
              "           ZYME    0.009687  0.006690  0.012711  \n",
              "           ZYXI    0.010037  0.006613  0.012590  \n",
              "\n",
              "[994500 rows x 30 columns]"
            ]
          },
          "execution_count": 61,
          "metadata": {},
          "output_type": "execute_result"
        }
      ],
      "source": [
        "predictions_combined"
      ]
    },
    {
      "cell_type": "code",
      "execution_count": null,
      "metadata": {},
      "outputs": [],
      "source": []
    }
  ],
  "metadata": {
    "colab": {
      "collapsed_sections": [
        "ntThvUmmHWNQ"
      ],
      "provenance": []
    },
    "gpuClass": "standard",
    "kernelspec": {
      "display_name": "Python 3",
      "language": "python",
      "name": "python3"
    },
    "language_info": {
      "codemirror_mode": {
        "name": "ipython",
        "version": 3
      },
      "file_extension": ".py",
      "mimetype": "text/x-python",
      "name": "python",
      "nbconvert_exporter": "python",
      "pygments_lexer": "ipython3",
      "version": "3.8.8"
    },
    "toc": {
      "base_numbering": 1,
      "nav_menu": {},
      "number_sections": true,
      "sideBar": true,
      "skip_h1_title": true,
      "title_cell": "Table of Contents",
      "title_sidebar": "Contents",
      "toc_cell": false,
      "toc_position": {
        "height": "calc(100% - 180px)",
        "left": "10px",
        "top": "150px",
        "width": "304px"
      },
      "toc_section_display": true,
      "toc_window_display": true
    }
  },
  "nbformat": 4,
  "nbformat_minor": 0
}
