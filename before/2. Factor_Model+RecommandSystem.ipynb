{
 "cells": [
  {
   "cell_type": "code",
   "execution_count": 1,
   "metadata": {},
   "outputs": [
    {
     "name": "stdout",
     "output_type": "stream",
     "text": [
      "0 : error=5.8875\n",
      "10 : error=2.2817\n",
      "20 : error=0.9308\n",
      "30 : error=0.4867\n",
      "40 : error=0.2977\n",
      "50 : error=0.1907\n",
      "60 : error=0.1227\n",
      "70 : error=0.0788\n",
      "80 : error=0.0508\n",
      "90 : error=0.0332\n",
      "100 : error=0.0224\n",
      "110 : error=0.0157\n",
      "120 : error=0.0116\n",
      "130 : error=0.0089\n",
      "140 : error=0.0072\n",
      "150 : error=0.0059\n"
     ]
    },
    {
     "data": {
      "image/png": "[encoded data removed]",
      "text/plain": [
       "<Figure size 640x480 with 1 Axes>"
      ]
     },
     "metadata": {},
     "output_type": "display_data"
    },
    {
     "name": "stdout",
     "output_type": "stream",
     "text": [
      "\n",
      "R :\n",
      "[[ 4. nan nan  2. nan]\n",
      " [nan  5. nan  3.  1.]\n",
      " [nan nan  3.  4.  4.]\n",
      " [ 5.  2.  1.  2. nan]]\n",
      "\n",
      "Estimated R :\n",
      "[[4.02 2.63 1.37 1.93 1.9 ]\n",
      " [3.87 4.99 2.23 2.91 1.09]\n",
      " [8.39 5.61 2.91 4.09 3.93]\n",
      " [4.96 1.99 1.14 1.94 2.64]]\n",
      "\n",
      "F :\n",
      "[[ 0.53  0.57  1.14]\n",
      " [ 2.    0.28  0.78]\n",
      " [ 1.17  1.19  2.35]\n",
      " [-0.05  1.14  1.32]]\n",
      "\n",
      "B :\n",
      "[[ 0.79  1.97  0.79  1.01 -0.08]\n",
      " [ 1.71  0.51  0.15  0.75  0.79]\n",
      " [ 2.32  1.14  0.77  0.86  1.32]]\n"
     ]
    }
   ],
   "source": [
    "# 행렬 분해 : R = F * B\n",
    "# NaN이 포함된 R이 주어졌을 때 행렬 F, B를 추정한다. (by Stochastic Gradient Descent)\n",
    "import numpy as np\n",
    "import numba as nb\n",
    "import matplotlib.pyplot as plt\n",
    "\n",
    "# User-item matrix\n",
    "N = np.NaN\n",
    "R = np.array([[4, N, N, 2, N],\n",
    "              [N, 5, N, 3, 1],\n",
    "              [N, N, 3, 4, 4],\n",
    "              [5, 2, 1, 2, N]])\n",
    "\n",
    "N_ROW = R.shape[0]\n",
    "N_COL = R.shape[1]\n",
    "\n",
    "@nb.jit\n",
    "# SGD로 행렬 F, B를 업데이트한다.\n",
    "def update_matrix(R, F, B, a, r):\n",
    "    for i in range(N_ROW):\n",
    "        for j in range(N_COL):\n",
    "            if np.isnan(R[i, j]) != True:  # nan이 아니면\n",
    "                # error 항을 계산한다.\n",
    "                eij = R[i, j] - np.dot(F[i, :], B[j, :])\n",
    "                \n",
    "                # update F, B\n",
    "                F[i, :] += a * (eij * B[j, :] - r * F[i, :])\n",
    "                B[j, :] += a * (eij * F[i, :] - r * B[j, :])\n",
    "\n",
    "@nb.jit\n",
    "# NaN이 포함된 행렬의 mean_squared_error를 계산한다. 행렬 x에는 NaN이 포함돼 있다. y에는 없다.\n",
    "def mse_skip_nan(x, y):\n",
    "    mse = 0.0\n",
    "    cnt = 0\n",
    "    for i in range(x.shape[0]):\n",
    "        for j in range(x.shape[1]):\n",
    "            if np.isnan(x[i, j]) != True:  # nan이 아니면\n",
    "                mse += (x[i, j] - y[i, j]) ** 2\n",
    "                cnt += 1\n",
    "    return mse / cnt\n",
    "\n",
    "# SGD로 행렬을 F, B로 분해한다.\n",
    "def factorize_matrix(matR, k, max_iter=1000, alpha=0.01, gamma=0.01, err_limit=1e-4):\n",
    "    # F, B를 random 초기화한다.\n",
    "    F = np.random.rand(N_ROW, k)  # factor matrix\n",
    "    B = np.random.rand(N_COL, k)  # beta matrix.\n",
    "\n",
    "    old_err = 9999   # error 초깃값\n",
    "    err_hist = []    # error history\n",
    "    for step in range(max_iter):\n",
    "        # F, B를 업데이트한다.\n",
    "        update_matrix(matR, F, B, alpha, gamma)\n",
    "\n",
    "        # error를 계산하고 저장해 둔다.\n",
    "        err = mse_skip_nan(matR, np.dot(F, B.T))\n",
    "        err_hist.append(err)\n",
    "\n",
    "        # early stopping\n",
    "        if np.abs(old_err - err) < err_limit:\n",
    "            break\n",
    "        \n",
    "        old_err = err\n",
    "\n",
    "        if step % 10 == 0:\n",
    "            print('{} : error={:.4f}'.format(step, err))\n",
    "\n",
    "    if step >= max_iter - 1:\n",
    "        print('max_iter={}번 동안 stop하지 못했습니다.'.format(max_iter))\n",
    "        print('max_iter를 늘리거나 err_limit을 늘려야 합니다.')\n",
    "\n",
    "    return F, B.T, err_hist\n",
    "\n",
    "K = 3               # number of factors\n",
    "F, B, err = factorize_matrix(R, K)\n",
    "ER = np.dot(F, B)   # estimated R\n",
    "\n",
    "# error history를 관찰한다.\n",
    "plt.plot(err, label='error')\n",
    "plt.legend()\n",
    "plt.title('error history')\n",
    "plt.show()\n",
    "\n",
    "print('\\nR :')\n",
    "print(np.round(R, 2))\n",
    "print('\\nEstimated R :')\n",
    "print(np.round(ER, 2))   \n",
    "print('\\nF :')\n",
    "print(np.round(F, 2))\n",
    "print('\\nB :')\n",
    "print(np.round(B, 2))"
   ]
  },
  {
   "cell_type": "code",
   "execution_count": null,
   "metadata": {},
   "outputs": [],
   "source": []
  }
 ],
 "metadata": {
  "kernelspec": {
   "display_name": "capston",
   "language": "python",
   "name": "python3"
  },
  "language_info": {
   "codemirror_mode": {
    "name": "ipython",
    "version": 3
   },
   "file_extension": ".py",
   "mimetype": "text/x-python",
   "name": "python",
   "nbconvert_exporter": "python",
   "pygments_lexer": "ipython3",
   "version": "3.8.8 (tags/v3.8.8:024d805, Feb 19 2021, 13:18:16) [MSC v.1928 64 bit (AMD64)]"
  },
  "orig_nbformat": 4,
  "vscode": {
   "interpreter": {
    "hash": "3e92cb3438ac5a2ba93d20cf77dd07233f697b2e8ce15adb540e48dbed9929b8"
   }
  }
 },
 "nbformat": 4,
 "nbformat_minor": 2
}
