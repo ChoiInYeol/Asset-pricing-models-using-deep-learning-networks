{
 "cells": [
  {
   "cell_type": "markdown",
   "metadata": {},
   "source": [
    "# Download historical equity data for NASDAQ stocks from yahoo finance"
   ]
  },
  {
   "cell_type": "code",
   "execution_count": 1,
   "metadata": {
    "ExecuteTime": {
     "end_time": "2021-02-24T03:35:10.028380Z",
     "start_time": "2021-02-24T03:35:10.026213Z"
    }
   },
   "outputs": [],
   "source": [
    "import warnings\n",
    "warnings.filterwarnings('ignore')"
   ]
  },
  {
   "cell_type": "code",
   "execution_count": 2,
   "metadata": {
    "ExecuteTime": {
     "end_time": "2021-02-24T03:35:10.259404Z",
     "start_time": "2021-02-24T03:35:10.030004Z"
    }
   },
   "outputs": [],
   "source": [
    "from time import time\n",
    "from tqdm import tqdm\n",
    "from pathlib import Path\n",
    "import pandas as pd\n",
    "\n",
    "from pandas_datareader.nasdaq_trader import get_nasdaq_symbols\n",
    "import yfinance as yf"
   ]
  },
  {
   "cell_type": "code",
   "execution_count": 3,
   "metadata": {
    "ExecuteTime": {
     "end_time": "2021-02-24T03:35:10.263767Z",
     "start_time": "2021-02-24T03:35:10.261678Z"
    }
   },
   "outputs": [],
   "source": [
    "idx = pd.IndexSlice"
   ]
  },
  {
   "cell_type": "code",
   "execution_count": 4,
   "metadata": {
    "ExecuteTime": {
     "end_time": "2021-02-24T03:35:10.273874Z",
     "start_time": "2021-02-24T03:35:10.264725Z"
    }
   },
   "outputs": [],
   "source": [
    "results_path = Path('results', 'asset_pricing')\n",
    "if not results_path.exists():\n",
    "    results_path.mkdir(parents=True)"
   ]
  },
  {
   "cell_type": "code",
   "execution_count": 5,
   "metadata": {
    "ExecuteTime": {
     "end_time": "2021-02-24T03:35:10.282293Z",
     "start_time": "2021-02-24T03:35:10.274735Z"
    }
   },
   "outputs": [],
   "source": [
    "def chunks(l, n): \n",
    "    for i in range(0, len(l), n):  \n",
    "        yield l[i:i + n] "
   ]
  },
  {
   "cell_type": "code",
   "execution_count": 6,
   "metadata": {
    "ExecuteTime": {
     "end_time": "2021-02-24T03:35:10.290666Z",
     "start_time": "2021-02-24T03:35:10.283784Z"
    }
   },
   "outputs": [],
   "source": [
    "def format_time(t):\n",
    "    \"\"\"Return a formatted time string 'HH:MM:SS\n",
    "    based on a numeric time() value\"\"\"\n",
    "    m, s = divmod(t, 60)\n",
    "    h, m = divmod(m, 60)\n",
    "    return f'{h:0>2.0f}:{m:0>2.0f}:{s:0>2.0f}'"
   ]
  },
  {
   "cell_type": "markdown",
   "metadata": {},
   "source": [
    "## Get NASDAQ symbols"
   ]
  },
  {
   "cell_type": "code",
   "execution_count": 7,
   "metadata": {
    "ExecuteTime": {
     "end_time": "2021-02-24T03:35:11.361462Z",
     "start_time": "2021-02-24T03:35:10.291640Z"
    }
   },
   "outputs": [],
   "source": [
    "traded_symbols = get_nasdaq_symbols()"
   ]
  },
  {
   "cell_type": "code",
   "execution_count": 8,
   "metadata": {
    "ExecuteTime": {
     "end_time": "2021-02-24T03:35:11.391531Z",
     "start_time": "2021-02-24T03:35:11.362436Z"
    }
   },
   "outputs": [
    {
     "name": "stdout",
     "output_type": "stream",
     "text": [
      "<class 'pandas.core.frame.DataFrame'>\n",
      "Index: 11529 entries, A to ZYXI\n",
      "Data columns (total 11 columns):\n",
      " #   Column            Non-Null Count  Dtype   \n",
      "---  ------            --------------  -----   \n",
      " 0   Nasdaq Traded     11529 non-null  bool    \n",
      " 1   Security Name     11529 non-null  object  \n",
      " 2   Listing Exchange  11529 non-null  category\n",
      " 3   Market Category   11529 non-null  object  \n",
      " 4   ETF               11529 non-null  bool    \n",
      " 5   Round Lot Size    11529 non-null  float64 \n",
      " 6   Test Issue        11529 non-null  bool    \n",
      " 7   Financial Status  5306 non-null   category\n",
      " 8   CQS Symbol        6223 non-null   object  \n",
      " 9   NASDAQ Symbol     11528 non-null  object  \n",
      " 10  NextShares        11529 non-null  bool    \n",
      "dtypes: bool(4), category(2), float64(1), object(4)\n",
      "memory usage: 608.4+ KB\n"
     ]
    }
   ],
   "source": [
    "traded_symbols.info()"
   ]
  },
  {
   "cell_type": "markdown",
   "metadata": {},
   "source": [
    "## Download metadata from yahoo finance"
   ]
  },
  {
   "cell_type": "markdown",
   "metadata": {},
   "source": [
    "### NASDAQ symbols"
   ]
  },
  {
   "cell_type": "code",
   "execution_count": 9,
   "metadata": {
    "ExecuteTime": {
     "end_time": "2021-02-24T03:35:11.396401Z",
     "start_time": "2021-02-24T03:35:11.392356Z"
    }
   },
   "outputs": [
    {
     "name": "stdout",
     "output_type": "stream",
     "text": [
      "# Symbols: 8,461\n"
     ]
    }
   ],
   "source": [
    "all_symbols = traded_symbols[~traded_symbols.ETF].index.unique().to_list()\n",
    "n = len(all_symbols)\n",
    "print(f'# Symbols: {n:,.0f}')"
   ]
  },
  {
   "cell_type": "code",
   "execution_count": 10,
   "metadata": {},
   "outputs": [
    {
     "data": {
      "text/plain": [
       "['A',\n",
       " 'AA',\n",
       " 'AAC',\n",
       " 'AAC.U',\n",
       " 'AAC.W',\n",
       " 'AACG',\n",
       " 'AACI',\n",
       " 'AACIU',\n",
       " 'AACIW',\n",
       " 'AACT.U',\n",
       " 'AADI',\n",
       " 'AAIC',\n",
       " 'AAIC$B',\n",
       " 'AAIC$C',\n",
       " 'AAIN',\n",
       " 'AAL',\n",
       " 'AAM$A',\n",
       " 'AAM$B',\n",
       " 'AAMC',\n",
       " 'AAME',\n",
       " 'AAN',\n",
       " 'AAOI',\n",
       " 'AAON',\n",
       " 'AAP',\n",
       " 'AAPL',\n",
       " 'AAT',\n",
       " 'AAU',\n",
       " 'AB',\n",
       " 'ABB',\n",
       " 'ABBV',\n",
       " 'ABC',\n",
       " 'ABCB',\n",
       " 'ABCL',\n",
       " 'ABCM',\n",
       " 'ABEO',\n",
       " 'ABEV',\n",
       " 'ABG',\n",
       " 'ABIO',\n",
       " 'ABM',\n",
       " 'ABNB',\n",
       " 'ABOS',\n",
       " 'ABR',\n",
       " 'ABR$D',\n",
       " 'ABR$E',\n",
       " 'ABR$F',\n",
       " 'ABSI',\n",
       " 'ABST',\n",
       " 'ABT',\n",
       " 'ABUS',\n",
       " 'ABVC',\n",
       " 'AC',\n",
       " 'ACA',\n",
       " 'ACAB',\n",
       " 'ACABU',\n",
       " 'ACABW',\n",
       " 'ACAC',\n",
       " 'ACACU',\n",
       " 'ACACW',\n",
       " 'ACAD',\n",
       " 'ACAH',\n",
       " 'ACAHU',\n",
       " 'ACAHW',\n",
       " 'ACAQ',\n",
       " 'ACAQ.U',\n",
       " 'ACAQ.W',\n",
       " 'ACAX',\n",
       " 'ACAXR',\n",
       " 'ACAXU',\n",
       " 'ACAXW',\n",
       " 'ACB',\n",
       " 'ACBA',\n",
       " 'ACBAU',\n",
       " 'ACBAW',\n",
       " 'ACCD',\n",
       " 'ACCO',\n",
       " 'ACDC',\n",
       " 'ACDCW',\n",
       " 'ACEL',\n",
       " 'ACER',\n",
       " 'ACET',\n",
       " 'ACGL',\n",
       " 'ACGLN',\n",
       " 'ACGLO',\n",
       " 'ACGN',\n",
       " 'ACHC',\n",
       " 'ACHL',\n",
       " 'ACHR',\n",
       " 'ACHR.W',\n",
       " 'ACHV',\n",
       " 'ACI',\n",
       " 'ACIU',\n",
       " 'ACIW',\n",
       " 'ACLS',\n",
       " 'ACLX',\n",
       " 'ACM',\n",
       " 'ACMR',\n",
       " 'ACN',\n",
       " 'ACNB',\n",
       " 'ACNT',\n",
       " 'ACON',\n",
       " 'ACONW',\n",
       " 'ACOR',\n",
       " 'ACP',\n",
       " 'ACP$A',\n",
       " 'ACR',\n",
       " 'ACR$C',\n",
       " 'ACR$D',\n",
       " 'ACRE',\n",
       " 'ACRO',\n",
       " 'ACRO.U',\n",
       " 'ACRO.W',\n",
       " 'ACRS',\n",
       " 'ACRV',\n",
       " 'ACRX',\n",
       " 'ACST',\n",
       " 'ACT',\n",
       " 'ACTG',\n",
       " 'ACU',\n",
       " 'ACV',\n",
       " 'ACVA',\n",
       " 'ACXP',\n",
       " 'ADAG',\n",
       " 'ADAL',\n",
       " 'ADALU',\n",
       " 'ADALW',\n",
       " 'ADAP',\n",
       " 'ADBE',\n",
       " 'ADC',\n",
       " 'ADC$A',\n",
       " 'ADCT',\n",
       " 'ADD',\n",
       " 'ADEA',\n",
       " 'ADER',\n",
       " 'ADERU',\n",
       " 'ADERW',\n",
       " 'ADES',\n",
       " 'ADEX',\n",
       " 'ADEX.U',\n",
       " 'ADEX.W',\n",
       " 'ADI',\n",
       " 'ADIL',\n",
       " 'ADILW',\n",
       " 'ADM',\n",
       " 'ADMA',\n",
       " 'ADMP',\n",
       " 'ADN',\n",
       " 'ADNT',\n",
       " 'ADNWW',\n",
       " 'ADOC',\n",
       " 'ADOCR',\n",
       " 'ADOCW',\n",
       " 'ADP',\n",
       " 'ADPT',\n",
       " 'ADRT',\n",
       " 'ADRT.U',\n",
       " 'ADSE',\n",
       " 'ADSEW',\n",
       " 'ADSK',\n",
       " 'ADT',\n",
       " 'ADTH',\n",
       " 'ADTHW',\n",
       " 'ADTN',\n",
       " 'ADTX',\n",
       " 'ADUS',\n",
       " 'ADV',\n",
       " 'ADVM',\n",
       " 'ADVWW',\n",
       " 'ADX',\n",
       " 'ADXN',\n",
       " 'AE',\n",
       " 'AEAE',\n",
       " 'AEAEU',\n",
       " 'AEAEW',\n",
       " 'AEE',\n",
       " 'AEF',\n",
       " 'AEFC',\n",
       " 'AEG',\n",
       " 'AEHL',\n",
       " 'AEHR',\n",
       " 'AEI',\n",
       " 'AEIS',\n",
       " 'AEL',\n",
       " 'AEL$A',\n",
       " 'AEL$B',\n",
       " 'AEM',\n",
       " 'AEMD',\n",
       " 'AENZ',\n",
       " 'AEO',\n",
       " 'AEP',\n",
       " 'AEPPZ',\n",
       " 'AER',\n",
       " 'AES',\n",
       " 'AESC',\n",
       " 'AESI',\n",
       " 'AEVA',\n",
       " 'AEVA.W',\n",
       " 'AEY',\n",
       " 'AEYE',\n",
       " 'AEZS',\n",
       " 'AFAR',\n",
       " 'AFARU',\n",
       " 'AFARW',\n",
       " 'AFB',\n",
       " 'AFBI',\n",
       " 'AFCG',\n",
       " 'AFG',\n",
       " 'AFGB',\n",
       " 'AFGC',\n",
       " 'AFGD',\n",
       " 'AFGE',\n",
       " 'AFIB',\n",
       " 'AFL',\n",
       " 'AFMD',\n",
       " 'AFRI',\n",
       " 'AFRIW',\n",
       " 'AFRM',\n",
       " 'AFT',\n",
       " 'AFTR',\n",
       " 'AFTR.U',\n",
       " 'AFTR.W',\n",
       " 'AFYA',\n",
       " 'AG',\n",
       " 'AGAC',\n",
       " 'AGAC.U',\n",
       " 'AGAE',\n",
       " 'AGBA',\n",
       " 'AGBAW',\n",
       " 'AGCO',\n",
       " 'AGD',\n",
       " 'AGE',\n",
       " 'AGEN',\n",
       " 'AGFY',\n",
       " 'AGI',\n",
       " 'AGIL',\n",
       " 'AGILW',\n",
       " 'AGIO',\n",
       " 'AGL',\n",
       " 'AGLE',\n",
       " 'AGM',\n",
       " 'AGM$C',\n",
       " 'AGM$D',\n",
       " 'AGM$E',\n",
       " 'AGM$F',\n",
       " 'AGM$G',\n",
       " 'AGM.A',\n",
       " 'AGMH',\n",
       " 'AGNC',\n",
       " 'AGNCL',\n",
       " 'AGNCM',\n",
       " 'AGNCN',\n",
       " 'AGNCO',\n",
       " 'AGNCP',\n",
       " 'AGO',\n",
       " 'AGR',\n",
       " 'AGRI',\n",
       " 'AGRIW',\n",
       " 'AGRO',\n",
       " 'AGRX',\n",
       " 'AGS',\n",
       " 'AGTI',\n",
       " 'AGX',\n",
       " 'AGYS',\n",
       " 'AHCO',\n",
       " 'AHG',\n",
       " 'AHH',\n",
       " 'AHH$A',\n",
       " 'AHI',\n",
       " 'AHL$C',\n",
       " 'AHL$D',\n",
       " 'AHL$E',\n",
       " 'AHRN',\n",
       " 'AHRNU',\n",
       " 'AHRNW',\n",
       " 'AHT',\n",
       " 'AHT$D',\n",
       " 'AHT$F',\n",
       " 'AHT$G',\n",
       " 'AHT$H',\n",
       " 'AHT$I',\n",
       " 'AI',\n",
       " 'AIB',\n",
       " 'AIBBR',\n",
       " 'AIBBU',\n",
       " 'AIC',\n",
       " 'AIF',\n",
       " 'AIG',\n",
       " 'AIG$A',\n",
       " 'AIH',\n",
       " 'AIHS',\n",
       " 'AIM',\n",
       " 'AIMAU',\n",
       " 'AIMAW',\n",
       " 'AIMBU',\n",
       " 'AIMD',\n",
       " 'AIMDW',\n",
       " 'AIN',\n",
       " 'AINC',\n",
       " 'AIO',\n",
       " 'AIP',\n",
       " 'AIR',\n",
       " 'AIRC',\n",
       " 'AIRG',\n",
       " 'AIRI',\n",
       " 'AIRS',\n",
       " 'AIRT',\n",
       " 'AIRTP',\n",
       " 'AIT',\n",
       " 'AIU',\n",
       " 'AIV',\n",
       " 'AIXI',\n",
       " 'AIZ',\n",
       " 'AIZN',\n",
       " 'AJG',\n",
       " 'AJRD',\n",
       " 'AJX',\n",
       " 'AJXA',\n",
       " 'AKA',\n",
       " 'AKAM',\n",
       " 'AKAN',\n",
       " 'AKBA',\n",
       " 'AKLI',\n",
       " 'AKO.A',\n",
       " 'AKO.B',\n",
       " 'AKR',\n",
       " 'AKRO',\n",
       " 'AKTS',\n",
       " 'AKTX',\n",
       " 'AKU',\n",
       " 'AKYA',\n",
       " 'AL',\n",
       " 'AL$A',\n",
       " 'ALAR',\n",
       " 'ALB',\n",
       " 'ALBT',\n",
       " 'ALC',\n",
       " 'ALCC',\n",
       " 'ALCO',\n",
       " 'ALDX',\n",
       " 'ALE',\n",
       " 'ALEC',\n",
       " 'ALEX',\n",
       " 'ALG',\n",
       " 'ALGM',\n",
       " 'ALGN',\n",
       " 'ALGS',\n",
       " 'ALGT',\n",
       " 'ALHC',\n",
       " 'ALIM',\n",
       " 'ALIT',\n",
       " 'ALK',\n",
       " 'ALKS',\n",
       " 'ALKT',\n",
       " 'ALL',\n",
       " 'ALL$B',\n",
       " 'ALL$H',\n",
       " 'ALL$I',\n",
       " 'ALLE',\n",
       " 'ALLG',\n",
       " 'ALLG.W',\n",
       " 'ALLK',\n",
       " 'ALLO',\n",
       " 'ALLR',\n",
       " 'ALLT',\n",
       " 'ALLY',\n",
       " 'ALNY',\n",
       " 'ALOR',\n",
       " 'ALORU',\n",
       " 'ALORW',\n",
       " 'ALOT',\n",
       " 'ALPA',\n",
       " 'ALPAU',\n",
       " 'ALPAW',\n",
       " 'ALPN',\n",
       " 'ALPP',\n",
       " 'ALPS',\n",
       " 'ALRM',\n",
       " 'ALRN',\n",
       " 'ALRS',\n",
       " 'ALSA',\n",
       " 'ALSAR',\n",
       " 'ALSAU',\n",
       " 'ALSAW',\n",
       " 'ALSN',\n",
       " 'ALT',\n",
       " 'ALTG',\n",
       " 'ALTG$A',\n",
       " 'ALTI',\n",
       " 'ALTIW',\n",
       " 'ALTO',\n",
       " 'ALTR',\n",
       " 'ALTU',\n",
       " 'ALTUU',\n",
       " 'ALTUW',\n",
       " 'ALV',\n",
       " 'ALVO',\n",
       " 'ALVOW',\n",
       " 'ALVR',\n",
       " 'ALX',\n",
       " 'ALXO',\n",
       " 'ALYA',\n",
       " 'ALZN',\n",
       " 'AM',\n",
       " 'AMAL',\n",
       " 'AMAM',\n",
       " 'AMAO',\n",
       " 'AMAOU',\n",
       " 'AMAOW',\n",
       " 'AMAT',\n",
       " 'AMBA',\n",
       " 'AMBC',\n",
       " 'AMBI',\n",
       " 'AMBI.W',\n",
       " 'AMBO',\n",
       " 'AMBP',\n",
       " 'AMBP.W',\n",
       " 'AMC',\n",
       " 'AMCR',\n",
       " 'AMCX',\n",
       " 'AMD',\n",
       " 'AME',\n",
       " 'AMED',\n",
       " 'AMEH',\n",
       " 'AMG',\n",
       " 'AMGN',\n",
       " 'AMH',\n",
       " 'AMH$G',\n",
       " 'AMH$H',\n",
       " 'AMJ',\n",
       " 'AMK',\n",
       " 'AMKR',\n",
       " 'AMLI',\n",
       " 'AMLX',\n",
       " 'AMN',\n",
       " 'AMNB',\n",
       " 'AMOT',\n",
       " 'AMP',\n",
       " 'AMPE',\n",
       " 'AMPG',\n",
       " 'AMPGW',\n",
       " 'AMPH',\n",
       " 'AMPL',\n",
       " 'AMPS',\n",
       " 'AMPX',\n",
       " 'AMPX.W',\n",
       " 'AMPY',\n",
       " 'AMR',\n",
       " 'AMRC',\n",
       " 'AMRK',\n",
       " 'AMRN',\n",
       " 'AMRS',\n",
       " 'AMRX',\n",
       " 'AMS',\n",
       " 'AMSC',\n",
       " 'AMSF',\n",
       " 'AMST',\n",
       " 'AMSWA',\n",
       " 'AMT',\n",
       " 'AMTB',\n",
       " 'AMTD',\n",
       " 'AMTI',\n",
       " 'AMTR',\n",
       " 'AMTX',\n",
       " 'AMUB',\n",
       " 'AMV',\n",
       " 'AMWD',\n",
       " 'AMWL',\n",
       " 'AMX',\n",
       " 'AMZN',\n",
       " 'AN',\n",
       " 'ANAB',\n",
       " 'ANDE',\n",
       " 'ANEB',\n",
       " 'ANET',\n",
       " 'ANF',\n",
       " 'ANGH',\n",
       " 'ANGHW',\n",
       " 'ANGI',\n",
       " 'ANGN',\n",
       " 'ANGO',\n",
       " 'ANIK',\n",
       " 'ANIP',\n",
       " 'ANIX',\n",
       " 'ANNX',\n",
       " 'ANPC',\n",
       " 'ANSS',\n",
       " 'ANTE',\n",
       " 'ANTX',\n",
       " 'ANVS',\n",
       " 'ANY',\n",
       " 'ANZU',\n",
       " 'ANZUU',\n",
       " 'ANZUW',\n",
       " 'AOD',\n",
       " 'AOGO',\n",
       " 'AOGOU',\n",
       " 'AOGOW',\n",
       " 'AOMR',\n",
       " 'AON',\n",
       " 'AORT',\n",
       " 'AOS',\n",
       " 'AOSL',\n",
       " 'AOUT',\n",
       " 'AP',\n",
       " 'AP.W',\n",
       " 'APA',\n",
       " 'APAC',\n",
       " 'APACU',\n",
       " 'APACW',\n",
       " 'APAM',\n",
       " 'APCA',\n",
       " 'APCA.U',\n",
       " 'APCA.W',\n",
       " 'APCX',\n",
       " 'APCXW',\n",
       " 'APD',\n",
       " 'APDN',\n",
       " 'APE',\n",
       " 'APEI',\n",
       " 'APG',\n",
       " 'APGB',\n",
       " 'APGB.U',\n",
       " 'APGB.W',\n",
       " 'APGN',\n",
       " 'APGNW',\n",
       " 'APH',\n",
       " 'API',\n",
       " 'APLD',\n",
       " 'APLE',\n",
       " 'APLM',\n",
       " 'APLMW',\n",
       " 'APLS',\n",
       " 'APLT',\n",
       " 'APM',\n",
       " 'APMI',\n",
       " 'APMIU',\n",
       " 'APMIW',\n",
       " 'APO',\n",
       " 'APOG',\n",
       " 'APP',\n",
       " 'APPF',\n",
       " 'APPH',\n",
       " 'APPHW',\n",
       " 'APPN',\n",
       " 'APPS',\n",
       " 'APRE',\n",
       " 'APRN',\n",
       " 'APT',\n",
       " 'APTM',\n",
       " 'APTMU',\n",
       " 'APTMW',\n",
       " 'APTO',\n",
       " 'APTV',\n",
       " 'APTV$A',\n",
       " 'APTX',\n",
       " 'APVO',\n",
       " 'APWC',\n",
       " 'APXI',\n",
       " 'APXIU',\n",
       " 'APXIW',\n",
       " 'APYX',\n",
       " 'AQB',\n",
       " 'AQMS',\n",
       " 'AQN',\n",
       " 'AQNA',\n",
       " 'AQNB',\n",
       " 'AQNU',\n",
       " 'AQST',\n",
       " 'AQU',\n",
       " 'AQUA',\n",
       " 'AQUNR',\n",
       " 'AQUNU',\n",
       " 'AR',\n",
       " 'ARAV',\n",
       " 'ARAY',\n",
       " 'ARBB',\n",
       " 'ARBE',\n",
       " 'ARBEW',\n",
       " 'ARBG',\n",
       " 'ARBGU',\n",
       " 'ARBGW',\n",
       " 'ARBK',\n",
       " 'ARBKL',\n",
       " 'ARC',\n",
       " 'ARCB',\n",
       " 'ARCC',\n",
       " 'ARCE',\n",
       " 'ARCH',\n",
       " 'ARCO',\n",
       " 'ARCT',\n",
       " 'ARDC',\n",
       " 'ARDS',\n",
       " 'ARDX',\n",
       " 'ARE',\n",
       " 'AREB',\n",
       " 'AREBW',\n",
       " 'AREC',\n",
       " 'AREN',\n",
       " 'ARES',\n",
       " 'ARGD',\n",
       " 'ARGO',\n",
       " 'ARGO$A',\n",
       " 'ARGX',\n",
       " 'ARHS',\n",
       " 'ARI',\n",
       " 'ARIS',\n",
       " 'ARIZ',\n",
       " 'ARIZR',\n",
       " 'ARIZU',\n",
       " 'ARIZW',\n",
       " 'ARKO',\n",
       " 'ARKOW',\n",
       " 'ARKR',\n",
       " 'ARL',\n",
       " 'ARLO',\n",
       " 'ARLP',\n",
       " 'ARMK',\n",
       " 'ARMP',\n",
       " 'ARNC',\n",
       " 'AROC',\n",
       " 'AROW',\n",
       " 'ARQQ',\n",
       " 'ARQQW',\n",
       " 'ARQT',\n",
       " 'ARR',\n",
       " 'ARR$C',\n",
       " 'ARRW',\n",
       " 'ARRWU',\n",
       " 'ARRWW',\n",
       " 'ARRY',\n",
       " 'ARTE',\n",
       " 'ARTEU',\n",
       " 'ARTEW',\n",
       " 'ARTL',\n",
       " 'ARTLW',\n",
       " 'ARTNA',\n",
       " 'ARTW',\n",
       " 'ARVL',\n",
       " 'ARVN',\n",
       " 'ARW',\n",
       " 'ARWR',\n",
       " 'ARYD',\n",
       " 'ARYE',\n",
       " 'ASA',\n",
       " 'ASAI',\n",
       " 'ASAN',\n",
       " 'ASB',\n",
       " 'ASB$E',\n",
       " 'ASB$F',\n",
       " 'ASBA',\n",
       " 'ASC',\n",
       " 'ASCA',\n",
       " 'ASCAR',\n",
       " 'ASCAU',\n",
       " 'ASCAW',\n",
       " 'ASCB',\n",
       " 'ASCBR',\n",
       " 'ASCBU',\n",
       " 'ASCBW',\n",
       " 'ASG',\n",
       " 'ASGI',\n",
       " 'ASGN',\n",
       " 'ASH',\n",
       " 'ASIX',\n",
       " 'ASLE',\n",
       " 'ASLN',\n",
       " 'ASM',\n",
       " 'ASMB',\n",
       " 'ASML',\n",
       " 'ASND',\n",
       " 'ASNS',\n",
       " 'ASO',\n",
       " 'ASPA',\n",
       " 'ASPAU',\n",
       " 'ASPAW',\n",
       " 'ASPI',\n",
       " 'ASPN',\n",
       " 'ASPS',\n",
       " 'ASR',\n",
       " 'ASRT',\n",
       " 'ASRV',\n",
       " 'ASST',\n",
       " 'ASTC',\n",
       " 'ASTE',\n",
       " 'ASTI',\n",
       " 'ASTL',\n",
       " 'ASTLW',\n",
       " 'ASTR',\n",
       " 'ASTS',\n",
       " 'ASTSW',\n",
       " 'ASUR',\n",
       " 'ASX',\n",
       " 'ASXC',\n",
       " 'ASYS',\n",
       " 'ATAI',\n",
       " 'ATAK',\n",
       " 'ATAKR',\n",
       " 'ATAKU',\n",
       " 'ATAKW',\n",
       " 'ATAQ',\n",
       " 'ATAQ.U',\n",
       " 'ATAT',\n",
       " 'ATCO$D',\n",
       " 'ATCO$H',\n",
       " 'ATCO$I',\n",
       " 'ATCOL',\n",
       " 'ATEC',\n",
       " 'ATEK',\n",
       " 'ATEK.U',\n",
       " 'ATEK.W',\n",
       " 'ATEN',\n",
       " 'ATER',\n",
       " 'ATEST',\n",
       " 'ATEST.A',\n",
       " 'ATEST.B',\n",
       " 'ATEST.C',\n",
       " 'ATEX',\n",
       " 'ATGE',\n",
       " 'ATH$A',\n",
       " 'ATH$B',\n",
       " 'ATH$C',\n",
       " 'ATH$D',\n",
       " 'ATH$E',\n",
       " 'ATHA',\n",
       " 'ATHE',\n",
       " 'ATHM',\n",
       " 'ATHX',\n",
       " 'ATI',\n",
       " 'ATIF',\n",
       " 'ATIP',\n",
       " 'ATIP.W',\n",
       " 'ATKR',\n",
       " 'ATLC',\n",
       " 'ATLCL',\n",
       " 'ATLCP',\n",
       " 'ATLO',\n",
       " 'ATLX',\n",
       " 'ATMC',\n",
       " 'ATMCR',\n",
       " 'ATMCU',\n",
       " 'ATMCW',\n",
       " 'ATMP',\n",
       " 'ATMV',\n",
       " 'ATMVR',\n",
       " 'ATMVU',\n",
       " 'ATNF',\n",
       " 'ATNFW',\n",
       " 'ATNI',\n",
       " 'ATNM',\n",
       " 'ATNX',\n",
       " 'ATO',\n",
       " 'ATOM',\n",
       " 'ATOS',\n",
       " 'ATR',\n",
       " 'ATRA',\n",
       " 'ATRC',\n",
       " 'ATRI',\n",
       " 'ATRO',\n",
       " 'ATSG',\n",
       " 'ATTO',\n",
       " 'ATUS',\n",
       " 'ATVI',\n",
       " 'ATXG',\n",
       " 'ATXI',\n",
       " 'ATXS',\n",
       " 'AU',\n",
       " 'AUB',\n",
       " 'AUB$A',\n",
       " 'AUBN',\n",
       " 'AUD',\n",
       " 'AUDC',\n",
       " 'AUGX',\n",
       " 'AUID',\n",
       " 'AULT',\n",
       " 'AULT$D',\n",
       " 'AUMN',\n",
       " 'AUPH',\n",
       " 'AUR',\n",
       " 'AURA',\n",
       " 'AURC',\n",
       " 'AURCU',\n",
       " 'AURCW',\n",
       " 'AUROW',\n",
       " 'AUST',\n",
       " 'AUTL',\n",
       " 'AUUD',\n",
       " 'AUUDW',\n",
       " 'AUVI',\n",
       " 'AUVIP',\n",
       " 'AVA',\n",
       " 'AVAC',\n",
       " 'AVACU',\n",
       " 'AVACW',\n",
       " 'AVAH',\n",
       " 'AVAL',\n",
       " 'AVAV',\n",
       " 'AVB',\n",
       " 'AVD',\n",
       " 'AVDL',\n",
       " 'AVDX',\n",
       " 'AVGO',\n",
       " 'AVGR',\n",
       " 'AVHI',\n",
       " 'AVHIU',\n",
       " 'AVHIW',\n",
       " 'AVID',\n",
       " 'AVIR',\n",
       " 'AVK',\n",
       " 'AVNS',\n",
       " 'AVNT',\n",
       " 'AVNW',\n",
       " 'AVO',\n",
       " 'AVPT',\n",
       " 'AVPTW',\n",
       " 'AVRO',\n",
       " 'AVT',\n",
       " 'AVTA',\n",
       " 'AVTE',\n",
       " 'AVTR',\n",
       " 'AVTX',\n",
       " 'AVXL',\n",
       " 'AVY',\n",
       " 'AWF',\n",
       " 'AWH',\n",
       " 'AWI',\n",
       " 'AWIN',\n",
       " 'AWINW',\n",
       " 'AWK',\n",
       " 'AWP',\n",
       " 'AWR',\n",
       " 'AWRE',\n",
       " 'AWX',\n",
       " 'AX',\n",
       " 'AXAC',\n",
       " 'AXAC.R',\n",
       " 'AXAC.W',\n",
       " 'AXDX',\n",
       " 'AXGN',\n",
       " 'AXL',\n",
       " 'AXLA',\n",
       " 'AXNX',\n",
       " 'AXON',\n",
       " 'AXP',\n",
       " 'AXR',\n",
       " 'AXS',\n",
       " 'AXS$E',\n",
       " 'AXSM',\n",
       " 'AXTA',\n",
       " 'AXTI',\n",
       " 'AY',\n",
       " 'AYI',\n",
       " 'AYRO',\n",
       " 'AYTU',\n",
       " 'AYX',\n",
       " 'AZ',\n",
       " 'AZEK',\n",
       " 'AZN',\n",
       " 'AZO',\n",
       " 'AZPN',\n",
       " 'AZRE',\n",
       " 'AZTA',\n",
       " 'AZUL',\n",
       " 'AZYO',\n",
       " 'AZZ',\n",
       " 'B',\n",
       " 'BA',\n",
       " 'BABA',\n",
       " 'BAC',\n",
       " 'BAC$B',\n",
       " 'BAC$E',\n",
       " 'BAC$K',\n",
       " 'BAC$L',\n",
       " 'BAC$M',\n",
       " 'BAC$N',\n",
       " 'BAC$O',\n",
       " 'BAC$P',\n",
       " 'BAC$Q',\n",
       " 'BAC$S',\n",
       " 'BACA',\n",
       " 'BACK',\n",
       " 'BAER',\n",
       " 'BAERW',\n",
       " 'BAFN',\n",
       " 'BAH',\n",
       " 'BAK',\n",
       " 'BAL',\n",
       " 'BALL',\n",
       " 'BALY',\n",
       " 'BAM',\n",
       " 'BANC',\n",
       " 'BAND',\n",
       " 'BANF',\n",
       " 'BANFP',\n",
       " 'BANL',\n",
       " 'BANR',\n",
       " 'BANX',\n",
       " 'BAOS',\n",
       " 'BAP',\n",
       " 'BAR',\n",
       " 'BARK',\n",
       " 'BARK.W',\n",
       " 'BASE',\n",
       " 'BATL',\n",
       " 'BATRA',\n",
       " 'BATRK',\n",
       " 'BAX',\n",
       " 'BB',\n",
       " 'BBAI',\n",
       " 'BBAI.W',\n",
       " 'BBAR',\n",
       " 'BBBY',\n",
       " 'BBCP',\n",
       " 'BBD',\n",
       " 'BBDC',\n",
       " 'BBDO',\n",
       " 'BBGI',\n",
       " 'BBIG',\n",
       " 'BBIO',\n",
       " 'BBLG',\n",
       " 'BBLGW',\n",
       " 'BBLN',\n",
       " 'BBN',\n",
       " 'BBSI',\n",
       " 'BBU',\n",
       " 'BBUC',\n",
       " 'BBVA',\n",
       " 'BBW',\n",
       " 'BBWI',\n",
       " 'BBY',\n",
       " 'BC',\n",
       " 'BC$A',\n",
       " 'BC$B',\n",
       " 'BC$C',\n",
       " 'BCAB',\n",
       " 'BCAN',\n",
       " 'BCAT',\n",
       " 'BCBP',\n",
       " 'BCC',\n",
       " 'BCDA',\n",
       " 'BCDAW',\n",
       " 'BCE',\n",
       " 'BCEL',\n",
       " 'BCH',\n",
       " 'BCLI',\n",
       " 'BCM',\n",
       " 'BCML',\n",
       " 'BCO',\n",
       " 'BCOV',\n",
       " 'BCOW',\n",
       " 'BCPC',\n",
       " 'BCRX',\n",
       " 'BCS',\n",
       " 'BCSA',\n",
       " 'BCSAU',\n",
       " 'BCSAW',\n",
       " 'BCSF',\n",
       " 'BCTX',\n",
       " 'BCTXW',\n",
       " 'BCV',\n",
       " 'BCV$A',\n",
       " 'BCX',\n",
       " 'BCYC',\n",
       " 'BDC',\n",
       " 'BDCZ',\n",
       " 'BDJ',\n",
       " 'BDL',\n",
       " 'BDN',\n",
       " 'BDRX',\n",
       " 'BDSX',\n",
       " 'BDTX',\n",
       " 'BDX',\n",
       " 'BDXB',\n",
       " 'BE',\n",
       " 'BEAM',\n",
       " 'BEAT',\n",
       " 'BEATW',\n",
       " 'BECN',\n",
       " 'BEDU',\n",
       " 'BEEM',\n",
       " 'BEEMW',\n",
       " 'BEKE',\n",
       " 'BELFA',\n",
       " 'BELFB',\n",
       " 'BEN',\n",
       " 'BEP',\n",
       " 'BEP$A',\n",
       " 'BEPC',\n",
       " 'BEPH',\n",
       " 'BEPI',\n",
       " 'BERY',\n",
       " 'BEST',\n",
       " 'BF.A',\n",
       " 'BF.B',\n",
       " 'BFAC',\n",
       " 'BFAC.U',\n",
       " 'BFAC.W',\n",
       " 'BFAM',\n",
       " 'BFC',\n",
       " 'BFH',\n",
       " 'BFI',\n",
       " 'BFIIW',\n",
       " ...]"
      ]
     },
     "execution_count": 10,
     "metadata": {},
     "output_type": "execute_result"
    }
   ],
   "source": [
    "all_symbols"
   ]
  },
  {
   "cell_type": "code",
   "execution_count": 11,
   "metadata": {},
   "outputs": [
    {
     "data": {
      "text/plain": [
       "'EIX'"
      ]
     },
     "execution_count": 11,
     "metadata": {},
     "output_type": "execute_result"
    }
   ],
   "source": [
    "str(all_symbols[2525])"
   ]
  },
  {
   "cell_type": "code",
   "execution_count": 12,
   "metadata": {},
   "outputs": [],
   "source": [
    "for i in range(len(all_symbols)):\n",
    "    all_symbols[i] = str(all_symbols[i]).replace(',', ' ')"
   ]
  },
  {
   "cell_type": "code",
   "execution_count": 13,
   "metadata": {},
   "outputs": [
    {
     "data": {
      "text/plain": [
       "['A',\n",
       " 'AA',\n",
       " 'AAC',\n",
       " 'AAC.U',\n",
       " 'AAC.W',\n",
       " 'AACG',\n",
       " 'AACI',\n",
       " 'AACIU',\n",
       " 'AACIW',\n",
       " 'AACT.U',\n",
       " 'AADI',\n",
       " 'AAIC',\n",
       " 'AAIC$B',\n",
       " 'AAIC$C',\n",
       " 'AAIN',\n",
       " 'AAL',\n",
       " 'AAM$A',\n",
       " 'AAM$B',\n",
       " 'AAMC',\n",
       " 'AAME',\n",
       " 'AAN',\n",
       " 'AAOI',\n",
       " 'AAON',\n",
       " 'AAP',\n",
       " 'AAPL',\n",
       " 'AAT',\n",
       " 'AAU',\n",
       " 'AB',\n",
       " 'ABB',\n",
       " 'ABBV',\n",
       " 'ABC',\n",
       " 'ABCB',\n",
       " 'ABCL',\n",
       " 'ABCM',\n",
       " 'ABEO',\n",
       " 'ABEV',\n",
       " 'ABG',\n",
       " 'ABIO',\n",
       " 'ABM',\n",
       " 'ABNB',\n",
       " 'ABOS',\n",
       " 'ABR',\n",
       " 'ABR$D',\n",
       " 'ABR$E',\n",
       " 'ABR$F',\n",
       " 'ABSI',\n",
       " 'ABST',\n",
       " 'ABT',\n",
       " 'ABUS',\n",
       " 'ABVC',\n",
       " 'AC',\n",
       " 'ACA',\n",
       " 'ACAB',\n",
       " 'ACABU',\n",
       " 'ACABW',\n",
       " 'ACAC',\n",
       " 'ACACU',\n",
       " 'ACACW',\n",
       " 'ACAD',\n",
       " 'ACAH',\n",
       " 'ACAHU',\n",
       " 'ACAHW',\n",
       " 'ACAQ',\n",
       " 'ACAQ.U',\n",
       " 'ACAQ.W',\n",
       " 'ACAX',\n",
       " 'ACAXR',\n",
       " 'ACAXU',\n",
       " 'ACAXW',\n",
       " 'ACB',\n",
       " 'ACBA',\n",
       " 'ACBAU',\n",
       " 'ACBAW',\n",
       " 'ACCD',\n",
       " 'ACCO',\n",
       " 'ACDC',\n",
       " 'ACDCW',\n",
       " 'ACEL',\n",
       " 'ACER',\n",
       " 'ACET',\n",
       " 'ACGL',\n",
       " 'ACGLN',\n",
       " 'ACGLO',\n",
       " 'ACGN',\n",
       " 'ACHC',\n",
       " 'ACHL',\n",
       " 'ACHR',\n",
       " 'ACHR.W',\n",
       " 'ACHV',\n",
       " 'ACI',\n",
       " 'ACIU',\n",
       " 'ACIW',\n",
       " 'ACLS',\n",
       " 'ACLX',\n",
       " 'ACM',\n",
       " 'ACMR',\n",
       " 'ACN',\n",
       " 'ACNB',\n",
       " 'ACNT',\n",
       " 'ACON',\n",
       " 'ACONW',\n",
       " 'ACOR',\n",
       " 'ACP',\n",
       " 'ACP$A',\n",
       " 'ACR',\n",
       " 'ACR$C',\n",
       " 'ACR$D',\n",
       " 'ACRE',\n",
       " 'ACRO',\n",
       " 'ACRO.U',\n",
       " 'ACRO.W',\n",
       " 'ACRS',\n",
       " 'ACRV',\n",
       " 'ACRX',\n",
       " 'ACST',\n",
       " 'ACT',\n",
       " 'ACTG',\n",
       " 'ACU',\n",
       " 'ACV',\n",
       " 'ACVA',\n",
       " 'ACXP',\n",
       " 'ADAG',\n",
       " 'ADAL',\n",
       " 'ADALU',\n",
       " 'ADALW',\n",
       " 'ADAP',\n",
       " 'ADBE',\n",
       " 'ADC',\n",
       " 'ADC$A',\n",
       " 'ADCT',\n",
       " 'ADD',\n",
       " 'ADEA',\n",
       " 'ADER',\n",
       " 'ADERU',\n",
       " 'ADERW',\n",
       " 'ADES',\n",
       " 'ADEX',\n",
       " 'ADEX.U',\n",
       " 'ADEX.W',\n",
       " 'ADI',\n",
       " 'ADIL',\n",
       " 'ADILW',\n",
       " 'ADM',\n",
       " 'ADMA',\n",
       " 'ADMP',\n",
       " 'ADN',\n",
       " 'ADNT',\n",
       " 'ADNWW',\n",
       " 'ADOC',\n",
       " 'ADOCR',\n",
       " 'ADOCW',\n",
       " 'ADP',\n",
       " 'ADPT',\n",
       " 'ADRT',\n",
       " 'ADRT.U',\n",
       " 'ADSE',\n",
       " 'ADSEW',\n",
       " 'ADSK',\n",
       " 'ADT',\n",
       " 'ADTH',\n",
       " 'ADTHW',\n",
       " 'ADTN',\n",
       " 'ADTX',\n",
       " 'ADUS',\n",
       " 'ADV',\n",
       " 'ADVM',\n",
       " 'ADVWW',\n",
       " 'ADX',\n",
       " 'ADXN',\n",
       " 'AE',\n",
       " 'AEAE',\n",
       " 'AEAEU',\n",
       " 'AEAEW',\n",
       " 'AEE',\n",
       " 'AEF',\n",
       " 'AEFC',\n",
       " 'AEG',\n",
       " 'AEHL',\n",
       " 'AEHR',\n",
       " 'AEI',\n",
       " 'AEIS',\n",
       " 'AEL',\n",
       " 'AEL$A',\n",
       " 'AEL$B',\n",
       " 'AEM',\n",
       " 'AEMD',\n",
       " 'AENZ',\n",
       " 'AEO',\n",
       " 'AEP',\n",
       " 'AEPPZ',\n",
       " 'AER',\n",
       " 'AES',\n",
       " 'AESC',\n",
       " 'AESI',\n",
       " 'AEVA',\n",
       " 'AEVA.W',\n",
       " 'AEY',\n",
       " 'AEYE',\n",
       " 'AEZS',\n",
       " 'AFAR',\n",
       " 'AFARU',\n",
       " 'AFARW',\n",
       " 'AFB',\n",
       " 'AFBI',\n",
       " 'AFCG',\n",
       " 'AFG',\n",
       " 'AFGB',\n",
       " 'AFGC',\n",
       " 'AFGD',\n",
       " 'AFGE',\n",
       " 'AFIB',\n",
       " 'AFL',\n",
       " 'AFMD',\n",
       " 'AFRI',\n",
       " 'AFRIW',\n",
       " 'AFRM',\n",
       " 'AFT',\n",
       " 'AFTR',\n",
       " 'AFTR.U',\n",
       " 'AFTR.W',\n",
       " 'AFYA',\n",
       " 'AG',\n",
       " 'AGAC',\n",
       " 'AGAC.U',\n",
       " 'AGAE',\n",
       " 'AGBA',\n",
       " 'AGBAW',\n",
       " 'AGCO',\n",
       " 'AGD',\n",
       " 'AGE',\n",
       " 'AGEN',\n",
       " 'AGFY',\n",
       " 'AGI',\n",
       " 'AGIL',\n",
       " 'AGILW',\n",
       " 'AGIO',\n",
       " 'AGL',\n",
       " 'AGLE',\n",
       " 'AGM',\n",
       " 'AGM$C',\n",
       " 'AGM$D',\n",
       " 'AGM$E',\n",
       " 'AGM$F',\n",
       " 'AGM$G',\n",
       " 'AGM.A',\n",
       " 'AGMH',\n",
       " 'AGNC',\n",
       " 'AGNCL',\n",
       " 'AGNCM',\n",
       " 'AGNCN',\n",
       " 'AGNCO',\n",
       " 'AGNCP',\n",
       " 'AGO',\n",
       " 'AGR',\n",
       " 'AGRI',\n",
       " 'AGRIW',\n",
       " 'AGRO',\n",
       " 'AGRX',\n",
       " 'AGS',\n",
       " 'AGTI',\n",
       " 'AGX',\n",
       " 'AGYS',\n",
       " 'AHCO',\n",
       " 'AHG',\n",
       " 'AHH',\n",
       " 'AHH$A',\n",
       " 'AHI',\n",
       " 'AHL$C',\n",
       " 'AHL$D',\n",
       " 'AHL$E',\n",
       " 'AHRN',\n",
       " 'AHRNU',\n",
       " 'AHRNW',\n",
       " 'AHT',\n",
       " 'AHT$D',\n",
       " 'AHT$F',\n",
       " 'AHT$G',\n",
       " 'AHT$H',\n",
       " 'AHT$I',\n",
       " 'AI',\n",
       " 'AIB',\n",
       " 'AIBBR',\n",
       " 'AIBBU',\n",
       " 'AIC',\n",
       " 'AIF',\n",
       " 'AIG',\n",
       " 'AIG$A',\n",
       " 'AIH',\n",
       " 'AIHS',\n",
       " 'AIM',\n",
       " 'AIMAU',\n",
       " 'AIMAW',\n",
       " 'AIMBU',\n",
       " 'AIMD',\n",
       " 'AIMDW',\n",
       " 'AIN',\n",
       " 'AINC',\n",
       " 'AIO',\n",
       " 'AIP',\n",
       " 'AIR',\n",
       " 'AIRC',\n",
       " 'AIRG',\n",
       " 'AIRI',\n",
       " 'AIRS',\n",
       " 'AIRT',\n",
       " 'AIRTP',\n",
       " 'AIT',\n",
       " 'AIU',\n",
       " 'AIV',\n",
       " 'AIXI',\n",
       " 'AIZ',\n",
       " 'AIZN',\n",
       " 'AJG',\n",
       " 'AJRD',\n",
       " 'AJX',\n",
       " 'AJXA',\n",
       " 'AKA',\n",
       " 'AKAM',\n",
       " 'AKAN',\n",
       " 'AKBA',\n",
       " 'AKLI',\n",
       " 'AKO.A',\n",
       " 'AKO.B',\n",
       " 'AKR',\n",
       " 'AKRO',\n",
       " 'AKTS',\n",
       " 'AKTX',\n",
       " 'AKU',\n",
       " 'AKYA',\n",
       " 'AL',\n",
       " 'AL$A',\n",
       " 'ALAR',\n",
       " 'ALB',\n",
       " 'ALBT',\n",
       " 'ALC',\n",
       " 'ALCC',\n",
       " 'ALCO',\n",
       " 'ALDX',\n",
       " 'ALE',\n",
       " 'ALEC',\n",
       " 'ALEX',\n",
       " 'ALG',\n",
       " 'ALGM',\n",
       " 'ALGN',\n",
       " 'ALGS',\n",
       " 'ALGT',\n",
       " 'ALHC',\n",
       " 'ALIM',\n",
       " 'ALIT',\n",
       " 'ALK',\n",
       " 'ALKS',\n",
       " 'ALKT',\n",
       " 'ALL',\n",
       " 'ALL$B',\n",
       " 'ALL$H',\n",
       " 'ALL$I',\n",
       " 'ALLE',\n",
       " 'ALLG',\n",
       " 'ALLG.W',\n",
       " 'ALLK',\n",
       " 'ALLO',\n",
       " 'ALLR',\n",
       " 'ALLT',\n",
       " 'ALLY',\n",
       " 'ALNY',\n",
       " 'ALOR',\n",
       " 'ALORU',\n",
       " 'ALORW',\n",
       " 'ALOT',\n",
       " 'ALPA',\n",
       " 'ALPAU',\n",
       " 'ALPAW',\n",
       " 'ALPN',\n",
       " 'ALPP',\n",
       " 'ALPS',\n",
       " 'ALRM',\n",
       " 'ALRN',\n",
       " 'ALRS',\n",
       " 'ALSA',\n",
       " 'ALSAR',\n",
       " 'ALSAU',\n",
       " 'ALSAW',\n",
       " 'ALSN',\n",
       " 'ALT',\n",
       " 'ALTG',\n",
       " 'ALTG$A',\n",
       " 'ALTI',\n",
       " 'ALTIW',\n",
       " 'ALTO',\n",
       " 'ALTR',\n",
       " 'ALTU',\n",
       " 'ALTUU',\n",
       " 'ALTUW',\n",
       " 'ALV',\n",
       " 'ALVO',\n",
       " 'ALVOW',\n",
       " 'ALVR',\n",
       " 'ALX',\n",
       " 'ALXO',\n",
       " 'ALYA',\n",
       " 'ALZN',\n",
       " 'AM',\n",
       " 'AMAL',\n",
       " 'AMAM',\n",
       " 'AMAO',\n",
       " 'AMAOU',\n",
       " 'AMAOW',\n",
       " 'AMAT',\n",
       " 'AMBA',\n",
       " 'AMBC',\n",
       " 'AMBI',\n",
       " 'AMBI.W',\n",
       " 'AMBO',\n",
       " 'AMBP',\n",
       " 'AMBP.W',\n",
       " 'AMC',\n",
       " 'AMCR',\n",
       " 'AMCX',\n",
       " 'AMD',\n",
       " 'AME',\n",
       " 'AMED',\n",
       " 'AMEH',\n",
       " 'AMG',\n",
       " 'AMGN',\n",
       " 'AMH',\n",
       " 'AMH$G',\n",
       " 'AMH$H',\n",
       " 'AMJ',\n",
       " 'AMK',\n",
       " 'AMKR',\n",
       " 'AMLI',\n",
       " 'AMLX',\n",
       " 'AMN',\n",
       " 'AMNB',\n",
       " 'AMOT',\n",
       " 'AMP',\n",
       " 'AMPE',\n",
       " 'AMPG',\n",
       " 'AMPGW',\n",
       " 'AMPH',\n",
       " 'AMPL',\n",
       " 'AMPS',\n",
       " 'AMPX',\n",
       " 'AMPX.W',\n",
       " 'AMPY',\n",
       " 'AMR',\n",
       " 'AMRC',\n",
       " 'AMRK',\n",
       " 'AMRN',\n",
       " 'AMRS',\n",
       " 'AMRX',\n",
       " 'AMS',\n",
       " 'AMSC',\n",
       " 'AMSF',\n",
       " 'AMST',\n",
       " 'AMSWA',\n",
       " 'AMT',\n",
       " 'AMTB',\n",
       " 'AMTD',\n",
       " 'AMTI',\n",
       " 'AMTR',\n",
       " 'AMTX',\n",
       " 'AMUB',\n",
       " 'AMV',\n",
       " 'AMWD',\n",
       " 'AMWL',\n",
       " 'AMX',\n",
       " 'AMZN',\n",
       " 'AN',\n",
       " 'ANAB',\n",
       " 'ANDE',\n",
       " 'ANEB',\n",
       " 'ANET',\n",
       " 'ANF',\n",
       " 'ANGH',\n",
       " 'ANGHW',\n",
       " 'ANGI',\n",
       " 'ANGN',\n",
       " 'ANGO',\n",
       " 'ANIK',\n",
       " 'ANIP',\n",
       " 'ANIX',\n",
       " 'ANNX',\n",
       " 'ANPC',\n",
       " 'ANSS',\n",
       " 'ANTE',\n",
       " 'ANTX',\n",
       " 'ANVS',\n",
       " 'ANY',\n",
       " 'ANZU',\n",
       " 'ANZUU',\n",
       " 'ANZUW',\n",
       " 'AOD',\n",
       " 'AOGO',\n",
       " 'AOGOU',\n",
       " 'AOGOW',\n",
       " 'AOMR',\n",
       " 'AON',\n",
       " 'AORT',\n",
       " 'AOS',\n",
       " 'AOSL',\n",
       " 'AOUT',\n",
       " 'AP',\n",
       " 'AP.W',\n",
       " 'APA',\n",
       " 'APAC',\n",
       " 'APACU',\n",
       " 'APACW',\n",
       " 'APAM',\n",
       " 'APCA',\n",
       " 'APCA.U',\n",
       " 'APCA.W',\n",
       " 'APCX',\n",
       " 'APCXW',\n",
       " 'APD',\n",
       " 'APDN',\n",
       " 'APE',\n",
       " 'APEI',\n",
       " 'APG',\n",
       " 'APGB',\n",
       " 'APGB.U',\n",
       " 'APGB.W',\n",
       " 'APGN',\n",
       " 'APGNW',\n",
       " 'APH',\n",
       " 'API',\n",
       " 'APLD',\n",
       " 'APLE',\n",
       " 'APLM',\n",
       " 'APLMW',\n",
       " 'APLS',\n",
       " 'APLT',\n",
       " 'APM',\n",
       " 'APMI',\n",
       " 'APMIU',\n",
       " 'APMIW',\n",
       " 'APO',\n",
       " 'APOG',\n",
       " 'APP',\n",
       " 'APPF',\n",
       " 'APPH',\n",
       " 'APPHW',\n",
       " 'APPN',\n",
       " 'APPS',\n",
       " 'APRE',\n",
       " 'APRN',\n",
       " 'APT',\n",
       " 'APTM',\n",
       " 'APTMU',\n",
       " 'APTMW',\n",
       " 'APTO',\n",
       " 'APTV',\n",
       " 'APTV$A',\n",
       " 'APTX',\n",
       " 'APVO',\n",
       " 'APWC',\n",
       " 'APXI',\n",
       " 'APXIU',\n",
       " 'APXIW',\n",
       " 'APYX',\n",
       " 'AQB',\n",
       " 'AQMS',\n",
       " 'AQN',\n",
       " 'AQNA',\n",
       " 'AQNB',\n",
       " 'AQNU',\n",
       " 'AQST',\n",
       " 'AQU',\n",
       " 'AQUA',\n",
       " 'AQUNR',\n",
       " 'AQUNU',\n",
       " 'AR',\n",
       " 'ARAV',\n",
       " 'ARAY',\n",
       " 'ARBB',\n",
       " 'ARBE',\n",
       " 'ARBEW',\n",
       " 'ARBG',\n",
       " 'ARBGU',\n",
       " 'ARBGW',\n",
       " 'ARBK',\n",
       " 'ARBKL',\n",
       " 'ARC',\n",
       " 'ARCB',\n",
       " 'ARCC',\n",
       " 'ARCE',\n",
       " 'ARCH',\n",
       " 'ARCO',\n",
       " 'ARCT',\n",
       " 'ARDC',\n",
       " 'ARDS',\n",
       " 'ARDX',\n",
       " 'ARE',\n",
       " 'AREB',\n",
       " 'AREBW',\n",
       " 'AREC',\n",
       " 'AREN',\n",
       " 'ARES',\n",
       " 'ARGD',\n",
       " 'ARGO',\n",
       " 'ARGO$A',\n",
       " 'ARGX',\n",
       " 'ARHS',\n",
       " 'ARI',\n",
       " 'ARIS',\n",
       " 'ARIZ',\n",
       " 'ARIZR',\n",
       " 'ARIZU',\n",
       " 'ARIZW',\n",
       " 'ARKO',\n",
       " 'ARKOW',\n",
       " 'ARKR',\n",
       " 'ARL',\n",
       " 'ARLO',\n",
       " 'ARLP',\n",
       " 'ARMK',\n",
       " 'ARMP',\n",
       " 'ARNC',\n",
       " 'AROC',\n",
       " 'AROW',\n",
       " 'ARQQ',\n",
       " 'ARQQW',\n",
       " 'ARQT',\n",
       " 'ARR',\n",
       " 'ARR$C',\n",
       " 'ARRW',\n",
       " 'ARRWU',\n",
       " 'ARRWW',\n",
       " 'ARRY',\n",
       " 'ARTE',\n",
       " 'ARTEU',\n",
       " 'ARTEW',\n",
       " 'ARTL',\n",
       " 'ARTLW',\n",
       " 'ARTNA',\n",
       " 'ARTW',\n",
       " 'ARVL',\n",
       " 'ARVN',\n",
       " 'ARW',\n",
       " 'ARWR',\n",
       " 'ARYD',\n",
       " 'ARYE',\n",
       " 'ASA',\n",
       " 'ASAI',\n",
       " 'ASAN',\n",
       " 'ASB',\n",
       " 'ASB$E',\n",
       " 'ASB$F',\n",
       " 'ASBA',\n",
       " 'ASC',\n",
       " 'ASCA',\n",
       " 'ASCAR',\n",
       " 'ASCAU',\n",
       " 'ASCAW',\n",
       " 'ASCB',\n",
       " 'ASCBR',\n",
       " 'ASCBU',\n",
       " 'ASCBW',\n",
       " 'ASG',\n",
       " 'ASGI',\n",
       " 'ASGN',\n",
       " 'ASH',\n",
       " 'ASIX',\n",
       " 'ASLE',\n",
       " 'ASLN',\n",
       " 'ASM',\n",
       " 'ASMB',\n",
       " 'ASML',\n",
       " 'ASND',\n",
       " 'ASNS',\n",
       " 'ASO',\n",
       " 'ASPA',\n",
       " 'ASPAU',\n",
       " 'ASPAW',\n",
       " 'ASPI',\n",
       " 'ASPN',\n",
       " 'ASPS',\n",
       " 'ASR',\n",
       " 'ASRT',\n",
       " 'ASRV',\n",
       " 'ASST',\n",
       " 'ASTC',\n",
       " 'ASTE',\n",
       " 'ASTI',\n",
       " 'ASTL',\n",
       " 'ASTLW',\n",
       " 'ASTR',\n",
       " 'ASTS',\n",
       " 'ASTSW',\n",
       " 'ASUR',\n",
       " 'ASX',\n",
       " 'ASXC',\n",
       " 'ASYS',\n",
       " 'ATAI',\n",
       " 'ATAK',\n",
       " 'ATAKR',\n",
       " 'ATAKU',\n",
       " 'ATAKW',\n",
       " 'ATAQ',\n",
       " 'ATAQ.U',\n",
       " 'ATAT',\n",
       " 'ATCO$D',\n",
       " 'ATCO$H',\n",
       " 'ATCO$I',\n",
       " 'ATCOL',\n",
       " 'ATEC',\n",
       " 'ATEK',\n",
       " 'ATEK.U',\n",
       " 'ATEK.W',\n",
       " 'ATEN',\n",
       " 'ATER',\n",
       " 'ATEST',\n",
       " 'ATEST.A',\n",
       " 'ATEST.B',\n",
       " 'ATEST.C',\n",
       " 'ATEX',\n",
       " 'ATGE',\n",
       " 'ATH$A',\n",
       " 'ATH$B',\n",
       " 'ATH$C',\n",
       " 'ATH$D',\n",
       " 'ATH$E',\n",
       " 'ATHA',\n",
       " 'ATHE',\n",
       " 'ATHM',\n",
       " 'ATHX',\n",
       " 'ATI',\n",
       " 'ATIF',\n",
       " 'ATIP',\n",
       " 'ATIP.W',\n",
       " 'ATKR',\n",
       " 'ATLC',\n",
       " 'ATLCL',\n",
       " 'ATLCP',\n",
       " 'ATLO',\n",
       " 'ATLX',\n",
       " 'ATMC',\n",
       " 'ATMCR',\n",
       " 'ATMCU',\n",
       " 'ATMCW',\n",
       " 'ATMP',\n",
       " 'ATMV',\n",
       " 'ATMVR',\n",
       " 'ATMVU',\n",
       " 'ATNF',\n",
       " 'ATNFW',\n",
       " 'ATNI',\n",
       " 'ATNM',\n",
       " 'ATNX',\n",
       " 'ATO',\n",
       " 'ATOM',\n",
       " 'ATOS',\n",
       " 'ATR',\n",
       " 'ATRA',\n",
       " 'ATRC',\n",
       " 'ATRI',\n",
       " 'ATRO',\n",
       " 'ATSG',\n",
       " 'ATTO',\n",
       " 'ATUS',\n",
       " 'ATVI',\n",
       " 'ATXG',\n",
       " 'ATXI',\n",
       " 'ATXS',\n",
       " 'AU',\n",
       " 'AUB',\n",
       " 'AUB$A',\n",
       " 'AUBN',\n",
       " 'AUD',\n",
       " 'AUDC',\n",
       " 'AUGX',\n",
       " 'AUID',\n",
       " 'AULT',\n",
       " 'AULT$D',\n",
       " 'AUMN',\n",
       " 'AUPH',\n",
       " 'AUR',\n",
       " 'AURA',\n",
       " 'AURC',\n",
       " 'AURCU',\n",
       " 'AURCW',\n",
       " 'AUROW',\n",
       " 'AUST',\n",
       " 'AUTL',\n",
       " 'AUUD',\n",
       " 'AUUDW',\n",
       " 'AUVI',\n",
       " 'AUVIP',\n",
       " 'AVA',\n",
       " 'AVAC',\n",
       " 'AVACU',\n",
       " 'AVACW',\n",
       " 'AVAH',\n",
       " 'AVAL',\n",
       " 'AVAV',\n",
       " 'AVB',\n",
       " 'AVD',\n",
       " 'AVDL',\n",
       " 'AVDX',\n",
       " 'AVGO',\n",
       " 'AVGR',\n",
       " 'AVHI',\n",
       " 'AVHIU',\n",
       " 'AVHIW',\n",
       " 'AVID',\n",
       " 'AVIR',\n",
       " 'AVK',\n",
       " 'AVNS',\n",
       " 'AVNT',\n",
       " 'AVNW',\n",
       " 'AVO',\n",
       " 'AVPT',\n",
       " 'AVPTW',\n",
       " 'AVRO',\n",
       " 'AVT',\n",
       " 'AVTA',\n",
       " 'AVTE',\n",
       " 'AVTR',\n",
       " 'AVTX',\n",
       " 'AVXL',\n",
       " 'AVY',\n",
       " 'AWF',\n",
       " 'AWH',\n",
       " 'AWI',\n",
       " 'AWIN',\n",
       " 'AWINW',\n",
       " 'AWK',\n",
       " 'AWP',\n",
       " 'AWR',\n",
       " 'AWRE',\n",
       " 'AWX',\n",
       " 'AX',\n",
       " 'AXAC',\n",
       " 'AXAC.R',\n",
       " 'AXAC.W',\n",
       " 'AXDX',\n",
       " 'AXGN',\n",
       " 'AXL',\n",
       " 'AXLA',\n",
       " 'AXNX',\n",
       " 'AXON',\n",
       " 'AXP',\n",
       " 'AXR',\n",
       " 'AXS',\n",
       " 'AXS$E',\n",
       " 'AXSM',\n",
       " 'AXTA',\n",
       " 'AXTI',\n",
       " 'AY',\n",
       " 'AYI',\n",
       " 'AYRO',\n",
       " 'AYTU',\n",
       " 'AYX',\n",
       " 'AZ',\n",
       " 'AZEK',\n",
       " 'AZN',\n",
       " 'AZO',\n",
       " 'AZPN',\n",
       " 'AZRE',\n",
       " 'AZTA',\n",
       " 'AZUL',\n",
       " 'AZYO',\n",
       " 'AZZ',\n",
       " 'B',\n",
       " 'BA',\n",
       " 'BABA',\n",
       " 'BAC',\n",
       " 'BAC$B',\n",
       " 'BAC$E',\n",
       " 'BAC$K',\n",
       " 'BAC$L',\n",
       " 'BAC$M',\n",
       " 'BAC$N',\n",
       " 'BAC$O',\n",
       " 'BAC$P',\n",
       " 'BAC$Q',\n",
       " 'BAC$S',\n",
       " 'BACA',\n",
       " 'BACK',\n",
       " 'BAER',\n",
       " 'BAERW',\n",
       " 'BAFN',\n",
       " 'BAH',\n",
       " 'BAK',\n",
       " 'BAL',\n",
       " 'BALL',\n",
       " 'BALY',\n",
       " 'BAM',\n",
       " 'BANC',\n",
       " 'BAND',\n",
       " 'BANF',\n",
       " 'BANFP',\n",
       " 'BANL',\n",
       " 'BANR',\n",
       " 'BANX',\n",
       " 'BAOS',\n",
       " 'BAP',\n",
       " 'BAR',\n",
       " 'BARK',\n",
       " 'BARK.W',\n",
       " 'BASE',\n",
       " 'BATL',\n",
       " 'BATRA',\n",
       " 'BATRK',\n",
       " 'BAX',\n",
       " 'BB',\n",
       " 'BBAI',\n",
       " 'BBAI.W',\n",
       " 'BBAR',\n",
       " 'BBBY',\n",
       " 'BBCP',\n",
       " 'BBD',\n",
       " 'BBDC',\n",
       " 'BBDO',\n",
       " 'BBGI',\n",
       " 'BBIG',\n",
       " 'BBIO',\n",
       " 'BBLG',\n",
       " 'BBLGW',\n",
       " 'BBLN',\n",
       " 'BBN',\n",
       " 'BBSI',\n",
       " 'BBU',\n",
       " 'BBUC',\n",
       " 'BBVA',\n",
       " 'BBW',\n",
       " 'BBWI',\n",
       " 'BBY',\n",
       " 'BC',\n",
       " 'BC$A',\n",
       " 'BC$B',\n",
       " 'BC$C',\n",
       " 'BCAB',\n",
       " 'BCAN',\n",
       " 'BCAT',\n",
       " 'BCBP',\n",
       " 'BCC',\n",
       " 'BCDA',\n",
       " 'BCDAW',\n",
       " 'BCE',\n",
       " 'BCEL',\n",
       " 'BCH',\n",
       " 'BCLI',\n",
       " 'BCM',\n",
       " 'BCML',\n",
       " 'BCO',\n",
       " 'BCOV',\n",
       " 'BCOW',\n",
       " 'BCPC',\n",
       " 'BCRX',\n",
       " 'BCS',\n",
       " 'BCSA',\n",
       " 'BCSAU',\n",
       " 'BCSAW',\n",
       " 'BCSF',\n",
       " 'BCTX',\n",
       " 'BCTXW',\n",
       " 'BCV',\n",
       " 'BCV$A',\n",
       " 'BCX',\n",
       " 'BCYC',\n",
       " 'BDC',\n",
       " 'BDCZ',\n",
       " 'BDJ',\n",
       " 'BDL',\n",
       " 'BDN',\n",
       " 'BDRX',\n",
       " 'BDSX',\n",
       " 'BDTX',\n",
       " 'BDX',\n",
       " 'BDXB',\n",
       " 'BE',\n",
       " 'BEAM',\n",
       " 'BEAT',\n",
       " 'BEATW',\n",
       " 'BECN',\n",
       " 'BEDU',\n",
       " 'BEEM',\n",
       " 'BEEMW',\n",
       " 'BEKE',\n",
       " 'BELFA',\n",
       " 'BELFB',\n",
       " 'BEN',\n",
       " 'BEP',\n",
       " 'BEP$A',\n",
       " 'BEPC',\n",
       " 'BEPH',\n",
       " 'BEPI',\n",
       " 'BERY',\n",
       " 'BEST',\n",
       " 'BF.A',\n",
       " 'BF.B',\n",
       " 'BFAC',\n",
       " 'BFAC.U',\n",
       " 'BFAC.W',\n",
       " 'BFAM',\n",
       " 'BFC',\n",
       " 'BFH',\n",
       " 'BFI',\n",
       " 'BFIIW',\n",
       " ...]"
      ]
     },
     "execution_count": 13,
     "metadata": {},
     "output_type": "execute_result"
    }
   ],
   "source": [
    "all_symbols"
   ]
  },
  {
   "cell_type": "code",
   "execution_count": 14,
   "metadata": {
    "ExecuteTime": {
     "end_time": "2021-02-24T03:35:30.818647Z",
     "start_time": "2021-02-24T03:35:11.397335Z"
    }
   },
   "outputs": [],
   "source": [
    "yf_symbols = yf.Tickers(all_symbols)"
   ]
  },
  {
   "cell_type": "code",
   "execution_count": 17,
   "metadata": {
    "ExecuteTime": {
     "end_time": "2021-02-24T09:46:13.912300Z",
     "start_time": "2021-02-24T03:35:30.819542Z"
    },
    "scrolled": false
   },
   "outputs": [
    {
     "name": "stderr",
     "output_type": "stream",
     "text": [
      "  0%|          | 37/8460 [00:00<02:17, 61.15it/s]"
     ]
    },
    {
     "name": "stdout",
     "output_type": "stream",
     "text": [
      "ABR$D 404 Client Error: Not Found for url: https://query2.finance.yahoo.com/v10/finance/quoteSummary/ABR$D?modules=summaryProfile%2CfinancialData%2CquoteType%2CdefaultKeyStatistics%2CassetProfile%2CsummaryDetail&ssl=true\n"
     ]
    },
    {
     "name": "stderr",
     "output_type": "stream",
     "text": [
      "  1%|          | 44/8460 [00:04<16:29,  8.50it/s]"
     ]
    },
    {
     "name": "stdout",
     "output_type": "stream",
     "text": [
      "ABR$E 404 Client Error: Not Found for url: https://query2.finance.yahoo.com/v10/finance/quoteSummary/ABR$E?modules=summaryProfile%2CfinancialData%2CquoteType%2CdefaultKeyStatistics%2CassetProfile%2CsummaryDetail&ssl=true\n",
      "ABR$F 404 Client Error: Not Found for url: https://query2.finance.yahoo.com/v10/finance/quoteSummary/ABR$F?modules=summaryProfile%2CfinancialData%2CquoteType%2CdefaultKeyStatistics%2CassetProfile%2CsummaryDetail&ssl=true\n"
     ]
    },
    {
     "name": "stderr",
     "output_type": "stream",
     "text": [
      "  1%|          | 64/8460 [00:14<1:04:53,  2.16it/s]"
     ]
    },
    {
     "name": "stdout",
     "output_type": "stream",
     "text": [
      "ACAQ.U 404 Client Error: Not Found for url: https://query2.finance.yahoo.com/v10/finance/quoteSummary/ACAQ.U?modules=summaryProfile%2CfinancialData%2CquoteType%2CdefaultKeyStatistics%2CassetProfile%2CsummaryDetail&ssl=true\n"
     ]
    },
    {
     "name": "stderr",
     "output_type": "stream",
     "text": [
      "  1%|          | 65/8460 [00:15<56:16,  2.49it/s]  "
     ]
    },
    {
     "name": "stdout",
     "output_type": "stream",
     "text": [
      "ACAQ.W 404 Client Error: Not Found for url: https://query2.finance.yahoo.com/v10/finance/quoteSummary/ACAQ.W?modules=summaryProfile%2CfinancialData%2CquoteType%2CdefaultKeyStatistics%2CassetProfile%2CsummaryDetail&ssl=true\n"
     ]
    },
    {
     "name": "stderr",
     "output_type": "stream",
     "text": [
      "  1%|          | 88/8460 [00:27<1:05:30,  2.13it/s]"
     ]
    },
    {
     "name": "stdout",
     "output_type": "stream",
     "text": [
      "ACHR.W 404 Client Error: Not Found for url: https://query2.finance.yahoo.com/v10/finance/quoteSummary/ACHR.W?modules=summaryProfile%2CfinancialData%2CquoteType%2CdefaultKeyStatistics%2CassetProfile%2CsummaryDetail&ssl=true\n"
     ]
    },
    {
     "name": "stderr",
     "output_type": "stream",
     "text": [
      "  1%|          | 104/8460 [00:36<1:07:50,  2.05it/s]"
     ]
    },
    {
     "name": "stdout",
     "output_type": "stream",
     "text": [
      "ACP$A 404 Client Error: Not Found for url: https://query2.finance.yahoo.com/v10/finance/quoteSummary/ACP$A?modules=summaryProfile%2CfinancialData%2CquoteType%2CdefaultKeyStatistics%2CassetProfile%2CsummaryDetail&ssl=true\n"
     ]
    },
    {
     "name": "stderr",
     "output_type": "stream",
     "text": [
      "  1%|▏         | 106/8460 [00:37<1:03:24,  2.20it/s]"
     ]
    },
    {
     "name": "stdout",
     "output_type": "stream",
     "text": [
      "ACR$C 404 Client Error: Not Found for url: https://query2.finance.yahoo.com/v10/finance/quoteSummary/ACR$C?modules=summaryProfile%2CfinancialData%2CquoteType%2CdefaultKeyStatistics%2CassetProfile%2CsummaryDetail&ssl=true\n"
     ]
    },
    {
     "name": "stderr",
     "output_type": "stream",
     "text": [
      "  1%|▏         | 107/8460 [00:38<58:19,  2.39it/s]  "
     ]
    },
    {
     "name": "stdout",
     "output_type": "stream",
     "text": [
      "ACR$D 404 Client Error: Not Found for url: https://query2.finance.yahoo.com/v10/finance/quoteSummary/ACR$D?modules=summaryProfile%2CfinancialData%2CquoteType%2CdefaultKeyStatistics%2CassetProfile%2CsummaryDetail&ssl=true\n"
     ]
    },
    {
     "name": "stderr",
     "output_type": "stream",
     "text": [
      "  1%|▏         | 110/8460 [00:39<59:38,  2.33it/s]  "
     ]
    },
    {
     "name": "stdout",
     "output_type": "stream",
     "text": [
      "ACRO.U 404 Client Error: Not Found for url: https://query2.finance.yahoo.com/v10/finance/quoteSummary/ACRO.U?modules=summaryProfile%2CfinancialData%2CquoteType%2CdefaultKeyStatistics%2CassetProfile%2CsummaryDetail&ssl=true\n"
     ]
    },
    {
     "name": "stderr",
     "output_type": "stream",
     "text": [
      "  1%|▏         | 111/8460 [00:39<54:05,  2.57it/s]"
     ]
    },
    {
     "name": "stdout",
     "output_type": "stream",
     "text": [
      "ACRO.W 404 Client Error: Not Found for url: https://query2.finance.yahoo.com/v10/finance/quoteSummary/ACRO.W?modules=summaryProfile%2CfinancialData%2CquoteType%2CdefaultKeyStatistics%2CassetProfile%2CsummaryDetail&ssl=true\n"
     ]
    },
    {
     "name": "stderr",
     "output_type": "stream",
     "text": [
      "  2%|▏         | 129/8460 [00:50<1:05:37,  2.12it/s]"
     ]
    },
    {
     "name": "stdout",
     "output_type": "stream",
     "text": [
      "ADC$A 404 Client Error: Not Found for url: https://query2.finance.yahoo.com/v10/finance/quoteSummary/ADC$A?modules=summaryProfile%2CfinancialData%2CquoteType%2CdefaultKeyStatistics%2CassetProfile%2CsummaryDetail&ssl=true\n"
     ]
    },
    {
     "name": "stderr",
     "output_type": "stream",
     "text": [
      "  2%|▏         | 138/8460 [00:54<1:06:11,  2.10it/s]"
     ]
    },
    {
     "name": "stdout",
     "output_type": "stream",
     "text": [
      "ADEX.U 404 Client Error: Not Found for url: https://query2.finance.yahoo.com/v10/finance/quoteSummary/ADEX.U?modules=summaryProfile%2CfinancialData%2CquoteType%2CdefaultKeyStatistics%2CassetProfile%2CsummaryDetail&ssl=true\n"
     ]
    },
    {
     "name": "stderr",
     "output_type": "stream",
     "text": [
      "  2%|▏         | 139/8460 [00:55<58:02,  2.39it/s]  "
     ]
    },
    {
     "name": "stdout",
     "output_type": "stream",
     "text": [
      "ADEX.W 404 Client Error: Not Found for url: https://query2.finance.yahoo.com/v10/finance/quoteSummary/ADEX.W?modules=summaryProfile%2CfinancialData%2CquoteType%2CdefaultKeyStatistics%2CassetProfile%2CsummaryDetail&ssl=true\n"
     ]
    },
    {
     "name": "stderr",
     "output_type": "stream",
     "text": [
      "  2%|▏         | 155/8460 [01:04<1:06:54,  2.07it/s]"
     ]
    },
    {
     "name": "stdout",
     "output_type": "stream",
     "text": [
      "ADRT.U 404 Client Error: Not Found for url: https://query2.finance.yahoo.com/v10/finance/quoteSummary/ADRT.U?modules=summaryProfile%2CfinancialData%2CquoteType%2CdefaultKeyStatistics%2CassetProfile%2CsummaryDetail&ssl=true\n"
     ]
    },
    {
     "name": "stderr",
     "output_type": "stream",
     "text": [
      "  2%|▏         | 183/8460 [01:21<1:07:07,  2.06it/s]"
     ]
    },
    {
     "name": "stdout",
     "output_type": "stream",
     "text": [
      "AEL$A 404 Client Error: Not Found for url: https://query2.finance.yahoo.com/v10/finance/quoteSummary/AEL$A?modules=summaryProfile%2CfinancialData%2CquoteType%2CdefaultKeyStatistics%2CassetProfile%2CsummaryDetail&ssl=true\n"
     ]
    },
    {
     "name": "stderr",
     "output_type": "stream",
     "text": [
      "  2%|▏         | 184/8460 [01:21<57:44,  2.39it/s]  "
     ]
    },
    {
     "name": "stdout",
     "output_type": "stream",
     "text": [
      "AEL$B 404 Client Error: Not Found for url: https://query2.finance.yahoo.com/v10/finance/quoteSummary/AEL$B?modules=summaryProfile%2CfinancialData%2CquoteType%2CdefaultKeyStatistics%2CassetProfile%2CsummaryDetail&ssl=true\n"
     ]
    },
    {
     "name": "stderr",
     "output_type": "stream",
     "text": [
      "  2%|▏         | 196/8460 [01:27<1:08:19,  2.02it/s]"
     ]
    },
    {
     "name": "stdout",
     "output_type": "stream",
     "text": [
      "AEVA.W 404 Client Error: Not Found for url: https://query2.finance.yahoo.com/v10/finance/quoteSummary/AEVA.W?modules=summaryProfile%2CfinancialData%2CquoteType%2CdefaultKeyStatistics%2CassetProfile%2CsummaryDetail&ssl=true\n"
     ]
    },
    {
     "name": "stderr",
     "output_type": "stream",
     "text": [
      "  3%|▎         | 219/8460 [01:41<1:09:56,  1.96it/s]"
     ]
    },
    {
     "name": "stdout",
     "output_type": "stream",
     "text": [
      "AFTR.U 404 Client Error: Not Found for url: https://query2.finance.yahoo.com/v10/finance/quoteSummary/AFTR.U?modules=summaryProfile%2CfinancialData%2CquoteType%2CdefaultKeyStatistics%2CassetProfile%2CsummaryDetail&ssl=true\n"
     ]
    },
    {
     "name": "stderr",
     "output_type": "stream",
     "text": [
      "  3%|▎         | 220/8460 [01:41<1:05:46,  2.09it/s]"
     ]
    },
    {
     "name": "stdout",
     "output_type": "stream",
     "text": [
      "AFTR.W 404 Client Error: Not Found for url: https://query2.finance.yahoo.com/v10/finance/quoteSummary/AFTR.W?modules=summaryProfile%2CfinancialData%2CquoteType%2CdefaultKeyStatistics%2CassetProfile%2CsummaryDetail&ssl=true\n"
     ]
    },
    {
     "name": "stderr",
     "output_type": "stream",
     "text": [
      "  3%|▎         | 224/8460 [01:43<1:04:52,  2.12it/s]"
     ]
    },
    {
     "name": "stdout",
     "output_type": "stream",
     "text": [
      "AGAC.U 404 Client Error: Not Found for url: https://query2.finance.yahoo.com/v10/finance/quoteSummary/AGAC.U?modules=summaryProfile%2CfinancialData%2CquoteType%2CdefaultKeyStatistics%2CassetProfile%2CsummaryDetail&ssl=true\n"
     ]
    },
    {
     "name": "stderr",
     "output_type": "stream",
     "text": [
      "  3%|▎         | 240/8460 [01:53<1:11:35,  1.91it/s]"
     ]
    },
    {
     "name": "stdout",
     "output_type": "stream",
     "text": [
      "AGM$C 404 Client Error: Not Found for url: https://query2.finance.yahoo.com/v10/finance/quoteSummary/AGM$C?modules=summaryProfile%2CfinancialData%2CquoteType%2CdefaultKeyStatistics%2CassetProfile%2CsummaryDetail&ssl=true\n"
     ]
    },
    {
     "name": "stderr",
     "output_type": "stream",
     "text": [
      "  3%|▎         | 241/8460 [01:53<1:02:38,  2.19it/s]"
     ]
    },
    {
     "name": "stdout",
     "output_type": "stream",
     "text": [
      "AGM$D 404 Client Error: Not Found for url: https://query2.finance.yahoo.com/v10/finance/quoteSummary/AGM$D?modules=summaryProfile%2CfinancialData%2CquoteType%2CdefaultKeyStatistics%2CassetProfile%2CsummaryDetail&ssl=true\n"
     ]
    },
    {
     "name": "stderr",
     "output_type": "stream",
     "text": [
      "  3%|▎         | 242/8460 [01:53<56:26,  2.43it/s]  "
     ]
    },
    {
     "name": "stdout",
     "output_type": "stream",
     "text": [
      "AGM$E 404 Client Error: Not Found for url: https://query2.finance.yahoo.com/v10/finance/quoteSummary/AGM$E?modules=summaryProfile%2CfinancialData%2CquoteType%2CdefaultKeyStatistics%2CassetProfile%2CsummaryDetail&ssl=true\n"
     ]
    },
    {
     "name": "stderr",
     "output_type": "stream",
     "text": [
      "  3%|▎         | 243/8460 [01:54<51:15,  2.67it/s]"
     ]
    },
    {
     "name": "stdout",
     "output_type": "stream",
     "text": [
      "AGM$F 404 Client Error: Not Found for url: https://query2.finance.yahoo.com/v10/finance/quoteSummary/AGM$F?modules=summaryProfile%2CfinancialData%2CquoteType%2CdefaultKeyStatistics%2CassetProfile%2CsummaryDetail&ssl=true\n"
     ]
    },
    {
     "name": "stderr",
     "output_type": "stream",
     "text": [
      "  3%|▎         | 244/8460 [01:54<47:17,  2.90it/s]"
     ]
    },
    {
     "name": "stdout",
     "output_type": "stream",
     "text": [
      "AGM$G 404 Client Error: Not Found for url: https://query2.finance.yahoo.com/v10/finance/quoteSummary/AGM$G?modules=summaryProfile%2CfinancialData%2CquoteType%2CdefaultKeyStatistics%2CassetProfile%2CsummaryDetail&ssl=true\n"
     ]
    },
    {
     "name": "stderr",
     "output_type": "stream",
     "text": [
      "  3%|▎         | 245/8460 [01:54<45:22,  3.02it/s]"
     ]
    },
    {
     "name": "stdout",
     "output_type": "stream",
     "text": [
      "AGM.A 404 Client Error: Not Found for url: https://query2.finance.yahoo.com/v10/finance/quoteSummary/AGM.A?modules=summaryProfile%2CfinancialData%2CquoteType%2CdefaultKeyStatistics%2CassetProfile%2CsummaryDetail&ssl=true\n"
     ]
    },
    {
     "name": "stderr",
     "output_type": "stream",
     "text": [
      "  3%|▎         | 266/8460 [02:06<1:07:25,  2.03it/s]"
     ]
    },
    {
     "name": "stdout",
     "output_type": "stream",
     "text": [
      "AHH$A 404 Client Error: Not Found for url: https://query2.finance.yahoo.com/v10/finance/quoteSummary/AHH$A?modules=summaryProfile%2CfinancialData%2CquoteType%2CdefaultKeyStatistics%2CassetProfile%2CsummaryDetail&ssl=true\n"
     ]
    },
    {
     "name": "stderr",
     "output_type": "stream",
     "text": [
      "  3%|▎         | 268/8460 [02:07<1:00:49,  2.24it/s]"
     ]
    },
    {
     "name": "stdout",
     "output_type": "stream",
     "text": [
      "AHL$C 404 Client Error: Not Found for url: https://query2.finance.yahoo.com/v10/finance/quoteSummary/AHL$C?modules=summaryProfile%2CfinancialData%2CquoteType%2CdefaultKeyStatistics%2CassetProfile%2CsummaryDetail&ssl=true\n"
     ]
    },
    {
     "name": "stderr",
     "output_type": "stream",
     "text": [
      "  3%|▎         | 269/8460 [02:07<54:39,  2.50it/s]  "
     ]
    },
    {
     "name": "stdout",
     "output_type": "stream",
     "text": [
      "AHL$D 404 Client Error: Not Found for url: https://query2.finance.yahoo.com/v10/finance/quoteSummary/AHL$D?modules=summaryProfile%2CfinancialData%2CquoteType%2CdefaultKeyStatistics%2CassetProfile%2CsummaryDetail&ssl=true\n"
     ]
    },
    {
     "name": "stderr",
     "output_type": "stream",
     "text": [
      "  3%|▎         | 270/8460 [02:07<49:15,  2.77it/s]"
     ]
    },
    {
     "name": "stdout",
     "output_type": "stream",
     "text": [
      "AHL$E 404 Client Error: Not Found for url: https://query2.finance.yahoo.com/v10/finance/quoteSummary/AHL$E?modules=summaryProfile%2CfinancialData%2CquoteType%2CdefaultKeyStatistics%2CassetProfile%2CsummaryDetail&ssl=true\n"
     ]
    },
    {
     "name": "stderr",
     "output_type": "stream",
     "text": [
      "  3%|▎         | 275/8460 [02:10<1:03:12,  2.16it/s]"
     ]
    },
    {
     "name": "stdout",
     "output_type": "stream",
     "text": [
      "AHT$D 404 Client Error: Not Found for url: https://query2.finance.yahoo.com/v10/finance/quoteSummary/AHT$D?modules=summaryProfile%2CfinancialData%2CquoteType%2CdefaultKeyStatistics%2CassetProfile%2CsummaryDetail&ssl=true\n"
     ]
    },
    {
     "name": "stderr",
     "output_type": "stream",
     "text": [
      "  3%|▎         | 276/8460 [02:10<56:24,  2.42it/s]  "
     ]
    },
    {
     "name": "stdout",
     "output_type": "stream",
     "text": [
      "AHT$F 404 Client Error: Not Found for url: https://query2.finance.yahoo.com/v10/finance/quoteSummary/AHT$F?modules=summaryProfile%2CfinancialData%2CquoteType%2CdefaultKeyStatistics%2CassetProfile%2CsummaryDetail&ssl=true\n"
     ]
    },
    {
     "name": "stderr",
     "output_type": "stream",
     "text": [
      "  3%|▎         | 277/8460 [02:11<50:21,  2.71it/s]"
     ]
    },
    {
     "name": "stdout",
     "output_type": "stream",
     "text": [
      "AHT$G 404 Client Error: Not Found for url: https://query2.finance.yahoo.com/v10/finance/quoteSummary/AHT$G?modules=summaryProfile%2CfinancialData%2CquoteType%2CdefaultKeyStatistics%2CassetProfile%2CsummaryDetail&ssl=true\n"
     ]
    },
    {
     "name": "stderr",
     "output_type": "stream",
     "text": [
      "  3%|▎         | 278/8460 [02:11<45:50,  2.97it/s]"
     ]
    },
    {
     "name": "stdout",
     "output_type": "stream",
     "text": [
      "AHT$H 404 Client Error: Not Found for url: https://query2.finance.yahoo.com/v10/finance/quoteSummary/AHT$H?modules=summaryProfile%2CfinancialData%2CquoteType%2CdefaultKeyStatistics%2CassetProfile%2CsummaryDetail&ssl=true\n"
     ]
    },
    {
     "name": "stderr",
     "output_type": "stream",
     "text": [
      "  3%|▎         | 279/8460 [02:11<43:29,  3.13it/s]"
     ]
    },
    {
     "name": "stdout",
     "output_type": "stream",
     "text": [
      "AHT$I 404 Client Error: Not Found for url: https://query2.finance.yahoo.com/v10/finance/quoteSummary/AHT$I?modules=summaryProfile%2CfinancialData%2CquoteType%2CdefaultKeyStatistics%2CassetProfile%2CsummaryDetail&ssl=true\n"
     ]
    },
    {
     "name": "stderr",
     "output_type": "stream",
     "text": [
      "  3%|▎         | 287/8460 [02:16<1:05:44,  2.07it/s]"
     ]
    },
    {
     "name": "stdout",
     "output_type": "stream",
     "text": [
      "AIG$A 404 Client Error: Not Found for url: https://query2.finance.yahoo.com/v10/finance/quoteSummary/AIG$A?modules=summaryProfile%2CfinancialData%2CquoteType%2CdefaultKeyStatistics%2CassetProfile%2CsummaryDetail&ssl=true\n"
     ]
    },
    {
     "name": "stderr",
     "output_type": "stream",
     "text": [
      "  4%|▍         | 322/8460 [02:36<1:04:10,  2.11it/s]"
     ]
    },
    {
     "name": "stdout",
     "output_type": "stream",
     "text": [
      "AKO.A 404 Client Error: Not Found for url: https://query2.finance.yahoo.com/v10/finance/quoteSummary/AKO.A?modules=summaryProfile%2CfinancialData%2CquoteType%2CdefaultKeyStatistics%2CassetProfile%2CsummaryDetail&ssl=true\n"
     ]
    },
    {
     "name": "stderr",
     "output_type": "stream",
     "text": [
      "  4%|▍         | 323/8460 [02:36<56:53,  2.38it/s]  "
     ]
    },
    {
     "name": "stdout",
     "output_type": "stream",
     "text": [
      "AKO.B 404 Client Error: Not Found for url: https://query2.finance.yahoo.com/v10/finance/quoteSummary/AKO.B?modules=summaryProfile%2CfinancialData%2CquoteType%2CdefaultKeyStatistics%2CassetProfile%2CsummaryDetail&ssl=true\n"
     ]
    },
    {
     "name": "stderr",
     "output_type": "stream",
     "text": [
      "  4%|▍         | 331/8460 [02:40<1:05:54,  2.06it/s]"
     ]
    },
    {
     "name": "stdout",
     "output_type": "stream",
     "text": [
      "AL$A 404 Client Error: Not Found for url: https://query2.finance.yahoo.com/v10/finance/quoteSummary/AL$A?modules=summaryProfile%2CfinancialData%2CquoteType%2CdefaultKeyStatistics%2CassetProfile%2CsummaryDetail&ssl=true\n"
     ]
    },
    {
     "name": "stderr",
     "output_type": "stream",
     "text": [
      "  4%|▍         | 354/8460 [02:54<1:05:27,  2.06it/s]"
     ]
    },
    {
     "name": "stdout",
     "output_type": "stream",
     "text": [
      "ALL$B 404 Client Error: Not Found for url: https://query2.finance.yahoo.com/v10/finance/quoteSummary/ALL$B?modules=summaryProfile%2CfinancialData%2CquoteType%2CdefaultKeyStatistics%2CassetProfile%2CsummaryDetail&ssl=true\n"
     ]
    },
    {
     "name": "stderr",
     "output_type": "stream",
     "text": [
      "  4%|▍         | 355/8460 [02:54<56:19,  2.40it/s]  "
     ]
    },
    {
     "name": "stdout",
     "output_type": "stream",
     "text": [
      "ALL$H 404 Client Error: Not Found for url: https://query2.finance.yahoo.com/v10/finance/quoteSummary/ALL$H?modules=summaryProfile%2CfinancialData%2CquoteType%2CdefaultKeyStatistics%2CassetProfile%2CsummaryDetail&ssl=true\n"
     ]
    },
    {
     "name": "stderr",
     "output_type": "stream",
     "text": [
      "  4%|▍         | 356/8460 [02:54<50:34,  2.67it/s]"
     ]
    },
    {
     "name": "stdout",
     "output_type": "stream",
     "text": [
      "ALL$I 404 Client Error: Not Found for url: https://query2.finance.yahoo.com/v10/finance/quoteSummary/ALL$I?modules=summaryProfile%2CfinancialData%2CquoteType%2CdefaultKeyStatistics%2CassetProfile%2CsummaryDetail&ssl=true\n"
     ]
    },
    {
     "name": "stderr",
     "output_type": "stream",
     "text": [
      "  4%|▍         | 359/8460 [02:56<54:36,  2.47it/s]  "
     ]
    },
    {
     "name": "stdout",
     "output_type": "stream",
     "text": [
      "ALLG.W 404 Client Error: Not Found for url: https://query2.finance.yahoo.com/v10/finance/quoteSummary/ALLG.W?modules=summaryProfile%2CfinancialData%2CquoteType%2CdefaultKeyStatistics%2CassetProfile%2CsummaryDetail&ssl=true\n"
     ]
    },
    {
     "name": "stderr",
     "output_type": "stream",
     "text": [
      "  5%|▍         | 386/8460 [03:11<1:04:13,  2.10it/s]"
     ]
    },
    {
     "name": "stdout",
     "output_type": "stream",
     "text": [
      "ALTG$A 404 Client Error: Not Found for url: https://query2.finance.yahoo.com/v10/finance/quoteSummary/ALTG$A?modules=summaryProfile%2CfinancialData%2CquoteType%2CdefaultKeyStatistics%2CassetProfile%2CsummaryDetail&ssl=true\n"
     ]
    },
    {
     "name": "stderr",
     "output_type": "stream",
     "text": [
      "  5%|▍         | 412/8460 [03:25<1:05:53,  2.04it/s]"
     ]
    },
    {
     "name": "stdout",
     "output_type": "stream",
     "text": [
      "AMBI.W 404 Client Error: Not Found for url: https://query2.finance.yahoo.com/v10/finance/quoteSummary/AMBI.W?modules=summaryProfile%2CfinancialData%2CquoteType%2CdefaultKeyStatistics%2CassetProfile%2CsummaryDetail&ssl=true\n"
     ]
    },
    {
     "name": "stderr",
     "output_type": "stream",
     "text": [
      "  5%|▍         | 415/8460 [03:27<1:03:20,  2.12it/s]"
     ]
    },
    {
     "name": "stdout",
     "output_type": "stream",
     "text": [
      "AMBP.W 404 Client Error: Not Found for url: https://query2.finance.yahoo.com/v10/finance/quoteSummary/AMBP.W?modules=summaryProfile%2CfinancialData%2CquoteType%2CdefaultKeyStatistics%2CassetProfile%2CsummaryDetail&ssl=true\n"
     ]
    },
    {
     "name": "stderr",
     "output_type": "stream",
     "text": [
      "  5%|▌         | 426/8460 [03:33<1:01:02,  2.19it/s]"
     ]
    },
    {
     "name": "stdout",
     "output_type": "stream",
     "text": [
      "AMH$G 404 Client Error: Not Found for url: https://query2.finance.yahoo.com/v10/finance/quoteSummary/AMH$G?modules=summaryProfile%2CfinancialData%2CquoteType%2CdefaultKeyStatistics%2CassetProfile%2CsummaryDetail&ssl=true\n"
     ]
    },
    {
     "name": "stderr",
     "output_type": "stream",
     "text": [
      "  5%|▌         | 427/8460 [03:33<53:11,  2.52it/s]  "
     ]
    },
    {
     "name": "stdout",
     "output_type": "stream",
     "text": [
      "AMH$H 404 Client Error: Not Found for url: https://query2.finance.yahoo.com/v10/finance/quoteSummary/AMH$H?modules=summaryProfile%2CfinancialData%2CquoteType%2CdefaultKeyStatistics%2CassetProfile%2CsummaryDetail&ssl=true\n"
     ]
    },
    {
     "name": "stderr",
     "output_type": "stream",
     "text": [
      "  5%|▌         | 444/8460 [03:43<1:08:32,  1.95it/s]"
     ]
    },
    {
     "name": "stdout",
     "output_type": "stream",
     "text": [
      "AMPX.W 404 Client Error: Not Found for url: https://query2.finance.yahoo.com/v10/finance/quoteSummary/AMPX.W?modules=summaryProfile%2CfinancialData%2CquoteType%2CdefaultKeyStatistics%2CassetProfile%2CsummaryDetail&ssl=true\n"
     ]
    },
    {
     "name": "stderr",
     "output_type": "stream",
     "text": [
      "  6%|▌         | 504/8460 [04:17<1:05:45,  2.02it/s]"
     ]
    },
    {
     "name": "stdout",
     "output_type": "stream",
     "text": [
      "AP.W 404 Client Error: Not Found for url: https://query2.finance.yahoo.com/v10/finance/quoteSummary/AP.W?modules=summaryProfile%2CfinancialData%2CquoteType%2CdefaultKeyStatistics%2CassetProfile%2CsummaryDetail&ssl=true\n"
     ]
    },
    {
     "name": "stderr",
     "output_type": "stream",
     "text": [
      "  6%|▌         | 511/8460 [04:21<1:03:53,  2.07it/s]"
     ]
    },
    {
     "name": "stdout",
     "output_type": "stream",
     "text": [
      "APCA.U 404 Client Error: Not Found for url: https://query2.finance.yahoo.com/v10/finance/quoteSummary/APCA.U?modules=summaryProfile%2CfinancialData%2CquoteType%2CdefaultKeyStatistics%2CassetProfile%2CsummaryDetail&ssl=true\n"
     ]
    },
    {
     "name": "stderr",
     "output_type": "stream",
     "text": [
      "  6%|▌         | 512/8460 [04:21<55:09,  2.40it/s]  "
     ]
    },
    {
     "name": "stdout",
     "output_type": "stream",
     "text": [
      "APCA.W 404 Client Error: Not Found for url: https://query2.finance.yahoo.com/v10/finance/quoteSummary/APCA.W?modules=summaryProfile%2CfinancialData%2CquoteType%2CdefaultKeyStatistics%2CassetProfile%2CsummaryDetail&ssl=true\n"
     ]
    },
    {
     "name": "stderr",
     "output_type": "stream",
     "text": [
      "  6%|▌         | 521/8460 [04:26<1:03:04,  2.10it/s]"
     ]
    },
    {
     "name": "stdout",
     "output_type": "stream",
     "text": [
      "APGB.U 404 Client Error: Not Found for url: https://query2.finance.yahoo.com/v10/finance/quoteSummary/APGB.U?modules=summaryProfile%2CfinancialData%2CquoteType%2CdefaultKeyStatistics%2CassetProfile%2CsummaryDetail&ssl=true\n"
     ]
    },
    {
     "name": "stderr",
     "output_type": "stream",
     "text": [
      "  6%|▌         | 522/8460 [04:26<56:13,  2.35it/s]  "
     ]
    },
    {
     "name": "stdout",
     "output_type": "stream",
     "text": [
      "APGB.W 404 Client Error: Not Found for url: https://query2.finance.yahoo.com/v10/finance/quoteSummary/APGB.W?modules=summaryProfile%2CfinancialData%2CquoteType%2CdefaultKeyStatistics%2CassetProfile%2CsummaryDetail&ssl=true\n"
     ]
    },
    {
     "name": "stderr",
     "output_type": "stream",
     "text": [
      "  7%|▋         | 553/8460 [04:44<1:01:47,  2.13it/s]"
     ]
    },
    {
     "name": "stdout",
     "output_type": "stream",
     "text": [
      "APTV$A 404 Client Error: Not Found for url: https://query2.finance.yahoo.com/v10/finance/quoteSummary/APTV$A?modules=summaryProfile%2CfinancialData%2CquoteType%2CdefaultKeyStatistics%2CassetProfile%2CsummaryDetail&ssl=true\n"
     ]
    },
    {
     "name": "stderr",
     "output_type": "stream",
     "text": [
      "  7%|▋         | 601/8460 [05:12<1:05:17,  2.01it/s]"
     ]
    },
    {
     "name": "stdout",
     "output_type": "stream",
     "text": [
      "ARGO$A 404 Client Error: Not Found for url: https://query2.finance.yahoo.com/v10/finance/quoteSummary/ARGO$A?modules=summaryProfile%2CfinancialData%2CquoteType%2CdefaultKeyStatistics%2CassetProfile%2CsummaryDetail&ssl=true\n"
     ]
    },
    {
     "name": "stderr",
     "output_type": "stream",
     "text": [
      "  7%|▋         | 625/8460 [05:25<1:03:04,  2.07it/s]"
     ]
    },
    {
     "name": "stdout",
     "output_type": "stream",
     "text": [
      "ARR$C 404 Client Error: Not Found for url: https://query2.finance.yahoo.com/v10/finance/quoteSummary/ARR$C?modules=summaryProfile%2CfinancialData%2CquoteType%2CdefaultKeyStatistics%2CassetProfile%2CsummaryDetail&ssl=true\n"
     ]
    },
    {
     "name": "stderr",
     "output_type": "stream",
     "text": [
      "  8%|▊         | 647/8460 [05:38<1:03:57,  2.04it/s]"
     ]
    },
    {
     "name": "stdout",
     "output_type": "stream",
     "text": [
      "ASB$E 404 Client Error: Not Found for url: https://query2.finance.yahoo.com/v10/finance/quoteSummary/ASB$E?modules=summaryProfile%2CfinancialData%2CquoteType%2CdefaultKeyStatistics%2CassetProfile%2CsummaryDetail&ssl=true\n"
     ]
    },
    {
     "name": "stderr",
     "output_type": "stream",
     "text": [
      "  8%|▊         | 648/8460 [05:38<55:35,  2.34it/s]  "
     ]
    },
    {
     "name": "stdout",
     "output_type": "stream",
     "text": [
      "ASB$F 404 Client Error: Not Found for url: https://query2.finance.yahoo.com/v10/finance/quoteSummary/ASB$F?modules=summaryProfile%2CfinancialData%2CquoteType%2CdefaultKeyStatistics%2CassetProfile%2CsummaryDetail&ssl=true\n"
     ]
    },
    {
     "name": "stderr",
     "output_type": "stream",
     "text": [
      "  8%|▊         | 700/8460 [06:09<1:03:58,  2.02it/s]"
     ]
    },
    {
     "name": "stdout",
     "output_type": "stream",
     "text": [
      "ATAQ.U 404 Client Error: Not Found for url: https://query2.finance.yahoo.com/v10/finance/quoteSummary/ATAQ.U?modules=summaryProfile%2CfinancialData%2CquoteType%2CdefaultKeyStatistics%2CassetProfile%2CsummaryDetail&ssl=true\n"
     ]
    },
    {
     "name": "stderr",
     "output_type": "stream",
     "text": [
      "  8%|▊         | 702/8460 [06:09<56:57,  2.27it/s]  "
     ]
    },
    {
     "name": "stdout",
     "output_type": "stream",
     "text": [
      "ATCO$D 404 Client Error: Not Found for url: https://query2.finance.yahoo.com/v10/finance/quoteSummary/ATCO$D?modules=summaryProfile%2CfinancialData%2CquoteType%2CdefaultKeyStatistics%2CassetProfile%2CsummaryDetail&ssl=true\n"
     ]
    },
    {
     "name": "stderr",
     "output_type": "stream",
     "text": [
      "  8%|▊         | 703/8460 [06:10<51:12,  2.52it/s]"
     ]
    },
    {
     "name": "stdout",
     "output_type": "stream",
     "text": [
      "ATCO$H 404 Client Error: Not Found for url: https://query2.finance.yahoo.com/v10/finance/quoteSummary/ATCO$H?modules=summaryProfile%2CfinancialData%2CquoteType%2CdefaultKeyStatistics%2CassetProfile%2CsummaryDetail&ssl=true\n"
     ]
    },
    {
     "name": "stderr",
     "output_type": "stream",
     "text": [
      "  8%|▊         | 704/8460 [06:10<46:02,  2.81it/s]"
     ]
    },
    {
     "name": "stdout",
     "output_type": "stream",
     "text": [
      "ATCO$I 404 Client Error: Not Found for url: https://query2.finance.yahoo.com/v10/finance/quoteSummary/ATCO$I?modules=summaryProfile%2CfinancialData%2CquoteType%2CdefaultKeyStatistics%2CassetProfile%2CsummaryDetail&ssl=true\n"
     ]
    },
    {
     "name": "stderr",
     "output_type": "stream",
     "text": [
      "  8%|▊         | 708/8460 [06:12<55:20,  2.33it/s]  "
     ]
    },
    {
     "name": "stdout",
     "output_type": "stream",
     "text": [
      "ATEK.U 404 Client Error: Not Found for url: https://query2.finance.yahoo.com/v10/finance/quoteSummary/ATEK.U?modules=summaryProfile%2CfinancialData%2CquoteType%2CdefaultKeyStatistics%2CassetProfile%2CsummaryDetail&ssl=true\n"
     ]
    },
    {
     "name": "stderr",
     "output_type": "stream",
     "text": [
      "  8%|▊         | 709/8460 [06:12<50:01,  2.58it/s]"
     ]
    },
    {
     "name": "stdout",
     "output_type": "stream",
     "text": [
      "ATEK.W 404 Client Error: Not Found for url: https://query2.finance.yahoo.com/v10/finance/quoteSummary/ATEK.W?modules=summaryProfile%2CfinancialData%2CquoteType%2CdefaultKeyStatistics%2CassetProfile%2CsummaryDetail&ssl=true\n"
     ]
    },
    {
     "name": "stderr",
     "output_type": "stream",
     "text": [
      "  8%|▊         | 713/8460 [06:14<1:00:02,  2.15it/s]"
     ]
    },
    {
     "name": "stdout",
     "output_type": "stream",
     "text": [
      "ATEST.A 404 Client Error: Not Found for url: https://query2.finance.yahoo.com/v10/finance/quoteSummary/ATEST.A?modules=summaryProfile%2CfinancialData%2CquoteType%2CdefaultKeyStatistics%2CassetProfile%2CsummaryDetail&ssl=true\n"
     ]
    },
    {
     "name": "stderr",
     "output_type": "stream",
     "text": [
      "  8%|▊         | 714/8460 [06:15<54:20,  2.38it/s]  "
     ]
    },
    {
     "name": "stdout",
     "output_type": "stream",
     "text": [
      "ATEST.B 404 Client Error: Not Found for url: https://query2.finance.yahoo.com/v10/finance/quoteSummary/ATEST.B?modules=summaryProfile%2CfinancialData%2CquoteType%2CdefaultKeyStatistics%2CassetProfile%2CsummaryDetail&ssl=true\n"
     ]
    },
    {
     "name": "stderr",
     "output_type": "stream",
     "text": [
      "  8%|▊         | 715/8460 [06:15<49:47,  2.59it/s]"
     ]
    },
    {
     "name": "stdout",
     "output_type": "stream",
     "text": [
      "ATEST.C 404 Client Error: Not Found for url: https://query2.finance.yahoo.com/v10/finance/quoteSummary/ATEST.C?modules=summaryProfile%2CfinancialData%2CquoteType%2CdefaultKeyStatistics%2CassetProfile%2CsummaryDetail&ssl=true\n"
     ]
    },
    {
     "name": "stderr",
     "output_type": "stream",
     "text": [
      "  8%|▊         | 718/8460 [06:16<56:22,  2.29it/s]  "
     ]
    },
    {
     "name": "stdout",
     "output_type": "stream",
     "text": [
      "ATH$A 404 Client Error: Not Found for url: https://query2.finance.yahoo.com/v10/finance/quoteSummary/ATH$A?modules=summaryProfile%2CfinancialData%2CquoteType%2CdefaultKeyStatistics%2CassetProfile%2CsummaryDetail&ssl=true\n"
     ]
    },
    {
     "name": "stderr",
     "output_type": "stream",
     "text": [
      "  8%|▊         | 719/8460 [06:17<50:08,  2.57it/s]"
     ]
    },
    {
     "name": "stdout",
     "output_type": "stream",
     "text": [
      "ATH$B 404 Client Error: Not Found for url: https://query2.finance.yahoo.com/v10/finance/quoteSummary/ATH$B?modules=summaryProfile%2CfinancialData%2CquoteType%2CdefaultKeyStatistics%2CassetProfile%2CsummaryDetail&ssl=true\n"
     ]
    },
    {
     "name": "stderr",
     "output_type": "stream",
     "text": [
      "  9%|▊         | 720/8460 [06:17<45:34,  2.83it/s]"
     ]
    },
    {
     "name": "stdout",
     "output_type": "stream",
     "text": [
      "ATH$C 404 Client Error: Not Found for url: https://query2.finance.yahoo.com/v10/finance/quoteSummary/ATH$C?modules=summaryProfile%2CfinancialData%2CquoteType%2CdefaultKeyStatistics%2CassetProfile%2CsummaryDetail&ssl=true\n"
     ]
    },
    {
     "name": "stderr",
     "output_type": "stream",
     "text": [
      "  9%|▊         | 721/8460 [06:17<43:29,  2.97it/s]"
     ]
    },
    {
     "name": "stdout",
     "output_type": "stream",
     "text": [
      "ATH$D 404 Client Error: Not Found for url: https://query2.finance.yahoo.com/v10/finance/quoteSummary/ATH$D?modules=summaryProfile%2CfinancialData%2CquoteType%2CdefaultKeyStatistics%2CassetProfile%2CsummaryDetail&ssl=true\n"
     ]
    },
    {
     "name": "stderr",
     "output_type": "stream",
     "text": [
      "  9%|▊         | 722/8460 [06:18<42:11,  3.06it/s]"
     ]
    },
    {
     "name": "stdout",
     "output_type": "stream",
     "text": [
      "ATH$E 404 Client Error: Not Found for url: https://query2.finance.yahoo.com/v10/finance/quoteSummary/ATH$E?modules=summaryProfile%2CfinancialData%2CquoteType%2CdefaultKeyStatistics%2CassetProfile%2CsummaryDetail&ssl=true\n"
     ]
    },
    {
     "name": "stderr",
     "output_type": "stream",
     "text": [
      "  9%|▊         | 730/8460 [06:22<1:05:07,  1.98it/s]"
     ]
    },
    {
     "name": "stdout",
     "output_type": "stream",
     "text": [
      "ATIP.W 404 Client Error: Not Found for url: https://query2.finance.yahoo.com/v10/finance/quoteSummary/ATIP.W?modules=summaryProfile%2CfinancialData%2CquoteType%2CdefaultKeyStatistics%2CassetProfile%2CsummaryDetail&ssl=true\n"
     ]
    },
    {
     "name": "stderr",
     "output_type": "stream",
     "text": [
      "  9%|▉         | 767/8460 [06:44<1:02:01,  2.07it/s]"
     ]
    },
    {
     "name": "stdout",
     "output_type": "stream",
     "text": [
      "AUB$A 404 Client Error: Not Found for url: https://query2.finance.yahoo.com/v10/finance/quoteSummary/AUB$A?modules=summaryProfile%2CfinancialData%2CquoteType%2CdefaultKeyStatistics%2CassetProfile%2CsummaryDetail&ssl=true\n"
     ]
    },
    {
     "name": "stderr",
     "output_type": "stream",
     "text": [
      "  9%|▉         | 774/8460 [06:47<59:52,  2.14it/s]  "
     ]
    },
    {
     "name": "stdout",
     "output_type": "stream",
     "text": [
      "AULT$D 404 Client Error: Not Found for url: https://query2.finance.yahoo.com/v10/finance/quoteSummary/AULT$D?modules=summaryProfile%2CfinancialData%2CquoteType%2CdefaultKeyStatistics%2CassetProfile%2CsummaryDetail&ssl=true\n"
     ]
    },
    {
     "name": "stderr",
     "output_type": "stream",
     "text": [
      " 10%|▉         | 834/8460 [07:21<1:01:26,  2.07it/s]"
     ]
    },
    {
     "name": "stdout",
     "output_type": "stream",
     "text": [
      "AXAC.R 404 Client Error: Not Found for url: https://query2.finance.yahoo.com/v10/finance/quoteSummary/AXAC.R?modules=summaryProfile%2CfinancialData%2CquoteType%2CdefaultKeyStatistics%2CassetProfile%2CsummaryDetail&ssl=true\n"
     ]
    },
    {
     "name": "stderr",
     "output_type": "stream",
     "text": [
      " 10%|▉         | 835/8460 [07:22<55:51,  2.28it/s]  "
     ]
    },
    {
     "name": "stdout",
     "output_type": "stream",
     "text": [
      "AXAC.W 404 Client Error: Not Found for url: https://query2.finance.yahoo.com/v10/finance/quoteSummary/AXAC.W?modules=summaryProfile%2CfinancialData%2CquoteType%2CdefaultKeyStatistics%2CassetProfile%2CsummaryDetail&ssl=true\n"
     ]
    },
    {
     "name": "stderr",
     "output_type": "stream",
     "text": [
      " 10%|▉         | 845/8460 [07:33<2:36:17,  1.23s/it]"
     ]
    },
    {
     "name": "stdout",
     "output_type": "stream",
     "text": [
      "AXS$E 404 Client Error: Not Found for url: https://query2.finance.yahoo.com/v10/finance/quoteSummary/AXS$E?modules=summaryProfile%2CfinancialData%2CquoteType%2CdefaultKeyStatistics%2CassetProfile%2CsummaryDetail&ssl=true\n"
     ]
    },
    {
     "name": "stderr",
     "output_type": "stream",
     "text": [
      " 10%|█         | 868/8460 [07:49<1:04:52,  1.95it/s]"
     ]
    },
    {
     "name": "stdout",
     "output_type": "stream",
     "text": [
      "BAC$B 404 Client Error: Not Found for url: https://query2.finance.yahoo.com/v10/finance/quoteSummary/BAC$B?modules=summaryProfile%2CfinancialData%2CquoteType%2CdefaultKeyStatistics%2CassetProfile%2CsummaryDetail&ssl=true\n"
     ]
    },
    {
     "name": "stderr",
     "output_type": "stream",
     "text": [
      " 10%|█         | 869/8460 [07:49<56:34,  2.24it/s]  "
     ]
    },
    {
     "name": "stdout",
     "output_type": "stream",
     "text": [
      "BAC$E 404 Client Error: Not Found for url: https://query2.finance.yahoo.com/v10/finance/quoteSummary/BAC$E?modules=summaryProfile%2CfinancialData%2CquoteType%2CdefaultKeyStatistics%2CassetProfile%2CsummaryDetail&ssl=true\n"
     ]
    },
    {
     "name": "stderr",
     "output_type": "stream",
     "text": [
      " 10%|█         | 870/8460 [07:50<49:32,  2.55it/s]"
     ]
    },
    {
     "name": "stdout",
     "output_type": "stream",
     "text": [
      "BAC$K 404 Client Error: Not Found for url: https://query2.finance.yahoo.com/v10/finance/quoteSummary/BAC$K?modules=summaryProfile%2CfinancialData%2CquoteType%2CdefaultKeyStatistics%2CassetProfile%2CsummaryDetail&ssl=true\n"
     ]
    },
    {
     "name": "stderr",
     "output_type": "stream",
     "text": [
      " 10%|█         | 871/8460 [07:50<46:05,  2.74it/s]"
     ]
    },
    {
     "name": "stdout",
     "output_type": "stream",
     "text": [
      "BAC$L 404 Client Error: Not Found for url: https://query2.finance.yahoo.com/v10/finance/quoteSummary/BAC$L?modules=summaryProfile%2CfinancialData%2CquoteType%2CdefaultKeyStatistics%2CassetProfile%2CsummaryDetail&ssl=true\n"
     ]
    },
    {
     "name": "stderr",
     "output_type": "stream",
     "text": [
      " 10%|█         | 872/8460 [07:50<43:13,  2.93it/s]"
     ]
    },
    {
     "name": "stdout",
     "output_type": "stream",
     "text": [
      "BAC$M 404 Client Error: Not Found for url: https://query2.finance.yahoo.com/v10/finance/quoteSummary/BAC$M?modules=summaryProfile%2CfinancialData%2CquoteType%2CdefaultKeyStatistics%2CassetProfile%2CsummaryDetail&ssl=true\n"
     ]
    },
    {
     "name": "stderr",
     "output_type": "stream",
     "text": [
      " 10%|█         | 873/8460 [07:50<41:07,  3.07it/s]"
     ]
    },
    {
     "name": "stdout",
     "output_type": "stream",
     "text": [
      "BAC$N 404 Client Error: Not Found for url: https://query2.finance.yahoo.com/v10/finance/quoteSummary/BAC$N?modules=summaryProfile%2CfinancialData%2CquoteType%2CdefaultKeyStatistics%2CassetProfile%2CsummaryDetail&ssl=true\n"
     ]
    },
    {
     "name": "stderr",
     "output_type": "stream",
     "text": [
      " 10%|█         | 874/8460 [07:51<40:03,  3.16it/s]"
     ]
    },
    {
     "name": "stdout",
     "output_type": "stream",
     "text": [
      "BAC$O 404 Client Error: Not Found for url: https://query2.finance.yahoo.com/v10/finance/quoteSummary/BAC$O?modules=summaryProfile%2CfinancialData%2CquoteType%2CdefaultKeyStatistics%2CassetProfile%2CsummaryDetail&ssl=true\n"
     ]
    },
    {
     "name": "stderr",
     "output_type": "stream",
     "text": [
      " 10%|█         | 875/8460 [07:51<38:57,  3.25it/s]"
     ]
    },
    {
     "name": "stdout",
     "output_type": "stream",
     "text": [
      "BAC$P 404 Client Error: Not Found for url: https://query2.finance.yahoo.com/v10/finance/quoteSummary/BAC$P?modules=summaryProfile%2CfinancialData%2CquoteType%2CdefaultKeyStatistics%2CassetProfile%2CsummaryDetail&ssl=true\n"
     ]
    },
    {
     "name": "stderr",
     "output_type": "stream",
     "text": [
      " 10%|█         | 876/8460 [07:51<38:47,  3.26it/s]"
     ]
    },
    {
     "name": "stdout",
     "output_type": "stream",
     "text": [
      "BAC$Q 404 Client Error: Not Found for url: https://query2.finance.yahoo.com/v10/finance/quoteSummary/BAC$Q?modules=summaryProfile%2CfinancialData%2CquoteType%2CdefaultKeyStatistics%2CassetProfile%2CsummaryDetail&ssl=true\n"
     ]
    },
    {
     "name": "stderr",
     "output_type": "stream",
     "text": [
      " 10%|█         | 877/8460 [07:52<36:56,  3.42it/s]"
     ]
    },
    {
     "name": "stdout",
     "output_type": "stream",
     "text": [
      "BAC$S 404 Client Error: Not Found for url: https://query2.finance.yahoo.com/v10/finance/quoteSummary/BAC$S?modules=summaryProfile%2CfinancialData%2CquoteType%2CdefaultKeyStatistics%2CassetProfile%2CsummaryDetail&ssl=true\n"
     ]
    },
    {
     "name": "stderr",
     "output_type": "stream",
     "text": [
      " 11%|█         | 900/8460 [08:05<1:02:02,  2.03it/s]"
     ]
    },
    {
     "name": "stdout",
     "output_type": "stream",
     "text": [
      "BARK.W 404 Client Error: Not Found for url: https://query2.finance.yahoo.com/v10/finance/quoteSummary/BARK.W?modules=summaryProfile%2CfinancialData%2CquoteType%2CdefaultKeyStatistics%2CassetProfile%2CsummaryDetail&ssl=true\n"
     ]
    },
    {
     "name": "stderr",
     "output_type": "stream",
     "text": [
      " 11%|█         | 908/8460 [08:09<59:51,  2.10it/s]  "
     ]
    },
    {
     "name": "stdout",
     "output_type": "stream",
     "text": [
      "BBAI.W 404 Client Error: Not Found for url: https://query2.finance.yahoo.com/v10/finance/quoteSummary/BBAI.W?modules=summaryProfile%2CfinancialData%2CquoteType%2CdefaultKeyStatistics%2CassetProfile%2CsummaryDetail&ssl=true\n"
     ]
    },
    {
     "name": "stderr",
     "output_type": "stream",
     "text": [
      " 11%|█         | 930/8460 [08:24<1:17:42,  1.61it/s]"
     ]
    },
    {
     "name": "stdout",
     "output_type": "stream",
     "text": [
      "BC$A 404 Client Error: Not Found for url: https://query2.finance.yahoo.com/v10/finance/quoteSummary/BC$A?modules=summaryProfile%2CfinancialData%2CquoteType%2CdefaultKeyStatistics%2CassetProfile%2CsummaryDetail&ssl=true\n"
     ]
    },
    {
     "name": "stderr",
     "output_type": "stream",
     "text": [
      " 11%|█         | 931/8460 [08:24<1:04:21,  1.95it/s]"
     ]
    },
    {
     "name": "stdout",
     "output_type": "stream",
     "text": [
      "BC$B 404 Client Error: Not Found for url: https://query2.finance.yahoo.com/v10/finance/quoteSummary/BC$B?modules=summaryProfile%2CfinancialData%2CquoteType%2CdefaultKeyStatistics%2CassetProfile%2CsummaryDetail&ssl=true\n"
     ]
    },
    {
     "name": "stderr",
     "output_type": "stream",
     "text": [
      " 11%|█         | 932/8460 [08:24<55:39,  2.25it/s]  "
     ]
    },
    {
     "name": "stdout",
     "output_type": "stream",
     "text": [
      "BC$C 404 Client Error: Not Found for url: https://query2.finance.yahoo.com/v10/finance/quoteSummary/BC$C?modules=summaryProfile%2CfinancialData%2CquoteType%2CdefaultKeyStatistics%2CassetProfile%2CsummaryDetail&ssl=true\n"
     ]
    },
    {
     "name": "stderr",
     "output_type": "stream",
     "text": [
      " 11%|█▏        | 959/8460 [08:40<1:02:15,  2.01it/s]"
     ]
    },
    {
     "name": "stdout",
     "output_type": "stream",
     "text": [
      "BCV$A 404 Client Error: Not Found for url: https://query2.finance.yahoo.com/v10/finance/quoteSummary/BCV$A?modules=summaryProfile%2CfinancialData%2CquoteType%2CdefaultKeyStatistics%2CassetProfile%2CsummaryDetail&ssl=true\n"
     ]
    },
    {
     "name": "stderr",
     "output_type": "stream",
     "text": [
      " 12%|█▏        | 985/8460 [08:55<58:26,  2.13it/s]  "
     ]
    },
    {
     "name": "stdout",
     "output_type": "stream",
     "text": [
      "BEP$A 404 Client Error: Not Found for url: https://query2.finance.yahoo.com/v10/finance/quoteSummary/BEP$A?modules=summaryProfile%2CfinancialData%2CquoteType%2CdefaultKeyStatistics%2CassetProfile%2CsummaryDetail&ssl=true\n"
     ]
    },
    {
     "name": "stderr",
     "output_type": "stream",
     "text": [
      " 12%|█▏        | 994/8460 [09:00<1:03:39,  1.95it/s]"
     ]
    },
    {
     "name": "stdout",
     "output_type": "stream",
     "text": [
      "BFAC.U 404 Client Error: Not Found for url: https://query2.finance.yahoo.com/v10/finance/quoteSummary/BFAC.U?modules=summaryProfile%2CfinancialData%2CquoteType%2CdefaultKeyStatistics%2CassetProfile%2CsummaryDetail&ssl=true\n"
     ]
    },
    {
     "name": "stderr",
     "output_type": "stream",
     "text": [
      " 12%|█▏        | 995/8460 [09:00<54:09,  2.30it/s]  "
     ]
    },
    {
     "name": "stdout",
     "output_type": "stream",
     "text": [
      "BFAC.W 404 Client Error: Not Found for url: https://query2.finance.yahoo.com/v10/finance/quoteSummary/BFAC.W?modules=summaryProfile%2CfinancialData%2CquoteType%2CdefaultKeyStatistics%2CassetProfile%2CsummaryDetail&ssl=true\n"
     ]
    },
    {
     "name": "stderr",
     "output_type": "stream",
     "text": [
      " 12%|█▏        | 1004/8460 [09:05<1:03:15,  1.96it/s]"
     ]
    },
    {
     "name": "stdout",
     "output_type": "stream",
     "text": [
      "BFLY.W 404 Client Error: Not Found for url: https://query2.finance.yahoo.com/v10/finance/quoteSummary/BFLY.W?modules=summaryProfile%2CfinancialData%2CquoteType%2CdefaultKeyStatistics%2CassetProfile%2CsummaryDetail&ssl=true\n"
     ]
    },
    {
     "name": "stderr",
     "output_type": "stream",
     "text": [
      " 12%|█▏        | 1010/8460 [09:08<1:01:24,  2.02it/s]"
     ]
    },
    {
     "name": "stdout",
     "output_type": "stream",
     "text": [
      "BFS$D 404 Client Error: Not Found for url: https://query2.finance.yahoo.com/v10/finance/quoteSummary/BFS$D?modules=summaryProfile%2CfinancialData%2CquoteType%2CdefaultKeyStatistics%2CassetProfile%2CsummaryDetail&ssl=true\n"
     ]
    },
    {
     "name": "stderr",
     "output_type": "stream",
     "text": [
      " 12%|█▏        | 1011/8460 [09:09<53:03,  2.34it/s]  "
     ]
    },
    {
     "name": "stdout",
     "output_type": "stream",
     "text": [
      "BFS$E 404 Client Error: Not Found for url: https://query2.finance.yahoo.com/v10/finance/quoteSummary/BFS$E?modules=summaryProfile%2CfinancialData%2CquoteType%2CdefaultKeyStatistics%2CassetProfile%2CsummaryDetail&ssl=true\n"
     ]
    },
    {
     "name": "stderr",
     "output_type": "stream",
     "text": [
      " 12%|█▏        | 1031/8460 [09:19<58:55,  2.10it/s]  "
     ]
    },
    {
     "name": "stdout",
     "output_type": "stream",
     "text": [
      "BH.A 404 Client Error: Not Found for url: https://query2.finance.yahoo.com/v10/finance/quoteSummary/BH.A?modules=summaryProfile%2CfinancialData%2CquoteType%2CdefaultKeyStatistics%2CassetProfile%2CsummaryDetail&ssl=true\n"
     ]
    },
    {
     "name": "stderr",
     "output_type": "stream",
     "text": [
      " 12%|█▏        | 1047/8460 [09:28<1:01:02,  2.02it/s]"
     ]
    },
    {
     "name": "stdout",
     "output_type": "stream",
     "text": [
      "BHIL.W 404 Client Error: Not Found for url: https://query2.finance.yahoo.com/v10/finance/quoteSummary/BHIL.W?modules=summaryProfile%2CfinancialData%2CquoteType%2CdefaultKeyStatistics%2CassetProfile%2CsummaryDetail&ssl=true\n"
     ]
    },
    {
     "name": "stderr",
     "output_type": "stream",
     "text": [
      " 12%|█▏        | 1053/8460 [09:31<57:02,  2.16it/s]  "
     ]
    },
    {
     "name": "stdout",
     "output_type": "stream",
     "text": [
      "BHR$B 404 Client Error: Not Found for url: https://query2.finance.yahoo.com/v10/finance/quoteSummary/BHR$B?modules=summaryProfile%2CfinancialData%2CquoteType%2CdefaultKeyStatistics%2CassetProfile%2CsummaryDetail&ssl=true\n"
     ]
    },
    {
     "name": "stderr",
     "output_type": "stream",
     "text": [
      " 12%|█▏        | 1054/8460 [09:32<49:08,  2.51it/s]"
     ]
    },
    {
     "name": "stdout",
     "output_type": "stream",
     "text": [
      "BHR$D 404 Client Error: Not Found for url: https://query2.finance.yahoo.com/v10/finance/quoteSummary/BHR$D?modules=summaryProfile%2CfinancialData%2CquoteType%2CdefaultKeyStatistics%2CassetProfile%2CsummaryDetail&ssl=true\n"
     ]
    },
    {
     "name": "stderr",
     "output_type": "stream",
     "text": [
      " 13%|█▎        | 1078/8460 [09:46<1:04:26,  1.91it/s]"
     ]
    },
    {
     "name": "stdout",
     "output_type": "stream",
     "text": [
      "BIP$A 404 Client Error: Not Found for url: https://query2.finance.yahoo.com/v10/finance/quoteSummary/BIP$A?modules=summaryProfile%2CfinancialData%2CquoteType%2CdefaultKeyStatistics%2CassetProfile%2CsummaryDetail&ssl=true\n"
     ]
    },
    {
     "name": "stderr",
     "output_type": "stream",
     "text": [
      " 13%|█▎        | 1079/8460 [09:46<55:50,  2.20it/s]  "
     ]
    },
    {
     "name": "stdout",
     "output_type": "stream",
     "text": [
      "BIP$B 404 Client Error: Not Found for url: https://query2.finance.yahoo.com/v10/finance/quoteSummary/BIP$B?modules=summaryProfile%2CfinancialData%2CquoteType%2CdefaultKeyStatistics%2CassetProfile%2CsummaryDetail&ssl=true\n"
     ]
    },
    {
     "name": "stderr",
     "output_type": "stream",
     "text": [
      " 13%|█▎        | 1086/8460 [09:50<57:03,  2.15it/s]  "
     ]
    },
    {
     "name": "stdout",
     "output_type": "stream",
     "text": [
      "BITE.U 404 Client Error: Not Found for url: https://query2.finance.yahoo.com/v10/finance/quoteSummary/BITE.U?modules=summaryProfile%2CfinancialData%2CquoteType%2CdefaultKeyStatistics%2CassetProfile%2CsummaryDetail&ssl=true\n"
     ]
    },
    {
     "name": "stderr",
     "output_type": "stream",
     "text": [
      " 13%|█▎        | 1087/8460 [09:50<49:25,  2.49it/s]"
     ]
    },
    {
     "name": "stdout",
     "output_type": "stream",
     "text": [
      "BITE.W 404 Client Error: Not Found for url: https://query2.finance.yahoo.com/v10/finance/quoteSummary/BITE.W?modules=summaryProfile%2CfinancialData%2CquoteType%2CdefaultKeyStatistics%2CassetProfile%2CsummaryDetail&ssl=true\n"
     ]
    },
    {
     "name": "stderr",
     "output_type": "stream",
     "text": [
      " 13%|█▎        | 1101/8460 [09:58<57:38,  2.13it/s]  "
     ]
    },
    {
     "name": "stdout",
     "output_type": "stream",
     "text": [
      "BKKT.W 404 Client Error: Not Found for url: https://query2.finance.yahoo.com/v10/finance/quoteSummary/BKKT.W?modules=summaryProfile%2CfinancialData%2CquoteType%2CdefaultKeyStatistics%2CassetProfile%2CsummaryDetail&ssl=true\n"
     ]
    },
    {
     "name": "stderr",
     "output_type": "stream",
     "text": [
      " 13%|█▎        | 1107/8460 [10:01<57:36,  2.13it/s]  "
     ]
    },
    {
     "name": "stdout",
     "output_type": "stream",
     "text": [
      "BKSY.W 404 Client Error: Not Found for url: https://query2.finance.yahoo.com/v10/finance/quoteSummary/BKSY.W?modules=summaryProfile%2CfinancialData%2CquoteType%2CdefaultKeyStatistics%2CassetProfile%2CsummaryDetail&ssl=true\n"
     ]
    },
    {
     "name": "stderr",
     "output_type": "stream",
     "text": [
      " 14%|█▎        | 1147/8460 [10:25<1:02:41,  1.94it/s]"
     ]
    },
    {
     "name": "stdout",
     "output_type": "stream",
     "text": [
      "BLUA.U 404 Client Error: Not Found for url: https://query2.finance.yahoo.com/v10/finance/quoteSummary/BLUA.U?modules=summaryProfile%2CfinancialData%2CquoteType%2CdefaultKeyStatistics%2CassetProfile%2CsummaryDetail&ssl=true\n"
     ]
    },
    {
     "name": "stderr",
     "output_type": "stream",
     "text": [
      " 14%|█▎        | 1148/8460 [10:25<53:39,  2.27it/s]  "
     ]
    },
    {
     "name": "stdout",
     "output_type": "stream",
     "text": [
      "BLUA.W 404 Client Error: Not Found for url: https://query2.finance.yahoo.com/v10/finance/quoteSummary/BLUA.W?modules=summaryProfile%2CfinancialData%2CquoteType%2CdefaultKeyStatistics%2CassetProfile%2CsummaryDetail&ssl=true\n"
     ]
    },
    {
     "name": "stderr",
     "output_type": "stream",
     "text": [
      " 14%|█▎        | 1155/8460 [10:29<59:31,  2.05it/s]  "
     ]
    },
    {
     "name": "stdout",
     "output_type": "stream",
     "text": [
      "BMAC.U 404 Client Error: Not Found for url: https://query2.finance.yahoo.com/v10/finance/quoteSummary/BMAC.U?modules=summaryProfile%2CfinancialData%2CquoteType%2CdefaultKeyStatistics%2CassetProfile%2CsummaryDetail&ssl=true\n"
     ]
    },
    {
     "name": "stderr",
     "output_type": "stream",
     "text": [
      " 14%|█▎        | 1156/8460 [10:29<51:10,  2.38it/s]"
     ]
    },
    {
     "name": "stdout",
     "output_type": "stream",
     "text": [
      "BMAC.W 404 Client Error: Not Found for url: https://query2.finance.yahoo.com/v10/finance/quoteSummary/BMAC.W?modules=summaryProfile%2CfinancialData%2CquoteType%2CdefaultKeyStatistics%2CassetProfile%2CsummaryDetail&ssl=true\n"
     ]
    },
    {
     "name": "stderr",
     "output_type": "stream",
     "text": [
      " 14%|█▎        | 1162/8460 [10:32<56:02,  2.17it/s]  "
     ]
    },
    {
     "name": "stdout",
     "output_type": "stream",
     "text": [
      "BML$G 404 Client Error: Not Found for url: https://query2.finance.yahoo.com/v10/finance/quoteSummary/BML$G?modules=summaryProfile%2CfinancialData%2CquoteType%2CdefaultKeyStatistics%2CassetProfile%2CsummaryDetail&ssl=true\n"
     ]
    },
    {
     "name": "stderr",
     "output_type": "stream",
     "text": [
      " 14%|█▎        | 1163/8460 [10:32<49:41,  2.45it/s]"
     ]
    },
    {
     "name": "stdout",
     "output_type": "stream",
     "text": [
      "BML$H 404 Client Error: Not Found for url: https://query2.finance.yahoo.com/v10/finance/quoteSummary/BML$H?modules=summaryProfile%2CfinancialData%2CquoteType%2CdefaultKeyStatistics%2CassetProfile%2CsummaryDetail&ssl=true\n"
     ]
    },
    {
     "name": "stderr",
     "output_type": "stream",
     "text": [
      " 14%|█▍        | 1164/8460 [10:33<45:18,  2.68it/s]"
     ]
    },
    {
     "name": "stdout",
     "output_type": "stream",
     "text": [
      "BML$J 404 Client Error: Not Found for url: https://query2.finance.yahoo.com/v10/finance/quoteSummary/BML$J?modules=summaryProfile%2CfinancialData%2CquoteType%2CdefaultKeyStatistics%2CassetProfile%2CsummaryDetail&ssl=true\n"
     ]
    },
    {
     "name": "stderr",
     "output_type": "stream",
     "text": [
      " 14%|█▍        | 1165/8460 [10:33<41:37,  2.92it/s]"
     ]
    },
    {
     "name": "stdout",
     "output_type": "stream",
     "text": [
      "BML$L 404 Client Error: Not Found for url: https://query2.finance.yahoo.com/v10/finance/quoteSummary/BML$L?modules=summaryProfile%2CfinancialData%2CquoteType%2CdefaultKeyStatistics%2CassetProfile%2CsummaryDetail&ssl=true\n"
     ]
    },
    {
     "name": "stderr",
     "output_type": "stream",
     "text": [
      " 14%|█▍        | 1173/8460 [10:37<57:58,  2.10it/s]  "
     ]
    },
    {
     "name": "stdout",
     "output_type": "stream",
     "text": [
      "BMTX.W 404 Client Error: Not Found for url: https://query2.finance.yahoo.com/v10/finance/quoteSummary/BMTX.W?modules=summaryProfile%2CfinancialData%2CquoteType%2CdefaultKeyStatistics%2CassetProfile%2CsummaryDetail&ssl=true\n"
     ]
    },
    {
     "name": "stderr",
     "output_type": "stream",
     "text": [
      " 14%|█▍        | 1201/8460 [10:53<1:03:56,  1.89it/s]"
     ]
    },
    {
     "name": "stdout",
     "output_type": "stream",
     "text": [
      "BOAC.U 404 Client Error: Not Found for url: https://query2.finance.yahoo.com/v10/finance/quoteSummary/BOAC.U?modules=summaryProfile%2CfinancialData%2CquoteType%2CdefaultKeyStatistics%2CassetProfile%2CsummaryDetail&ssl=true\n"
     ]
    },
    {
     "name": "stderr",
     "output_type": "stream",
     "text": [
      " 14%|█▍        | 1202/8460 [10:54<54:11,  2.23it/s]  "
     ]
    },
    {
     "name": "stdout",
     "output_type": "stream",
     "text": [
      "BOAC.W 404 Client Error: Not Found for url: https://query2.finance.yahoo.com/v10/finance/quoteSummary/BOAC.W?modules=summaryProfile%2CfinancialData%2CquoteType%2CdefaultKeyStatistics%2CassetProfile%2CsummaryDetail&ssl=true\n"
     ]
    },
    {
     "name": "stderr",
     "output_type": "stream",
     "text": [
      " 14%|█▍        | 1208/8460 [10:57<58:45,  2.06it/s]  "
     ]
    },
    {
     "name": "stdout",
     "output_type": "stream",
     "text": [
      "BODY.W 404 Client Error: Not Found for url: https://query2.finance.yahoo.com/v10/finance/quoteSummary/BODY.W?modules=summaryProfile%2CfinancialData%2CquoteType%2CdefaultKeyStatistics%2CassetProfile%2CsummaryDetail&ssl=true\n"
     ]
    },
    {
     "name": "stderr",
     "output_type": "stream",
     "text": [
      " 14%|█▍        | 1211/8460 [10:59<55:50,  2.16it/s]  "
     ]
    },
    {
     "name": "stdout",
     "output_type": "stream",
     "text": [
      "BOH$A 404 Client Error: Not Found for url: https://query2.finance.yahoo.com/v10/finance/quoteSummary/BOH$A?modules=summaryProfile%2CfinancialData%2CquoteType%2CdefaultKeyStatistics%2CassetProfile%2CsummaryDetail&ssl=true\n"
     ]
    },
    {
     "name": "stderr",
     "output_type": "stream",
     "text": [
      " 15%|█▍        | 1249/8460 [11:20<57:50,  2.08it/s]  "
     ]
    },
    {
     "name": "stdout",
     "output_type": "stream",
     "text": [
      "BRD.U 404 Client Error: Not Found for url: https://query2.finance.yahoo.com/v10/finance/quoteSummary/BRD.U?modules=summaryProfile%2CfinancialData%2CquoteType%2CdefaultKeyStatistics%2CassetProfile%2CsummaryDetail&ssl=true\n"
     ]
    },
    {
     "name": "stderr",
     "output_type": "stream",
     "text": [
      " 15%|█▍        | 1250/8460 [11:20<49:41,  2.42it/s]"
     ]
    },
    {
     "name": "stdout",
     "output_type": "stream",
     "text": [
      "BRD.W 404 Client Error: Not Found for url: https://query2.finance.yahoo.com/v10/finance/quoteSummary/BRD.W?modules=summaryProfile%2CfinancialData%2CquoteType%2CdefaultKeyStatistics%2CassetProfile%2CsummaryDetail&ssl=true\n"
     ]
    },
    {
     "name": "stderr",
     "output_type": "stream",
     "text": [
      " 15%|█▍        | 1253/8460 [11:22<49:56,  2.41it/s]"
     ]
    },
    {
     "name": "stdout",
     "output_type": "stream",
     "text": [
      "BRDS.W 404 Client Error: Not Found for url: https://query2.finance.yahoo.com/v10/finance/quoteSummary/BRDS.W?modules=summaryProfile%2CfinancialData%2CquoteType%2CdefaultKeyStatistics%2CassetProfile%2CsummaryDetail&ssl=true\n"
     ]
    },
    {
     "name": "stderr",
     "output_type": "stream",
     "text": [
      " 15%|█▌        | 1295/8460 [11:46<1:03:47,  1.87it/s]"
     ]
    },
    {
     "name": "stdout",
     "output_type": "stream",
     "text": [
      "BSAQ.U 404 Client Error: Not Found for url: https://query2.finance.yahoo.com/v10/finance/quoteSummary/BSAQ.U?modules=summaryProfile%2CfinancialData%2CquoteType%2CdefaultKeyStatistics%2CassetProfile%2CsummaryDetail&ssl=true\n"
     ]
    },
    {
     "name": "stderr",
     "output_type": "stream",
     "text": [
      " 15%|█▌        | 1296/8460 [11:47<55:07,  2.17it/s]  "
     ]
    },
    {
     "name": "stdout",
     "output_type": "stream",
     "text": [
      "BSAQ.W 404 Client Error: Not Found for url: https://query2.finance.yahoo.com/v10/finance/quoteSummary/BSAQ.W?modules=summaryProfile%2CfinancialData%2CquoteType%2CdefaultKeyStatistics%2CassetProfile%2CsummaryDetail&ssl=true\n"
     ]
    },
    {
     "name": "stderr",
     "output_type": "stream",
     "text": [
      " 16%|█▌        | 1312/8460 [11:56<1:00:54,  1.96it/s]"
     ]
    },
    {
     "name": "stdout",
     "output_type": "stream",
     "text": [
      "BSX$A 404 Client Error: Not Found for url: https://query2.finance.yahoo.com/v10/finance/quoteSummary/BSX$A?modules=summaryProfile%2CfinancialData%2CquoteType%2CdefaultKeyStatistics%2CassetProfile%2CsummaryDetail&ssl=true\n"
     ]
    },
    {
     "name": "stderr",
     "output_type": "stream",
     "text": [
      " 16%|█▌        | 1344/8460 [12:20<1:58:15,  1.00it/s]"
     ]
    },
    {
     "name": "stdout",
     "output_type": "stream",
     "text": [
      "BURU.W 404 Client Error: Not Found for url: https://query2.finance.yahoo.com/v10/finance/quoteSummary/BURU.W?modules=summaryProfile%2CfinancialData%2CquoteType%2CdefaultKeyStatistics%2CassetProfile%2CsummaryDetail&ssl=true\n"
     ]
    },
    {
     "name": "stderr",
     "output_type": "stream",
     "text": [
      " 16%|█▌        | 1352/8460 [12:25<1:01:36,  1.92it/s]"
     ]
    },
    {
     "name": "stdout",
     "output_type": "stream",
     "text": [
      "BW$A 404 Client Error: Not Found for url: https://query2.finance.yahoo.com/v10/finance/quoteSummary/BW$A?modules=summaryProfile%2CfinancialData%2CquoteType%2CdefaultKeyStatistics%2CassetProfile%2CsummaryDetail&ssl=true\n"
     ]
    },
    {
     "name": "stderr",
     "output_type": "stream",
     "text": [
      " 16%|█▋        | 1388/8460 [12:45<1:02:43,  1.88it/s]"
     ]
    },
    {
     "name": "stdout",
     "output_type": "stream",
     "text": [
      "BYN.U 404 Client Error: Not Found for url: https://query2.finance.yahoo.com/v10/finance/quoteSummary/BYN.U?modules=summaryProfile%2CfinancialData%2CquoteType%2CdefaultKeyStatistics%2CassetProfile%2CsummaryDetail&ssl=true\n"
     ]
    },
    {
     "name": "stderr",
     "output_type": "stream",
     "text": [
      " 16%|█▋        | 1389/8460 [12:46<53:52,  2.19it/s]  "
     ]
    },
    {
     "name": "stdout",
     "output_type": "stream",
     "text": [
      "BYN.W 404 Client Error: Not Found for url: https://query2.finance.yahoo.com/v10/finance/quoteSummary/BYN.W?modules=summaryProfile%2CfinancialData%2CquoteType%2CdefaultKeyStatistics%2CassetProfile%2CsummaryDetail&ssl=true\n"
     ]
    },
    {
     "name": "stderr",
     "output_type": "stream",
     "text": [
      " 17%|█▋        | 1405/8460 [12:55<58:44,  2.00it/s]  "
     ]
    },
    {
     "name": "stdout",
     "output_type": "stream",
     "text": [
      "C$J 404 Client Error: Not Found for url: https://query2.finance.yahoo.com/v10/finance/quoteSummary/C$J?modules=summaryProfile%2CfinancialData%2CquoteType%2CdefaultKeyStatistics%2CassetProfile%2CsummaryDetail&ssl=true\n"
     ]
    },
    {
     "name": "stderr",
     "output_type": "stream",
     "text": [
      " 17%|█▋        | 1406/8460 [12:55<50:16,  2.34it/s]"
     ]
    },
    {
     "name": "stdout",
     "output_type": "stream",
     "text": [
      "C$K 404 Client Error: Not Found for url: https://query2.finance.yahoo.com/v10/finance/quoteSummary/C$K?modules=summaryProfile%2CfinancialData%2CquoteType%2CdefaultKeyStatistics%2CassetProfile%2CsummaryDetail&ssl=true\n"
     ]
    },
    {
     "name": "stderr",
     "output_type": "stream",
     "text": [
      " 17%|█▋        | 1407/8460 [12:55<44:43,  2.63it/s]"
     ]
    },
    {
     "name": "stdout",
     "output_type": "stream",
     "text": [
      "C$N 404 Client Error: Not Found for url: https://query2.finance.yahoo.com/v10/finance/quoteSummary/C$N?modules=summaryProfile%2CfinancialData%2CquoteType%2CdefaultKeyStatistics%2CassetProfile%2CsummaryDetail&ssl=true\n"
     ]
    },
    {
     "name": "stderr",
     "output_type": "stream",
     "text": [
      " 17%|█▋        | 1417/8460 [13:01<57:14,  2.05it/s]  "
     ]
    },
    {
     "name": "stdout",
     "output_type": "stream",
     "text": [
      "CADE$A 404 Client Error: Not Found for url: https://query2.finance.yahoo.com/v10/finance/quoteSummary/CADE$A?modules=summaryProfile%2CfinancialData%2CquoteType%2CdefaultKeyStatistics%2CassetProfile%2CsummaryDetail&ssl=true\n"
     ]
    },
    {
     "name": "stderr",
     "output_type": "stream",
     "text": [
      " 17%|█▋        | 1435/8460 [13:11<59:22,  1.97it/s]  "
     ]
    },
    {
     "name": "stdout",
     "output_type": "stream",
     "text": [
      "CANO.W 404 Client Error: Not Found for url: https://query2.finance.yahoo.com/v10/finance/quoteSummary/CANO.W?modules=summaryProfile%2CfinancialData%2CquoteType%2CdefaultKeyStatistics%2CassetProfile%2CsummaryDetail&ssl=true\n"
     ]
    },
    {
     "name": "stderr",
     "output_type": "stream",
     "text": [
      " 18%|█▊        | 1513/8460 [14:08<57:18,  2.02it/s]  "
     ]
    },
    {
     "name": "stdout",
     "output_type": "stream",
     "text": [
      "CCV.U 404 Client Error: Not Found for url: https://query2.finance.yahoo.com/v10/finance/quoteSummary/CCV.U?modules=summaryProfile%2CfinancialData%2CquoteType%2CdefaultKeyStatistics%2CassetProfile%2CsummaryDetail&ssl=true\n"
     ]
    },
    {
     "name": "stderr",
     "output_type": "stream",
     "text": [
      " 18%|█▊        | 1514/8460 [14:08<50:50,  2.28it/s]"
     ]
    },
    {
     "name": "stdout",
     "output_type": "stream",
     "text": [
      "CCV.W 404 Client Error: Not Found for url: https://query2.finance.yahoo.com/v10/finance/quoteSummary/CCV.W?modules=summaryProfile%2CfinancialData%2CquoteType%2CdefaultKeyStatistics%2CassetProfile%2CsummaryDetail&ssl=true\n"
     ]
    },
    {
     "name": "stderr",
     "output_type": "stream",
     "text": [
      " 18%|█▊        | 1516/8460 [14:09<48:17,  2.40it/s]"
     ]
    },
    {
     "name": "stdout",
     "output_type": "stream",
     "text": [
      "CCVI.U 404 Client Error: Not Found for url: https://query2.finance.yahoo.com/v10/finance/quoteSummary/CCVI.U?modules=summaryProfile%2CfinancialData%2CquoteType%2CdefaultKeyStatistics%2CassetProfile%2CsummaryDetail&ssl=true\n"
     ]
    },
    {
     "name": "stderr",
     "output_type": "stream",
     "text": [
      " 18%|█▊        | 1517/8460 [14:09<42:36,  2.72it/s]"
     ]
    },
    {
     "name": "stdout",
     "output_type": "stream",
     "text": [
      "CCVI.W 404 Client Error: Not Found for url: https://query2.finance.yahoo.com/v10/finance/quoteSummary/CCVI.W?modules=summaryProfile%2CfinancialData%2CquoteType%2CdefaultKeyStatistics%2CassetProfile%2CsummaryDetail&ssl=true\n"
     ]
    },
    {
     "name": "stderr",
     "output_type": "stream",
     "text": [
      " 18%|█▊        | 1531/8460 [14:17<57:17,  2.02it/s]  "
     ]
    },
    {
     "name": "stdout",
     "output_type": "stream",
     "text": [
      "CDR$B 404 Client Error: Not Found for url: https://query2.finance.yahoo.com/v10/finance/quoteSummary/CDR$B?modules=summaryProfile%2CfinancialData%2CquoteType%2CdefaultKeyStatistics%2CassetProfile%2CsummaryDetail&ssl=true\n"
     ]
    },
    {
     "name": "stderr",
     "output_type": "stream",
     "text": [
      " 18%|█▊        | 1532/8460 [14:17<50:43,  2.28it/s]"
     ]
    },
    {
     "name": "stdout",
     "output_type": "stream",
     "text": [
      "CDR$C 404 Client Error: Not Found for url: https://query2.finance.yahoo.com/v10/finance/quoteSummary/CDR$C?modules=summaryProfile%2CfinancialData%2CquoteType%2CdefaultKeyStatistics%2CassetProfile%2CsummaryDetail&ssl=true\n"
     ]
    },
    {
     "name": "stderr",
     "output_type": "stream",
     "text": [
      " 18%|█▊        | 1551/8460 [14:28<58:01,  1.98it/s]  "
     ]
    },
    {
     "name": "stdout",
     "output_type": "stream",
     "text": [
      "CELG.R 404 Client Error: Not Found for url: https://query2.finance.yahoo.com/v10/finance/quoteSummary/CELG.R?modules=summaryProfile%2CfinancialData%2CquoteType%2CdefaultKeyStatistics%2CassetProfile%2CsummaryDetail&ssl=true\n"
     ]
    },
    {
     "name": "stderr",
     "output_type": "stream",
     "text": [
      " 19%|█▊        | 1566/8460 [14:36<58:26,  1.97it/s]  "
     ]
    },
    {
     "name": "stdout",
     "output_type": "stream",
     "text": [
      "CEQP$ 404 Client Error: Not Found for url: https://query2.finance.yahoo.com/v10/finance/quoteSummary/CEQP$?modules=summaryProfile%2CfinancialData%2CquoteType%2CdefaultKeyStatistics%2CassetProfile%2CsummaryDetail&ssl=true\n"
     ]
    },
    {
     "name": "stderr",
     "output_type": "stream",
     "text": [
      " 19%|█▉        | 1592/8460 [14:51<56:13,  2.04it/s]  "
     ]
    },
    {
     "name": "stdout",
     "output_type": "stream",
     "text": [
      "CFG$D 404 Client Error: Not Found for url: https://query2.finance.yahoo.com/v10/finance/quoteSummary/CFG$D?modules=summaryProfile%2CfinancialData%2CquoteType%2CdefaultKeyStatistics%2CassetProfile%2CsummaryDetail&ssl=true\n"
     ]
    },
    {
     "name": "stderr",
     "output_type": "stream",
     "text": [
      " 19%|█▉        | 1593/8460 [14:51<49:23,  2.32it/s]"
     ]
    },
    {
     "name": "stdout",
     "output_type": "stream",
     "text": [
      "CFG$E 404 Client Error: Not Found for url: https://query2.finance.yahoo.com/v10/finance/quoteSummary/CFG$E?modules=summaryProfile%2CfinancialData%2CquoteType%2CdefaultKeyStatistics%2CassetProfile%2CsummaryDetail&ssl=true\n"
     ]
    },
    {
     "name": "stderr",
     "output_type": "stream",
     "text": [
      " 19%|█▉        | 1600/8460 [14:55<56:04,  2.04it/s]  "
     ]
    },
    {
     "name": "stdout",
     "output_type": "stream",
     "text": [
      "CFR$B 404 Client Error: Not Found for url: https://query2.finance.yahoo.com/v10/finance/quoteSummary/CFR$B?modules=summaryProfile%2CfinancialData%2CquoteType%2CdefaultKeyStatistics%2CassetProfile%2CsummaryDetail&ssl=true\n"
     ]
    },
    {
     "name": "stderr",
     "output_type": "stream",
     "text": [
      " 19%|█▉        | 1639/8460 [15:18<56:11,  2.02it/s]  "
     ]
    },
    {
     "name": "stdout",
     "output_type": "stream",
     "text": [
      "CHMI$A 404 Client Error: Not Found for url: https://query2.finance.yahoo.com/v10/finance/quoteSummary/CHMI$A?modules=summaryProfile%2CfinancialData%2CquoteType%2CdefaultKeyStatistics%2CassetProfile%2CsummaryDetail&ssl=true\n"
     ]
    },
    {
     "name": "stderr",
     "output_type": "stream",
     "text": [
      " 19%|█▉        | 1640/8460 [15:18<49:37,  2.29it/s]"
     ]
    },
    {
     "name": "stdout",
     "output_type": "stream",
     "text": [
      "CHMI$B 404 Client Error: Not Found for url: https://query2.finance.yahoo.com/v10/finance/quoteSummary/CHMI$B?modules=summaryProfile%2CfinancialData%2CquoteType%2CdefaultKeyStatistics%2CassetProfile%2CsummaryDetail&ssl=true\n"
     ]
    },
    {
     "name": "stderr",
     "output_type": "stream",
     "text": [
      " 20%|█▉        | 1670/8460 [15:36<56:28,  2.00it/s]  "
     ]
    },
    {
     "name": "stdout",
     "output_type": "stream",
     "text": [
      "CIG.C 404 Client Error: Not Found for url: https://query2.finance.yahoo.com/v10/finance/quoteSummary/CIG.C?modules=summaryProfile%2CfinancialData%2CquoteType%2CdefaultKeyStatistics%2CassetProfile%2CsummaryDetail&ssl=true\n"
     ]
    },
    {
     "name": "stderr",
     "output_type": "stream",
     "text": [
      " 20%|█▉        | 1678/8460 [15:40<56:51,  1.99it/s]  "
     ]
    },
    {
     "name": "stdout",
     "output_type": "stream",
     "text": [
      "CIM$A 404 Client Error: Not Found for url: https://query2.finance.yahoo.com/v10/finance/quoteSummary/CIM$A?modules=summaryProfile%2CfinancialData%2CquoteType%2CdefaultKeyStatistics%2CassetProfile%2CsummaryDetail&ssl=true\n"
     ]
    },
    {
     "name": "stderr",
     "output_type": "stream",
     "text": [
      " 20%|█▉        | 1679/8460 [15:41<49:24,  2.29it/s]"
     ]
    },
    {
     "name": "stdout",
     "output_type": "stream",
     "text": [
      "CIM$B 404 Client Error: Not Found for url: https://query2.finance.yahoo.com/v10/finance/quoteSummary/CIM$B?modules=summaryProfile%2CfinancialData%2CquoteType%2CdefaultKeyStatistics%2CassetProfile%2CsummaryDetail&ssl=true\n"
     ]
    },
    {
     "name": "stderr",
     "output_type": "stream",
     "text": [
      " 20%|█▉        | 1680/8460 [15:41<43:35,  2.59it/s]"
     ]
    },
    {
     "name": "stdout",
     "output_type": "stream",
     "text": [
      "CIM$C 404 Client Error: Not Found for url: https://query2.finance.yahoo.com/v10/finance/quoteSummary/CIM$C?modules=summaryProfile%2CfinancialData%2CquoteType%2CdefaultKeyStatistics%2CassetProfile%2CsummaryDetail&ssl=true\n"
     ]
    },
    {
     "name": "stderr",
     "output_type": "stream",
     "text": [
      " 20%|█▉        | 1681/8460 [15:41<39:18,  2.87it/s]"
     ]
    },
    {
     "name": "stdout",
     "output_type": "stream",
     "text": [
      "CIM$D 404 Client Error: Not Found for url: https://query2.finance.yahoo.com/v10/finance/quoteSummary/CIM$D?modules=summaryProfile%2CfinancialData%2CquoteType%2CdefaultKeyStatistics%2CassetProfile%2CsummaryDetail&ssl=true\n"
     ]
    },
    {
     "name": "stderr",
     "output_type": "stream",
     "text": [
      " 20%|█▉        | 1687/8460 [15:44<54:06,  2.09it/s]  "
     ]
    },
    {
     "name": "stdout",
     "output_type": "stream",
     "text": [
      "CIO$A 404 Client Error: Not Found for url: https://query2.finance.yahoo.com/v10/finance/quoteSummary/CIO$A?modules=summaryProfile%2CfinancialData%2CquoteType%2CdefaultKeyStatistics%2CassetProfile%2CsummaryDetail&ssl=true\n"
     ]
    },
    {
     "name": "stderr",
     "output_type": "stream",
     "text": [
      " 20%|██        | 1709/8460 [15:57<54:13,  2.07it/s]  "
     ]
    },
    {
     "name": "stdout",
     "output_type": "stream",
     "text": [
      "CLBR.U 404 Client Error: Not Found for url: https://query2.finance.yahoo.com/v10/finance/quoteSummary/CLBR.U?modules=summaryProfile%2CfinancialData%2CquoteType%2CdefaultKeyStatistics%2CassetProfile%2CsummaryDetail&ssl=true\n"
     ]
    },
    {
     "name": "stderr",
     "output_type": "stream",
     "text": [
      " 20%|██        | 1710/8460 [15:57<47:02,  2.39it/s]"
     ]
    },
    {
     "name": "stdout",
     "output_type": "stream",
     "text": [
      "CLBR.W 404 Client Error: Not Found for url: https://query2.finance.yahoo.com/v10/finance/quoteSummary/CLBR.W?modules=summaryProfile%2CfinancialData%2CquoteType%2CdefaultKeyStatistics%2CassetProfile%2CsummaryDetail&ssl=true\n"
     ]
    },
    {
     "name": "stderr",
     "output_type": "stream",
     "text": [
      " 20%|██        | 1715/8460 [16:00<54:03,  2.08it/s]  "
     ]
    },
    {
     "name": "stdout",
     "output_type": "stream",
     "text": [
      "CLDT$A 404 Client Error: Not Found for url: https://query2.finance.yahoo.com/v10/finance/quoteSummary/CLDT$A?modules=summaryProfile%2CfinancialData%2CquoteType%2CdefaultKeyStatistics%2CassetProfile%2CsummaryDetail&ssl=true\n"
     ]
    },
    {
     "name": "stderr",
     "output_type": "stream",
     "text": [
      " 21%|██        | 1754/8460 [16:23<1:02:45,  1.78it/s]"
     ]
    },
    {
     "name": "stdout",
     "output_type": "stream",
     "text": [
      "CLVT$A 404 Client Error: Not Found for url: https://query2.finance.yahoo.com/v10/finance/quoteSummary/CLVT$A?modules=summaryProfile%2CfinancialData%2CquoteType%2CdefaultKeyStatistics%2CassetProfile%2CsummaryDetail&ssl=true\n"
     ]
    },
    {
     "name": "stderr",
     "output_type": "stream",
     "text": [
      " 21%|██        | 1788/8460 [16:45<53:13,  2.09it/s]  "
     ]
    },
    {
     "name": "stdout",
     "output_type": "stream",
     "text": [
      "CMRE$B 404 Client Error: Not Found for url: https://query2.finance.yahoo.com/v10/finance/quoteSummary/CMRE$B?modules=summaryProfile%2CfinancialData%2CquoteType%2CdefaultKeyStatistics%2CassetProfile%2CsummaryDetail&ssl=true\n"
     ]
    },
    {
     "name": "stderr",
     "output_type": "stream",
     "text": [
      " 21%|██        | 1789/8460 [16:45<46:54,  2.37it/s]"
     ]
    },
    {
     "name": "stdout",
     "output_type": "stream",
     "text": [
      "CMRE$C 404 Client Error: Not Found for url: https://query2.finance.yahoo.com/v10/finance/quoteSummary/CMRE$C?modules=summaryProfile%2CfinancialData%2CquoteType%2CdefaultKeyStatistics%2CassetProfile%2CsummaryDetail&ssl=true\n"
     ]
    },
    {
     "name": "stderr",
     "output_type": "stream",
     "text": [
      " 21%|██        | 1790/8460 [16:46<42:06,  2.64it/s]"
     ]
    },
    {
     "name": "stdout",
     "output_type": "stream",
     "text": [
      "CMRE$D 404 Client Error: Not Found for url: https://query2.finance.yahoo.com/v10/finance/quoteSummary/CMRE$D?modules=summaryProfile%2CfinancialData%2CquoteType%2CdefaultKeyStatistics%2CassetProfile%2CsummaryDetail&ssl=true\n"
     ]
    },
    {
     "name": "stderr",
     "output_type": "stream",
     "text": [
      " 21%|██        | 1791/8460 [16:46<38:18,  2.90it/s]"
     ]
    },
    {
     "name": "stdout",
     "output_type": "stream",
     "text": [
      "CMRE$E 404 Client Error: Not Found for url: https://query2.finance.yahoo.com/v10/finance/quoteSummary/CMRE$E?modules=summaryProfile%2CfinancialData%2CquoteType%2CdefaultKeyStatistics%2CassetProfile%2CsummaryDetail&ssl=true\n"
     ]
    },
    {
     "name": "stderr",
     "output_type": "stream",
     "text": [
      " 21%|██        | 1794/8460 [16:47<47:04,  2.36it/s]"
     ]
    },
    {
     "name": "stdout",
     "output_type": "stream",
     "text": [
      "CMS$B 404 Client Error: Not Found for url: https://query2.finance.yahoo.com/v10/finance/quoteSummary/CMS$B?modules=summaryProfile%2CfinancialData%2CquoteType%2CdefaultKeyStatistics%2CassetProfile%2CsummaryDetail&ssl=true\n"
     ]
    },
    {
     "name": "stderr",
     "output_type": "stream",
     "text": [
      " 21%|██        | 1795/8460 [16:48<42:33,  2.61it/s]"
     ]
    },
    {
     "name": "stdout",
     "output_type": "stream",
     "text": [
      "CMS$C 404 Client Error: Not Found for url: https://query2.finance.yahoo.com/v10/finance/quoteSummary/CMS$C?modules=summaryProfile%2CfinancialData%2CquoteType%2CdefaultKeyStatistics%2CassetProfile%2CsummaryDetail&ssl=true\n"
     ]
    },
    {
     "name": "stderr",
     "output_type": "stream",
     "text": [
      " 21%|██▏       | 1806/8460 [16:54<56:54,  1.95it/s]  "
     ]
    },
    {
     "name": "stdout",
     "output_type": "stream",
     "text": [
      "CNDA.U 404 Client Error: Not Found for url: https://query2.finance.yahoo.com/v10/finance/quoteSummary/CNDA.U?modules=summaryProfile%2CfinancialData%2CquoteType%2CdefaultKeyStatistics%2CassetProfile%2CsummaryDetail&ssl=true\n"
     ]
    },
    {
     "name": "stderr",
     "output_type": "stream",
     "text": [
      " 21%|██▏       | 1807/8460 [16:54<48:24,  2.29it/s]"
     ]
    },
    {
     "name": "stdout",
     "output_type": "stream",
     "text": [
      "CNDA.W 404 Client Error: Not Found for url: https://query2.finance.yahoo.com/v10/finance/quoteSummary/CNDA.W?modules=summaryProfile%2CfinancialData%2CquoteType%2CdefaultKeyStatistics%2CassetProfile%2CsummaryDetail&ssl=true\n"
     ]
    },
    {
     "name": "stderr",
     "output_type": "stream",
     "text": [
      " 21%|██▏       | 1809/8460 [16:55<47:58,  2.31it/s]"
     ]
    },
    {
     "name": "stdout",
     "output_type": "stream",
     "text": [
      "CNDB.U 404 Client Error: Not Found for url: https://query2.finance.yahoo.com/v10/finance/quoteSummary/CNDB.U?modules=summaryProfile%2CfinancialData%2CquoteType%2CdefaultKeyStatistics%2CassetProfile%2CsummaryDetail&ssl=true\n"
     ]
    },
    {
     "name": "stderr",
     "output_type": "stream",
     "text": [
      " 21%|██▏       | 1810/8460 [16:55<42:08,  2.63it/s]"
     ]
    },
    {
     "name": "stdout",
     "output_type": "stream",
     "text": [
      "CNDB.W 404 Client Error: Not Found for url: https://query2.finance.yahoo.com/v10/finance/quoteSummary/CNDB.W?modules=summaryProfile%2CfinancialData%2CquoteType%2CdefaultKeyStatistics%2CassetProfile%2CsummaryDetail&ssl=true\n"
     ]
    },
    {
     "name": "stderr",
     "output_type": "stream",
     "text": [
      " 22%|██▏       | 1827/8460 [17:05<53:53,  2.05it/s]  "
     ]
    },
    {
     "name": "stdout",
     "output_type": "stream",
     "text": [
      "CNO$A 404 Client Error: Not Found for url: https://query2.finance.yahoo.com/v10/finance/quoteSummary/CNO$A?modules=summaryProfile%2CfinancialData%2CquoteType%2CdefaultKeyStatistics%2CassetProfile%2CsummaryDetail&ssl=true\n"
     ]
    },
    {
     "name": "stderr",
     "output_type": "stream",
     "text": [
      " 22%|██▏       | 1849/8460 [17:17<55:28,  1.99it/s]  "
     ]
    },
    {
     "name": "stdout",
     "output_type": "stream",
     "text": [
      "CODI$A 404 Client Error: Not Found for url: https://query2.finance.yahoo.com/v10/finance/quoteSummary/CODI$A?modules=summaryProfile%2CfinancialData%2CquoteType%2CdefaultKeyStatistics%2CassetProfile%2CsummaryDetail&ssl=true\n"
     ]
    },
    {
     "name": "stderr",
     "output_type": "stream",
     "text": [
      " 22%|██▏       | 1850/8460 [17:18<47:44,  2.31it/s]"
     ]
    },
    {
     "name": "stdout",
     "output_type": "stream",
     "text": [
      "CODI$B 404 Client Error: Not Found for url: https://query2.finance.yahoo.com/v10/finance/quoteSummary/CODI$B?modules=summaryProfile%2CfinancialData%2CquoteType%2CdefaultKeyStatistics%2CassetProfile%2CsummaryDetail&ssl=true\n"
     ]
    },
    {
     "name": "stderr",
     "output_type": "stream",
     "text": [
      " 22%|██▏       | 1851/8460 [17:18<42:02,  2.62it/s]"
     ]
    },
    {
     "name": "stdout",
     "output_type": "stream",
     "text": [
      "CODI$C 404 Client Error: Not Found for url: https://query2.finance.yahoo.com/v10/finance/quoteSummary/CODI$C?modules=summaryProfile%2CfinancialData%2CquoteType%2CdefaultKeyStatistics%2CassetProfile%2CsummaryDetail&ssl=true\n"
     ]
    },
    {
     "name": "stderr",
     "output_type": "stream",
     "text": [
      " 22%|██▏       | 1857/8460 [17:21<53:42,  2.05it/s]  "
     ]
    },
    {
     "name": "stdout",
     "output_type": "stream",
     "text": [
      "COF$I 404 Client Error: Not Found for url: https://query2.finance.yahoo.com/v10/finance/quoteSummary/COF$I?modules=summaryProfile%2CfinancialData%2CquoteType%2CdefaultKeyStatistics%2CassetProfile%2CsummaryDetail&ssl=true\n"
     ]
    },
    {
     "name": "stderr",
     "output_type": "stream",
     "text": [
      " 22%|██▏       | 1858/8460 [17:22<46:38,  2.36it/s]"
     ]
    },
    {
     "name": "stdout",
     "output_type": "stream",
     "text": [
      "COF$J 404 Client Error: Not Found for url: https://query2.finance.yahoo.com/v10/finance/quoteSummary/COF$J?modules=summaryProfile%2CfinancialData%2CquoteType%2CdefaultKeyStatistics%2CassetProfile%2CsummaryDetail&ssl=true\n"
     ]
    },
    {
     "name": "stderr",
     "output_type": "stream",
     "text": [
      " 22%|██▏       | 1859/8460 [17:22<42:10,  2.61it/s]"
     ]
    },
    {
     "name": "stdout",
     "output_type": "stream",
     "text": [
      "COF$K 404 Client Error: Not Found for url: https://query2.finance.yahoo.com/v10/finance/quoteSummary/COF$K?modules=summaryProfile%2CfinancialData%2CquoteType%2CdefaultKeyStatistics%2CassetProfile%2CsummaryDetail&ssl=true\n"
     ]
    },
    {
     "name": "stderr",
     "output_type": "stream",
     "text": [
      " 22%|██▏       | 1860/8460 [17:22<39:09,  2.81it/s]"
     ]
    },
    {
     "name": "stdout",
     "output_type": "stream",
     "text": [
      "COF$L 404 Client Error: Not Found for url: https://query2.finance.yahoo.com/v10/finance/quoteSummary/COF$L?modules=summaryProfile%2CfinancialData%2CquoteType%2CdefaultKeyStatistics%2CassetProfile%2CsummaryDetail&ssl=true\n"
     ]
    },
    {
     "name": "stderr",
     "output_type": "stream",
     "text": [
      " 22%|██▏       | 1861/8460 [17:22<37:25,  2.94it/s]"
     ]
    },
    {
     "name": "stdout",
     "output_type": "stream",
     "text": [
      "COF$N 404 Client Error: Not Found for url: https://query2.finance.yahoo.com/v10/finance/quoteSummary/COF$N?modules=summaryProfile%2CfinancialData%2CquoteType%2CdefaultKeyStatistics%2CassetProfile%2CsummaryDetail&ssl=true\n"
     ]
    },
    {
     "name": "stderr",
     "output_type": "stream",
     "text": [
      " 22%|██▏       | 1890/8460 [17:39<55:02,  1.99it/s]  "
     ]
    },
    {
     "name": "stdout",
     "output_type": "stream",
     "text": [
      "CORR$A 404 Client Error: Not Found for url: https://query2.finance.yahoo.com/v10/finance/quoteSummary/CORR$A?modules=summaryProfile%2CfinancialData%2CquoteType%2CdefaultKeyStatistics%2CassetProfile%2CsummaryDetail&ssl=true\n"
     ]
    },
    {
     "name": "stderr",
     "output_type": "stream",
     "text": [
      " 22%|██▏       | 1892/8460 [17:39<48:35,  2.25it/s]"
     ]
    },
    {
     "name": "stdout",
     "output_type": "stream",
     "text": [
      "CORS.U 404 Client Error: Not Found for url: https://query2.finance.yahoo.com/v10/finance/quoteSummary/CORS.U?modules=summaryProfile%2CfinancialData%2CquoteType%2CdefaultKeyStatistics%2CassetProfile%2CsummaryDetail&ssl=true\n"
     ]
    },
    {
     "name": "stderr",
     "output_type": "stream",
     "text": [
      " 22%|██▏       | 1893/8460 [17:40<44:09,  2.48it/s]"
     ]
    },
    {
     "name": "stdout",
     "output_type": "stream",
     "text": [
      "CORS.W 404 Client Error: Not Found for url: https://query2.finance.yahoo.com/v10/finance/quoteSummary/CORS.W?modules=summaryProfile%2CfinancialData%2CquoteType%2CdefaultKeyStatistics%2CassetProfile%2CsummaryDetail&ssl=true\n"
     ]
    },
    {
     "name": "stderr",
     "output_type": "stream",
     "text": [
      " 23%|██▎       | 1927/8460 [18:04<55:14,  1.97it/s]  "
     ]
    },
    {
     "name": "stdout",
     "output_type": "stream",
     "text": [
      "CPTK.U 404 Client Error: Not Found for url: https://query2.finance.yahoo.com/v10/finance/quoteSummary/CPTK.U?modules=summaryProfile%2CfinancialData%2CquoteType%2CdefaultKeyStatistics%2CassetProfile%2CsummaryDetail&ssl=true\n"
     ]
    },
    {
     "name": "stderr",
     "output_type": "stream",
     "text": [
      " 23%|██▎       | 1931/8460 [18:06<51:22,  2.12it/s]"
     ]
    },
    {
     "name": "stdout",
     "output_type": "stream",
     "text": [
      "CPUH.U 404 Client Error: Not Found for url: https://query2.finance.yahoo.com/v10/finance/quoteSummary/CPUH.U?modules=summaryProfile%2CfinancialData%2CquoteType%2CdefaultKeyStatistics%2CassetProfile%2CsummaryDetail&ssl=true\n"
     ]
    },
    {
     "name": "stderr",
     "output_type": "stream",
     "text": [
      " 23%|██▎       | 1932/8460 [18:06<46:53,  2.32it/s]"
     ]
    },
    {
     "name": "stdout",
     "output_type": "stream",
     "text": [
      "CPUH.W 404 Client Error: Not Found for url: https://query2.finance.yahoo.com/v10/finance/quoteSummary/CPUH.W?modules=summaryProfile%2CfinancialData%2CquoteType%2CdefaultKeyStatistics%2CassetProfile%2CsummaryDetail&ssl=true\n"
     ]
    },
    {
     "name": "stderr",
     "output_type": "stream",
     "text": [
      " 24%|██▎       | 2000/8460 [18:48<57:50,  1.86it/s]  "
     ]
    },
    {
     "name": "stdout",
     "output_type": "stream",
     "text": [
      "CSR$C 404 Client Error: Not Found for url: https://query2.finance.yahoo.com/v10/finance/quoteSummary/CSR$C?modules=summaryProfile%2CfinancialData%2CquoteType%2CdefaultKeyStatistics%2CassetProfile%2CsummaryDetail&ssl=true\n"
     ]
    },
    {
     "name": "stderr",
     "output_type": "stream",
     "text": [
      " 24%|██▎       | 2006/8460 [18:53<1:08:04,  1.58it/s]"
     ]
    },
    {
     "name": "stdout",
     "output_type": "stream",
     "text": [
      "CSTA.U 404 Client Error: Not Found for url: https://query2.finance.yahoo.com/v10/finance/quoteSummary/CSTA.U?modules=summaryProfile%2CfinancialData%2CquoteType%2CdefaultKeyStatistics%2CassetProfile%2CsummaryDetail&ssl=true\n"
     ]
    },
    {
     "name": "stderr",
     "output_type": "stream",
     "text": [
      " 24%|██▎       | 2007/8460 [18:53<57:02,  1.89it/s]  "
     ]
    },
    {
     "name": "stdout",
     "output_type": "stream",
     "text": [
      "CSTA.W 404 Client Error: Not Found for url: https://query2.finance.yahoo.com/v10/finance/quoteSummary/CSTA.W?modules=summaryProfile%2CfinancialData%2CquoteType%2CdefaultKeyStatistics%2CassetProfile%2CsummaryDetail&ssl=true\n"
     ]
    },
    {
     "name": "stderr",
     "output_type": "stream",
     "text": [
      " 24%|██▍       | 2016/8460 [18:59<56:38,  1.90it/s]  "
     ]
    },
    {
     "name": "stdout",
     "output_type": "stream",
     "text": [
      "CTA$A 404 Client Error: Not Found for url: https://query2.finance.yahoo.com/v10/finance/quoteSummary/CTA$A?modules=summaryProfile%2CfinancialData%2CquoteType%2CdefaultKeyStatistics%2CassetProfile%2CsummaryDetail&ssl=true\n"
     ]
    },
    {
     "name": "stderr",
     "output_type": "stream",
     "text": [
      " 24%|██▍       | 2017/8460 [18:59<49:04,  2.19it/s]"
     ]
    },
    {
     "name": "stdout",
     "output_type": "stream",
     "text": [
      "CTA$B 404 Client Error: Not Found for url: https://query2.finance.yahoo.com/v10/finance/quoteSummary/CTA$B?modules=summaryProfile%2CfinancialData%2CquoteType%2CdefaultKeyStatistics%2CassetProfile%2CsummaryDetail&ssl=true\n"
     ]
    },
    {
     "name": "stderr",
     "output_type": "stream",
     "text": [
      " 24%|██▍       | 2023/8460 [19:02<50:14,  2.14it/s]"
     ]
    },
    {
     "name": "stdout",
     "output_type": "stream",
     "text": [
      "CTEST.E 404 Client Error: Not Found for url: https://query2.finance.yahoo.com/v10/finance/quoteSummary/CTEST.E?modules=summaryProfile%2CfinancialData%2CquoteType%2CdefaultKeyStatistics%2CassetProfile%2CsummaryDetail&ssl=true\n"
     ]
    },
    {
     "name": "stderr",
     "output_type": "stream",
     "text": [
      " 24%|██▍       | 2024/8460 [19:02<44:17,  2.42it/s]"
     ]
    },
    {
     "name": "stdout",
     "output_type": "stream",
     "text": [
      "CTEST.G 404 Client Error: Not Found for url: https://query2.finance.yahoo.com/v10/finance/quoteSummary/CTEST.G?modules=summaryProfile%2CfinancialData%2CquoteType%2CdefaultKeyStatistics%2CassetProfile%2CsummaryDetail&ssl=true\n"
     ]
    },
    {
     "name": "stderr",
     "output_type": "stream",
     "text": [
      " 24%|██▍       | 2025/8460 [19:02<39:50,  2.69it/s]"
     ]
    },
    {
     "name": "stdout",
     "output_type": "stream",
     "text": [
      "CTEST.L 404 Client Error: Not Found for url: https://query2.finance.yahoo.com/v10/finance/quoteSummary/CTEST.L?modules=summaryProfile%2CfinancialData%2CquoteType%2CdefaultKeyStatistics%2CassetProfile%2CsummaryDetail&ssl=true\n"
     ]
    },
    {
     "name": "stderr",
     "output_type": "stream",
     "text": [
      " 24%|██▍       | 2026/8460 [19:03<35:56,  2.98it/s]"
     ]
    },
    {
     "name": "stdout",
     "output_type": "stream",
     "text": [
      "CTEST.O 404 Client Error: Not Found for url: https://query2.finance.yahoo.com/v10/finance/quoteSummary/CTEST.O?modules=summaryProfile%2CfinancialData%2CquoteType%2CdefaultKeyStatistics%2CassetProfile%2CsummaryDetail&ssl=true\n"
     ]
    },
    {
     "name": "stderr",
     "output_type": "stream",
     "text": [
      " 24%|██▍       | 2027/8460 [19:03<33:10,  3.23it/s]"
     ]
    },
    {
     "name": "stdout",
     "output_type": "stream",
     "text": [
      "CTEST.S 404 Client Error: Not Found for url: https://query2.finance.yahoo.com/v10/finance/quoteSummary/CTEST.S?modules=summaryProfile%2CfinancialData%2CquoteType%2CdefaultKeyStatistics%2CassetProfile%2CsummaryDetail&ssl=true\n"
     ]
    },
    {
     "name": "stderr",
     "output_type": "stream",
     "text": [
      " 24%|██▍       | 2028/8460 [19:03<33:28,  3.20it/s]"
     ]
    },
    {
     "name": "stdout",
     "output_type": "stream",
     "text": [
      "CTEST.V 404 Client Error: Not Found for url: https://query2.finance.yahoo.com/v10/finance/quoteSummary/CTEST.V?modules=summaryProfile%2CfinancialData%2CquoteType%2CdefaultKeyStatistics%2CassetProfile%2CsummaryDetail&ssl=true\n"
     ]
    },
    {
     "name": "stderr",
     "output_type": "stream",
     "text": [
      " 24%|██▍       | 2040/8460 [19:10<52:17,  2.05it/s]  "
     ]
    },
    {
     "name": "stdout",
     "output_type": "stream",
     "text": [
      "CTO$A 404 Client Error: Not Found for url: https://query2.finance.yahoo.com/v10/finance/quoteSummary/CTO$A?modules=summaryProfile%2CfinancialData%2CquoteType%2CdefaultKeyStatistics%2CassetProfile%2CsummaryDetail&ssl=true\n"
     ]
    },
    {
     "name": "stderr",
     "output_type": "stream",
     "text": [
      " 24%|██▍       | 2042/8460 [19:11<47:20,  2.26it/s]"
     ]
    },
    {
     "name": "stdout",
     "output_type": "stream",
     "text": [
      "CTOS.W 404 Client Error: Not Found for url: https://query2.finance.yahoo.com/v10/finance/quoteSummary/CTOS.W?modules=summaryProfile%2CfinancialData%2CquoteType%2CdefaultKeyStatistics%2CassetProfile%2CsummaryDetail&ssl=true\n"
     ]
    },
    {
     "name": "stderr",
     "output_type": "stream",
     "text": [
      " 24%|██▍       | 2052/8460 [19:16<52:48,  2.02it/s]  "
     ]
    },
    {
     "name": "stdout",
     "output_type": "stream",
     "text": [
      "CTV.W 404 Client Error: Not Found for url: https://query2.finance.yahoo.com/v10/finance/quoteSummary/CTV.W?modules=summaryProfile%2CfinancialData%2CquoteType%2CdefaultKeyStatistics%2CassetProfile%2CsummaryDetail&ssl=true\n"
     ]
    },
    {
     "name": "stderr",
     "output_type": "stream",
     "text": [
      " 24%|██▍       | 2059/8460 [19:21<1:18:17,  1.36it/s]"
     ]
    },
    {
     "name": "stdout",
     "output_type": "stream",
     "text": [
      "CUBI$E 404 Client Error: Not Found for url: https://query2.finance.yahoo.com/v10/finance/quoteSummary/CUBI$E?modules=summaryProfile%2CfinancialData%2CquoteType%2CdefaultKeyStatistics%2CassetProfile%2CsummaryDetail&ssl=true\n"
     ]
    },
    {
     "name": "stderr",
     "output_type": "stream",
     "text": [
      " 24%|██▍       | 2060/8460 [19:22<1:24:20,  1.26it/s]"
     ]
    },
    {
     "name": "stdout",
     "output_type": "stream",
     "text": [
      "CUBI$F 404 Client Error: Not Found for url: https://query2.finance.yahoo.com/v10/finance/quoteSummary/CUBI$F?modules=summaryProfile%2CfinancialData%2CquoteType%2CdefaultKeyStatistics%2CassetProfile%2CsummaryDetail&ssl=true\n"
     ]
    },
    {
     "name": "stderr",
     "output_type": "stream",
     "text": [
      " 25%|██▍       | 2078/8460 [19:54<2:39:58,  1.50s/it]"
     ]
    },
    {
     "name": "stdout",
     "output_type": "stream",
     "text": [
      "CVE.W 404 Client Error: Not Found for url: https://query2.finance.yahoo.com/v10/finance/quoteSummary/CVE.W?modules=summaryProfile%2CfinancialData%2CquoteType%2CdefaultKeyStatistics%2CassetProfile%2CsummaryDetail&ssl=true\n"
     ]
    },
    {
     "name": "stderr",
     "output_type": "stream",
     "text": [
      " 25%|██▍       | 2084/8460 [20:04<2:40:04,  1.51s/it]"
     ]
    },
    {
     "name": "stdout",
     "output_type": "stream",
     "text": [
      "CVII.U 404 Client Error: Not Found for url: https://query2.finance.yahoo.com/v10/finance/quoteSummary/CVII.U?modules=summaryProfile%2CfinancialData%2CquoteType%2CdefaultKeyStatistics%2CassetProfile%2CsummaryDetail&ssl=true\n"
     ]
    },
    {
     "name": "stderr",
     "output_type": "stream",
     "text": [
      " 25%|██▍       | 2085/8460 [20:04<2:11:04,  1.23s/it]"
     ]
    },
    {
     "name": "stdout",
     "output_type": "stream",
     "text": [
      "CVII.W 404 Client Error: Not Found for url: https://query2.finance.yahoo.com/v10/finance/quoteSummary/CVII.W?modules=summaryProfile%2CfinancialData%2CquoteType%2CdefaultKeyStatistics%2CassetProfile%2CsummaryDetail&ssl=true\n"
     ]
    },
    {
     "name": "stderr",
     "output_type": "stream",
     "text": [
      " 25%|██▍       | 2105/8460 [20:31<2:33:07,  1.45s/it]"
     ]
    },
    {
     "name": "stdout",
     "output_type": "stream",
     "text": [
      "CWEN.A 404 Client Error: Not Found for url: https://query2.finance.yahoo.com/v10/finance/quoteSummary/CWEN.A?modules=summaryProfile%2CfinancialData%2CquoteType%2CdefaultKeyStatistics%2CassetProfile%2CsummaryDetail&ssl=true\n"
     ]
    },
    {
     "name": "stderr",
     "output_type": "stream",
     "text": [
      " 25%|██▍       | 2112/8460 [20:37<1:09:34,  1.52it/s]"
     ]
    },
    {
     "name": "stdout",
     "output_type": "stream",
     "text": [
      "CXAC.U 404 Client Error: Not Found for url: https://query2.finance.yahoo.com/v10/finance/quoteSummary/CXAC.U?modules=summaryProfile%2CfinancialData%2CquoteType%2CdefaultKeyStatistics%2CassetProfile%2CsummaryDetail&ssl=true\n"
     ]
    },
    {
     "name": "stderr",
     "output_type": "stream",
     "text": [
      " 25%|██▍       | 2113/8460 [20:37<58:08,  1.82it/s]  "
     ]
    },
    {
     "name": "stdout",
     "output_type": "stream",
     "text": [
      "CXAC.W 404 Client Error: Not Found for url: https://query2.finance.yahoo.com/v10/finance/quoteSummary/CXAC.W?modules=summaryProfile%2CfinancialData%2CquoteType%2CdefaultKeyStatistics%2CassetProfile%2CsummaryDetail&ssl=true\n"
     ]
    },
    {
     "name": "stderr",
     "output_type": "stream",
     "text": [
      " 26%|██▌       | 2170/8460 [21:59<54:48,  1.91it/s]  "
     ]
    },
    {
     "name": "stdout",
     "output_type": "stream",
     "text": [
      "DBRG$H 404 Client Error: Not Found for url: https://query2.finance.yahoo.com/v10/finance/quoteSummary/DBRG$H?modules=summaryProfile%2CfinancialData%2CquoteType%2CdefaultKeyStatistics%2CassetProfile%2CsummaryDetail&ssl=true\n"
     ]
    },
    {
     "name": "stderr",
     "output_type": "stream",
     "text": [
      " 26%|██▌       | 2171/8460 [21:59<46:31,  2.25it/s]"
     ]
    },
    {
     "name": "stdout",
     "output_type": "stream",
     "text": [
      "DBRG$I 404 Client Error: Not Found for url: https://query2.finance.yahoo.com/v10/finance/quoteSummary/DBRG$I?modules=summaryProfile%2CfinancialData%2CquoteType%2CdefaultKeyStatistics%2CassetProfile%2CsummaryDetail&ssl=true\n"
     ]
    },
    {
     "name": "stderr",
     "output_type": "stream",
     "text": [
      " 26%|██▌       | 2172/8460 [21:59<42:16,  2.48it/s]"
     ]
    },
    {
     "name": "stdout",
     "output_type": "stream",
     "text": [
      "DBRG$J 404 Client Error: Not Found for url: https://query2.finance.yahoo.com/v10/finance/quoteSummary/DBRG$J?modules=summaryProfile%2CfinancialData%2CquoteType%2CdefaultKeyStatistics%2CassetProfile%2CsummaryDetail&ssl=true\n"
     ]
    },
    {
     "name": "stderr",
     "output_type": "stream",
     "text": [
      " 26%|██▌       | 2177/8460 [22:02<49:47,  2.10it/s]"
     ]
    },
    {
     "name": "stdout",
     "output_type": "stream",
     "text": [
      "DC.W 404 Client Error: Not Found for url: https://query2.finance.yahoo.com/v10/finance/quoteSummary/DC.W?modules=summaryProfile%2CfinancialData%2CquoteType%2CdefaultKeyStatistics%2CassetProfile%2CsummaryDetail&ssl=true\n"
     ]
    },
    {
     "name": "stderr",
     "output_type": "stream",
     "text": [
      " 26%|██▌       | 2188/8460 [22:08<50:41,  2.06it/s]  "
     ]
    },
    {
     "name": "stdout",
     "output_type": "stream",
     "text": [
      "DCP$B 404 Client Error: Not Found for url: https://query2.finance.yahoo.com/v10/finance/quoteSummary/DCP$B?modules=summaryProfile%2CfinancialData%2CquoteType%2CdefaultKeyStatistics%2CassetProfile%2CsummaryDetail&ssl=true\n"
     ]
    },
    {
     "name": "stderr",
     "output_type": "stream",
     "text": [
      " 26%|██▌       | 2189/8460 [22:08<44:44,  2.34it/s]"
     ]
    },
    {
     "name": "stdout",
     "output_type": "stream",
     "text": [
      "DCP$C 404 Client Error: Not Found for url: https://query2.finance.yahoo.com/v10/finance/quoteSummary/DCP$C?modules=summaryProfile%2CfinancialData%2CquoteType%2CdefaultKeyStatistics%2CassetProfile%2CsummaryDetail&ssl=true\n"
     ]
    },
    {
     "name": "stderr",
     "output_type": "stream",
     "text": [
      " 27%|██▋       | 2273/8460 [22:58<55:06,  1.87it/s]  "
     ]
    },
    {
     "name": "stdout",
     "output_type": "stream",
     "text": [
      "DLNG$A 404 Client Error: Not Found for url: https://query2.finance.yahoo.com/v10/finance/quoteSummary/DLNG$A?modules=summaryProfile%2CfinancialData%2CquoteType%2CdefaultKeyStatistics%2CassetProfile%2CsummaryDetail&ssl=true\n"
     ]
    },
    {
     "name": "stderr",
     "output_type": "stream",
     "text": [
      " 27%|██▋       | 2274/8460 [22:58<48:04,  2.14it/s]"
     ]
    },
    {
     "name": "stdout",
     "output_type": "stream",
     "text": [
      "DLNG$B 404 Client Error: Not Found for url: https://query2.finance.yahoo.com/v10/finance/quoteSummary/DLNG$B?modules=summaryProfile%2CfinancialData%2CquoteType%2CdefaultKeyStatistics%2CassetProfile%2CsummaryDetail&ssl=true\n"
     ]
    },
    {
     "name": "stderr",
     "output_type": "stream",
     "text": [
      " 27%|██▋       | 2278/8460 [23:00<52:06,  1.98it/s]  "
     ]
    },
    {
     "name": "stdout",
     "output_type": "stream",
     "text": [
      "DLR$J 404 Client Error: Not Found for url: https://query2.finance.yahoo.com/v10/finance/quoteSummary/DLR$J?modules=summaryProfile%2CfinancialData%2CquoteType%2CdefaultKeyStatistics%2CassetProfile%2CsummaryDetail&ssl=true\n"
     ]
    },
    {
     "name": "stderr",
     "output_type": "stream",
     "text": [
      " 27%|██▋       | 2279/8460 [23:01<46:48,  2.20it/s]"
     ]
    },
    {
     "name": "stdout",
     "output_type": "stream",
     "text": [
      "DLR$K 404 Client Error: Not Found for url: https://query2.finance.yahoo.com/v10/finance/quoteSummary/DLR$K?modules=summaryProfile%2CfinancialData%2CquoteType%2CdefaultKeyStatistics%2CassetProfile%2CsummaryDetail&ssl=true\n"
     ]
    },
    {
     "name": "stderr",
     "output_type": "stream",
     "text": [
      " 27%|██▋       | 2280/8460 [23:01<42:04,  2.45it/s]"
     ]
    },
    {
     "name": "stdout",
     "output_type": "stream",
     "text": [
      "DLR$L 404 Client Error: Not Found for url: https://query2.finance.yahoo.com/v10/finance/quoteSummary/DLR$L?modules=summaryProfile%2CfinancialData%2CquoteType%2CdefaultKeyStatistics%2CassetProfile%2CsummaryDetail&ssl=true\n"
     ]
    },
    {
     "name": "stderr",
     "output_type": "stream",
     "text": [
      " 27%|██▋       | 2296/8460 [23:10<48:51,  2.10it/s]"
     ]
    },
    {
     "name": "stdout",
     "output_type": "stream",
     "text": [
      "DMS.W 404 Client Error: Not Found for url: https://query2.finance.yahoo.com/v10/finance/quoteSummary/DMS.W?modules=summaryProfile%2CfinancialData%2CquoteType%2CdefaultKeyStatistics%2CassetProfile%2CsummaryDetail&ssl=true\n"
     ]
    },
    {
     "name": "stderr",
     "output_type": "stream",
     "text": [
      " 27%|██▋       | 2299/8460 [23:11<48:11,  2.13it/s]"
     ]
    },
    {
     "name": "stdout",
     "output_type": "stream",
     "text": [
      "DMYY.U 404 Client Error: Not Found for url: https://query2.finance.yahoo.com/v10/finance/quoteSummary/DMYY.U?modules=summaryProfile%2CfinancialData%2CquoteType%2CdefaultKeyStatistics%2CassetProfile%2CsummaryDetail&ssl=true\n"
     ]
    },
    {
     "name": "stderr",
     "output_type": "stream",
     "text": [
      " 27%|██▋       | 2300/8460 [23:12<41:53,  2.45it/s]"
     ]
    },
    {
     "name": "stdout",
     "output_type": "stream",
     "text": [
      "DMYY.W 404 Client Error: Not Found for url: https://query2.finance.yahoo.com/v10/finance/quoteSummary/DMYY.W?modules=summaryProfile%2CfinancialData%2CquoteType%2CdefaultKeyStatistics%2CassetProfile%2CsummaryDetail&ssl=true\n"
     ]
    },
    {
     "name": "stderr",
     "output_type": "stream",
     "text": [
      " 27%|██▋       | 2302/8460 [23:12<42:46,  2.40it/s]"
     ]
    },
    {
     "name": "stdout",
     "output_type": "stream",
     "text": [
      "DNA.W 404 Client Error: Not Found for url: https://query2.finance.yahoo.com/v10/finance/quoteSummary/DNA.W?modules=summaryProfile%2CfinancialData%2CquoteType%2CdefaultKeyStatistics%2CassetProfile%2CsummaryDetail&ssl=true\n"
     ]
    },
    {
     "name": "stderr",
     "output_type": "stream",
     "text": [
      " 27%|██▋       | 2320/8460 [23:23<50:31,  2.03it/s]  "
     ]
    },
    {
     "name": "stdout",
     "output_type": "stream",
     "text": [
      "DOMA.W 404 Client Error: Not Found for url: https://query2.finance.yahoo.com/v10/finance/quoteSummary/DOMA.W?modules=summaryProfile%2CfinancialData%2CquoteType%2CdefaultKeyStatistics%2CassetProfile%2CsummaryDetail&ssl=true\n"
     ]
    },
    {
     "name": "stderr",
     "output_type": "stream",
     "text": [
      " 28%|██▊       | 2343/8460 [23:43<59:03,  1.73it/s]  "
     ]
    },
    {
     "name": "stdout",
     "output_type": "stream",
     "text": [
      "DRH$A 404 Client Error: Not Found for url: https://query2.finance.yahoo.com/v10/finance/quoteSummary/DRH$A?modules=summaryProfile%2CfinancialData%2CquoteType%2CdefaultKeyStatistics%2CassetProfile%2CsummaryDetail&ssl=true\n"
     ]
    },
    {
     "name": "stderr",
     "output_type": "stream",
     "text": [
      " 28%|██▊       | 2357/8460 [23:51<52:35,  1.93it/s]  "
     ]
    },
    {
     "name": "stdout",
     "output_type": "stream",
     "text": [
      "DSAQ.U 404 Client Error: Not Found for url: https://query2.finance.yahoo.com/v10/finance/quoteSummary/DSAQ.U?modules=summaryProfile%2CfinancialData%2CquoteType%2CdefaultKeyStatistics%2CassetProfile%2CsummaryDetail&ssl=true\n"
     ]
    },
    {
     "name": "stderr",
     "output_type": "stream",
     "text": [
      " 28%|██▊       | 2370/8460 [23:58<52:56,  1.92it/s]  "
     ]
    },
    {
     "name": "stdout",
     "output_type": "stream",
     "text": [
      "DSX$B 404 Client Error: Not Found for url: https://query2.finance.yahoo.com/v10/finance/quoteSummary/DSX$B?modules=summaryProfile%2CfinancialData%2CquoteType%2CdefaultKeyStatistics%2CassetProfile%2CsummaryDetail&ssl=true\n"
     ]
    },
    {
     "name": "stderr",
     "output_type": "stream",
     "text": [
      " 28%|██▊       | 2390/8460 [24:24<2:28:22,  1.47s/it]"
     ]
    },
    {
     "name": "stdout",
     "output_type": "stream",
     "text": [
      "DUK$A 404 Client Error: Not Found for url: https://query2.finance.yahoo.com/v10/finance/quoteSummary/DUK$A?modules=summaryProfile%2CfinancialData%2CquoteType%2CdefaultKeyStatistics%2CassetProfile%2CsummaryDetail&ssl=true\n"
     ]
    },
    {
     "name": "stderr",
     "output_type": "stream",
     "text": [
      " 28%|██▊       | 2407/8460 [24:49<1:18:18,  1.29it/s]"
     ]
    },
    {
     "name": "stdout",
     "output_type": "stream",
     "text": [
      "DX$C 404 Client Error: Not Found for url: https://query2.finance.yahoo.com/v10/finance/quoteSummary/DX$C?modules=summaryProfile%2CfinancialData%2CquoteType%2CdefaultKeyStatistics%2CassetProfile%2CsummaryDetail&ssl=true\n"
     ]
    },
    {
     "name": "stderr",
     "output_type": "stream",
     "text": [
      " 29%|██▉       | 2442/8460 [25:24<2:30:53,  1.50s/it]"
     ]
    },
    {
     "name": "stdout",
     "output_type": "stream",
     "text": [
      "EBR.B 404 Client Error: Not Found for url: https://query2.finance.yahoo.com/v10/finance/quoteSummary/EBR.B?modules=summaryProfile%2CfinancialData%2CquoteType%2CdefaultKeyStatistics%2CassetProfile%2CsummaryDetail&ssl=true\n"
     ]
    },
    {
     "name": "stderr",
     "output_type": "stream",
     "text": [
      " 29%|██▉       | 2449/8460 [25:31<1:17:02,  1.30it/s]"
     ]
    },
    {
     "name": "stdout",
     "output_type": "stream",
     "text": [
      "ECC$D 404 Client Error: Not Found for url: https://query2.finance.yahoo.com/v10/finance/quoteSummary/ECC$D?modules=summaryProfile%2CfinancialData%2CquoteType%2CdefaultKeyStatistics%2CassetProfile%2CsummaryDetail&ssl=true\n"
     ]
    },
    {
     "name": "stderr",
     "output_type": "stream",
     "text": [
      " 29%|██▉       | 2455/8460 [25:40<2:09:12,  1.29s/it]"
     ]
    },
    {
     "name": "stdout",
     "output_type": "stream",
     "text": [
      "ECF$A 404 Client Error: Not Found for url: https://query2.finance.yahoo.com/v10/finance/quoteSummary/ECF$A?modules=summaryProfile%2CfinancialData%2CquoteType%2CdefaultKeyStatistics%2CassetProfile%2CsummaryDetail&ssl=true\n"
     ]
    },
    {
     "name": "stderr",
     "output_type": "stream",
     "text": [
      " 29%|██▉       | 2486/8460 [26:04<49:56,  1.99it/s]  "
     ]
    },
    {
     "name": "stdout",
     "output_type": "stream",
     "text": [
      "EFC$A 404 Client Error: Not Found for url: https://query2.finance.yahoo.com/v10/finance/quoteSummary/EFC$A?modules=summaryProfile%2CfinancialData%2CquoteType%2CdefaultKeyStatistics%2CassetProfile%2CsummaryDetail&ssl=true\n"
     ]
    },
    {
     "name": "stderr",
     "output_type": "stream",
     "text": [
      " 29%|██▉       | 2487/8460 [26:05<42:48,  2.33it/s]"
     ]
    },
    {
     "name": "stdout",
     "output_type": "stream",
     "text": [
      "EFC$B 404 Client Error: Not Found for url: https://query2.finance.yahoo.com/v10/finance/quoteSummary/EFC$B?modules=summaryProfile%2CfinancialData%2CquoteType%2CdefaultKeyStatistics%2CassetProfile%2CsummaryDetail&ssl=true\n"
     ]
    },
    {
     "name": "stderr",
     "output_type": "stream",
     "text": [
      " 29%|██▉       | 2488/8460 [26:05<38:48,  2.56it/s]"
     ]
    },
    {
     "name": "stdout",
     "output_type": "stream",
     "text": [
      "EFC$C 404 Client Error: Not Found for url: https://query2.finance.yahoo.com/v10/finance/quoteSummary/EFC$C?modules=summaryProfile%2CfinancialData%2CquoteType%2CdefaultKeyStatistics%2CassetProfile%2CsummaryDetail&ssl=true\n"
     ]
    },
    {
     "name": "stderr",
     "output_type": "stream",
     "text": [
      " 30%|██▉       | 2506/8460 [26:15<51:13,  1.94it/s]  "
     ]
    },
    {
     "name": "stdout",
     "output_type": "stream",
     "text": [
      "EGGF.U 404 Client Error: Not Found for url: https://query2.finance.yahoo.com/v10/finance/quoteSummary/EGGF.U?modules=summaryProfile%2CfinancialData%2CquoteType%2CdefaultKeyStatistics%2CassetProfile%2CsummaryDetail&ssl=true\n"
     ]
    },
    {
     "name": "stderr",
     "output_type": "stream",
     "text": [
      " 30%|██▉       | 2507/8460 [26:15<44:39,  2.22it/s]"
     ]
    },
    {
     "name": "stdout",
     "output_type": "stream",
     "text": [
      "EGGF.W 404 Client Error: Not Found for url: https://query2.finance.yahoo.com/v10/finance/quoteSummary/EGGF.W?modules=summaryProfile%2CfinancialData%2CquoteType%2CdefaultKeyStatistics%2CassetProfile%2CsummaryDetail&ssl=true\n"
     ]
    },
    {
     "name": "stderr",
     "output_type": "stream",
     "text": [
      " 31%|███       | 2609/8460 [27:16<49:08,  1.98it/s]  "
     ]
    },
    {
     "name": "stdout",
     "output_type": "stream",
     "text": [
      "EOCW.U 404 Client Error: Not Found for url: https://query2.finance.yahoo.com/v10/finance/quoteSummary/EOCW.U?modules=summaryProfile%2CfinancialData%2CquoteType%2CdefaultKeyStatistics%2CassetProfile%2CsummaryDetail&ssl=true\n"
     ]
    },
    {
     "name": "stderr",
     "output_type": "stream",
     "text": [
      " 31%|███       | 2610/8460 [27:16<42:09,  2.31it/s]"
     ]
    },
    {
     "name": "stdout",
     "output_type": "stream",
     "text": [
      "EOCW.W 404 Client Error: Not Found for url: https://query2.finance.yahoo.com/v10/finance/quoteSummary/EOCW.W?modules=summaryProfile%2CfinancialData%2CquoteType%2CdefaultKeyStatistics%2CassetProfile%2CsummaryDetail&ssl=true\n"
     ]
    },
    {
     "name": "stderr",
     "output_type": "stream",
     "text": [
      " 31%|███       | 2620/8460 [27:22<48:30,  2.01it/s]"
     ]
    },
    {
     "name": "stdout",
     "output_type": "stream",
     "text": [
      "EP$C 404 Client Error: Not Found for url: https://query2.finance.yahoo.com/v10/finance/quoteSummary/EP$C?modules=summaryProfile%2CfinancialData%2CquoteType%2CdefaultKeyStatistics%2CassetProfile%2CsummaryDetail&ssl=true\n"
     ]
    },
    {
     "name": "stderr",
     "output_type": "stream",
     "text": [
      " 31%|███       | 2629/8460 [27:27<46:39,  2.08it/s]"
     ]
    },
    {
     "name": "stdout",
     "output_type": "stream",
     "text": [
      "EPR$C 404 Client Error: Not Found for url: https://query2.finance.yahoo.com/v10/finance/quoteSummary/EPR$C?modules=summaryProfile%2CfinancialData%2CquoteType%2CdefaultKeyStatistics%2CassetProfile%2CsummaryDetail&ssl=true\n"
     ]
    },
    {
     "name": "stderr",
     "output_type": "stream",
     "text": [
      " 31%|███       | 2630/8460 [27:27<42:26,  2.29it/s]"
     ]
    },
    {
     "name": "stdout",
     "output_type": "stream",
     "text": [
      "EPR$E 404 Client Error: Not Found for url: https://query2.finance.yahoo.com/v10/finance/quoteSummary/EPR$E?modules=summaryProfile%2CfinancialData%2CquoteType%2CdefaultKeyStatistics%2CassetProfile%2CsummaryDetail&ssl=true\n"
     ]
    },
    {
     "name": "stderr",
     "output_type": "stream",
     "text": [
      " 31%|███       | 2631/8460 [27:28<38:31,  2.52it/s]"
     ]
    },
    {
     "name": "stdout",
     "output_type": "stream",
     "text": [
      "EPR$G 404 Client Error: Not Found for url: https://query2.finance.yahoo.com/v10/finance/quoteSummary/EPR$G?modules=summaryProfile%2CfinancialData%2CquoteType%2CdefaultKeyStatistics%2CassetProfile%2CsummaryDetail&ssl=true\n"
     ]
    },
    {
     "name": "stderr",
     "output_type": "stream",
     "text": [
      " 31%|███       | 2637/8460 [27:31<44:01,  2.20it/s]"
     ]
    },
    {
     "name": "stdout",
     "output_type": "stream",
     "text": [
      "EQC$D 404 Client Error: Not Found for url: https://query2.finance.yahoo.com/v10/finance/quoteSummary/EQC$D?modules=summaryProfile%2CfinancialData%2CquoteType%2CdefaultKeyStatistics%2CassetProfile%2CsummaryDetail&ssl=true\n"
     ]
    },
    {
     "name": "stderr",
     "output_type": "stream",
     "text": [
      " 31%|███       | 2639/8460 [27:31<41:20,  2.35it/s]"
     ]
    },
    {
     "name": "stdout",
     "output_type": "stream",
     "text": [
      "EQH$A 404 Client Error: Not Found for url: https://query2.finance.yahoo.com/v10/finance/quoteSummary/EQH$A?modules=summaryProfile%2CfinancialData%2CquoteType%2CdefaultKeyStatistics%2CassetProfile%2CsummaryDetail&ssl=true\n"
     ]
    },
    {
     "name": "stderr",
     "output_type": "stream",
     "text": [
      " 31%|███       | 2640/8460 [27:32<36:34,  2.65it/s]"
     ]
    },
    {
     "name": "stdout",
     "output_type": "stream",
     "text": [
      "EQH$C 404 Client Error: Not Found for url: https://query2.finance.yahoo.com/v10/finance/quoteSummary/EQH$C?modules=summaryProfile%2CfinancialData%2CquoteType%2CdefaultKeyStatistics%2CassetProfile%2CsummaryDetail&ssl=true\n"
     ]
    },
    {
     "name": "stderr",
     "output_type": "stream",
     "text": [
      " 32%|███▏      | 2690/8460 [28:39<1:07:54,  1.42it/s]"
     ]
    },
    {
     "name": "stdout",
     "output_type": "stream",
     "text": [
      "ET$C 404 Client Error: Not Found for url: https://query2.finance.yahoo.com/v10/finance/quoteSummary/ET$C?modules=summaryProfile%2CfinancialData%2CquoteType%2CdefaultKeyStatistics%2CassetProfile%2CsummaryDetail&ssl=true\n"
     ]
    },
    {
     "name": "stderr",
     "output_type": "stream",
     "text": [
      " 32%|███▏      | 2691/8460 [28:39<57:16,  1.68it/s]  "
     ]
    },
    {
     "name": "stdout",
     "output_type": "stream",
     "text": [
      "ET$D 404 Client Error: Not Found for url: https://query2.finance.yahoo.com/v10/finance/quoteSummary/ET$D?modules=summaryProfile%2CfinancialData%2CquoteType%2CdefaultKeyStatistics%2CassetProfile%2CsummaryDetail&ssl=true\n"
     ]
    },
    {
     "name": "stderr",
     "output_type": "stream",
     "text": [
      " 32%|███▏      | 2692/8460 [28:40<51:05,  1.88it/s]"
     ]
    },
    {
     "name": "stdout",
     "output_type": "stream",
     "text": [
      "ET$E 404 Client Error: Not Found for url: https://query2.finance.yahoo.com/v10/finance/quoteSummary/ET$E?modules=summaryProfile%2CfinancialData%2CquoteType%2CdefaultKeyStatistics%2CassetProfile%2CsummaryDetail&ssl=true\n"
     ]
    },
    {
     "name": "stderr",
     "output_type": "stream",
     "text": [
      " 32%|███▏      | 2697/8460 [28:43<52:26,  1.83it/s]  "
     ]
    },
    {
     "name": "stdout",
     "output_type": "stream",
     "text": [
      "ETI$ 404 Client Error: Not Found for url: https://query2.finance.yahoo.com/v10/finance/quoteSummary/ETI$?modules=summaryProfile%2CfinancialData%2CquoteType%2CdefaultKeyStatistics%2CassetProfile%2CsummaryDetail&ssl=true\n"
     ]
    },
    {
     "name": "stderr",
     "output_type": "stream",
     "text": [
      " 32%|███▏      | 2709/8460 [28:51<53:30,  1.79it/s]  "
     ]
    },
    {
     "name": "stdout",
     "output_type": "stream",
     "text": [
      "ETWO.W 404 Client Error: Not Found for url: https://query2.finance.yahoo.com/v10/finance/quoteSummary/ETWO.W?modules=summaryProfile%2CfinancialData%2CquoteType%2CdefaultKeyStatistics%2CassetProfile%2CsummaryDetail&ssl=true\n"
     ]
    },
    {
     "name": "stderr",
     "output_type": "stream",
     "text": [
      " 32%|███▏      | 2726/8460 [29:01<47:57,  1.99it/s]  "
     ]
    },
    {
     "name": "stdout",
     "output_type": "stream",
     "text": [
      "EVE.U 404 Client Error: Not Found for url: https://query2.finance.yahoo.com/v10/finance/quoteSummary/EVE.U?modules=summaryProfile%2CfinancialData%2CquoteType%2CdefaultKeyStatistics%2CassetProfile%2CsummaryDetail&ssl=true\n"
     ]
    },
    {
     "name": "stderr",
     "output_type": "stream",
     "text": [
      " 32%|███▏      | 2727/8460 [29:01<41:11,  2.32it/s]"
     ]
    },
    {
     "name": "stdout",
     "output_type": "stream",
     "text": [
      "EVE.W 404 Client Error: Not Found for url: https://query2.finance.yahoo.com/v10/finance/quoteSummary/EVE.W?modules=summaryProfile%2CfinancialData%2CquoteType%2CdefaultKeyStatistics%2CassetProfile%2CsummaryDetail&ssl=true\n"
     ]
    },
    {
     "name": "stderr",
     "output_type": "stream",
     "text": [
      " 32%|███▏      | 2730/8460 [29:03<41:41,  2.29it/s]"
     ]
    },
    {
     "name": "stdout",
     "output_type": "stream",
     "text": [
      "EVEX.W 404 Client Error: Not Found for url: https://query2.finance.yahoo.com/v10/finance/quoteSummary/EVEX.W?modules=summaryProfile%2CfinancialData%2CquoteType%2CdefaultKeyStatistics%2CassetProfile%2CsummaryDetail&ssl=true\n"
     ]
    },
    {
     "name": "stderr",
     "output_type": "stream",
     "text": [
      " 33%|███▎      | 2757/8460 [29:19<49:49,  1.91it/s]  "
     ]
    },
    {
     "name": "stdout",
     "output_type": "stream",
     "text": [
      "EVTL.W 404 Client Error: Not Found for url: https://query2.finance.yahoo.com/v10/finance/quoteSummary/EVTL.W?modules=summaryProfile%2CfinancialData%2CquoteType%2CdefaultKeyStatistics%2CassetProfile%2CsummaryDetail&ssl=true\n"
     ]
    },
    {
     "name": "stderr",
     "output_type": "stream",
     "text": [
      " 33%|███▎      | 2787/8460 [29:40<1:13:56,  1.28it/s]"
     ]
    },
    {
     "name": "stdout",
     "output_type": "stream",
     "text": [
      "F$B 404 Client Error: Not Found for url: https://query2.finance.yahoo.com/v10/finance/quoteSummary/F$B?modules=summaryProfile%2CfinancialData%2CquoteType%2CdefaultKeyStatistics%2CassetProfile%2CsummaryDetail&ssl=true\n"
     ]
    },
    {
     "name": "stderr",
     "output_type": "stream",
     "text": [
      " 33%|███▎      | 2788/8460 [29:41<1:03:35,  1.49it/s]"
     ]
    },
    {
     "name": "stdout",
     "output_type": "stream",
     "text": [
      "F$C 404 Client Error: Not Found for url: https://query2.finance.yahoo.com/v10/finance/quoteSummary/F$C?modules=summaryProfile%2CfinancialData%2CquoteType%2CdefaultKeyStatistics%2CassetProfile%2CsummaryDetail&ssl=true\n"
     ]
    },
    {
     "name": "stderr",
     "output_type": "stream",
     "text": [
      " 33%|███▎      | 2789/8460 [29:41<54:43,  1.73it/s]  "
     ]
    },
    {
     "name": "stdout",
     "output_type": "stream",
     "text": [
      "F$D 404 Client Error: Not Found for url: https://query2.finance.yahoo.com/v10/finance/quoteSummary/F$D?modules=summaryProfile%2CfinancialData%2CquoteType%2CdefaultKeyStatistics%2CassetProfile%2CsummaryDetail&ssl=true\n"
     ]
    },
    {
     "name": "stderr",
     "output_type": "stream",
     "text": [
      " 33%|███▎      | 2792/8460 [29:43<56:04,  1.68it/s]  "
     ]
    },
    {
     "name": "stdout",
     "output_type": "stream",
     "text": [
      "FACT.U 404 Client Error: Not Found for url: https://query2.finance.yahoo.com/v10/finance/quoteSummary/FACT.U?modules=summaryProfile%2CfinancialData%2CquoteType%2CdefaultKeyStatistics%2CassetProfile%2CsummaryDetail&ssl=true\n"
     ]
    },
    {
     "name": "stderr",
     "output_type": "stream",
     "text": [
      " 33%|███▎      | 2793/8460 [29:43<49:07,  1.92it/s]"
     ]
    },
    {
     "name": "stdout",
     "output_type": "stream",
     "text": [
      "FACT.W 404 Client Error: Not Found for url: https://query2.finance.yahoo.com/v10/finance/quoteSummary/FACT.W?modules=summaryProfile%2CfinancialData%2CquoteType%2CdefaultKeyStatistics%2CassetProfile%2CsummaryDetail&ssl=true\n"
     ]
    },
    {
     "name": "stderr",
     "output_type": "stream",
     "text": [
      " 33%|███▎      | 2808/8460 [29:54<56:02,  1.68it/s]  "
     ]
    },
    {
     "name": "stdout",
     "output_type": "stream",
     "text": [
      "FATH.W 404 Client Error: Not Found for url: https://query2.finance.yahoo.com/v10/finance/quoteSummary/FATH.W?modules=summaryProfile%2CfinancialData%2CquoteType%2CdefaultKeyStatistics%2CassetProfile%2CsummaryDetail&ssl=true\n"
     ]
    },
    {
     "name": "stderr",
     "output_type": "stream",
     "text": [
      " 33%|███▎      | 2825/8460 [30:04<47:49,  1.96it/s]  "
     ]
    },
    {
     "name": "stdout",
     "output_type": "stream",
     "text": [
      "FBRT$E 404 Client Error: Not Found for url: https://query2.finance.yahoo.com/v10/finance/quoteSummary/FBRT$E?modules=summaryProfile%2CfinancialData%2CquoteType%2CdefaultKeyStatistics%2CassetProfile%2CsummaryDetail&ssl=true\n"
     ]
    },
    {
     "name": "stderr",
     "output_type": "stream",
     "text": [
      " 34%|███▍      | 2897/8460 [31:02<52:03,  1.78it/s]  "
     ]
    },
    {
     "name": "stdout",
     "output_type": "stream",
     "text": [
      "FHN$B 404 Client Error: Not Found for url: https://query2.finance.yahoo.com/v10/finance/quoteSummary/FHN$B?modules=summaryProfile%2CfinancialData%2CquoteType%2CdefaultKeyStatistics%2CassetProfile%2CsummaryDetail&ssl=true\n"
     ]
    },
    {
     "name": "stderr",
     "output_type": "stream",
     "text": [
      " 34%|███▍      | 2898/8460 [31:02<43:54,  2.11it/s]"
     ]
    },
    {
     "name": "stdout",
     "output_type": "stream",
     "text": [
      "FHN$C 404 Client Error: Not Found for url: https://query2.finance.yahoo.com/v10/finance/quoteSummary/FHN$C?modules=summaryProfile%2CfinancialData%2CquoteType%2CdefaultKeyStatistics%2CassetProfile%2CsummaryDetail&ssl=true\n"
     ]
    },
    {
     "name": "stderr",
     "output_type": "stream",
     "text": [
      " 34%|███▍      | 2899/8460 [31:02<38:54,  2.38it/s]"
     ]
    },
    {
     "name": "stdout",
     "output_type": "stream",
     "text": [
      "FHN$D 404 Client Error: Not Found for url: https://query2.finance.yahoo.com/v10/finance/quoteSummary/FHN$D?modules=summaryProfile%2CfinancialData%2CquoteType%2CdefaultKeyStatistics%2CassetProfile%2CsummaryDetail&ssl=true\n"
     ]
    },
    {
     "name": "stderr",
     "output_type": "stream",
     "text": [
      " 34%|███▍      | 2900/8460 [31:02<36:14,  2.56it/s]"
     ]
    },
    {
     "name": "stdout",
     "output_type": "stream",
     "text": [
      "FHN$E 404 Client Error: Not Found for url: https://query2.finance.yahoo.com/v10/finance/quoteSummary/FHN$E?modules=summaryProfile%2CfinancialData%2CquoteType%2CdefaultKeyStatistics%2CassetProfile%2CsummaryDetail&ssl=true\n"
     ]
    },
    {
     "name": "stderr",
     "output_type": "stream",
     "text": [
      " 34%|███▍      | 2901/8460 [31:03<32:56,  2.81it/s]"
     ]
    },
    {
     "name": "stdout",
     "output_type": "stream",
     "text": [
      "FHN$F 404 Client Error: Not Found for url: https://query2.finance.yahoo.com/v10/finance/quoteSummary/FHN$F?modules=summaryProfile%2CfinancialData%2CquoteType%2CdefaultKeyStatistics%2CassetProfile%2CsummaryDetail&ssl=true\n"
     ]
    },
    {
     "name": "stderr",
     "output_type": "stream",
     "text": [
      " 35%|███▍      | 2935/8460 [31:22<45:26,  2.03it/s]"
     ]
    },
    {
     "name": "stdout",
     "output_type": "stream",
     "text": [
      "FLAG.U 404 Client Error: Not Found for url: https://query2.finance.yahoo.com/v10/finance/quoteSummary/FLAG.U?modules=summaryProfile%2CfinancialData%2CquoteType%2CdefaultKeyStatistics%2CassetProfile%2CsummaryDetail&ssl=true\n"
     ]
    },
    {
     "name": "stderr",
     "output_type": "stream",
     "text": [
      " 35%|███▍      | 2936/8460 [31:22<38:52,  2.37it/s]"
     ]
    },
    {
     "name": "stdout",
     "output_type": "stream",
     "text": [
      "FLAG.W 404 Client Error: Not Found for url: https://query2.finance.yahoo.com/v10/finance/quoteSummary/FLAG.W?modules=summaryProfile%2CfinancialData%2CquoteType%2CdefaultKeyStatistics%2CassetProfile%2CsummaryDetail&ssl=true\n"
     ]
    },
    {
     "name": "stderr",
     "output_type": "stream",
     "text": [
      " 35%|███▍      | 2949/8460 [31:30<47:59,  1.91it/s]"
     ]
    },
    {
     "name": "stdout",
     "output_type": "stream",
     "text": [
      "FLME.U 404 Client Error: Not Found for url: https://query2.finance.yahoo.com/v10/finance/quoteSummary/FLME.U?modules=summaryProfile%2CfinancialData%2CquoteType%2CdefaultKeyStatistics%2CassetProfile%2CsummaryDetail&ssl=true\n"
     ]
    },
    {
     "name": "stderr",
     "output_type": "stream",
     "text": [
      " 35%|███▍      | 2950/8460 [31:30<41:05,  2.24it/s]"
     ]
    },
    {
     "name": "stdout",
     "output_type": "stream",
     "text": [
      "FLME.W 404 Client Error: Not Found for url: https://query2.finance.yahoo.com/v10/finance/quoteSummary/FLME.W?modules=summaryProfile%2CfinancialData%2CquoteType%2CdefaultKeyStatistics%2CassetProfile%2CsummaryDetail&ssl=true\n"
     ]
    },
    {
     "name": "stderr",
     "output_type": "stream",
     "text": [
      " 35%|███▌      | 2976/8460 [31:46<49:58,  1.83it/s]  "
     ]
    },
    {
     "name": "stdout",
     "output_type": "stream",
     "text": [
      "FNB$E 404 Client Error: Not Found for url: https://query2.finance.yahoo.com/v10/finance/quoteSummary/FNB$E?modules=summaryProfile%2CfinancialData%2CquoteType%2CdefaultKeyStatistics%2CassetProfile%2CsummaryDetail&ssl=true\n"
     ]
    },
    {
     "name": "stderr",
     "output_type": "stream",
     "text": [
      " 35%|███▌      | 2994/8460 [31:57<43:53,  2.08it/s]"
     ]
    },
    {
     "name": "stdout",
     "output_type": "stream",
     "text": [
      "FOA.W 404 Client Error: Not Found for url: https://query2.finance.yahoo.com/v10/finance/quoteSummary/FOA.W?modules=summaryProfile%2CfinancialData%2CquoteType%2CdefaultKeyStatistics%2CassetProfile%2CsummaryDetail&ssl=true\n"
     ]
    },
    {
     "name": "stderr",
     "output_type": "stream",
     "text": [
      " 36%|███▌      | 3014/8460 [32:08<48:46,  1.86it/s]"
     ]
    },
    {
     "name": "stdout",
     "output_type": "stream",
     "text": [
      "FOXO.W 404 Client Error: Not Found for url: https://query2.finance.yahoo.com/v10/finance/quoteSummary/FOXO.W?modules=summaryProfile%2CfinancialData%2CquoteType%2CdefaultKeyStatistics%2CassetProfile%2CsummaryDetail&ssl=true\n"
     ]
    },
    {
     "name": "stderr",
     "output_type": "stream",
     "text": [
      " 36%|███▌      | 3029/8460 [32:17<44:24,  2.04it/s]"
     ]
    },
    {
     "name": "stdout",
     "output_type": "stream",
     "text": [
      "FRC$H 404 Client Error: Not Found for url: https://query2.finance.yahoo.com/v10/finance/quoteSummary/FRC$H?modules=summaryProfile%2CfinancialData%2CquoteType%2CdefaultKeyStatistics%2CassetProfile%2CsummaryDetail&ssl=true\n"
     ]
    },
    {
     "name": "stderr",
     "output_type": "stream",
     "text": [
      " 36%|███▌      | 3030/8460 [32:17<38:18,  2.36it/s]"
     ]
    },
    {
     "name": "stdout",
     "output_type": "stream",
     "text": [
      "FRC$I 404 Client Error: Not Found for url: https://query2.finance.yahoo.com/v10/finance/quoteSummary/FRC$I?modules=summaryProfile%2CfinancialData%2CquoteType%2CdefaultKeyStatistics%2CassetProfile%2CsummaryDetail&ssl=true\n"
     ]
    },
    {
     "name": "stderr",
     "output_type": "stream",
     "text": [
      " 36%|███▌      | 3031/8460 [32:17<34:33,  2.62it/s]"
     ]
    },
    {
     "name": "stdout",
     "output_type": "stream",
     "text": [
      "FRC$J 404 Client Error: Not Found for url: https://query2.finance.yahoo.com/v10/finance/quoteSummary/FRC$J?modules=summaryProfile%2CfinancialData%2CquoteType%2CdefaultKeyStatistics%2CassetProfile%2CsummaryDetail&ssl=true\n"
     ]
    },
    {
     "name": "stderr",
     "output_type": "stream",
     "text": [
      " 36%|███▌      | 3032/8460 [32:18<32:19,  2.80it/s]"
     ]
    },
    {
     "name": "stdout",
     "output_type": "stream",
     "text": [
      "FRC$K 404 Client Error: Not Found for url: https://query2.finance.yahoo.com/v10/finance/quoteSummary/FRC$K?modules=summaryProfile%2CfinancialData%2CquoteType%2CdefaultKeyStatistics%2CassetProfile%2CsummaryDetail&ssl=true\n"
     ]
    },
    {
     "name": "stderr",
     "output_type": "stream",
     "text": [
      " 36%|███▌      | 3033/8460 [32:18<30:34,  2.96it/s]"
     ]
    },
    {
     "name": "stdout",
     "output_type": "stream",
     "text": [
      "FRC$L 404 Client Error: Not Found for url: https://query2.finance.yahoo.com/v10/finance/quoteSummary/FRC$L?modules=summaryProfile%2CfinancialData%2CquoteType%2CdefaultKeyStatistics%2CassetProfile%2CsummaryDetail&ssl=true\n"
     ]
    },
    {
     "name": "stderr",
     "output_type": "stream",
     "text": [
      " 36%|███▌      | 3034/8460 [32:18<28:26,  3.18it/s]"
     ]
    },
    {
     "name": "stdout",
     "output_type": "stream",
     "text": [
      "FRC$M 404 Client Error: Not Found for url: https://query2.finance.yahoo.com/v10/finance/quoteSummary/FRC$M?modules=summaryProfile%2CfinancialData%2CquoteType%2CdefaultKeyStatistics%2CassetProfile%2CsummaryDetail&ssl=true\n"
     ]
    },
    {
     "name": "stderr",
     "output_type": "stream",
     "text": [
      " 36%|███▌      | 3035/8460 [32:18<26:54,  3.36it/s]"
     ]
    },
    {
     "name": "stdout",
     "output_type": "stream",
     "text": [
      "FRC$N 404 Client Error: Not Found for url: https://query2.finance.yahoo.com/v10/finance/quoteSummary/FRC$N?modules=summaryProfile%2CfinancialData%2CquoteType%2CdefaultKeyStatistics%2CassetProfile%2CsummaryDetail&ssl=true\n"
     ]
    },
    {
     "name": "stderr",
     "output_type": "stream",
     "text": [
      " 36%|███▌      | 3041/8460 [32:21<39:30,  2.29it/s]"
     ]
    },
    {
     "name": "stdout",
     "output_type": "stream",
     "text": [
      "FREY.W 404 Client Error: Not Found for url: https://query2.finance.yahoo.com/v10/finance/quoteSummary/FREY.W?modules=summaryProfile%2CfinancialData%2CquoteType%2CdefaultKeyStatistics%2CassetProfile%2CsummaryDetail&ssl=true\n"
     ]
    },
    {
     "name": "stderr",
     "output_type": "stream",
     "text": [
      " 36%|███▌      | 3062/8460 [32:33<44:50,  2.01it/s]"
     ]
    },
    {
     "name": "stdout",
     "output_type": "stream",
     "text": [
      "FRT$C 404 Client Error: Not Found for url: https://query2.finance.yahoo.com/v10/finance/quoteSummary/FRT$C?modules=summaryProfile%2CfinancialData%2CquoteType%2CdefaultKeyStatistics%2CassetProfile%2CsummaryDetail&ssl=true\n"
     ]
    },
    {
     "name": "stderr",
     "output_type": "stream",
     "text": [
      " 36%|███▌      | 3065/8460 [32:35<40:59,  2.19it/s]"
     ]
    },
    {
     "name": "stdout",
     "output_type": "stream",
     "text": [
      "FRXB.U 404 Client Error: Not Found for url: https://query2.finance.yahoo.com/v10/finance/quoteSummary/FRXB.U?modules=summaryProfile%2CfinancialData%2CquoteType%2CdefaultKeyStatistics%2CassetProfile%2CsummaryDetail&ssl=true\n"
     ]
    },
    {
     "name": "stderr",
     "output_type": "stream",
     "text": [
      " 36%|███▌      | 3066/8460 [32:35<35:46,  2.51it/s]"
     ]
    },
    {
     "name": "stdout",
     "output_type": "stream",
     "text": [
      "FRXB.W 404 Client Error: Not Found for url: https://query2.finance.yahoo.com/v10/finance/quoteSummary/FRXB.W?modules=summaryProfile%2CfinancialData%2CquoteType%2CdefaultKeyStatistics%2CassetProfile%2CsummaryDetail&ssl=true\n"
     ]
    },
    {
     "name": "stderr",
     "output_type": "stream",
     "text": [
      " 36%|███▋      | 3080/8460 [32:43<48:58,  1.83it/s]"
     ]
    },
    {
     "name": "stdout",
     "output_type": "stream",
     "text": [
      "FSNB.U 404 Client Error: Not Found for url: https://query2.finance.yahoo.com/v10/finance/quoteSummary/FSNB.U?modules=summaryProfile%2CfinancialData%2CquoteType%2CdefaultKeyStatistics%2CassetProfile%2CsummaryDetail&ssl=true\n"
     ]
    },
    {
     "name": "stderr",
     "output_type": "stream",
     "text": [
      " 37%|███▋      | 3139/8460 [33:22<42:58,  2.06it/s]  "
     ]
    },
    {
     "name": "stdout",
     "output_type": "stream",
     "text": [
      "FZT.U 404 Client Error: Not Found for url: https://query2.finance.yahoo.com/v10/finance/quoteSummary/FZT.U?modules=summaryProfile%2CfinancialData%2CquoteType%2CdefaultKeyStatistics%2CassetProfile%2CsummaryDetail&ssl=true\n"
     ]
    },
    {
     "name": "stderr",
     "output_type": "stream",
     "text": [
      " 37%|███▋      | 3140/8460 [33:22<37:57,  2.34it/s]"
     ]
    },
    {
     "name": "stdout",
     "output_type": "stream",
     "text": [
      "FZT.W 404 Client Error: Not Found for url: https://query2.finance.yahoo.com/v10/finance/quoteSummary/FZT.W?modules=summaryProfile%2CfinancialData%2CquoteType%2CdefaultKeyStatistics%2CassetProfile%2CsummaryDetail&ssl=true\n"
     ]
    },
    {
     "name": "stderr",
     "output_type": "stream",
     "text": [
      " 37%|███▋      | 3143/8460 [33:24<39:45,  2.23it/s]"
     ]
    },
    {
     "name": "stdout",
     "output_type": "stream",
     "text": [
      "GAB$G 404 Client Error: Not Found for url: https://query2.finance.yahoo.com/v10/finance/quoteSummary/GAB$G?modules=summaryProfile%2CfinancialData%2CquoteType%2CdefaultKeyStatistics%2CassetProfile%2CsummaryDetail&ssl=true\n"
     ]
    },
    {
     "name": "stderr",
     "output_type": "stream",
     "text": [
      " 37%|███▋      | 3144/8460 [33:24<35:23,  2.50it/s]"
     ]
    },
    {
     "name": "stdout",
     "output_type": "stream",
     "text": [
      "GAB$H 404 Client Error: Not Found for url: https://query2.finance.yahoo.com/v10/finance/quoteSummary/GAB$H?modules=summaryProfile%2CfinancialData%2CquoteType%2CdefaultKeyStatistics%2CassetProfile%2CsummaryDetail&ssl=true\n"
     ]
    },
    {
     "name": "stderr",
     "output_type": "stream",
     "text": [
      " 37%|███▋      | 3145/8460 [33:24<32:41,  2.71it/s]"
     ]
    },
    {
     "name": "stdout",
     "output_type": "stream",
     "text": [
      "GAB$K 404 Client Error: Not Found for url: https://query2.finance.yahoo.com/v10/finance/quoteSummary/GAB$K?modules=summaryProfile%2CfinancialData%2CquoteType%2CdefaultKeyStatistics%2CassetProfile%2CsummaryDetail&ssl=true\n"
     ]
    },
    {
     "name": "stderr",
     "output_type": "stream",
     "text": [
      " 37%|███▋      | 3153/8460 [33:28<42:51,  2.06it/s]"
     ]
    },
    {
     "name": "stdout",
     "output_type": "stream",
     "text": [
      "GAM$B 404 Client Error: Not Found for url: https://query2.finance.yahoo.com/v10/finance/quoteSummary/GAM$B?modules=summaryProfile%2CfinancialData%2CquoteType%2CdefaultKeyStatistics%2CassetProfile%2CsummaryDetail&ssl=true\n"
     ]
    },
    {
     "name": "stderr",
     "output_type": "stream",
     "text": [
      " 37%|███▋      | 3162/8460 [33:34<43:10,  2.05it/s]"
     ]
    },
    {
     "name": "stdout",
     "output_type": "stream",
     "text": [
      "GAQ.U 404 Client Error: Not Found for url: https://query2.finance.yahoo.com/v10/finance/quoteSummary/GAQ.U?modules=summaryProfile%2CfinancialData%2CquoteType%2CdefaultKeyStatistics%2CassetProfile%2CsummaryDetail&ssl=true\n"
     ]
    },
    {
     "name": "stderr",
     "output_type": "stream",
     "text": [
      " 37%|███▋      | 3163/8460 [33:34<38:07,  2.32it/s]"
     ]
    },
    {
     "name": "stdout",
     "output_type": "stream",
     "text": [
      "GAQ.W 404 Client Error: Not Found for url: https://query2.finance.yahoo.com/v10/finance/quoteSummary/GAQ.W?modules=summaryProfile%2CfinancialData%2CquoteType%2CdefaultKeyStatistics%2CassetProfile%2CsummaryDetail&ssl=true\n"
     ]
    },
    {
     "name": "stderr",
     "output_type": "stream",
     "text": [
      " 38%|███▊      | 3173/8460 [33:40<42:06,  2.09it/s]"
     ]
    },
    {
     "name": "stdout",
     "output_type": "stream",
     "text": [
      "GB.W 404 Client Error: Not Found for url: https://query2.finance.yahoo.com/v10/finance/quoteSummary/GB.W?modules=summaryProfile%2CfinancialData%2CquoteType%2CdefaultKeyStatistics%2CassetProfile%2CsummaryDetail&ssl=true\n"
     ]
    },
    {
     "name": "stderr",
     "output_type": "stream",
     "text": [
      " 38%|███▊      | 3207/8460 [33:59<42:37,  2.05it/s]"
     ]
    },
    {
     "name": "stdout",
     "output_type": "stream",
     "text": [
      "GDL$C 404 Client Error: Not Found for url: https://query2.finance.yahoo.com/v10/finance/quoteSummary/GDL$C?modules=summaryProfile%2CfinancialData%2CquoteType%2CdefaultKeyStatistics%2CassetProfile%2CsummaryDetail&ssl=true\n"
     ]
    },
    {
     "name": "stderr",
     "output_type": "stream",
     "text": [
      " 38%|███▊      | 3221/8460 [34:07<42:51,  2.04it/s]"
     ]
    },
    {
     "name": "stdout",
     "output_type": "stream",
     "text": [
      "GDV$H 404 Client Error: Not Found for url: https://query2.finance.yahoo.com/v10/finance/quoteSummary/GDV$H?modules=summaryProfile%2CfinancialData%2CquoteType%2CdefaultKeyStatistics%2CassetProfile%2CsummaryDetail&ssl=true\n"
     ]
    },
    {
     "name": "stderr",
     "output_type": "stream",
     "text": [
      " 38%|███▊      | 3222/8460 [34:07<38:01,  2.30it/s]"
     ]
    },
    {
     "name": "stdout",
     "output_type": "stream",
     "text": [
      "GDV$K 404 Client Error: Not Found for url: https://query2.finance.yahoo.com/v10/finance/quoteSummary/GDV$K?modules=summaryProfile%2CfinancialData%2CquoteType%2CdefaultKeyStatistics%2CassetProfile%2CsummaryDetail&ssl=true\n"
     ]
    },
    {
     "name": "stderr",
     "output_type": "stream",
     "text": [
      " 38%|███▊      | 3249/8460 [34:25<1:22:50,  1.05it/s]"
     ]
    },
    {
     "name": "stdout",
     "output_type": "stream",
     "text": [
      "GETR.W 404 Client Error: Not Found for url: https://query2.finance.yahoo.com/v10/finance/quoteSummary/GETR.W?modules=summaryProfile%2CfinancialData%2CquoteType%2CdefaultKeyStatistics%2CassetProfile%2CsummaryDetail&ssl=true\n"
     ]
    },
    {
     "name": "stderr",
     "output_type": "stream",
     "text": [
      " 39%|███▊      | 3263/8460 [34:43<59:41,  1.45it/s]  "
     ]
    },
    {
     "name": "stdout",
     "output_type": "stream",
     "text": [
      "GFOR.U 404 Client Error: Not Found for url: https://query2.finance.yahoo.com/v10/finance/quoteSummary/GFOR.U?modules=summaryProfile%2CfinancialData%2CquoteType%2CdefaultKeyStatistics%2CassetProfile%2CsummaryDetail&ssl=true\n"
     ]
    },
    {
     "name": "stderr",
     "output_type": "stream",
     "text": [
      " 39%|███▊      | 3264/8460 [34:44<49:02,  1.77it/s]"
     ]
    },
    {
     "name": "stdout",
     "output_type": "stream",
     "text": [
      "GFOR.W 404 Client Error: Not Found for url: https://query2.finance.yahoo.com/v10/finance/quoteSummary/GFOR.W?modules=summaryProfile%2CfinancialData%2CquoteType%2CdefaultKeyStatistics%2CassetProfile%2CsummaryDetail&ssl=true\n"
     ]
    },
    {
     "name": "stderr",
     "output_type": "stream",
     "text": [
      " 39%|███▊      | 3267/8460 [34:45<41:12,  2.10it/s]"
     ]
    },
    {
     "name": "stdout",
     "output_type": "stream",
     "text": [
      "GFX.U 404 Client Error: Not Found for url: https://query2.finance.yahoo.com/v10/finance/quoteSummary/GFX.U?modules=summaryProfile%2CfinancialData%2CquoteType%2CdefaultKeyStatistics%2CassetProfile%2CsummaryDetail&ssl=true\n"
     ]
    },
    {
     "name": "stderr",
     "output_type": "stream",
     "text": [
      " 39%|███▊      | 3268/8460 [34:45<35:46,  2.42it/s]"
     ]
    },
    {
     "name": "stdout",
     "output_type": "stream",
     "text": [
      "GFX.W 404 Client Error: Not Found for url: https://query2.finance.yahoo.com/v10/finance/quoteSummary/GFX.W?modules=summaryProfile%2CfinancialData%2CquoteType%2CdefaultKeyStatistics%2CassetProfile%2CsummaryDetail&ssl=true\n"
     ]
    },
    {
     "name": "stderr",
     "output_type": "stream",
     "text": [
      " 39%|███▊      | 3277/8460 [34:50<41:56,  2.06it/s]"
     ]
    },
    {
     "name": "stdout",
     "output_type": "stream",
     "text": [
      "GGN$B 404 Client Error: Not Found for url: https://query2.finance.yahoo.com/v10/finance/quoteSummary/GGN$B?modules=summaryProfile%2CfinancialData%2CquoteType%2CdefaultKeyStatistics%2CassetProfile%2CsummaryDetail&ssl=true\n"
     ]
    },
    {
     "name": "stderr",
     "output_type": "stream",
     "text": [
      " 39%|███▉      | 3281/8460 [34:52<39:54,  2.16it/s]"
     ]
    },
    {
     "name": "stdout",
     "output_type": "stream",
     "text": [
      "GGT$E 404 Client Error: Not Found for url: https://query2.finance.yahoo.com/v10/finance/quoteSummary/GGT$E?modules=summaryProfile%2CfinancialData%2CquoteType%2CdefaultKeyStatistics%2CassetProfile%2CsummaryDetail&ssl=true\n"
     ]
    },
    {
     "name": "stderr",
     "output_type": "stream",
     "text": [
      " 39%|███▉      | 3282/8460 [34:52<34:22,  2.51it/s]"
     ]
    },
    {
     "name": "stdout",
     "output_type": "stream",
     "text": [
      "GGT$G 404 Client Error: Not Found for url: https://query2.finance.yahoo.com/v10/finance/quoteSummary/GGT$G?modules=summaryProfile%2CfinancialData%2CquoteType%2CdefaultKeyStatistics%2CassetProfile%2CsummaryDetail&ssl=true\n"
     ]
    },
    {
     "name": "stderr",
     "output_type": "stream",
     "text": [
      " 39%|███▉      | 3318/8460 [35:13<41:52,  2.05it/s]"
     ]
    },
    {
     "name": "stdout",
     "output_type": "stream",
     "text": [
      "GL$D 404 Client Error: Not Found for url: https://query2.finance.yahoo.com/v10/finance/quoteSummary/GL$D?modules=summaryProfile%2CfinancialData%2CquoteType%2CdefaultKeyStatistics%2CassetProfile%2CsummaryDetail&ssl=true\n"
     ]
    },
    {
     "name": "stderr",
     "output_type": "stream",
     "text": [
      " 39%|███▉      | 3335/8460 [35:22<40:58,  2.08it/s]"
     ]
    },
    {
     "name": "stdout",
     "output_type": "stream",
     "text": [
      "GLOG$A 404 Client Error: Not Found for url: https://query2.finance.yahoo.com/v10/finance/quoteSummary/GLOG$A?modules=summaryProfile%2CfinancialData%2CquoteType%2CdefaultKeyStatistics%2CassetProfile%2CsummaryDetail&ssl=true\n"
     ]
    },
    {
     "name": "stderr",
     "output_type": "stream",
     "text": [
      " 39%|███▉      | 3337/8460 [35:23<37:46,  2.26it/s]"
     ]
    },
    {
     "name": "stdout",
     "output_type": "stream",
     "text": [
      "GLOP$A 404 Client Error: Not Found for url: https://query2.finance.yahoo.com/v10/finance/quoteSummary/GLOP$A?modules=summaryProfile%2CfinancialData%2CquoteType%2CdefaultKeyStatistics%2CassetProfile%2CsummaryDetail&ssl=true\n"
     ]
    },
    {
     "name": "stderr",
     "output_type": "stream",
     "text": [
      " 39%|███▉      | 3338/8460 [35:23<33:52,  2.52it/s]"
     ]
    },
    {
     "name": "stdout",
     "output_type": "stream",
     "text": [
      "GLOP$B 404 Client Error: Not Found for url: https://query2.finance.yahoo.com/v10/finance/quoteSummary/GLOP$B?modules=summaryProfile%2CfinancialData%2CquoteType%2CdefaultKeyStatistics%2CassetProfile%2CsummaryDetail&ssl=true\n"
     ]
    },
    {
     "name": "stderr",
     "output_type": "stream",
     "text": [
      " 39%|███▉      | 3339/8460 [35:24<31:12,  2.74it/s]"
     ]
    },
    {
     "name": "stdout",
     "output_type": "stream",
     "text": [
      "GLOP$C 404 Client Error: Not Found for url: https://query2.finance.yahoo.com/v10/finance/quoteSummary/GLOP$C?modules=summaryProfile%2CfinancialData%2CquoteType%2CdefaultKeyStatistics%2CassetProfile%2CsummaryDetail&ssl=true\n"
     ]
    },
    {
     "name": "stderr",
     "output_type": "stream",
     "text": [
      " 39%|███▉      | 3341/8460 [35:24<31:57,  2.67it/s]"
     ]
    },
    {
     "name": "stdout",
     "output_type": "stream",
     "text": [
      "GLP$A 404 Client Error: Not Found for url: https://query2.finance.yahoo.com/v10/finance/quoteSummary/GLP$A?modules=summaryProfile%2CfinancialData%2CquoteType%2CdefaultKeyStatistics%2CassetProfile%2CsummaryDetail&ssl=true\n"
     ]
    },
    {
     "name": "stderr",
     "output_type": "stream",
     "text": [
      " 40%|███▉      | 3342/8460 [35:25<29:07,  2.93it/s]"
     ]
    },
    {
     "name": "stdout",
     "output_type": "stream",
     "text": [
      "GLP$B 404 Client Error: Not Found for url: https://query2.finance.yahoo.com/v10/finance/quoteSummary/GLP$B?modules=summaryProfile%2CfinancialData%2CquoteType%2CdefaultKeyStatistics%2CassetProfile%2CsummaryDetail&ssl=true\n"
     ]
    },
    {
     "name": "stderr",
     "output_type": "stream",
     "text": [
      " 40%|███▉      | 3354/8460 [35:32<43:32,  1.95it/s]"
     ]
    },
    {
     "name": "stdout",
     "output_type": "stream",
     "text": [
      "GLTA.U 404 Client Error: Not Found for url: https://query2.finance.yahoo.com/v10/finance/quoteSummary/GLTA.U?modules=summaryProfile%2CfinancialData%2CquoteType%2CdefaultKeyStatistics%2CassetProfile%2CsummaryDetail&ssl=true\n"
     ]
    },
    {
     "name": "stderr",
     "output_type": "stream",
     "text": [
      " 40%|███▉      | 3355/8460 [35:32<37:55,  2.24it/s]"
     ]
    },
    {
     "name": "stdout",
     "output_type": "stream",
     "text": [
      "GLTA.W 404 Client Error: Not Found for url: https://query2.finance.yahoo.com/v10/finance/quoteSummary/GLTA.W?modules=summaryProfile%2CfinancialData%2CquoteType%2CdefaultKeyStatistics%2CassetProfile%2CsummaryDetail&ssl=true\n"
     ]
    },
    {
     "name": "stderr",
     "output_type": "stream",
     "text": [
      " 40%|███▉      | 3358/8460 [35:33<36:51,  2.31it/s]"
     ]
    },
    {
     "name": "stdout",
     "output_type": "stream",
     "text": [
      "GLU$A 404 Client Error: Not Found for url: https://query2.finance.yahoo.com/v10/finance/quoteSummary/GLU$A?modules=summaryProfile%2CfinancialData%2CquoteType%2CdefaultKeyStatistics%2CassetProfile%2CsummaryDetail&ssl=true\n"
     ]
    },
    {
     "name": "stderr",
     "output_type": "stream",
     "text": [
      " 40%|███▉      | 3359/8460 [35:33<32:23,  2.63it/s]"
     ]
    },
    {
     "name": "stdout",
     "output_type": "stream",
     "text": [
      "GLU$B 404 Client Error: Not Found for url: https://query2.finance.yahoo.com/v10/finance/quoteSummary/GLU$B?modules=summaryProfile%2CfinancialData%2CquoteType%2CdefaultKeyStatistics%2CassetProfile%2CsummaryDetail&ssl=true\n"
     ]
    },
    {
     "name": "stderr",
     "output_type": "stream",
     "text": [
      " 40%|███▉      | 3378/8460 [35:45<41:49,  2.02it/s]"
     ]
    },
    {
     "name": "stdout",
     "output_type": "stream",
     "text": [
      "GMRE$A 404 Client Error: Not Found for url: https://query2.finance.yahoo.com/v10/finance/quoteSummary/GMRE$A?modules=summaryProfile%2CfinancialData%2CquoteType%2CdefaultKeyStatistics%2CassetProfile%2CsummaryDetail&ssl=true\n"
     ]
    },
    {
     "name": "stderr",
     "output_type": "stream",
     "text": [
      " 40%|███▉      | 3383/8460 [35:47<39:57,  2.12it/s]"
     ]
    },
    {
     "name": "stdout",
     "output_type": "stream",
     "text": [
      "GNE$A 404 Client Error: Not Found for url: https://query2.finance.yahoo.com/v10/finance/quoteSummary/GNE$A?modules=summaryProfile%2CfinancialData%2CquoteType%2CdefaultKeyStatistics%2CassetProfile%2CsummaryDetail&ssl=true\n"
     ]
    },
    {
     "name": "stderr",
     "output_type": "stream",
     "text": [
      " 40%|████      | 3387/8460 [35:49<39:54,  2.12it/s]"
     ]
    },
    {
     "name": "stdout",
     "output_type": "stream",
     "text": [
      "GNL$A 404 Client Error: Not Found for url: https://query2.finance.yahoo.com/v10/finance/quoteSummary/GNL$A?modules=summaryProfile%2CfinancialData%2CquoteType%2CdefaultKeyStatistics%2CassetProfile%2CsummaryDetail&ssl=true\n"
     ]
    },
    {
     "name": "stderr",
     "output_type": "stream",
     "text": [
      " 40%|████      | 3388/8460 [35:50<35:18,  2.39it/s]"
     ]
    },
    {
     "name": "stdout",
     "output_type": "stream",
     "text": [
      "GNL$B 404 Client Error: Not Found for url: https://query2.finance.yahoo.com/v10/finance/quoteSummary/GNL$B?modules=summaryProfile%2CfinancialData%2CquoteType%2CdefaultKeyStatistics%2CassetProfile%2CsummaryDetail&ssl=true\n"
     ]
    },
    {
     "name": "stderr",
     "output_type": "stream",
     "text": [
      " 40%|████      | 3396/8460 [35:54<40:58,  2.06it/s]"
     ]
    },
    {
     "name": "stdout",
     "output_type": "stream",
     "text": [
      "GNT$A 404 Client Error: Not Found for url: https://query2.finance.yahoo.com/v10/finance/quoteSummary/GNT$A?modules=summaryProfile%2CfinancialData%2CquoteType%2CdefaultKeyStatistics%2CassetProfile%2CsummaryDetail&ssl=true\n"
     ]
    },
    {
     "name": "stderr",
     "output_type": "stream",
     "text": [
      " 40%|████      | 3409/8460 [36:01<41:57,  2.01it/s]"
     ]
    },
    {
     "name": "stdout",
     "output_type": "stream",
     "text": [
      "GOGN.U 404 Client Error: Not Found for url: https://query2.finance.yahoo.com/v10/finance/quoteSummary/GOGN.U?modules=summaryProfile%2CfinancialData%2CquoteType%2CdefaultKeyStatistics%2CassetProfile%2CsummaryDetail&ssl=true\n"
     ]
    },
    {
     "name": "stderr",
     "output_type": "stream",
     "text": [
      " 40%|████      | 3410/8460 [36:02<36:54,  2.28it/s]"
     ]
    },
    {
     "name": "stdout",
     "output_type": "stream",
     "text": [
      "GOGN.W 404 Client Error: Not Found for url: https://query2.finance.yahoo.com/v10/finance/quoteSummary/GOGN.W?modules=summaryProfile%2CfinancialData%2CquoteType%2CdefaultKeyStatistics%2CassetProfile%2CsummaryDetail&ssl=true\n"
     ]
    },
    {
     "name": "stderr",
     "output_type": "stream",
     "text": [
      " 41%|████      | 3436/8460 [36:16<41:53,  2.00it/s]"
     ]
    },
    {
     "name": "stdout",
     "output_type": "stream",
     "text": [
      "GPMT$A 404 Client Error: Not Found for url: https://query2.finance.yahoo.com/v10/finance/quoteSummary/GPMT$A?modules=summaryProfile%2CfinancialData%2CquoteType%2CdefaultKeyStatistics%2CassetProfile%2CsummaryDetail&ssl=true\n"
     ]
    },
    {
     "name": "stderr",
     "output_type": "stream",
     "text": [
      " 41%|████      | 3447/8460 [36:23<43:22,  1.93it/s]"
     ]
    },
    {
     "name": "stdout",
     "output_type": "stream",
     "text": [
      "GRBK$A 404 Client Error: Not Found for url: https://query2.finance.yahoo.com/v10/finance/quoteSummary/GRBK$A?modules=summaryProfile%2CfinancialData%2CquoteType%2CdefaultKeyStatistics%2CassetProfile%2CsummaryDetail&ssl=true\n"
     ]
    },
    {
     "name": "stderr",
     "output_type": "stream",
     "text": [
      " 41%|████      | 3466/8460 [36:33<39:41,  2.10it/s]"
     ]
    },
    {
     "name": "stdout",
     "output_type": "stream",
     "text": [
      "GRND.W 404 Client Error: Not Found for url: https://query2.finance.yahoo.com/v10/finance/quoteSummary/GRND.W?modules=summaryProfile%2CfinancialData%2CquoteType%2CdefaultKeyStatistics%2CassetProfile%2CsummaryDetail&ssl=true\n"
     ]
    },
    {
     "name": "stderr",
     "output_type": "stream",
     "text": [
      " 41%|████      | 3469/8460 [36:35<40:48,  2.04it/s]"
     ]
    },
    {
     "name": "stdout",
     "output_type": "stream",
     "text": [
      "GRNT.W 404 Client Error: Not Found for url: https://query2.finance.yahoo.com/v10/finance/quoteSummary/GRNT.W?modules=summaryProfile%2CfinancialData%2CquoteType%2CdefaultKeyStatistics%2CassetProfile%2CsummaryDetail&ssl=true\n"
     ]
    },
    {
     "name": "stderr",
     "output_type": "stream",
     "text": [
      " 41%|████      | 3473/8460 [36:37<38:03,  2.18it/s]"
     ]
    },
    {
     "name": "stdout",
     "output_type": "stream",
     "text": [
      "GROV.W 404 Client Error: Not Found for url: https://query2.finance.yahoo.com/v10/finance/quoteSummary/GROV.W?modules=summaryProfile%2CfinancialData%2CquoteType%2CdefaultKeyStatistics%2CassetProfile%2CsummaryDetail&ssl=true\n"
     ]
    },
    {
     "name": "stderr",
     "output_type": "stream",
     "text": [
      " 41%|████      | 3476/8460 [36:38<36:56,  2.25it/s]"
     ]
    },
    {
     "name": "stdout",
     "output_type": "stream",
     "text": [
      "GROY.W 404 Client Error: Not Found for url: https://query2.finance.yahoo.com/v10/finance/quoteSummary/GROY.W?modules=summaryProfile%2CfinancialData%2CquoteType%2CdefaultKeyStatistics%2CassetProfile%2CsummaryDetail&ssl=true\n"
     ]
    },
    {
     "name": "stderr",
     "output_type": "stream",
     "text": [
      " 41%|████      | 3488/8460 [36:46<54:55,  1.51it/s]  "
     ]
    },
    {
     "name": "stdout",
     "output_type": "stream",
     "text": [
      "GS$A 404 Client Error: Not Found for url: https://query2.finance.yahoo.com/v10/finance/quoteSummary/GS$A?modules=summaryProfile%2CfinancialData%2CquoteType%2CdefaultKeyStatistics%2CassetProfile%2CsummaryDetail&ssl=true\n"
     ]
    },
    {
     "name": "stderr",
     "output_type": "stream",
     "text": [
      " 41%|████      | 3489/8460 [36:46<44:53,  1.85it/s]"
     ]
    },
    {
     "name": "stdout",
     "output_type": "stream",
     "text": [
      "GS$C 404 Client Error: Not Found for url: https://query2.finance.yahoo.com/v10/finance/quoteSummary/GS$C?modules=summaryProfile%2CfinancialData%2CquoteType%2CdefaultKeyStatistics%2CassetProfile%2CsummaryDetail&ssl=true\n"
     ]
    },
    {
     "name": "stderr",
     "output_type": "stream",
     "text": [
      " 41%|████▏     | 3490/8460 [36:46<38:33,  2.15it/s]"
     ]
    },
    {
     "name": "stdout",
     "output_type": "stream",
     "text": [
      "GS$D 404 Client Error: Not Found for url: https://query2.finance.yahoo.com/v10/finance/quoteSummary/GS$D?modules=summaryProfile%2CfinancialData%2CquoteType%2CdefaultKeyStatistics%2CassetProfile%2CsummaryDetail&ssl=true\n"
     ]
    },
    {
     "name": "stderr",
     "output_type": "stream",
     "text": [
      " 41%|████▏     | 3491/8460 [36:47<33:35,  2.47it/s]"
     ]
    },
    {
     "name": "stdout",
     "output_type": "stream",
     "text": [
      "GS$J 404 Client Error: Not Found for url: https://query2.finance.yahoo.com/v10/finance/quoteSummary/GS$J?modules=summaryProfile%2CfinancialData%2CquoteType%2CdefaultKeyStatistics%2CassetProfile%2CsummaryDetail&ssl=true\n"
     ]
    },
    {
     "name": "stderr",
     "output_type": "stream",
     "text": [
      " 41%|████▏     | 3492/8460 [36:47<30:36,  2.70it/s]"
     ]
    },
    {
     "name": "stdout",
     "output_type": "stream",
     "text": [
      "GS$K 404 Client Error: Not Found for url: https://query2.finance.yahoo.com/v10/finance/quoteSummary/GS$K?modules=summaryProfile%2CfinancialData%2CquoteType%2CdefaultKeyStatistics%2CassetProfile%2CsummaryDetail&ssl=true\n"
     ]
    },
    {
     "name": "stderr",
     "output_type": "stream",
     "text": [
      " 41%|████▏     | 3503/8460 [36:53<40:26,  2.04it/s]"
     ]
    },
    {
     "name": "stdout",
     "output_type": "stream",
     "text": [
      "GSL$B 404 Client Error: Not Found for url: https://query2.finance.yahoo.com/v10/finance/quoteSummary/GSL$B?modules=summaryProfile%2CfinancialData%2CquoteType%2CdefaultKeyStatistics%2CassetProfile%2CsummaryDetail&ssl=true\n"
     ]
    },
    {
     "name": "stderr",
     "output_type": "stream",
     "text": [
      " 41%|████▏     | 3509/8460 [36:56<39:25,  2.09it/s]"
     ]
    },
    {
     "name": "stdout",
     "output_type": "stream",
     "text": [
      "GSQB.U 404 Client Error: Not Found for url: https://query2.finance.yahoo.com/v10/finance/quoteSummary/GSQB.U?modules=summaryProfile%2CfinancialData%2CquoteType%2CdefaultKeyStatistics%2CassetProfile%2CsummaryDetail&ssl=true\n"
     ]
    },
    {
     "name": "stderr",
     "output_type": "stream",
     "text": [
      " 41%|████▏     | 3510/8460 [36:56<34:36,  2.38it/s]"
     ]
    },
    {
     "name": "stdout",
     "output_type": "stream",
     "text": [
      "GSQB.W 404 Client Error: Not Found for url: https://query2.finance.yahoo.com/v10/finance/quoteSummary/GSQB.W?modules=summaryProfile%2CfinancialData%2CquoteType%2CdefaultKeyStatistics%2CassetProfile%2CsummaryDetail&ssl=true\n"
     ]
    },
    {
     "name": "stderr",
     "output_type": "stream",
     "text": [
      " 42%|████▏     | 3529/8460 [37:07<41:44,  1.97it/s]"
     ]
    },
    {
     "name": "stdout",
     "output_type": "stream",
     "text": [
      "GTLS$B 404 Client Error: Not Found for url: https://query2.finance.yahoo.com/v10/finance/quoteSummary/GTLS$B?modules=summaryProfile%2CfinancialData%2CquoteType%2CdefaultKeyStatistics%2CassetProfile%2CsummaryDetail&ssl=true\n"
     ]
    },
    {
     "name": "stderr",
     "output_type": "stream",
     "text": [
      " 42%|████▏     | 3531/8460 [37:08<38:43,  2.12it/s]"
     ]
    },
    {
     "name": "stdout",
     "output_type": "stream",
     "text": [
      "GTN.A 404 Client Error: Not Found for url: https://query2.finance.yahoo.com/v10/finance/quoteSummary/GTN.A?modules=summaryProfile%2CfinancialData%2CquoteType%2CdefaultKeyStatistics%2CassetProfile%2CsummaryDetail&ssl=true\n"
     ]
    },
    {
     "name": "stderr",
     "output_type": "stream",
     "text": [
      " 42%|████▏     | 3538/8460 [37:12<38:13,  2.15it/s]"
     ]
    },
    {
     "name": "stdout",
     "output_type": "stream",
     "text": [
      "GUT$C 404 Client Error: Not Found for url: https://query2.finance.yahoo.com/v10/finance/quoteSummary/GUT$C?modules=summaryProfile%2CfinancialData%2CquoteType%2CdefaultKeyStatistics%2CassetProfile%2CsummaryDetail&ssl=true\n"
     ]
    },
    {
     "name": "stderr",
     "output_type": "stream",
     "text": [
      " 42%|████▏     | 3546/8460 [37:21<1:07:28,  1.21it/s]"
     ]
    },
    {
     "name": "stdout",
     "output_type": "stream",
     "text": [
      "GWH.W 404 Client Error: Not Found for url: https://query2.finance.yahoo.com/v10/finance/quoteSummary/GWH.W?modules=summaryProfile%2CfinancialData%2CquoteType%2CdefaultKeyStatistics%2CassetProfile%2CsummaryDetail&ssl=true\n"
     ]
    },
    {
     "name": "stderr",
     "output_type": "stream",
     "text": [
      " 43%|████▎     | 3623/8460 [38:16<40:40,  1.98it/s]  "
     ]
    },
    {
     "name": "stdout",
     "output_type": "stream",
     "text": [
      "HFRO$A 404 Client Error: Not Found for url: https://query2.finance.yahoo.com/v10/finance/quoteSummary/HFRO$A?modules=summaryProfile%2CfinancialData%2CquoteType%2CdefaultKeyStatistics%2CassetProfile%2CsummaryDetail&ssl=true\n"
     ]
    },
    {
     "name": "stderr",
     "output_type": "stream",
     "text": [
      " 43%|████▎     | 3629/8460 [38:19<39:26,  2.04it/s]"
     ]
    },
    {
     "name": "stdout",
     "output_type": "stream",
     "text": [
      "HGTY.W 404 Client Error: Not Found for url: https://query2.finance.yahoo.com/v10/finance/quoteSummary/HGTY.W?modules=summaryProfile%2CfinancialData%2CquoteType%2CdefaultKeyStatistics%2CassetProfile%2CsummaryDetail&ssl=true\n"
     ]
    },
    {
     "name": "stderr",
     "output_type": "stream",
     "text": [
      " 43%|████▎     | 3637/8460 [38:24<41:40,  1.93it/s]"
     ]
    },
    {
     "name": "stdout",
     "output_type": "stream",
     "text": [
      "HHLA.U 404 Client Error: Not Found for url: https://query2.finance.yahoo.com/v10/finance/quoteSummary/HHLA.U?modules=summaryProfile%2CfinancialData%2CquoteType%2CdefaultKeyStatistics%2CassetProfile%2CsummaryDetail&ssl=true\n"
     ]
    },
    {
     "name": "stderr",
     "output_type": "stream",
     "text": [
      " 43%|████▎     | 3638/8460 [38:24<35:28,  2.27it/s]"
     ]
    },
    {
     "name": "stdout",
     "output_type": "stream",
     "text": [
      "HHLA.W 404 Client Error: Not Found for url: https://query2.finance.yahoo.com/v10/finance/quoteSummary/HHLA.W?modules=summaryProfile%2CfinancialData%2CquoteType%2CdefaultKeyStatistics%2CassetProfile%2CsummaryDetail&ssl=true\n"
     ]
    },
    {
     "name": "stderr",
     "output_type": "stream",
     "text": [
      " 43%|████▎     | 3648/8460 [38:34<1:36:06,  1.20s/it]"
     ]
    },
    {
     "name": "stdout",
     "output_type": "stream",
     "text": [
      "HIG$G 404 Client Error: Not Found for url: https://query2.finance.yahoo.com/v10/finance/quoteSummary/HIG$G?modules=summaryProfile%2CfinancialData%2CquoteType%2CdefaultKeyStatistics%2CassetProfile%2CsummaryDetail&ssl=true\n"
     ]
    },
    {
     "name": "stderr",
     "output_type": "stream",
     "text": [
      " 43%|████▎     | 3656/8460 [38:38<41:07,  1.95it/s]  "
     ]
    },
    {
     "name": "stdout",
     "output_type": "stream",
     "text": [
      "HIPO.W 404 Client Error: Not Found for url: https://query2.finance.yahoo.com/v10/finance/quoteSummary/HIPO.W?modules=summaryProfile%2CfinancialData%2CquoteType%2CdefaultKeyStatistics%2CassetProfile%2CsummaryDetail&ssl=true\n"
     ]
    },
    {
     "name": "stderr",
     "output_type": "stream",
     "text": [
      " 43%|████▎     | 3664/8460 [38:42<40:44,  1.96it/s]"
     ]
    },
    {
     "name": "stdout",
     "output_type": "stream",
     "text": [
      "HL$B 404 Client Error: Not Found for url: https://query2.finance.yahoo.com/v10/finance/quoteSummary/HL$B?modules=summaryProfile%2CfinancialData%2CquoteType%2CdefaultKeyStatistics%2CassetProfile%2CsummaryDetail&ssl=true\n"
     ]
    },
    {
     "name": "stderr",
     "output_type": "stream",
     "text": [
      " 43%|████▎     | 3667/8460 [38:44<37:00,  2.16it/s]"
     ]
    },
    {
     "name": "stdout",
     "output_type": "stream",
     "text": [
      "HLGN.W 404 Client Error: Not Found for url: https://query2.finance.yahoo.com/v10/finance/quoteSummary/HLGN.W?modules=summaryProfile%2CfinancialData%2CquoteType%2CdefaultKeyStatistics%2CassetProfile%2CsummaryDetail&ssl=true\n"
     ]
    },
    {
     "name": "stderr",
     "output_type": "stream",
     "text": [
      " 43%|████▎     | 3672/8460 [38:46<38:22,  2.08it/s]"
     ]
    },
    {
     "name": "stdout",
     "output_type": "stream",
     "text": [
      "HLLY.W 404 Client Error: Not Found for url: https://query2.finance.yahoo.com/v10/finance/quoteSummary/HLLY.W?modules=summaryProfile%2CfinancialData%2CquoteType%2CdefaultKeyStatistics%2CassetProfile%2CsummaryDetail&ssl=true\n"
     ]
    },
    {
     "name": "stderr",
     "output_type": "stream",
     "text": [
      " 44%|████▎     | 3682/8460 [38:52<39:51,  2.00it/s]"
     ]
    },
    {
     "name": "stdout",
     "output_type": "stream",
     "text": [
      "HMA.U 404 Client Error: Not Found for url: https://query2.finance.yahoo.com/v10/finance/quoteSummary/HMA.U?modules=summaryProfile%2CfinancialData%2CquoteType%2CdefaultKeyStatistics%2CassetProfile%2CsummaryDetail&ssl=true\n"
     ]
    },
    {
     "name": "stderr",
     "output_type": "stream",
     "text": [
      " 44%|████▎     | 3683/8460 [38:52<34:57,  2.28it/s]"
     ]
    },
    {
     "name": "stdout",
     "output_type": "stream",
     "text": [
      "HMA.W 404 Client Error: Not Found for url: https://query2.finance.yahoo.com/v10/finance/quoteSummary/HMA.W?modules=summaryProfile%2CfinancialData%2CquoteType%2CdefaultKeyStatistics%2CassetProfile%2CsummaryDetail&ssl=true\n"
     ]
    },
    {
     "name": "stderr",
     "output_type": "stream",
     "text": [
      " 44%|████▎     | 3698/8460 [39:01<38:00,  2.09it/s]"
     ]
    },
    {
     "name": "stdout",
     "output_type": "stream",
     "text": [
      "HNRA.W 404 Client Error: Not Found for url: https://query2.finance.yahoo.com/v10/finance/quoteSummary/HNRA.W?modules=summaryProfile%2CfinancialData%2CquoteType%2CdefaultKeyStatistics%2CassetProfile%2CsummaryDetail&ssl=true\n"
     ]
    },
    {
     "name": "stderr",
     "output_type": "stream",
     "text": [
      " 44%|████▍     | 3734/8460 [39:22<39:05,  2.01it/s]"
     ]
    },
    {
     "name": "stdout",
     "output_type": "stream",
     "text": [
      "HPP$C 404 Client Error: Not Found for url: https://query2.finance.yahoo.com/v10/finance/quoteSummary/HPP$C?modules=summaryProfile%2CfinancialData%2CquoteType%2CdefaultKeyStatistics%2CassetProfile%2CsummaryDetail&ssl=true\n"
     ]
    },
    {
     "name": "stderr",
     "output_type": "stream",
     "text": [
      " 45%|████▍     | 3773/8460 [39:44<38:17,  2.04it/s]"
     ]
    },
    {
     "name": "stdout",
     "output_type": "stream",
     "text": [
      "HT$C 404 Client Error: Not Found for url: https://query2.finance.yahoo.com/v10/finance/quoteSummary/HT$C?modules=summaryProfile%2CfinancialData%2CquoteType%2CdefaultKeyStatistics%2CassetProfile%2CsummaryDetail&ssl=true\n"
     ]
    },
    {
     "name": "stderr",
     "output_type": "stream",
     "text": [
      " 45%|████▍     | 3774/8460 [39:45<33:05,  2.36it/s]"
     ]
    },
    {
     "name": "stdout",
     "output_type": "stream",
     "text": [
      "HT$D 404 Client Error: Not Found for url: https://query2.finance.yahoo.com/v10/finance/quoteSummary/HT$D?modules=summaryProfile%2CfinancialData%2CquoteType%2CdefaultKeyStatistics%2CassetProfile%2CsummaryDetail&ssl=true\n"
     ]
    },
    {
     "name": "stderr",
     "output_type": "stream",
     "text": [
      " 45%|████▍     | 3775/8460 [39:45<30:07,  2.59it/s]"
     ]
    },
    {
     "name": "stdout",
     "output_type": "stream",
     "text": [
      "HT$E 404 Client Error: Not Found for url: https://query2.finance.yahoo.com/v10/finance/quoteSummary/HT$E?modules=summaryProfile%2CfinancialData%2CquoteType%2CdefaultKeyStatistics%2CassetProfile%2CsummaryDetail&ssl=true\n"
     ]
    },
    {
     "name": "stderr",
     "output_type": "stream",
     "text": [
      " 45%|████▌     | 3819/8460 [40:12<37:48,  2.05it/s]  "
     ]
    },
    {
     "name": "stdout",
     "output_type": "stream",
     "text": [
      "HVT.A 404 Client Error: Not Found for url: https://query2.finance.yahoo.com/v10/finance/quoteSummary/HVT.A?modules=summaryProfile%2CfinancialData%2CquoteType%2CdefaultKeyStatistics%2CassetProfile%2CsummaryDetail&ssl=true\n"
     ]
    },
    {
     "name": "stderr",
     "output_type": "stream",
     "text": [
      " 45%|████▌     | 3828/8460 [40:17<40:37,  1.90it/s]"
     ]
    },
    {
     "name": "stdout",
     "output_type": "stream",
     "text": [
      "HWKZ.U 404 Client Error: Not Found for url: https://query2.finance.yahoo.com/v10/finance/quoteSummary/HWKZ.U?modules=summaryProfile%2CfinancialData%2CquoteType%2CdefaultKeyStatistics%2CassetProfile%2CsummaryDetail&ssl=true\n"
     ]
    },
    {
     "name": "stderr",
     "output_type": "stream",
     "text": [
      " 45%|████▌     | 3830/8460 [40:18<37:35,  2.05it/s]"
     ]
    },
    {
     "name": "stdout",
     "output_type": "stream",
     "text": [
      "HWM$ 404 Client Error: Not Found for url: https://query2.finance.yahoo.com/v10/finance/quoteSummary/HWM$?modules=summaryProfile%2CfinancialData%2CquoteType%2CdefaultKeyStatistics%2CassetProfile%2CsummaryDetail&ssl=true\n"
     ]
    },
    {
     "name": "stderr",
     "output_type": "stream",
     "text": [
      " 46%|████▌     | 3879/8460 [40:51<1:00:35,  1.26it/s]"
     ]
    },
    {
     "name": "stdout",
     "output_type": "stream",
     "text": [
      "ICNC.U 404 Client Error: Not Found for url: https://query2.finance.yahoo.com/v10/finance/quoteSummary/ICNC.U?modules=summaryProfile%2CfinancialData%2CquoteType%2CdefaultKeyStatistics%2CassetProfile%2CsummaryDetail&ssl=true\n"
     ]
    },
    {
     "name": "stderr",
     "output_type": "stream",
     "text": [
      " 46%|████▌     | 3880/8460 [40:51<48:24,  1.58it/s]  "
     ]
    },
    {
     "name": "stdout",
     "output_type": "stream",
     "text": [
      "ICNC.W 404 Client Error: Not Found for url: https://query2.finance.yahoo.com/v10/finance/quoteSummary/ICNC.W?modules=summaryProfile%2CfinancialData%2CquoteType%2CdefaultKeyStatistics%2CassetProfile%2CsummaryDetail&ssl=true\n"
     ]
    },
    {
     "name": "stderr",
     "output_type": "stream",
     "text": [
      " 46%|████▌     | 3882/8460 [40:52<39:41,  1.92it/s]"
     ]
    },
    {
     "name": "stdout",
     "output_type": "stream",
     "text": [
      "ICR$A 404 Client Error: Not Found for url: https://query2.finance.yahoo.com/v10/finance/quoteSummary/ICR$A?modules=summaryProfile%2CfinancialData%2CquoteType%2CdefaultKeyStatistics%2CassetProfile%2CsummaryDetail&ssl=true\n"
     ]
    },
    {
     "name": "stderr",
     "output_type": "stream",
     "text": [
      " 46%|████▌     | 3907/8460 [41:06<37:12,  2.04it/s]"
     ]
    },
    {
     "name": "stdout",
     "output_type": "stream",
     "text": [
      "IFIN.U 404 Client Error: Not Found for url: https://query2.finance.yahoo.com/v10/finance/quoteSummary/IFIN.U?modules=summaryProfile%2CfinancialData%2CquoteType%2CdefaultKeyStatistics%2CassetProfile%2CsummaryDetail&ssl=true\n"
     ]
    },
    {
     "name": "stderr",
     "output_type": "stream",
     "text": [
      " 46%|████▌     | 3908/8460 [41:06<31:51,  2.38it/s]"
     ]
    },
    {
     "name": "stdout",
     "output_type": "stream",
     "text": [
      "IFIN.W 404 Client Error: Not Found for url: https://query2.finance.yahoo.com/v10/finance/quoteSummary/IFIN.W?modules=summaryProfile%2CfinancialData%2CquoteType%2CdefaultKeyStatistics%2CassetProfile%2CsummaryDetail&ssl=true\n"
     ]
    },
    {
     "name": "stderr",
     "output_type": "stream",
     "text": [
      " 47%|████▋     | 3942/8460 [41:26<36:33,  2.06it/s]"
     ]
    },
    {
     "name": "stdout",
     "output_type": "stream",
     "text": [
      "IIPR$A 404 Client Error: Not Found for url: https://query2.finance.yahoo.com/v10/finance/quoteSummary/IIPR$A?modules=summaryProfile%2CfinancialData%2CquoteType%2CdefaultKeyStatistics%2CassetProfile%2CsummaryDetail&ssl=true\n"
     ]
    },
    {
     "name": "stderr",
     "output_type": "stream",
     "text": [
      " 47%|████▋     | 3985/8460 [41:50<36:15,  2.06it/s]"
     ]
    },
    {
     "name": "stdout",
     "output_type": "stream",
     "text": [
      "INAQ.U 404 Client Error: Not Found for url: https://query2.finance.yahoo.com/v10/finance/quoteSummary/INAQ.U?modules=summaryProfile%2CfinancialData%2CquoteType%2CdefaultKeyStatistics%2CassetProfile%2CsummaryDetail&ssl=true\n"
     ]
    },
    {
     "name": "stderr",
     "output_type": "stream",
     "text": [
      " 47%|████▋     | 4012/8460 [42:06<38:38,  1.92it/s]"
     ]
    },
    {
     "name": "stdout",
     "output_type": "stream",
     "text": [
      "INN$E 404 Client Error: Not Found for url: https://query2.finance.yahoo.com/v10/finance/quoteSummary/INN$E?modules=summaryProfile%2CfinancialData%2CquoteType%2CdefaultKeyStatistics%2CassetProfile%2CsummaryDetail&ssl=true\n"
     ]
    },
    {
     "name": "stderr",
     "output_type": "stream",
     "text": [
      " 47%|████▋     | 4013/8460 [42:07<33:34,  2.21it/s]"
     ]
    },
    {
     "name": "stdout",
     "output_type": "stream",
     "text": [
      "INN$F 404 Client Error: Not Found for url: https://query2.finance.yahoo.com/v10/finance/quoteSummary/INN$F?modules=summaryProfile%2CfinancialData%2CquoteType%2CdefaultKeyStatistics%2CassetProfile%2CsummaryDetail&ssl=true\n"
     ]
    },
    {
     "name": "stderr",
     "output_type": "stream",
     "text": [
      " 48%|████▊     | 4050/8460 [42:29<37:42,  1.95it/s]"
     ]
    },
    {
     "name": "stdout",
     "output_type": "stream",
     "text": [
      "IONQ.W 404 Client Error: Not Found for url: https://query2.finance.yahoo.com/v10/finance/quoteSummary/IONQ.W?modules=summaryProfile%2CfinancialData%2CquoteType%2CdefaultKeyStatistics%2CassetProfile%2CsummaryDetail&ssl=true\n"
     ]
    },
    {
     "name": "stderr",
     "output_type": "stream",
     "text": [
      " 48%|████▊     | 4067/8460 [42:39<35:52,  2.04it/s]"
     ]
    },
    {
     "name": "stdout",
     "output_type": "stream",
     "text": [
      "IPVF.U 404 Client Error: Not Found for url: https://query2.finance.yahoo.com/v10/finance/quoteSummary/IPVF.U?modules=summaryProfile%2CfinancialData%2CquoteType%2CdefaultKeyStatistics%2CassetProfile%2CsummaryDetail&ssl=true\n"
     ]
    },
    {
     "name": "stderr",
     "output_type": "stream",
     "text": [
      " 48%|████▊     | 4068/8460 [42:39<30:49,  2.37it/s]"
     ]
    },
    {
     "name": "stdout",
     "output_type": "stream",
     "text": [
      "IPVF.W 404 Client Error: Not Found for url: https://query2.finance.yahoo.com/v10/finance/quoteSummary/IPVF.W?modules=summaryProfile%2CfinancialData%2CquoteType%2CdefaultKeyStatistics%2CassetProfile%2CsummaryDetail&ssl=true\n"
     ]
    },
    {
     "name": "stderr",
     "output_type": "stream",
     "text": [
      " 48%|████▊     | 4089/8460 [42:51<41:20,  1.76it/s]"
     ]
    },
    {
     "name": "stdout",
     "output_type": "stream",
     "text": [
      "IRNT.W 404 Client Error: Not Found for url: https://query2.finance.yahoo.com/v10/finance/quoteSummary/IRNT.W?modules=summaryProfile%2CfinancialData%2CquoteType%2CdefaultKeyStatistics%2CassetProfile%2CsummaryDetail&ssl=true\n"
     ]
    },
    {
     "name": "stderr",
     "output_type": "stream",
     "text": [
      " 48%|████▊     | 4093/8460 [42:53<35:21,  2.06it/s]"
     ]
    },
    {
     "name": "stdout",
     "output_type": "stream",
     "text": [
      "IRRX.U 404 Client Error: Not Found for url: https://query2.finance.yahoo.com/v10/finance/quoteSummary/IRRX.U?modules=summaryProfile%2CfinancialData%2CquoteType%2CdefaultKeyStatistics%2CassetProfile%2CsummaryDetail&ssl=true\n"
     ]
    },
    {
     "name": "stderr",
     "output_type": "stream",
     "text": [
      " 48%|████▊     | 4094/8460 [42:53<30:54,  2.35it/s]"
     ]
    },
    {
     "name": "stdout",
     "output_type": "stream",
     "text": [
      "IRRX.W 404 Client Error: Not Found for url: https://query2.finance.yahoo.com/v10/finance/quoteSummary/IRRX.W?modules=summaryProfile%2CfinancialData%2CquoteType%2CdefaultKeyStatistics%2CassetProfile%2CsummaryDetail&ssl=true\n"
     ]
    },
    {
     "name": "stderr",
     "output_type": "stream",
     "text": [
      " 48%|████▊     | 4096/8460 [42:54<31:11,  2.33it/s]"
     ]
    },
    {
     "name": "stdout",
     "output_type": "stream",
     "text": [
      "IRS.W 404 Client Error: Not Found for url: https://query2.finance.yahoo.com/v10/finance/quoteSummary/IRS.W?modules=summaryProfile%2CfinancialData%2CquoteType%2CdefaultKeyStatistics%2CassetProfile%2CsummaryDetail&ssl=true\n"
     ]
    },
    {
     "name": "stderr",
     "output_type": "stream",
     "text": [
      " 49%|████▉     | 4147/8460 [43:24<36:15,  1.98it/s]"
     ]
    },
    {
     "name": "stdout",
     "output_type": "stream",
     "text": [
      "IVR$B 404 Client Error: Not Found for url: https://query2.finance.yahoo.com/v10/finance/quoteSummary/IVR$B?modules=summaryProfile%2CfinancialData%2CquoteType%2CdefaultKeyStatistics%2CassetProfile%2CsummaryDetail&ssl=true\n"
     ]
    },
    {
     "name": "stderr",
     "output_type": "stream",
     "text": [
      " 49%|████▉     | 4148/8460 [43:24<31:11,  2.30it/s]"
     ]
    },
    {
     "name": "stdout",
     "output_type": "stream",
     "text": [
      "IVR$C 404 Client Error: Not Found for url: https://query2.finance.yahoo.com/v10/finance/quoteSummary/IVR$C?modules=summaryProfile%2CfinancialData%2CquoteType%2CdefaultKeyStatistics%2CassetProfile%2CsummaryDetail&ssl=true\n"
     ]
    },
    {
     "name": "stderr",
     "output_type": "stream",
     "text": [
      " 50%|████▉     | 4229/8460 [44:11<33:35,  2.10it/s]"
     ]
    },
    {
     "name": "stdout",
     "output_type": "stream",
     "text": [
      "JOBY.W 404 Client Error: Not Found for url: https://query2.finance.yahoo.com/v10/finance/quoteSummary/JOBY.W?modules=summaryProfile%2CfinancialData%2CquoteType%2CdefaultKeyStatistics%2CassetProfile%2CsummaryDetail&ssl=true\n"
     ]
    },
    {
     "name": "stderr",
     "output_type": "stream",
     "text": [
      " 50%|█████     | 4236/8460 [44:15<35:56,  1.96it/s]"
     ]
    },
    {
     "name": "stdout",
     "output_type": "stream",
     "text": [
      "JPM$C 404 Client Error: Not Found for url: https://query2.finance.yahoo.com/v10/finance/quoteSummary/JPM$C?modules=summaryProfile%2CfinancialData%2CquoteType%2CdefaultKeyStatistics%2CassetProfile%2CsummaryDetail&ssl=true\n"
     ]
    },
    {
     "name": "stderr",
     "output_type": "stream",
     "text": [
      " 50%|█████     | 4237/8460 [44:15<30:54,  2.28it/s]"
     ]
    },
    {
     "name": "stdout",
     "output_type": "stream",
     "text": [
      "JPM$D 404 Client Error: Not Found for url: https://query2.finance.yahoo.com/v10/finance/quoteSummary/JPM$D?modules=summaryProfile%2CfinancialData%2CquoteType%2CdefaultKeyStatistics%2CassetProfile%2CsummaryDetail&ssl=true\n"
     ]
    },
    {
     "name": "stderr",
     "output_type": "stream",
     "text": [
      " 50%|█████     | 4238/8460 [44:16<27:43,  2.54it/s]"
     ]
    },
    {
     "name": "stdout",
     "output_type": "stream",
     "text": [
      "JPM$J 404 Client Error: Not Found for url: https://query2.finance.yahoo.com/v10/finance/quoteSummary/JPM$J?modules=summaryProfile%2CfinancialData%2CquoteType%2CdefaultKeyStatistics%2CassetProfile%2CsummaryDetail&ssl=true\n"
     ]
    },
    {
     "name": "stderr",
     "output_type": "stream",
     "text": [
      " 50%|█████     | 4239/8460 [44:16<25:16,  2.78it/s]"
     ]
    },
    {
     "name": "stdout",
     "output_type": "stream",
     "text": [
      "JPM$K 404 Client Error: Not Found for url: https://query2.finance.yahoo.com/v10/finance/quoteSummary/JPM$K?modules=summaryProfile%2CfinancialData%2CquoteType%2CdefaultKeyStatistics%2CassetProfile%2CsummaryDetail&ssl=true\n"
     ]
    },
    {
     "name": "stderr",
     "output_type": "stream",
     "text": [
      " 50%|█████     | 4240/8460 [44:16<23:52,  2.95it/s]"
     ]
    },
    {
     "name": "stdout",
     "output_type": "stream",
     "text": [
      "JPM$L 404 Client Error: Not Found for url: https://query2.finance.yahoo.com/v10/finance/quoteSummary/JPM$L?modules=summaryProfile%2CfinancialData%2CquoteType%2CdefaultKeyStatistics%2CassetProfile%2CsummaryDetail&ssl=true\n"
     ]
    },
    {
     "name": "stderr",
     "output_type": "stream",
     "text": [
      " 50%|█████     | 4241/8460 [44:17<22:45,  3.09it/s]"
     ]
    },
    {
     "name": "stdout",
     "output_type": "stream",
     "text": [
      "JPM$M 404 Client Error: Not Found for url: https://query2.finance.yahoo.com/v10/finance/quoteSummary/JPM$M?modules=summaryProfile%2CfinancialData%2CquoteType%2CdefaultKeyStatistics%2CassetProfile%2CsummaryDetail&ssl=true\n"
     ]
    },
    {
     "name": "stderr",
     "output_type": "stream",
     "text": [
      " 50%|█████     | 4259/8460 [44:27<34:37,  2.02it/s]"
     ]
    },
    {
     "name": "stdout",
     "output_type": "stream",
     "text": [
      "JUN.U 404 Client Error: Not Found for url: https://query2.finance.yahoo.com/v10/finance/quoteSummary/JUN.U?modules=summaryProfile%2CfinancialData%2CquoteType%2CdefaultKeyStatistics%2CassetProfile%2CsummaryDetail&ssl=true\n"
     ]
    },
    {
     "name": "stderr",
     "output_type": "stream",
     "text": [
      " 50%|█████     | 4260/8460 [44:27<29:54,  2.34it/s]"
     ]
    },
    {
     "name": "stdout",
     "output_type": "stream",
     "text": [
      "JUN.W 404 Client Error: Not Found for url: https://query2.finance.yahoo.com/v10/finance/quoteSummary/JUN.W?modules=summaryProfile%2CfinancialData%2CquoteType%2CdefaultKeyStatistics%2CassetProfile%2CsummaryDetail&ssl=true\n"
     ]
    },
    {
     "name": "stderr",
     "output_type": "stream",
     "text": [
      " 50%|█████     | 4269/8460 [44:34<40:49,  1.71it/s]  "
     ]
    },
    {
     "name": "stdout",
     "output_type": "stream",
     "text": [
      "JWSM.U 404 Client Error: Not Found for url: https://query2.finance.yahoo.com/v10/finance/quoteSummary/JWSM.U?modules=summaryProfile%2CfinancialData%2CquoteType%2CdefaultKeyStatistics%2CassetProfile%2CsummaryDetail&ssl=true\n"
     ]
    },
    {
     "name": "stderr",
     "output_type": "stream",
     "text": [
      " 50%|█████     | 4270/8460 [44:35<35:54,  1.94it/s]"
     ]
    },
    {
     "name": "stdout",
     "output_type": "stream",
     "text": [
      "JWSM.W 404 Client Error: Not Found for url: https://query2.finance.yahoo.com/v10/finance/quoteSummary/JWSM.W?modules=summaryProfile%2CfinancialData%2CquoteType%2CdefaultKeyStatistics%2CassetProfile%2CsummaryDetail&ssl=true\n"
     ]
    },
    {
     "name": "stderr",
     "output_type": "stream",
     "text": [
      " 51%|█████     | 4273/8460 [44:36<33:07,  2.11it/s]"
     ]
    },
    {
     "name": "stdout",
     "output_type": "stream",
     "text": [
      "JXN$A 404 Client Error: Not Found for url: https://query2.finance.yahoo.com/v10/finance/quoteSummary/JXN$A?modules=summaryProfile%2CfinancialData%2CquoteType%2CdefaultKeyStatistics%2CassetProfile%2CsummaryDetail&ssl=true\n"
     ]
    },
    {
     "name": "stderr",
     "output_type": "stream",
     "text": [
      " 51%|█████     | 4300/8460 [44:52<33:35,  2.06it/s]"
     ]
    },
    {
     "name": "stdout",
     "output_type": "stream",
     "text": [
      "KCGI.U 404 Client Error: Not Found for url: https://query2.finance.yahoo.com/v10/finance/quoteSummary/KCGI.U?modules=summaryProfile%2CfinancialData%2CquoteType%2CdefaultKeyStatistics%2CassetProfile%2CsummaryDetail&ssl=true\n"
     ]
    },
    {
     "name": "stderr",
     "output_type": "stream",
     "text": [
      " 51%|█████     | 4301/8460 [44:52<29:37,  2.34it/s]"
     ]
    },
    {
     "name": "stdout",
     "output_type": "stream",
     "text": [
      "KCGI.W 404 Client Error: Not Found for url: https://query2.finance.yahoo.com/v10/finance/quoteSummary/KCGI.W?modules=summaryProfile%2CfinancialData%2CquoteType%2CdefaultKeyStatistics%2CassetProfile%2CsummaryDetail&ssl=true\n"
     ]
    },
    {
     "name": "stderr",
     "output_type": "stream",
     "text": [
      " 51%|█████     | 4315/8460 [45:00<35:23,  1.95it/s]"
     ]
    },
    {
     "name": "stdout",
     "output_type": "stream",
     "text": [
      "KEY$I 404 Client Error: Not Found for url: https://query2.finance.yahoo.com/v10/finance/quoteSummary/KEY$I?modules=summaryProfile%2CfinancialData%2CquoteType%2CdefaultKeyStatistics%2CassetProfile%2CsummaryDetail&ssl=true\n"
     ]
    },
    {
     "name": "stderr",
     "output_type": "stream",
     "text": [
      " 51%|█████     | 4316/8460 [45:00<31:43,  2.18it/s]"
     ]
    },
    {
     "name": "stdout",
     "output_type": "stream",
     "text": [
      "KEY$J 404 Client Error: Not Found for url: https://query2.finance.yahoo.com/v10/finance/quoteSummary/KEY$J?modules=summaryProfile%2CfinancialData%2CquoteType%2CdefaultKeyStatistics%2CassetProfile%2CsummaryDetail&ssl=true\n"
     ]
    },
    {
     "name": "stderr",
     "output_type": "stream",
     "text": [
      " 51%|█████     | 4317/8460 [45:01<28:06,  2.46it/s]"
     ]
    },
    {
     "name": "stdout",
     "output_type": "stream",
     "text": [
      "KEY$K 404 Client Error: Not Found for url: https://query2.finance.yahoo.com/v10/finance/quoteSummary/KEY$K?modules=summaryProfile%2CfinancialData%2CquoteType%2CdefaultKeyStatistics%2CassetProfile%2CsummaryDetail&ssl=true\n"
     ]
    },
    {
     "name": "stderr",
     "output_type": "stream",
     "text": [
      " 51%|█████     | 4318/8460 [45:01<26:08,  2.64it/s]"
     ]
    },
    {
     "name": "stdout",
     "output_type": "stream",
     "text": [
      "KEY$L 404 Client Error: Not Found for url: https://query2.finance.yahoo.com/v10/finance/quoteSummary/KEY$L?modules=summaryProfile%2CfinancialData%2CquoteType%2CdefaultKeyStatistics%2CassetProfile%2CsummaryDetail&ssl=true\n"
     ]
    },
    {
     "name": "stderr",
     "output_type": "stream",
     "text": [
      " 51%|█████     | 4329/8460 [45:07<33:31,  2.05it/s]"
     ]
    },
    {
     "name": "stdout",
     "output_type": "stream",
     "text": [
      "KIM$L 404 Client Error: Not Found for url: https://query2.finance.yahoo.com/v10/finance/quoteSummary/KIM$L?modules=summaryProfile%2CfinancialData%2CquoteType%2CdefaultKeyStatistics%2CassetProfile%2CsummaryDetail&ssl=true\n"
     ]
    },
    {
     "name": "stderr",
     "output_type": "stream",
     "text": [
      " 51%|█████     | 4330/8460 [45:07<28:51,  2.38it/s]"
     ]
    },
    {
     "name": "stdout",
     "output_type": "stream",
     "text": [
      "KIM$M 404 Client Error: Not Found for url: https://query2.finance.yahoo.com/v10/finance/quoteSummary/KIM$M?modules=summaryProfile%2CfinancialData%2CquoteType%2CdefaultKeyStatistics%2CassetProfile%2CsummaryDetail&ssl=true\n"
     ]
    },
    {
     "name": "stderr",
     "output_type": "stream",
     "text": [
      " 51%|█████▏    | 4339/8460 [45:12<33:23,  2.06it/s]"
     ]
    },
    {
     "name": "stdout",
     "output_type": "stream",
     "text": [
      "KKR$C 404 Client Error: Not Found for url: https://query2.finance.yahoo.com/v10/finance/quoteSummary/KKR$C?modules=summaryProfile%2CfinancialData%2CquoteType%2CdefaultKeyStatistics%2CassetProfile%2CsummaryDetail&ssl=true\n"
     ]
    },
    {
     "name": "stderr",
     "output_type": "stream",
     "text": [
      " 51%|█████▏    | 4344/8460 [45:15<34:31,  1.99it/s]"
     ]
    },
    {
     "name": "stdout",
     "output_type": "stream",
     "text": [
      "KLR.W 404 Client Error: Not Found for url: https://query2.finance.yahoo.com/v10/finance/quoteSummary/KLR.W?modules=summaryProfile%2CfinancialData%2CquoteType%2CdefaultKeyStatistics%2CassetProfile%2CsummaryDetail&ssl=true\n"
     ]
    },
    {
     "name": "stderr",
     "output_type": "stream",
     "text": [
      " 52%|█████▏    | 4361/8460 [45:33<36:04,  1.89it/s]  "
     ]
    },
    {
     "name": "stdout",
     "output_type": "stream",
     "text": [
      "KNSW.U 404 Client Error: Not Found for url: https://query2.finance.yahoo.com/v10/finance/quoteSummary/KNSW.U?modules=summaryProfile%2CfinancialData%2CquoteType%2CdefaultKeyStatistics%2CassetProfile%2CsummaryDetail&ssl=true\n"
     ]
    },
    {
     "name": "stderr",
     "output_type": "stream",
     "text": [
      " 52%|█████▏    | 4362/8460 [45:33<31:08,  2.19it/s]"
     ]
    },
    {
     "name": "stdout",
     "output_type": "stream",
     "text": [
      "KNSW.W 404 Client Error: Not Found for url: https://query2.finance.yahoo.com/v10/finance/quoteSummary/KNSW.W?modules=summaryProfile%2CfinancialData%2CquoteType%2CdefaultKeyStatistics%2CassetProfile%2CsummaryDetail&ssl=true\n"
     ]
    },
    {
     "name": "stderr",
     "output_type": "stream",
     "text": [
      " 52%|█████▏    | 4374/8460 [45:40<32:36,  2.09it/s]"
     ]
    },
    {
     "name": "stdout",
     "output_type": "stream",
     "text": [
      "KORE.W 404 Client Error: Not Found for url: https://query2.finance.yahoo.com/v10/finance/quoteSummary/KORE.W?modules=summaryProfile%2CfinancialData%2CquoteType%2CdefaultKeyStatistics%2CassetProfile%2CsummaryDetail&ssl=true\n"
     ]
    },
    {
     "name": "stderr",
     "output_type": "stream",
     "text": [
      " 52%|█████▏    | 4385/8460 [45:46<32:44,  2.07it/s]"
     ]
    },
    {
     "name": "stdout",
     "output_type": "stream",
     "text": [
      "KREF$A 404 Client Error: Not Found for url: https://query2.finance.yahoo.com/v10/finance/quoteSummary/KREF$A?modules=summaryProfile%2CfinancialData%2CquoteType%2CdefaultKeyStatistics%2CassetProfile%2CsummaryDetail&ssl=true\n"
     ]
    },
    {
     "name": "stderr",
     "output_type": "stream",
     "text": [
      " 53%|█████▎    | 4447/8460 [46:24<33:02,  2.02it/s]"
     ]
    },
    {
     "name": "stdout",
     "output_type": "stream",
     "text": [
      "LANV.W 404 Client Error: Not Found for url: https://query2.finance.yahoo.com/v10/finance/quoteSummary/LANV.W?modules=summaryProfile%2CfinancialData%2CquoteType%2CdefaultKeyStatistics%2CassetProfile%2CsummaryDetail&ssl=true\n"
     ]
    },
    {
     "name": "stderr",
     "output_type": "stream",
     "text": [
      " 53%|█████▎    | 4488/8460 [46:47<32:28,  2.04it/s]"
     ]
    },
    {
     "name": "stdout",
     "output_type": "stream",
     "text": [
      "LCW.U 404 Client Error: Not Found for url: https://query2.finance.yahoo.com/v10/finance/quoteSummary/LCW.U?modules=summaryProfile%2CfinancialData%2CquoteType%2CdefaultKeyStatistics%2CassetProfile%2CsummaryDetail&ssl=true\n"
     ]
    },
    {
     "name": "stderr",
     "output_type": "stream",
     "text": [
      " 53%|█████▎    | 4489/8460 [46:48<27:49,  2.38it/s]"
     ]
    },
    {
     "name": "stdout",
     "output_type": "stream",
     "text": [
      "LCW.W 404 Client Error: Not Found for url: https://query2.finance.yahoo.com/v10/finance/quoteSummary/LCW.W?modules=summaryProfile%2CfinancialData%2CquoteType%2CdefaultKeyStatistics%2CassetProfile%2CsummaryDetail&ssl=true\n"
     ]
    },
    {
     "name": "stderr",
     "output_type": "stream",
     "text": [
      " 53%|█████▎    | 4509/8460 [47:00<38:20,  1.72it/s]"
     ]
    },
    {
     "name": "stdout",
     "output_type": "stream",
     "text": [
      "LEV.A 404 Client Error: Not Found for url: https://query2.finance.yahoo.com/v10/finance/quoteSummary/LEV.A?modules=summaryProfile%2CfinancialData%2CquoteType%2CdefaultKeyStatistics%2CassetProfile%2CsummaryDetail&ssl=true\n"
     ]
    },
    {
     "name": "stderr",
     "output_type": "stream",
     "text": [
      " 53%|█████▎    | 4510/8460 [47:00<33:10,  1.98it/s]"
     ]
    },
    {
     "name": "stdout",
     "output_type": "stream",
     "text": [
      "LEV.W 404 Client Error: Not Found for url: https://query2.finance.yahoo.com/v10/finance/quoteSummary/LEV.W?modules=summaryProfile%2CfinancialData%2CquoteType%2CdefaultKeyStatistics%2CassetProfile%2CsummaryDetail&ssl=true\n"
     ]
    },
    {
     "name": "stderr",
     "output_type": "stream",
     "text": [
      " 53%|█████▎    | 4524/8460 [47:15<1:05:28,  1.00it/s]"
     ]
    },
    {
     "name": "stdout",
     "output_type": "stream",
     "text": [
      "LFT$A 404 Client Error: Not Found for url: https://query2.finance.yahoo.com/v10/finance/quoteSummary/LFT$A?modules=summaryProfile%2CfinancialData%2CquoteType%2CdefaultKeyStatistics%2CassetProfile%2CsummaryDetail&ssl=true\n"
     ]
    },
    {
     "name": "stderr",
     "output_type": "stream",
     "text": [
      " 54%|█████▎    | 4534/8460 [47:21<36:02,  1.82it/s]  "
     ]
    },
    {
     "name": "stdout",
     "output_type": "stream",
     "text": [
      "LGL.W 404 Client Error: Not Found for url: https://query2.finance.yahoo.com/v10/finance/quoteSummary/LGL.W?modules=summaryProfile%2CfinancialData%2CquoteType%2CdefaultKeyStatistics%2CassetProfile%2CsummaryDetail&ssl=true\n"
     ]
    },
    {
     "name": "stderr",
     "output_type": "stream",
     "text": [
      " 54%|█████▎    | 4547/8460 [47:29<33:38,  1.94it/s]"
     ]
    },
    {
     "name": "stdout",
     "output_type": "stream",
     "text": [
      "LHC.U 404 Client Error: Not Found for url: https://query2.finance.yahoo.com/v10/finance/quoteSummary/LHC.U?modules=summaryProfile%2CfinancialData%2CquoteType%2CdefaultKeyStatistics%2CassetProfile%2CsummaryDetail&ssl=true\n"
     ]
    },
    {
     "name": "stderr",
     "output_type": "stream",
     "text": [
      " 54%|█████▍    | 4592/8460 [47:57<34:42,  1.86it/s]"
     ]
    },
    {
     "name": "stdout",
     "output_type": "stream",
     "text": [
      "LLAP.W 404 Client Error: Not Found for url: https://query2.finance.yahoo.com/v10/finance/quoteSummary/LLAP.W?modules=summaryProfile%2CfinancialData%2CquoteType%2CdefaultKeyStatistics%2CassetProfile%2CsummaryDetail&ssl=true\n"
     ]
    },
    {
     "name": "stderr",
     "output_type": "stream",
     "text": [
      " 54%|█████▍    | 4600/8460 [48:03<54:36,  1.18it/s]"
     ]
    },
    {
     "name": "stdout",
     "output_type": "stream",
     "text": [
      "LMND.W 404 Client Error: Not Found for url: https://query2.finance.yahoo.com/v10/finance/quoteSummary/LMND.W?modules=summaryProfile%2CfinancialData%2CquoteType%2CdefaultKeyStatistics%2CassetProfile%2CsummaryDetail&ssl=true\n"
     ]
    },
    {
     "name": "stderr",
     "output_type": "stream",
     "text": [
      " 54%|█████▍    | 4606/8460 [48:09<46:34,  1.38it/s]  "
     ]
    },
    {
     "name": "stdout",
     "output_type": "stream",
     "text": [
      "LNC$D 404 Client Error: Not Found for url: https://query2.finance.yahoo.com/v10/finance/quoteSummary/LNC$D?modules=summaryProfile%2CfinancialData%2CquoteType%2CdefaultKeyStatistics%2CassetProfile%2CsummaryDetail&ssl=true\n"
     ]
    },
    {
     "name": "stderr",
     "output_type": "stream",
     "text": [
      " 55%|█████▍    | 4620/8460 [48:19<37:34,  1.70it/s]"
     ]
    },
    {
     "name": "stdout",
     "output_type": "stream",
     "text": [
      "LOCC.U 404 Client Error: Not Found for url: https://query2.finance.yahoo.com/v10/finance/quoteSummary/LOCC.U?modules=summaryProfile%2CfinancialData%2CquoteType%2CdefaultKeyStatistics%2CassetProfile%2CsummaryDetail&ssl=true\n"
     ]
    },
    {
     "name": "stderr",
     "output_type": "stream",
     "text": [
      " 55%|█████▍    | 4621/8460 [48:19<31:59,  2.00it/s]"
     ]
    },
    {
     "name": "stdout",
     "output_type": "stream",
     "text": [
      "LOCC.W 404 Client Error: Not Found for url: https://query2.finance.yahoo.com/v10/finance/quoteSummary/LOCC.W?modules=summaryProfile%2CfinancialData%2CquoteType%2CdefaultKeyStatistics%2CassetProfile%2CsummaryDetail&ssl=true\n"
     ]
    },
    {
     "name": "stderr",
     "output_type": "stream",
     "text": [
      " 55%|█████▍    | 4623/8460 [48:20<28:16,  2.26it/s]"
     ]
    },
    {
     "name": "stdout",
     "output_type": "stream",
     "text": [
      "LOCL.W 404 Client Error: Not Found for url: https://query2.finance.yahoo.com/v10/finance/quoteSummary/LOCL.W?modules=summaryProfile%2CfinancialData%2CquoteType%2CdefaultKeyStatistics%2CassetProfile%2CsummaryDetail&ssl=true\n"
     ]
    },
    {
     "name": "stderr",
     "output_type": "stream",
     "text": [
      " 56%|█████▌    | 4701/8460 [49:31<1:42:00,  1.63s/it]"
     ]
    },
    {
     "name": "stdout",
     "output_type": "stream",
     "text": [
      "LVWR.W 404 Client Error: Not Found for url: https://query2.finance.yahoo.com/v10/finance/quoteSummary/LVWR.W?modules=summaryProfile%2CfinancialData%2CquoteType%2CdefaultKeyStatistics%2CassetProfile%2CsummaryDetail&ssl=true\n"
     ]
    },
    {
     "name": "stderr",
     "output_type": "stream",
     "text": [
      " 56%|█████▌    | 4709/8460 [49:38<44:51,  1.39it/s]  "
     ]
    },
    {
     "name": "stdout",
     "output_type": "stream",
     "text": [
      "LXP$C 404 Client Error: Not Found for url: https://query2.finance.yahoo.com/v10/finance/quoteSummary/LXP$C?modules=summaryProfile%2CfinancialData%2CquoteType%2CdefaultKeyStatistics%2CassetProfile%2CsummaryDetail&ssl=true\n"
     ]
    },
    {
     "name": "stderr",
     "output_type": "stream",
     "text": [
      " 56%|█████▌    | 4725/8460 [49:48<34:47,  1.79it/s]"
     ]
    },
    {
     "name": "stdout",
     "output_type": "stream",
     "text": [
      "MAA$I 404 Client Error: Not Found for url: https://query2.finance.yahoo.com/v10/finance/quoteSummary/MAA$I?modules=summaryProfile%2CfinancialData%2CquoteType%2CdefaultKeyStatistics%2CassetProfile%2CsummaryDetail&ssl=true\n"
     ]
    },
    {
     "name": "stderr",
     "output_type": "stream",
     "text": [
      " 56%|█████▋    | 4763/8460 [50:13<41:07,  1.50it/s]"
     ]
    },
    {
     "name": "stdout",
     "output_type": "stream",
     "text": [
      "MBAC.U 404 Client Error: Not Found for url: https://query2.finance.yahoo.com/v10/finance/quoteSummary/MBAC.U?modules=summaryProfile%2CfinancialData%2CquoteType%2CdefaultKeyStatistics%2CassetProfile%2CsummaryDetail&ssl=true\n"
     ]
    },
    {
     "name": "stderr",
     "output_type": "stream",
     "text": [
      " 56%|█████▋    | 4764/8460 [50:13<34:15,  1.80it/s]"
     ]
    },
    {
     "name": "stdout",
     "output_type": "stream",
     "text": [
      "MBAC.W 404 Client Error: Not Found for url: https://query2.finance.yahoo.com/v10/finance/quoteSummary/MBAC.W?modules=summaryProfile%2CfinancialData%2CquoteType%2CdefaultKeyStatistics%2CassetProfile%2CsummaryDetail&ssl=true\n"
     ]
    },
    {
     "name": "stderr",
     "output_type": "stream",
     "text": [
      " 56%|█████▋    | 4779/8460 [50:27<40:54,  1.50it/s]  "
     ]
    },
    {
     "name": "stdout",
     "output_type": "stream",
     "text": [
      "MBSC.U 404 Client Error: Not Found for url: https://query2.finance.yahoo.com/v10/finance/quoteSummary/MBSC.U?modules=summaryProfile%2CfinancialData%2CquoteType%2CdefaultKeyStatistics%2CassetProfile%2CsummaryDetail&ssl=true\n"
     ]
    },
    {
     "name": "stderr",
     "output_type": "stream",
     "text": [
      " 57%|█████▋    | 4780/8460 [50:27<33:32,  1.83it/s]"
     ]
    },
    {
     "name": "stdout",
     "output_type": "stream",
     "text": [
      "MBSC.W 404 Client Error: Not Found for url: https://query2.finance.yahoo.com/v10/finance/quoteSummary/MBSC.W?modules=summaryProfile%2CfinancialData%2CquoteType%2CdefaultKeyStatistics%2CassetProfile%2CsummaryDetail&ssl=true\n"
     ]
    },
    {
     "name": "stderr",
     "output_type": "stream",
     "text": [
      " 57%|█████▋    | 4839/8460 [51:03<30:30,  1.98it/s]"
     ]
    },
    {
     "name": "stdout",
     "output_type": "stream",
     "text": [
      "MDV$A 404 Client Error: Not Found for url: https://query2.finance.yahoo.com/v10/finance/quoteSummary/MDV$A?modules=summaryProfile%2CfinancialData%2CquoteType%2CdefaultKeyStatistics%2CassetProfile%2CsummaryDetail&ssl=true\n"
     ]
    },
    {
     "name": "stderr",
     "output_type": "stream",
     "text": [
      " 57%|█████▋    | 4861/8460 [51:17<32:21,  1.85it/s]"
     ]
    },
    {
     "name": "stdout",
     "output_type": "stream",
     "text": [
      "MER$K 404 Client Error: Not Found for url: https://query2.finance.yahoo.com/v10/finance/quoteSummary/MER$K?modules=summaryProfile%2CfinancialData%2CquoteType%2CdefaultKeyStatistics%2CassetProfile%2CsummaryDetail&ssl=true\n"
     ]
    },
    {
     "name": "stderr",
     "output_type": "stream",
     "text": [
      " 58%|█████▊    | 4866/8460 [51:20<31:16,  1.92it/s]"
     ]
    },
    {
     "name": "stdout",
     "output_type": "stream",
     "text": [
      "MET$A 404 Client Error: Not Found for url: https://query2.finance.yahoo.com/v10/finance/quoteSummary/MET$A?modules=summaryProfile%2CfinancialData%2CquoteType%2CdefaultKeyStatistics%2CassetProfile%2CsummaryDetail&ssl=true\n"
     ]
    },
    {
     "name": "stderr",
     "output_type": "stream",
     "text": [
      " 58%|█████▊    | 4867/8460 [51:20<27:23,  2.19it/s]"
     ]
    },
    {
     "name": "stdout",
     "output_type": "stream",
     "text": [
      "MET$E 404 Client Error: Not Found for url: https://query2.finance.yahoo.com/v10/finance/quoteSummary/MET$E?modules=summaryProfile%2CfinancialData%2CquoteType%2CdefaultKeyStatistics%2CassetProfile%2CsummaryDetail&ssl=true\n"
     ]
    },
    {
     "name": "stderr",
     "output_type": "stream",
     "text": [
      " 58%|█████▊    | 4868/8460 [51:20<24:35,  2.43it/s]"
     ]
    },
    {
     "name": "stdout",
     "output_type": "stream",
     "text": [
      "MET$F 404 Client Error: Not Found for url: https://query2.finance.yahoo.com/v10/finance/quoteSummary/MET$F?modules=summaryProfile%2CfinancialData%2CquoteType%2CdefaultKeyStatistics%2CassetProfile%2CsummaryDetail&ssl=true\n"
     ]
    },
    {
     "name": "stderr",
     "output_type": "stream",
     "text": [
      " 58%|█████▊    | 4876/8460 [51:25<29:14,  2.04it/s]"
     ]
    },
    {
     "name": "stdout",
     "output_type": "stream",
     "text": [
      "MFA$B 404 Client Error: Not Found for url: https://query2.finance.yahoo.com/v10/finance/quoteSummary/MFA$B?modules=summaryProfile%2CfinancialData%2CquoteType%2CdefaultKeyStatistics%2CassetProfile%2CsummaryDetail&ssl=true\n"
     ]
    },
    {
     "name": "stderr",
     "output_type": "stream",
     "text": [
      " 58%|█████▊    | 4877/8460 [51:25<26:09,  2.28it/s]"
     ]
    },
    {
     "name": "stdout",
     "output_type": "stream",
     "text": [
      "MFA$C 404 Client Error: Not Found for url: https://query2.finance.yahoo.com/v10/finance/quoteSummary/MFA$C?modules=summaryProfile%2CfinancialData%2CquoteType%2CdefaultKeyStatistics%2CassetProfile%2CsummaryDetail&ssl=true\n"
     ]
    },
    {
     "name": "stderr",
     "output_type": "stream",
     "text": [
      " 58%|█████▊    | 4924/8460 [51:55<30:04,  1.96it/s]"
     ]
    },
    {
     "name": "stdout",
     "output_type": "stream",
     "text": [
      "MIMO.A 404 Client Error: Not Found for url: https://query2.finance.yahoo.com/v10/finance/quoteSummary/MIMO.A?modules=summaryProfile%2CfinancialData%2CquoteType%2CdefaultKeyStatistics%2CassetProfile%2CsummaryDetail&ssl=true\n"
     ]
    },
    {
     "name": "stderr",
     "output_type": "stream",
     "text": [
      " 58%|█████▊    | 4925/8460 [51:55<25:46,  2.29it/s]"
     ]
    },
    {
     "name": "stdout",
     "output_type": "stream",
     "text": [
      "MIMO.B 404 Client Error: Not Found for url: https://query2.finance.yahoo.com/v10/finance/quoteSummary/MIMO.B?modules=summaryProfile%2CfinancialData%2CquoteType%2CdefaultKeyStatistics%2CassetProfile%2CsummaryDetail&ssl=true\n"
     ]
    },
    {
     "name": "stderr",
     "output_type": "stream",
     "text": [
      " 58%|█████▊    | 4926/8460 [51:55<24:04,  2.45it/s]"
     ]
    },
    {
     "name": "stdout",
     "output_type": "stream",
     "text": [
      "MIMO.W 404 Client Error: Not Found for url: https://query2.finance.yahoo.com/v10/finance/quoteSummary/MIMO.W?modules=summaryProfile%2CfinancialData%2CquoteType%2CdefaultKeyStatistics%2CassetProfile%2CsummaryDetail&ssl=true\n"
     ]
    },
    {
     "name": "stderr",
     "output_type": "stream",
     "text": [
      " 58%|█████▊    | 4933/8460 [51:59<30:01,  1.96it/s]"
     ]
    },
    {
     "name": "stdout",
     "output_type": "stream",
     "text": [
      "MIR.W 404 Client Error: Not Found for url: https://query2.finance.yahoo.com/v10/finance/quoteSummary/MIR.W?modules=summaryProfile%2CfinancialData%2CquoteType%2CdefaultKeyStatistics%2CassetProfile%2CsummaryDetail&ssl=true\n"
     ]
    },
    {
     "name": "stderr",
     "output_type": "stream",
     "text": [
      " 58%|█████▊    | 4943/8460 [52:05<28:38,  2.05it/s]"
     ]
    },
    {
     "name": "stdout",
     "output_type": "stream",
     "text": [
      "MITT$A 404 Client Error: Not Found for url: https://query2.finance.yahoo.com/v10/finance/quoteSummary/MITT$A?modules=summaryProfile%2CfinancialData%2CquoteType%2CdefaultKeyStatistics%2CassetProfile%2CsummaryDetail&ssl=true\n"
     ]
    },
    {
     "name": "stderr",
     "output_type": "stream",
     "text": [
      " 58%|█████▊    | 4944/8460 [52:05<25:49,  2.27it/s]"
     ]
    },
    {
     "name": "stdout",
     "output_type": "stream",
     "text": [
      "MITT$B 404 Client Error: Not Found for url: https://query2.finance.yahoo.com/v10/finance/quoteSummary/MITT$B?modules=summaryProfile%2CfinancialData%2CquoteType%2CdefaultKeyStatistics%2CassetProfile%2CsummaryDetail&ssl=true\n"
     ]
    },
    {
     "name": "stderr",
     "output_type": "stream",
     "text": [
      " 58%|█████▊    | 4945/8460 [52:06<23:24,  2.50it/s]"
     ]
    },
    {
     "name": "stdout",
     "output_type": "stream",
     "text": [
      "MITT$C 404 Client Error: Not Found for url: https://query2.finance.yahoo.com/v10/finance/quoteSummary/MITT$C?modules=summaryProfile%2CfinancialData%2CquoteType%2CdefaultKeyStatistics%2CassetProfile%2CsummaryDetail&ssl=true\n"
     ]
    },
    {
     "name": "stderr",
     "output_type": "stream",
     "text": [
      " 58%|█████▊    | 4949/8460 [52:09<38:22,  1.52it/s]"
     ]
    },
    {
     "name": "stdout",
     "output_type": "stream",
     "text": [
      "MKC.V 404 Client Error: Not Found for url: https://query2.finance.yahoo.com/v10/finance/quoteSummary/MKC.V?modules=summaryProfile%2CfinancialData%2CquoteType%2CdefaultKeyStatistics%2CassetProfile%2CsummaryDetail&ssl=true\n"
     ]
    },
    {
     "name": "stderr",
     "output_type": "stream",
     "text": [
      " 59%|█████▊    | 4951/8460 [52:10<32:02,  1.82it/s]"
     ]
    },
    {
     "name": "stdout",
     "output_type": "stream",
     "text": [
      "MKFG.W 404 Client Error: Not Found for url: https://query2.finance.yahoo.com/v10/finance/quoteSummary/MKFG.W?modules=summaryProfile%2CfinancialData%2CquoteType%2CdefaultKeyStatistics%2CassetProfile%2CsummaryDetail&ssl=true\n"
     ]
    },
    {
     "name": "stderr",
     "output_type": "stream",
     "text": [
      " 59%|█████▊    | 4958/8460 [52:14<31:20,  1.86it/s]"
     ]
    },
    {
     "name": "stdout",
     "output_type": "stream",
     "text": [
      "ML.W 404 Client Error: Not Found for url: https://query2.finance.yahoo.com/v10/finance/quoteSummary/ML.W?modules=summaryProfile%2CfinancialData%2CquoteType%2CdefaultKeyStatistics%2CassetProfile%2CsummaryDetail&ssl=true\n"
     ]
    },
    {
     "name": "stderr",
     "output_type": "stream",
     "text": [
      " 59%|█████▉    | 5009/8460 [52:45<28:04,  2.05it/s]"
     ]
    },
    {
     "name": "stdout",
     "output_type": "stream",
     "text": [
      "MNTN.U 404 Client Error: Not Found for url: https://query2.finance.yahoo.com/v10/finance/quoteSummary/MNTN.U?modules=summaryProfile%2CfinancialData%2CquoteType%2CdefaultKeyStatistics%2CassetProfile%2CsummaryDetail&ssl=true\n"
     ]
    },
    {
     "name": "stderr",
     "output_type": "stream",
     "text": [
      " 59%|█████▉    | 5010/8460 [52:45<24:17,  2.37it/s]"
     ]
    },
    {
     "name": "stdout",
     "output_type": "stream",
     "text": [
      "MNTN.W 404 Client Error: Not Found for url: https://query2.finance.yahoo.com/v10/finance/quoteSummary/MNTN.W?modules=summaryProfile%2CfinancialData%2CquoteType%2CdefaultKeyStatistics%2CassetProfile%2CsummaryDetail&ssl=true\n"
     ]
    },
    {
     "name": "stderr",
     "output_type": "stream",
     "text": [
      " 59%|█████▉    | 5030/8460 [52:58<29:44,  1.92it/s]"
     ]
    },
    {
     "name": "stdout",
     "output_type": "stream",
     "text": [
      "MOG.B 404 Client Error: Not Found for url: https://query2.finance.yahoo.com/v10/finance/quoteSummary/MOG.B?modules=summaryProfile%2CfinancialData%2CquoteType%2CdefaultKeyStatistics%2CassetProfile%2CsummaryDetail&ssl=true\n"
     ]
    },
    {
     "name": "stderr",
     "output_type": "stream",
     "text": [
      " 60%|█████▉    | 5051/8460 [53:10<27:03,  2.10it/s]"
     ]
    },
    {
     "name": "stdout",
     "output_type": "stream",
     "text": [
      "MPLN.W 404 Client Error: Not Found for url: https://query2.finance.yahoo.com/v10/finance/quoteSummary/MPLN.W?modules=summaryProfile%2CfinancialData%2CquoteType%2CdefaultKeyStatistics%2CassetProfile%2CsummaryDetail&ssl=true\n"
     ]
    },
    {
     "name": "stderr",
     "output_type": "stream",
     "text": [
      " 60%|█████▉    | 5072/8460 [53:22<28:47,  1.96it/s]"
     ]
    },
    {
     "name": "stdout",
     "output_type": "stream",
     "text": [
      "MRDB.W 404 Client Error: Not Found for url: https://query2.finance.yahoo.com/v10/finance/quoteSummary/MRDB.W?modules=summaryProfile%2CfinancialData%2CquoteType%2CdefaultKeyStatistics%2CassetProfile%2CsummaryDetail&ssl=true\n"
     ]
    },
    {
     "name": "stderr",
     "output_type": "stream",
     "text": [
      " 60%|██████    | 5088/8460 [53:32<29:17,  1.92it/s]"
     ]
    },
    {
     "name": "stdout",
     "output_type": "stream",
     "text": [
      "MS$A 404 Client Error: Not Found for url: https://query2.finance.yahoo.com/v10/finance/quoteSummary/MS$A?modules=summaryProfile%2CfinancialData%2CquoteType%2CdefaultKeyStatistics%2CassetProfile%2CsummaryDetail&ssl=true\n"
     ]
    },
    {
     "name": "stderr",
     "output_type": "stream",
     "text": [
      " 60%|██████    | 5089/8460 [53:32<25:14,  2.23it/s]"
     ]
    },
    {
     "name": "stdout",
     "output_type": "stream",
     "text": [
      "MS$E 404 Client Error: Not Found for url: https://query2.finance.yahoo.com/v10/finance/quoteSummary/MS$E?modules=summaryProfile%2CfinancialData%2CquoteType%2CdefaultKeyStatistics%2CassetProfile%2CsummaryDetail&ssl=true\n"
     ]
    },
    {
     "name": "stderr",
     "output_type": "stream",
     "text": [
      " 60%|██████    | 5090/8460 [53:33<22:24,  2.51it/s]"
     ]
    },
    {
     "name": "stdout",
     "output_type": "stream",
     "text": [
      "MS$F 404 Client Error: Not Found for url: https://query2.finance.yahoo.com/v10/finance/quoteSummary/MS$F?modules=summaryProfile%2CfinancialData%2CquoteType%2CdefaultKeyStatistics%2CassetProfile%2CsummaryDetail&ssl=true\n"
     ]
    },
    {
     "name": "stderr",
     "output_type": "stream",
     "text": [
      " 60%|██████    | 5091/8460 [53:33<20:11,  2.78it/s]"
     ]
    },
    {
     "name": "stdout",
     "output_type": "stream",
     "text": [
      "MS$I 404 Client Error: Not Found for url: https://query2.finance.yahoo.com/v10/finance/quoteSummary/MS$I?modules=summaryProfile%2CfinancialData%2CquoteType%2CdefaultKeyStatistics%2CassetProfile%2CsummaryDetail&ssl=true\n"
     ]
    },
    {
     "name": "stderr",
     "output_type": "stream",
     "text": [
      " 60%|██████    | 5092/8460 [53:33<19:05,  2.94it/s]"
     ]
    },
    {
     "name": "stdout",
     "output_type": "stream",
     "text": [
      "MS$K 404 Client Error: Not Found for url: https://query2.finance.yahoo.com/v10/finance/quoteSummary/MS$K?modules=summaryProfile%2CfinancialData%2CquoteType%2CdefaultKeyStatistics%2CassetProfile%2CsummaryDetail&ssl=true\n"
     ]
    },
    {
     "name": "stderr",
     "output_type": "stream",
     "text": [
      " 60%|██████    | 5093/8460 [53:33<17:47,  3.15it/s]"
     ]
    },
    {
     "name": "stdout",
     "output_type": "stream",
     "text": [
      "MS$L 404 Client Error: Not Found for url: https://query2.finance.yahoo.com/v10/finance/quoteSummary/MS$L?modules=summaryProfile%2CfinancialData%2CquoteType%2CdefaultKeyStatistics%2CassetProfile%2CsummaryDetail&ssl=true\n"
     ]
    },
    {
     "name": "stderr",
     "output_type": "stream",
     "text": [
      " 60%|██████    | 5094/8460 [53:34<17:31,  3.20it/s]"
     ]
    },
    {
     "name": "stdout",
     "output_type": "stream",
     "text": [
      "MS$O 404 Client Error: Not Found for url: https://query2.finance.yahoo.com/v10/finance/quoteSummary/MS$O?modules=summaryProfile%2CfinancialData%2CquoteType%2CdefaultKeyStatistics%2CassetProfile%2CsummaryDetail&ssl=true\n"
     ]
    },
    {
     "name": "stderr",
     "output_type": "stream",
     "text": [
      " 60%|██████    | 5095/8460 [53:34<17:20,  3.23it/s]"
     ]
    },
    {
     "name": "stdout",
     "output_type": "stream",
     "text": [
      "MS$P 404 Client Error: Not Found for url: https://query2.finance.yahoo.com/v10/finance/quoteSummary/MS$P?modules=summaryProfile%2CfinancialData%2CquoteType%2CdefaultKeyStatistics%2CassetProfile%2CsummaryDetail&ssl=true\n"
     ]
    },
    {
     "name": "stderr",
     "output_type": "stream",
     "text": [
      " 61%|██████    | 5123/8460 [53:51<28:53,  1.93it/s]"
     ]
    },
    {
     "name": "stdout",
     "output_type": "stream",
     "text": [
      "MTAL.U 404 Client Error: Not Found for url: https://query2.finance.yahoo.com/v10/finance/quoteSummary/MTAL.U?modules=summaryProfile%2CfinancialData%2CquoteType%2CdefaultKeyStatistics%2CassetProfile%2CsummaryDetail&ssl=true\n"
     ]
    },
    {
     "name": "stderr",
     "output_type": "stream",
     "text": [
      " 61%|██████    | 5124/8460 [53:51<25:01,  2.22it/s]"
     ]
    },
    {
     "name": "stdout",
     "output_type": "stream",
     "text": [
      "MTAL.W 404 Client Error: Not Found for url: https://query2.finance.yahoo.com/v10/finance/quoteSummary/MTAL.W?modules=summaryProfile%2CfinancialData%2CquoteType%2CdefaultKeyStatistics%2CassetProfile%2CsummaryDetail&ssl=true\n"
     ]
    },
    {
     "name": "stderr",
     "output_type": "stream",
     "text": [
      " 61%|██████    | 5126/8460 [53:52<24:15,  2.29it/s]"
     ]
    },
    {
     "name": "stdout",
     "output_type": "stream",
     "text": [
      "MTB$H 404 Client Error: Not Found for url: https://query2.finance.yahoo.com/v10/finance/quoteSummary/MTB$H?modules=summaryProfile%2CfinancialData%2CquoteType%2CdefaultKeyStatistics%2CassetProfile%2CsummaryDetail&ssl=true\n"
     ]
    },
    {
     "name": "stderr",
     "output_type": "stream",
     "text": [
      " 61%|██████    | 5150/8460 [54:09<27:50,  1.98it/s]"
     ]
    },
    {
     "name": "stdout",
     "output_type": "stream",
     "text": [
      "MTVC.U 404 Client Error: Not Found for url: https://query2.finance.yahoo.com/v10/finance/quoteSummary/MTVC.U?modules=summaryProfile%2CfinancialData%2CquoteType%2CdefaultKeyStatistics%2CassetProfile%2CsummaryDetail&ssl=true\n"
     ]
    },
    {
     "name": "stderr",
     "output_type": "stream",
     "text": [
      " 61%|██████    | 5151/8460 [54:09<24:18,  2.27it/s]"
     ]
    },
    {
     "name": "stdout",
     "output_type": "stream",
     "text": [
      "MTVC.W 404 Client Error: Not Found for url: https://query2.finance.yahoo.com/v10/finance/quoteSummary/MTVC.W?modules=summaryProfile%2CfinancialData%2CquoteType%2CdefaultKeyStatistics%2CassetProfile%2CsummaryDetail&ssl=true\n"
     ]
    },
    {
     "name": "stderr",
     "output_type": "stream",
     "text": [
      " 62%|██████▏   | 5255/8460 [55:14<32:36,  1.64it/s]"
     ]
    },
    {
     "name": "stdout",
     "output_type": "stream",
     "text": [
      "NCV$A 404 Client Error: Not Found for url: https://query2.finance.yahoo.com/v10/finance/quoteSummary/NCV$A?modules=summaryProfile%2CfinancialData%2CquoteType%2CdefaultKeyStatistics%2CassetProfile%2CsummaryDetail&ssl=true\n"
     ]
    },
    {
     "name": "stderr",
     "output_type": "stream",
     "text": [
      " 62%|██████▏   | 5257/8460 [55:15<27:33,  1.94it/s]"
     ]
    },
    {
     "name": "stdout",
     "output_type": "stream",
     "text": [
      "NCZ$A 404 Client Error: Not Found for url: https://query2.finance.yahoo.com/v10/finance/quoteSummary/NCZ$A?modules=summaryProfile%2CfinancialData%2CquoteType%2CdefaultKeyStatistics%2CassetProfile%2CsummaryDetail&ssl=true\n"
     ]
    },
    {
     "name": "stderr",
     "output_type": "stream",
     "text": [
      " 62%|██████▏   | 5268/8460 [55:22<26:28,  2.01it/s]"
     ]
    },
    {
     "name": "stdout",
     "output_type": "stream",
     "text": [
      "NEE$N 404 Client Error: Not Found for url: https://query2.finance.yahoo.com/v10/finance/quoteSummary/NEE$N?modules=summaryProfile%2CfinancialData%2CquoteType%2CdefaultKeyStatistics%2CassetProfile%2CsummaryDetail&ssl=true\n"
     ]
    },
    {
     "name": "stderr",
     "output_type": "stream",
     "text": [
      " 62%|██████▏   | 5269/8460 [55:22<22:46,  2.34it/s]"
     ]
    },
    {
     "name": "stdout",
     "output_type": "stream",
     "text": [
      "NEE$Q 404 Client Error: Not Found for url: https://query2.finance.yahoo.com/v10/finance/quoteSummary/NEE$Q?modules=summaryProfile%2CfinancialData%2CquoteType%2CdefaultKeyStatistics%2CassetProfile%2CsummaryDetail&ssl=true\n"
     ]
    },
    {
     "name": "stderr",
     "output_type": "stream",
     "text": [
      " 62%|██████▏   | 5270/8460 [55:22<20:39,  2.57it/s]"
     ]
    },
    {
     "name": "stdout",
     "output_type": "stream",
     "text": [
      "NEE$R 404 Client Error: Not Found for url: https://query2.finance.yahoo.com/v10/finance/quoteSummary/NEE$R?modules=summaryProfile%2CfinancialData%2CquoteType%2CdefaultKeyStatistics%2CassetProfile%2CsummaryDetail&ssl=true\n"
     ]
    },
    {
     "name": "stderr",
     "output_type": "stream",
     "text": [
      " 62%|██████▏   | 5287/8460 [55:34<26:01,  2.03it/s]"
     ]
    },
    {
     "name": "stdout",
     "output_type": "stream",
     "text": [
      "NETC.U 404 Client Error: Not Found for url: https://query2.finance.yahoo.com/v10/finance/quoteSummary/NETC.U?modules=summaryProfile%2CfinancialData%2CquoteType%2CdefaultKeyStatistics%2CassetProfile%2CsummaryDetail&ssl=true\n"
     ]
    },
    {
     "name": "stderr",
     "output_type": "stream",
     "text": [
      " 63%|██████▎   | 5288/8460 [55:35<22:24,  2.36it/s]"
     ]
    },
    {
     "name": "stdout",
     "output_type": "stream",
     "text": [
      "NETC.W 404 Client Error: Not Found for url: https://query2.finance.yahoo.com/v10/finance/quoteSummary/NETC.W?modules=summaryProfile%2CfinancialData%2CquoteType%2CdefaultKeyStatistics%2CassetProfile%2CsummaryDetail&ssl=true\n"
     ]
    },
    {
     "name": "stderr",
     "output_type": "stream",
     "text": [
      " 63%|██████▎   | 5307/8460 [55:45<25:40,  2.05it/s]"
     ]
    },
    {
     "name": "stdout",
     "output_type": "stream",
     "text": [
      "NFNT.U 404 Client Error: Not Found for url: https://query2.finance.yahoo.com/v10/finance/quoteSummary/NFNT.U?modules=summaryProfile%2CfinancialData%2CquoteType%2CdefaultKeyStatistics%2CassetProfile%2CsummaryDetail&ssl=true\n"
     ]
    },
    {
     "name": "stderr",
     "output_type": "stream",
     "text": [
      " 63%|██████▎   | 5308/8460 [55:46<22:14,  2.36it/s]"
     ]
    },
    {
     "name": "stdout",
     "output_type": "stream",
     "text": [
      "NFNT.W 404 Client Error: Not Found for url: https://query2.finance.yahoo.com/v10/finance/quoteSummary/NFNT.W?modules=summaryProfile%2CfinancialData%2CquoteType%2CdefaultKeyStatistics%2CassetProfile%2CsummaryDetail&ssl=true\n"
     ]
    },
    {
     "name": "stderr",
     "output_type": "stream",
     "text": [
      " 63%|██████▎   | 5311/8460 [55:47<23:00,  2.28it/s]"
     ]
    },
    {
     "name": "stdout",
     "output_type": "stream",
     "text": [
      "NFYS.U 404 Client Error: Not Found for url: https://query2.finance.yahoo.com/v10/finance/quoteSummary/NFYS.U?modules=summaryProfile%2CfinancialData%2CquoteType%2CdefaultKeyStatistics%2CassetProfile%2CsummaryDetail&ssl=true\n"
     ]
    },
    {
     "name": "stderr",
     "output_type": "stream",
     "text": [
      " 63%|██████▎   | 5312/8460 [55:47<20:03,  2.62it/s]"
     ]
    },
    {
     "name": "stdout",
     "output_type": "stream",
     "text": [
      "NFYS.W 404 Client Error: Not Found for url: https://query2.finance.yahoo.com/v10/finance/quoteSummary/NFYS.W?modules=summaryProfile%2CfinancialData%2CquoteType%2CdefaultKeyStatistics%2CassetProfile%2CsummaryDetail&ssl=true\n"
     ]
    },
    {
     "name": "stderr",
     "output_type": "stream",
     "text": [
      " 63%|██████▎   | 5317/8460 [55:50<23:41,  2.21it/s]"
     ]
    },
    {
     "name": "stdout",
     "output_type": "stream",
     "text": [
      "NGL$B 404 Client Error: Not Found for url: https://query2.finance.yahoo.com/v10/finance/quoteSummary/NGL$B?modules=summaryProfile%2CfinancialData%2CquoteType%2CdefaultKeyStatistics%2CassetProfile%2CsummaryDetail&ssl=true\n"
     ]
    },
    {
     "name": "stderr",
     "output_type": "stream",
     "text": [
      " 63%|██████▎   | 5318/8460 [55:50<20:42,  2.53it/s]"
     ]
    },
    {
     "name": "stdout",
     "output_type": "stream",
     "text": [
      "NGL$C 404 Client Error: Not Found for url: https://query2.finance.yahoo.com/v10/finance/quoteSummary/NGL$C?modules=summaryProfile%2CfinancialData%2CquoteType%2CdefaultKeyStatistics%2CassetProfile%2CsummaryDetail&ssl=true\n"
     ]
    },
    {
     "name": "stderr",
     "output_type": "stream",
     "text": [
      " 63%|██████▎   | 5331/8460 [55:58<25:56,  2.01it/s]"
     ]
    },
    {
     "name": "stdout",
     "output_type": "stream",
     "text": [
      "NI$B 404 Client Error: Not Found for url: https://query2.finance.yahoo.com/v10/finance/quoteSummary/NI$B?modules=summaryProfile%2CfinancialData%2CquoteType%2CdefaultKeyStatistics%2CassetProfile%2CsummaryDetail&ssl=true\n"
     ]
    },
    {
     "name": "stderr",
     "output_type": "stream",
     "text": [
      " 63%|██████▎   | 5360/8460 [56:15<27:09,  1.90it/s]"
     ]
    },
    {
     "name": "stdout",
     "output_type": "stream",
     "text": [
      "NLY$F 404 Client Error: Not Found for url: https://query2.finance.yahoo.com/v10/finance/quoteSummary/NLY$F?modules=summaryProfile%2CfinancialData%2CquoteType%2CdefaultKeyStatistics%2CassetProfile%2CsummaryDetail&ssl=true\n"
     ]
    },
    {
     "name": "stderr",
     "output_type": "stream",
     "text": [
      " 63%|██████▎   | 5361/8460 [56:15<23:38,  2.19it/s]"
     ]
    },
    {
     "name": "stdout",
     "output_type": "stream",
     "text": [
      "NLY$G 404 Client Error: Not Found for url: https://query2.finance.yahoo.com/v10/finance/quoteSummary/NLY$G?modules=summaryProfile%2CfinancialData%2CquoteType%2CdefaultKeyStatistics%2CassetProfile%2CsummaryDetail&ssl=true\n"
     ]
    },
    {
     "name": "stderr",
     "output_type": "stream",
     "text": [
      " 63%|██████▎   | 5362/8460 [56:15<20:34,  2.51it/s]"
     ]
    },
    {
     "name": "stdout",
     "output_type": "stream",
     "text": [
      "NLY$I 404 Client Error: Not Found for url: https://query2.finance.yahoo.com/v10/finance/quoteSummary/NLY$I?modules=summaryProfile%2CfinancialData%2CquoteType%2CdefaultKeyStatistics%2CassetProfile%2CsummaryDetail&ssl=true\n"
     ]
    },
    {
     "name": "stderr",
     "output_type": "stream",
     "text": [
      " 63%|██████▎   | 5364/8460 [56:17<23:25,  2.20it/s]"
     ]
    },
    {
     "name": "stdout",
     "output_type": "stream",
     "text": [
      "NM$G 404 Client Error: Not Found for url: https://query2.finance.yahoo.com/v10/finance/quoteSummary/NM$G?modules=summaryProfile%2CfinancialData%2CquoteType%2CdefaultKeyStatistics%2CassetProfile%2CsummaryDetail&ssl=true\n"
     ]
    },
    {
     "name": "stderr",
     "output_type": "stream",
     "text": [
      " 63%|██████▎   | 5365/8460 [56:17<20:53,  2.47it/s]"
     ]
    },
    {
     "name": "stdout",
     "output_type": "stream",
     "text": [
      "NM$H 404 Client Error: Not Found for url: https://query2.finance.yahoo.com/v10/finance/quoteSummary/NM$H?modules=summaryProfile%2CfinancialData%2CquoteType%2CdefaultKeyStatistics%2CassetProfile%2CsummaryDetail&ssl=true\n"
     ]
    },
    {
     "name": "stderr",
     "output_type": "stream",
     "text": [
      " 63%|██████▎   | 5372/8460 [56:21<25:48,  1.99it/s]"
     ]
    },
    {
     "name": "stdout",
     "output_type": "stream",
     "text": [
      "NMK$B 404 Client Error: Not Found for url: https://query2.finance.yahoo.com/v10/finance/quoteSummary/NMK$B?modules=summaryProfile%2CfinancialData%2CquoteType%2CdefaultKeyStatistics%2CassetProfile%2CsummaryDetail&ssl=true\n"
     ]
    },
    {
     "name": "stderr",
     "output_type": "stream",
     "text": [
      " 64%|██████▎   | 5373/8460 [56:21<22:40,  2.27it/s]"
     ]
    },
    {
     "name": "stdout",
     "output_type": "stream",
     "text": [
      "NMK$C 404 Client Error: Not Found for url: https://query2.finance.yahoo.com/v10/finance/quoteSummary/NMK$C?modules=summaryProfile%2CfinancialData%2CquoteType%2CdefaultKeyStatistics%2CassetProfile%2CsummaryDetail&ssl=true\n"
     ]
    },
    {
     "name": "stderr",
     "output_type": "stream",
     "text": [
      " 64%|██████▍   | 5404/8460 [56:41<25:30,  2.00it/s]"
     ]
    },
    {
     "name": "stdout",
     "output_type": "stream",
     "text": [
      "NOTE.W 404 Client Error: Not Found for url: https://query2.finance.yahoo.com/v10/finance/quoteSummary/NOTE.W?modules=summaryProfile%2CfinancialData%2CquoteType%2CdefaultKeyStatistics%2CassetProfile%2CsummaryDetail&ssl=true\n"
     ]
    },
    {
     "name": "stderr",
     "output_type": "stream",
     "text": [
      " 64%|██████▍   | 5433/8460 [56:59<30:01,  1.68it/s]"
     ]
    },
    {
     "name": "stdout",
     "output_type": "stream",
     "text": [
      "NRDY.W 404 Client Error: Not Found for url: https://query2.finance.yahoo.com/v10/finance/quoteSummary/NRDY.W?modules=summaryProfile%2CfinancialData%2CquoteType%2CdefaultKeyStatistics%2CassetProfile%2CsummaryDetail&ssl=true\n"
     ]
    },
    {
     "name": "stderr",
     "output_type": "stream",
     "text": [
      " 64%|██████▍   | 5435/8460 [57:00<24:38,  2.05it/s]"
     ]
    },
    {
     "name": "stdout",
     "output_type": "stream",
     "text": [
      "NREF$A 404 Client Error: Not Found for url: https://query2.finance.yahoo.com/v10/finance/quoteSummary/NREF$A?modules=summaryProfile%2CfinancialData%2CquoteType%2CdefaultKeyStatistics%2CassetProfile%2CsummaryDetail&ssl=true\n"
     ]
    },
    {
     "name": "stderr",
     "output_type": "stream",
     "text": [
      " 64%|██████▍   | 5453/8460 [57:10<25:45,  1.95it/s]"
     ]
    },
    {
     "name": "stdout",
     "output_type": "stream",
     "text": [
      "NS$A 404 Client Error: Not Found for url: https://query2.finance.yahoo.com/v10/finance/quoteSummary/NS$A?modules=summaryProfile%2CfinancialData%2CquoteType%2CdefaultKeyStatistics%2CassetProfile%2CsummaryDetail&ssl=true\n"
     ]
    },
    {
     "name": "stderr",
     "output_type": "stream",
     "text": [
      " 64%|██████▍   | 5454/8460 [57:11<22:26,  2.23it/s]"
     ]
    },
    {
     "name": "stdout",
     "output_type": "stream",
     "text": [
      "NS$B 404 Client Error: Not Found for url: https://query2.finance.yahoo.com/v10/finance/quoteSummary/NS$B?modules=summaryProfile%2CfinancialData%2CquoteType%2CdefaultKeyStatistics%2CassetProfile%2CsummaryDetail&ssl=true\n"
     ]
    },
    {
     "name": "stderr",
     "output_type": "stream",
     "text": [
      " 64%|██████▍   | 5455/8460 [57:11<20:42,  2.42it/s]"
     ]
    },
    {
     "name": "stdout",
     "output_type": "stream",
     "text": [
      "NS$C 404 Client Error: Not Found for url: https://query2.finance.yahoo.com/v10/finance/quoteSummary/NS$C?modules=summaryProfile%2CfinancialData%2CquoteType%2CdefaultKeyStatistics%2CassetProfile%2CsummaryDetail&ssl=true\n"
     ]
    },
    {
     "name": "stderr",
     "output_type": "stream",
     "text": [
      " 65%|██████▍   | 5457/8460 [57:12<20:38,  2.42it/s]"
     ]
    },
    {
     "name": "stdout",
     "output_type": "stream",
     "text": [
      "NSA$A 404 Client Error: Not Found for url: https://query2.finance.yahoo.com/v10/finance/quoteSummary/NSA$A?modules=summaryProfile%2CfinancialData%2CquoteType%2CdefaultKeyStatistics%2CassetProfile%2CsummaryDetail&ssl=true\n"
     ]
    },
    {
     "name": "stderr",
     "output_type": "stream",
     "text": [
      " 65%|██████▍   | 5466/8460 [57:17<24:26,  2.04it/s]"
     ]
    },
    {
     "name": "stdout",
     "output_type": "stream",
     "text": [
      "NSTB.U 404 Client Error: Not Found for url: https://query2.finance.yahoo.com/v10/finance/quoteSummary/NSTB.U?modules=summaryProfile%2CfinancialData%2CquoteType%2CdefaultKeyStatistics%2CassetProfile%2CsummaryDetail&ssl=true\n"
     ]
    },
    {
     "name": "stderr",
     "output_type": "stream",
     "text": [
      " 65%|██████▍   | 5467/8460 [57:17<21:21,  2.34it/s]"
     ]
    },
    {
     "name": "stdout",
     "output_type": "stream",
     "text": [
      "NSTB.W 404 Client Error: Not Found for url: https://query2.finance.yahoo.com/v10/finance/quoteSummary/NSTB.W?modules=summaryProfile%2CfinancialData%2CquoteType%2CdefaultKeyStatistics%2CassetProfile%2CsummaryDetail&ssl=true\n"
     ]
    },
    {
     "name": "stderr",
     "output_type": "stream",
     "text": [
      " 65%|██████▍   | 5469/8460 [57:18<20:51,  2.39it/s]"
     ]
    },
    {
     "name": "stdout",
     "output_type": "stream",
     "text": [
      "NSTC.U 404 Client Error: Not Found for url: https://query2.finance.yahoo.com/v10/finance/quoteSummary/NSTC.U?modules=summaryProfile%2CfinancialData%2CquoteType%2CdefaultKeyStatistics%2CassetProfile%2CsummaryDetail&ssl=true\n"
     ]
    },
    {
     "name": "stderr",
     "output_type": "stream",
     "text": [
      " 65%|██████▍   | 5471/8460 [57:19<20:45,  2.40it/s]"
     ]
    },
    {
     "name": "stdout",
     "output_type": "stream",
     "text": [
      "NSTD.U 404 Client Error: Not Found for url: https://query2.finance.yahoo.com/v10/finance/quoteSummary/NSTD.U?modules=summaryProfile%2CfinancialData%2CquoteType%2CdefaultKeyStatistics%2CassetProfile%2CsummaryDetail&ssl=true\n"
     ]
    },
    {
     "name": "stderr",
     "output_type": "stream",
     "text": [
      " 65%|██████▍   | 5472/8460 [57:19<20:36,  2.42it/s]"
     ]
    },
    {
     "name": "stdout",
     "output_type": "stream",
     "text": [
      "NSTD.W 404 Client Error: Not Found for url: https://query2.finance.yahoo.com/v10/finance/quoteSummary/NSTD.W?modules=summaryProfile%2CfinancialData%2CquoteType%2CdefaultKeyStatistics%2CassetProfile%2CsummaryDetail&ssl=true\n"
     ]
    },
    {
     "name": "stderr",
     "output_type": "stream",
     "text": [
      " 65%|██████▍   | 5482/8460 [57:25<26:23,  1.88it/s]"
     ]
    },
    {
     "name": "stdout",
     "output_type": "stream",
     "text": [
      "NTEST.A 404 Client Error: Not Found for url: https://query2.finance.yahoo.com/v10/finance/quoteSummary/NTEST.A?modules=summaryProfile%2CfinancialData%2CquoteType%2CdefaultKeyStatistics%2CassetProfile%2CsummaryDetail&ssl=true\n"
     ]
    },
    {
     "name": "stderr",
     "output_type": "stream",
     "text": [
      " 65%|██████▍   | 5483/8460 [57:26<33:09,  1.50it/s]"
     ]
    },
    {
     "name": "stdout",
     "output_type": "stream",
     "text": [
      "NTEST.B 404 Client Error: Not Found for url: https://query2.finance.yahoo.com/v10/finance/quoteSummary/NTEST.B?modules=summaryProfile%2CfinancialData%2CquoteType%2CdefaultKeyStatistics%2CassetProfile%2CsummaryDetail&ssl=true\n"
     ]
    },
    {
     "name": "stderr",
     "output_type": "stream",
     "text": [
      " 65%|██████▍   | 5484/8460 [57:27<36:44,  1.35it/s]"
     ]
    },
    {
     "name": "stdout",
     "output_type": "stream",
     "text": [
      "NTEST.C 404 Client Error: Not Found for url: https://query2.finance.yahoo.com/v10/finance/quoteSummary/NTEST.C?modules=summaryProfile%2CfinancialData%2CquoteType%2CdefaultKeyStatistics%2CassetProfile%2CsummaryDetail&ssl=true\n"
     ]
    },
    {
     "name": "stderr",
     "output_type": "stream",
     "text": [
      " 65%|██████▌   | 5511/8460 [57:46<26:04,  1.89it/s]  "
     ]
    },
    {
     "name": "stdout",
     "output_type": "stream",
     "text": [
      "NUVB.W 404 Client Error: Not Found for url: https://query2.finance.yahoo.com/v10/finance/quoteSummary/NUVB.W?modules=summaryProfile%2CfinancialData%2CquoteType%2CdefaultKeyStatistics%2CassetProfile%2CsummaryDetail&ssl=true\n"
     ]
    },
    {
     "name": "stderr",
     "output_type": "stream",
     "text": [
      " 66%|██████▌   | 5560/8460 [58:38<1:15:53,  1.57s/it]"
     ]
    },
    {
     "name": "stdout",
     "output_type": "stream",
     "text": [
      "NXDT$A 404 Client Error: Not Found for url: https://query2.finance.yahoo.com/v10/finance/quoteSummary/NXDT$A?modules=summaryProfile%2CfinancialData%2CquoteType%2CdefaultKeyStatistics%2CassetProfile%2CsummaryDetail&ssl=true\n"
     ]
    },
    {
     "name": "stderr",
     "output_type": "stream",
     "text": [
      " 66%|██████▌   | 5582/8460 [58:57<25:42,  1.87it/s]  "
     ]
    },
    {
     "name": "stdout",
     "output_type": "stream",
     "text": [
      "NYCB$A 404 Client Error: Not Found for url: https://query2.finance.yahoo.com/v10/finance/quoteSummary/NYCB$A?modules=summaryProfile%2CfinancialData%2CquoteType%2CdefaultKeyStatistics%2CassetProfile%2CsummaryDetail&ssl=true\n"
     ]
    },
    {
     "name": "stderr",
     "output_type": "stream",
     "text": [
      " 66%|██████▌   | 5583/8460 [58:57<22:59,  2.09it/s]"
     ]
    },
    {
     "name": "stdout",
     "output_type": "stream",
     "text": [
      "NYCB$U 404 Client Error: Not Found for url: https://query2.finance.yahoo.com/v10/finance/quoteSummary/NYCB$U?modules=summaryProfile%2CfinancialData%2CquoteType%2CdefaultKeyStatistics%2CassetProfile%2CsummaryDetail&ssl=true\n"
     ]
    },
    {
     "name": "stderr",
     "output_type": "stream",
     "text": [
      " 66%|██████▌   | 5596/8460 [59:05<26:08,  1.83it/s]"
     ]
    },
    {
     "name": "stdout",
     "output_type": "stream",
     "text": [
      "OAK$A 404 Client Error: Not Found for url: https://query2.finance.yahoo.com/v10/finance/quoteSummary/OAK$A?modules=summaryProfile%2CfinancialData%2CquoteType%2CdefaultKeyStatistics%2CassetProfile%2CsummaryDetail&ssl=true\n"
     ]
    },
    {
     "name": "stderr",
     "output_type": "stream",
     "text": [
      " 66%|██████▌   | 5597/8460 [59:05<22:01,  2.17it/s]"
     ]
    },
    {
     "name": "stdout",
     "output_type": "stream",
     "text": [
      "OAK$B 404 Client Error: Not Found for url: https://query2.finance.yahoo.com/v10/finance/quoteSummary/OAK$B?modules=summaryProfile%2CfinancialData%2CquoteType%2CdefaultKeyStatistics%2CassetProfile%2CsummaryDetail&ssl=true\n"
     ]
    },
    {
     "name": "stderr",
     "output_type": "stream",
     "text": [
      " 67%|██████▋   | 5708/8460 [1:00:12<23:43,  1.93it/s]"
     ]
    },
    {
     "name": "stdout",
     "output_type": "stream",
     "text": [
      "OPA.U 404 Client Error: Not Found for url: https://query2.finance.yahoo.com/v10/finance/quoteSummary/OPA.U?modules=summaryProfile%2CfinancialData%2CquoteType%2CdefaultKeyStatistics%2CassetProfile%2CsummaryDetail&ssl=true\n"
     ]
    },
    {
     "name": "stderr",
     "output_type": "stream",
     "text": [
      " 67%|██████▋   | 5709/8460 [1:00:12<22:01,  2.08it/s]"
     ]
    },
    {
     "name": "stdout",
     "output_type": "stream",
     "text": [
      "OPA.W 404 Client Error: Not Found for url: https://query2.finance.yahoo.com/v10/finance/quoteSummary/OPA.W?modules=summaryProfile%2CfinancialData%2CquoteType%2CdefaultKeyStatistics%2CassetProfile%2CsummaryDetail&ssl=true\n"
     ]
    },
    {
     "name": "stderr",
     "output_type": "stream",
     "text": [
      " 68%|██████▊   | 5711/8460 [1:00:13<20:56,  2.19it/s]"
     ]
    },
    {
     "name": "stdout",
     "output_type": "stream",
     "text": [
      "OPAD.W 404 Client Error: Not Found for url: https://query2.finance.yahoo.com/v10/finance/quoteSummary/OPAD.W?modules=summaryProfile%2CfinancialData%2CquoteType%2CdefaultKeyStatistics%2CassetProfile%2CsummaryDetail&ssl=true\n"
     ]
    },
    {
     "name": "stderr",
     "output_type": "stream",
     "text": [
      " 68%|██████▊   | 5717/8460 [1:00:16<23:00,  1.99it/s]"
     ]
    },
    {
     "name": "stdout",
     "output_type": "stream",
     "text": [
      "OPFI.W 404 Client Error: Not Found for url: https://query2.finance.yahoo.com/v10/finance/quoteSummary/OPFI.W?modules=summaryProfile%2CfinancialData%2CquoteType%2CdefaultKeyStatistics%2CassetProfile%2CsummaryDetail&ssl=true\n"
     ]
    },
    {
     "name": "stderr",
     "output_type": "stream",
     "text": [
      " 68%|██████▊   | 5725/8460 [1:00:21<22:58,  1.98it/s]"
     ]
    },
    {
     "name": "stdout",
     "output_type": "stream",
     "text": [
      "OPP$A 404 Client Error: Not Found for url: https://query2.finance.yahoo.com/v10/finance/quoteSummary/OPP$A?modules=summaryProfile%2CfinancialData%2CquoteType%2CdefaultKeyStatistics%2CassetProfile%2CsummaryDetail&ssl=true\n"
     ]
    },
    {
     "name": "stderr",
     "output_type": "stream",
     "text": [
      " 68%|██████▊   | 5726/8460 [1:00:21<20:02,  2.27it/s]"
     ]
    },
    {
     "name": "stdout",
     "output_type": "stream",
     "text": [
      "OPP$B 404 Client Error: Not Found for url: https://query2.finance.yahoo.com/v10/finance/quoteSummary/OPP$B?modules=summaryProfile%2CfinancialData%2CquoteType%2CdefaultKeyStatistics%2CassetProfile%2CsummaryDetail&ssl=true\n"
     ]
    },
    {
     "name": "stderr",
     "output_type": "stream",
     "text": [
      " 68%|██████▊   | 5763/8460 [1:00:44<23:13,  1.94it/s]"
     ]
    },
    {
     "name": "stdout",
     "output_type": "stream",
     "text": [
      "OSI.U 404 Client Error: Not Found for url: https://query2.finance.yahoo.com/v10/finance/quoteSummary/OSI.U?modules=summaryProfile%2CfinancialData%2CquoteType%2CdefaultKeyStatistics%2CassetProfile%2CsummaryDetail&ssl=true\n"
     ]
    },
    {
     "name": "stderr",
     "output_type": "stream",
     "text": [
      " 68%|██████▊   | 5764/8460 [1:00:44<19:51,  2.26it/s]"
     ]
    },
    {
     "name": "stdout",
     "output_type": "stream",
     "text": [
      "OSI.W 404 Client Error: Not Found for url: https://query2.finance.yahoo.com/v10/finance/quoteSummary/OSI.W?modules=summaryProfile%2CfinancialData%2CquoteType%2CdefaultKeyStatistics%2CassetProfile%2CsummaryDetail&ssl=true\n"
     ]
    },
    {
     "name": "stderr",
     "output_type": "stream",
     "text": [
      " 68%|██████▊   | 5786/8460 [1:00:58<29:22,  1.52it/s]"
     ]
    },
    {
     "name": "stdout",
     "output_type": "stream",
     "text": [
      "OUST.A 404 Client Error: Not Found for url: https://query2.finance.yahoo.com/v10/finance/quoteSummary/OUST.A?modules=summaryProfile%2CfinancialData%2CquoteType%2CdefaultKeyStatistics%2CassetProfile%2CsummaryDetail&ssl=true\n"
     ]
    },
    {
     "name": "stderr",
     "output_type": "stream",
     "text": [
      " 68%|██████▊   | 5787/8460 [1:00:58<24:06,  1.85it/s]"
     ]
    },
    {
     "name": "stdout",
     "output_type": "stream",
     "text": [
      "OUST.W 404 Client Error: Not Found for url: https://query2.finance.yahoo.com/v10/finance/quoteSummary/OUST.W?modules=summaryProfile%2CfinancialData%2CquoteType%2CdefaultKeyStatistics%2CassetProfile%2CsummaryDetail&ssl=true\n"
     ]
    },
    {
     "name": "stderr",
     "output_type": "stream",
     "text": [
      " 68%|██████▊   | 5795/8460 [1:01:06<53:09,  1.20s/it]"
     ]
    },
    {
     "name": "stdout",
     "output_type": "stream",
     "text": [
      "OWLT.W 404 Client Error: Not Found for url: https://query2.finance.yahoo.com/v10/finance/quoteSummary/OWLT.W?modules=summaryProfile%2CfinancialData%2CquoteType%2CdefaultKeyStatistics%2CassetProfile%2CsummaryDetail&ssl=true\n"
     ]
    },
    {
     "name": "stderr",
     "output_type": "stream",
     "text": [
      " 69%|██████▉   | 5817/8460 [1:01:24<21:19,  2.06it/s]  "
     ]
    },
    {
     "name": "stdout",
     "output_type": "stream",
     "text": [
      "OXY.W 404 Client Error: Not Found for url: https://query2.finance.yahoo.com/v10/finance/quoteSummary/OXY.W?modules=summaryProfile%2CfinancialData%2CquoteType%2CdefaultKeyStatistics%2CassetProfile%2CsummaryDetail&ssl=true\n"
     ]
    },
    {
     "name": "stderr",
     "output_type": "stream",
     "text": [
      " 69%|██████▉   | 5827/8460 [1:01:31<23:53,  1.84it/s]"
     ]
    },
    {
     "name": "stdout",
     "output_type": "stream",
     "text": [
      "PACI.U 404 Client Error: Not Found for url: https://query2.finance.yahoo.com/v10/finance/quoteSummary/PACI.U?modules=summaryProfile%2CfinancialData%2CquoteType%2CdefaultKeyStatistics%2CassetProfile%2CsummaryDetail&ssl=true\n"
     ]
    },
    {
     "name": "stderr",
     "output_type": "stream",
     "text": [
      " 69%|██████▉   | 5828/8460 [1:01:31<20:47,  2.11it/s]"
     ]
    },
    {
     "name": "stdout",
     "output_type": "stream",
     "text": [
      "PACI.W 404 Client Error: Not Found for url: https://query2.finance.yahoo.com/v10/finance/quoteSummary/PACI.W?modules=summaryProfile%2CfinancialData%2CquoteType%2CdefaultKeyStatistics%2CassetProfile%2CsummaryDetail&ssl=true\n"
     ]
    },
    {
     "name": "stderr",
     "output_type": "stream",
     "text": [
      " 69%|██████▉   | 5873/8460 [1:02:16<1:07:26,  1.56s/it]"
     ]
    },
    {
     "name": "stdout",
     "output_type": "stream",
     "text": [
      "PBI$B 404 Client Error: Not Found for url: https://query2.finance.yahoo.com/v10/finance/quoteSummary/PBI$B?modules=summaryProfile%2CfinancialData%2CquoteType%2CdefaultKeyStatistics%2CassetProfile%2CsummaryDetail&ssl=true\n"
     ]
    },
    {
     "name": "stderr",
     "output_type": "stream",
     "text": [
      " 69%|██████▉   | 5877/8460 [1:02:21<1:01:17,  1.42s/it]"
     ]
    },
    {
     "name": "stdout",
     "output_type": "stream",
     "text": [
      "PBR.A 404 Client Error: Not Found for url: https://query2.finance.yahoo.com/v10/finance/quoteSummary/PBR.A?modules=summaryProfile%2CfinancialData%2CquoteType%2CdefaultKeyStatistics%2CassetProfile%2CsummaryDetail&ssl=true\n"
     ]
    },
    {
     "name": "stderr",
     "output_type": "stream",
     "text": [
      " 70%|██████▉   | 5888/8460 [1:02:39<1:01:52,  1.44s/it]"
     ]
    },
    {
     "name": "stdout",
     "output_type": "stream",
     "text": [
      "PCG$A 404 Client Error: Not Found for url: https://query2.finance.yahoo.com/v10/finance/quoteSummary/PCG$A?modules=summaryProfile%2CfinancialData%2CquoteType%2CdefaultKeyStatistics%2CassetProfile%2CsummaryDetail&ssl=true\n"
     ]
    },
    {
     "name": "stderr",
     "output_type": "stream",
     "text": [
      " 70%|██████▉   | 5889/8460 [1:02:40<54:39,  1.28s/it]  "
     ]
    },
    {
     "name": "stdout",
     "output_type": "stream",
     "text": [
      "PCG$B 404 Client Error: Not Found for url: https://query2.finance.yahoo.com/v10/finance/quoteSummary/PCG$B?modules=summaryProfile%2CfinancialData%2CquoteType%2CdefaultKeyStatistics%2CassetProfile%2CsummaryDetail&ssl=true\n"
     ]
    },
    {
     "name": "stderr",
     "output_type": "stream",
     "text": [
      " 70%|██████▉   | 5890/8460 [1:02:41<50:59,  1.19s/it]"
     ]
    },
    {
     "name": "stdout",
     "output_type": "stream",
     "text": [
      "PCG$C 404 Client Error: Not Found for url: https://query2.finance.yahoo.com/v10/finance/quoteSummary/PCG$C?modules=summaryProfile%2CfinancialData%2CquoteType%2CdefaultKeyStatistics%2CassetProfile%2CsummaryDetail&ssl=true\n"
     ]
    },
    {
     "name": "stderr",
     "output_type": "stream",
     "text": [
      " 70%|██████▉   | 5891/8460 [1:02:42<47:51,  1.12s/it]"
     ]
    },
    {
     "name": "stdout",
     "output_type": "stream",
     "text": [
      "PCG$D 404 Client Error: Not Found for url: https://query2.finance.yahoo.com/v10/finance/quoteSummary/PCG$D?modules=summaryProfile%2CfinancialData%2CquoteType%2CdefaultKeyStatistics%2CassetProfile%2CsummaryDetail&ssl=true\n"
     ]
    },
    {
     "name": "stderr",
     "output_type": "stream",
     "text": [
      " 70%|██████▉   | 5892/8460 [1:02:42<39:43,  1.08it/s]"
     ]
    },
    {
     "name": "stdout",
     "output_type": "stream",
     "text": [
      "PCG$E 404 Client Error: Not Found for url: https://query2.finance.yahoo.com/v10/finance/quoteSummary/PCG$E?modules=summaryProfile%2CfinancialData%2CquoteType%2CdefaultKeyStatistics%2CassetProfile%2CsummaryDetail&ssl=true\n"
     ]
    },
    {
     "name": "stderr",
     "output_type": "stream",
     "text": [
      " 70%|██████▉   | 5893/8460 [1:02:42<31:48,  1.34it/s]"
     ]
    },
    {
     "name": "stdout",
     "output_type": "stream",
     "text": [
      "PCG$G 404 Client Error: Not Found for url: https://query2.finance.yahoo.com/v10/finance/quoteSummary/PCG$G?modules=summaryProfile%2CfinancialData%2CquoteType%2CdefaultKeyStatistics%2CassetProfile%2CsummaryDetail&ssl=true\n"
     ]
    },
    {
     "name": "stderr",
     "output_type": "stream",
     "text": [
      " 70%|██████▉   | 5894/8460 [1:02:43<34:29,  1.24it/s]"
     ]
    },
    {
     "name": "stdout",
     "output_type": "stream",
     "text": [
      "PCG$H 404 Client Error: Not Found for url: https://query2.finance.yahoo.com/v10/finance/quoteSummary/PCG$H?modules=summaryProfile%2CfinancialData%2CquoteType%2CdefaultKeyStatistics%2CassetProfile%2CsummaryDetail&ssl=true\n"
     ]
    },
    {
     "name": "stderr",
     "output_type": "stream",
     "text": [
      " 70%|██████▉   | 5895/8460 [1:02:44<35:46,  1.20it/s]"
     ]
    },
    {
     "name": "stdout",
     "output_type": "stream",
     "text": [
      "PCG$I 404 Client Error: Not Found for url: https://query2.finance.yahoo.com/v10/finance/quoteSummary/PCG$I?modules=summaryProfile%2CfinancialData%2CquoteType%2CdefaultKeyStatistics%2CassetProfile%2CsummaryDetail&ssl=true\n"
     ]
    },
    {
     "name": "stderr",
     "output_type": "stream",
     "text": [
      " 70%|███████   | 5928/8460 [1:03:39<1:00:17,  1.43s/it]"
     ]
    },
    {
     "name": "stdout",
     "output_type": "stream",
     "text": [
      "PEB$E 404 Client Error: Not Found for url: https://query2.finance.yahoo.com/v10/finance/quoteSummary/PEB$E?modules=summaryProfile%2CfinancialData%2CquoteType%2CdefaultKeyStatistics%2CassetProfile%2CsummaryDetail&ssl=true\n"
     ]
    },
    {
     "name": "stderr",
     "output_type": "stream",
     "text": [
      " 70%|███████   | 5929/8460 [1:03:40<45:57,  1.09s/it]  "
     ]
    },
    {
     "name": "stdout",
     "output_type": "stream",
     "text": [
      "PEB$F 404 Client Error: Not Found for url: https://query2.finance.yahoo.com/v10/finance/quoteSummary/PEB$F?modules=summaryProfile%2CfinancialData%2CquoteType%2CdefaultKeyStatistics%2CassetProfile%2CsummaryDetail&ssl=true\n"
     ]
    },
    {
     "name": "stderr",
     "output_type": "stream",
     "text": [
      " 70%|███████   | 5930/8460 [1:03:40<40:03,  1.05it/s]"
     ]
    },
    {
     "name": "stdout",
     "output_type": "stream",
     "text": [
      "PEB$G 404 Client Error: Not Found for url: https://query2.finance.yahoo.com/v10/finance/quoteSummary/PEB$G?modules=summaryProfile%2CfinancialData%2CquoteType%2CdefaultKeyStatistics%2CassetProfile%2CsummaryDetail&ssl=true\n"
     ]
    },
    {
     "name": "stderr",
     "output_type": "stream",
     "text": [
      " 70%|███████   | 5931/8460 [1:03:41<40:09,  1.05it/s]"
     ]
    },
    {
     "name": "stdout",
     "output_type": "stream",
     "text": [
      "PEB$H 404 Client Error: Not Found for url: https://query2.finance.yahoo.com/v10/finance/quoteSummary/PEB$H?modules=summaryProfile%2CfinancialData%2CquoteType%2CdefaultKeyStatistics%2CassetProfile%2CsummaryDetail&ssl=true\n"
     ]
    },
    {
     "name": "stderr",
     "output_type": "stream",
     "text": [
      " 70%|███████   | 5951/8460 [1:04:05<22:00,  1.90it/s]  "
     ]
    },
    {
     "name": "stdout",
     "output_type": "stream",
     "text": [
      "PERF.W 404 Client Error: Not Found for url: https://query2.finance.yahoo.com/v10/finance/quoteSummary/PERF.W?modules=summaryProfile%2CfinancialData%2CquoteType%2CdefaultKeyStatistics%2CassetProfile%2CsummaryDetail&ssl=true\n"
     ]
    },
    {
     "name": "stderr",
     "output_type": "stream",
     "text": [
      " 71%|███████   | 5999/8460 [1:04:42<20:59,  1.95it/s]  "
     ]
    },
    {
     "name": "stdout",
     "output_type": "stream",
     "text": [
      "PGSS.U 404 Client Error: Not Found for url: https://query2.finance.yahoo.com/v10/finance/quoteSummary/PGSS.U?modules=summaryProfile%2CfinancialData%2CquoteType%2CdefaultKeyStatistics%2CassetProfile%2CsummaryDetail&ssl=true\n"
     ]
    },
    {
     "name": "stderr",
     "output_type": "stream",
     "text": [
      " 71%|███████   | 6000/8460 [1:04:42<18:46,  2.18it/s]"
     ]
    },
    {
     "name": "stdout",
     "output_type": "stream",
     "text": [
      "PGSS.W 404 Client Error: Not Found for url: https://query2.finance.yahoo.com/v10/finance/quoteSummary/PGSS.W?modules=summaryProfile%2CfinancialData%2CquoteType%2CdefaultKeyStatistics%2CassetProfile%2CsummaryDetail&ssl=true\n"
     ]
    },
    {
     "name": "stderr",
     "output_type": "stream",
     "text": [
      " 71%|███████   | 6011/8460 [1:04:49<20:40,  1.97it/s]"
     ]
    },
    {
     "name": "stdout",
     "output_type": "stream",
     "text": [
      "PHGE.U 404 Client Error: Not Found for url: https://query2.finance.yahoo.com/v10/finance/quoteSummary/PHGE.U?modules=summaryProfile%2CfinancialData%2CquoteType%2CdefaultKeyStatistics%2CassetProfile%2CsummaryDetail&ssl=true\n"
     ]
    },
    {
     "name": "stderr",
     "output_type": "stream",
     "text": [
      " 71%|███████   | 6012/8460 [1:04:49<17:39,  2.31it/s]"
     ]
    },
    {
     "name": "stdout",
     "output_type": "stream",
     "text": [
      "PHGE.W 404 Client Error: Not Found for url: https://query2.finance.yahoo.com/v10/finance/quoteSummary/PHGE.W?modules=summaryProfile%2CfinancialData%2CquoteType%2CdefaultKeyStatistics%2CassetProfile%2CsummaryDetail&ssl=true\n"
     ]
    },
    {
     "name": "stderr",
     "output_type": "stream",
     "text": [
      " 71%|███████   | 6024/8460 [1:04:56<20:29,  1.98it/s]"
     ]
    },
    {
     "name": "stdout",
     "output_type": "stream",
     "text": [
      "PHYT.U 404 Client Error: Not Found for url: https://query2.finance.yahoo.com/v10/finance/quoteSummary/PHYT.U?modules=summaryProfile%2CfinancialData%2CquoteType%2CdefaultKeyStatistics%2CassetProfile%2CsummaryDetail&ssl=true\n"
     ]
    },
    {
     "name": "stderr",
     "output_type": "stream",
     "text": [
      " 71%|███████   | 6025/8460 [1:04:56<17:31,  2.31it/s]"
     ]
    },
    {
     "name": "stdout",
     "output_type": "stream",
     "text": [
      "PHYT.W 404 Client Error: Not Found for url: https://query2.finance.yahoo.com/v10/finance/quoteSummary/PHYT.W?modules=summaryProfile%2CfinancialData%2CquoteType%2CdefaultKeyStatistics%2CassetProfile%2CsummaryDetail&ssl=true\n"
     ]
    },
    {
     "name": "stderr",
     "output_type": "stream",
     "text": [
      " 71%|███████▏  | 6028/8460 [1:04:58<18:58,  2.14it/s]"
     ]
    },
    {
     "name": "stdout",
     "output_type": "stream",
     "text": [
      "PIAI.U 404 Client Error: Not Found for url: https://query2.finance.yahoo.com/v10/finance/quoteSummary/PIAI.U?modules=summaryProfile%2CfinancialData%2CquoteType%2CdefaultKeyStatistics%2CassetProfile%2CsummaryDetail&ssl=true\n"
     ]
    },
    {
     "name": "stderr",
     "output_type": "stream",
     "text": [
      " 71%|███████▏  | 6029/8460 [1:04:58<16:21,  2.48it/s]"
     ]
    },
    {
     "name": "stdout",
     "output_type": "stream",
     "text": [
      "PIAI.W 404 Client Error: Not Found for url: https://query2.finance.yahoo.com/v10/finance/quoteSummary/PIAI.W?modules=summaryProfile%2CfinancialData%2CquoteType%2CdefaultKeyStatistics%2CassetProfile%2CsummaryDetail&ssl=true\n"
     ]
    },
    {
     "name": "stderr",
     "output_type": "stream",
     "text": [
      " 72%|███████▏  | 6051/8460 [1:05:13<37:42,  1.06it/s]"
     ]
    },
    {
     "name": "stdout",
     "output_type": "stream",
     "text": [
      "PL.W 404 Client Error: Not Found for url: https://query2.finance.yahoo.com/v10/finance/quoteSummary/PL.W?modules=summaryProfile%2CfinancialData%2CquoteType%2CdefaultKeyStatistics%2CassetProfile%2CsummaryDetail&ssl=true\n"
     ]
    },
    {
     "name": "stderr",
     "output_type": "stream",
     "text": [
      " 72%|███████▏  | 6087/8460 [1:05:53<20:54,  1.89it/s]  "
     ]
    },
    {
     "name": "stdout",
     "output_type": "stream",
     "text": [
      "PLYM$A 404 Client Error: Not Found for url: https://query2.finance.yahoo.com/v10/finance/quoteSummary/PLYM$A?modules=summaryProfile%2CfinancialData%2CquoteType%2CdefaultKeyStatistics%2CassetProfile%2CsummaryDetail&ssl=true\n"
     ]
    },
    {
     "name": "stderr",
     "output_type": "stream",
     "text": [
      " 72%|███████▏  | 6100/8460 [1:06:00<19:40,  2.00it/s]"
     ]
    },
    {
     "name": "stdout",
     "output_type": "stream",
     "text": [
      "PMT$A 404 Client Error: Not Found for url: https://query2.finance.yahoo.com/v10/finance/quoteSummary/PMT$A?modules=summaryProfile%2CfinancialData%2CquoteType%2CdefaultKeyStatistics%2CassetProfile%2CsummaryDetail&ssl=true\n"
     ]
    },
    {
     "name": "stderr",
     "output_type": "stream",
     "text": [
      " 72%|███████▏  | 6101/8460 [1:06:00<17:19,  2.27it/s]"
     ]
    },
    {
     "name": "stdout",
     "output_type": "stream",
     "text": [
      "PMT$B 404 Client Error: Not Found for url: https://query2.finance.yahoo.com/v10/finance/quoteSummary/PMT$B?modules=summaryProfile%2CfinancialData%2CquoteType%2CdefaultKeyStatistics%2CassetProfile%2CsummaryDetail&ssl=true\n"
     ]
    },
    {
     "name": "stderr",
     "output_type": "stream",
     "text": [
      " 72%|███████▏  | 6102/8460 [1:06:01<15:32,  2.53it/s]"
     ]
    },
    {
     "name": "stdout",
     "output_type": "stream",
     "text": [
      "PMT$C 404 Client Error: Not Found for url: https://query2.finance.yahoo.com/v10/finance/quoteSummary/PMT$C?modules=summaryProfile%2CfinancialData%2CquoteType%2CdefaultKeyStatistics%2CassetProfile%2CsummaryDetail&ssl=true\n"
     ]
    },
    {
     "name": "stderr",
     "output_type": "stream",
     "text": [
      " 72%|███████▏  | 6123/8460 [1:06:19<29:44,  1.31it/s]  "
     ]
    },
    {
     "name": "stdout",
     "output_type": "stream",
     "text": [
      "PNTM.U 404 Client Error: Not Found for url: https://query2.finance.yahoo.com/v10/finance/quoteSummary/PNTM.U?modules=summaryProfile%2CfinancialData%2CquoteType%2CdefaultKeyStatistics%2CassetProfile%2CsummaryDetail&ssl=true\n"
     ]
    },
    {
     "name": "stderr",
     "output_type": "stream",
     "text": [
      " 72%|███████▏  | 6124/8460 [1:06:19<24:16,  1.60it/s]"
     ]
    },
    {
     "name": "stdout",
     "output_type": "stream",
     "text": [
      "PNTM.W 404 Client Error: Not Found for url: https://query2.finance.yahoo.com/v10/finance/quoteSummary/PNTM.W?modules=summaryProfile%2CfinancialData%2CquoteType%2CdefaultKeyStatistics%2CassetProfile%2CsummaryDetail&ssl=true\n"
     ]
    },
    {
     "name": "stderr",
     "output_type": "stream",
     "text": [
      " 72%|███████▏  | 6131/8460 [1:06:24<19:38,  1.98it/s]"
     ]
    },
    {
     "name": "stdout",
     "output_type": "stream",
     "text": [
      "POL.W 404 Client Error: Not Found for url: https://query2.finance.yahoo.com/v10/finance/quoteSummary/POL.W?modules=summaryProfile%2CfinancialData%2CquoteType%2CdefaultKeyStatistics%2CassetProfile%2CsummaryDetail&ssl=true\n"
     ]
    },
    {
     "name": "stderr",
     "output_type": "stream",
     "text": [
      " 73%|███████▎  | 6136/8460 [1:06:26<18:36,  2.08it/s]"
     ]
    },
    {
     "name": "stdout",
     "output_type": "stream",
     "text": [
      "PORT.U 404 Client Error: Not Found for url: https://query2.finance.yahoo.com/v10/finance/quoteSummary/PORT.U?modules=summaryProfile%2CfinancialData%2CquoteType%2CdefaultKeyStatistics%2CassetProfile%2CsummaryDetail&ssl=true\n"
     ]
    },
    {
     "name": "stderr",
     "output_type": "stream",
     "text": [
      " 73%|███████▎  | 6137/8460 [1:06:27<17:08,  2.26it/s]"
     ]
    },
    {
     "name": "stdout",
     "output_type": "stream",
     "text": [
      "PORT.W 404 Client Error: Not Found for url: https://query2.finance.yahoo.com/v10/finance/quoteSummary/PORT.W?modules=summaryProfile%2CfinancialData%2CquoteType%2CdefaultKeyStatistics%2CassetProfile%2CsummaryDetail&ssl=true\n"
     ]
    },
    {
     "name": "stderr",
     "output_type": "stream",
     "text": [
      " 73%|███████▎  | 6168/8460 [1:06:46<19:46,  1.93it/s]"
     ]
    },
    {
     "name": "stdout",
     "output_type": "stream",
     "text": [
      "PRE$J 404 Client Error: Not Found for url: https://query2.finance.yahoo.com/v10/finance/quoteSummary/PRE$J?modules=summaryProfile%2CfinancialData%2CquoteType%2CdefaultKeyStatistics%2CassetProfile%2CsummaryDetail&ssl=true\n"
     ]
    },
    {
     "name": "stderr",
     "output_type": "stream",
     "text": [
      " 73%|███████▎  | 6177/8460 [1:06:51<18:49,  2.02it/s]"
     ]
    },
    {
     "name": "stdout",
     "output_type": "stream",
     "text": [
      "PRIF$D 404 Client Error: Not Found for url: https://query2.finance.yahoo.com/v10/finance/quoteSummary/PRIF$D?modules=summaryProfile%2CfinancialData%2CquoteType%2CdefaultKeyStatistics%2CassetProfile%2CsummaryDetail&ssl=true\n"
     ]
    },
    {
     "name": "stderr",
     "output_type": "stream",
     "text": [
      " 73%|███████▎  | 6178/8460 [1:06:51<16:51,  2.26it/s]"
     ]
    },
    {
     "name": "stdout",
     "output_type": "stream",
     "text": [
      "PRIF$F 404 Client Error: Not Found for url: https://query2.finance.yahoo.com/v10/finance/quoteSummary/PRIF$F?modules=summaryProfile%2CfinancialData%2CquoteType%2CdefaultKeyStatistics%2CassetProfile%2CsummaryDetail&ssl=true\n"
     ]
    },
    {
     "name": "stderr",
     "output_type": "stream",
     "text": [
      " 73%|███████▎  | 6179/8460 [1:06:52<14:47,  2.57it/s]"
     ]
    },
    {
     "name": "stdout",
     "output_type": "stream",
     "text": [
      "PRIF$G 404 Client Error: Not Found for url: https://query2.finance.yahoo.com/v10/finance/quoteSummary/PRIF$G?modules=summaryProfile%2CfinancialData%2CquoteType%2CdefaultKeyStatistics%2CassetProfile%2CsummaryDetail&ssl=true\n"
     ]
    },
    {
     "name": "stderr",
     "output_type": "stream",
     "text": [
      " 73%|███████▎  | 6180/8460 [1:06:52<14:01,  2.71it/s]"
     ]
    },
    {
     "name": "stdout",
     "output_type": "stream",
     "text": [
      "PRIF$H 404 Client Error: Not Found for url: https://query2.finance.yahoo.com/v10/finance/quoteSummary/PRIF$H?modules=summaryProfile%2CfinancialData%2CquoteType%2CdefaultKeyStatistics%2CassetProfile%2CsummaryDetail&ssl=true\n"
     ]
    },
    {
     "name": "stderr",
     "output_type": "stream",
     "text": [
      " 73%|███████▎  | 6181/8460 [1:06:52<12:51,  2.95it/s]"
     ]
    },
    {
     "name": "stdout",
     "output_type": "stream",
     "text": [
      "PRIF$I 404 Client Error: Not Found for url: https://query2.finance.yahoo.com/v10/finance/quoteSummary/PRIF$I?modules=summaryProfile%2CfinancialData%2CquoteType%2CdefaultKeyStatistics%2CassetProfile%2CsummaryDetail&ssl=true\n"
     ]
    },
    {
     "name": "stderr",
     "output_type": "stream",
     "text": [
      " 73%|███████▎  | 6182/8460 [1:06:53<12:14,  3.10it/s]"
     ]
    },
    {
     "name": "stdout",
     "output_type": "stream",
     "text": [
      "PRIF$J 404 Client Error: Not Found for url: https://query2.finance.yahoo.com/v10/finance/quoteSummary/PRIF$J?modules=summaryProfile%2CfinancialData%2CquoteType%2CdefaultKeyStatistics%2CassetProfile%2CsummaryDetail&ssl=true\n"
     ]
    },
    {
     "name": "stderr",
     "output_type": "stream",
     "text": [
      " 73%|███████▎  | 6183/8460 [1:06:53<11:52,  3.19it/s]"
     ]
    },
    {
     "name": "stdout",
     "output_type": "stream",
     "text": [
      "PRIF$K 404 Client Error: Not Found for url: https://query2.finance.yahoo.com/v10/finance/quoteSummary/PRIF$K?modules=summaryProfile%2CfinancialData%2CquoteType%2CdefaultKeyStatistics%2CassetProfile%2CsummaryDetail&ssl=true\n"
     ]
    },
    {
     "name": "stderr",
     "output_type": "stream",
     "text": [
      " 73%|███████▎  | 6184/8460 [1:06:53<11:18,  3.35it/s]"
     ]
    },
    {
     "name": "stdout",
     "output_type": "stream",
     "text": [
      "PRIF$L 404 Client Error: Not Found for url: https://query2.finance.yahoo.com/v10/finance/quoteSummary/PRIF$L?modules=summaryProfile%2CfinancialData%2CquoteType%2CdefaultKeyStatistics%2CassetProfile%2CsummaryDetail&ssl=true\n"
     ]
    },
    {
     "name": "stderr",
     "output_type": "stream",
     "text": [
      " 73%|███████▎  | 6202/8460 [1:07:03<18:54,  1.99it/s]"
     ]
    },
    {
     "name": "stdout",
     "output_type": "stream",
     "text": [
      "PRPC.U 404 Client Error: Not Found for url: https://query2.finance.yahoo.com/v10/finance/quoteSummary/PRPC.U?modules=summaryProfile%2CfinancialData%2CquoteType%2CdefaultKeyStatistics%2CassetProfile%2CsummaryDetail&ssl=true\n"
     ]
    },
    {
     "name": "stderr",
     "output_type": "stream",
     "text": [
      " 73%|███████▎  | 6203/8460 [1:07:04<16:42,  2.25it/s]"
     ]
    },
    {
     "name": "stdout",
     "output_type": "stream",
     "text": [
      "PRPC.W 404 Client Error: Not Found for url: https://query2.finance.yahoo.com/v10/finance/quoteSummary/PRPC.W?modules=summaryProfile%2CfinancialData%2CquoteType%2CdefaultKeyStatistics%2CassetProfile%2CsummaryDetail&ssl=true\n"
     ]
    },
    {
     "name": "stderr",
     "output_type": "stream",
     "text": [
      " 74%|███████▎  | 6226/8460 [1:07:23<18:45,  1.98it/s]"
     ]
    },
    {
     "name": "stdout",
     "output_type": "stream",
     "text": [
      "PSA$F 404 Client Error: Not Found for url: https://query2.finance.yahoo.com/v10/finance/quoteSummary/PSA$F?modules=summaryProfile%2CfinancialData%2CquoteType%2CdefaultKeyStatistics%2CassetProfile%2CsummaryDetail&ssl=true\n"
     ]
    },
    {
     "name": "stderr",
     "output_type": "stream",
     "text": [
      " 74%|███████▎  | 6227/8460 [1:07:23<16:29,  2.26it/s]"
     ]
    },
    {
     "name": "stdout",
     "output_type": "stream",
     "text": [
      "PSA$G 404 Client Error: Not Found for url: https://query2.finance.yahoo.com/v10/finance/quoteSummary/PSA$G?modules=summaryProfile%2CfinancialData%2CquoteType%2CdefaultKeyStatistics%2CassetProfile%2CsummaryDetail&ssl=true\n"
     ]
    },
    {
     "name": "stderr",
     "output_type": "stream",
     "text": [
      " 74%|███████▎  | 6228/8460 [1:07:23<14:39,  2.54it/s]"
     ]
    },
    {
     "name": "stdout",
     "output_type": "stream",
     "text": [
      "PSA$H 404 Client Error: Not Found for url: https://query2.finance.yahoo.com/v10/finance/quoteSummary/PSA$H?modules=summaryProfile%2CfinancialData%2CquoteType%2CdefaultKeyStatistics%2CassetProfile%2CsummaryDetail&ssl=true\n"
     ]
    },
    {
     "name": "stderr",
     "output_type": "stream",
     "text": [
      " 74%|███████▎  | 6229/8460 [1:07:24<13:28,  2.76it/s]"
     ]
    },
    {
     "name": "stdout",
     "output_type": "stream",
     "text": [
      "PSA$I 404 Client Error: Not Found for url: https://query2.finance.yahoo.com/v10/finance/quoteSummary/PSA$I?modules=summaryProfile%2CfinancialData%2CquoteType%2CdefaultKeyStatistics%2CassetProfile%2CsummaryDetail&ssl=true\n"
     ]
    },
    {
     "name": "stderr",
     "output_type": "stream",
     "text": [
      " 74%|███████▎  | 6230/8460 [1:07:24<12:34,  2.96it/s]"
     ]
    },
    {
     "name": "stdout",
     "output_type": "stream",
     "text": [
      "PSA$J 404 Client Error: Not Found for url: https://query2.finance.yahoo.com/v10/finance/quoteSummary/PSA$J?modules=summaryProfile%2CfinancialData%2CquoteType%2CdefaultKeyStatistics%2CassetProfile%2CsummaryDetail&ssl=true\n"
     ]
    },
    {
     "name": "stderr",
     "output_type": "stream",
     "text": [
      " 74%|███████▎  | 6231/8460 [1:07:24<12:04,  3.07it/s]"
     ]
    },
    {
     "name": "stdout",
     "output_type": "stream",
     "text": [
      "PSA$K 404 Client Error: Not Found for url: https://query2.finance.yahoo.com/v10/finance/quoteSummary/PSA$K?modules=summaryProfile%2CfinancialData%2CquoteType%2CdefaultKeyStatistics%2CassetProfile%2CsummaryDetail&ssl=true\n"
     ]
    },
    {
     "name": "stderr",
     "output_type": "stream",
     "text": [
      " 74%|███████▎  | 6232/8460 [1:07:25<11:34,  3.21it/s]"
     ]
    },
    {
     "name": "stdout",
     "output_type": "stream",
     "text": [
      "PSA$L 404 Client Error: Not Found for url: https://query2.finance.yahoo.com/v10/finance/quoteSummary/PSA$L?modules=summaryProfile%2CfinancialData%2CquoteType%2CdefaultKeyStatistics%2CassetProfile%2CsummaryDetail&ssl=true\n"
     ]
    },
    {
     "name": "stderr",
     "output_type": "stream",
     "text": [
      " 74%|███████▎  | 6233/8460 [1:07:25<11:32,  3.22it/s]"
     ]
    },
    {
     "name": "stdout",
     "output_type": "stream",
     "text": [
      "PSA$M 404 Client Error: Not Found for url: https://query2.finance.yahoo.com/v10/finance/quoteSummary/PSA$M?modules=summaryProfile%2CfinancialData%2CquoteType%2CdefaultKeyStatistics%2CassetProfile%2CsummaryDetail&ssl=true\n"
     ]
    },
    {
     "name": "stderr",
     "output_type": "stream",
     "text": [
      " 74%|███████▎  | 6234/8460 [1:07:25<11:21,  3.27it/s]"
     ]
    },
    {
     "name": "stdout",
     "output_type": "stream",
     "text": [
      "PSA$N 404 Client Error: Not Found for url: https://query2.finance.yahoo.com/v10/finance/quoteSummary/PSA$N?modules=summaryProfile%2CfinancialData%2CquoteType%2CdefaultKeyStatistics%2CassetProfile%2CsummaryDetail&ssl=true\n"
     ]
    },
    {
     "name": "stderr",
     "output_type": "stream",
     "text": [
      " 74%|███████▎  | 6235/8460 [1:07:26<11:17,  3.29it/s]"
     ]
    },
    {
     "name": "stdout",
     "output_type": "stream",
     "text": [
      "PSA$O 404 Client Error: Not Found for url: https://query2.finance.yahoo.com/v10/finance/quoteSummary/PSA$O?modules=summaryProfile%2CfinancialData%2CquoteType%2CdefaultKeyStatistics%2CassetProfile%2CsummaryDetail&ssl=true\n"
     ]
    },
    {
     "name": "stderr",
     "output_type": "stream",
     "text": [
      " 74%|███████▎  | 6236/8460 [1:07:26<11:09,  3.32it/s]"
     ]
    },
    {
     "name": "stdout",
     "output_type": "stream",
     "text": [
      "PSA$P 404 Client Error: Not Found for url: https://query2.finance.yahoo.com/v10/finance/quoteSummary/PSA$P?modules=summaryProfile%2CfinancialData%2CquoteType%2CdefaultKeyStatistics%2CassetProfile%2CsummaryDetail&ssl=true\n"
     ]
    },
    {
     "name": "stderr",
     "output_type": "stream",
     "text": [
      " 74%|███████▎  | 6237/8460 [1:07:26<11:23,  3.25it/s]"
     ]
    },
    {
     "name": "stdout",
     "output_type": "stream",
     "text": [
      "PSA$Q 404 Client Error: Not Found for url: https://query2.finance.yahoo.com/v10/finance/quoteSummary/PSA$Q?modules=summaryProfile%2CfinancialData%2CquoteType%2CdefaultKeyStatistics%2CassetProfile%2CsummaryDetail&ssl=true\n"
     ]
    },
    {
     "name": "stderr",
     "output_type": "stream",
     "text": [
      " 74%|███████▎  | 6238/8460 [1:07:26<11:16,  3.28it/s]"
     ]
    },
    {
     "name": "stdout",
     "output_type": "stream",
     "text": [
      "PSA$R 404 Client Error: Not Found for url: https://query2.finance.yahoo.com/v10/finance/quoteSummary/PSA$R?modules=summaryProfile%2CfinancialData%2CquoteType%2CdefaultKeyStatistics%2CassetProfile%2CsummaryDetail&ssl=true\n"
     ]
    },
    {
     "name": "stderr",
     "output_type": "stream",
     "text": [
      " 74%|███████▎  | 6239/8460 [1:07:27<11:11,  3.31it/s]"
     ]
    },
    {
     "name": "stdout",
     "output_type": "stream",
     "text": [
      "PSA$S 404 Client Error: Not Found for url: https://query2.finance.yahoo.com/v10/finance/quoteSummary/PSA$S?modules=summaryProfile%2CfinancialData%2CquoteType%2CdefaultKeyStatistics%2CassetProfile%2CsummaryDetail&ssl=true\n"
     ]
    },
    {
     "name": "stderr",
     "output_type": "stream",
     "text": [
      " 74%|███████▍  | 6241/8460 [1:07:28<13:12,  2.80it/s]"
     ]
    },
    {
     "name": "stdout",
     "output_type": "stream",
     "text": [
      "PSEC$A 404 Client Error: Not Found for url: https://query2.finance.yahoo.com/v10/finance/quoteSummary/PSEC$A?modules=summaryProfile%2CfinancialData%2CquoteType%2CdefaultKeyStatistics%2CassetProfile%2CsummaryDetail&ssl=true\n"
     ]
    },
    {
     "name": "stderr",
     "output_type": "stream",
     "text": [
      " 74%|███████▍  | 6244/8460 [1:07:29<15:38,  2.36it/s]"
     ]
    },
    {
     "name": "stdout",
     "output_type": "stream",
     "text": [
      "PSFE.W 404 Client Error: Not Found for url: https://query2.finance.yahoo.com/v10/finance/quoteSummary/PSFE.W?modules=summaryProfile%2CfinancialData%2CquoteType%2CdefaultKeyStatistics%2CassetProfile%2CsummaryDetail&ssl=true\n"
     ]
    },
    {
     "name": "stderr",
     "output_type": "stream",
     "text": [
      " 74%|███████▍  | 6253/8460 [1:07:34<18:34,  1.98it/s]"
     ]
    },
    {
     "name": "stdout",
     "output_type": "stream",
     "text": [
      "PSPC.U 404 Client Error: Not Found for url: https://query2.finance.yahoo.com/v10/finance/quoteSummary/PSPC.U?modules=summaryProfile%2CfinancialData%2CquoteType%2CdefaultKeyStatistics%2CassetProfile%2CsummaryDetail&ssl=true\n"
     ]
    },
    {
     "name": "stderr",
     "output_type": "stream",
     "text": [
      " 74%|███████▍  | 6254/8460 [1:07:35<16:04,  2.29it/s]"
     ]
    },
    {
     "name": "stdout",
     "output_type": "stream",
     "text": [
      "PSPC.W 404 Client Error: Not Found for url: https://query2.finance.yahoo.com/v10/finance/quoteSummary/PSPC.W?modules=summaryProfile%2CfinancialData%2CquoteType%2CdefaultKeyStatistics%2CassetProfile%2CsummaryDetail&ssl=true\n"
     ]
    },
    {
     "name": "stderr",
     "output_type": "stream",
     "text": [
      " 74%|███████▍  | 6297/8460 [1:08:12<47:18,  1.31s/it]  "
     ]
    },
    {
     "name": "stdout",
     "output_type": "stream",
     "text": [
      "PW$A 404 Client Error: Not Found for url: https://query2.finance.yahoo.com/v10/finance/quoteSummary/PW$A?modules=summaryProfile%2CfinancialData%2CquoteType%2CdefaultKeyStatistics%2CassetProfile%2CsummaryDetail&ssl=true\n"
     ]
    },
    {
     "name": "stderr",
     "output_type": "stream",
     "text": [
      " 75%|███████▍  | 6325/8460 [1:08:29<17:36,  2.02it/s]"
     ]
    },
    {
     "name": "stdout",
     "output_type": "stream",
     "text": [
      "QBTS.W 404 Client Error: Not Found for url: https://query2.finance.yahoo.com/v10/finance/quoteSummary/QBTS.W?modules=summaryProfile%2CfinancialData%2CquoteType%2CdefaultKeyStatistics%2CassetProfile%2CsummaryDetail&ssl=true\n"
     ]
    },
    {
     "name": "stderr",
     "output_type": "stream",
     "text": [
      " 75%|███████▍  | 6335/8460 [1:08:35<21:19,  1.66it/s]"
     ]
    },
    {
     "name": "stdout",
     "output_type": "stream",
     "text": [
      "QFTA.U 404 Client Error: Not Found for url: https://query2.finance.yahoo.com/v10/finance/quoteSummary/QFTA.U?modules=summaryProfile%2CfinancialData%2CquoteType%2CdefaultKeyStatistics%2CassetProfile%2CsummaryDetail&ssl=true\n"
     ]
    },
    {
     "name": "stderr",
     "output_type": "stream",
     "text": [
      " 76%|███████▌  | 6400/8460 [1:09:25<37:01,  1.08s/it]"
     ]
    },
    {
     "name": "stdout",
     "output_type": "stream",
     "text": [
      "RBOT.W 404 Client Error: Not Found for url: https://query2.finance.yahoo.com/v10/finance/quoteSummary/RBOT.W?modules=summaryProfile%2CfinancialData%2CquoteType%2CdefaultKeyStatistics%2CassetProfile%2CsummaryDetail&ssl=true\n"
     ]
    },
    {
     "name": "stderr",
     "output_type": "stream",
     "text": [
      " 76%|███████▌  | 6402/8460 [1:09:28<40:06,  1.17s/it]"
     ]
    },
    {
     "name": "stdout",
     "output_type": "stream",
     "text": [
      "RBT.W 404 Client Error: Not Found for url: https://query2.finance.yahoo.com/v10/finance/quoteSummary/RBT.W?modules=summaryProfile%2CfinancialData%2CquoteType%2CdefaultKeyStatistics%2CassetProfile%2CsummaryDetail&ssl=true\n"
     ]
    },
    {
     "name": "stderr",
     "output_type": "stream",
     "text": [
      " 76%|███████▌  | 6404/8460 [1:09:30<42:47,  1.25s/it]"
     ]
    },
    {
     "name": "stdout",
     "output_type": "stream",
     "text": [
      "RC$C 404 Client Error: Not Found for url: https://query2.finance.yahoo.com/v10/finance/quoteSummary/RC$C?modules=summaryProfile%2CfinancialData%2CquoteType%2CdefaultKeyStatistics%2CassetProfile%2CsummaryDetail&ssl=true\n"
     ]
    },
    {
     "name": "stderr",
     "output_type": "stream",
     "text": [
      " 76%|███████▌  | 6405/8460 [1:09:31<40:55,  1.20s/it]"
     ]
    },
    {
     "name": "stdout",
     "output_type": "stream",
     "text": [
      "RC$E 404 Client Error: Not Found for url: https://query2.finance.yahoo.com/v10/finance/quoteSummary/RC$E?modules=summaryProfile%2CfinancialData%2CquoteType%2CdefaultKeyStatistics%2CassetProfile%2CsummaryDetail&ssl=true\n"
     ]
    },
    {
     "name": "stderr",
     "output_type": "stream",
     "text": [
      " 76%|███████▌  | 6415/8460 [1:09:48<53:23,  1.57s/it]  "
     ]
    },
    {
     "name": "stdout",
     "output_type": "stream",
     "text": [
      "RCFA.U 404 Client Error: Not Found for url: https://query2.finance.yahoo.com/v10/finance/quoteSummary/RCFA.U?modules=summaryProfile%2CfinancialData%2CquoteType%2CdefaultKeyStatistics%2CassetProfile%2CsummaryDetail&ssl=true\n"
     ]
    },
    {
     "name": "stderr",
     "output_type": "stream",
     "text": [
      " 76%|███████▌  | 6416/8460 [1:09:49<44:22,  1.30s/it]"
     ]
    },
    {
     "name": "stdout",
     "output_type": "stream",
     "text": [
      "RCFA.W 404 Client Error: Not Found for url: https://query2.finance.yahoo.com/v10/finance/quoteSummary/RCFA.W?modules=summaryProfile%2CfinancialData%2CquoteType%2CdefaultKeyStatistics%2CassetProfile%2CsummaryDetail&ssl=true\n"
     ]
    },
    {
     "name": "stderr",
     "output_type": "stream",
     "text": [
      " 76%|███████▌  | 6442/8460 [1:10:15<20:21,  1.65it/s]  "
     ]
    },
    {
     "name": "stdout",
     "output_type": "stream",
     "text": [
      "RDW.W 404 Client Error: Not Found for url: https://query2.finance.yahoo.com/v10/finance/quoteSummary/RDW.W?modules=summaryProfile%2CfinancialData%2CquoteType%2CdefaultKeyStatistics%2CassetProfile%2CsummaryDetail&ssl=true\n"
     ]
    },
    {
     "name": "stderr",
     "output_type": "stream",
     "text": [
      " 77%|███████▋  | 6478/8460 [1:11:06<42:41,  1.29s/it]  "
     ]
    },
    {
     "name": "stdout",
     "output_type": "stream",
     "text": [
      "REXR$B 404 Client Error: Not Found for url: https://query2.finance.yahoo.com/v10/finance/quoteSummary/REXR$B?modules=summaryProfile%2CfinancialData%2CquoteType%2CdefaultKeyStatistics%2CassetProfile%2CsummaryDetail&ssl=true\n"
     ]
    },
    {
     "name": "stderr",
     "output_type": "stream",
     "text": [
      " 77%|███████▋  | 6479/8460 [1:11:06<32:48,  1.01it/s]"
     ]
    },
    {
     "name": "stdout",
     "output_type": "stream",
     "text": [
      "REXR$C 404 Client Error: Not Found for url: https://query2.finance.yahoo.com/v10/finance/quoteSummary/REXR$C?modules=summaryProfile%2CfinancialData%2CquoteType%2CdefaultKeyStatistics%2CassetProfile%2CsummaryDetail&ssl=true\n"
     ]
    },
    {
     "name": "stderr",
     "output_type": "stream",
     "text": [
      " 77%|███████▋  | 6483/8460 [1:11:08<19:35,  1.68it/s]"
     ]
    },
    {
     "name": "stdout",
     "output_type": "stream",
     "text": [
      "RF$B 404 Client Error: Not Found for url: https://query2.finance.yahoo.com/v10/finance/quoteSummary/RF$B?modules=summaryProfile%2CfinancialData%2CquoteType%2CdefaultKeyStatistics%2CassetProfile%2CsummaryDetail&ssl=true\n"
     ]
    },
    {
     "name": "stderr",
     "output_type": "stream",
     "text": [
      " 77%|███████▋  | 6484/8460 [1:11:09<16:34,  1.99it/s]"
     ]
    },
    {
     "name": "stdout",
     "output_type": "stream",
     "text": [
      "RF$C 404 Client Error: Not Found for url: https://query2.finance.yahoo.com/v10/finance/quoteSummary/RF$C?modules=summaryProfile%2CfinancialData%2CquoteType%2CdefaultKeyStatistics%2CassetProfile%2CsummaryDetail&ssl=true\n"
     ]
    },
    {
     "name": "stderr",
     "output_type": "stream",
     "text": [
      " 77%|███████▋  | 6485/8460 [1:11:09<14:06,  2.33it/s]"
     ]
    },
    {
     "name": "stdout",
     "output_type": "stream",
     "text": [
      "RF$E 404 Client Error: Not Found for url: https://query2.finance.yahoo.com/v10/finance/quoteSummary/RF$E?modules=summaryProfile%2CfinancialData%2CquoteType%2CdefaultKeyStatistics%2CassetProfile%2CsummaryDetail&ssl=true\n"
     ]
    },
    {
     "name": "stderr",
     "output_type": "stream",
     "text": [
      " 77%|███████▋  | 6511/8460 [1:11:26<16:34,  1.96it/s]"
     ]
    },
    {
     "name": "stdout",
     "output_type": "stream",
     "text": [
      "RHE$A 404 Client Error: Not Found for url: https://query2.finance.yahoo.com/v10/finance/quoteSummary/RHE$A?modules=summaryProfile%2CfinancialData%2CquoteType%2CdefaultKeyStatistics%2CassetProfile%2CsummaryDetail&ssl=true\n"
     ]
    },
    {
     "name": "stderr",
     "output_type": "stream",
     "text": [
      " 77%|███████▋  | 6532/8460 [1:11:43<40:27,  1.26s/it]"
     ]
    },
    {
     "name": "stdout",
     "output_type": "stream",
     "text": [
      "RITM$A 404 Client Error: Not Found for url: https://query2.finance.yahoo.com/v10/finance/quoteSummary/RITM$A?modules=summaryProfile%2CfinancialData%2CquoteType%2CdefaultKeyStatistics%2CassetProfile%2CsummaryDetail&ssl=true\n"
     ]
    },
    {
     "name": "stderr",
     "output_type": "stream",
     "text": [
      " 77%|███████▋  | 6533/8460 [1:11:44<37:16,  1.16s/it]"
     ]
    },
    {
     "name": "stdout",
     "output_type": "stream",
     "text": [
      "RITM$B 404 Client Error: Not Found for url: https://query2.finance.yahoo.com/v10/finance/quoteSummary/RITM$B?modules=summaryProfile%2CfinancialData%2CquoteType%2CdefaultKeyStatistics%2CassetProfile%2CsummaryDetail&ssl=true\n"
     ]
    },
    {
     "name": "stderr",
     "output_type": "stream",
     "text": [
      " 77%|███████▋  | 6534/8460 [1:11:45<35:35,  1.11s/it]"
     ]
    },
    {
     "name": "stdout",
     "output_type": "stream",
     "text": [
      "RITM$C 404 Client Error: Not Found for url: https://query2.finance.yahoo.com/v10/finance/quoteSummary/RITM$C?modules=summaryProfile%2CfinancialData%2CquoteType%2CdefaultKeyStatistics%2CassetProfile%2CsummaryDetail&ssl=true\n"
     ]
    },
    {
     "name": "stderr",
     "output_type": "stream",
     "text": [
      " 77%|███████▋  | 6535/8460 [1:11:46<33:26,  1.04s/it]"
     ]
    },
    {
     "name": "stdout",
     "output_type": "stream",
     "text": [
      "RITM$D 404 Client Error: Not Found for url: https://query2.finance.yahoo.com/v10/finance/quoteSummary/RITM$D?modules=summaryProfile%2CfinancialData%2CquoteType%2CdefaultKeyStatistics%2CassetProfile%2CsummaryDetail&ssl=true\n"
     ]
    },
    {
     "name": "stderr",
     "output_type": "stream",
     "text": [
      " 77%|███████▋  | 6537/8460 [1:11:47<25:20,  1.27it/s]"
     ]
    },
    {
     "name": "stdout",
     "output_type": "stream",
     "text": [
      "RIV$A 404 Client Error: Not Found for url: https://query2.finance.yahoo.com/v10/finance/quoteSummary/RIV$A?modules=summaryProfile%2CfinancialData%2CquoteType%2CdefaultKeyStatistics%2CassetProfile%2CsummaryDetail&ssl=true\n"
     ]
    },
    {
     "name": "stderr",
     "output_type": "stream",
     "text": [
      " 77%|███████▋  | 6540/8460 [1:11:49<18:43,  1.71it/s]"
     ]
    },
    {
     "name": "stdout",
     "output_type": "stream",
     "text": [
      "RJAC.U 404 Client Error: Not Found for url: https://query2.finance.yahoo.com/v10/finance/quoteSummary/RJAC.U?modules=summaryProfile%2CfinancialData%2CquoteType%2CdefaultKeyStatistics%2CassetProfile%2CsummaryDetail&ssl=true\n"
     ]
    },
    {
     "name": "stderr",
     "output_type": "stream",
     "text": [
      " 77%|███████▋  | 6542/8460 [1:11:50<16:18,  1.96it/s]"
     ]
    },
    {
     "name": "stdout",
     "output_type": "stream",
     "text": [
      "RJF$B 404 Client Error: Not Found for url: https://query2.finance.yahoo.com/v10/finance/quoteSummary/RJF$B?modules=summaryProfile%2CfinancialData%2CquoteType%2CdefaultKeyStatistics%2CassetProfile%2CsummaryDetail&ssl=true\n"
     ]
    },
    {
     "name": "stderr",
     "output_type": "stream",
     "text": [
      " 77%|███████▋  | 6551/8460 [1:11:54<15:27,  2.06it/s]"
     ]
    },
    {
     "name": "stdout",
     "output_type": "stream",
     "text": [
      "RLJ$A 404 Client Error: Not Found for url: https://query2.finance.yahoo.com/v10/finance/quoteSummary/RLJ$A?modules=summaryProfile%2CfinancialData%2CquoteType%2CdefaultKeyStatistics%2CassetProfile%2CsummaryDetail&ssl=true\n"
     ]
    },
    {
     "name": "stderr",
     "output_type": "stream",
     "text": [
      " 78%|███████▊  | 6571/8460 [1:12:06<15:33,  2.02it/s]"
     ]
    },
    {
     "name": "stdout",
     "output_type": "stream",
     "text": [
      "RMPL$ 404 Client Error: Not Found for url: https://query2.finance.yahoo.com/v10/finance/quoteSummary/RMPL$?modules=summaryProfile%2CfinancialData%2CquoteType%2CdefaultKeyStatistics%2CassetProfile%2CsummaryDetail&ssl=true\n"
     ]
    },
    {
     "name": "stderr",
     "output_type": "stream",
     "text": [
      " 78%|███████▊  | 6582/8460 [1:12:12<16:40,  1.88it/s]"
     ]
    },
    {
     "name": "stdout",
     "output_type": "stream",
     "text": [
      "RNR$F 404 Client Error: Not Found for url: https://query2.finance.yahoo.com/v10/finance/quoteSummary/RNR$F?modules=summaryProfile%2CfinancialData%2CquoteType%2CdefaultKeyStatistics%2CassetProfile%2CsummaryDetail&ssl=true\n"
     ]
    },
    {
     "name": "stderr",
     "output_type": "stream",
     "text": [
      " 78%|███████▊  | 6583/8460 [1:12:13<14:21,  2.18it/s]"
     ]
    },
    {
     "name": "stdout",
     "output_type": "stream",
     "text": [
      "RNR$G 404 Client Error: Not Found for url: https://query2.finance.yahoo.com/v10/finance/quoteSummary/RNR$G?modules=summaryProfile%2CfinancialData%2CquoteType%2CdefaultKeyStatistics%2CassetProfile%2CsummaryDetail&ssl=true\n"
     ]
    },
    {
     "name": "stderr",
     "output_type": "stream",
     "text": [
      " 78%|███████▊  | 6608/8460 [1:12:27<14:56,  2.07it/s]"
     ]
    },
    {
     "name": "stdout",
     "output_type": "stream",
     "text": [
      "RONI.U 404 Client Error: Not Found for url: https://query2.finance.yahoo.com/v10/finance/quoteSummary/RONI.U?modules=summaryProfile%2CfinancialData%2CquoteType%2CdefaultKeyStatistics%2CassetProfile%2CsummaryDetail&ssl=true\n"
     ]
    },
    {
     "name": "stderr",
     "output_type": "stream",
     "text": [
      " 78%|███████▊  | 6609/8460 [1:12:27<13:18,  2.32it/s]"
     ]
    },
    {
     "name": "stdout",
     "output_type": "stream",
     "text": [
      "RONI.W 404 Client Error: Not Found for url: https://query2.finance.yahoo.com/v10/finance/quoteSummary/RONI.W?modules=summaryProfile%2CfinancialData%2CquoteType%2CdefaultKeyStatistics%2CassetProfile%2CsummaryDetail&ssl=true\n"
     ]
    },
    {
     "name": "stderr",
     "output_type": "stream",
     "text": [
      " 78%|███████▊  | 6616/8460 [1:12:32<19:10,  1.60it/s]"
     ]
    },
    {
     "name": "stdout",
     "output_type": "stream",
     "text": [
      "ROSS.U 404 Client Error: Not Found for url: https://query2.finance.yahoo.com/v10/finance/quoteSummary/ROSS.U?modules=summaryProfile%2CfinancialData%2CquoteType%2CdefaultKeyStatistics%2CassetProfile%2CsummaryDetail&ssl=true\n"
     ]
    },
    {
     "name": "stderr",
     "output_type": "stream",
     "text": [
      " 78%|███████▊  | 6617/8460 [1:12:33<16:24,  1.87it/s]"
     ]
    },
    {
     "name": "stdout",
     "output_type": "stream",
     "text": [
      "ROSS.W 404 Client Error: Not Found for url: https://query2.finance.yahoo.com/v10/finance/quoteSummary/ROSS.W?modules=summaryProfile%2CfinancialData%2CquoteType%2CdefaultKeyStatistics%2CassetProfile%2CsummaryDetail&ssl=true\n"
     ]
    },
    {
     "name": "stderr",
     "output_type": "stream",
     "text": [
      " 78%|███████▊  | 6627/8460 [1:12:38<15:33,  1.96it/s]"
     ]
    },
    {
     "name": "stdout",
     "output_type": "stream",
     "text": [
      "RPT$D 404 Client Error: Not Found for url: https://query2.finance.yahoo.com/v10/finance/quoteSummary/RPT$D?modules=summaryProfile%2CfinancialData%2CquoteType%2CdefaultKeyStatistics%2CassetProfile%2CsummaryDetail&ssl=true\n"
     ]
    },
    {
     "name": "stderr",
     "output_type": "stream",
     "text": [
      " 78%|███████▊  | 6631/8460 [1:12:40<14:19,  2.13it/s]"
     ]
    },
    {
     "name": "stdout",
     "output_type": "stream",
     "text": [
      "RRAC.U 404 Client Error: Not Found for url: https://query2.finance.yahoo.com/v10/finance/quoteSummary/RRAC.U?modules=summaryProfile%2CfinancialData%2CquoteType%2CdefaultKeyStatistics%2CassetProfile%2CsummaryDetail&ssl=true\n"
     ]
    },
    {
     "name": "stderr",
     "output_type": "stream",
     "text": [
      " 78%|███████▊  | 6632/8460 [1:12:40<12:18,  2.48it/s]"
     ]
    },
    {
     "name": "stdout",
     "output_type": "stream",
     "text": [
      "RRAC.W 404 Client Error: Not Found for url: https://query2.finance.yahoo.com/v10/finance/quoteSummary/RRAC.W?modules=summaryProfile%2CfinancialData%2CquoteType%2CdefaultKeyStatistics%2CassetProfile%2CsummaryDetail&ssl=true\n"
     ]
    },
    {
     "name": "stderr",
     "output_type": "stream",
     "text": [
      " 79%|███████▉  | 6680/8460 [1:13:09<14:33,  2.04it/s]"
     ]
    },
    {
     "name": "stdout",
     "output_type": "stream",
     "text": [
      "RWT$A 404 Client Error: Not Found for url: https://query2.finance.yahoo.com/v10/finance/quoteSummary/RWT$A?modules=summaryProfile%2CfinancialData%2CquoteType%2CdefaultKeyStatistics%2CassetProfile%2CsummaryDetail&ssl=true\n"
     ]
    },
    {
     "name": "stderr",
     "output_type": "stream",
     "text": [
      " 79%|███████▉  | 6687/8460 [1:13:13<14:41,  2.01it/s]"
     ]
    },
    {
     "name": "stdout",
     "output_type": "stream",
     "text": [
      "RY$T 404 Client Error: Not Found for url: https://query2.finance.yahoo.com/v10/finance/quoteSummary/RY$T?modules=summaryProfile%2CfinancialData%2CquoteType%2CdefaultKeyStatistics%2CassetProfile%2CsummaryDetail&ssl=true\n"
     ]
    },
    {
     "name": "stderr",
     "output_type": "stream",
     "text": [
      " 79%|███████▉  | 6705/8460 [1:13:24<14:32,  2.01it/s]"
     ]
    },
    {
     "name": "stdout",
     "output_type": "stream",
     "text": [
      "SACH$A 404 Client Error: Not Found for url: https://query2.finance.yahoo.com/v10/finance/quoteSummary/SACH$A?modules=summaryProfile%2CfinancialData%2CquoteType%2CdefaultKeyStatistics%2CassetProfile%2CsummaryDetail&ssl=true\n"
     ]
    },
    {
     "name": "stderr",
     "output_type": "stream",
     "text": [
      " 80%|███████▉  | 6740/8460 [1:13:49<15:11,  1.89it/s]"
     ]
    },
    {
     "name": "stdout",
     "output_type": "stream",
     "text": [
      "SATX.A 404 Client Error: Not Found for url: https://query2.finance.yahoo.com/v10/finance/quoteSummary/SATX.A?modules=summaryProfile%2CfinancialData%2CquoteType%2CdefaultKeyStatistics%2CassetProfile%2CsummaryDetail&ssl=true\n"
     ]
    },
    {
     "name": "stderr",
     "output_type": "stream",
     "text": [
      " 80%|███████▉  | 6746/8460 [1:13:53<18:08,  1.58it/s]"
     ]
    },
    {
     "name": "stdout",
     "output_type": "stream",
     "text": [
      "SB$C 404 Client Error: Not Found for url: https://query2.finance.yahoo.com/v10/finance/quoteSummary/SB$C?modules=summaryProfile%2CfinancialData%2CquoteType%2CdefaultKeyStatistics%2CassetProfile%2CsummaryDetail&ssl=true\n"
     ]
    },
    {
     "name": "stderr",
     "output_type": "stream",
     "text": [
      " 80%|███████▉  | 6747/8460 [1:13:53<15:17,  1.87it/s]"
     ]
    },
    {
     "name": "stdout",
     "output_type": "stream",
     "text": [
      "SB$D 404 Client Error: Not Found for url: https://query2.finance.yahoo.com/v10/finance/quoteSummary/SB$D?modules=summaryProfile%2CfinancialData%2CquoteType%2CdefaultKeyStatistics%2CassetProfile%2CsummaryDetail&ssl=true\n"
     ]
    },
    {
     "name": "stderr",
     "output_type": "stream",
     "text": [
      " 80%|███████▉  | 6753/8460 [1:13:56<14:50,  1.92it/s]"
     ]
    },
    {
     "name": "stdout",
     "output_type": "stream",
     "text": [
      "SBEV.W 404 Client Error: Not Found for url: https://query2.finance.yahoo.com/v10/finance/quoteSummary/SBEV.W?modules=summaryProfile%2CfinancialData%2CquoteType%2CdefaultKeyStatistics%2CassetProfile%2CsummaryDetail&ssl=true\n"
     ]
    },
    {
     "name": "stderr",
     "output_type": "stream",
     "text": [
      " 80%|████████  | 6771/8460 [1:14:07<14:36,  1.93it/s]"
     ]
    },
    {
     "name": "stdout",
     "output_type": "stream",
     "text": [
      "SBXC.U 404 Client Error: Not Found for url: https://query2.finance.yahoo.com/v10/finance/quoteSummary/SBXC.U?modules=summaryProfile%2CfinancialData%2CquoteType%2CdefaultKeyStatistics%2CassetProfile%2CsummaryDetail&ssl=true\n"
     ]
    },
    {
     "name": "stderr",
     "output_type": "stream",
     "text": [
      " 80%|████████  | 6783/8460 [1:14:14<14:18,  1.95it/s]"
     ]
    },
    {
     "name": "stdout",
     "output_type": "stream",
     "text": [
      "SCE$G 404 Client Error: Not Found for url: https://query2.finance.yahoo.com/v10/finance/quoteSummary/SCE$G?modules=summaryProfile%2CfinancialData%2CquoteType%2CdefaultKeyStatistics%2CassetProfile%2CsummaryDetail&ssl=true\n"
     ]
    },
    {
     "name": "stderr",
     "output_type": "stream",
     "text": [
      " 80%|████████  | 6784/8460 [1:14:14<12:30,  2.23it/s]"
     ]
    },
    {
     "name": "stdout",
     "output_type": "stream",
     "text": [
      "SCE$H 404 Client Error: Not Found for url: https://query2.finance.yahoo.com/v10/finance/quoteSummary/SCE$H?modules=summaryProfile%2CfinancialData%2CquoteType%2CdefaultKeyStatistics%2CassetProfile%2CsummaryDetail&ssl=true\n"
     ]
    },
    {
     "name": "stderr",
     "output_type": "stream",
     "text": [
      " 80%|████████  | 6785/8460 [1:14:14<11:18,  2.47it/s]"
     ]
    },
    {
     "name": "stdout",
     "output_type": "stream",
     "text": [
      "SCE$J 404 Client Error: Not Found for url: https://query2.finance.yahoo.com/v10/finance/quoteSummary/SCE$J?modules=summaryProfile%2CfinancialData%2CquoteType%2CdefaultKeyStatistics%2CassetProfile%2CsummaryDetail&ssl=true\n"
     ]
    },
    {
     "name": "stderr",
     "output_type": "stream",
     "text": [
      " 80%|████████  | 6786/8460 [1:14:15<10:26,  2.67it/s]"
     ]
    },
    {
     "name": "stdout",
     "output_type": "stream",
     "text": [
      "SCE$K 404 Client Error: Not Found for url: https://query2.finance.yahoo.com/v10/finance/quoteSummary/SCE$K?modules=summaryProfile%2CfinancialData%2CquoteType%2CdefaultKeyStatistics%2CassetProfile%2CsummaryDetail&ssl=true\n"
     ]
    },
    {
     "name": "stderr",
     "output_type": "stream",
     "text": [
      " 80%|████████  | 6787/8460 [1:14:15<10:10,  2.74it/s]"
     ]
    },
    {
     "name": "stdout",
     "output_type": "stream",
     "text": [
      "SCE$L 404 Client Error: Not Found for url: https://query2.finance.yahoo.com/v10/finance/quoteSummary/SCE$L?modules=summaryProfile%2CfinancialData%2CquoteType%2CdefaultKeyStatistics%2CassetProfile%2CsummaryDetail&ssl=true\n"
     ]
    },
    {
     "name": "stderr",
     "output_type": "stream",
     "text": [
      " 80%|████████  | 6791/8460 [1:14:17<12:04,  2.30it/s]"
     ]
    },
    {
     "name": "stdout",
     "output_type": "stream",
     "text": [
      "SCHW$D 404 Client Error: Not Found for url: https://query2.finance.yahoo.com/v10/finance/quoteSummary/SCHW$D?modules=summaryProfile%2CfinancialData%2CquoteType%2CdefaultKeyStatistics%2CassetProfile%2CsummaryDetail&ssl=true\n"
     ]
    },
    {
     "name": "stderr",
     "output_type": "stream",
     "text": [
      " 80%|████████  | 6792/8460 [1:14:17<10:53,  2.55it/s]"
     ]
    },
    {
     "name": "stdout",
     "output_type": "stream",
     "text": [
      "SCHW$J 404 Client Error: Not Found for url: https://query2.finance.yahoo.com/v10/finance/quoteSummary/SCHW$J?modules=summaryProfile%2CfinancialData%2CquoteType%2CdefaultKeyStatistics%2CassetProfile%2CsummaryDetail&ssl=true\n"
     ]
    },
    {
     "name": "stderr",
     "output_type": "stream",
     "text": [
      " 80%|████████  | 6810/8460 [1:14:28<14:17,  1.92it/s]"
     ]
    },
    {
     "name": "stdout",
     "output_type": "stream",
     "text": [
      "SCUA.U 404 Client Error: Not Found for url: https://query2.finance.yahoo.com/v10/finance/quoteSummary/SCUA.U?modules=summaryProfile%2CfinancialData%2CquoteType%2CdefaultKeyStatistics%2CassetProfile%2CsummaryDetail&ssl=true\n"
     ]
    },
    {
     "name": "stderr",
     "output_type": "stream",
     "text": [
      " 81%|████████  | 6811/8460 [1:14:28<13:40,  2.01it/s]"
     ]
    },
    {
     "name": "stdout",
     "output_type": "stream",
     "text": [
      "SCUA.W 404 Client Error: Not Found for url: https://query2.finance.yahoo.com/v10/finance/quoteSummary/SCUA.W?modules=summaryProfile%2CfinancialData%2CquoteType%2CdefaultKeyStatistics%2CassetProfile%2CsummaryDetail&ssl=true\n"
     ]
    },
    {
     "name": "stderr",
     "output_type": "stream",
     "text": [
      " 81%|████████  | 6829/8460 [1:14:39<13:52,  1.96it/s]"
     ]
    },
    {
     "name": "stdout",
     "output_type": "stream",
     "text": [
      "SEAL$A 404 Client Error: Not Found for url: https://query2.finance.yahoo.com/v10/finance/quoteSummary/SEAL$A?modules=summaryProfile%2CfinancialData%2CquoteType%2CdefaultKeyStatistics%2CassetProfile%2CsummaryDetail&ssl=true\n"
     ]
    },
    {
     "name": "stderr",
     "output_type": "stream",
     "text": [
      " 81%|████████  | 6830/8460 [1:14:39<11:59,  2.27it/s]"
     ]
    },
    {
     "name": "stdout",
     "output_type": "stream",
     "text": [
      "SEAL$B 404 Client Error: Not Found for url: https://query2.finance.yahoo.com/v10/finance/quoteSummary/SEAL$B?modules=summaryProfile%2CfinancialData%2CquoteType%2CdefaultKeyStatistics%2CassetProfile%2CsummaryDetail&ssl=true\n"
     ]
    },
    {
     "name": "stderr",
     "output_type": "stream",
     "text": [
      " 81%|████████  | 6837/8460 [1:14:43<12:45,  2.12it/s]"
     ]
    },
    {
     "name": "stdout",
     "output_type": "stream",
     "text": [
      "SEDA.U 404 Client Error: Not Found for url: https://query2.finance.yahoo.com/v10/finance/quoteSummary/SEDA.U?modules=summaryProfile%2CfinancialData%2CquoteType%2CdefaultKeyStatistics%2CassetProfile%2CsummaryDetail&ssl=true\n"
     ]
    },
    {
     "name": "stderr",
     "output_type": "stream",
     "text": [
      " 81%|████████  | 6838/8460 [1:14:43<11:16,  2.40it/s]"
     ]
    },
    {
     "name": "stdout",
     "output_type": "stream",
     "text": [
      "SEDA.W 404 Client Error: Not Found for url: https://query2.finance.yahoo.com/v10/finance/quoteSummary/SEDA.W?modules=summaryProfile%2CfinancialData%2CquoteType%2CdefaultKeyStatistics%2CassetProfile%2CsummaryDetail&ssl=true\n"
     ]
    },
    {
     "name": "stderr",
     "output_type": "stream",
     "text": [
      " 81%|████████  | 6857/8460 [1:14:54<13:42,  1.95it/s]"
     ]
    },
    {
     "name": "stdout",
     "output_type": "stream",
     "text": [
      "SES.W 404 Client Error: Not Found for url: https://query2.finance.yahoo.com/v10/finance/quoteSummary/SES.W?modules=summaryProfile%2CfinancialData%2CquoteType%2CdefaultKeyStatistics%2CassetProfile%2CsummaryDetail&ssl=true\n"
     ]
    },
    {
     "name": "stderr",
     "output_type": "stream",
     "text": [
      " 81%|████████  | 6861/8460 [1:14:57<13:06,  2.03it/s]"
     ]
    },
    {
     "name": "stdout",
     "output_type": "stream",
     "text": [
      "SF$B 404 Client Error: Not Found for url: https://query2.finance.yahoo.com/v10/finance/quoteSummary/SF$B?modules=summaryProfile%2CfinancialData%2CquoteType%2CdefaultKeyStatistics%2CassetProfile%2CsummaryDetail&ssl=true\n"
     ]
    },
    {
     "name": "stderr",
     "output_type": "stream",
     "text": [
      " 81%|████████  | 6862/8460 [1:14:57<11:19,  2.35it/s]"
     ]
    },
    {
     "name": "stdout",
     "output_type": "stream",
     "text": [
      "SF$C 404 Client Error: Not Found for url: https://query2.finance.yahoo.com/v10/finance/quoteSummary/SF$C?modules=summaryProfile%2CfinancialData%2CquoteType%2CdefaultKeyStatistics%2CassetProfile%2CsummaryDetail&ssl=true\n"
     ]
    },
    {
     "name": "stderr",
     "output_type": "stream",
     "text": [
      " 81%|████████  | 6863/8460 [1:14:57<10:31,  2.53it/s]"
     ]
    },
    {
     "name": "stdout",
     "output_type": "stream",
     "text": [
      "SF$D 404 Client Error: Not Found for url: https://query2.finance.yahoo.com/v10/finance/quoteSummary/SF$D?modules=summaryProfile%2CfinancialData%2CquoteType%2CdefaultKeyStatistics%2CassetProfile%2CsummaryDetail&ssl=true\n"
     ]
    },
    {
     "name": "stderr",
     "output_type": "stream",
     "text": [
      " 82%|████████▏ | 6902/8460 [1:15:20<13:05,  1.98it/s]"
     ]
    },
    {
     "name": "stdout",
     "output_type": "stream",
     "text": [
      "SHAP.U 404 Client Error: Not Found for url: https://query2.finance.yahoo.com/v10/finance/quoteSummary/SHAP.U?modules=summaryProfile%2CfinancialData%2CquoteType%2CdefaultKeyStatistics%2CassetProfile%2CsummaryDetail&ssl=true\n"
     ]
    },
    {
     "name": "stderr",
     "output_type": "stream",
     "text": [
      " 82%|████████▏ | 6903/8460 [1:15:20<11:16,  2.30it/s]"
     ]
    },
    {
     "name": "stdout",
     "output_type": "stream",
     "text": [
      "SHAP.W 404 Client Error: Not Found for url: https://query2.finance.yahoo.com/v10/finance/quoteSummary/SHAP.W?modules=summaryProfile%2CfinancialData%2CquoteType%2CdefaultKeyStatistics%2CassetProfile%2CsummaryDetail&ssl=true\n"
     ]
    },
    {
     "name": "stderr",
     "output_type": "stream",
     "text": [
      " 82%|████████▏ | 6918/8460 [1:15:29<12:49,  2.00it/s]"
     ]
    },
    {
     "name": "stdout",
     "output_type": "stream",
     "text": [
      "SHO$H 404 Client Error: Not Found for url: https://query2.finance.yahoo.com/v10/finance/quoteSummary/SHO$H?modules=summaryProfile%2CfinancialData%2CquoteType%2CdefaultKeyStatistics%2CassetProfile%2CsummaryDetail&ssl=true\n"
     ]
    },
    {
     "name": "stderr",
     "output_type": "stream",
     "text": [
      " 82%|████████▏ | 6919/8460 [1:15:29<11:00,  2.33it/s]"
     ]
    },
    {
     "name": "stdout",
     "output_type": "stream",
     "text": [
      "SHO$I 404 Client Error: Not Found for url: https://query2.finance.yahoo.com/v10/finance/quoteSummary/SHO$I?modules=summaryProfile%2CfinancialData%2CquoteType%2CdefaultKeyStatistics%2CassetProfile%2CsummaryDetail&ssl=true\n"
     ]
    },
    {
     "name": "stderr",
     "output_type": "stream",
     "text": [
      " 82%|████████▏ | 6924/8460 [1:15:32<11:57,  2.14it/s]"
     ]
    },
    {
     "name": "stdout",
     "output_type": "stream",
     "text": [
      "SHPW.W 404 Client Error: Not Found for url: https://query2.finance.yahoo.com/v10/finance/quoteSummary/SHPW.W?modules=summaryProfile%2CfinancialData%2CquoteType%2CdefaultKeyStatistics%2CassetProfile%2CsummaryDetail&ssl=true\n"
     ]
    },
    {
     "name": "stderr",
     "output_type": "stream",
     "text": [
      " 82%|████████▏ | 6931/8460 [1:15:38<26:03,  1.02s/it]"
     ]
    },
    {
     "name": "stdout",
     "output_type": "stream",
     "text": [
      "SI$A 404 Client Error: Not Found for url: https://query2.finance.yahoo.com/v10/finance/quoteSummary/SI$A?modules=summaryProfile%2CfinancialData%2CquoteType%2CdefaultKeyStatistics%2CassetProfile%2CsummaryDetail&ssl=true\n"
     ]
    },
    {
     "name": "stderr",
     "output_type": "stream",
     "text": [
      " 82%|████████▏ | 6955/8460 [1:15:59<12:16,  2.04it/s]"
     ]
    },
    {
     "name": "stdout",
     "output_type": "stream",
     "text": [
      "SITC$A 404 Client Error: Not Found for url: https://query2.finance.yahoo.com/v10/finance/quoteSummary/SITC$A?modules=summaryProfile%2CfinancialData%2CquoteType%2CdefaultKeyStatistics%2CassetProfile%2CsummaryDetail&ssl=true\n"
     ]
    },
    {
     "name": "stderr",
     "output_type": "stream",
     "text": [
      " 82%|████████▏ | 6968/8460 [1:16:18<35:43,  1.44s/it]"
     ]
    },
    {
     "name": "stdout",
     "output_type": "stream",
     "text": [
      "SKIL.W 404 Client Error: Not Found for url: https://query2.finance.yahoo.com/v10/finance/quoteSummary/SKIL.W?modules=summaryProfile%2CfinancialData%2CquoteType%2CdefaultKeyStatistics%2CassetProfile%2CsummaryDetail&ssl=true\n"
     ]
    },
    {
     "name": "stderr",
     "output_type": "stream",
     "text": [
      " 83%|████████▎ | 6980/8460 [1:16:25<12:19,  2.00it/s]"
     ]
    },
    {
     "name": "stdout",
     "output_type": "stream",
     "text": [
      "SKYH.W 404 Client Error: Not Found for url: https://query2.finance.yahoo.com/v10/finance/quoteSummary/SKYH.W?modules=summaryProfile%2CfinancialData%2CquoteType%2CdefaultKeyStatistics%2CassetProfile%2CsummaryDetail&ssl=true\n"
     ]
    },
    {
     "name": "stderr",
     "output_type": "stream",
     "text": [
      " 83%|████████▎ | 6998/8460 [1:16:39<29:23,  1.21s/it]"
     ]
    },
    {
     "name": "stdout",
     "output_type": "stream",
     "text": [
      "SLG$I 404 Client Error: Not Found for url: https://query2.finance.yahoo.com/v10/finance/quoteSummary/SLG$I?modules=summaryProfile%2CfinancialData%2CquoteType%2CdefaultKeyStatistics%2CassetProfile%2CsummaryDetail&ssl=true\n"
     ]
    },
    {
     "name": "stderr",
     "output_type": "stream",
     "text": [
      " 83%|████████▎ | 7011/8460 [1:16:54<14:49,  1.63it/s]"
     ]
    },
    {
     "name": "stdout",
     "output_type": "stream",
     "text": [
      "SLND.W 404 Client Error: Not Found for url: https://query2.finance.yahoo.com/v10/finance/quoteSummary/SLND.W?modules=summaryProfile%2CfinancialData%2CquoteType%2CdefaultKeyStatistics%2CassetProfile%2CsummaryDetail&ssl=true\n"
     ]
    },
    {
     "name": "stderr",
     "output_type": "stream",
     "text": [
      " 83%|████████▎ | 7047/8460 [1:17:16<12:01,  1.96it/s]"
     ]
    },
    {
     "name": "stdout",
     "output_type": "stream",
     "text": [
      "SMR.W 404 Client Error: Not Found for url: https://query2.finance.yahoo.com/v10/finance/quoteSummary/SMR.W?modules=summaryProfile%2CfinancialData%2CquoteType%2CdefaultKeyStatistics%2CassetProfile%2CsummaryDetail&ssl=true\n"
     ]
    },
    {
     "name": "stderr",
     "output_type": "stream",
     "text": [
      " 84%|████████▍ | 7089/8460 [1:17:40<11:14,  2.03it/s]"
     ]
    },
    {
     "name": "stdout",
     "output_type": "stream",
     "text": [
      "SNV$D 404 Client Error: Not Found for url: https://query2.finance.yahoo.com/v10/finance/quoteSummary/SNV$D?modules=summaryProfile%2CfinancialData%2CquoteType%2CdefaultKeyStatistics%2CassetProfile%2CsummaryDetail&ssl=true\n"
     ]
    },
    {
     "name": "stderr",
     "output_type": "stream",
     "text": [
      " 84%|████████▍ | 7090/8460 [1:17:40<09:36,  2.38it/s]"
     ]
    },
    {
     "name": "stdout",
     "output_type": "stream",
     "text": [
      "SNV$E 404 Client Error: Not Found for url: https://query2.finance.yahoo.com/v10/finance/quoteSummary/SNV$E?modules=summaryProfile%2CfinancialData%2CquoteType%2CdefaultKeyStatistics%2CassetProfile%2CsummaryDetail&ssl=true\n"
     ]
    },
    {
     "name": "stderr",
     "output_type": "stream",
     "text": [
      " 84%|████████▍ | 7133/8460 [1:18:07<12:28,  1.77it/s]"
     ]
    },
    {
     "name": "stdout",
     "output_type": "stream",
     "text": [
      "SPE$C 404 Client Error: Not Found for url: https://query2.finance.yahoo.com/v10/finance/quoteSummary/SPE$C?modules=summaryProfile%2CfinancialData%2CquoteType%2CdefaultKeyStatistics%2CassetProfile%2CsummaryDetail&ssl=true\n"
     ]
    },
    {
     "name": "stderr",
     "output_type": "stream",
     "text": [
      " 84%|████████▍ | 7136/8460 [1:18:08<10:57,  2.01it/s]"
     ]
    },
    {
     "name": "stdout",
     "output_type": "stream",
     "text": [
      "SPG$J 404 Client Error: Not Found for url: https://query2.finance.yahoo.com/v10/finance/quoteSummary/SPG$J?modules=summaryProfile%2CfinancialData%2CquoteType%2CdefaultKeyStatistics%2CassetProfile%2CsummaryDetail&ssl=true\n"
     ]
    },
    {
     "name": "stderr",
     "output_type": "stream",
     "text": [
      " 84%|████████▍ | 7144/8460 [1:18:13<10:53,  2.01it/s]"
     ]
    },
    {
     "name": "stdout",
     "output_type": "stream",
     "text": [
      "SPLP$A 404 Client Error: Not Found for url: https://query2.finance.yahoo.com/v10/finance/quoteSummary/SPLP$A?modules=summaryProfile%2CfinancialData%2CquoteType%2CdefaultKeyStatistics%2CassetProfile%2CsummaryDetail&ssl=true\n"
     ]
    },
    {
     "name": "stderr",
     "output_type": "stream",
     "text": [
      " 84%|████████▍ | 7147/8460 [1:18:14<10:27,  2.09it/s]"
     ]
    },
    {
     "name": "stdout",
     "output_type": "stream",
     "text": [
      "SPNT$B 404 Client Error: Not Found for url: https://query2.finance.yahoo.com/v10/finance/quoteSummary/SPNT$B?modules=summaryProfile%2CfinancialData%2CquoteType%2CdefaultKeyStatistics%2CassetProfile%2CsummaryDetail&ssl=true\n"
     ]
    },
    {
     "name": "stderr",
     "output_type": "stream",
     "text": [
      " 85%|████████▍ | 7175/8460 [1:18:37<31:10,  1.46s/it]"
     ]
    },
    {
     "name": "stdout",
     "output_type": "stream",
     "text": [
      "SR$A 404 Client Error: Not Found for url: https://query2.finance.yahoo.com/v10/finance/quoteSummary/SR$A?modules=summaryProfile%2CfinancialData%2CquoteType%2CdefaultKeyStatistics%2CassetProfile%2CsummaryDetail&ssl=true\n"
     ]
    },
    {
     "name": "stderr",
     "output_type": "stream",
     "text": [
      " 85%|████████▍ | 7178/8460 [1:18:42<30:05,  1.41s/it]"
     ]
    },
    {
     "name": "stdout",
     "output_type": "stream",
     "text": [
      "SRC$A 404 Client Error: Not Found for url: https://query2.finance.yahoo.com/v10/finance/quoteSummary/SRC$A?modules=summaryProfile%2CfinancialData%2CquoteType%2CdefaultKeyStatistics%2CassetProfile%2CsummaryDetail&ssl=true\n"
     ]
    },
    {
     "name": "stderr",
     "output_type": "stream",
     "text": [
      " 85%|████████▍ | 7185/8460 [1:18:50<22:21,  1.05s/it]"
     ]
    },
    {
     "name": "stdout",
     "output_type": "stream",
     "text": [
      "SRG$A 404 Client Error: Not Found for url: https://query2.finance.yahoo.com/v10/finance/quoteSummary/SRG$A?modules=summaryProfile%2CfinancialData%2CquoteType%2CdefaultKeyStatistics%2CassetProfile%2CsummaryDetail&ssl=true\n"
     ]
    },
    {
     "name": "stderr",
     "output_type": "stream",
     "text": [
      " 85%|████████▌ | 7210/8460 [1:19:11<10:42,  1.94it/s]"
     ]
    },
    {
     "name": "stdout",
     "output_type": "stream",
     "text": [
      "SST.W 404 Client Error: Not Found for url: https://query2.finance.yahoo.com/v10/finance/quoteSummary/SST.W?modules=summaryProfile%2CfinancialData%2CquoteType%2CdefaultKeyStatistics%2CassetProfile%2CsummaryDetail&ssl=true\n"
     ]
    },
    {
     "name": "stderr",
     "output_type": "stream",
     "text": [
      " 85%|████████▌ | 7214/8460 [1:19:13<10:08,  2.05it/s]"
     ]
    },
    {
     "name": "stdout",
     "output_type": "stream",
     "text": [
      "SSU.W 404 Client Error: Not Found for url: https://query2.finance.yahoo.com/v10/finance/quoteSummary/SSU.W?modules=summaryProfile%2CfinancialData%2CquoteType%2CdefaultKeyStatistics%2CassetProfile%2CsummaryDetail&ssl=true\n"
     ]
    },
    {
     "name": "stderr",
     "output_type": "stream",
     "text": [
      " 85%|████████▌ | 7231/8460 [1:19:23<10:15,  2.00it/s]"
     ]
    },
    {
     "name": "stdout",
     "output_type": "stream",
     "text": [
      "STET.U 404 Client Error: Not Found for url: https://query2.finance.yahoo.com/v10/finance/quoteSummary/STET.U?modules=summaryProfile%2CfinancialData%2CquoteType%2CdefaultKeyStatistics%2CassetProfile%2CsummaryDetail&ssl=true\n"
     ]
    },
    {
     "name": "stderr",
     "output_type": "stream",
     "text": [
      " 85%|████████▌ | 7232/8460 [1:19:23<09:00,  2.27it/s]"
     ]
    },
    {
     "name": "stdout",
     "output_type": "stream",
     "text": [
      "STET.W 404 Client Error: Not Found for url: https://query2.finance.yahoo.com/v10/finance/quoteSummary/STET.W?modules=summaryProfile%2CfinancialData%2CquoteType%2CdefaultKeyStatistics%2CassetProfile%2CsummaryDetail&ssl=true\n"
     ]
    },
    {
     "name": "stderr",
     "output_type": "stream",
     "text": [
      " 86%|████████▌ | 7252/8460 [1:19:35<10:03,  2.00it/s]"
     ]
    },
    {
     "name": "stdout",
     "output_type": "stream",
     "text": [
      "STR.W 404 Client Error: Not Found for url: https://query2.finance.yahoo.com/v10/finance/quoteSummary/STR.W?modules=summaryProfile%2CfinancialData%2CquoteType%2CdefaultKeyStatistics%2CassetProfile%2CsummaryDetail&ssl=true\n"
     ]
    },
    {
     "name": "stderr",
     "output_type": "stream",
     "text": [
      " 86%|████████▌ | 7268/8460 [1:19:51<10:55,  1.82it/s]"
     ]
    },
    {
     "name": "stdout",
     "output_type": "stream",
     "text": [
      "STT$D 404 Client Error: Not Found for url: https://query2.finance.yahoo.com/v10/finance/quoteSummary/STT$D?modules=summaryProfile%2CfinancialData%2CquoteType%2CdefaultKeyStatistics%2CassetProfile%2CsummaryDetail&ssl=true\n"
     ]
    },
    {
     "name": "stderr",
     "output_type": "stream",
     "text": [
      " 86%|████████▌ | 7269/8460 [1:19:51<09:11,  2.16it/s]"
     ]
    },
    {
     "name": "stdout",
     "output_type": "stream",
     "text": [
      "STT$G 404 Client Error: Not Found for url: https://query2.finance.yahoo.com/v10/finance/quoteSummary/STT$G?modules=summaryProfile%2CfinancialData%2CquoteType%2CdefaultKeyStatistics%2CassetProfile%2CsummaryDetail&ssl=true\n"
     ]
    },
    {
     "name": "stderr",
     "output_type": "stream",
     "text": [
      " 86%|████████▌ | 7278/8460 [1:19:56<10:16,  1.92it/s]"
     ]
    },
    {
     "name": "stdout",
     "output_type": "stream",
     "text": [
      "SUAC.U 404 Client Error: Not Found for url: https://query2.finance.yahoo.com/v10/finance/quoteSummary/SUAC.U?modules=summaryProfile%2CfinancialData%2CquoteType%2CdefaultKeyStatistics%2CassetProfile%2CsummaryDetail&ssl=true\n"
     ]
    },
    {
     "name": "stderr",
     "output_type": "stream",
     "text": [
      " 86%|████████▌ | 7279/8460 [1:19:56<08:54,  2.21it/s]"
     ]
    },
    {
     "name": "stdout",
     "output_type": "stream",
     "text": [
      "SUAC.W 404 Client Error: Not Found for url: https://query2.finance.yahoo.com/v10/finance/quoteSummary/SUAC.W?modules=summaryProfile%2CfinancialData%2CquoteType%2CdefaultKeyStatistics%2CassetProfile%2CsummaryDetail&ssl=true\n"
     ]
    },
    {
     "name": "stderr",
     "output_type": "stream",
     "text": [
      " 86%|████████▌ | 7285/8460 [1:20:00<09:58,  1.96it/s]"
     ]
    },
    {
     "name": "stdout",
     "output_type": "stream",
     "text": [
      "SUNL.W 404 Client Error: Not Found for url: https://query2.finance.yahoo.com/v10/finance/quoteSummary/SUNL.W?modules=summaryProfile%2CfinancialData%2CquoteType%2CdefaultKeyStatistics%2CassetProfile%2CsummaryDetail&ssl=true\n"
     ]
    },
    {
     "name": "stderr",
     "output_type": "stream",
     "text": [
      " 87%|████████▋ | 7336/8460 [1:20:29<09:17,  2.02it/s]"
     ]
    },
    {
     "name": "stdout",
     "output_type": "stream",
     "text": [
      "SYF$A 404 Client Error: Not Found for url: https://query2.finance.yahoo.com/v10/finance/quoteSummary/SYF$A?modules=summaryProfile%2CfinancialData%2CquoteType%2CdefaultKeyStatistics%2CassetProfile%2CsummaryDetail&ssl=true\n"
     ]
    },
    {
     "name": "stderr",
     "output_type": "stream",
     "text": [
      " 87%|████████▋ | 7351/8460 [1:20:38<09:01,  2.05it/s]"
     ]
    },
    {
     "name": "stdout",
     "output_type": "stream",
     "text": [
      "T$A 404 Client Error: Not Found for url: https://query2.finance.yahoo.com/v10/finance/quoteSummary/T$A?modules=summaryProfile%2CfinancialData%2CquoteType%2CdefaultKeyStatistics%2CassetProfile%2CsummaryDetail&ssl=true\n"
     ]
    },
    {
     "name": "stderr",
     "output_type": "stream",
     "text": [
      " 87%|████████▋ | 7352/8460 [1:20:38<07:46,  2.38it/s]"
     ]
    },
    {
     "name": "stdout",
     "output_type": "stream",
     "text": [
      "T$C 404 Client Error: Not Found for url: https://query2.finance.yahoo.com/v10/finance/quoteSummary/T$C?modules=summaryProfile%2CfinancialData%2CquoteType%2CdefaultKeyStatistics%2CassetProfile%2CsummaryDetail&ssl=true\n"
     ]
    },
    {
     "name": "stderr",
     "output_type": "stream",
     "text": [
      " 87%|████████▋ | 7369/8460 [1:20:48<08:54,  2.04it/s]"
     ]
    },
    {
     "name": "stdout",
     "output_type": "stream",
     "text": [
      "TAP.A 404 Client Error: Not Found for url: https://query2.finance.yahoo.com/v10/finance/quoteSummary/TAP.A?modules=summaryProfile%2CfinancialData%2CquoteType%2CdefaultKeyStatistics%2CassetProfile%2CsummaryDetail&ssl=true\n"
     ]
    },
    {
     "name": "stderr",
     "output_type": "stream",
     "text": [
      " 88%|████████▊ | 7408/8460 [1:21:11<08:36,  2.04it/s]"
     ]
    },
    {
     "name": "stdout",
     "output_type": "stream",
     "text": [
      "TCOA.U 404 Client Error: Not Found for url: https://query2.finance.yahoo.com/v10/finance/quoteSummary/TCOA.U?modules=summaryProfile%2CfinancialData%2CquoteType%2CdefaultKeyStatistics%2CassetProfile%2CsummaryDetail&ssl=true\n"
     ]
    },
    {
     "name": "stderr",
     "output_type": "stream",
     "text": [
      " 88%|████████▊ | 7409/8460 [1:21:11<07:32,  2.32it/s]"
     ]
    },
    {
     "name": "stdout",
     "output_type": "stream",
     "text": [
      "TCOA.W 404 Client Error: Not Found for url: https://query2.finance.yahoo.com/v10/finance/quoteSummary/TCOA.W?modules=summaryProfile%2CfinancialData%2CquoteType%2CdefaultKeyStatistics%2CassetProfile%2CsummaryDetail&ssl=true\n"
     ]
    },
    {
     "name": "stderr",
     "output_type": "stream",
     "text": [
      " 88%|████████▊ | 7425/8460 [1:21:20<08:09,  2.11it/s]"
     ]
    },
    {
     "name": "stdout",
     "output_type": "stream",
     "text": [
      "TDS$U 404 Client Error: Not Found for url: https://query2.finance.yahoo.com/v10/finance/quoteSummary/TDS$U?modules=summaryProfile%2CfinancialData%2CquoteType%2CdefaultKeyStatistics%2CassetProfile%2CsummaryDetail&ssl=true\n"
     ]
    },
    {
     "name": "stderr",
     "output_type": "stream",
     "text": [
      " 88%|████████▊ | 7426/8460 [1:21:20<07:12,  2.39it/s]"
     ]
    },
    {
     "name": "stdout",
     "output_type": "stream",
     "text": [
      "TDS$V 404 Client Error: Not Found for url: https://query2.finance.yahoo.com/v10/finance/quoteSummary/TDS$V?modules=summaryProfile%2CfinancialData%2CquoteType%2CdefaultKeyStatistics%2CassetProfile%2CsummaryDetail&ssl=true\n"
     ]
    },
    {
     "name": "stderr",
     "output_type": "stream",
     "text": [
      " 88%|████████▊ | 7429/8460 [1:21:22<08:59,  1.91it/s]"
     ]
    },
    {
     "name": "stdout",
     "output_type": "stream",
     "text": [
      "TDW.A 404 Client Error: Not Found for url: https://query2.finance.yahoo.com/v10/finance/quoteSummary/TDW.A?modules=summaryProfile%2CfinancialData%2CquoteType%2CdefaultKeyStatistics%2CassetProfile%2CsummaryDetail&ssl=true\n"
     ]
    },
    {
     "name": "stderr",
     "output_type": "stream",
     "text": [
      " 88%|████████▊ | 7431/8460 [1:21:23<07:52,  2.18it/s]"
     ]
    },
    {
     "name": "stdout",
     "output_type": "stream",
     "text": [
      "TDW.W 404 Client Error: Not Found for url: https://query2.finance.yahoo.com/v10/finance/quoteSummary/TDW.W?modules=summaryProfile%2CfinancialData%2CquoteType%2CdefaultKeyStatistics%2CassetProfile%2CsummaryDetail&ssl=true\n"
     ]
    },
    {
     "name": "stderr",
     "output_type": "stream",
     "text": [
      " 88%|████████▊ | 7460/8460 [1:21:40<08:22,  1.99it/s]"
     ]
    },
    {
     "name": "stdout",
     "output_type": "stream",
     "text": [
      "TFC$I 404 Client Error: Not Found for url: https://query2.finance.yahoo.com/v10/finance/quoteSummary/TFC$I?modules=summaryProfile%2CfinancialData%2CquoteType%2CdefaultKeyStatistics%2CassetProfile%2CsummaryDetail&ssl=true\n"
     ]
    },
    {
     "name": "stderr",
     "output_type": "stream",
     "text": [
      " 88%|████████▊ | 7461/8460 [1:21:40<07:29,  2.22it/s]"
     ]
    },
    {
     "name": "stdout",
     "output_type": "stream",
     "text": [
      "TFC$O 404 Client Error: Not Found for url: https://query2.finance.yahoo.com/v10/finance/quoteSummary/TFC$O?modules=summaryProfile%2CfinancialData%2CquoteType%2CdefaultKeyStatistics%2CassetProfile%2CsummaryDetail&ssl=true\n"
     ]
    },
    {
     "name": "stderr",
     "output_type": "stream",
     "text": [
      " 88%|████████▊ | 7462/8460 [1:21:40<06:31,  2.55it/s]"
     ]
    },
    {
     "name": "stdout",
     "output_type": "stream",
     "text": [
      "TFC$R 404 Client Error: Not Found for url: https://query2.finance.yahoo.com/v10/finance/quoteSummary/TFC$R?modules=summaryProfile%2CfinancialData%2CquoteType%2CdefaultKeyStatistics%2CassetProfile%2CsummaryDetail&ssl=true\n"
     ]
    },
    {
     "name": "stderr",
     "output_type": "stream",
     "text": [
      " 88%|████████▊ | 7478/8460 [1:21:49<07:48,  2.10it/s]"
     ]
    },
    {
     "name": "stdout",
     "output_type": "stream",
     "text": [
      "TGH$A 404 Client Error: Not Found for url: https://query2.finance.yahoo.com/v10/finance/quoteSummary/TGH$A?modules=summaryProfile%2CfinancialData%2CquoteType%2CdefaultKeyStatistics%2CassetProfile%2CsummaryDetail&ssl=true\n"
     ]
    },
    {
     "name": "stderr",
     "output_type": "stream",
     "text": [
      " 88%|████████▊ | 7479/8460 [1:21:50<06:42,  2.44it/s]"
     ]
    },
    {
     "name": "stdout",
     "output_type": "stream",
     "text": [
      "TGH$B 404 Client Error: Not Found for url: https://query2.finance.yahoo.com/v10/finance/quoteSummary/TGH$B?modules=summaryProfile%2CfinancialData%2CquoteType%2CdefaultKeyStatistics%2CassetProfile%2CsummaryDetail&ssl=true\n"
     ]
    },
    {
     "name": "stderr",
     "output_type": "stream",
     "text": [
      " 88%|████████▊ | 7485/8460 [1:21:53<07:41,  2.11it/s]"
     ]
    },
    {
     "name": "stdout",
     "output_type": "stream",
     "text": [
      "TGR.U 404 Client Error: Not Found for url: https://query2.finance.yahoo.com/v10/finance/quoteSummary/TGR.U?modules=summaryProfile%2CfinancialData%2CquoteType%2CdefaultKeyStatistics%2CassetProfile%2CsummaryDetail&ssl=true\n"
     ]
    },
    {
     "name": "stderr",
     "output_type": "stream",
     "text": [
      " 88%|████████▊ | 7486/8460 [1:21:53<06:48,  2.39it/s]"
     ]
    },
    {
     "name": "stdout",
     "output_type": "stream",
     "text": [
      "TGR.W 404 Client Error: Not Found for url: https://query2.finance.yahoo.com/v10/finance/quoteSummary/TGR.W?modules=summaryProfile%2CfinancialData%2CquoteType%2CdefaultKeyStatistics%2CassetProfile%2CsummaryDetail&ssl=true\n"
     ]
    },
    {
     "name": "stderr",
     "output_type": "stream",
     "text": [
      " 89%|████████▉ | 7537/8460 [1:22:22<07:08,  2.15it/s]"
     ]
    },
    {
     "name": "stdout",
     "output_type": "stream",
     "text": [
      "TLGA.U 404 Client Error: Not Found for url: https://query2.finance.yahoo.com/v10/finance/quoteSummary/TLGA.U?modules=summaryProfile%2CfinancialData%2CquoteType%2CdefaultKeyStatistics%2CassetProfile%2CsummaryDetail&ssl=true\n"
     ]
    },
    {
     "name": "stderr",
     "output_type": "stream",
     "text": [
      " 90%|████████▉ | 7574/8460 [1:22:43<07:14,  2.04it/s]"
     ]
    },
    {
     "name": "stdout",
     "output_type": "stream",
     "text": [
      "TNP$D 404 Client Error: Not Found for url: https://query2.finance.yahoo.com/v10/finance/quoteSummary/TNP$D?modules=summaryProfile%2CfinancialData%2CquoteType%2CdefaultKeyStatistics%2CassetProfile%2CsummaryDetail&ssl=true\n"
     ]
    },
    {
     "name": "stderr",
     "output_type": "stream",
     "text": [
      " 90%|████████▉ | 7575/8460 [1:22:43<06:20,  2.32it/s]"
     ]
    },
    {
     "name": "stdout",
     "output_type": "stream",
     "text": [
      "TNP$E 404 Client Error: Not Found for url: https://query2.finance.yahoo.com/v10/finance/quoteSummary/TNP$E?modules=summaryProfile%2CfinancialData%2CquoteType%2CdefaultKeyStatistics%2CassetProfile%2CsummaryDetail&ssl=true\n"
     ]
    },
    {
     "name": "stderr",
     "output_type": "stream",
     "text": [
      " 90%|████████▉ | 7576/8460 [1:22:44<05:44,  2.56it/s]"
     ]
    },
    {
     "name": "stdout",
     "output_type": "stream",
     "text": [
      "TNP$F 404 Client Error: Not Found for url: https://query2.finance.yahoo.com/v10/finance/quoteSummary/TNP$F?modules=summaryProfile%2CfinancialData%2CquoteType%2CdefaultKeyStatistics%2CassetProfile%2CsummaryDetail&ssl=true\n"
     ]
    },
    {
     "name": "stderr",
     "output_type": "stream",
     "text": [
      " 90%|████████▉ | 7609/8460 [1:23:03<06:57,  2.04it/s]"
     ]
    },
    {
     "name": "stdout",
     "output_type": "stream",
     "text": [
      "TRAQ.U 404 Client Error: Not Found for url: https://query2.finance.yahoo.com/v10/finance/quoteSummary/TRAQ.U?modules=summaryProfile%2CfinancialData%2CquoteType%2CdefaultKeyStatistics%2CassetProfile%2CsummaryDetail&ssl=true\n"
     ]
    },
    {
     "name": "stderr",
     "output_type": "stream",
     "text": [
      " 90%|████████▉ | 7610/8460 [1:23:03<06:06,  2.32it/s]"
     ]
    },
    {
     "name": "stdout",
     "output_type": "stream",
     "text": [
      "TRAQ.W 404 Client Error: Not Found for url: https://query2.finance.yahoo.com/v10/finance/quoteSummary/TRAQ.W?modules=summaryProfile%2CfinancialData%2CquoteType%2CdefaultKeyStatistics%2CassetProfile%2CsummaryDetail&ssl=true\n"
     ]
    },
    {
     "name": "stderr",
     "output_type": "stream",
     "text": [
      " 90%|████████▉ | 7613/8460 [1:23:04<06:11,  2.28it/s]"
     ]
    },
    {
     "name": "stdout",
     "output_type": "stream",
     "text": [
      "TRCA.U 404 Client Error: Not Found for url: https://query2.finance.yahoo.com/v10/finance/quoteSummary/TRCA.U?modules=summaryProfile%2CfinancialData%2CquoteType%2CdefaultKeyStatistics%2CassetProfile%2CsummaryDetail&ssl=true\n"
     ]
    },
    {
     "name": "stderr",
     "output_type": "stream",
     "text": [
      " 90%|█████████ | 7614/8460 [1:23:05<05:34,  2.53it/s]"
     ]
    },
    {
     "name": "stdout",
     "output_type": "stream",
     "text": [
      "TRCA.W 404 Client Error: Not Found for url: https://query2.finance.yahoo.com/v10/finance/quoteSummary/TRCA.W?modules=summaryProfile%2CfinancialData%2CquoteType%2CdefaultKeyStatistics%2CassetProfile%2CsummaryDetail&ssl=true\n"
     ]
    },
    {
     "name": "stderr",
     "output_type": "stream",
     "text": [
      " 90%|█████████ | 7626/8460 [1:23:12<06:50,  2.03it/s]"
     ]
    },
    {
     "name": "stdout",
     "output_type": "stream",
     "text": [
      "TRIS.U 404 Client Error: Not Found for url: https://query2.finance.yahoo.com/v10/finance/quoteSummary/TRIS.U?modules=summaryProfile%2CfinancialData%2CquoteType%2CdefaultKeyStatistics%2CassetProfile%2CsummaryDetail&ssl=true\n"
     ]
    },
    {
     "name": "stderr",
     "output_type": "stream",
     "text": [
      " 90%|█████████ | 7627/8460 [1:23:12<06:09,  2.26it/s]"
     ]
    },
    {
     "name": "stdout",
     "output_type": "stream",
     "text": [
      "TRIS.W 404 Client Error: Not Found for url: https://query2.finance.yahoo.com/v10/finance/quoteSummary/TRIS.W?modules=summaryProfile%2CfinancialData%2CquoteType%2CdefaultKeyStatistics%2CassetProfile%2CsummaryDetail&ssl=true\n"
     ]
    },
    {
     "name": "stderr",
     "output_type": "stream",
     "text": [
      " 90%|█████████ | 7648/8460 [1:23:24<07:20,  1.84it/s]"
     ]
    },
    {
     "name": "stdout",
     "output_type": "stream",
     "text": [
      "TRTL.U 404 Client Error: Not Found for url: https://query2.finance.yahoo.com/v10/finance/quoteSummary/TRTL.U?modules=summaryProfile%2CfinancialData%2CquoteType%2CdefaultKeyStatistics%2CassetProfile%2CsummaryDetail&ssl=true\n"
     ]
    },
    {
     "name": "stderr",
     "output_type": "stream",
     "text": [
      " 90%|█████████ | 7649/8460 [1:23:24<06:26,  2.10it/s]"
     ]
    },
    {
     "name": "stdout",
     "output_type": "stream",
     "text": [
      "TRTL.W 404 Client Error: Not Found for url: https://query2.finance.yahoo.com/v10/finance/quoteSummary/TRTL.W?modules=summaryProfile%2CfinancialData%2CquoteType%2CdefaultKeyStatistics%2CassetProfile%2CsummaryDetail&ssl=true\n"
     ]
    },
    {
     "name": "stderr",
     "output_type": "stream",
     "text": [
      " 90%|█████████ | 7651/8460 [1:23:27<10:52,  1.24it/s]"
     ]
    },
    {
     "name": "stdout",
     "output_type": "stream",
     "text": [
      "TRTN$A 404 Client Error: Not Found for url: https://query2.finance.yahoo.com/v10/finance/quoteSummary/TRTN$A?modules=summaryProfile%2CfinancialData%2CquoteType%2CdefaultKeyStatistics%2CassetProfile%2CsummaryDetail&ssl=true\n"
     ]
    },
    {
     "name": "stderr",
     "output_type": "stream",
     "text": [
      " 90%|█████████ | 7652/8460 [1:23:28<11:14,  1.20it/s]"
     ]
    },
    {
     "name": "stdout",
     "output_type": "stream",
     "text": [
      "TRTN$B 404 Client Error: Not Found for url: https://query2.finance.yahoo.com/v10/finance/quoteSummary/TRTN$B?modules=summaryProfile%2CfinancialData%2CquoteType%2CdefaultKeyStatistics%2CassetProfile%2CsummaryDetail&ssl=true\n"
     ]
    },
    {
     "name": "stderr",
     "output_type": "stream",
     "text": [
      " 90%|█████████ | 7653/8460 [1:23:29<11:53,  1.13it/s]"
     ]
    },
    {
     "name": "stdout",
     "output_type": "stream",
     "text": [
      "TRTN$C 404 Client Error: Not Found for url: https://query2.finance.yahoo.com/v10/finance/quoteSummary/TRTN$C?modules=summaryProfile%2CfinancialData%2CquoteType%2CdefaultKeyStatistics%2CassetProfile%2CsummaryDetail&ssl=true\n"
     ]
    },
    {
     "name": "stderr",
     "output_type": "stream",
     "text": [
      " 90%|█████████ | 7654/8460 [1:23:30<12:04,  1.11it/s]"
     ]
    },
    {
     "name": "stdout",
     "output_type": "stream",
     "text": [
      "TRTN$D 404 Client Error: Not Found for url: https://query2.finance.yahoo.com/v10/finance/quoteSummary/TRTN$D?modules=summaryProfile%2CfinancialData%2CquoteType%2CdefaultKeyStatistics%2CassetProfile%2CsummaryDetail&ssl=true\n"
     ]
    },
    {
     "name": "stderr",
     "output_type": "stream",
     "text": [
      " 90%|█████████ | 7655/8460 [1:23:30<12:23,  1.08it/s]"
     ]
    },
    {
     "name": "stdout",
     "output_type": "stream",
     "text": [
      "TRTN$E 404 Client Error: Not Found for url: https://query2.finance.yahoo.com/v10/finance/quoteSummary/TRTN$E?modules=summaryProfile%2CfinancialData%2CquoteType%2CdefaultKeyStatistics%2CassetProfile%2CsummaryDetail&ssl=true\n"
     ]
    },
    {
     "name": "stderr",
     "output_type": "stream",
     "text": [
      " 91%|█████████ | 7657/8460 [1:23:31<08:49,  1.52it/s]"
     ]
    },
    {
     "name": "stdout",
     "output_type": "stream",
     "text": [
      "TRTX$C 404 Client Error: Not Found for url: https://query2.finance.yahoo.com/v10/finance/quoteSummary/TRTX$C?modules=summaryProfile%2CfinancialData%2CquoteType%2CdefaultKeyStatistics%2CassetProfile%2CsummaryDetail&ssl=true\n"
     ]
    },
    {
     "name": "stderr",
     "output_type": "stream",
     "text": [
      " 91%|█████████▏| 7720/8460 [1:24:08<05:59,  2.06it/s]"
     ]
    },
    {
     "name": "stdout",
     "output_type": "stream",
     "text": [
      "TWO$A 404 Client Error: Not Found for url: https://query2.finance.yahoo.com/v10/finance/quoteSummary/TWO$A?modules=summaryProfile%2CfinancialData%2CquoteType%2CdefaultKeyStatistics%2CassetProfile%2CsummaryDetail&ssl=true\n"
     ]
    },
    {
     "name": "stderr",
     "output_type": "stream",
     "text": [
      " 91%|█████████▏| 7721/8460 [1:24:08<05:12,  2.37it/s]"
     ]
    },
    {
     "name": "stdout",
     "output_type": "stream",
     "text": [
      "TWO$B 404 Client Error: Not Found for url: https://query2.finance.yahoo.com/v10/finance/quoteSummary/TWO$B?modules=summaryProfile%2CfinancialData%2CquoteType%2CdefaultKeyStatistics%2CassetProfile%2CsummaryDetail&ssl=true\n"
     ]
    },
    {
     "name": "stderr",
     "output_type": "stream",
     "text": [
      " 91%|█████████▏| 7722/8460 [1:24:09<04:37,  2.66it/s]"
     ]
    },
    {
     "name": "stdout",
     "output_type": "stream",
     "text": [
      "TWO$C 404 Client Error: Not Found for url: https://query2.finance.yahoo.com/v10/finance/quoteSummary/TWO$C?modules=summaryProfile%2CfinancialData%2CquoteType%2CdefaultKeyStatistics%2CassetProfile%2CsummaryDetail&ssl=true\n"
     ]
    },
    {
     "name": "stderr",
     "output_type": "stream",
     "text": [
      " 91%|█████████▏| 7734/8460 [1:24:16<06:22,  1.90it/s]"
     ]
    },
    {
     "name": "stdout",
     "output_type": "stream",
     "text": [
      "TY$ 404 Client Error: Not Found for url: https://query2.finance.yahoo.com/v10/finance/quoteSummary/TY$?modules=summaryProfile%2CfinancialData%2CquoteType%2CdefaultKeyStatistics%2CassetProfile%2CsummaryDetail&ssl=true\n"
     ]
    },
    {
     "name": "stderr",
     "output_type": "stream",
     "text": [
      " 92%|█████████▏| 7751/8460 [1:24:26<05:56,  1.99it/s]"
     ]
    },
    {
     "name": "stdout",
     "output_type": "stream",
     "text": [
      "UBP$H 404 Client Error: Not Found for url: https://query2.finance.yahoo.com/v10/finance/quoteSummary/UBP$H?modules=summaryProfile%2CfinancialData%2CquoteType%2CdefaultKeyStatistics%2CassetProfile%2CsummaryDetail&ssl=true\n"
     ]
    },
    {
     "name": "stderr",
     "output_type": "stream",
     "text": [
      " 92%|█████████▏| 7752/8460 [1:24:26<05:11,  2.27it/s]"
     ]
    },
    {
     "name": "stdout",
     "output_type": "stream",
     "text": [
      "UBP$K 404 Client Error: Not Found for url: https://query2.finance.yahoo.com/v10/finance/quoteSummary/UBP$K?modules=summaryProfile%2CfinancialData%2CquoteType%2CdefaultKeyStatistics%2CassetProfile%2CsummaryDetail&ssl=true\n"
     ]
    },
    {
     "name": "stderr",
     "output_type": "stream",
     "text": [
      " 92%|█████████▏| 7796/8460 [1:24:57<06:35,  1.68it/s]"
     ]
    },
    {
     "name": "stdout",
     "output_type": "stream",
     "text": [
      "UMH$D 404 Client Error: Not Found for url: https://query2.finance.yahoo.com/v10/finance/quoteSummary/UMH$D?modules=summaryProfile%2CfinancialData%2CquoteType%2CdefaultKeyStatistics%2CassetProfile%2CsummaryDetail&ssl=true\n"
     ]
    },
    {
     "name": "stderr",
     "output_type": "stream",
     "text": [
      " 92%|█████████▏| 7812/8460 [1:25:10<05:25,  1.99it/s]"
     ]
    },
    {
     "name": "stdout",
     "output_type": "stream",
     "text": [
      "UP.W 404 Client Error: Not Found for url: https://query2.finance.yahoo.com/v10/finance/quoteSummary/UP.W?modules=summaryProfile%2CfinancialData%2CquoteType%2CdefaultKeyStatistics%2CassetProfile%2CsummaryDetail&ssl=true\n"
     ]
    },
    {
     "name": "stderr",
     "output_type": "stream",
     "text": [
      " 92%|█████████▏| 7816/8460 [1:25:12<05:09,  2.08it/s]"
     ]
    },
    {
     "name": "stdout",
     "output_type": "stream",
     "text": [
      "UPH.W 404 Client Error: Not Found for url: https://query2.finance.yahoo.com/v10/finance/quoteSummary/UPH.W?modules=summaryProfile%2CfinancialData%2CquoteType%2CdefaultKeyStatistics%2CassetProfile%2CsummaryDetail&ssl=true\n"
     ]
    },
    {
     "name": "stderr",
     "output_type": "stream",
     "text": [
      " 93%|█████████▎| 7836/8460 [1:25:24<05:33,  1.87it/s]"
     ]
    },
    {
     "name": "stdout",
     "output_type": "stream",
     "text": [
      "USB$A 404 Client Error: Not Found for url: https://query2.finance.yahoo.com/v10/finance/quoteSummary/USB$A?modules=summaryProfile%2CfinancialData%2CquoteType%2CdefaultKeyStatistics%2CassetProfile%2CsummaryDetail&ssl=true\n"
     ]
    },
    {
     "name": "stderr",
     "output_type": "stream",
     "text": [
      " 93%|█████████▎| 7837/8460 [1:25:24<04:48,  2.16it/s]"
     ]
    },
    {
     "name": "stdout",
     "output_type": "stream",
     "text": [
      "USB$H 404 Client Error: Not Found for url: https://query2.finance.yahoo.com/v10/finance/quoteSummary/USB$H?modules=summaryProfile%2CfinancialData%2CquoteType%2CdefaultKeyStatistics%2CassetProfile%2CsummaryDetail&ssl=true\n"
     ]
    },
    {
     "name": "stderr",
     "output_type": "stream",
     "text": [
      " 93%|█████████▎| 7838/8460 [1:25:25<04:12,  2.46it/s]"
     ]
    },
    {
     "name": "stdout",
     "output_type": "stream",
     "text": [
      "USB$P 404 Client Error: Not Found for url: https://query2.finance.yahoo.com/v10/finance/quoteSummary/USB$P?modules=summaryProfile%2CfinancialData%2CquoteType%2CdefaultKeyStatistics%2CassetProfile%2CsummaryDetail&ssl=true\n"
     ]
    },
    {
     "name": "stderr",
     "output_type": "stream",
     "text": [
      " 93%|█████████▎| 7839/8460 [1:25:25<03:50,  2.69it/s]"
     ]
    },
    {
     "name": "stdout",
     "output_type": "stream",
     "text": [
      "USB$Q 404 Client Error: Not Found for url: https://query2.finance.yahoo.com/v10/finance/quoteSummary/USB$Q?modules=summaryProfile%2CfinancialData%2CquoteType%2CdefaultKeyStatistics%2CassetProfile%2CsummaryDetail&ssl=true\n"
     ]
    },
    {
     "name": "stderr",
     "output_type": "stream",
     "text": [
      " 93%|█████████▎| 7840/8460 [1:25:25<03:36,  2.86it/s]"
     ]
    },
    {
     "name": "stdout",
     "output_type": "stream",
     "text": [
      "USB$R 404 Client Error: Not Found for url: https://query2.finance.yahoo.com/v10/finance/quoteSummary/USB$R?modules=summaryProfile%2CfinancialData%2CquoteType%2CdefaultKeyStatistics%2CassetProfile%2CsummaryDetail&ssl=true\n"
     ]
    },
    {
     "name": "stderr",
     "output_type": "stream",
     "text": [
      " 93%|█████████▎| 7841/8460 [1:25:26<03:20,  3.08it/s]"
     ]
    },
    {
     "name": "stdout",
     "output_type": "stream",
     "text": [
      "USB$S 404 Client Error: Not Found for url: https://query2.finance.yahoo.com/v10/finance/quoteSummary/USB$S?modules=summaryProfile%2CfinancialData%2CquoteType%2CdefaultKeyStatistics%2CassetProfile%2CsummaryDetail&ssl=true\n"
     ]
    },
    {
     "name": "stderr",
     "output_type": "stream",
     "text": [
      " 93%|█████████▎| 7878/8460 [1:25:50<11:04,  1.14s/it]"
     ]
    },
    {
     "name": "stdout",
     "output_type": "stream",
     "text": [
      "UWMC.W 404 Client Error: Not Found for url: https://query2.finance.yahoo.com/v10/finance/quoteSummary/UWMC.W?modules=summaryProfile%2CfinancialData%2CquoteType%2CdefaultKeyStatistics%2CassetProfile%2CsummaryDetail&ssl=true\n"
     ]
    },
    {
     "name": "stderr",
     "output_type": "stream",
     "text": [
      " 93%|█████████▎| 7888/8460 [1:26:07<14:11,  1.49s/it]"
     ]
    },
    {
     "name": "stdout",
     "output_type": "stream",
     "text": [
      "VAL.W 404 Client Error: Not Found for url: https://query2.finance.yahoo.com/v10/finance/quoteSummary/VAL.W?modules=summaryProfile%2CfinancialData%2CquoteType%2CdefaultKeyStatistics%2CassetProfile%2CsummaryDetail&ssl=true\n"
     ]
    },
    {
     "name": "stderr",
     "output_type": "stream",
     "text": [
      " 94%|█████████▎| 7918/8460 [1:26:54<13:06,  1.45s/it]"
     ]
    },
    {
     "name": "stdout",
     "output_type": "stream",
     "text": [
      "VCXB.U 404 Client Error: Not Found for url: https://query2.finance.yahoo.com/v10/finance/quoteSummary/VCXB.U?modules=summaryProfile%2CfinancialData%2CquoteType%2CdefaultKeyStatistics%2CassetProfile%2CsummaryDetail&ssl=true\n"
     ]
    },
    {
     "name": "stderr",
     "output_type": "stream",
     "text": [
      " 94%|█████████▎| 7919/8460 [1:26:55<11:45,  1.30s/it]"
     ]
    },
    {
     "name": "stdout",
     "output_type": "stream",
     "text": [
      "VCXB.W 404 Client Error: Not Found for url: https://query2.finance.yahoo.com/v10/finance/quoteSummary/VCXB.W?modules=summaryProfile%2CfinancialData%2CquoteType%2CdefaultKeyStatistics%2CassetProfile%2CsummaryDetail&ssl=true\n"
     ]
    },
    {
     "name": "stderr",
     "output_type": "stream",
     "text": [
      " 94%|█████████▍| 7949/8460 [1:27:43<11:13,  1.32s/it]"
     ]
    },
    {
     "name": "stdout",
     "output_type": "stream",
     "text": [
      "VHAQ.R 404 Client Error: Not Found for url: https://query2.finance.yahoo.com/v10/finance/quoteSummary/VHAQ.R?modules=summaryProfile%2CfinancialData%2CquoteType%2CdefaultKeyStatistics%2CassetProfile%2CsummaryDetail&ssl=true\n"
     ]
    },
    {
     "name": "stderr",
     "output_type": "stream",
     "text": [
      " 94%|█████████▍| 7950/8460 [1:27:44<10:11,  1.20s/it]"
     ]
    },
    {
     "name": "stdout",
     "output_type": "stream",
     "text": [
      "VHAQ.U 404 Client Error: Not Found for url: https://query2.finance.yahoo.com/v10/finance/quoteSummary/VHAQ.U?modules=summaryProfile%2CfinancialData%2CquoteType%2CdefaultKeyStatistics%2CassetProfile%2CsummaryDetail&ssl=true\n"
     ]
    },
    {
     "name": "stderr",
     "output_type": "stream",
     "text": [
      " 94%|█████████▍| 7951/8460 [1:27:45<09:05,  1.07s/it]"
     ]
    },
    {
     "name": "stdout",
     "output_type": "stream",
     "text": [
      "VHAQ.W 404 Client Error: Not Found for url: https://query2.finance.yahoo.com/v10/finance/quoteSummary/VHAQ.W?modules=summaryProfile%2CfinancialData%2CquoteType%2CdefaultKeyStatistics%2CassetProfile%2CsummaryDetail&ssl=true\n"
     ]
    },
    {
     "name": "stderr",
     "output_type": "stream",
     "text": [
      " 94%|█████████▍| 7994/8460 [1:28:49<04:24,  1.76it/s]"
     ]
    },
    {
     "name": "stdout",
     "output_type": "stream",
     "text": [
      "VLD.W 404 Client Error: Not Found for url: https://query2.finance.yahoo.com/v10/finance/quoteSummary/VLD.W?modules=summaryProfile%2CfinancialData%2CquoteType%2CdefaultKeyStatistics%2CassetProfile%2CsummaryDetail&ssl=true\n"
     ]
    },
    {
     "name": "stderr",
     "output_type": "stream",
     "text": [
      " 95%|█████████▍| 7997/8460 [1:28:50<03:36,  2.14it/s]"
     ]
    },
    {
     "name": "stdout",
     "output_type": "stream",
     "text": [
      "VLN.W 404 Client Error: Not Found for url: https://query2.finance.yahoo.com/v10/finance/quoteSummary/VLN.W?modules=summaryProfile%2CfinancialData%2CquoteType%2CdefaultKeyStatistics%2CassetProfile%2CsummaryDetail&ssl=true\n"
     ]
    },
    {
     "name": "stderr",
     "output_type": "stream",
     "text": [
      " 95%|█████████▍| 8021/8460 [1:29:08<03:37,  2.02it/s]"
     ]
    },
    {
     "name": "stdout",
     "output_type": "stream",
     "text": [
      "VNO$L 404 Client Error: Not Found for url: https://query2.finance.yahoo.com/v10/finance/quoteSummary/VNO$L?modules=summaryProfile%2CfinancialData%2CquoteType%2CdefaultKeyStatistics%2CassetProfile%2CsummaryDetail&ssl=true\n"
     ]
    },
    {
     "name": "stderr",
     "output_type": "stream",
     "text": [
      " 95%|█████████▍| 8022/8460 [1:29:08<03:15,  2.24it/s]"
     ]
    },
    {
     "name": "stdout",
     "output_type": "stream",
     "text": [
      "VNO$M 404 Client Error: Not Found for url: https://query2.finance.yahoo.com/v10/finance/quoteSummary/VNO$M?modules=summaryProfile%2CfinancialData%2CquoteType%2CdefaultKeyStatistics%2CassetProfile%2CsummaryDetail&ssl=true\n"
     ]
    },
    {
     "name": "stderr",
     "output_type": "stream",
     "text": [
      " 95%|█████████▍| 8023/8460 [1:29:08<02:53,  2.52it/s]"
     ]
    },
    {
     "name": "stdout",
     "output_type": "stream",
     "text": [
      "VNO$N 404 Client Error: Not Found for url: https://query2.finance.yahoo.com/v10/finance/quoteSummary/VNO$N?modules=summaryProfile%2CfinancialData%2CquoteType%2CdefaultKeyStatistics%2CassetProfile%2CsummaryDetail&ssl=true\n"
     ]
    },
    {
     "name": "stderr",
     "output_type": "stream",
     "text": [
      " 95%|█████████▍| 8024/8460 [1:29:09<02:38,  2.75it/s]"
     ]
    },
    {
     "name": "stdout",
     "output_type": "stream",
     "text": [
      "VNO$O 404 Client Error: Not Found for url: https://query2.finance.yahoo.com/v10/finance/quoteSummary/VNO$O?modules=summaryProfile%2CfinancialData%2CquoteType%2CdefaultKeyStatistics%2CassetProfile%2CsummaryDetail&ssl=true\n"
     ]
    },
    {
     "name": "stderr",
     "output_type": "stream",
     "text": [
      " 95%|█████████▍| 8035/8460 [1:29:15<03:22,  2.10it/s]"
     ]
    },
    {
     "name": "stdout",
     "output_type": "stream",
     "text": [
      "VOYA$B 404 Client Error: Not Found for url: https://query2.finance.yahoo.com/v10/finance/quoteSummary/VOYA$B?modules=summaryProfile%2CfinancialData%2CquoteType%2CdefaultKeyStatistics%2CassetProfile%2CsummaryDetail&ssl=true\n"
     ]
    },
    {
     "name": "stderr",
     "output_type": "stream",
     "text": [
      " 95%|█████████▌| 8071/8460 [1:29:36<03:08,  2.06it/s]"
     ]
    },
    {
     "name": "stdout",
     "output_type": "stream",
     "text": [
      "VST.A 404 Client Error: Not Found for url: https://query2.finance.yahoo.com/v10/finance/quoteSummary/VST.A?modules=summaryProfile%2CfinancialData%2CquoteType%2CdefaultKeyStatistics%2CassetProfile%2CsummaryDetail&ssl=true\n"
     ]
    },
    {
     "name": "stderr",
     "output_type": "stream",
     "text": [
      " 96%|█████████▌| 8113/8460 [1:30:04<03:16,  1.76it/s]"
     ]
    },
    {
     "name": "stdout",
     "output_type": "stream",
     "text": [
      "WAL$A 404 Client Error: Not Found for url: https://query2.finance.yahoo.com/v10/finance/quoteSummary/WAL$A?modules=summaryProfile%2CfinancialData%2CquoteType%2CdefaultKeyStatistics%2CassetProfile%2CsummaryDetail&ssl=true\n"
     ]
    },
    {
     "name": "stderr",
     "output_type": "stream",
     "text": [
      " 96%|█████████▌| 8120/8460 [1:30:16<08:27,  1.49s/it]"
     ]
    },
    {
     "name": "stdout",
     "output_type": "stream",
     "text": [
      "WAVC.U 404 Client Error: Not Found for url: https://query2.finance.yahoo.com/v10/finance/quoteSummary/WAVC.U?modules=summaryProfile%2CfinancialData%2CquoteType%2CdefaultKeyStatistics%2CassetProfile%2CsummaryDetail&ssl=true\n"
     ]
    },
    {
     "name": "stderr",
     "output_type": "stream",
     "text": [
      " 96%|█████████▌| 8121/8460 [1:30:16<06:21,  1.13s/it]"
     ]
    },
    {
     "name": "stdout",
     "output_type": "stream",
     "text": [
      "WAVC.W 404 Client Error: Not Found for url: https://query2.finance.yahoo.com/v10/finance/quoteSummary/WAVC.W?modules=summaryProfile%2CfinancialData%2CquoteType%2CdefaultKeyStatistics%2CassetProfile%2CsummaryDetail&ssl=true\n"
     ]
    },
    {
     "name": "stderr",
     "output_type": "stream",
     "text": [
      " 96%|█████████▌| 8131/8460 [1:30:32<07:26,  1.36s/it]"
     ]
    },
    {
     "name": "stdout",
     "output_type": "stream",
     "text": [
      "WBS$F 404 Client Error: Not Found for url: https://query2.finance.yahoo.com/v10/finance/quoteSummary/WBS$F?modules=summaryProfile%2CfinancialData%2CquoteType%2CdefaultKeyStatistics%2CassetProfile%2CsummaryDetail&ssl=true\n"
     ]
    },
    {
     "name": "stderr",
     "output_type": "stream",
     "text": [
      " 96%|█████████▌| 8132/8460 [1:30:33<06:31,  1.19s/it]"
     ]
    },
    {
     "name": "stdout",
     "output_type": "stream",
     "text": [
      "WBS$G 404 Client Error: Not Found for url: https://query2.finance.yahoo.com/v10/finance/quoteSummary/WBS$G?modules=summaryProfile%2CfinancialData%2CquoteType%2CdefaultKeyStatistics%2CassetProfile%2CsummaryDetail&ssl=true\n"
     ]
    },
    {
     "name": "stderr",
     "output_type": "stream",
     "text": [
      " 96%|█████████▌| 8134/8460 [1:30:35<06:11,  1.14s/it]"
     ]
    },
    {
     "name": "stdout",
     "output_type": "stream",
     "text": [
      "WBX.W 404 Client Error: Not Found for url: https://query2.finance.yahoo.com/v10/finance/quoteSummary/WBX.W?modules=summaryProfile%2CfinancialData%2CquoteType%2CdefaultKeyStatistics%2CassetProfile%2CsummaryDetail&ssl=true\n"
     ]
    },
    {
     "name": "stderr",
     "output_type": "stream",
     "text": [
      " 96%|█████████▌| 8136/8460 [1:30:38<06:03,  1.12s/it]"
     ]
    },
    {
     "name": "stdout",
     "output_type": "stream",
     "text": [
      "WCC$A 404 Client Error: Not Found for url: https://query2.finance.yahoo.com/v10/finance/quoteSummary/WCC$A?modules=summaryProfile%2CfinancialData%2CquoteType%2CdefaultKeyStatistics%2CassetProfile%2CsummaryDetail&ssl=true\n"
     ]
    },
    {
     "name": "stderr",
     "output_type": "stream",
     "text": [
      " 96%|█████████▋| 8146/8460 [1:30:54<07:35,  1.45s/it]"
     ]
    },
    {
     "name": "stdout",
     "output_type": "stream",
     "text": [
      "WE.W 404 Client Error: Not Found for url: https://query2.finance.yahoo.com/v10/finance/quoteSummary/WE.W?modules=summaryProfile%2CfinancialData%2CquoteType%2CdefaultKeyStatistics%2CassetProfile%2CsummaryDetail&ssl=true\n"
     ]
    },
    {
     "name": "stderr",
     "output_type": "stream",
     "text": [
      " 96%|█████████▋| 8153/8460 [1:31:04<07:24,  1.45s/it]"
     ]
    },
    {
     "name": "stdout",
     "output_type": "stream",
     "text": [
      "WEL.U 404 Client Error: Not Found for url: https://query2.finance.yahoo.com/v10/finance/quoteSummary/WEL.U?modules=summaryProfile%2CfinancialData%2CquoteType%2CdefaultKeyStatistics%2CassetProfile%2CsummaryDetail&ssl=true\n"
     ]
    },
    {
     "name": "stderr",
     "output_type": "stream",
     "text": [
      " 96%|█████████▋| 8154/8460 [1:31:05<06:40,  1.31s/it]"
     ]
    },
    {
     "name": "stdout",
     "output_type": "stream",
     "text": [
      "WEL.W 404 Client Error: Not Found for url: https://query2.finance.yahoo.com/v10/finance/quoteSummary/WEL.W?modules=summaryProfile%2CfinancialData%2CquoteType%2CdefaultKeyStatistics%2CassetProfile%2CsummaryDetail&ssl=true\n"
     ]
    },
    {
     "name": "stderr",
     "output_type": "stream",
     "text": [
      " 97%|█████████▋| 8166/8460 [1:31:24<06:52,  1.40s/it]"
     ]
    },
    {
     "name": "stdout",
     "output_type": "stream",
     "text": [
      "WFC$A 404 Client Error: Not Found for url: https://query2.finance.yahoo.com/v10/finance/quoteSummary/WFC$A?modules=summaryProfile%2CfinancialData%2CquoteType%2CdefaultKeyStatistics%2CassetProfile%2CsummaryDetail&ssl=true\n"
     ]
    },
    {
     "name": "stderr",
     "output_type": "stream",
     "text": [
      " 97%|█████████▋| 8167/8460 [1:31:25<06:08,  1.26s/it]"
     ]
    },
    {
     "name": "stdout",
     "output_type": "stream",
     "text": [
      "WFC$C 404 Client Error: Not Found for url: https://query2.finance.yahoo.com/v10/finance/quoteSummary/WFC$C?modules=summaryProfile%2CfinancialData%2CquoteType%2CdefaultKeyStatistics%2CassetProfile%2CsummaryDetail&ssl=true\n"
     ]
    },
    {
     "name": "stderr",
     "output_type": "stream",
     "text": [
      " 97%|█████████▋| 8168/8460 [1:31:26<05:38,  1.16s/it]"
     ]
    },
    {
     "name": "stdout",
     "output_type": "stream",
     "text": [
      "WFC$D 404 Client Error: Not Found for url: https://query2.finance.yahoo.com/v10/finance/quoteSummary/WFC$D?modules=summaryProfile%2CfinancialData%2CquoteType%2CdefaultKeyStatistics%2CassetProfile%2CsummaryDetail&ssl=true\n"
     ]
    },
    {
     "name": "stderr",
     "output_type": "stream",
     "text": [
      " 97%|█████████▋| 8169/8460 [1:31:27<05:13,  1.08s/it]"
     ]
    },
    {
     "name": "stdout",
     "output_type": "stream",
     "text": [
      "WFC$L 404 Client Error: Not Found for url: https://query2.finance.yahoo.com/v10/finance/quoteSummary/WFC$L?modules=summaryProfile%2CfinancialData%2CquoteType%2CdefaultKeyStatistics%2CassetProfile%2CsummaryDetail&ssl=true\n"
     ]
    },
    {
     "name": "stderr",
     "output_type": "stream",
     "text": [
      " 97%|█████████▋| 8170/8460 [1:31:27<04:08,  1.17it/s]"
     ]
    },
    {
     "name": "stdout",
     "output_type": "stream",
     "text": [
      "WFC$Q 404 Client Error: Not Found for url: https://query2.finance.yahoo.com/v10/finance/quoteSummary/WFC$Q?modules=summaryProfile%2CfinancialData%2CquoteType%2CdefaultKeyStatistics%2CassetProfile%2CsummaryDetail&ssl=true\n"
     ]
    },
    {
     "name": "stderr",
     "output_type": "stream",
     "text": [
      " 97%|█████████▋| 8171/8460 [1:31:28<04:17,  1.12it/s]"
     ]
    },
    {
     "name": "stdout",
     "output_type": "stream",
     "text": [
      "WFC$R 404 Client Error: Not Found for url: https://query2.finance.yahoo.com/v10/finance/quoteSummary/WFC$R?modules=summaryProfile%2CfinancialData%2CquoteType%2CdefaultKeyStatistics%2CassetProfile%2CsummaryDetail&ssl=true\n"
     ]
    },
    {
     "name": "stderr",
     "output_type": "stream",
     "text": [
      " 97%|█████████▋| 8172/8460 [1:31:29<04:18,  1.11it/s]"
     ]
    },
    {
     "name": "stdout",
     "output_type": "stream",
     "text": [
      "WFC$Y 404 Client Error: Not Found for url: https://query2.finance.yahoo.com/v10/finance/quoteSummary/WFC$Y?modules=summaryProfile%2CfinancialData%2CquoteType%2CdefaultKeyStatistics%2CassetProfile%2CsummaryDetail&ssl=true\n"
     ]
    },
    {
     "name": "stderr",
     "output_type": "stream",
     "text": [
      " 97%|█████████▋| 8173/8460 [1:31:30<04:27,  1.07it/s]"
     ]
    },
    {
     "name": "stdout",
     "output_type": "stream",
     "text": [
      "WFC$Z 404 Client Error: Not Found for url: https://query2.finance.yahoo.com/v10/finance/quoteSummary/WFC$Z?modules=summaryProfile%2CfinancialData%2CquoteType%2CdefaultKeyStatistics%2CassetProfile%2CsummaryDetail&ssl=true\n"
     ]
    },
    {
     "name": "stderr",
     "output_type": "stream",
     "text": [
      " 97%|█████████▋| 8233/8460 [1:32:15<01:50,  2.05it/s]"
     ]
    },
    {
     "name": "stdout",
     "output_type": "stream",
     "text": [
      "WNNR.U 404 Client Error: Not Found for url: https://query2.finance.yahoo.com/v10/finance/quoteSummary/WNNR.U?modules=summaryProfile%2CfinancialData%2CquoteType%2CdefaultKeyStatistics%2CassetProfile%2CsummaryDetail&ssl=true\n"
     ]
    },
    {
     "name": "stderr",
     "output_type": "stream",
     "text": [
      " 97%|█████████▋| 8234/8460 [1:32:16<01:46,  2.11it/s]"
     ]
    },
    {
     "name": "stdout",
     "output_type": "stream",
     "text": [
      "WNNR.W 404 Client Error: Not Found for url: https://query2.finance.yahoo.com/v10/finance/quoteSummary/WNNR.W?modules=summaryProfile%2CfinancialData%2CquoteType%2CdefaultKeyStatistics%2CassetProfile%2CsummaryDetail&ssl=true\n"
     ]
    },
    {
     "name": "stderr",
     "output_type": "stream",
     "text": [
      " 97%|█████████▋| 8247/8460 [1:32:23<01:47,  1.98it/s]"
     ]
    },
    {
     "name": "stdout",
     "output_type": "stream",
     "text": [
      "WRAC.U 404 Client Error: Not Found for url: https://query2.finance.yahoo.com/v10/finance/quoteSummary/WRAC.U?modules=summaryProfile%2CfinancialData%2CquoteType%2CdefaultKeyStatistics%2CassetProfile%2CsummaryDetail&ssl=true\n"
     ]
    },
    {
     "name": "stderr",
     "output_type": "stream",
     "text": [
      " 97%|█████████▋| 8248/8460 [1:32:23<01:31,  2.31it/s]"
     ]
    },
    {
     "name": "stdout",
     "output_type": "stream",
     "text": [
      "WRAC.W 404 Client Error: Not Found for url: https://query2.finance.yahoo.com/v10/finance/quoteSummary/WRAC.W?modules=summaryProfile%2CfinancialData%2CquoteType%2CdefaultKeyStatistics%2CassetProfile%2CsummaryDetail&ssl=true\n"
     ]
    },
    {
     "name": "stderr",
     "output_type": "stream",
     "text": [
      " 98%|█████████▊| 8251/8460 [1:32:24<01:33,  2.23it/s]"
     ]
    },
    {
     "name": "stdout",
     "output_type": "stream",
     "text": [
      "WRB$E 404 Client Error: Not Found for url: https://query2.finance.yahoo.com/v10/finance/quoteSummary/WRB$E?modules=summaryProfile%2CfinancialData%2CquoteType%2CdefaultKeyStatistics%2CassetProfile%2CsummaryDetail&ssl=true\n"
     ]
    },
    {
     "name": "stderr",
     "output_type": "stream",
     "text": [
      " 98%|█████████▊| 8252/8460 [1:32:25<01:24,  2.46it/s]"
     ]
    },
    {
     "name": "stdout",
     "output_type": "stream",
     "text": [
      "WRB$F 404 Client Error: Not Found for url: https://query2.finance.yahoo.com/v10/finance/quoteSummary/WRB$F?modules=summaryProfile%2CfinancialData%2CquoteType%2CdefaultKeyStatistics%2CassetProfile%2CsummaryDetail&ssl=true\n"
     ]
    },
    {
     "name": "stderr",
     "output_type": "stream",
     "text": [
      " 98%|█████████▊| 8253/8460 [1:32:25<01:16,  2.70it/s]"
     ]
    },
    {
     "name": "stdout",
     "output_type": "stream",
     "text": [
      "WRB$G 404 Client Error: Not Found for url: https://query2.finance.yahoo.com/v10/finance/quoteSummary/WRB$G?modules=summaryProfile%2CfinancialData%2CquoteType%2CdefaultKeyStatistics%2CassetProfile%2CsummaryDetail&ssl=true\n"
     ]
    },
    {
     "name": "stderr",
     "output_type": "stream",
     "text": [
      " 98%|█████████▊| 8254/8460 [1:32:25<01:12,  2.85it/s]"
     ]
    },
    {
     "name": "stdout",
     "output_type": "stream",
     "text": [
      "WRB$H 404 Client Error: Not Found for url: https://query2.finance.yahoo.com/v10/finance/quoteSummary/WRB$H?modules=summaryProfile%2CfinancialData%2CquoteType%2CdefaultKeyStatistics%2CassetProfile%2CsummaryDetail&ssl=true\n"
     ]
    },
    {
     "name": "stderr",
     "output_type": "stream",
     "text": [
      " 98%|█████████▊| 8266/8460 [1:32:32<01:39,  1.94it/s]"
     ]
    },
    {
     "name": "stdout",
     "output_type": "stream",
     "text": [
      "WSO.B 404 Client Error: Not Found for url: https://query2.finance.yahoo.com/v10/finance/quoteSummary/WSO.B?modules=summaryProfile%2CfinancialData%2CquoteType%2CdefaultKeyStatistics%2CassetProfile%2CsummaryDetail&ssl=true\n"
     ]
    },
    {
     "name": "stderr",
     "output_type": "stream",
     "text": [
      " 98%|█████████▊| 8318/8460 [1:33:02<01:09,  2.04it/s]"
     ]
    },
    {
     "name": "stdout",
     "output_type": "stream",
     "text": [
      "XFLT$A 404 Client Error: Not Found for url: https://query2.finance.yahoo.com/v10/finance/quoteSummary/XFLT$A?modules=summaryProfile%2CfinancialData%2CquoteType%2CdefaultKeyStatistics%2CassetProfile%2CsummaryDetail&ssl=true\n"
     ]
    },
    {
     "name": "stderr",
     "output_type": "stream",
     "text": [
      " 99%|█████████▉| 8360/8460 [1:33:27<00:47,  2.13it/s]"
     ]
    },
    {
     "name": "stdout",
     "output_type": "stream",
     "text": [
      "YCBD$A 404 Client Error: Not Found for url: https://query2.finance.yahoo.com/v10/finance/quoteSummary/YCBD$A?modules=summaryProfile%2CfinancialData%2CquoteType%2CdefaultKeyStatistics%2CassetProfile%2CsummaryDetail&ssl=true\n"
     ]
    },
    {
     "name": "stderr",
     "output_type": "stream",
     "text": [
      " 99%|█████████▉| 8406/8460 [1:33:54<00:27,  2.00it/s]"
     ]
    },
    {
     "name": "stdout",
     "output_type": "stream",
     "text": [
      "ZEV.W 404 Client Error: Not Found for url: https://query2.finance.yahoo.com/v10/finance/quoteSummary/ZEV.W?modules=summaryProfile%2CfinancialData%2CquoteType%2CdefaultKeyStatistics%2CassetProfile%2CsummaryDetail&ssl=true\n"
     ]
    },
    {
     "name": "stderr",
     "output_type": "stream",
     "text": [
      " 99%|█████████▉| 8407/8460 [1:33:54<00:23,  2.22it/s]"
     ]
    },
    {
     "name": "stdout",
     "output_type": "stream",
     "text": [
      "ZEXIT 404 Client Error: Not Found for url: https://query2.finance.yahoo.com/v10/finance/quoteSummary/ZEXIT?modules=summaryProfile%2CfinancialData%2CquoteType%2CdefaultKeyStatistics%2CassetProfile%2CsummaryDetail&ssl=true\n"
     ]
    },
    {
     "name": "stderr",
     "output_type": "stream",
     "text": [
      " 99%|█████████▉| 8414/8460 [1:33:58<00:22,  2.02it/s]"
     ]
    },
    {
     "name": "stdout",
     "output_type": "stream",
     "text": [
      "ZIEXT 404 Client Error: Not Found for url: https://query2.finance.yahoo.com/v10/finance/quoteSummary/ZIEXT?modules=summaryProfile%2CfinancialData%2CquoteType%2CdefaultKeyStatistics%2CassetProfile%2CsummaryDetail&ssl=true\n"
     ]
    },
    {
     "name": "stderr",
     "output_type": "stream",
     "text": [
      "100%|█████████▉| 8455/8460 [1:34:23<00:02,  1.83it/s]"
     ]
    },
    {
     "name": "stdout",
     "output_type": "stream",
     "text": [
      "ZXIET 404 Client Error: Not Found for url: https://query2.finance.yahoo.com/v10/finance/quoteSummary/ZXIET?modules=summaryProfile%2CfinancialData%2CquoteType%2CdefaultKeyStatistics%2CassetProfile%2CsummaryDetail&ssl=true\n"
     ]
    },
    {
     "name": "stderr",
     "output_type": "stream",
     "text": [
      "100%|█████████▉| 8456/8460 [1:34:24<00:01,  2.15it/s]"
     ]
    },
    {
     "name": "stdout",
     "output_type": "stream",
     "text": [
      "ZXYZ.A 404 Client Error: Not Found for url: https://query2.finance.yahoo.com/v10/finance/quoteSummary/ZXYZ.A?modules=summaryProfile%2CfinancialData%2CquoteType%2CdefaultKeyStatistics%2CassetProfile%2CsummaryDetail&ssl=true\n"
     ]
    },
    {
     "name": "stderr",
     "output_type": "stream",
     "text": [
      "100%|██████████| 8460/8460 [1:34:29<00:00,  1.49it/s]"
     ]
    },
    {
     "name": "stdout",
     "output_type": "stream",
     "text": [
      "Success: 7,690 / 8,461\n"
     ]
    },
    {
     "name": "stderr",
     "output_type": "stream",
     "text": [
      "\n"
     ]
    }
   ],
   "source": [
    "meta_data = []\n",
    "start = time()\n",
    "for ticker, yf_object in tqdm(yf_symbols.tickers.items()):\n",
    "    try:\n",
    "        s = pd.Series(yf_object.get_info())\n",
    "        meta_data.append(s.to_frame(ticker))\n",
    "    except Exception as e:\n",
    "        # track errors\n",
    "        print(ticker, e)\n",
    "        \n",
    "print(f'Success: {len(meta_data):5,.0f} / {n:5,.0f}')"
   ]
  },
  {
   "cell_type": "code",
   "execution_count": 18,
   "metadata": {},
   "outputs": [
    {
     "name": "stdout",
     "output_type": "stream",
     "text": [
      "<class 'pandas.core.frame.DataFrame'>\n",
      "Index: 7690 entries, A to ZYXI\n",
      "Columns: 143 entries, address1 to openInterest\n",
      "dtypes: float64(112), object(31)\n",
      "memory usage: 8.4+ MB\n"
     ]
    }
   ],
   "source": [
    "df = pd.concat(meta_data, axis=1).dropna(how='all').T\n",
    "df = df.apply(pd.to_numeric, errors='ignore')\n",
    "df.info(show_counts=True)"
   ]
  },
  {
   "cell_type": "code",
   "execution_count": 19,
   "metadata": {},
   "outputs": [],
   "source": [
    "df.to_hdf(results_path / 'data.h5', 'stocks/info')"
   ]
  },
  {
   "cell_type": "markdown",
   "metadata": {},
   "source": [
    "## Download adjusted price data using yfinance"
   ]
  },
  {
   "cell_type": "code",
   "execution_count": null,
   "metadata": {
    "ExecuteTime": {
     "end_time": "2021-02-24T10:00:48.703840Z",
     "start_time": "2021-02-24T09:46:13.913231Z"
    },
    "scrolled": false
   },
   "outputs": [
    {
     "name": "stdout",
     "output_type": "stream",
     "text": [
      "[*********************100%***********************]  100 of 100 completed\n",
      "\n",
      "21 Failed downloads:\n",
      "- AACT.U: No timezone found, symbol may be delisted\n",
      "- ACAQ.W: No timezone found, symbol may be delisted\n",
      "- ACABW: 1d data not available for startTime=-2208994789 and endTime=1682562171. Only 100 years worth of day granularity data are allowed to be fetched per request.\n",
      "- ACACW: 1d data not available for startTime=-2208994789 and endTime=1682562171. Only 100 years worth of day granularity data are allowed to be fetched per request.\n",
      "- AAM$B: No timezone found, symbol may be delisted\n",
      "- AAC.U: No timezone found, symbol may be delisted\n",
      "- ACAQ.U: No timezone found, symbol may be delisted\n",
      "- AACIW: 1d data not available for startTime=-2208994789 and endTime=1682562177. Only 100 years worth of day granularity data are allowed to be fetched per request.\n",
      "- ACDCW: 1d data not available for startTime=-2208994789 and endTime=1682562177. Only 100 years worth of day granularity data are allowed to be fetched per request.\n",
      "- ACAXW: 1d data not available for startTime=-2208994789 and endTime=1682562177. Only 100 years worth of day granularity data are allowed to be fetched per request.\n",
      "- AAIC$C: No timezone found, symbol may be delisted\n",
      "- ABR$F: No timezone found, symbol may be delisted\n",
      "- ACAXR: 1d data not available for startTime=-2208994789 and endTime=1682562179. Only 100 years worth of day granularity data are allowed to be fetched per request.\n",
      "- ACAHW: 1d data not available for startTime=-2208994789 and endTime=1682562179. Only 100 years worth of day granularity data are allowed to be fetched per request.\n",
      "- ABR$E: No timezone found, symbol may be delisted\n",
      "- AAM$A: No timezone found, symbol may be delisted\n",
      "- ABR$D: No timezone found, symbol may be delisted\n",
      "- ACHR.W: No timezone found, symbol may be delisted\n",
      "- AAIC$B: No timezone found, symbol may be delisted\n",
      "- AAC.W: No timezone found, symbol may be delisted\n",
      "- ACBAW: 1d data not available for startTime=-2208994789 and endTime=1682562183. Only 100 years worth of day granularity data are allowed to be fetched per request.\n",
      "Success:     1/    1 | To go: 00:26:10 (8,361)\n",
      "[*********************100%***********************]  100 of 100 completed\n",
      "\n",
      "22 Failed downloads:\n",
      "- ADEX.W: No timezone found, symbol may be delisted\n",
      "- ACP$A: No timezone found, symbol may be delisted\n",
      "- AEAEW: 1d data not available for startTime=-2208994789 and endTime=1682562187. Only 100 years worth of day granularity data are allowed to be fetched per request.\n",
      "- ADNWW: 1d data not available for startTime=-2208994789 and endTime=1682562187. Only 100 years worth of day granularity data are allowed to be fetched per request.\n",
      "- ADVWW: 1d data not available for startTime=-2208994789 and endTime=1682562188. Only 100 years worth of day granularity data are allowed to be fetched per request.\n",
      "- AEL$A: No timezone found, symbol may be delisted\n",
      "- ACRO.W: No timezone found, symbol may be delisted\n",
      "- ADRT.U: No timezone found, symbol may be delisted\n",
      "- ADILW: 1d data not available for startTime=-2208994789 and endTime=1682562190. Only 100 years worth of day granularity data are allowed to be fetched per request.\n",
      "- ACR$C: No timezone found, symbol may be delisted\n",
      "- ACRO.U: No timezone found, symbol may be delisted\n",
      "- AEVA.W: No timezone found, symbol may be delisted\n",
      "- ADTHW: 1d data not available for startTime=-2208994789 and endTime=1682562191. Only 100 years worth of day granularity data are allowed to be fetched per request.\n",
      "- ADERW: 1d data not available for startTime=-2208994789 and endTime=1682562192. Only 100 years worth of day granularity data are allowed to be fetched per request.\n",
      "- ADC$A: No timezone found, symbol may be delisted\n",
      "- ACONW: 1d data not available for startTime=-2208994789 and endTime=1682562193. Only 100 years worth of day granularity data are allowed to be fetched per request.\n",
      "- ADEX.U: No timezone found, symbol may be delisted\n",
      "- ADSEW: 1d data not available for startTime=-2208994789 and endTime=1682562194. Only 100 years worth of day granularity data are allowed to be fetched per request.\n",
      "- ADOCR: 1d data not available for startTime=-2208994789 and endTime=1682562196. Only 100 years worth of day granularity data are allowed to be fetched per request.\n",
      "- AEL$B: No timezone found, symbol may be delisted\n",
      "- ACR$D: No timezone found, symbol may be delisted\n",
      "- ADOCW: 1d data not available for startTime=-2208994789 and endTime=1682562196. Only 100 years worth of day granularity data are allowed to be fetched per request.\n",
      "Success:     2/    2 | To go: 00:22:10 (8,261)\n",
      "[*********************100%***********************]  100 of 100 completed\n",
      "\n",
      "28 Failed downloads:\n",
      "- AGM$G: No timezone found, symbol may be delisted\n",
      "- AGAC.U: No timezone found, symbol may be delisted\n",
      "- AGBAW: 1d data not available for startTime=-2208994789 and endTime=1682562200. Only 100 years worth of day granularity data are allowed to be fetched per request.\n",
      "- AFARW: 1d data not available for startTime=-2208994789 and endTime=1682562201. Only 100 years worth of day granularity data are allowed to be fetched per request.\n",
      "- AGILW: 1d data not available for startTime=-2208994789 and endTime=1682562202. Only 100 years worth of day granularity data are allowed to be fetched per request.\n",
      "- AFTR.W: No timezone found, symbol may be delisted\n",
      "- AHT$H: No timezone found, symbol may be delisted\n",
      "- AGRIW: 1d data not available for startTime=-2208994789 and endTime=1682562204. Only 100 years worth of day granularity data are allowed to be fetched per request.\n",
      "- AIMDW: 1d data not available for startTime=-2208994789 and endTime=1682562204. Only 100 years worth of day granularity data are allowed to be fetched per request.\n",
      "- AGM.A: No timezone found, symbol may be delisted\n",
      "- AGM$D: No timezone found, symbol may be delisted\n",
      "- AFRIW: 1d data not available for startTime=-2208994789 and endTime=1682562205. Only 100 years worth of day granularity data are allowed to be fetched per request.\n",
      "- AIMAW: 1d data not available for startTime=-2208994789 and endTime=1682562206. Only 100 years worth of day granularity data are allowed to be fetched per request.\n",
      "- AFTR.U: No timezone found, symbol may be delisted\n",
      "- AHL$C: No timezone found, symbol may be delisted\n",
      "- AHL$D: No timezone found, symbol may be delisted\n",
      "- AHT$I: No timezone found, symbol may be delisted\n",
      "- AGM$C: No timezone found, symbol may be delisted\n",
      "- AGM$E: No timezone found, symbol may be delisted\n",
      "- AIG$A: No timezone found, symbol may be delisted\n",
      "- AGM$F: No timezone found, symbol may be delisted\n",
      "- AIBBR: 1d data not available for startTime=-2208994789 and endTime=1682562209. Only 100 years worth of day granularity data are allowed to be fetched per request.\n",
      "- AHH$A: No timezone found, symbol may be delisted\n",
      "- AHRNW: 1d data not available for startTime=-2208994789 and endTime=1682562209. Only 100 years worth of day granularity data are allowed to be fetched per request.\n",
      "- AHT$G: No timezone found, symbol may be delisted\n",
      "- AHL$E: No timezone found, symbol may be delisted\n",
      "- AHT$F: No timezone found, symbol may be delisted\n",
      "- AHT$D: No timezone found, symbol may be delisted\n",
      "Success:     3/    3 | To go: 00:20:22 (8,161)\n",
      "[*********************100%***********************]  100 of 100 completed\n",
      "\n",
      "14 Failed downloads:\n",
      "- ALORW: 1d data not available for startTime=-2208994789 and endTime=1682562216. Only 100 years worth of day granularity data are allowed to be fetched per request.\n",
      "- ALL$H: No timezone found, symbol may be delisted\n",
      "- AL$A: No timezone found, symbol may be delisted\n",
      "- ALTG$A: No timezone found, symbol may be delisted\n",
      "- ALL$I: No timezone found, symbol may be delisted\n",
      "- ALL$B: No timezone found, symbol may be delisted\n",
      "- ALSAW: 1d data not available for startTime=-2208994789 and endTime=1682562221. Only 100 years worth of day granularity data are allowed to be fetched per request.\n",
      "- ALTIW: 1d data not available for startTime=-2208994789 and endTime=1682562221. Only 100 years worth of day granularity data are allowed to be fetched per request.\n",
      "- ALVOW: 1d data not available for startTime=-2208994789 and endTime=1682562221. Only 100 years worth of day granularity data are allowed to be fetched per request.\n",
      "- ALPAW: 1d data not available for startTime=-2208994789 and endTime=1682562222. Only 100 years worth of day granularity data are allowed to be fetched per request.\n",
      "- AKO.B: No timezone found, symbol may be delisted\n",
      "- AKO.A: No timezone found, symbol may be delisted\n",
      "- ALSAR: 1d data not available for startTime=-2208994789 and endTime=1682562225. Only 100 years worth of day granularity data are allowed to be fetched per request.\n",
      "- ALLG.W: No timezone found, symbol may be delisted\n",
      "Success:     4/    4 | To go: 00:20:21 (8,061)\n",
      "[*********************100%***********************]  100 of 100 completed\n",
      "\n",
      "9 Failed downloads:\n",
      "- ANGHW: 1d data not available for startTime=-2208994789 and endTime=1682562230. Only 100 years worth of day granularity data are allowed to be fetched per request.\n",
      "- ANZUW: 1d data not available for startTime=-2208994789 and endTime=1682562232. Only 100 years worth of day granularity data are allowed to be fetched per request.\n",
      "- AMH$H: No timezone found, symbol may be delisted\n",
      "- AMBI.W: No timezone found, symbol may be delisted\n",
      "- AOGOW: 1d data not available for startTime=-2208994789 and endTime=1682562237. Only 100 years worth of day granularity data are allowed to be fetched per request.\n",
      "- AMH$G: No timezone found, symbol may be delisted\n",
      "- AMAOW: 1d data not available for startTime=-2208994789 and endTime=1682562237. Only 100 years worth of day granularity data are allowed to be fetched per request.\n",
      "- AMPX.W: No timezone found, symbol may be delisted\n",
      "- AMBP.W: No timezone found, symbol may be delisted\n",
      "Success:     5/    5 | To go: 00:20:20 (7,961)\n",
      "[*********************100%***********************]  100 of 100 completed\n",
      "\n",
      "16 Failed downloads:\n",
      "- APTMW: 1d data not available for startTime=-2208994789 and endTime=1682562245. Only 100 years worth of day granularity data are allowed to be fetched per request.\n",
      "- APXIW: 1d data not available for startTime=-2208994789 and endTime=1682562245. Only 100 years worth of day granularity data are allowed to be fetched per request.\n",
      "- AQUNR: 1d data not available for startTime=-2208994789 and endTime=1682562246. Only 100 years worth of day granularity data are allowed to be fetched per request.\n",
      "- APGB.U: No timezone found, symbol may be delisted\n",
      "- APCA.U: No timezone found, symbol may be delisted\n",
      "- APPHW: 1d data not available for startTime=-2208994789 and endTime=1682562247. Only 100 years worth of day granularity data are allowed to be fetched per request.\n",
      "- APACW: 1d data not available for startTime=-2208994789 and endTime=1682562248. Only 100 years worth of day granularity data are allowed to be fetched per request.\n",
      "- ARBGW: 1d data not available for startTime=-2208994789 and endTime=1682562250. Only 100 years worth of day granularity data are allowed to be fetched per request.\n",
      "- APCA.W: No timezone found, symbol may be delisted\n",
      "- APCXW: 1d data not available for startTime=-2208994789 and endTime=1682562251. Only 100 years worth of day granularity data are allowed to be fetched per request.\n",
      "- AP.W: No timezone found, symbol may be delisted\n",
      "- ARBEW: 1d data not available for startTime=-2208994789 and endTime=1682562253. Only 100 years worth of day granularity data are allowed to be fetched per request.\n",
      "- AREBW: 1d data not available for startTime=-2208994789 and endTime=1682562253. Only 100 years worth of day granularity data are allowed to be fetched per request.\n",
      "- APGB.W: No timezone found, symbol may be delisted\n",
      "- APMIW: 1d data not available for startTime=-2208994789 and endTime=1682562253. Only 100 years worth of day granularity data are allowed to be fetched per request.\n",
      "- APTV$A: No timezone found, symbol may be delisted\n",
      "Success:     6/    6 | To go: 00:19:36 (7,861)\n",
      "[*********************100%***********************]  100 of 100 completed\n",
      "\n",
      "20 Failed downloads:\n",
      "- ARIZR: 1d data not available for startTime=-2208994789 and endTime=1682562258. Only 100 years worth of day granularity data are allowed to be fetched per request.\n",
      "- ASPAW: 1d data not available for startTime=-2208994789 and endTime=1682562260. Only 100 years worth of day granularity data are allowed to be fetched per request.\n",
      "- ASB$F: No timezone found, symbol may be delisted\n",
      "- ASCBR: 1d data not available for startTime=-2208994789 and endTime=1682562262. Only 100 years worth of day granularity data are allowed to be fetched per request.\n",
      "- ATAKR: 1d data not available for startTime=-2208994789 and endTime=1682562262. Only 100 years worth of day granularity data are allowed to be fetched per request.\n",
      "- ASCBW: 1d data not available for startTime=-2208994789 and endTime=1682562262. Only 100 years worth of day granularity data are allowed to be fetched per request.\n",
      "- ARKOW: 1d data not available for startTime=-2208994789 and endTime=1682562263. Only 100 years worth of day granularity data are allowed to be fetched per request.\n",
      "- ASTSW: 1d data not available for startTime=-2208994789 and endTime=1682562264. Only 100 years worth of day granularity data are allowed to be fetched per request.\n",
      "- ASB$E: No timezone found, symbol may be delisted\n",
      "- ARGO$A: No timezone found, symbol may be delisted\n",
      "- ARR$C: No timezone found, symbol may be delisted\n",
      "- ARTLW: 1d data not available for startTime=-2208994789 and endTime=1682562266. Only 100 years worth of day granularity data are allowed to be fetched per request.\n",
      "- ARIZW: 1d data not available for startTime=-2208994789 and endTime=1682562266. Only 100 years worth of day granularity data are allowed to be fetched per request.\n",
      "- ARRWW: 1d data not available for startTime=-2208994789 and endTime=1682562267. Only 100 years worth of day granularity data are allowed to be fetched per request.\n",
      "- ARTEW: 1d data not available for startTime=-2208994789 and endTime=1682562267. Only 100 years worth of day granularity data are allowed to be fetched per request.\n",
      "- ASCAW: 1d data not available for startTime=-2208994789 and endTime=1682562267. Only 100 years worth of day granularity data are allowed to be fetched per request.\n",
      "- ATAQ.U: No timezone found, symbol may be delisted\n",
      "- ATAKW: 1d data not available for startTime=-2208994789 and endTime=1682562268. Only 100 years worth of day granularity data are allowed to be fetched per request.\n",
      "- ASTLW: 1d data not available for startTime=-2208994789 and endTime=1682562268. Only 100 years worth of day granularity data are allowed to be fetched per request.\n",
      "- ASCAR: 1d data not available for startTime=-2208994789 and endTime=1682562268. Only 100 years worth of day granularity data are allowed to be fetched per request.\n",
      "Success:     7/    7 | To go: 00:19:06 (7,761)\n",
      "[*********************100%***********************]  100 of 100 completed\n",
      "\n",
      "25 Failed downloads:\n",
      "- ATEST.B: No timezone found, symbol may be delisted\n",
      "- ATH$C: No timezone found, symbol may be delisted\n",
      "- ATH$A: No timezone found, symbol may be delisted\n",
      "- ATMCR: 1d data not available for startTime=-2208994789 and endTime=1682562272. Only 100 years worth of day granularity data are allowed to be fetched per request.\n",
      "- ATEST.A: No timezone found, symbol may be delisted\n",
      "- ATMCW: 1d data not available for startTime=-2208994789 and endTime=1682562273. Only 100 years worth of day granularity data are allowed to be fetched per request.\n",
      "- ATCO$H: No timezone found, symbol may be delisted\n",
      "- ATEK.W: No timezone found, symbol may be delisted\n",
      "- ATMVR: 1d data not available for startTime=-2208994789 and endTime=1682562274. Only 100 years worth of day granularity data are allowed to be fetched per request.\n",
      "- AURCW: 1d data not available for startTime=-2208994789 and endTime=1682562274. Only 100 years worth of day granularity data are allowed to be fetched per request.\n",
      "- ATIP.W: No timezone found, symbol may be delisted\n",
      "- ATH$D: No timezone found, symbol may be delisted\n",
      "- ATCO$D: No timezone found, symbol may be delisted\n",
      "- AUROW: 1d data not available for startTime=-2208994789 and endTime=1682562276. Only 100 years worth of day granularity data are allowed to be fetched per request.\n",
      "- AULT$D: No timezone found, symbol may be delisted\n",
      "- ATH$B: No timezone found, symbol may be delisted\n",
      "- AUUDW: 1d data not available for startTime=-2208994789 and endTime=1682562277. Only 100 years worth of day granularity data are allowed to be fetched per request.\n",
      "- ATH$E: No timezone found, symbol may be delisted\n",
      "- AVACW: 1d data not available for startTime=-2208994789 and endTime=1682562279. Only 100 years worth of day granularity data are allowed to be fetched per request.\n",
      "- ATEK.U: No timezone found, symbol may be delisted\n",
      "- ATEST.C: No timezone found, symbol may be delisted\n",
      "- ATCO$I: No timezone found, symbol may be delisted\n",
      "- ATEST: 1d data not available for startTime=-2208994789 and endTime=1682562280. Only 100 years worth of day granularity data are allowed to be fetched per request.\n",
      "- AUB$A: No timezone found, symbol may be delisted\n",
      "- ATNFW: 1d data not available for startTime=-2208994789 and endTime=1682562281. Only 100 years worth of day granularity data are allowed to be fetched per request.\n",
      "Success:     8/    8 | To go: 00:18:33 (7,661)\n",
      "[*********************100%***********************]  100 of 100 completed\n",
      "\n",
      "18 Failed downloads:\n",
      "- AXAC.R: No timezone found, symbol may be delisted\n",
      "- BARK.W: No timezone found, symbol may be delisted\n",
      "- AWINW: 1d data not available for startTime=-2208994789 and endTime=1682562284. Only 100 years worth of day granularity data are allowed to be fetched per request.\n",
      "- AXAC.W: No timezone found, symbol may be delisted\n",
      "- BAC$N: No timezone found, symbol may be delisted\n",
      "- BAC$K: No timezone found, symbol may be delisted\n",
      "- BAC$Q: No timezone found, symbol may be delisted\n",
      "- AVHIW: 1d data not available for startTime=-2208994789 and endTime=1682562291. Only 100 years worth of day granularity data are allowed to be fetched per request.\n",
      "- BAC$B: No timezone found, symbol may be delisted\n",
      "- BAC$S: No timezone found, symbol may be delisted\n",
      "- BAC$P: No timezone found, symbol may be delisted\n",
      "- BAC$M: No timezone found, symbol may be delisted\n",
      "- AVPTW: 1d data not available for startTime=-2208994789 and endTime=1682562296. Only 100 years worth of day granularity data are allowed to be fetched per request.\n",
      "- BAC$E: No timezone found, symbol may be delisted\n",
      "- BAC$L: No timezone found, symbol may be delisted\n",
      "- BAC$O: No timezone found, symbol may be delisted\n",
      "- BAERW: 1d data not available for startTime=-2208994789 and endTime=1682562299. Only 100 years worth of day granularity data are allowed to be fetched per request.\n",
      "- AXS$E: No timezone found, symbol may be delisted\n",
      "Success:     9/    9 | To go: 00:18:56 (7,561)\n",
      "[*********************100%***********************]  100 of 100 completed\n",
      "\n",
      "16 Failed downloads:\n",
      "- BEEMW: 1d data not available for startTime=-2208994789 and endTime=1682562303. Only 100 years worth of day granularity data are allowed to be fetched per request.\n",
      "- BCTXW: 1d data not available for startTime=-2208994789 and endTime=1682562305. Only 100 years worth of day granularity data are allowed to be fetched per request.\n",
      "- BCDAW: 1d data not available for startTime=-2208994789 and endTime=1682562306. Only 100 years worth of day granularity data are allowed to be fetched per request.\n",
      "- BFIIW: 1d data not available for startTime=-2208994789 and endTime=1682562307. Only 100 years worth of day granularity data are allowed to be fetched per request.\n",
      "- BCSAW: 1d data not available for startTime=-2208994789 and endTime=1682562307. Only 100 years worth of day granularity data are allowed to be fetched per request.\n",
      "- BC$B: No timezone found, symbol may be delisted\n",
      "- BC$C: No timezone found, symbol may be delisted\n",
      "- BF.A: No timezone found, symbol may be delisted\n",
      "- BCV$A: No timezone found, symbol may be delisted\n",
      "- BBAI.W: No timezone found, symbol may be delisted\n",
      "- BFAC.W: No timezone found, symbol may be delisted\n",
      "- BFAC.U: No timezone found, symbol may be delisted\n",
      "- BF.B: 1d data not available for startTime=-2208994789 and endTime=1682562311. Only 100 years worth of day granularity data are allowed to be fetched per request.\n",
      "- BC$A: No timezone found, symbol may be delisted\n",
      "- BEATW: 1d data not available for startTime=-2208994789 and endTime=1682562318. Only 100 years worth of day granularity data are allowed to be fetched per request.\n",
      "- BEP$A: No timezone found, symbol may be delisted\n",
      "Success:    10/   10 | To go: 00:19:20 (7,461)\n",
      "[*********************100%***********************]  100 of 100 completed\n",
      "\n",
      "17 Failed downloads:\n",
      "- BFS$E: No timezone found, symbol may be delisted\n",
      "- BHACW: 1d data not available for startTime=-2208994789 and endTime=1682562324. Only 100 years worth of day granularity data are allowed to be fetched per request.\n",
      "- BIP$B: No timezone found, symbol may be delisted\n",
      "- BHIL.W: No timezone found, symbol may be delisted\n",
      "- BFRIW: 1d data not available for startTime=-2208994789 and endTime=1682562326. Only 100 years worth of day granularity data are allowed to be fetched per request.\n",
      "- BIO.B: 1d data not available for startTime=-2208994789 and endTime=1682562326. Only 100 years worth of day granularity data are allowed to be fetched per request.\n",
      "- BITE.W: No timezone found, symbol may be delisted\n",
      "- BHR$B: No timezone found, symbol may be delisted\n",
      "- BIP$A: No timezone found, symbol may be delisted\n",
      "- BIAFW: 1d data not available for startTime=-2208994789 and endTime=1682562329. Only 100 years worth of day granularity data are allowed to be fetched per request.\n",
      "- BFRGW: 1d data not available for startTime=-2208994789 and endTime=1682562330. Only 100 years worth of day granularity data are allowed to be fetched per request.\n",
      "- BIOSW: 1d data not available for startTime=-2208994789 and endTime=1682562330. Only 100 years worth of day granularity data are allowed to be fetched per request.\n",
      "- BH.A: No timezone found, symbol may be delisted\n",
      "- BITE.U: No timezone found, symbol may be delisted\n",
      "- BHR$D: No timezone found, symbol may be delisted\n",
      "- BFLY.W: No timezone found, symbol may be delisted\n",
      "- BFS$D: No timezone found, symbol may be delisted\n",
      "Success:    11/   11 | To go: 00:19:09 (7,361)\n",
      "[*********************100%***********************]  100 of 100 completed\n",
      "\n",
      "21 Failed downloads:\n",
      "- BKKT.W: No timezone found, symbol may be delisted\n",
      "- BLACR: 1d data not available for startTime=-2208994789 and endTime=1682562341. Only 100 years worth of day granularity data are allowed to be fetched per request.\n",
      "- BLEUR: 1d data not available for startTime=-2208994789 and endTime=1682562341. Only 100 years worth of day granularity data are allowed to be fetched per request.\n",
      "- BLEUW: 1d data not available for startTime=-2208994789 and endTime=1682562344. Only 100 years worth of day granularity data are allowed to be fetched per request.\n",
      "- BLDEW: 1d data not available for startTime=-2208994789 and endTime=1682562344. Only 100 years worth of day granularity data are allowed to be fetched per request.\n",
      "- BMAC.U: No timezone found, symbol may be delisted\n",
      "- BKSY.W: No timezone found, symbol may be delisted\n",
      "- BML$G: No timezone found, symbol may be delisted\n",
      "- BLUA.W: No timezone found, symbol may be delisted\n",
      "- BNIXW: 1d data not available for startTime=-2208994789 and endTime=1682562349. Only 100 years worth of day granularity data are allowed to be fetched per request.\n",
      "- BML$J: No timezone found, symbol may be delisted\n",
      "- BLNGW: 1d data not available for startTime=-2208994789 and endTime=1682562349. Only 100 years worth of day granularity data are allowed to be fetched per request.\n",
      "- BNIXR: 1d data not available for startTime=-2208994789 and endTime=1682562349. Only 100 years worth of day granularity data are allowed to be fetched per request.\n",
      "- BML$H: No timezone found, symbol may be delisted\n",
      "- BMAC.W: No timezone found, symbol may be delisted\n",
      "- BNNRW: 1d data not available for startTime=-2208994789 and endTime=1682562352. Only 100 years worth of day granularity data are allowed to be fetched per request.\n",
      "- BML$L: No timezone found, symbol may be delisted\n",
      "- BMTX.W: No timezone found, symbol may be delisted\n",
      "- BLUA.U: No timezone found, symbol may be delisted\n",
      "- BLACW: 1d data not available for startTime=-2208994789 and endTime=1682562353. Only 100 years worth of day granularity data are allowed to be fetched per request.\n",
      "- BNGOW: 1d data not available for startTime=-2208994789 and endTime=1682562355. Only 100 years worth of day granularity data are allowed to be fetched per request.\n",
      "Success:    12/   12 | To go: 00:20:31 (7,261)\n",
      "[*********************100%***********************]  100 of 100 completed\n",
      "\n",
      "23 Failed downloads:\n",
      "- BOAC.U: No timezone found, symbol may be delisted\n",
      "- BSAQ.U: No timezone found, symbol may be delisted\n",
      "- BREZW: 1d data not available for startTime=-2208994789 and endTime=1682562372. Only 100 years worth of day granularity data are allowed to be fetched per request.\n",
      "- BROGW: 1d data not available for startTime=-2208994789 and endTime=1682562372. Only 100 years worth of day granularity data are allowed to be fetched per request.\n",
      "- BRD.W: No timezone found, symbol may be delisted\n",
      "- BRSHW: 1d data not available for startTime=-2208994789 and endTime=1682562375. Only 100 years worth of day granularity data are allowed to be fetched per request.\n",
      "- BRIVW: 1d data not available for startTime=-2208994789 and endTime=1682562375. Only 100 years worth of day granularity data are allowed to be fetched per request.\n",
      "- BRACR: 1d data not available for startTime=-2208994789 and endTime=1682562375. Only 100 years worth of day granularity data are allowed to be fetched per request.\n",
      "- BOH$A: No timezone found, symbol may be delisted\n",
      "- BSAQ.W: No timezone found, symbol may be delisted\n",
      "- BREZR: 1d data not available for startTime=-2208994789 and endTime=1682562376. Only 100 years worth of day granularity data are allowed to be fetched per request.\n",
      "- BRK.B: No timezone found, symbol may be delisted\n",
      "- BRK.A: No timezone found, symbol may be delisted\n",
      "- BRLIR: 1d data not available for startTime=-2208994789 and endTime=1682562377. Only 100 years worth of day granularity data are allowed to be fetched per request.\n",
      "- BRKHW: 1d data not available for startTime=-2208994789 and endTime=1682562377. Only 100 years worth of day granularity data are allowed to be fetched per request.\n",
      "- BOOM: No data found for this date range, symbol may be delisted\n",
      "- BOCNW: 1d data not available for startTime=-2208994789 and endTime=1682562378. Only 100 years worth of day granularity data are allowed to be fetched per request.\n",
      "- BPACW: 1d data not available for startTime=-2208994789 and endTime=1682562380. Only 100 years worth of day granularity data are allowed to be fetched per request.\n",
      "- BOAC.W: No timezone found, symbol may be delisted\n",
      "- BRD.U: No timezone found, symbol may be delisted\n",
      "- BRLIW: 1d data not available for startTime=-2208994789 and endTime=1682562381. Only 100 years worth of day granularity data are allowed to be fetched per request.\n",
      "- BRDS.W: No timezone found, symbol may be delisted\n",
      "- BODY.W: No timezone found, symbol may be delisted\n",
      "Success:    13/   13 | To go: 00:19:52 (7,161)\n",
      "[*********************100%***********************]  100 of 100 completed\n",
      "\n",
      "13 Failed downloads:\n",
      "- BYN.U: No timezone found, symbol may be delisted\n",
      "- BWAQR: 1d data not available for startTime=-2208994789 and endTime=1682562388. Only 100 years worth of day granularity data are allowed to be fetched per request.\n",
      "- BYN.W: No timezone found, symbol may be delisted\n",
      "- BWCAW: 1d data not available for startTime=-2208994789 and endTime=1682562390. Only 100 years worth of day granularity data are allowed to be fetched per request.\n",
      "- BWACW: 1d data not available for startTime=-2208994789 and endTime=1682562391. Only 100 years worth of day granularity data are allowed to be fetched per request.\n",
      "- BTBDW: 1d data not available for startTime=-2208994789 and endTime=1682562391. Only 100 years worth of day granularity data are allowed to be fetched per request.\n",
      "- BW$A: No timezone found, symbol may be delisted\n",
      "- BTMDW: 1d data not available for startTime=-2208994789 and endTime=1682562392. Only 100 years worth of day granularity data are allowed to be fetched per request.\n",
      "- BYNOW: 1d data not available for startTime=-2208994789 and endTime=1682562393. Only 100 years worth of day granularity data are allowed to be fetched per request.\n",
      "- BURU.W: No timezone found, symbol may be delisted\n",
      "- BYTSW: 1d data not available for startTime=-2208994789 and endTime=1682562395. Only 100 years worth of day granularity data are allowed to be fetched per request.\n",
      "- BWAQW: 1d data not available for startTime=-2208994789 and endTime=1682562395. Only 100 years worth of day granularity data are allowed to be fetched per request.\n",
      "- BSX$A: No timezone found, symbol may be delisted\n",
      "Success:    14/   14 | To go: 00:19:28 (7,061)\n",
      "[*********************100%***********************]  100 of 100 completed\n",
      "\n",
      "10 Failed downloads:\n",
      "- CBX: 1d data not available for startTime=-2208994789 and endTime=1682562400. Only 100 years worth of day granularity data are allowed to be fetched per request.\n",
      "- C$N: No timezone found, symbol may be delisted\n",
      "- CBO: 1d data not available for startTime=-2208994789 and endTime=1682562405. Only 100 years worth of day granularity data are allowed to be fetched per request.\n",
      "- C$J: No timezone found, symbol may be delisted\n",
      "- CANO.W: No timezone found, symbol may be delisted\n",
      "- CBRGW: 1d data not available for startTime=-2208994789 and endTime=1682562410. Only 100 years worth of day granularity data are allowed to be fetched per request.\n",
      "- CADE$A: No timezone found, symbol may be delisted\n",
      "- CCAIW: 1d data not available for startTime=-2208994789 and endTime=1682562413. Only 100 years worth of day granularity data are allowed to be fetched per request.\n",
      "- C$K: No timezone found, symbol may be delisted\n",
      "- BZFDW: 1d data not available for startTime=-2208994789 and endTime=1682562415. Only 100 years worth of day granularity data are allowed to be fetched per request.\n",
      "Success:    15/   15 | To go: 00:19:22 (6,961)\n",
      "[*********************100%***********************]  100 of 100 completed\n",
      "\n",
      "21 Failed downloads:\n",
      "- CELG.R: No timezone found, symbol may be delisted\n",
      "- CDR$C: No timezone found, symbol may be delisted\n",
      "- CCVI.U: No timezone found, symbol may be delisted\n",
      "- CFR$B: No timezone found, symbol may be delisted\n",
      "- CCTSW: 1d data not available for startTime=-2208994789 and endTime=1682562419. Only 100 years worth of day granularity data are allowed to be fetched per request.\n",
      "- CETUR: 1d data not available for startTime=-2208994789 and endTime=1682562419. Only 100 years worth of day granularity data are allowed to be fetched per request.\n",
      "- CFG$D: No timezone found, symbol may be delisted\n",
      "- CFFSW: 1d data not available for startTime=-2208994789 and endTime=1682562421. Only 100 years worth of day granularity data are allowed to be fetched per request.\n",
      "- CCV.U: No timezone found, symbol may be delisted\n",
      "- CFG$E: No timezone found, symbol may be delisted\n",
      "- CFFEW: 1d data not available for startTime=-2208994789 and endTime=1682562423. Only 100 years worth of day granularity data are allowed to be fetched per request.\n",
      "- CDROW: 1d data not available for startTime=-2208994789 and endTime=1682562424. Only 100 years worth of day granularity data are allowed to be fetched per request.\n",
      "- CDR$B: No timezone found, symbol may be delisted\n",
      "- CEADW: 1d data not available for startTime=-2208994789 and endTime=1682562425. Only 100 years worth of day granularity data are allowed to be fetched per request.\n",
      "- CDAQW: 1d data not available for startTime=-2208994789 and endTime=1682562426. Only 100 years worth of day granularity data are allowed to be fetched per request.\n",
      "- CETUW: 1d data not available for startTime=-2208994789 and endTime=1682562426. Only 100 years worth of day granularity data are allowed to be fetched per request.\n",
      "- CCVI.W: No timezone found, symbol may be delisted\n",
      "- CELUW: 1d data not available for startTime=-2208994789 and endTime=1682562427. Only 100 years worth of day granularity data are allowed to be fetched per request.\n",
      "- CDIOW: 1d data not available for startTime=-2208994789 and endTime=1682562428. Only 100 years worth of day granularity data are allowed to be fetched per request.\n",
      "- CEQP$: No timezone found, symbol may be delisted\n",
      "- CCV.W: No timezone found, symbol may be delisted\n",
      "Success:    16/   16 | To go: 00:18:51 (6,861)\n",
      "[*********************100%***********************]  100 of 100 completed\n",
      "\n",
      "14 Failed downloads:\n",
      "- CIO$A: No timezone found, symbol may be delisted\n",
      "- CIM$D: No timezone found, symbol may be delisted\n",
      "- CHMI$A: No timezone found, symbol may be delisted\n",
      "- CIFRW: 1d data not available for startTime=-2208994789 and endTime=1682562438. Only 100 years worth of day granularity data are allowed to be fetched per request.\n",
      "- CIG.C: No timezone found, symbol may be delisted\n",
      "- CHMI$B: No timezone found, symbol may be delisted\n",
      "- CIM$C: No timezone found, symbol may be delisted\n",
      "- CHEKZ: 1d data not available for startTime=-2208994789 and endTime=1682562443. Only 100 years worth of day granularity data are allowed to be fetched per request.\n",
      "- CIM$A: No timezone found, symbol may be delisted\n",
      "- CINGW: 1d data not available for startTime=-2208994789 and endTime=1682562443. Only 100 years worth of day granularity data are allowed to be fetched per request.\n",
      "- CIM$B: No timezone found, symbol may be delisted\n",
      "- CITEW: 1d data not available for startTime=-2208994789 and endTime=1682562443. Only 100 years worth of day granularity data are allowed to be fetched per request.\n",
      "- CIIGW: 1d data not available for startTime=-2208994789 and endTime=1682562443. Only 100 years worth of day granularity data are allowed to be fetched per request.\n",
      "- CHEAW: 1d data not available for startTime=-2208994789 and endTime=1682562444. Only 100 years worth of day granularity data are allowed to be fetched per request.\n",
      "Success:    17/   17 | To go: 00:18:33 (6,761)\n",
      "[*********************100%***********************]  100 of 100 completed\n",
      "\n",
      "20 Failed downloads:\n",
      "- CLAYW: 1d data not available for startTime=-2208994789 and endTime=1682562448. Only 100 years worth of day granularity data are allowed to be fetched per request.\n",
      "- CMRE$E: No timezone found, symbol may be delisted\n",
      "- CLRCW: 1d data not available for startTime=-2208994789 and endTime=1682562450. Only 100 years worth of day granularity data are allowed to be fetched per request.\n",
      "- CMS$B: No timezone found, symbol may be delisted\n",
      "- CLBR.W: No timezone found, symbol may be delisted\n",
      "- CMAXW: 1d data not available for startTime=-2208994789 and endTime=1682562452. Only 100 years worth of day granularity data are allowed to be fetched per request.\n",
      "- CMRE$C: No timezone found, symbol may be delisted\n",
      "- CMRE$D: No timezone found, symbol may be delisted\n",
      "- CMPOW: 1d data not available for startTime=-2208994789 and endTime=1682562454. Only 100 years worth of day granularity data are allowed to be fetched per request.\n",
      "- CLBR.U: No timezone found, symbol may be delisted\n",
      "- CMS$C: No timezone found, symbol may be delisted\n",
      "- CMCAW: 1d data not available for startTime=-2208994789 and endTime=1682562455. Only 100 years worth of day granularity data are allowed to be fetched per request.\n",
      "- CLOER: 1d data not available for startTime=-2208994789 and endTime=1682562455. Only 100 years worth of day granularity data are allowed to be fetched per request.\n",
      "- CLBTW: 1d data not available for startTime=-2208994789 and endTime=1682562456. Only 100 years worth of day granularity data are allowed to be fetched per request.\n",
      "- CLVT$A: No timezone found, symbol may be delisted\n",
      "- CLDT$A: No timezone found, symbol may be delisted\n",
      "- CMRE$B: No timezone found, symbol may be delisted\n",
      "- CLNNW: 1d data not available for startTime=-2208994789 and endTime=1682562461. Only 100 years worth of day granularity data are allowed to be fetched per request.\n",
      "- CMRAW: 1d data not available for startTime=-2208994789 and endTime=1682562461. Only 100 years worth of day granularity data are allowed to be fetched per request.\n",
      "- CLRCR: 1d data not available for startTime=-2208994789 and endTime=1682562462. Only 100 years worth of day granularity data are allowed to be fetched per request.\n",
      "Success:    18/   18 | To go: 00:18:15 (6,661)\n",
      "[*********************100%***********************]  100 of 100 completed\n",
      "\n",
      "20 Failed downloads:\n",
      "- CODI$B: No timezone found, symbol may be delisted\n",
      "- CNGLW: 1d data not available for startTime=-2208994789 and endTime=1682562464. Only 100 years worth of day granularity data are allowed to be fetched per request.\n",
      "- CNO$A: No timezone found, symbol may be delisted\n",
      "- COF$L: No timezone found, symbol may be delisted\n",
      "- CORS.W: No timezone found, symbol may be delisted\n",
      "- CODI$C: No timezone found, symbol may be delisted\n",
      "- COF$N: No timezone found, symbol may be delisted\n",
      "- COF$J: No timezone found, symbol may be delisted\n",
      "- COF$I: No timezone found, symbol may be delisted\n",
      "- CNDB.U: No timezone found, symbol may be delisted\n",
      "- COEPW: 1d data not available for startTime=-2208994789 and endTime=1682562472. Only 100 years worth of day granularity data are allowed to be fetched per request.\n",
      "- CONXW: 1d data not available for startTime=-2208994789 and endTime=1682562472. Only 100 years worth of day granularity data are allowed to be fetched per request.\n",
      "- CORS.U: No timezone found, symbol may be delisted\n",
      "- CNDA.U: No timezone found, symbol may be delisted\n",
      "- CNDB.W: No timezone found, symbol may be delisted\n",
      "- CODI$A: No timezone found, symbol may be delisted\n",
      "- COMSW: 1d data not available for startTime=-2208994789 and endTime=1682562474. Only 100 years worth of day granularity data are allowed to be fetched per request.\n",
      "- CNDA.W: No timezone found, symbol may be delisted\n",
      "- COF$K: No timezone found, symbol may be delisted\n",
      "- CORR$A: No timezone found, symbol may be delisted\n",
      "Success:    19/   19 | To go: 00:17:53 (6,561)\n",
      "[*********************100%***********************]  100 of 100 completed\n",
      "\n",
      "14 Failed downloads:\n",
      "- CRD.B: No timezone found, symbol may be delisted\n",
      "- CRECW: 1d data not available for startTime=-2208994789 and endTime=1682562479. Only 100 years worth of day granularity data are allowed to be fetched per request.\n",
      "- CSLMW: 1d data not available for startTime=-2208994789 and endTime=1682562479. Only 100 years worth of day granularity data are allowed to be fetched per request.\n",
      "- CRD.A: No timezone found, symbol may be delisted\n",
      "- CRGOW: 1d data not available for startTime=-2208994789 and endTime=1682562484. Only 100 years worth of day granularity data are allowed to be fetched per request.\n",
      "- CPUH.U: No timezone found, symbol may be delisted\n",
      "- CSLMR: 1d data not available for startTime=-2208994789 and endTime=1682562491. Only 100 years worth of day granularity data are allowed to be fetched per request.\n",
      "- CPTNW: 1d data not available for startTime=-2208994789 and endTime=1682562492. Only 100 years worth of day granularity data are allowed to be fetched per request.\n",
      "- CREXW: 1d data not available for startTime=-2208994789 and endTime=1682562493. Only 100 years worth of day granularity data are allowed to be fetched per request.\n",
      "- CSR$C: No timezone found, symbol may be delisted\n",
      "- CPAAW: 1d data not available for startTime=-2208994789 and endTime=1682562494. Only 100 years worth of day granularity data are allowed to be fetched per request.\n",
      "- CRESW: 1d data not available for startTime=-2208994789 and endTime=1682562494. Only 100 years worth of day granularity data are allowed to be fetched per request.\n",
      "- CPTK.U: No timezone found, symbol may be delisted\n",
      "- CPUH.W: No timezone found, symbol may be delisted\n",
      "Success:    20/   20 | To go: 00:17:49 (6,461)\n",
      "[*********************100%***********************]  100 of 100 completed\n",
      "\n",
      "22 Failed downloads:\n",
      "- CTEST.G: No timezone found, symbol may be delisted\n",
      "- CTOS.W: No timezone found, symbol may be delisted\n",
      "- CTA$A: No timezone found, symbol may be delisted\n",
      "- CSSEL: 1d data not available for startTime=-2208994789 and endTime=1682562499. Only 100 years worth of day granularity data are allowed to be fetched per request.\n",
      "- CTO$A: No timezone found, symbol may be delisted\n",
      "- CTEST.O: No timezone found, symbol may be delisted\n",
      "- CTEST.L: No timezone found, symbol may be delisted\n",
      "- CURIW: 1d data not available for startTime=-2208994789 and endTime=1682562503. Only 100 years worth of day granularity data are allowed to be fetched per request.\n",
      "- CTEST: 1d data not available for startTime=-2208994789 and endTime=1682562503. Only 100 years worth of day granularity data are allowed to be fetched per request.\n",
      "- CTV.W: No timezone found, symbol may be delisted\n",
      "- CUBI$F: No timezone found, symbol may be delisted\n",
      "- CSTA.U: No timezone found, symbol may be delisted\n",
      "- CTA$B: No timezone found, symbol may be delisted\n",
      "- CTEST.E: No timezone found, symbol may be delisted\n",
      "- CVE.W: No timezone found, symbol may be delisted\n",
      "- CVII.W: No timezone found, symbol may be delisted\n",
      "- CTEST.V: No timezone found, symbol may be delisted\n",
      "- CTEST.S: No timezone found, symbol may be delisted\n",
      "- CVII.U: No timezone found, symbol may be delisted\n",
      "- CSTA.W: No timezone found, symbol may be delisted\n",
      "- CUBI$E: No timezone found, symbol may be delisted\n",
      "- CUENW: 1d data not available for startTime=-2208994789 and endTime=1682562511. Only 100 years worth of day granularity data are allowed to be fetched per request.\n",
      "Success:    21/   21 | To go: 00:17:29 (6,361)\n",
      "[*********************100%***********************]  100 of 100 completed\n",
      "\n",
      "13 Failed downloads:\n",
      "- DAVEW: 1d data not available for startTime=-2208994789 and endTime=1682562515. Only 100 years worth of day granularity data are allowed to be fetched per request.\n",
      "- DCP$C: No timezone found, symbol may be delisted\n",
      "- DC.W: No timezone found, symbol may be delisted\n",
      "- CXAC.W: No timezone found, symbol may be delisted\n",
      "- CWEN.A: No timezone found, symbol may be delisted\n",
      "- DCP$B: No timezone found, symbol may be delisted\n",
      "- DBRG$H: No timezone found, symbol may be delisted\n",
      "- DBRG$I: No timezone found, symbol may be delisted\n",
      "- CXAIW: 1d data not available for startTime=-2208994789 and endTime=1682562523. Only 100 years worth of day granularity data are allowed to be fetched per request.\n",
      "- CXAC.U: No timezone found, symbol may be delisted\n",
      "- DBGIW: 1d data not available for startTime=-2208994789 and endTime=1682562526. Only 100 years worth of day granularity data are allowed to be fetched per request.\n",
      "- DCFCW: 1d data not available for startTime=-2208994789 and endTime=1682562527. Only 100 years worth of day granularity data are allowed to be fetched per request.\n",
      "- DBRG$J: No timezone found, symbol may be delisted\n",
      "Success:    22/   22 | To go: 00:17:17 (6,261)\n",
      "[*********************100%***********************]  100 of 100 completed\n",
      "\n",
      "18 Failed downloads:\n",
      "- DMYY.W: No timezone found, symbol may be delisted\n",
      "- DISAW: 1d data not available for startTime=-2208994789 and endTime=1682562533. Only 100 years worth of day granularity data are allowed to be fetched per request.\n",
      "- DMAQR: 1d data not available for startTime=-2208994789 and endTime=1682562533. Only 100 years worth of day granularity data are allowed to be fetched per request.\n",
      "- DFLIW: 1d data not available for startTime=-2208994789 and endTime=1682562534. Only 100 years worth of day granularity data are allowed to be fetched per request.\n",
      "- DHCAW: 1d data not available for startTime=-2208994789 and endTime=1682562535. Only 100 years worth of day granularity data are allowed to be fetched per request.\n",
      "- DKDCW: 1d data not available for startTime=-2208994789 and endTime=1682562536. Only 100 years worth of day granularity data are allowed to be fetched per request.\n",
      "- DISTR: 1d data not available for startTime=-2208994789 and endTime=1682562540. Only 100 years worth of day granularity data are allowed to be fetched per request.\n",
      "- DMYY.U: No timezone found, symbol may be delisted\n",
      "- DLR$K: No timezone found, symbol may be delisted\n",
      "- DLR$J: No timezone found, symbol may be delisted\n",
      "- DLNG$A: No timezone found, symbol may be delisted\n",
      "- DHACW: 1d data not available for startTime=-2208994789 and endTime=1682562542. Only 100 years worth of day granularity data are allowed to be fetched per request.\n",
      "- DLR$L: No timezone found, symbol may be delisted\n",
      "- DMS.W: No timezone found, symbol may be delisted\n",
      "- DISTW: 1d data not available for startTime=-2208994789 and endTime=1682562544. Only 100 years worth of day granularity data are allowed to be fetched per request.\n",
      "- DECAW: 1d data not available for startTime=-2208994789 and endTime=1682562544. Only 100 years worth of day granularity data are allowed to be fetched per request.\n",
      "- DHCNL: 1d data not available for startTime=-2208994789 and endTime=1682562544. Only 100 years worth of day granularity data are allowed to be fetched per request.\n",
      "- DLNG$B: No timezone found, symbol may be delisted\n",
      "Success:    23/   23 | To go: 00:16:58 (6,161)\n",
      "[*********************100%***********************]  100 of 100 completed\n",
      "\n",
      "14 Failed downloads:\n",
      "- DOMA.W: No timezone found, symbol may be delisted\n",
      "- DTSTW: 1d data not available for startTime=-2208994789 and endTime=1682562549. Only 100 years worth of day granularity data are allowed to be fetched per request.\n",
      "- DSX$B: No timezone found, symbol may be delisted\n",
      "- DUK$A: No timezone found, symbol may be delisted\n",
      "- DSAQ.U: No timezone found, symbol may be delisted\n",
      "- DUNEW: 1d data not available for startTime=-2208994789 and endTime=1682562555. Only 100 years worth of day granularity data are allowed to be fetched per request.\n",
      "- DNA.W: No timezone found, symbol may be delisted\n",
      "- DTOCW: 1d data not available for startTime=-2208994789 and endTime=1682562555. Only 100 years worth of day granularity data are allowed to be fetched per request.\n",
      "- DRCTW: 1d data not available for startTime=-2208994789 and endTime=1682562556. Only 100 years worth of day granularity data are allowed to be fetched per request.\n",
      "- DPCSW: 1d data not available for startTime=-2208994789 and endTime=1682562556. Only 100 years worth of day granularity data are allowed to be fetched per request.\n",
      "- DRTSW: 1d data not available for startTime=-2208994789 and endTime=1682562557. Only 100 years worth of day granularity data are allowed to be fetched per request.\n",
      "- DRMAW: 1d data not available for startTime=-2208994789 and endTime=1682562559. Only 100 years worth of day granularity data are allowed to be fetched per request.\n",
      "- DRH$A: No timezone found, symbol may be delisted\n",
      "- DUETW: 1d data not available for startTime=-2208994789 and endTime=1682562560. Only 100 years worth of day granularity data are allowed to be fetched per request.\n",
      "Success:    24/   24 | To go: 00:16:40 (6,061)\n",
      "[*********************100%***********************]  100 of 100 completed\n",
      "\n",
      "15 Failed downloads:\n",
      "- EFTRW: 1d data not available for startTime=-2208994789 and endTime=1682562564. Only 100 years worth of day granularity data are allowed to be fetched per request.\n",
      "- EDBLW: 1d data not available for startTime=-2208994789 and endTime=1682562564. Only 100 years worth of day granularity data are allowed to be fetched per request.\n",
      "- EDTXW: 1d data not available for startTime=-2208994789 and endTime=1682562565. Only 100 years worth of day granularity data are allowed to be fetched per request.\n",
      "- ECXWW: 1d data not available for startTime=-2208994789 and endTime=1682562567. Only 100 years worth of day granularity data are allowed to be fetched per request.\n",
      "- EBR.B: No timezone found, symbol may be delisted\n",
      "- EFC$C: No timezone found, symbol may be delisted\n",
      "- ECC$D: No timezone found, symbol may be delisted\n",
      "- EFC$B: No timezone found, symbol may be delisted\n",
      "- DX$C: No timezone found, symbol may be delisted\n",
      "- EFC$A: No timezone found, symbol may be delisted\n",
      "- EACPW: 1d data not available for startTime=-2208994789 and endTime=1682562573. Only 100 years worth of day granularity data are allowed to be fetched per request.\n",
      "- EFHTR: 1d data not available for startTime=-2208994789 and endTime=1682562574. Only 100 years worth of day granularity data are allowed to be fetched per request.\n",
      "- EFHTW: 1d data not available for startTime=-2208994789 and endTime=1682562574. Only 100 years worth of day granularity data are allowed to be fetched per request.\n",
      "- DWACW: 1d data not available for startTime=-2208994789 and endTime=1682562575. Only 100 years worth of day granularity data are allowed to be fetched per request.\n",
      "- ECF$A: No timezone found, symbol may be delisted\n",
      "Success:    25/   25 | To go: 00:16:53 (5,961)\n",
      "[*********************100%***********************]  100 of 100 completed\n",
      "\n",
      "11 Failed downloads:\n",
      "- EMP: No data found for this date range, symbol may be delisted\n",
      "- EMCGW: 1d data not available for startTime=-2208994789 and endTime=1682562594. Only 100 years worth of day granularity data are allowed to be fetched per request.\n",
      "- ENCPW: 1d data not available for startTime=-2208994789 and endTime=1682562595. Only 100 years worth of day granularity data are allowed to be fetched per request.\n",
      "- EMLDW: 1d data not available for startTime=-2208994789 and endTime=1682562596. Only 100 years worth of day granularity data are allowed to be fetched per request.\n",
      "- ENERW: 1d data not available for startTime=-2208994789 and endTime=1682562596. Only 100 years worth of day granularity data are allowed to be fetched per request.\n",
      "- EGGF.W: No timezone found, symbol may be delisted\n",
      "- EMBKW: 1d data not available for startTime=-2208994789 and endTime=1682562598. Only 100 years worth of day granularity data are allowed to be fetched per request.\n",
      "- ENERR: 1d data not available for startTime=-2208994789 and endTime=1682562599. Only 100 years worth of day granularity data are allowed to be fetched per request.\n",
      "- EGGF.U: No timezone found, symbol may be delisted\n",
      "- EMCGR: 1d data not available for startTime=-2208994789 and endTime=1682562604. Only 100 years worth of day granularity data are allowed to be fetched per request.\n",
      "- ENTFW: 1d data not available for startTime=-2208994789 and endTime=1682562605. Only 100 years worth of day granularity data are allowed to be fetched per request.\n",
      "Success:    26/   26 | To go: 00:16:45 (5,861)\n",
      "[*********************100%***********************]  100 of 100 completed\n",
      "\n",
      "17 Failed downloads:\n",
      "- ET$E: No timezone found, symbol may be delisted\n",
      "- ENTXW: 1d data not available for startTime=-2208994789 and endTime=1682562614. Only 100 years worth of day granularity data are allowed to be fetched per request.\n",
      "- ESACW: 1d data not available for startTime=-2208994789 and endTime=1682562614. Only 100 years worth of day granularity data are allowed to be fetched per request.\n",
      "- ET$C: No timezone found, symbol may be delisted\n",
      "- ERESW: 1d data not available for startTime=-2208994789 and endTime=1682562626. Only 100 years worth of day granularity data are allowed to be fetched per request.\n",
      "- ETI$: No timezone found, symbol may be delisted\n",
      "- EOCW.W: No timezone found, symbol may be delisted\n",
      "- EPR$E: No timezone found, symbol may be delisted\n",
      "- EQRXW: 1d data not available for startTime=-2208994789 and endTime=1682562629. Only 100 years worth of day granularity data are allowed to be fetched per request.\n",
      "- EQC$D: No timezone found, symbol may be delisted\n",
      "- ET$D: No timezone found, symbol may be delisted\n",
      "- EQH$C: No timezone found, symbol may be delisted\n",
      "- EPR$C: No timezone found, symbol may be delisted\n",
      "- EPR$G: No timezone found, symbol may be delisted\n",
      "- EQH$A: No timezone found, symbol may be delisted\n",
      "- EOCW.U: No timezone found, symbol may be delisted\n",
      "- EP$C: No timezone found, symbol may be delisted\n",
      "Success:    27/   27 | To go: 00:16:39 (5,761)\n",
      "[*********************100%***********************]  100 of 100 completed\n",
      "\n",
      "15 Failed downloads:\n",
      "- F$B: No timezone found, symbol may be delisted\n",
      "- EVE.W: No timezone found, symbol may be delisted\n",
      "- ETWO.W: No timezone found, symbol may be delisted\n",
      "- EUDAW: 1d data not available for startTime=-2208994789 and endTime=1682562639. Only 100 years worth of day granularity data are allowed to be fetched per request.\n",
      "- F$D: No timezone found, symbol may be delisted\n",
      "- EVEX.W: No timezone found, symbol may be delisted\n",
      "- F$C: No timezone found, symbol may be delisted\n",
      "- EUCRW: 1d data not available for startTime=-2208994789 and endTime=1682562643. Only 100 years worth of day granularity data are allowed to be fetched per request.\n",
      "- EVOJW: 1d data not available for startTime=-2208994789 and endTime=1682562643. Only 100 years worth of day granularity data are allowed to be fetched per request.\n",
      "- EVE.U: No timezone found, symbol may be delisted\n",
      "- FACT.U: No timezone found, symbol may be delisted\n",
      "- EVGRW: 1d data not available for startTime=-2208994789 and endTime=1682562645. Only 100 years worth of day granularity data are allowed to be fetched per request.\n",
      "- EVLVW: 1d data not available for startTime=-2208994789 and endTime=1682562646. Only 100 years worth of day granularity data are allowed to be fetched per request.\n",
      "- EVTL.W: No timezone found, symbol may be delisted\n",
      "- FACT.W: No timezone found, symbol may be delisted\n",
      "Success:    28/   28 | To go: 00:16:16 (5,661)\n",
      "[*********************100%***********************]  100 of 100 completed\n",
      "\n",
      "15 Failed downloads:\n",
      "- FEXDR: 1d data not available for startTime=-2208994789 and endTime=1682562651. Only 100 years worth of day granularity data are allowed to be fetched per request.\n",
      "- FHLTW: 1d data not available for startTime=-2208994789 and endTime=1682562658. Only 100 years worth of day granularity data are allowed to be fetched per request.\n",
      "- FHN$C: No timezone found, symbol may be delisted\n",
      "- FGIWW: 1d data not available for startTime=-2208994789 and endTime=1682562665. Only 100 years worth of day granularity data are allowed to be fetched per request.\n",
      "- FHN$D: No timezone found, symbol may be delisted\n",
      "- FHN$E: No timezone found, symbol may be delisted\n",
      "- FEXDW: 1d data not available for startTime=-2208994789 and endTime=1682562675. Only 100 years worth of day granularity data are allowed to be fetched per request.\n",
      "- FFIEW: 1d data not available for startTime=-2208994789 and endTime=1682562675. Only 100 years worth of day granularity data are allowed to be fetched per request.\n",
      "- FGMCW: 1d data not available for startTime=-2208994789 and endTime=1682562675. Only 100 years worth of day granularity data are allowed to be fetched per request.\n",
      "- FBRT$E: No timezone found, symbol may be delisted\n",
      "- FATH.W: No timezone found, symbol may be delisted\n",
      "- FAZEW: 1d data not available for startTime=-2208994789 and endTime=1682562678. Only 100 years worth of day granularity data are allowed to be fetched per request.\n",
      "- FATPW: 1d data not available for startTime=-2208994789 and endTime=1682562678. Only 100 years worth of day granularity data are allowed to be fetched per request.\n",
      "- FHN$B: No timezone found, symbol may be delisted\n",
      "- FATBW: 1d data not available for startTime=-2208994789 and endTime=1682562687. Only 100 years worth of day granularity data are allowed to be fetched per request.\n",
      "Success:    29/   29 | To go: 00:16:43 (5,561)\n",
      "[*********************100%***********************]  100 of 100 completed\n",
      "\n",
      "13 Failed downloads:\n",
      "- FLFVW: 1d data not available for startTime=-2208994789 and endTime=1682562691. Only 100 years worth of day granularity data are allowed to be fetched per request.\n",
      "- FNVTW: 1d data not available for startTime=-2208994789 and endTime=1682562692. Only 100 years worth of day granularity data are allowed to be fetched per request.\n",
      "- FLME.U: No timezone found, symbol may be delisted\n",
      "- FMIVW: 1d data not available for startTime=-2208994789 and endTime=1682562697. Only 100 years worth of day granularity data are allowed to be fetched per request.\n",
      "- FHN$F: No timezone found, symbol may be delisted\n",
      "- FLFVR: 1d data not available for startTime=-2208994789 and endTime=1682562699. Only 100 years worth of day granularity data are allowed to be fetched per request.\n",
      "- FOA.W: No timezone found, symbol may be delisted\n",
      "- FLAG.U: No timezone found, symbol may be delisted\n",
      "- FNB$E: No timezone found, symbol may be delisted\n",
      "- FIACW: 1d data not available for startTime=-2208994789 and endTime=1682562700. Only 100 years worth of day granularity data are allowed to be fetched per request.\n",
      "- FICVW: 1d data not available for startTime=-2208994789 and endTime=1682562701. Only 100 years worth of day granularity data are allowed to be fetched per request.\n",
      "- FLME.W: No timezone found, symbol may be delisted\n",
      "- FLAG.W: No timezone found, symbol may be delisted\n",
      "Success:    30/   30 | To go: 00:16:36 (5,461)\n",
      "[*********************100%***********************]  100 of 100 completed\n",
      "\n",
      "16 Failed downloads:\n",
      "- FRC$H: No timezone found, symbol may be delisted\n",
      "- FRC$J: No timezone found, symbol may be delisted\n",
      "- FRC$K: No timezone found, symbol may be delisted\n",
      "- FRC$N: No timezone found, symbol may be delisted\n",
      "- FSNB.U: No timezone found, symbol may be delisted\n",
      "- FRT$C: No timezone found, symbol may be delisted\n",
      "- FRC$I: No timezone found, symbol may be delisted\n",
      "- FRC$M: No timezone found, symbol may be delisted\n",
      "- FOXO.W: No timezone found, symbol may be delisted\n",
      "- FREEW: 1d data not available for startTime=-2208994789 and endTime=1682562723. Only 100 years worth of day granularity data are allowed to be fetched per request.\n",
      "- FRC$L: No timezone found, symbol may be delisted\n",
      "- FRXB.U: No timezone found, symbol may be delisted\n",
      "- FREY.W: No timezone found, symbol may be delisted\n",
      "- FSRXW: 1d data not available for startTime=-2208994789 and endTime=1682562725. Only 100 years worth of day granularity data are allowed to be fetched per request.\n",
      "- FRBNW: 1d data not available for startTime=-2208994789 and endTime=1682562726. Only 100 years worth of day granularity data are allowed to be fetched per request.\n",
      "- FRXB.W: No timezone found, symbol may be delisted\n",
      "Success:    31/   31 | To go: 00:16:26 (5,361)\n",
      "[*********************100%***********************]  100 of 100 completed\n",
      "\n",
      "18 Failed downloads:\n",
      "- FZT.W: No timezone found, symbol may be delisted\n",
      "- GAB$H: No timezone found, symbol may be delisted\n",
      "- FTIIW: 1d data not available for startTime=-2208994789 and endTime=1682562741. Only 100 years worth of day granularity data are allowed to be fetched per request.\n",
      "- GCMGW: 1d data not available for startTime=-2208994789 and endTime=1682562744. Only 100 years worth of day granularity data are allowed to be fetched per request.\n",
      "- FXCOR: 1d data not available for startTime=-2208994789 and endTime=1682562744. Only 100 years worth of day granularity data are allowed to be fetched per request.\n",
      "- GB.W: No timezone found, symbol may be delisted\n",
      "- GBRGW: 1d data not available for startTime=-2208994789 and endTime=1682562750. Only 100 years worth of day granularity data are allowed to be fetched per request.\n",
      "- GBRGR: 1d data not available for startTime=-2208994789 and endTime=1682562750. Only 100 years worth of day granularity data are allowed to be fetched per request.\n",
      "- GAB$G: No timezone found, symbol may be delisted\n",
      "- GBBKR: 1d data not available for startTime=-2208994789 and endTime=1682562757. Only 100 years worth of day granularity data are allowed to be fetched per request.\n",
      "- GAM$B: No timezone found, symbol may be delisted\n",
      "- GAQ.W: No timezone found, symbol may be delisted\n",
      "- GAQ.U: No timezone found, symbol may be delisted\n",
      "- GBBKW: 1d data not available for startTime=-2208994789 and endTime=1682562767. Only 100 years worth of day granularity data are allowed to be fetched per request.\n",
      "- FXCOW: 1d data not available for startTime=-2208994789 and endTime=1682562772. Only 100 years worth of day granularity data are allowed to be fetched per request.\n",
      "- GAB$K: No timezone found, symbol may be delisted\n",
      "- FZT.U: No timezone found, symbol may be delisted\n",
      "- GAMCW: 1d data not available for startTime=-2208994789 and endTime=1682562774. Only 100 years worth of day granularity data are allowed to be fetched per request.\n",
      "Success:    32/   32 | To go: 00:16:41 (5,261)\n",
      "[*********************100%***********************]  100 of 100 completed\n",
      "\n",
      "23 Failed downloads:\n",
      "- GFOR.U: No timezone found, symbol may be delisted\n",
      "- GGROW: 1d data not available for startTime=-2208994789 and endTime=1682562777. Only 100 years worth of day granularity data are allowed to be fetched per request.\n",
      "- GGT$E: No timezone found, symbol may be delisted\n",
      "- GGT$G: No timezone found, symbol may be delisted\n",
      "- GHIXW: 1d data not available for startTime=-2208994789 and endTime=1682562780. Only 100 years worth of day granularity data are allowed to be fetched per request.\n",
      "- GGAAW: 1d data not available for startTime=-2208994789 and endTime=1682562781. Only 100 years worth of day granularity data are allowed to be fetched per request.\n",
      "- GEF.B: 1d data not available for startTime=-2208994789 and endTime=1682562782. Only 100 years worth of day granularity data are allowed to be fetched per request.\n",
      "- GDEVW: 1d data not available for startTime=-2208994789 and endTime=1682562782. Only 100 years worth of day granularity data are allowed to be fetched per request.\n",
      "- GFGDR: 1d data not available for startTime=-2208994789 and endTime=1682562789. Only 100 years worth of day granularity data are allowed to be fetched per request.\n",
      "- GGN$B: No timezone found, symbol may be delisted\n",
      "- GFAIW: 1d data not available for startTime=-2208994789 and endTime=1682562790. Only 100 years worth of day granularity data are allowed to be fetched per request.\n",
      "- GDV$K: No timezone found, symbol may be delisted\n",
      "- GDSTW: 1d data not available for startTime=-2208994789 and endTime=1682562790. Only 100 years worth of day granularity data are allowed to be fetched per request.\n",
      "- GFGDW: 1d data not available for startTime=-2208994789 and endTime=1682562790. Only 100 years worth of day granularity data are allowed to be fetched per request.\n",
      "- GDL$C: No timezone found, symbol may be delisted\n",
      "- GFOR.W: No timezone found, symbol may be delisted\n",
      "- GFX.W: No timezone found, symbol may be delisted\n",
      "- GDV$H: No timezone found, symbol may be delisted\n",
      "- GFX.U: No timezone found, symbol may be delisted\n",
      "- GETR.W: No timezone found, symbol may be delisted\n",
      "- GENQW: 1d data not available for startTime=-2208994789 and endTime=1682562793. Only 100 years worth of day granularity data are allowed to be fetched per request.\n",
      "- GDSTR: 1d data not available for startTime=-2208994789 and endTime=1682562794. Only 100 years worth of day granularity data are allowed to be fetched per request.\n",
      "- GDNRW: 1d data not available for startTime=-2208994789 and endTime=1682562794. Only 100 years worth of day granularity data are allowed to be fetched per request.\n",
      "Success:    33/   33 | To go: 00:16:24 (5,161)\n",
      "[*********************100%***********************]  100 of 100 completed\n",
      "\n",
      "25 Failed downloads:\n",
      "- GLP$B: No timezone found, symbol may be delisted\n",
      "- GMRE$A: No timezone found, symbol may be delisted\n",
      "- GMBLW: 1d data not available for startTime=-2208994789 and endTime=1682562797. Only 100 years worth of day granularity data are allowed to be fetched per request.\n",
      "- GLU$A: No timezone found, symbol may be delisted\n",
      "- GIPRW: 1d data not available for startTime=-2208994789 and endTime=1682562797. Only 100 years worth of day granularity data are allowed to be fetched per request.\n",
      "- GLLIW: 1d data not available for startTime=-2208994789 and endTime=1682562797. Only 100 years worth of day granularity data are allowed to be fetched per request.\n",
      "- GLOP$C: No timezone found, symbol may be delisted\n",
      "- GLU$B: No timezone found, symbol may be delisted\n",
      "- GMFIW: 1d data not available for startTime=-2208994789 and endTime=1682562798. Only 100 years worth of day granularity data are allowed to be fetched per request.\n",
      "- GMVDW: 1d data not available for startTime=-2208994789 and endTime=1682562799. Only 100 years worth of day granularity data are allowed to be fetched per request.\n",
      "- GLTA.W: No timezone found, symbol may be delisted\n",
      "- GLOG$A: No timezone found, symbol may be delisted\n",
      "- GLLIR: 1d data not available for startTime=-2208994789 and endTime=1682562801. Only 100 years worth of day granularity data are allowed to be fetched per request.\n",
      "- GLTA.U: No timezone found, symbol may be delisted\n",
      "- GNT$A: No timezone found, symbol may be delisted\n",
      "- GL$D: No timezone found, symbol may be delisted\n",
      "- GLSTR: 1d data not available for startTime=-2208994789 and endTime=1682562812. Only 100 years worth of day granularity data are allowed to be fetched per request.\n",
      "- GNL$A: No timezone found, symbol may be delisted\n",
      "- GLOP$A: No timezone found, symbol may be delisted\n",
      "- GNL$B: No timezone found, symbol may be delisted\n",
      "- GMBLZ: 1d data not available for startTime=-2208994789 and endTime=1682562813. Only 100 years worth of day granularity data are allowed to be fetched per request.\n",
      "- GLSTW: 1d data not available for startTime=-2208994789 and endTime=1682562814. Only 100 years worth of day granularity data are allowed to be fetched per request.\n",
      "- GLP$A: No timezone found, symbol may be delisted\n",
      "- GLOP$B: No timezone found, symbol may be delisted\n",
      "- GNE$A: No timezone found, symbol may be delisted\n",
      "Success:    34/   34 | To go: 00:16:17 (5,061)\n",
      "[*********************100%***********************]  100 of 100 completed\n",
      "\n",
      "22 Failed downloads:\n",
      "- GS$K: No timezone found, symbol may be delisted\n",
      "- GRCYW: 1d data not available for startTime=-2208994789 and endTime=1682562825. Only 100 years worth of day granularity data are allowed to be fetched per request.\n",
      "- GSDWW: 1d data not available for startTime=-2208994789 and endTime=1682562825. Only 100 years worth of day granularity data are allowed to be fetched per request.\n",
      "- GPACW: 1d data not available for startTime=-2208994789 and endTime=1682562825. Only 100 years worth of day granularity data are allowed to be fetched per request.\n",
      "- GROY.W: No timezone found, symbol may be delisted\n",
      "- GOGN.W: No timezone found, symbol may be delisted\n",
      "- GPMT$A: No timezone found, symbol may be delisted\n",
      "- GROMW: 1d data not available for startTime=-2208994789 and endTime=1682562826. Only 100 years worth of day granularity data are allowed to be fetched per request.\n",
      "- GS$A: No timezone found, symbol may be delisted\n",
      "- GS$D: No timezone found, symbol may be delisted\n",
      "- GS$J: No timezone found, symbol may be delisted\n",
      "- GRND.W: No timezone found, symbol may be delisted\n",
      "- GRNAW: 1d data not available for startTime=-2208994789 and endTime=1682562828. Only 100 years worth of day granularity data are allowed to be fetched per request.\n",
      "- GRP.U: No timezone found, symbol may be delisted\n",
      "- GRNT.W: No timezone found, symbol may be delisted\n",
      "- GRBK$A: No timezone found, symbol may be delisted\n",
      "- GOEVW: 1d data not available for startTime=-2208994789 and endTime=1682562835. Only 100 years worth of day granularity data are allowed to be fetched per request.\n",
      "- GRRRW: 1d data not available for startTime=-2208994789 and endTime=1682562838. Only 100 years worth of day granularity data are allowed to be fetched per request.\n",
      "- GOVXW: 1d data not available for startTime=-2208994789 and endTime=1682562839. Only 100 years worth of day granularity data are allowed to be fetched per request.\n",
      "- GOGN.U: No timezone found, symbol may be delisted\n",
      "- GROV.W: No timezone found, symbol may be delisted\n",
      "- GS$C: No timezone found, symbol may be delisted\n",
      "Success:    35/   35 | To go: 00:16:22 (4,961)\n",
      "[*********************100%***********************]  100 of 100 completed\n",
      "\n",
      "16 Failed downloads:\n",
      "- GSQB.W: No timezone found, symbol may be delisted\n",
      "- HCMAW: 1d data not available for startTime=-2208994789 and endTime=1682562863. Only 100 years worth of day granularity data are allowed to be fetched per request.\n",
      "- GSMGW: 1d data not available for startTime=-2208994789 and endTime=1682562866. Only 100 years worth of day granularity data are allowed to be fetched per request.\n",
      "- GVCIW: 1d data not available for startTime=-2208994789 and endTime=1682562868. Only 100 years worth of day granularity data are allowed to be fetched per request.\n",
      "- GTACW: 1d data not available for startTime=-2208994789 and endTime=1682562870. Only 100 years worth of day granularity data are allowed to be fetched per request.\n",
      "- HCNEW: 1d data not available for startTime=-2208994789 and endTime=1682562872. Only 100 years worth of day granularity data are allowed to be fetched per request.\n",
      "- GSRMW: 1d data not available for startTime=-2208994789 and endTime=1682562873. Only 100 years worth of day granularity data are allowed to be fetched per request.\n",
      "- GUT$C: No timezone found, symbol may be delisted\n",
      "- GTN.A: No timezone found, symbol may be delisted\n",
      "- GSQB.U: No timezone found, symbol may be delisted\n",
      "- GTLS$B: No timezone found, symbol may be delisted\n",
      "- HAIAW: 1d data not available for startTime=-2208994789 and endTime=1682562893. Only 100 years worth of day granularity data are allowed to be fetched per request.\n",
      "- GSL$B: No timezone found, symbol may be delisted\n",
      "- GWH.W: No timezone found, symbol may be delisted\n",
      "- HCDIZ: 1d data not available for startTime=-2208994789 and endTime=1682562922. Only 100 years worth of day granularity data are allowed to be fetched per request.\n",
      "- HCDIW: 1d data not available for startTime=-2208994789 and endTime=1682562923. Only 100 years worth of day granularity data are allowed to be fetched per request.\n",
      "Success:    36/   36 | To go: 00:17:03 (4,861)\n",
      "[*********************100%***********************]  100 of 100 completed\n",
      "\n",
      "19 Failed downloads:\n",
      "- HGTY.W: No timezone found, symbol may be delisted\n",
      "- HHGCW: 1d data not available for startTime=-2208994789 and endTime=1682562926. Only 100 years worth of day granularity data are allowed to be fetched per request.\n",
      "- HIG$G: No timezone found, symbol may be delisted\n",
      "- HHLA.W: No timezone found, symbol may be delisted\n",
      "- HMACR: 1d data not available for startTime=-2208994789 and endTime=1682562927. Only 100 years worth of day granularity data are allowed to be fetched per request.\n",
      "- HCVIW: 1d data not available for startTime=-2208994789 and endTime=1682562928. Only 100 years worth of day granularity data are allowed to be fetched per request.\n",
      "- HMA.W: No timezone found, symbol may be delisted\n",
      "- HHGCR: 1d data not available for startTime=-2208994789 and endTime=1682562932. Only 100 years worth of day granularity data are allowed to be fetched per request.\n",
      "- HLGN.W: No timezone found, symbol may be delisted\n",
      "- HLLY.W: No timezone found, symbol may be delisted\n",
      "- HIPO.W: No timezone found, symbol may be delisted\n",
      "- HMA.U: No timezone found, symbol may be delisted\n",
      "- HL$B: No timezone found, symbol may be delisted\n",
      "- HFRO$A: No timezone found, symbol may be delisted\n",
      "- HHLA.U: No timezone found, symbol may be delisted\n",
      "- HEI.A: No timezone found, symbol may be delisted\n",
      "- HMACW: 1d data not available for startTime=-2208994789 and endTime=1682562937. Only 100 years worth of day granularity data are allowed to be fetched per request.\n",
      "- HNRA.W: No timezone found, symbol may be delisted\n",
      "- HHRSW: 1d data not available for startTime=-2208994789 and endTime=1682562938. Only 100 years worth of day granularity data are allowed to be fetched per request.\n",
      "Success:    37/   37 | To go: 00:16:47 (4,761)\n",
      "[*********************100%***********************]  100 of 100 completed\n",
      "\n",
      "13 Failed downloads:\n",
      "- HT$E: No timezone found, symbol may be delisted\n",
      "- HSPOR: 1d data not available for startTime=-2208994789 and endTime=1682562954. Only 100 years worth of day granularity data are allowed to be fetched per request.\n",
      "- HUBCW: 1d data not available for startTime=-2208994789 and endTime=1682562955. Only 100 years worth of day granularity data are allowed to be fetched per request.\n",
      "- HPLTW: 1d data not available for startTime=-2208994789 and endTime=1682562956. Only 100 years worth of day granularity data are allowed to be fetched per request.\n",
      "- HTZWW: 1d data not available for startTime=-2208994789 and endTime=1682562959. Only 100 years worth of day granularity data are allowed to be fetched per request.\n",
      "- HUBCZ: 1d data not available for startTime=-2208994789 and endTime=1682562962. Only 100 years worth of day granularity data are allowed to be fetched per request.\n",
      "- HOFVW: 1d data not available for startTime=-2208994789 and endTime=1682562963. Only 100 years worth of day granularity data are allowed to be fetched per request.\n",
      "- HSCSW: 1d data not available for startTime=-2208994789 and endTime=1682562964. Only 100 years worth of day granularity data are allowed to be fetched per request.\n",
      "- HSPOW: 1d data not available for startTime=-2208994789 and endTime=1682562967. Only 100 years worth of day granularity data are allowed to be fetched per request.\n",
      "- HOLOW: 1d data not available for startTime=-2208994789 and endTime=1682562969. Only 100 years worth of day granularity data are allowed to be fetched per request.\n",
      "- HPP$C: No timezone found, symbol may be delisted\n",
      "- HT$C: No timezone found, symbol may be delisted\n",
      "- HT$D: No timezone found, symbol may be delisted\n",
      "Success:    38/   38 | To go: 00:16:41 (4,661)\n",
      "[*********************100%***********************]  100 of 100 completed\n",
      "\n",
      "12 Failed downloads:\n",
      "- HWELW: 1d data not available for startTime=-2208994789 and endTime=1682562984. Only 100 years worth of day granularity data are allowed to be fetched per request.\n",
      "- ICNC.W: No timezone found, symbol may be delisted\n",
      "- HWKZ.U: No timezone found, symbol may be delisted\n",
      "- ICNC.U: No timezone found, symbol may be delisted\n",
      "- HYZNW: 1d data not available for startTime=-2208994789 and endTime=1682562987. Only 100 years worth of day granularity data are allowed to be fetched per request.\n",
      "- HWM$: No timezone found, symbol may be delisted\n",
      "- HVT.A: No timezone found, symbol may be delisted\n",
      "- ICUCW: 1d data not available for startTime=-2208994789 and endTime=1682562996. Only 100 years worth of day granularity data are allowed to be fetched per request.\n",
      "- HUMAW: 1d data not available for startTime=-2208994789 and endTime=1682562998. Only 100 years worth of day granularity data are allowed to be fetched per request.\n",
      "- IBO: 1d data not available for startTime=-2208994789 and endTime=1682562999. Only 100 years worth of day granularity data are allowed to be fetched per request.\n",
      "- ICR$A: No timezone found, symbol may be delisted\n",
      "- HYMCW: 1d data not available for startTime=-2208994789 and endTime=1682563001. Only 100 years worth of day granularity data are allowed to be fetched per request.\n",
      "Success:    39/   39 | To go: 00:16:18 (4,561)\n",
      "[*********************100%***********************]  100 of 100 completed\n",
      "\n",
      "13 Failed downloads:\n",
      "- IMACW: 1d data not available for startTime=-2208994789 and endTime=1682563005. Only 100 years worth of day granularity data are allowed to be fetched per request.\n",
      "- IMAQW: 1d data not available for startTime=-2208994789 and endTime=1682563005. Only 100 years worth of day granularity data are allowed to be fetched per request.\n",
      "- IGICW: 1d data not available for startTime=-2208994789 and endTime=1682563005. Only 100 years worth of day granularity data are allowed to be fetched per request.\n",
      "- IGTAR: 1d data not available for startTime=-2208994789 and endTime=1682563009. Only 100 years worth of day granularity data are allowed to be fetched per request.\n",
      "- INDIW: 1d data not available for startTime=-2208994789 and endTime=1682563009. Only 100 years worth of day granularity data are allowed to be fetched per request.\n",
      "- IMTXW: 1d data not available for startTime=-2208994789 and endTime=1682563010. Only 100 years worth of day granularity data are allowed to be fetched per request.\n",
      "- IMAQR: 1d data not available for startTime=-2208994789 and endTime=1682563011. Only 100 years worth of day granularity data are allowed to be fetched per request.\n",
      "- IGZ: 1d data not available for startTime=-2208994789 and endTime=1682563012. Only 100 years worth of day granularity data are allowed to be fetched per request.\n",
      "- IGTAW: 1d data not available for startTime=-2208994789 and endTime=1682563012. Only 100 years worth of day granularity data are allowed to be fetched per request.\n",
      "- IFIN.W: No timezone found, symbol may be delisted\n",
      "- INAQ.U: No timezone found, symbol may be delisted\n",
      "- IFIN.U: No timezone found, symbol may be delisted\n",
      "- IIPR$A: No timezone found, symbol may be delisted\n",
      "Success:    40/   40 | To go: 00:15:50 (4,461)\n",
      "[*********************100%***********************]  100 of 100 completed\n",
      "\n",
      "13 Failed downloads:\n",
      "- IRS.W: No timezone found, symbol may be delisted\n",
      "- IONQ.W: No timezone found, symbol may be delisted\n",
      "- INN$E: No timezone found, symbol may be delisted\n",
      "- IPVF.W: No timezone found, symbol may be delisted\n",
      "- IRAAW: 1d data not available for startTime=-2208994789 and endTime=1682563026. Only 100 years worth of day granularity data are allowed to be fetched per request.\n",
      "- IOACW: 1d data not available for startTime=-2208994789 and endTime=1682563027. Only 100 years worth of day granularity data are allowed to be fetched per request.\n",
      "- INTEW: 1d data not available for startTime=-2208994789 and endTime=1682563028. Only 100 years worth of day granularity data are allowed to be fetched per request.\n",
      "- INVZW: 1d data not available for startTime=-2208994789 and endTime=1682563030. Only 100 years worth of day granularity data are allowed to be fetched per request.\n",
      "- IRRX.U: No timezone found, symbol may be delisted\n",
      "- IRRX.W: No timezone found, symbol may be delisted\n",
      "- IPVF.U: No timezone found, symbol may be delisted\n",
      "- IRNT.W: No timezone found, symbol may be delisted\n",
      "- INN$F: No timezone found, symbol may be delisted\n",
      "Success:    41/   41 | To go: 00:15:34 (4,361)\n",
      "[*********************100%***********************]  100 of 100 completed\n",
      "\n",
      "13 Failed downloads:\n",
      "- IVR$C: No timezone found, symbol may be delisted\n",
      "- JGGCR: 1d data not available for startTime=-2208994789 and endTime=1682563047. Only 100 years worth of day granularity data are allowed to be fetched per request.\n",
      "- JAQCW: 1d data not available for startTime=-2208994789 and endTime=1682563051. Only 100 years worth of day granularity data are allowed to be fetched per request.\n",
      "- IVCAW: 1d data not available for startTime=-2208994789 and endTime=1682563056. Only 100 years worth of day granularity data are allowed to be fetched per request.\n",
      "- IVR$B: No timezone found, symbol may be delisted\n",
      "- IXAQW: 1d data not available for startTime=-2208994789 and endTime=1682563061. Only 100 years worth of day granularity data are allowed to be fetched per request.\n",
      "- ISRLW: 1d data not available for startTime=-2208994789 and endTime=1682563062. Only 100 years worth of day granularity data are allowed to be fetched per request.\n",
      "- JGGCW: 1d data not available for startTime=-2208994789 and endTime=1682563068. Only 100 years worth of day granularity data are allowed to be fetched per request.\n",
      "- IVCBW: 1d data not available for startTime=-2208994789 and endTime=1682563072. Only 100 years worth of day granularity data are allowed to be fetched per request.\n",
      "- JFBRW: 1d data not available for startTime=-2208994789 and endTime=1682563073. Only 100 years worth of day granularity data are allowed to be fetched per request.\n",
      "- IVCPW: 1d data not available for startTime=-2208994789 and endTime=1682563073. Only 100 years worth of day granularity data are allowed to be fetched per request.\n",
      "- ITAQW: 1d data not available for startTime=-2208994789 and endTime=1682563075. Only 100 years worth of day granularity data are allowed to be fetched per request.\n",
      "- IVDAW: 1d data not available for startTime=-2208994789 and endTime=1682563077. Only 100 years worth of day granularity data are allowed to be fetched per request.\n",
      "Success:    42/   42 | To go: 00:15:29 (4,261)\n",
      "[*********************100%***********************]  100 of 100 completed\n",
      "\n",
      "20 Failed downloads:\n",
      "- KCGI.U: No timezone found, symbol may be delisted\n",
      "- JOBY.W: No timezone found, symbol may be delisted\n",
      "- JUN.W: No timezone found, symbol may be delisted\n",
      "- KBNTW: 1d data not available for startTime=-2208994789 and endTime=1682563091. Only 100 years worth of day granularity data are allowed to be fetched per request.\n",
      "- JPM$L: No timezone found, symbol may be delisted\n",
      "- JPM$C: No timezone found, symbol may be delisted\n",
      "- JPM$K: No timezone found, symbol may be delisted\n",
      "- KACLR: 1d data not available for startTime=-2208994789 and endTime=1682563094. Only 100 years worth of day granularity data are allowed to be fetched per request.\n",
      "- JWSM.U: No timezone found, symbol may be delisted\n",
      "- JPM$D: No timezone found, symbol may be delisted\n",
      "- JPM$J: No timezone found, symbol may be delisted\n",
      "- JWSM.W: No timezone found, symbol may be delisted\n",
      "- KACLW: 1d data not available for startTime=-2208994789 and endTime=1682563097. Only 100 years worth of day granularity data are allowed to be fetched per request.\n",
      "- JSPRW: 1d data not available for startTime=-2208994789 and endTime=1682563097. Only 100 years worth of day granularity data are allowed to be fetched per request.\n",
      "- JUPWW: 1d data not available for startTime=-2208994789 and endTime=1682563098. Only 100 years worth of day granularity data are allowed to be fetched per request.\n",
      "- JUGGW: 1d data not available for startTime=-2208994789 and endTime=1682563098. Only 100 years worth of day granularity data are allowed to be fetched per request.\n",
      "- JPM$M: No timezone found, symbol may be delisted\n",
      "- JWACR: 1d data not available for startTime=-2208994789 and endTime=1682563101. Only 100 years worth of day granularity data are allowed to be fetched per request.\n",
      "- JXN$A: No timezone found, symbol may be delisted\n",
      "- JUN.U: No timezone found, symbol may be delisted\n",
      "Success:    43/   43 | To go: 00:15:14 (4,161)\n",
      "[*********************100%***********************]  100 of 100 completed\n",
      "\n",
      "17 Failed downloads:\n",
      "- KLR.W: No timezone found, symbol may be delisted\n",
      "- KITTW: 1d data not available for startTime=-2208994789 and endTime=1682563114. Only 100 years worth of day granularity data are allowed to be fetched per request.\n",
      "- KNSW.U: No timezone found, symbol may be delisted\n",
      "- KEY$J: No timezone found, symbol may be delisted\n",
      "- KERNW: 1d data not available for startTime=-2208994789 and endTime=1682563123. Only 100 years worth of day granularity data are allowed to be fetched per request.\n",
      "- KEY$K: No timezone found, symbol may be delisted\n",
      "- KEY$L: No timezone found, symbol may be delisted\n",
      "- KORE.W: No timezone found, symbol may be delisted\n",
      "- KREF$A: No timezone found, symbol may be delisted\n",
      "- KEY$I: No timezone found, symbol may be delisted\n",
      "- KKR$C: No timezone found, symbol may be delisted\n",
      "- KIM$M: No timezone found, symbol may be delisted\n",
      "- KNSW.W: No timezone found, symbol may be delisted\n",
      "- KRNLW: 1d data not available for startTime=-2208994789 and endTime=1682563153. Only 100 years worth of day granularity data are allowed to be fetched per request.\n",
      "- KCGI.W: No timezone found, symbol may be delisted\n",
      "- KIM$L: No timezone found, symbol may be delisted\n",
      "- KPLTW: 1d data not available for startTime=-2208994789 and endTime=1682563158. Only 100 years worth of day granularity data are allowed to be fetched per request.\n",
      "Success:    44/   44 | To go: 00:15:17 (4,061)\n",
      "[*********************100%***********************]  100 of 100 completed\n",
      "\n",
      "13 Failed downloads:\n",
      "- LCAAW: 1d data not available for startTime=-2208994789 and endTime=1682563164. Only 100 years worth of day granularity data are allowed to be fetched per request.\n",
      "- KTTAW: 1d data not available for startTime=-2208994789 and endTime=1682563174. Only 100 years worth of day granularity data are allowed to be fetched per request.\n",
      "- LCAHW: 1d data not available for startTime=-2208994789 and endTime=1682563174. Only 100 years worth of day granularity data are allowed to be fetched per request.\n",
      "- LATGW: 1d data not available for startTime=-2208994789 and endTime=1682563177. Only 100 years worth of day granularity data are allowed to be fetched per request.\n",
      "- LCW.W: No timezone found, symbol may be delisted\n",
      "- LANV.W: No timezone found, symbol may be delisted\n",
      "- KWESW: 1d data not available for startTime=-2208994789 and endTime=1682563184. Only 100 years worth of day granularity data are allowed to be fetched per request.\n",
      "- KYCHW: 1d data not available for startTime=-2208994789 and endTime=1682563184. Only 100 years worth of day granularity data are allowed to be fetched per request.\n",
      "- LBBBR: 1d data not available for startTime=-2208994789 and endTime=1682563184. Only 100 years worth of day granularity data are allowed to be fetched per request.\n",
      "- LCFYW: 1d data not available for startTime=-2208994789 and endTime=1682563184. Only 100 years worth of day granularity data are allowed to be fetched per request.\n",
      "- KYCHR: 1d data not available for startTime=-2208994789 and endTime=1682563185. Only 100 years worth of day granularity data are allowed to be fetched per request.\n",
      "- LCW.U: No timezone found, symbol may be delisted\n",
      "- LBBBW: 1d data not available for startTime=-2208994789 and endTime=1682563186. Only 100 years worth of day granularity data are allowed to be fetched per request.\n",
      "Success:    45/   45 | To go: 00:14:59 (3,961)\n",
      "[*********************100%***********************]  100 of 100 completed\n",
      "\n",
      "20 Failed downloads:\n",
      "- LGSTW: 1d data not available for startTime=-2208994789 and endTime=1682563190. Only 100 years worth of day granularity data are allowed to be fetched per request.\n",
      "- LEXXW: 1d data not available for startTime=-2208994789 and endTime=1682563190. Only 100 years worth of day granularity data are allowed to be fetched per request.\n",
      "- LGVCW: 1d data not available for startTime=-2208994789 and endTime=1682563190. Only 100 years worth of day granularity data are allowed to be fetched per request.\n",
      "- LGF.B: No data found for this date range, symbol may be delisted\n",
      "- LLAP.W: No timezone found, symbol may be delisted\n",
      "- LGL.W: No timezone found, symbol may be delisted\n",
      "- LIVBW: 1d data not available for startTime=-2208994789 and endTime=1682563193. Only 100 years worth of day granularity data are allowed to be fetched per request.\n",
      "- LEV.W: No timezone found, symbol may be delisted\n",
      "- LMND.W: No timezone found, symbol may be delisted\n",
      "- LFACW: 1d data not available for startTime=-2208994789 and endTime=1682563197. Only 100 years worth of day granularity data are allowed to be fetched per request.\n",
      "- LFT$A: No timezone found, symbol may be delisted\n",
      "- LMDXW: 1d data not available for startTime=-2208994789 and endTime=1682563198. Only 100 years worth of day granularity data are allowed to be fetched per request.\n",
      "- LFLYW: 1d data not available for startTime=-2208994789 and endTime=1682563198. Only 100 years worth of day granularity data are allowed to be fetched per request.\n",
      "- LEV.A: No timezone found, symbol may be delisted\n",
      "- LGHLW: 1d data not available for startTime=-2208994789 and endTime=1682563198. Only 100 years worth of day granularity data are allowed to be fetched per request.\n",
      "- LGF.A: No timezone found, symbol may be delisted\n",
      "- LIFWZ: 1d data not available for startTime=-2208994789 and endTime=1682563199. Only 100 years worth of day granularity data are allowed to be fetched per request.\n",
      "- LITTW: 1d data not available for startTime=-2208994789 and endTime=1682563199. Only 100 years worth of day granularity data are allowed to be fetched per request.\n",
      "- LEN.B: 1d data not available for startTime=-2208994789 and endTime=1682563199. Only 100 years worth of day granularity data are allowed to be fetched per request.\n",
      "- LHC.U: No timezone found, symbol may be delisted\n",
      "Success:    46/   46 | To go: 00:14:29 (3,861)\n",
      "[*********************100%***********************]  100 of 100 completed\n",
      "\n",
      "11 Failed downloads:\n",
      "- LNZAW: 1d data not available for startTime=-2208994789 and endTime=1682563203. Only 100 years worth of day granularity data are allowed to be fetched per request.\n",
      "- LNC$D: No timezone found, symbol may be delisted\n",
      "- LOCC.U: No timezone found, symbol may be delisted\n",
      "- LSEAW: 1d data not available for startTime=-2208994789 and endTime=1682563209. Only 100 years worth of day granularity data are allowed to be fetched per request.\n",
      "- LUNRW: 1d data not available for startTime=-2208994789 and endTime=1682563232. Only 100 years worth of day granularity data are allowed to be fetched per request.\n",
      "- LVOXW: 1d data not available for startTime=-2208994789 and endTime=1682563232. Only 100 years worth of day granularity data are allowed to be fetched per request.\n",
      "- LTRYW: 1d data not available for startTime=-2208994789 and endTime=1682563236. Only 100 years worth of day granularity data are allowed to be fetched per request.\n",
      "- LOCC.W: No timezone found, symbol may be delisted\n",
      "- LVROW: 1d data not available for startTime=-2208994789 and endTime=1682563247. Only 100 years worth of day granularity data are allowed to be fetched per request.\n",
      "- LVACW: 1d data not available for startTime=-2208994789 and endTime=1682563247. Only 100 years worth of day granularity data are allowed to be fetched per request.\n",
      "- LOCL.W: No timezone found, symbol may be delisted\n",
      "Success:    47/   47 | To go: 00:14:33 (3,761)\n",
      "[*********************100%***********************]  100 of 100 completed\n",
      "\n",
      "17 Failed downloads:\n",
      "- MBSC.U: No timezone found, symbol may be delisted\n",
      "- MBAC.U: No timezone found, symbol may be delisted\n",
      "- MCACR: 1d data not available for startTime=-2208994789 and endTime=1682563261. Only 100 years worth of day granularity data are allowed to be fetched per request.\n",
      "- MCAGR: 1d data not available for startTime=-2208994789 and endTime=1682563264. Only 100 years worth of day granularity data are allowed to be fetched per request.\n",
      "- LVWR.W: No timezone found, symbol may be delisted\n",
      "- MCAFR: 1d data not available for startTime=-2208994789 and endTime=1682563269. Only 100 years worth of day granularity data are allowed to be fetched per request.\n",
      "- MBTCR: 1d data not available for startTime=-2208994789 and endTime=1682563270. Only 100 years worth of day granularity data are allowed to be fetched per request.\n",
      "- MCACW: 1d data not available for startTime=-2208994789 and endTime=1682563270. Only 100 years worth of day granularity data are allowed to be fetched per request.\n",
      "- LXP$C: No timezone found, symbol may be delisted\n",
      "- MACAW: 1d data not available for startTime=-2208994789 and endTime=1682563277. Only 100 years worth of day granularity data are allowed to be fetched per request.\n",
      "- MAQCW: 1d data not available for startTime=-2208994789 and endTime=1682563278. Only 100 years worth of day granularity data are allowed to be fetched per request.\n",
      "- MCAAW: 1d data not available for startTime=-2208994789 and endTime=1682563278. Only 100 years worth of day granularity data are allowed to be fetched per request.\n",
      "- MBAC.W: No timezone found, symbol may be delisted\n",
      "- MARXR: 1d data not available for startTime=-2208994789 and endTime=1682563279. Only 100 years worth of day granularity data are allowed to be fetched per request.\n",
      "- MAA$I: No timezone found, symbol may be delisted\n",
      "- MBSC.W: No timezone found, symbol may be delisted\n",
      "- MAPSW: 1d data not available for startTime=-2208994789 and endTime=1682563282. Only 100 years worth of day granularity data are allowed to be fetched per request.\n",
      "Success:    48/   48 | To go: 00:14:12 (3,661)\n",
      "[*********************100%***********************]  100 of 100 completed\n",
      "\n",
      "12 Failed downloads:\n",
      "- METXW: 1d data not available for startTime=-2208994789 and endTime=1682563285. Only 100 years worth of day granularity data are allowed to be fetched per request.\n",
      "- MCLDW: 1d data not available for startTime=-2208994789 and endTime=1682563285. Only 100 years worth of day granularity data are allowed to be fetched per request.\n",
      "- MET$A: No timezone found, symbol may be delisted\n",
      "- MDGSW: 1d data not available for startTime=-2208994789 and endTime=1682563287. Only 100 years worth of day granularity data are allowed to be fetched per request.\n",
      "- MCOMW: 1d data not available for startTime=-2208994789 and endTime=1682563289. Only 100 years worth of day granularity data are allowed to be fetched per request.\n",
      "- MER$K: No timezone found, symbol may be delisted\n",
      "- MET$E: No timezone found, symbol may be delisted\n",
      "- MFA$C: No timezone found, symbol may be delisted\n",
      "- MFA$B: No timezone found, symbol may be delisted\n",
      "- MET$F: No timezone found, symbol may be delisted\n",
      "- MEOAW: 1d data not available for startTime=-2208994789 and endTime=1682563318. Only 100 years worth of day granularity data are allowed to be fetched per request.\n",
      "- MDV$A: No timezone found, symbol may be delisted\n",
      "Success:    49/   49 | To go: 00:14:06 (3,561)\n",
      "[*********************100%***********************]  100 of 100 completed\n",
      "\n",
      "14 Failed downloads:\n",
      "- MIR.W: No timezone found, symbol may be delisted\n",
      "- MLACW: 1d data not available for startTime=-2208994789 and endTime=1682563333. Only 100 years worth of day granularity data are allowed to be fetched per request.\n",
      "- MITAW: 1d data not available for startTime=-2208994789 and endTime=1682563334. Only 100 years worth of day granularity data are allowed to be fetched per request.\n",
      "- MIMO.W: No timezone found, symbol may be delisted\n",
      "- MITT$B: No timezone found, symbol may be delisted\n",
      "- MIMO.B: No timezone found, symbol may be delisted\n",
      "- MIMO.A: No timezone found, symbol may be delisted\n",
      "- MKC.V: No timezone found, symbol may be delisted\n",
      "- MITT$A: No timezone found, symbol may be delisted\n",
      "- ML.W: No timezone found, symbol may be delisted\n",
      "- MLECW: 1d data not available for startTime=-2208994789 and endTime=1682563343. Only 100 years worth of day granularity data are allowed to be fetched per request.\n",
      "- MKFG.W: No timezone found, symbol may be delisted\n",
      "- MITT$C: No timezone found, symbol may be delisted\n",
      "- MMVWW: 1d data not available for startTime=-2208994789 and endTime=1682563344. Only 100 years worth of day granularity data are allowed to be fetched per request.\n",
      "Success:    50/   50 | To go: 00:13:37 (3,461)\n",
      "[*********************100%***********************]  100 of 100 completed\n",
      "\n",
      "18 Failed downloads:\n",
      "- MRDB.W: No timezone found, symbol may be delisted\n",
      "- MNTN.W: No timezone found, symbol may be delisted\n",
      "- MS$O: No timezone found, symbol may be delisted\n",
      "- MNTSW: 1d data not available for startTime=-2208994789 and endTime=1682563348. Only 100 years worth of day granularity data are allowed to be fetched per request.\n",
      "- MNTN.U: No timezone found, symbol may be delisted\n",
      "- MS$K: No timezone found, symbol may be delisted\n",
      "- MOG.A: No timezone found, symbol may be delisted\n",
      "- MS$E: No timezone found, symbol may be delisted\n",
      "- MS$I: No timezone found, symbol may be delisted\n",
      "- MS$P: No timezone found, symbol may be delisted\n",
      "- MS$F: No timezone found, symbol may be delisted\n",
      "- MS$A: No timezone found, symbol may be delisted\n",
      "- MPRAW: 1d data not available for startTime=-2208994789 and endTime=1682563367. Only 100 years worth of day granularity data are allowed to be fetched per request.\n",
      "- MPLN.W: No timezone found, symbol may be delisted\n",
      "- MOBQW: 1d data not available for startTime=-2208994789 and endTime=1682563368. Only 100 years worth of day granularity data are allowed to be fetched per request.\n",
      "- MOG.B: No timezone found, symbol may be delisted\n",
      "- MOBVW: 1d data not available for startTime=-2208994789 and endTime=1682563368. Only 100 years worth of day granularity data are allowed to be fetched per request.\n",
      "- MS$L: No timezone found, symbol may be delisted\n",
      "Success:    51/   51 | To go: 00:13:33 (3,361)\n",
      "[*********************100%***********************]  100 of 100 completed\n",
      "\n",
      "11 Failed downloads:\n",
      "- MTVC.U: No timezone found, symbol may be delisted\n",
      "- MSSAR: 1d data not available for startTime=-2208994789 and endTime=1682563402. Only 100 years worth of day granularity data are allowed to be fetched per request.\n",
      "- MSSAW: 1d data not available for startTime=-2208994789 and endTime=1682563405. Only 100 years worth of day granularity data are allowed to be fetched per request.\n",
      "- MTVC.W: No timezone found, symbol may be delisted\n",
      "- MTB$H: No timezone found, symbol may be delisted\n",
      "- MTAL.U: No timezone found, symbol may be delisted\n",
      "- MVSTW: 1d data not available for startTime=-2208994789 and endTime=1682563421. Only 100 years worth of day granularity data are allowed to be fetched per request.\n",
      "- MVLAW: 1d data not available for startTime=-2208994789 and endTime=1682563443. Only 100 years worth of day granularity data are allowed to be fetched per request.\n",
      "- MTAL.W: No timezone found, symbol may be delisted\n",
      "- MTEKW: 1d data not available for startTime=-2208994789 and endTime=1682563448. Only 100 years worth of day granularity data are allowed to be fetched per request.\n",
      "- MURFW: 1d data not available for startTime=-2208994789 and endTime=1682563448. Only 100 years worth of day granularity data are allowed to be fetched per request.\n",
      "Success:    52/   52 | To go: 00:13:30 (3,261)\n",
      "[*********************100%***********************]  99 of 99 completed\n",
      "\n",
      "12 Failed downloads:\n",
      "- NEE$N: No timezone found, symbol may be delisted\n",
      "- NETC.U: No timezone found, symbol may be delisted\n",
      "- NCV$A: No timezone found, symbol may be delisted\n",
      "- NEE$Q: No timezone found, symbol may be delisted\n",
      "- NBSTW: 1d data not available for startTime=-2208994789 and endTime=1682563487. Only 100 years worth of day granularity data are allowed to be fetched per request.\n",
      "- NETC.W: No timezone found, symbol may be delisted\n",
      "- NCZ$A: No timezone found, symbol may be delisted\n",
      "- NCACW: 1d data not available for startTime=-2208994789 and endTime=1682563491. Only 100 years worth of day granularity data are allowed to be fetched per request.\n",
      "- NEOVW: 1d data not available for startTime=-2208994789 and endTime=1682563492. Only 100 years worth of day granularity data are allowed to be fetched per request.\n",
      "- NESRW: 1d data not available for startTime=-2208994789 and endTime=1682563492. Only 100 years worth of day granularity data are allowed to be fetched per request.\n",
      "- NCPLW: 1d data not available for startTime=-2208994789 and endTime=1682563492. Only 100 years worth of day granularity data are allowed to be fetched per request.\n",
      "- NEE$R: No timezone found, symbol may be delisted\n",
      "Success:    53/   53 | To go: 00:13:12 (3,161)\n",
      "[*********************100%***********************]  100 of 100 completed\n",
      "\n",
      "18 Failed downloads:\n",
      "- NFNT.W: No timezone found, symbol may be delisted\n",
      "- NMK$C: No timezone found, symbol may be delisted\n",
      "- NIOBW: 1d data not available for startTime=-2208994789 and endTime=1682563497. Only 100 years worth of day granularity data are allowed to be fetched per request.\n",
      "- NMK$B: No timezone found, symbol may be delisted\n",
      "- NI$B: No timezone found, symbol may be delisted\n",
      "- NIRWW: 1d data not available for startTime=-2208994789 and endTime=1682563499. Only 100 years worth of day granularity data are allowed to be fetched per request.\n",
      "- NGL$C: No timezone found, symbol may be delisted\n",
      "- NNAVW: 1d data not available for startTime=-2208994789 and endTime=1682563500. Only 100 years worth of day granularity data are allowed to be fetched per request.\n",
      "- NM$H: No timezone found, symbol may be delisted\n",
      "- NM$G: No timezone found, symbol may be delisted\n",
      "- NOGNW: 1d data not available for startTime=-2208994789 and endTime=1682563519. Only 100 years worth of day granularity data are allowed to be fetched per request.\n",
      "- NLY$I: No timezone found, symbol may be delisted\n",
      "- NLY$G: No timezone found, symbol may be delisted\n",
      "- NFYS.U: No timezone found, symbol may be delisted\n",
      "- NLY$F: No timezone found, symbol may be delisted\n",
      "- NFYS.W: No timezone found, symbol may be delisted\n",
      "- NFNT.U: No timezone found, symbol may be delisted\n",
      "- NGL$B: No timezone found, symbol may be delisted\n",
      "Success:    54/   54 | To go: 00:13:18 (3,061)\n",
      "[*********************100%***********************]  100 of 100 completed\n",
      "\n",
      "22 Failed downloads:\n",
      "- NS$A: No timezone found, symbol may be delisted\n",
      "- NTEST.B: No timezone found, symbol may be delisted\n",
      "- NREF$A: No timezone found, symbol may be delisted\n",
      "- NOVVW: 1d data not available for startTime=-2208994789 and endTime=1682563577. Only 100 years worth of day granularity data are allowed to be fetched per request.\n",
      "- NRSNW: 1d data not available for startTime=-2208994789 and endTime=1682563577. Only 100 years worth of day granularity data are allowed to be fetched per request.\n",
      "- NPABW: 1d data not available for startTime=-2208994789 and endTime=1682563578. Only 100 years worth of day granularity data are allowed to be fetched per request.\n",
      "- NOTE.W: No timezone found, symbol may be delisted\n",
      "- NTEST: 1d data not available for startTime=-2208994789 and endTime=1682563579. Only 100 years worth of day granularity data are allowed to be fetched per request.\n",
      "- NSA$A: No timezone found, symbol may be delisted\n",
      "- NTEST.A: No timezone found, symbol may be delisted\n",
      "- NRDY.W: No timezone found, symbol may be delisted\n",
      "- NOVVR: 1d data not available for startTime=-2208994789 and endTime=1682563580. Only 100 years worth of day granularity data are allowed to be fetched per request.\n",
      "- NSTB.U: No timezone found, symbol may be delisted\n",
      "- NSTC.U: No timezone found, symbol may be delisted\n",
      "- NRXPW: 1d data not available for startTime=-2208994789 and endTime=1682563582. Only 100 years worth of day granularity data are allowed to be fetched per request.\n",
      "- NSTB.W: No timezone found, symbol may be delisted\n",
      "- NS$C: No timezone found, symbol may be delisted\n",
      "- NRACW: 1d data not available for startTime=-2208994789 and endTime=1682563583. Only 100 years worth of day granularity data are allowed to be fetched per request.\n",
      "- NTEST.C: No timezone found, symbol may be delisted\n",
      "- NS$B: No timezone found, symbol may be delisted\n",
      "- NSTD.W: No timezone found, symbol may be delisted\n",
      "- NSTD.U: No timezone found, symbol may be delisted\n",
      "Success:    55/   55 | To go: 00:12:45 (2,961)\n",
      "[*********************100%***********************]  100 of 100 completed\n",
      "\n",
      "15 Failed downloads:\n",
      "- NVACR: 1d data not available for startTime=-2208994789 and endTime=1682563590. Only 100 years worth of day granularity data are allowed to be fetched per request.\n",
      "- NVVEW: 1d data not available for startTime=-2208994789 and endTime=1682563590. Only 100 years worth of day granularity data are allowed to be fetched per request.\n",
      "- NWTNW: 1d data not available for startTime=-2208994789 and endTime=1682563592. Only 100 years worth of day granularity data are allowed to be fetched per request.\n",
      "- NUVB.W: No timezone found, symbol may be delisted\n",
      "- NXGLW: 1d data not available for startTime=-2208994789 and endTime=1682563595. Only 100 years worth of day granularity data are allowed to be fetched per request.\n",
      "- NYCB$A: No timezone found, symbol may be delisted\n",
      "- NUBIW: 1d data not available for startTime=-2208994789 and endTime=1682563596. Only 100 years worth of day granularity data are allowed to be fetched per request.\n",
      "- OABIW: 1d data not available for startTime=-2208994789 and endTime=1682563598. Only 100 years worth of day granularity data are allowed to be fetched per request.\n",
      "- OAK$A: No timezone found, symbol may be delisted\n",
      "- NXDT$A: No timezone found, symbol may be delisted\n",
      "- NVACW: 1d data not available for startTime=-2208994789 and endTime=1682563599. Only 100 years worth of day granularity data are allowed to be fetched per request.\n",
      "- OAK$B: No timezone found, symbol may be delisted\n",
      "- NXPLW: 1d data not available for startTime=-2208994789 and endTime=1682563601. Only 100 years worth of day granularity data are allowed to be fetched per request.\n",
      "- NYCB$U: No timezone found, symbol may be delisted\n",
      "- NXLIW: 1d data not available for startTime=-2208994789 and endTime=1682563603. Only 100 years worth of day granularity data are allowed to be fetched per request.\n",
      "Success:    56/   56 | To go: 00:12:15 (2,861)\n",
      "[*********************100%***********************]  100 of 100 completed\n",
      "\n",
      "6 Failed downloads:\n",
      "- ONFOW: 1d data not available for startTime=-2208994789 and endTime=1682563607. Only 100 years worth of day granularity data are allowed to be fetched per request.\n",
      "- OCSAW: 1d data not available for startTime=-2208994789 and endTime=1682563607. Only 100 years worth of day granularity data are allowed to be fetched per request.\n",
      "- OCEAW: 1d data not available for startTime=-2208994789 and endTime=1682563610. Only 100 years worth of day granularity data are allowed to be fetched per request.\n",
      "- OCAXW: 1d data not available for startTime=-2208994789 and endTime=1682563616. Only 100 years worth of day granularity data are allowed to be fetched per request.\n",
      "- OHAAW: 1d data not available for startTime=-2208994789 and endTime=1682563619. Only 100 years worth of day granularity data are allowed to be fetched per request.\n",
      "- OLITW: 1d data not available for startTime=-2208994789 and endTime=1682563620. Only 100 years worth of day granularity data are allowed to be fetched per request.\n",
      "Success:    57/   57 | To go: 00:11:45 (2,761)\n",
      "[*********************100%***********************]  100 of 100 completed\n",
      "\n",
      "16 Failed downloads:\n",
      "- OPFI.W: No timezone found, symbol may be delisted\n",
      "- OUST.W: No timezone found, symbol may be delisted\n",
      "- ORIAW: 1d data not available for startTime=-2208994789 and endTime=1682563623. Only 100 years worth of day granularity data are allowed to be fetched per request.\n",
      "- OTMOW: 1d data not available for startTime=-2208994789 and endTime=1682563623. Only 100 years worth of day granularity data are allowed to be fetched per request.\n",
      "- OXACW: 1d data not available for startTime=-2208994789 and endTime=1682563623. Only 100 years worth of day granularity data are allowed to be fetched per request.\n",
      "- ORGNW: 1d data not available for startTime=-2208994789 and endTime=1682563627. Only 100 years worth of day granularity data are allowed to be fetched per request.\n",
      "- OSI.W: No timezone found, symbol may be delisted\n",
      "- OPAD.W: No timezone found, symbol may be delisted\n",
      "- OPA.W: No timezone found, symbol may be delisted\n",
      "- OUST.A: No timezone found, symbol may be delisted\n",
      "- OPA.U: No timezone found, symbol may be delisted\n",
      "- OWLT.W: No timezone found, symbol may be delisted\n",
      "- OPP$A: No timezone found, symbol may be delisted\n",
      "- OSI.U: No timezone found, symbol may be delisted\n",
      "- ONYXW: 1d data not available for startTime=-2208994789 and endTime=1682563644. Only 100 years worth of day granularity data are allowed to be fetched per request.\n",
      "- OPP$B: No timezone found, symbol may be delisted\n",
      "Success:    58/   58 | To go: 00:11:19 (2,661)\n",
      "[*********************100%***********************]  100 of 100 completed\n",
      "\n",
      "19 Failed downloads:\n",
      "- PCG$B: No timezone found, symbol may be delisted\n",
      "- PCG$H: No timezone found, symbol may be delisted\n",
      "- PCG$G: No timezone found, symbol may be delisted\n",
      "- PBI$B: No timezone found, symbol may be delisted\n",
      "- PBR.A: No timezone found, symbol may be delisted\n",
      "- PAVMZ: 1d data not available for startTime=-2208994789 and endTime=1682563651. Only 100 years worth of day granularity data are allowed to be fetched per request.\n",
      "- OXBRW: 1d data not available for startTime=-2208994789 and endTime=1682563652. Only 100 years worth of day granularity data are allowed to be fetched per request.\n",
      "- PACI.W: No timezone found, symbol may be delisted\n",
      "- PCG$I: No timezone found, symbol may be delisted\n",
      "- PCG$C: No timezone found, symbol may be delisted\n",
      "- PCG$A: No timezone found, symbol may be delisted\n",
      "- PACI.U: No timezone found, symbol may be delisted\n",
      "- PCG$D: No timezone found, symbol may be delisted\n",
      "- PBAXW: 1d data not available for startTime=-2208994789 and endTime=1682563657. Only 100 years worth of day granularity data are allowed to be fetched per request.\n",
      "- OXUSW: 1d data not available for startTime=-2208994789 and endTime=1682563657. Only 100 years worth of day granularity data are allowed to be fetched per request.\n",
      "- PCG$E: No timezone found, symbol may be delisted\n",
      "- PCCTW: 1d data not available for startTime=-2208994789 and endTime=1682563658. Only 100 years worth of day granularity data are allowed to be fetched per request.\n",
      "- PAYOW: 1d data not available for startTime=-2208994789 and endTime=1682563659. Only 100 years worth of day granularity data are allowed to be fetched per request.\n",
      "- OXY.W: No timezone found, symbol may be delisted\n",
      "Success:    59/   59 | To go: 00:10:49 (2,561)\n",
      "[*********************100%***********************]  100 of 100 completed\n",
      "\n",
      "13 Failed downloads:\n",
      "- PGSS.U: No timezone found, symbol may be delisted\n",
      "- PCTTW: 1d data not available for startTime=-2208994789 and endTime=1682563664. Only 100 years worth of day granularity data are allowed to be fetched per request.\n",
      "- PEGRW: 1d data not available for startTime=-2208994789 and endTime=1682563664. Only 100 years worth of day granularity data are allowed to be fetched per request.\n",
      "- PETWW: 1d data not available for startTime=-2208994789 and endTime=1682563665. Only 100 years worth of day granularity data are allowed to be fetched per request.\n",
      "- PEPLW: 1d data not available for startTime=-2208994789 and endTime=1682563666. Only 100 years worth of day granularity data are allowed to be fetched per request.\n",
      "- PETVW: 1d data not available for startTime=-2208994789 and endTime=1682563667. Only 100 years worth of day granularity data are allowed to be fetched per request.\n",
      "- PFTAW: 1d data not available for startTime=-2208994789 and endTime=1682563673. Only 100 years worth of day granularity data are allowed to be fetched per request.\n",
      "- PEB$H: No timezone found, symbol may be delisted\n",
      "- PERF.W: No timezone found, symbol may be delisted\n",
      "- PEB$E: No timezone found, symbol may be delisted\n",
      "- PGRWW: 1d data not available for startTime=-2208994789 and endTime=1682563678. Only 100 years worth of day granularity data are allowed to be fetched per request.\n",
      "- PEB$F: No timezone found, symbol may be delisted\n",
      "- PEB$G: No timezone found, symbol may be delisted\n",
      "Success:    60/   60 | To go: 00:10:27 (2,461)\n",
      "[*********************100%***********************]  100 of 100 completed\n",
      "\n",
      "16 Failed downloads:\n",
      "- PIAI.W: No timezone found, symbol may be delisted\n",
      "- PL.W: No timezone found, symbol may be delisted\n",
      "- PLYM$A: No timezone found, symbol may be delisted\n",
      "- PLTNW: 1d data not available for startTime=-2208994789 and endTime=1682563699. Only 100 years worth of day granularity data are allowed to be fetched per request.\n",
      "- PLMIW: 1d data not available for startTime=-2208994789 and endTime=1682563701. Only 100 years worth of day granularity data are allowed to be fetched per request.\n",
      "- PHGE.W: No timezone found, symbol may be delisted\n",
      "- PGSS.W: No timezone found, symbol may be delisted\n",
      "- PMGMW: 1d data not available for startTime=-2208994789 and endTime=1682563704. Only 100 years worth of day granularity data are allowed to be fetched per request.\n",
      "- PLTNR: 1d data not available for startTime=-2208994789 and endTime=1682563704. Only 100 years worth of day granularity data are allowed to be fetched per request.\n",
      "- PHYT.U: No timezone found, symbol may be delisted\n",
      "- PLAOW: 1d data not available for startTime=-2208994789 and endTime=1682563705. Only 100 years worth of day granularity data are allowed to be fetched per request.\n",
      "- PHGE.U: No timezone found, symbol may be delisted\n",
      "- PIAI.U: No timezone found, symbol may be delisted\n",
      "- PHUNW: 1d data not available for startTime=-2208994789 and endTime=1682563706. Only 100 years worth of day granularity data are allowed to be fetched per request.\n",
      "- PHYT.W: No timezone found, symbol may be delisted\n",
      "- PIIIW: 1d data not available for startTime=-2208994789 and endTime=1682563708. Only 100 years worth of day granularity data are allowed to be fetched per request.\n",
      "Success:    61/   61 | To go: 00:10:00 (2,361)\n",
      "[*********************100%***********************]  100 of 100 completed\n",
      "\n",
      "25 Failed downloads:\n",
      "- PNTM.U: No timezone found, symbol may be delisted\n",
      "- PMT$A: No timezone found, symbol may be delisted\n",
      "- PNTM.W: No timezone found, symbol may be delisted\n",
      "- PRIF$J: No timezone found, symbol may be delisted\n",
      "- PRIF$G: No timezone found, symbol may be delisted\n",
      "- PRLHW: 1d data not available for startTime=-2208994789 and endTime=1682563722. Only 100 years worth of day granularity data are allowed to be fetched per request.\n",
      "- PPHPR: 1d data not available for startTime=-2208994789 and endTime=1682563723. Only 100 years worth of day granularity data are allowed to be fetched per request.\n",
      "- PRENW: 1d data not available for startTime=-2208994789 and endTime=1682563724. Only 100 years worth of day granularity data are allowed to be fetched per request.\n",
      "- PRIF$L: No timezone found, symbol may be delisted\n",
      "- PRIF$F: No timezone found, symbol may be delisted\n",
      "- PORT.U: No timezone found, symbol may be delisted\n",
      "- PRIF$D: No timezone found, symbol may be delisted\n",
      "- PORT.W: No timezone found, symbol may be delisted\n",
      "- PPHPW: 1d data not available for startTime=-2208994789 and endTime=1682563727. Only 100 years worth of day granularity data are allowed to be fetched per request.\n",
      "- PROCW: 1d data not available for startTime=-2208994789 and endTime=1682563729. Only 100 years worth of day granularity data are allowed to be fetched per request.\n",
      "- PRIF$H: No timezone found, symbol may be delisted\n",
      "- PNACW: 1d data not available for startTime=-2208994789 and endTime=1682563729. Only 100 years worth of day granularity data are allowed to be fetched per request.\n",
      "- PPYAW: 1d data not available for startTime=-2208994789 and endTime=1682563729. Only 100 years worth of day granularity data are allowed to be fetched per request.\n",
      "- PMT$C: No timezone found, symbol may be delisted\n",
      "- PNACR: 1d data not available for startTime=-2208994789 and endTime=1682563729. Only 100 years worth of day granularity data are allowed to be fetched per request.\n",
      "- PMT$B: No timezone found, symbol may be delisted\n",
      "- PRIF$I: No timezone found, symbol may be delisted\n",
      "- PRIF$K: No timezone found, symbol may be delisted\n",
      "- POL.W: No timezone found, symbol may be delisted\n",
      "- PRE$J: No timezone found, symbol may be delisted\n",
      "Success:    62/   62 | To go: 00:09:31 (2,261)\n",
      "[*********************100%***********************]  100 of 100 completed\n",
      "\n",
      "27 Failed downloads:\n",
      "- PSA$N: No timezone found, symbol may be delisted\n",
      "- PSA$O: No timezone found, symbol may be delisted\n",
      "- PSA$R: No timezone found, symbol may be delisted\n",
      "- PRPC.U: No timezone found, symbol may be delisted\n",
      "- PSA$H: No timezone found, symbol may be delisted\n",
      "- PSA$G: No timezone found, symbol may be delisted\n",
      "- PTWOW: 1d data not available for startTime=-2208994789 and endTime=1682563735. Only 100 years worth of day granularity data are allowed to be fetched per request.\n",
      "- PSA$K: No timezone found, symbol may be delisted\n",
      "- PUCKW: 1d data not available for startTime=-2208994789 and endTime=1682563736. Only 100 years worth of day granularity data are allowed to be fetched per request.\n",
      "- PSA$Q: No timezone found, symbol may be delisted\n",
      "- PW$A: No timezone found, symbol may be delisted\n",
      "- PTIXW: 1d data not available for startTime=-2208994789 and endTime=1682563737. Only 100 years worth of day granularity data are allowed to be fetched per request.\n",
      "- PRSTW: 1d data not available for startTime=-2208994789 and endTime=1682563740. Only 100 years worth of day granularity data are allowed to be fetched per request.\n",
      "- PSA$M: No timezone found, symbol may be delisted\n",
      "- PRSRW: 1d data not available for startTime=-2208994789 and endTime=1682563744. Only 100 years worth of day granularity data are allowed to be fetched per request.\n",
      "- PSA$J: No timezone found, symbol may be delisted\n",
      "- PSA$I: No timezone found, symbol may be delisted\n",
      "- PSA$L: No timezone found, symbol may be delisted\n",
      "- PSA$P: No timezone found, symbol may be delisted\n",
      "- PSA$F: No timezone found, symbol may be delisted\n",
      "- PSPC.U: No timezone found, symbol may be delisted\n",
      "- PRPC.W: No timezone found, symbol may be delisted\n",
      "- PSFE.W: No timezone found, symbol may be delisted\n",
      "- PSPC.W: No timezone found, symbol may be delisted\n",
      "- PSA$S: No timezone found, symbol may be delisted\n",
      "- PSEC$A: No timezone found, symbol may be delisted\n",
      "- PTHRW: 1d data not available for startTime=-2208994789 and endTime=1682563766. Only 100 years worth of day granularity data are allowed to be fetched per request.\n",
      "Success:    63/   63 | To go: 00:09:09 (2,161)\n",
      "[*********************100%***********************]  100 of 100 completed\n",
      "\n",
      "10 Failed downloads:\n",
      "- QFTA.U: No timezone found, symbol may be delisted\n",
      "- QOMOW: 1d data not available for startTime=-2208994789 and endTime=1682563774. Only 100 years worth of day granularity data are allowed to be fetched per request.\n",
      "- QBTS.W: No timezone found, symbol may be delisted\n",
      "- PWUPW: 1d data not available for startTime=-2208994789 and endTime=1682563777. Only 100 years worth of day granularity data are allowed to be fetched per request.\n",
      "- PXSAW: 1d data not available for startTime=-2208994789 and endTime=1682563777. Only 100 years worth of day granularity data are allowed to be fetched per request.\n",
      "- QDROW: 1d data not available for startTime=-2208994789 and endTime=1682563781. Only 100 years worth of day granularity data are allowed to be fetched per request.\n",
      "- RACYW: 1d data not available for startTime=-2208994789 and endTime=1682563785. Only 100 years worth of day granularity data are allowed to be fetched per request.\n",
      "- QSIAW: 1d data not available for startTime=-2208994789 and endTime=1682563789. Only 100 years worth of day granularity data are allowed to be fetched per request.\n",
      "- QOMOR: 1d data not available for startTime=-2208994789 and endTime=1682563792. Only 100 years worth of day granularity data are allowed to be fetched per request.\n",
      "- QTEKW: 1d data not available for startTime=-2208994789 and endTime=1682563792. Only 100 years worth of day granularity data are allowed to be fetched per request.\n",
      "Success:    64/   64 | To go: 00:08:44 (2,061)\n",
      "[*********************100%***********************]  100 of 100 completed\n",
      "\n",
      "21 Failed downloads:\n",
      "- REXR$C: No timezone found, symbol may be delisted\n",
      "- RDW.W: No timezone found, symbol may be delisted\n",
      "- REVBW: 1d data not available for startTime=-2208994789 and endTime=1682563796. Only 100 years worth of day granularity data are allowed to be fetched per request.\n",
      "- RF$C: No timezone found, symbol may be delisted\n",
      "- RCRTW: 1d data not available for startTime=-2208994789 and endTime=1682563798. Only 100 years worth of day granularity data are allowed to be fetched per request.\n",
      "- RCFA.W: No timezone found, symbol may be delisted\n",
      "- REXR$B: No timezone found, symbol may be delisted\n",
      "- RFACR: 1d data not available for startTime=-2208994789 and endTime=1682563798. Only 100 years worth of day granularity data are allowed to be fetched per request.\n",
      "- RCA: No data found for this date range, symbol may be delisted\n",
      "- RBOT.W: No timezone found, symbol may be delisted\n",
      "- RF$E: No timezone found, symbol may be delisted\n",
      "- RC$C: No timezone found, symbol may be delisted\n",
      "- RC$E: No timezone found, symbol may be delisted\n",
      "- RCLFW: 1d data not available for startTime=-2208994789 and endTime=1682563806. Only 100 years worth of day granularity data are allowed to be fetched per request.\n",
      "- RBT.W: No timezone found, symbol may be delisted\n",
      "- RCACW: 1d data not available for startTime=-2208994789 and endTime=1682563807. Only 100 years worth of day granularity data are allowed to be fetched per request.\n",
      "- RCFA.U: No timezone found, symbol may be delisted\n",
      "- RFACW: 1d data not available for startTime=-2208994789 and endTime=1682563807. Only 100 years worth of day granularity data are allowed to be fetched per request.\n",
      "- RF$B: No timezone found, symbol may be delisted\n",
      "- RCKTW: 1d data not available for startTime=-2208994789 and endTime=1682563808. Only 100 years worth of day granularity data are allowed to be fetched per request.\n",
      "- RELIW: 1d data not available for startTime=-2208994789 and endTime=1682563810. Only 100 years worth of day granularity data are allowed to be fetched per request.\n",
      "Success:    65/   65 | To go: 00:08:16 (1,961)\n",
      "[*********************100%***********************]  100 of 100 completed\n",
      "\n",
      "16 Failed downloads:\n",
      "- RIV$A: No timezone found, symbol may be delisted\n",
      "- RJF$B: No timezone found, symbol may be delisted\n",
      "- RITM$B: No timezone found, symbol may be delisted\n",
      "- RMGCW: 1d data not available for startTime=-2208994789 and endTime=1682563813. Only 100 years worth of day granularity data are allowed to be fetched per request.\n",
      "- RHE$A: No timezone found, symbol may be delisted\n",
      "- RITM$A: No timezone found, symbol may be delisted\n",
      "- RITM$C: No timezone found, symbol may be delisted\n",
      "- RLJ$A: No timezone found, symbol may be delisted\n",
      "- RMPL$: No timezone found, symbol may be delisted\n",
      "- RNR$G: No timezone found, symbol may be delisted\n",
      "- RNR$F: No timezone found, symbol may be delisted\n",
      "- RJAC.U: No timezone found, symbol may be delisted\n",
      "- ROCGW: 1d data not available for startTime=-2208994789 and endTime=1682563823. Only 100 years worth of day granularity data are allowed to be fetched per request.\n",
      "- RITM$D: No timezone found, symbol may be delisted\n",
      "- ROCLW: 1d data not available for startTime=-2208994789 and endTime=1682563824. Only 100 years worth of day granularity data are allowed to be fetched per request.\n",
      "- RGTIW: 1d data not available for startTime=-2208994789 and endTime=1682563825. Only 100 years worth of day granularity data are allowed to be fetched per request.\n",
      "Success:    66/   66 | To go: 00:07:48 (1,861)\n",
      "[*********************100%***********************]  100 of 100 completed\n",
      "\n",
      "16 Failed downloads:\n",
      "- RONI.U: No timezone found, symbol may be delisted\n",
      "- RUMBW: 1d data not available for startTime=-2208994789 and endTime=1682563831. Only 100 years worth of day granularity data are allowed to be fetched per request.\n",
      "- ROSEW: 1d data not available for startTime=-2208994789 and endTime=1682563831. Only 100 years worth of day granularity data are allowed to be fetched per request.\n",
      "- ROSS.W: No timezone found, symbol may be delisted\n",
      "- RWODR: 1d data not available for startTime=-2208994789 and endTime=1682563831. Only 100 years worth of day granularity data are allowed to be fetched per request.\n",
      "- RWT$A: No timezone found, symbol may be delisted\n",
      "- ROSS.U: No timezone found, symbol may be delisted\n",
      "- RRAC.W: No timezone found, symbol may be delisted\n",
      "- RY$T: No timezone found, symbol may be delisted\n",
      "- RVSNW: 1d data not available for startTime=-2208994789 and endTime=1682563835. Only 100 years worth of day granularity data are allowed to be fetched per request.\n",
      "- RRAC.U: No timezone found, symbol may be delisted\n",
      "- RPT$D: No timezone found, symbol may be delisted\n",
      "- ROIVW: 1d data not available for startTime=-2208994789 and endTime=1682563837. Only 100 years worth of day granularity data are allowed to be fetched per request.\n",
      "- RVPHW: 1d data not available for startTime=-2208994789 and endTime=1682563837. Only 100 years worth of day granularity data are allowed to be fetched per request.\n",
      "- RONI.W: No timezone found, symbol may be delisted\n",
      "- RWODW: 1d data not available for startTime=-2208994789 and endTime=1682563841. Only 100 years worth of day granularity data are allowed to be fetched per request.\n",
      "Success:    67/   67 | To go: 00:07:21 (1,761)\n",
      "[*********************100%***********************]  100 of 100 completed\n",
      "\n",
      "22 Failed downloads:\n",
      "- SCHW$D: No timezone found, symbol may be delisted\n",
      "- SAMAW: 1d data not available for startTime=-2208994789 and endTime=1682563844. Only 100 years worth of day granularity data are allowed to be fetched per request.\n",
      "- SATX.A: No timezone found, symbol may be delisted\n",
      "- SBEV.W: No timezone found, symbol may be delisted\n",
      "- SCAQW: 1d data not available for startTime=-2208994789 and endTime=1682563847. Only 100 years worth of day granularity data are allowed to be fetched per request.\n",
      "- SB$C: No timezone found, symbol may be delisted\n",
      "- SAITW: 1d data not available for startTime=-2208994789 and endTime=1682563858. Only 100 years worth of day granularity data are allowed to be fetched per request.\n",
      "- SBFMW: 1d data not available for startTime=-2208994789 and endTime=1682563859. Only 100 years worth of day granularity data are allowed to be fetched per request.\n",
      "- SCE$G: No timezone found, symbol may be delisted\n",
      "- SCE$J: No timezone found, symbol may be delisted\n",
      "- SACH$A: No timezone found, symbol may be delisted\n",
      "- SCE$K: No timezone found, symbol may be delisted\n",
      "- SABSW: 1d data not available for startTime=-2208994789 and endTime=1682563861. Only 100 years worth of day granularity data are allowed to be fetched per request.\n",
      "- SBIGW: 1d data not available for startTime=-2208994789 and endTime=1682563861. Only 100 years worth of day granularity data are allowed to be fetched per request.\n",
      "- SBXC.U: No timezone found, symbol may be delisted\n",
      "- SCE$H: No timezone found, symbol may be delisted\n",
      "- SCE$L: No timezone found, symbol may be delisted\n",
      "- SB$D: No timezone found, symbol may be delisted\n",
      "- SCLXW: 1d data not available for startTime=-2208994789 and endTime=1682563863. Only 100 years worth of day granularity data are allowed to be fetched per request.\n",
      "- SAGAR: 1d data not available for startTime=-2208994789 and endTime=1682563863. Only 100 years worth of day granularity data are allowed to be fetched per request.\n",
      "- SCHW$J: No timezone found, symbol may be delisted\n",
      "- SATLW: 1d data not available for startTime=-2208994789 and endTime=1682563864. Only 100 years worth of day granularity data are allowed to be fetched per request.\n",
      "Success:    68/   68 | To go: 00:06:56 (1,661)\n",
      "[*********************100%***********************]  100 of 100 completed\n",
      "\n",
      "16 Failed downloads:\n",
      "- SDACW: 1d data not available for startTime=-2208994789 and endTime=1682563871. Only 100 years worth of day granularity data are allowed to be fetched per request.\n",
      "- SF$D: No timezone found, symbol may be delisted\n",
      "- SCRMW: 1d data not available for startTime=-2208994789 and endTime=1682563877. Only 100 years worth of day granularity data are allowed to be fetched per request.\n",
      "- SEDA.U: No timezone found, symbol may be delisted\n",
      "- SFB: 1d data not available for startTime=-2208994789 and endTime=1682563881. Only 100 years worth of day granularity data are allowed to be fetched per request.\n",
      "- SEPAW: 1d data not available for startTime=-2208994789 and endTime=1682563882. Only 100 years worth of day granularity data are allowed to be fetched per request.\n",
      "- SCUA.W: No timezone found, symbol may be delisted\n",
      "- SF$C: No timezone found, symbol may be delisted\n",
      "- SEAL$B: No timezone found, symbol may be delisted\n",
      "- SEDA.W: No timezone found, symbol may be delisted\n",
      "- SCUA.U: No timezone found, symbol may be delisted\n",
      "- SES.W: No timezone found, symbol may be delisted\n",
      "- SF$B: No timezone found, symbol may be delisted\n",
      "- SGIIW: 1d data not available for startTime=-2208994789 and endTime=1682563903. Only 100 years worth of day granularity data are allowed to be fetched per request.\n",
      "- SGHLW: 1d data not available for startTime=-2208994789 and endTime=1682563906. Only 100 years worth of day granularity data are allowed to be fetched per request.\n",
      "- SEAL$A: No timezone found, symbol may be delisted\n",
      "Success:    69/   69 | To go: 00:06:37 (1,561)\n",
      "[*********************100%***********************]  100 of 100 completed\n",
      "\n",
      "16 Failed downloads:\n",
      "- SHAP.W: No timezone found, symbol may be delisted\n",
      "- SHPW.W: No timezone found, symbol may be delisted\n",
      "- SITC$A: No timezone found, symbol may be delisted\n",
      "- SLG$I: No timezone found, symbol may be delisted\n",
      "- SHO$H: No timezone found, symbol may be delisted\n",
      "- SKYH.W: No timezone found, symbol may be delisted\n",
      "- SHUAW: 1d data not available for startTime=-2208994789 and endTime=1682563924. Only 100 years worth of day granularity data are allowed to be fetched per request.\n",
      "- SLACW: 1d data not available for startTime=-2208994789 and endTime=1682563924. Only 100 years worth of day granularity data are allowed to be fetched per request.\n",
      "- SLAMW: 1d data not available for startTime=-2208994789 and endTime=1682563926. Only 100 years worth of day granularity data are allowed to be fetched per request.\n",
      "- SI$A: No timezone found, symbol may be delisted\n",
      "- SKYAW: 1d data not available for startTime=-2208994789 and endTime=1682563943. Only 100 years worth of day granularity data are allowed to be fetched per request.\n",
      "- SLDPW: 1d data not available for startTime=-2208994789 and endTime=1682563943. Only 100 years worth of day granularity data are allowed to be fetched per request.\n",
      "- SHO$I: No timezone found, symbol may be delisted\n",
      "- SKIL.W: No timezone found, symbol may be delisted\n",
      "- SHAP.U: No timezone found, symbol may be delisted\n",
      "- SHFSW: 1d data not available for startTime=-2208994789 and endTime=1682563946. Only 100 years worth of day granularity data are allowed to be fetched per request.\n",
      "Success:    70/   70 | To go: 00:06:12 (1,461)\n",
      "[*********************100%***********************]  100 of 100 completed\n",
      "\n",
      "11 Failed downloads:\n",
      "- SMR.W: No timezone found, symbol may be delisted\n",
      "- SLND.W: No timezone found, symbol may be delisted\n",
      "- SMAPW: 1d data not available for startTime=-2208994789 and endTime=1682563951. Only 100 years worth of day granularity data are allowed to be fetched per request.\n",
      "- SNAXW: 1d data not available for startTime=-2208994789 and endTime=1682563951. Only 100 years worth of day granularity data are allowed to be fetched per request.\n",
      "- SNRHW: 1d data not available for startTime=-2208994789 and endTime=1682563951. Only 100 years worth of day granularity data are allowed to be fetched per request.\n",
      "- SLGCW: 1d data not available for startTime=-2208994789 and endTime=1682563953. Only 100 years worth of day granularity data are allowed to be fetched per request.\n",
      "- SNV$E: No timezone found, symbol may be delisted\n",
      "- SLVRW: 1d data not available for startTime=-2208994789 and endTime=1682563959. Only 100 years worth of day granularity data are allowed to be fetched per request.\n",
      "- SMXWW: 1d data not available for startTime=-2208994789 and endTime=1682563960. Only 100 years worth of day granularity data are allowed to be fetched per request.\n",
      "- SNV$D: No timezone found, symbol may be delisted\n",
      "- SLNAW: 1d data not available for startTime=-2208994789 and endTime=1682563961. Only 100 years worth of day granularity data are allowed to be fetched per request.\n",
      "Success:    71/   71 | To go: 00:05:45 (1,361)\n",
      "[*********************100%***********************]  100 of 100 completed\n",
      "\n",
      "14 Failed downloads:\n",
      "- SPE$C: No timezone found, symbol may be delisted\n",
      "- SR$A: No timezone found, symbol may be delisted\n",
      "- SQLLW: 1d data not available for startTime=-2208994789 and endTime=1682563970. Only 100 years worth of day granularity data are allowed to be fetched per request.\n",
      "- SOLOW: 1d data not available for startTime=-2208994789 and endTime=1682563974. Only 100 years worth of day granularity data are allowed to be fetched per request.\n",
      "- SQFTW: 1d data not available for startTime=-2208994789 and endTime=1682563974. Only 100 years worth of day granularity data are allowed to be fetched per request.\n",
      "- SOUNW: 1d data not available for startTime=-2208994789 and endTime=1682563974. Only 100 years worth of day granularity data are allowed to be fetched per request.\n",
      "- SRG$A: No timezone found, symbol may be delisted\n",
      "- SPNT$B: No timezone found, symbol may be delisted\n",
      "- SPG$J: No timezone found, symbol may be delisted\n",
      "- SRZNW: 1d data not available for startTime=-2208994789 and endTime=1682563975. Only 100 years worth of day granularity data are allowed to be fetched per request.\n",
      "- SRC$A: No timezone found, symbol may be delisted\n",
      "- SPLP$A: No timezone found, symbol may be delisted\n",
      "- SPCMW: 1d data not available for startTime=-2208994789 and endTime=1682563977. Only 100 years worth of day granularity data are allowed to be fetched per request.\n",
      "- SONDW: 1d data not available for startTime=-2208994789 and endTime=1682563978. Only 100 years worth of day granularity data are allowed to be fetched per request.\n",
      "Success:    72/   72 | To go: 00:05:18 (1,261)\n",
      "[*********************100%***********************]  100 of 100 completed\n",
      "\n",
      "15 Failed downloads:\n",
      "- SUNL.W: No timezone found, symbol may be delisted\n",
      "- SURGW: 1d data not available for startTime=-2208994789 and endTime=1682563982. Only 100 years worth of day granularity data are allowed to be fetched per request.\n",
      "- STET.U: No timezone found, symbol may be delisted\n",
      "- SVIIR: 1d data not available for startTime=-2208994789 and endTime=1682563984. Only 100 years worth of day granularity data are allowed to be fetched per request.\n",
      "- SUAC.U: No timezone found, symbol may be delisted\n",
      "- STT$G: No timezone found, symbol may be delisted\n",
      "- SST.W: No timezone found, symbol may be delisted\n",
      "- SSU.W: No timezone found, symbol may be delisted\n",
      "- STR.W: No timezone found, symbol may be delisted\n",
      "- SUAC.W: No timezone found, symbol may be delisted\n",
      "- STIXW: 1d data not available for startTime=-2208994789 and endTime=1682564000. Only 100 years worth of day granularity data are allowed to be fetched per request.\n",
      "- STT$D: No timezone found, symbol may be delisted\n",
      "- STET.W: No timezone found, symbol may be delisted\n",
      "- STSSW: 1d data not available for startTime=-2208994789 and endTime=1682564001. Only 100 years worth of day granularity data are allowed to be fetched per request.\n",
      "- STRCW: 1d data not available for startTime=-2208994789 and endTime=1682564001. Only 100 years worth of day granularity data are allowed to be fetched per request.\n",
      "Success:    73/   73 | To go: 00:04:52 (1,161)\n",
      "[*********************100%***********************]  100 of 100 completed\n",
      "\n",
      "16 Failed downloads:\n",
      "- T$C: No timezone found, symbol may be delisted\n",
      "- T$A: No timezone found, symbol may be delisted\n",
      "- SYTAW: 1d data not available for startTime=-2208994789 and endTime=1682564006. Only 100 years worth of day granularity data are allowed to be fetched per request.\n",
      "- SVREW: 1d data not available for startTime=-2208994789 and endTime=1682564006. Only 100 years worth of day granularity data are allowed to be fetched per request.\n",
      "- TCBPW: 1d data not available for startTime=-2208994789 and endTime=1682564007. Only 100 years worth of day granularity data are allowed to be fetched per request.\n",
      "- SVNAW: 1d data not available for startTime=-2208994789 and endTime=1682564007. Only 100 years worth of day granularity data are allowed to be fetched per request.\n",
      "- TBLAW: 1d data not available for startTime=-2208994789 and endTime=1682564008. Only 100 years worth of day granularity data are allowed to be fetched per request.\n",
      "- SWVLW: 1d data not available for startTime=-2208994789 and endTime=1682564009. Only 100 years worth of day granularity data are allowed to be fetched per request.\n",
      "- SYF$A: No timezone found, symbol may be delisted\n",
      "- TALKW: 1d data not available for startTime=-2208994789 and endTime=1682564015. Only 100 years worth of day granularity data are allowed to be fetched per request.\n",
      "- SWAGW: 1d data not available for startTime=-2208994789 and endTime=1682564016. Only 100 years worth of day granularity data are allowed to be fetched per request.\n",
      "- TAP.A: No timezone found, symbol may be delisted\n",
      "- SWSSW: 1d data not available for startTime=-2208994789 and endTime=1682564019. Only 100 years worth of day granularity data are allowed to be fetched per request.\n",
      "- SZZLW: 1d data not available for startTime=-2208994789 and endTime=1682564020. Only 100 years worth of day granularity data are allowed to be fetched per request.\n",
      "- SVIIW: 1d data not available for startTime=-2208994789 and endTime=1682564021. Only 100 years worth of day granularity data are allowed to be fetched per request.\n",
      "- TBCPW: 1d data not available for startTime=-2208994789 and endTime=1682564021. Only 100 years worth of day granularity data are allowed to be fetched per request.\n",
      "Success:    74/   74 | To go: 00:04:26 (1,061)\n",
      "[*********************100%***********************]  100 of 100 completed\n",
      "\n",
      "19 Failed downloads:\n",
      "- TCOA.U: No timezone found, symbol may be delisted\n",
      "- TDW.B: 1d data not available for startTime=-2208994789 and endTime=1682564024. Only 100 years worth of day granularity data are allowed to be fetched per request.\n",
      "- TFC$I: No timezone found, symbol may be delisted\n",
      "- TFC$O: No timezone found, symbol may be delisted\n",
      "- THCPW: 1d data not available for startTime=-2208994789 and endTime=1682564026. Only 100 years worth of day granularity data are allowed to be fetched per request.\n",
      "- TCOA.W: No timezone found, symbol may be delisted\n",
      "- TGH$B: No timezone found, symbol may be delisted\n",
      "- TGR.W: No timezone found, symbol may be delisted\n",
      "- TETEW: 1d data not available for startTime=-2208994789 and endTime=1682564045. Only 100 years worth of day granularity data are allowed to be fetched per request.\n",
      "- THCHW: 1d data not available for startTime=-2208994789 and endTime=1682564045. Only 100 years worth of day granularity data are allowed to be fetched per request.\n",
      "- TGH$A: No timezone found, symbol may be delisted\n",
      "- TDS$U: No timezone found, symbol may be delisted\n",
      "- TDW.A: No timezone found, symbol may be delisted\n",
      "- TGAAW: 1d data not available for startTime=-2208994789 and endTime=1682564052. Only 100 years worth of day granularity data are allowed to be fetched per request.\n",
      "- TDW.W: No timezone found, symbol may be delisted\n",
      "- TDS$V: No timezone found, symbol may be delisted\n",
      "- TFC$R: No timezone found, symbol may be delisted\n",
      "- TENKR: 1d data not available for startTime=-2208994789 and endTime=1682564053. Only 100 years worth of day granularity data are allowed to be fetched per request.\n",
      "- TGR.U: No timezone found, symbol may be delisted\n",
      "Success:    75/   75 | To go: 00:04:03 (  961)\n",
      "[*********************100%***********************]  100 of 100 completed\n",
      "\n",
      "10 Failed downloads:\n",
      "- TNP$F: No timezone found, symbol may be delisted\n",
      "- TLGA.U: No timezone found, symbol may be delisted\n",
      "- TOACW: 1d data not available for startTime=-2208994789 and endTime=1682564066. Only 100 years worth of day granularity data are allowed to be fetched per request.\n",
      "- TLGYW: 1d data not available for startTime=-2208994789 and endTime=1682564066. Only 100 years worth of day granularity data are allowed to be fetched per request.\n",
      "- TOIIW: 1d data not available for startTime=-2208994789 and endTime=1682564068. Only 100 years worth of day granularity data are allowed to be fetched per request.\n",
      "- TNP$E: No timezone found, symbol may be delisted\n",
      "- TMPOW: 1d data not available for startTime=-2208994789 and endTime=1682564091. Only 100 years worth of day granularity data are allowed to be fetched per request.\n",
      "- TMKRW: 1d data not available for startTime=-2208994789 and endTime=1682564095. Only 100 years worth of day granularity data are allowed to be fetched per request.\n",
      "- TNP$D: No timezone found, symbol may be delisted\n",
      "- THWWW: 1d data not available for startTime=-2208994789 and endTime=1682564103. Only 100 years worth of day granularity data are allowed to be fetched per request.\n",
      "Success:    76/   76 | To go: 00:03:40 (  861)\n",
      "[*********************100%***********************]  100 of 100 completed\n",
      "\n",
      "16 Failed downloads:\n",
      "- TRAQ.W: No timezone found, symbol may be delisted\n",
      "- TRTX$C: No timezone found, symbol may be delisted\n",
      "- TRIS.W: No timezone found, symbol may be delisted\n",
      "- TRIS.U: No timezone found, symbol may be delisted\n",
      "- TRTN$A: No timezone found, symbol may be delisted\n",
      "- TRTL.U: No timezone found, symbol may be delisted\n",
      "- TRKAW: 1d data not available for startTime=-2208994789 and endTime=1682564117. Only 100 years worth of day granularity data are allowed to be fetched per request.\n",
      "- TRAQ.U: No timezone found, symbol may be delisted\n",
      "- TRONW: 1d data not available for startTime=-2208994789 and endTime=1682564118. Only 100 years worth of day granularity data are allowed to be fetched per request.\n",
      "- TRTN$C: No timezone found, symbol may be delisted\n",
      "- TRCA.U: No timezone found, symbol may be delisted\n",
      "- TRTN$D: No timezone found, symbol may be delisted\n",
      "- TRTN$E: No timezone found, symbol may be delisted\n",
      "- TRTN$B: No timezone found, symbol may be delisted\n",
      "- TRTL.W: No timezone found, symbol may be delisted\n",
      "- TRCA.W: No timezone found, symbol may be delisted\n",
      "Success:    77/   77 | To go: 00:03:15 (  761)\n",
      "[*********************100%***********************]  100 of 100 completed\n",
      "\n",
      "12 Failed downloads:\n",
      "- TWLVW: 1d data not available for startTime=-2208994789 and endTime=1682564139. Only 100 years worth of day granularity data are allowed to be fetched per request.\n",
      "- UHAL.B: 1d data not available for startTime=-2208994789 and endTime=1682564141. Only 100 years worth of day granularity data are allowed to be fetched per request.\n",
      "- UBP$H: No timezone found, symbol may be delisted\n",
      "- TWO$C: No timezone found, symbol may be delisted\n",
      "- UKOMW: 1d data not available for startTime=-2208994789 and endTime=1682564154. Only 100 years worth of day granularity data are allowed to be fetched per request.\n",
      "- UMH$D: No timezone found, symbol may be delisted\n",
      "- UBP$K: No timezone found, symbol may be delisted\n",
      "- TWO$A: No timezone found, symbol may be delisted\n",
      "- UHGWW: 1d data not available for startTime=-2208994789 and endTime=1682564182. Only 100 years worth of day granularity data are allowed to be fetched per request.\n",
      "- TWCBW: 1d data not available for startTime=-2208994789 and endTime=1682564184. Only 100 years worth of day granularity data are allowed to be fetched per request.\n",
      "- TY$: No timezone found, symbol may be delisted\n",
      "- TWO$B: No timezone found, symbol may be delisted\n",
      "Success:    78/   78 | To go: 00:02:53 (  661)\n",
      "[*********************100%***********************]  100 of 100 completed\n",
      "\n",
      "14 Failed downloads:\n",
      "- USB$Q: No timezone found, symbol may be delisted\n",
      "- USB$H: No timezone found, symbol may be delisted\n",
      "- UTAAW: 1d data not available for startTime=-2208994789 and endTime=1682564208. Only 100 years worth of day granularity data are allowed to be fetched per request.\n",
      "- USB$R: No timezone found, symbol may be delisted\n",
      "- UP.W: No timezone found, symbol may be delisted\n",
      "- USB$A: No timezone found, symbol may be delisted\n",
      "- UPH.W: No timezone found, symbol may be delisted\n",
      "- USB$P: No timezone found, symbol may be delisted\n",
      "- USB$S: No timezone found, symbol may be delisted\n",
      "- VAL.W: No timezone found, symbol may be delisted\n",
      "- USGOW: 1d data not available for startTime=-2208994789 and endTime=1682564213. Only 100 years worth of day granularity data are allowed to be fetched per request.\n",
      "- UPTDW: 1d data not available for startTime=-2208994789 and endTime=1682564214. Only 100 years worth of day granularity data are allowed to be fetched per request.\n",
      "- UWMC.W: No timezone found, symbol may be delisted\n",
      "- USCTW: 1d data not available for startTime=-2208994789 and endTime=1682564216. Only 100 years worth of day granularity data are allowed to be fetched per request.\n",
      "Success:    79/   79 | To go: 00:02:26 (  561)\n",
      "[*********************100%***********************]  100 of 100 completed\n",
      "\n",
      "15 Failed downloads:\n",
      "- VCXB.W: No timezone found, symbol may be delisted\n",
      "- VIIAW: 1d data not available for startTime=-2208994789 and endTime=1682564220. Only 100 years worth of day granularity data are allowed to be fetched per request.\n",
      "- VCXB.U: No timezone found, symbol may be delisted\n",
      "- VLN.W: No timezone found, symbol may be delisted\n",
      "- VHAQ.U: No timezone found, symbol may be delisted\n",
      "- VHAQ.R: No timezone found, symbol may be delisted\n",
      "- VERBW: 1d data not available for startTime=-2208994789 and endTime=1682564225. Only 100 years worth of day granularity data are allowed to be fetched per request.\n",
      "- VHAQ.W: No timezone found, symbol may be delisted\n",
      "- VLATW: 1d data not available for startTime=-2208994789 and endTime=1682564226. Only 100 years worth of day granularity data are allowed to be fetched per request.\n",
      "- VCXAW: 1d data not available for startTime=-2208994789 and endTime=1682564227. Only 100 years worth of day granularity data are allowed to be fetched per request.\n",
      "- VHNAW: 1d data not available for startTime=-2208994789 and endTime=1682564234. Only 100 years worth of day granularity data are allowed to be fetched per request.\n",
      "- VGASW: 1d data not available for startTime=-2208994789 and endTime=1682564234. Only 100 years worth of day granularity data are allowed to be fetched per request.\n",
      "- VLD.W: No timezone found, symbol may be delisted\n",
      "- VIEWW: 1d data not available for startTime=-2208994789 and endTime=1682564241. Only 100 years worth of day granularity data are allowed to be fetched per request.\n",
      "- VBOCW: 1d data not available for startTime=-2208994789 and endTime=1682564245. Only 100 years worth of day granularity data are allowed to be fetched per request.\n",
      "Success:    80/   80 | To go: 00:01:60 (  461)\n",
      "[*********************100%***********************]  100 of 100 completed\n",
      "\n",
      "11 Failed downloads:\n",
      "- VMGAW: 1d data not available for startTime=-2208994789 and endTime=1682564249. Only 100 years worth of day granularity data are allowed to be fetched per request.\n",
      "- VSACW: 1d data not available for startTime=-2208994789 and endTime=1682564251. Only 100 years worth of day granularity data are allowed to be fetched per request.\n",
      "- VST.A: No timezone found, symbol may be delisted\n",
      "- VWEWW: 1d data not available for startTime=-2208994789 and endTime=1682564261. Only 100 years worth of day granularity data are allowed to be fetched per request.\n",
      "- VMCAW: 1d data not available for startTime=-2208994789 and endTime=1682564264. Only 100 years worth of day granularity data are allowed to be fetched per request.\n",
      "- VNO$O: No timezone found, symbol may be delisted\n",
      "- VNO$N: No timezone found, symbol may be delisted\n",
      "- VNO$L: No timezone found, symbol may be delisted\n",
      "- VNO$M: No timezone found, symbol may be delisted\n",
      "- VRMEW: 1d data not available for startTime=-2208994789 and endTime=1682564274. Only 100 years worth of day granularity data are allowed to be fetched per request.\n",
      "- VOYA$B: No timezone found, symbol may be delisted\n",
      "Success:    81/   81 | To go: 00:01:34 (  361)\n",
      "[*********************100%***********************]  100 of 100 completed\n",
      "\n",
      "23 Failed downloads:\n",
      "- WFC$Y: No timezone found, symbol may be delisted\n",
      "- WAL$A: No timezone found, symbol may be delisted\n",
      "- WAVSW: 1d data not available for startTime=-2208994789 and endTime=1682564279. Only 100 years worth of day granularity data are allowed to be fetched per request.\n",
      "- WFC$Z: No timezone found, symbol may be delisted\n",
      "- WGSWW: 1d data not available for startTime=-2208994789 and endTime=1682564280. Only 100 years worth of day granularity data are allowed to be fetched per request.\n",
      "- WAVC.U: No timezone found, symbol may be delisted\n",
      "- WBS$F: No timezone found, symbol may be delisted\n",
      "- WFC$C: No timezone found, symbol may be delisted\n",
      "- WEL.W: No timezone found, symbol may be delisted\n",
      "- WINVR: 1d data not available for startTime=-2208994789 and endTime=1682564285. Only 100 years worth of day granularity data are allowed to be fetched per request.\n",
      "- WESTW: 1d data not available for startTime=-2208994789 and endTime=1682564285. Only 100 years worth of day granularity data are allowed to be fetched per request.\n",
      "- WFC$L: No timezone found, symbol may be delisted\n",
      "- WE.W: No timezone found, symbol may be delisted\n",
      "- WBS$G: No timezone found, symbol may be delisted\n",
      "- WCC$A: No timezone found, symbol may be delisted\n",
      "- WFC$D: No timezone found, symbol may be delisted\n",
      "- WBX.W: No timezone found, symbol may be delisted\n",
      "- WFC$R: No timezone found, symbol may be delisted\n",
      "- WEL.U: No timezone found, symbol may be delisted\n",
      "- WAVC.W: No timezone found, symbol may be delisted\n",
      "- WINVW: 1d data not available for startTime=-2208994789 and endTime=1682564301. Only 100 years worth of day granularity data are allowed to be fetched per request.\n",
      "- WFC$A: No timezone found, symbol may be delisted\n",
      "- WFC$Q: No timezone found, symbol may be delisted\n",
      "Success:    82/   82 | To go: 00:01:08 (  261)\n",
      "[***                    6%                       ]  6 of 100 completed"
     ]
    },
    {
     "ename": "KeyboardInterrupt",
     "evalue": "",
     "output_type": "error",
     "traceback": [
      "\u001b[1;31m---------------------------------------------------------------------------\u001b[0m",
      "\u001b[1;31mKeyboardInterrupt\u001b[0m                         Traceback (most recent call last)",
      "\u001b[1;32mc:\\Users\\indi\\Desktop\\Code\\DataPython_venv\\SWCapstonDesign\\04_build_us_stock_dataset.ipynb Cell 23\u001b[0m in \u001b[0;36m4\n\u001b[0;32m      <a href='vscode-notebook-cell:/c%3A/Users/indi/Desktop/Code/DataPython_venv/SWCapstonDesign/04_build_us_stock_dataset.ipynb#X24sZmlsZQ%3D%3D?line=1'>2</a>\u001b[0m start \u001b[39m=\u001b[39m time()\n\u001b[0;32m      <a href='vscode-notebook-cell:/c%3A/Users/indi/Desktop/Code/DataPython_venv/SWCapstonDesign/04_build_us_stock_dataset.ipynb#X24sZmlsZQ%3D%3D?line=2'>3</a>\u001b[0m \u001b[39mfor\u001b[39;00m i, chunk \u001b[39min\u001b[39;00m \u001b[39menumerate\u001b[39m(chunks(all_symbols, \u001b[39m100\u001b[39m), \u001b[39m1\u001b[39m):\n\u001b[1;32m----> <a href='vscode-notebook-cell:/c%3A/Users/indi/Desktop/Code/DataPython_venv/SWCapstonDesign/04_build_us_stock_dataset.ipynb#X24sZmlsZQ%3D%3D?line=3'>4</a>\u001b[0m     prices_adj\u001b[39m.\u001b[39mappend(yf\u001b[39m.\u001b[39;49mdownload(chunk, period\u001b[39m=\u001b[39;49m\u001b[39m'\u001b[39;49m\u001b[39mmax\u001b[39;49m\u001b[39m'\u001b[39;49m, auto_adjust\u001b[39m=\u001b[39;49m\u001b[39mTrue\u001b[39;49;00m)\u001b[39m.\u001b[39mstack(\u001b[39m-\u001b[39m\u001b[39m1\u001b[39m))\n\u001b[0;32m      <a href='vscode-notebook-cell:/c%3A/Users/indi/Desktop/Code/DataPython_venv/SWCapstonDesign/04_build_us_stock_dataset.ipynb#X24sZmlsZQ%3D%3D?line=5'>6</a>\u001b[0m     per_ticker \u001b[39m=\u001b[39m (time()\u001b[39m-\u001b[39mstart) \u001b[39m/\u001b[39m (i \u001b[39m*\u001b[39m \u001b[39m100\u001b[39m)\n\u001b[0;32m      <a href='vscode-notebook-cell:/c%3A/Users/indi/Desktop/Code/DataPython_venv/SWCapstonDesign/04_build_us_stock_dataset.ipynb#X24sZmlsZQ%3D%3D?line=6'>7</a>\u001b[0m     to_do \u001b[39m=\u001b[39m n \u001b[39m-\u001b[39m (i \u001b[39m*\u001b[39m \u001b[39m100\u001b[39m)\n",
      "File \u001b[1;32mc:\\Users\\indi\\Desktop\\Code\\DataPython_venv\\finance\\lib\\site-packages\\yfinance\\multi.py:131\u001b[0m, in \u001b[0;36mdownload\u001b[1;34m(tickers, start, end, actions, threads, ignore_tz, group_by, auto_adjust, back_adjust, repair, keepna, progress, period, show_errors, interval, prepost, proxy, rounding, timeout)\u001b[0m\n\u001b[0;32m    124\u001b[0m         _download_one_threaded(ticker, period\u001b[39m=\u001b[39mperiod, interval\u001b[39m=\u001b[39minterval,\n\u001b[0;32m    125\u001b[0m                                start\u001b[39m=\u001b[39mstart, end\u001b[39m=\u001b[39mend, prepost\u001b[39m=\u001b[39mprepost,\n\u001b[0;32m    126\u001b[0m                                actions\u001b[39m=\u001b[39mactions, auto_adjust\u001b[39m=\u001b[39mauto_adjust,\n\u001b[0;32m    127\u001b[0m                                back_adjust\u001b[39m=\u001b[39mback_adjust, repair\u001b[39m=\u001b[39mrepair, keepna\u001b[39m=\u001b[39mkeepna,\n\u001b[0;32m    128\u001b[0m                                progress\u001b[39m=\u001b[39m(progress \u001b[39mand\u001b[39;00m i \u001b[39m>\u001b[39m \u001b[39m0\u001b[39m), proxy\u001b[39m=\u001b[39mproxy,\n\u001b[0;32m    129\u001b[0m                                rounding\u001b[39m=\u001b[39mrounding, timeout\u001b[39m=\u001b[39mtimeout)\n\u001b[0;32m    130\u001b[0m     \u001b[39mwhile\u001b[39;00m \u001b[39mlen\u001b[39m(shared\u001b[39m.\u001b[39m_DFS) \u001b[39m<\u001b[39m \u001b[39mlen\u001b[39m(tickers):\n\u001b[1;32m--> 131\u001b[0m         _time\u001b[39m.\u001b[39;49msleep(\u001b[39m0.01\u001b[39;49m)\n\u001b[0;32m    133\u001b[0m \u001b[39m# download synchronously\u001b[39;00m\n\u001b[0;32m    134\u001b[0m \u001b[39melse\u001b[39;00m:\n\u001b[0;32m    135\u001b[0m     \u001b[39mfor\u001b[39;00m i, ticker \u001b[39min\u001b[39;00m \u001b[39menumerate\u001b[39m(tickers):\n",
      "\u001b[1;31mKeyboardInterrupt\u001b[0m: "
     ]
    },
    {
     "name": "stdout",
     "output_type": "stream",
     "text": [
      "[**********************99%***********************]  99 of 100 completed"
     ]
    }
   ],
   "source": [
    "prices_adj = []\n",
    "start = time()\n",
    "for i, chunk in enumerate(chunks(all_symbols, 100), 1):\n",
    "    prices_adj.append(yf.download(chunk, period='max', auto_adjust=True).stack(-1))\n",
    "\n",
    "    per_ticker = (time()-start) / (i * 100)\n",
    "    to_do = n - (i * 100)\n",
    "    to_go = to_do * per_ticker    \n",
    "    print(f'Success: {len(prices_adj):5,.0f}/{i:5,.0f} | To go: {format_time(to_go)} ({to_do:5,.0f})')"
   ]
  },
  {
   "cell_type": "code",
   "execution_count": null,
   "metadata": {
    "ExecuteTime": {
     "end_time": "2021-02-24T10:01:19.400460Z",
     "start_time": "2021-02-24T10:00:48.704777Z"
    }
   },
   "outputs": [],
   "source": [
    "prices_adj = (pd.concat(prices_adj)\n",
    "              .dropna(how='all', axis=1)\n",
    "              .rename(columns=str.lower)\n",
    "              .swaplevel())"
   ]
  },
  {
   "cell_type": "code",
   "execution_count": null,
   "metadata": {
    "ExecuteTime": {
     "end_time": "2021-02-24T10:01:19.403136Z",
     "start_time": "2021-02-24T10:01:19.401480Z"
    }
   },
   "outputs": [],
   "source": [
    "prices_adj.index.names = ['ticker', 'date']"
   ]
  },
  {
   "cell_type": "code",
   "execution_count": null,
   "metadata": {
    "ExecuteTime": {
     "end_time": "2021-02-24T10:01:19.524404Z",
     "start_time": "2021-02-24T10:01:19.403934Z"
    }
   },
   "outputs": [],
   "source": [
    "len(prices_adj.index.unique('ticker'))"
   ]
  },
  {
   "cell_type": "markdown",
   "metadata": {},
   "source": [
    "### Remove outliers"
   ]
  },
  {
   "cell_type": "code",
   "execution_count": null,
   "metadata": {
    "ExecuteTime": {
     "end_time": "2021-02-24T10:01:26.721497Z",
     "start_time": "2021-02-24T10:01:19.525371Z"
    }
   },
   "outputs": [],
   "source": [
    "df = prices_adj.close.unstack('ticker')\n",
    "pmax = df.pct_change().max()\n",
    "pmin = df.pct_change().min()\n",
    "to_drop = pmax[pmax > 1].index.union(pmin[pmin<-1].index)\n",
    "len(to_drop)"
   ]
  },
  {
   "cell_type": "code",
   "execution_count": null,
   "metadata": {
    "ExecuteTime": {
     "end_time": "2021-02-24T10:02:48.974317Z",
     "start_time": "2021-02-24T10:01:26.722329Z"
    }
   },
   "outputs": [],
   "source": [
    "prices_adj = prices_adj.drop(to_drop, level='ticker')"
   ]
  },
  {
   "cell_type": "code",
   "execution_count": null,
   "metadata": {
    "ExecuteTime": {
     "end_time": "2021-02-24T10:02:49.069890Z",
     "start_time": "2021-02-24T10:02:48.975147Z"
    }
   },
   "outputs": [],
   "source": [
    "len(prices_adj.index.unique('ticker'))"
   ]
  },
  {
   "cell_type": "code",
   "execution_count": null,
   "metadata": {
    "ExecuteTime": {
     "end_time": "2021-02-24T10:02:56.784555Z",
     "start_time": "2021-02-24T10:02:49.070735Z"
    }
   },
   "outputs": [],
   "source": [
    "prices_adj.sort_index().loc[idx[:, '1990': '2019'], :].to_hdf(results_path / 'data.h5', \n",
    "                                                              'stocks/prices/adjusted')"
   ]
  },
  {
   "cell_type": "markdown",
   "metadata": {},
   "source": [
    "# 조한용 파이팅"
   ]
  }
 ],
 "metadata": {
  "kernelspec": {
   "display_name": "finance",
   "language": "python",
   "name": "python3"
  },
  "language_info": {
   "codemirror_mode": {
    "name": "ipython",
    "version": 3
   },
   "file_extension": ".py",
   "mimetype": "text/x-python",
   "name": "python",
   "nbconvert_exporter": "python",
   "pygments_lexer": "ipython3",
   "version": "3.10.11"
  },
  "toc": {
   "base_numbering": 1,
   "nav_menu": {},
   "number_sections": true,
   "sideBar": true,
   "skip_h1_title": true,
   "title_cell": "Table of Contents",
   "title_sidebar": "Contents",
   "toc_cell": false,
   "toc_position": {},
   "toc_section_display": true,
   "toc_window_display": true
  },
  "vscode": {
   "interpreter": {
    "hash": "9fe9e6db701ded81cc03a408b6c0b9feb741cf499c165361f3878077b7c94d2a"
   }
  }
 },
 "nbformat": 4,
 "nbformat_minor": 4
}
