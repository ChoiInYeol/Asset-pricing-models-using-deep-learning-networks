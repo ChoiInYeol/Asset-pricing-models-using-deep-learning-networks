{
 "cells": [
  {
   "attachments": {},
   "cell_type": "markdown",
   "metadata": {},
   "source": [
    "# Conditional Autoencoder for Asset Pricing - Part 1: The Data"
   ]
  },
  {
   "cell_type": "code",
   "execution_count": 127,
   "metadata": {
    "ExecuteTime": {
     "end_time": "2021-02-24T15:07:31.951910Z",
     "start_time": "2021-02-24T15:07:31.351143Z"
    }
   },
   "outputs": [],
   "source": [
    "from pathlib import Path\n",
    "\n",
    "import numpy as np\n",
    "import pandas as pd\n",
    "\n",
    "from statsmodels.regression.rolling import RollingOLS\n",
    "import statsmodels.api as sm\n",
    "import matplotlib.pyplot as plt\n",
    "import seaborn as sns"
   ]
  },
  {
   "cell_type": "code",
   "execution_count": 126,
   "metadata": {
    "ExecuteTime": {
     "end_time": "2021-02-24T15:07:31.954639Z",
     "start_time": "2021-02-24T15:07:31.953021Z"
    }
   },
   "outputs": [],
   "source": [
    "idx = pd.IndexSlice\n",
    "sns.set_style('whitegrid')"
   ]
  },
  {
   "cell_type": "code",
   "execution_count": 128,
   "metadata": {
    "ExecuteTime": {
     "end_time": "2021-02-24T15:07:31.963074Z",
     "start_time": "2021-02-24T15:07:31.955671Z"
    }
   },
   "outputs": [],
   "source": [
    "results_path = Path('KR2_results', 'asset_pricing')\n",
    "if not results_path.exists():\n",
    "    results_path.mkdir(parents=True)"
   ]
  },
  {
   "attachments": {},
   "cell_type": "markdown",
   "metadata": {},
   "source": [
    "## Load Data"
   ]
  },
  {
   "attachments": {},
   "cell_type": "markdown",
   "metadata": {},
   "source": [
    "### Prices"
   ]
  },
  {
   "cell_type": "code",
   "execution_count": 129,
   "metadata": {
    "ExecuteTime": {
     "end_time": "2021-02-24T15:07:33.621475Z",
     "start_time": "2021-02-24T15:07:31.963898Z"
    }
   },
   "outputs": [],
   "source": [
    "prices = pd.read_hdf(results_path / 'data.h5', 'stocks/prices/adjusted')"
   ]
  },
  {
   "cell_type": "code",
   "execution_count": 130,
   "metadata": {
    "ExecuteTime": {
     "end_time": "2021-02-24T15:07:33.932624Z",
     "start_time": "2021-02-24T15:07:33.622337Z"
    }
   },
   "outputs": [
    {
     "name": "stdout",
     "output_type": "stream",
     "text": [
      "<class 'pandas.core.frame.DataFrame'>\n",
      "MultiIndex: 3817016 entries, ('000020.KS', Timestamp('2000-01-04 00:00:00')) to ('950210.KS', Timestamp('2023-05-08 00:00:00'))\n",
      "Data columns (total 5 columns):\n",
      " #   Column  Non-Null Count    Dtype  \n",
      "---  ------  --------------    -----  \n",
      " 0   close   3817016 non-null  float64\n",
      " 1   high    3817016 non-null  float64\n",
      " 2   low     3817016 non-null  float64\n",
      " 3   open    3817016 non-null  float64\n",
      " 4   volume  3817016 non-null  float64\n",
      "dtypes: float64(5)\n",
      "memory usage: 160.4+ MB\n"
     ]
    }
   ],
   "source": [
    "prices.info(show_counts=True)"
   ]
  },
  {
   "cell_type": "code",
   "execution_count": 131,
   "metadata": {},
   "outputs": [
    {
     "data": {
      "text/plain": [
       "MultiIndex([('000020.KS', '2000-01-04'),\n",
       "            ('000020.KS', '2000-01-05'),\n",
       "            ('000020.KS', '2000-01-06'),\n",
       "            ('000020.KS', '2000-01-07'),\n",
       "            ('000020.KS', '2000-01-10'),\n",
       "            ('000020.KS', '2000-01-11'),\n",
       "            ('000020.KS', '2000-01-12'),\n",
       "            ('000020.KS', '2000-01-13'),\n",
       "            ('000020.KS', '2000-01-14'),\n",
       "            ('000020.KS', '2000-01-17'),\n",
       "            ...\n",
       "            ('950210.KS', '2023-04-21'),\n",
       "            ('950210.KS', '2023-04-24'),\n",
       "            ('950210.KS', '2023-04-25'),\n",
       "            ('950210.KS', '2023-04-26'),\n",
       "            ('950210.KS', '2023-04-27'),\n",
       "            ('950210.KS', '2023-04-28'),\n",
       "            ('950210.KS', '2023-05-02'),\n",
       "            ('950210.KS', '2023-05-03'),\n",
       "            ('950210.KS', '2023-05-04'),\n",
       "            ('950210.KS', '2023-05-08')],\n",
       "           names=['ticker', 'date'], length=3817016)"
      ]
     },
     "execution_count": 131,
     "metadata": {},
     "output_type": "execute_result"
    }
   ],
   "source": [
    "prices.index"
   ]
  },
  {
   "attachments": {},
   "cell_type": "markdown",
   "metadata": {},
   "source": [
    "### Metadata"
   ]
  },
  {
   "cell_type": "code",
   "execution_count": 132,
   "metadata": {
    "ExecuteTime": {
     "end_time": "2021-02-24T15:07:33.997645Z",
     "start_time": "2021-02-24T15:07:33.933520Z"
    }
   },
   "outputs": [],
   "source": [
    "metadata = pd.read_hdf(results_path / 'data.h5', 'stocks/info').rename(columns=str.lower)"
   ]
  },
  {
   "cell_type": "code",
   "execution_count": 133,
   "metadata": {
    "ExecuteTime": {
     "end_time": "2021-02-24T15:07:34.006833Z",
     "start_time": "2021-02-24T15:07:33.998994Z"
    }
   },
   "outputs": [
    {
     "name": "stdout",
     "output_type": "stream",
     "text": [
      "<class 'pandas.core.frame.DataFrame'>\n",
      "Index: 960 entries, 005930.KS to 000547.KS\n",
      "Columns: 117 entries, address1 to fulltimeemployees\n",
      "dtypes: float64(89), int64(1), object(27)\n",
      "memory usage: 885.0+ KB\n"
     ]
    }
   ],
   "source": [
    "metadata.info()"
   ]
  },
  {
   "cell_type": "code",
   "execution_count": 134,
   "metadata": {},
   "outputs": [
    {
     "data": {
      "text/html": [
       "<div>\n",
       "<style scoped>\n",
       "    .dataframe tbody tr th:only-of-type {\n",
       "        vertical-align: middle;\n",
       "    }\n",
       "\n",
       "    .dataframe tbody tr th {\n",
       "        vertical-align: top;\n",
       "    }\n",
       "\n",
       "    .dataframe thead th {\n",
       "        text-align: right;\n",
       "    }\n",
       "</style>\n",
       "<table border=\"1\" class=\"dataframe\">\n",
       "  <thead>\n",
       "    <tr style=\"text-align: right;\">\n",
       "      <th></th>\n",
       "      <th>address1</th>\n",
       "      <th>address2</th>\n",
       "      <th>city</th>\n",
       "      <th>zip</th>\n",
       "      <th>country</th>\n",
       "      <th>phone</th>\n",
       "      <th>fax</th>\n",
       "      <th>website</th>\n",
       "      <th>industry</th>\n",
       "      <th>industrydisp</th>\n",
       "      <th>...</th>\n",
       "      <th>operatingcashflow</th>\n",
       "      <th>earningsgrowth</th>\n",
       "      <th>revenuegrowth</th>\n",
       "      <th>grossmargins</th>\n",
       "      <th>ebitdamargins</th>\n",
       "      <th>operatingmargins</th>\n",
       "      <th>financialcurrency</th>\n",
       "      <th>trailingpegratio</th>\n",
       "      <th>openinterest</th>\n",
       "      <th>fulltimeemployees</th>\n",
       "    </tr>\n",
       "  </thead>\n",
       "  <tbody>\n",
       "    <tr>\n",
       "      <th>005930.KS</th>\n",
       "      <td>129 Samsung-Ro</td>\n",
       "      <td>Maetan-3dong Yeongtong-gu</td>\n",
       "      <td>Suwon-si</td>\n",
       "      <td>443-742</td>\n",
       "      <td>South Korea</td>\n",
       "      <td>82 2 2255 0114</td>\n",
       "      <td>82 3 1200 7538</td>\n",
       "      <td>https://www.samsung.com</td>\n",
       "      <td>Consumer Electronics</td>\n",
       "      <td>Consumer Electronics</td>\n",
       "      <td>...</td>\n",
       "      <td>5.802135e+13</td>\n",
       "      <td>-0.874</td>\n",
       "      <td>-0.180</td>\n",
       "      <td>0.34427</td>\n",
       "      <td>0.23870</td>\n",
       "      <td>0.10374</td>\n",
       "      <td>KRW</td>\n",
       "      <td>NaN</td>\n",
       "      <td>NaN</td>\n",
       "      <td>NaN</td>\n",
       "    </tr>\n",
       "    <tr>\n",
       "      <th>373220.KS</th>\n",
       "      <td>108, Yeoui-daero</td>\n",
       "      <td>Yeongdeungpo-Gu</td>\n",
       "      <td>Seoul</td>\n",
       "      <td>07335</td>\n",
       "      <td>South Korea</td>\n",
       "      <td>82 2 3777 1114</td>\n",
       "      <td>NaN</td>\n",
       "      <td>https://www.lgensol.com</td>\n",
       "      <td>Specialty Industrial Machinery</td>\n",
       "      <td>Specialty Industrial Machinery</td>\n",
       "      <td>...</td>\n",
       "      <td>-5.798070e+11</td>\n",
       "      <td>4.290</td>\n",
       "      <td>0.923</td>\n",
       "      <td>0.16761</td>\n",
       "      <td>0.11458</td>\n",
       "      <td>0.04741</td>\n",
       "      <td>KRW</td>\n",
       "      <td>NaN</td>\n",
       "      <td>NaN</td>\n",
       "      <td>NaN</td>\n",
       "    </tr>\n",
       "    <tr>\n",
       "      <th>000660.KS</th>\n",
       "      <td>2091 Gyeongchung-daero</td>\n",
       "      <td>Bubal-eup</td>\n",
       "      <td>Icheon-Si</td>\n",
       "      <td>NaN</td>\n",
       "      <td>South Korea</td>\n",
       "      <td>82 31 5185 4114</td>\n",
       "      <td>NaN</td>\n",
       "      <td>https://www.skhynix.com</td>\n",
       "      <td>Semiconductors</td>\n",
       "      <td>Semiconductors</td>\n",
       "      <td>...</td>\n",
       "      <td>1.478052e+13</td>\n",
       "      <td>NaN</td>\n",
       "      <td>-0.380</td>\n",
       "      <td>0.35023</td>\n",
       "      <td>0.45662</td>\n",
       "      <td>0.15260</td>\n",
       "      <td>KRW</td>\n",
       "      <td>NaN</td>\n",
       "      <td>NaN</td>\n",
       "      <td>NaN</td>\n",
       "    </tr>\n",
       "    <tr>\n",
       "      <th>207940.KS</th>\n",
       "      <td>300, Songdo Bio-daero</td>\n",
       "      <td>Yeonsu-gu</td>\n",
       "      <td>Incheon</td>\n",
       "      <td>21987</td>\n",
       "      <td>South Korea</td>\n",
       "      <td>82 3 2455 3114</td>\n",
       "      <td>NaN</td>\n",
       "      <td>https://samsungbiologics.com</td>\n",
       "      <td>Biotechnology</td>\n",
       "      <td>Biotechnology</td>\n",
       "      <td>...</td>\n",
       "      <td>9.530478e+11</td>\n",
       "      <td>3.334</td>\n",
       "      <td>1.173</td>\n",
       "      <td>0.48671</td>\n",
       "      <td>0.43044</td>\n",
       "      <td>0.32773</td>\n",
       "      <td>KRW</td>\n",
       "      <td>NaN</td>\n",
       "      <td>0.0</td>\n",
       "      <td>NaN</td>\n",
       "    </tr>\n",
       "    <tr>\n",
       "      <th>051910.KS</th>\n",
       "      <td>LG Twin Towers</td>\n",
       "      <td>128, Yeoui-daero Yeongdeungpo-gu</td>\n",
       "      <td>Seoul</td>\n",
       "      <td>NaN</td>\n",
       "      <td>South Korea</td>\n",
       "      <td>82 2 3773 1114</td>\n",
       "      <td>NaN</td>\n",
       "      <td>https://www.lgchem.com</td>\n",
       "      <td>Chemicals</td>\n",
       "      <td>Chemicals</td>\n",
       "      <td>...</td>\n",
       "      <td>5.698800e+11</td>\n",
       "      <td>-0.707</td>\n",
       "      <td>0.267</td>\n",
       "      <td>0.19255</td>\n",
       "      <td>0.12324</td>\n",
       "      <td>0.05776</td>\n",
       "      <td>KRW</td>\n",
       "      <td>NaN</td>\n",
       "      <td>NaN</td>\n",
       "      <td>NaN</td>\n",
       "    </tr>\n",
       "    <tr>\n",
       "      <th>...</th>\n",
       "      <td>...</td>\n",
       "      <td>...</td>\n",
       "      <td>...</td>\n",
       "      <td>...</td>\n",
       "      <td>...</td>\n",
       "      <td>...</td>\n",
       "      <td>...</td>\n",
       "      <td>...</td>\n",
       "      <td>...</td>\n",
       "      <td>...</td>\n",
       "      <td>...</td>\n",
       "      <td>...</td>\n",
       "      <td>...</td>\n",
       "      <td>...</td>\n",
       "      <td>...</td>\n",
       "      <td>...</td>\n",
       "      <td>...</td>\n",
       "      <td>...</td>\n",
       "      <td>...</td>\n",
       "      <td>...</td>\n",
       "      <td>...</td>\n",
       "    </tr>\n",
       "    <tr>\n",
       "      <th>000545.KS</th>\n",
       "      <td>68 Saemunan-ro</td>\n",
       "      <td>Jongno-gu</td>\n",
       "      <td>Seoul</td>\n",
       "      <td>03184</td>\n",
       "      <td>South Korea</td>\n",
       "      <td>82 2 6260 7995</td>\n",
       "      <td>NaN</td>\n",
       "      <td>https://www.heungkukfire.co.kr</td>\n",
       "      <td>Insurance—Property &amp; Casualty</td>\n",
       "      <td>NaN</td>\n",
       "      <td>...</td>\n",
       "      <td>9.945840e+11</td>\n",
       "      <td>3.632</td>\n",
       "      <td>0.120</td>\n",
       "      <td>0.18593</td>\n",
       "      <td>0.09007</td>\n",
       "      <td>0.08493</td>\n",
       "      <td>KRW</td>\n",
       "      <td>NaN</td>\n",
       "      <td>NaN</td>\n",
       "      <td>NaN</td>\n",
       "    </tr>\n",
       "    <tr>\n",
       "      <th>001527.KS</th>\n",
       "      <td>Samsung Life Yeouido Building</td>\n",
       "      <td>3-4th Floor 24 Gukjegeumyungro 2-gil Yeongdeun...</td>\n",
       "      <td>Seoul</td>\n",
       "      <td>NaN</td>\n",
       "      <td>South Korea</td>\n",
       "      <td>82 2 6150 7000</td>\n",
       "      <td>82 2 6150 7109</td>\n",
       "      <td>https://www.tongyanginc.co.kr</td>\n",
       "      <td>Building Materials</td>\n",
       "      <td>Building Materials</td>\n",
       "      <td>...</td>\n",
       "      <td>-2.714819e+10</td>\n",
       "      <td>NaN</td>\n",
       "      <td>NaN</td>\n",
       "      <td>0.10610</td>\n",
       "      <td>0.02875</td>\n",
       "      <td>0.01032</td>\n",
       "      <td>KRW</td>\n",
       "      <td>NaN</td>\n",
       "      <td>NaN</td>\n",
       "      <td>NaN</td>\n",
       "    </tr>\n",
       "    <tr>\n",
       "      <th>001525.KS</th>\n",
       "      <td>Samsung Life Yeouido Building</td>\n",
       "      <td>3-4th Floor 24 Gukjegeumyungro 2-gil Yeongdeun...</td>\n",
       "      <td>Seoul</td>\n",
       "      <td>NaN</td>\n",
       "      <td>South Korea</td>\n",
       "      <td>82 2 6150 7000</td>\n",
       "      <td>82 2 6150 7109</td>\n",
       "      <td>https://www.tongyanginc.co.kr</td>\n",
       "      <td>Building Materials</td>\n",
       "      <td>Building Materials</td>\n",
       "      <td>...</td>\n",
       "      <td>-2.714819e+10</td>\n",
       "      <td>NaN</td>\n",
       "      <td>NaN</td>\n",
       "      <td>0.10610</td>\n",
       "      <td>0.02875</td>\n",
       "      <td>0.01032</td>\n",
       "      <td>KRW</td>\n",
       "      <td>NaN</td>\n",
       "      <td>NaN</td>\n",
       "      <td>NaN</td>\n",
       "    </tr>\n",
       "    <tr>\n",
       "      <th>002787.KS</th>\n",
       "      <td>69, Convensia-daero</td>\n",
       "      <td>Yeonsu-gu</td>\n",
       "      <td>Incheon</td>\n",
       "      <td>NaN</td>\n",
       "      <td>South Korea</td>\n",
       "      <td>82 2 772 1200</td>\n",
       "      <td>82 2 776 9678</td>\n",
       "      <td>https://www.chinhung.co.kr</td>\n",
       "      <td>Engineering &amp; Construction</td>\n",
       "      <td>Engineering &amp; Construction</td>\n",
       "      <td>...</td>\n",
       "      <td>2.054867e+10</td>\n",
       "      <td>0.478</td>\n",
       "      <td>0.359</td>\n",
       "      <td>0.09571</td>\n",
       "      <td>0.06813</td>\n",
       "      <td>0.06748</td>\n",
       "      <td>KRW</td>\n",
       "      <td>NaN</td>\n",
       "      <td>NaN</td>\n",
       "      <td>NaN</td>\n",
       "    </tr>\n",
       "    <tr>\n",
       "      <th>000547.KS</th>\n",
       "      <td>68 Saemunan-ro</td>\n",
       "      <td>Jongno-gu</td>\n",
       "      <td>Seoul</td>\n",
       "      <td>03184</td>\n",
       "      <td>South Korea</td>\n",
       "      <td>82 2 6260 7995</td>\n",
       "      <td>NaN</td>\n",
       "      <td>https://www.heungkukfire.co.kr</td>\n",
       "      <td>Insurance—Property &amp; Casualty</td>\n",
       "      <td>NaN</td>\n",
       "      <td>...</td>\n",
       "      <td>9.945840e+11</td>\n",
       "      <td>3.632</td>\n",
       "      <td>0.120</td>\n",
       "      <td>0.18593</td>\n",
       "      <td>0.09007</td>\n",
       "      <td>0.08493</td>\n",
       "      <td>KRW</td>\n",
       "      <td>NaN</td>\n",
       "      <td>NaN</td>\n",
       "      <td>NaN</td>\n",
       "    </tr>\n",
       "  </tbody>\n",
       "</table>\n",
       "<p>960 rows × 117 columns</p>\n",
       "</div>"
      ],
      "text/plain": [
       "                                address1  \\\n",
       "005930.KS                 129 Samsung-Ro   \n",
       "373220.KS               108, Yeoui-daero   \n",
       "000660.KS         2091 Gyeongchung-daero   \n",
       "207940.KS          300, Songdo Bio-daero   \n",
       "051910.KS                 LG Twin Towers   \n",
       "...                                  ...   \n",
       "000545.KS                 68 Saemunan-ro   \n",
       "001527.KS  Samsung Life Yeouido Building   \n",
       "001525.KS  Samsung Life Yeouido Building   \n",
       "002787.KS            69, Convensia-daero   \n",
       "000547.KS                 68 Saemunan-ro   \n",
       "\n",
       "                                                    address2       city  \\\n",
       "005930.KS                          Maetan-3dong Yeongtong-gu   Suwon-si   \n",
       "373220.KS                                    Yeongdeungpo-Gu      Seoul   \n",
       "000660.KS                                          Bubal-eup  Icheon-Si   \n",
       "207940.KS                                          Yeonsu-gu    Incheon   \n",
       "051910.KS                   128, Yeoui-daero Yeongdeungpo-gu      Seoul   \n",
       "...                                                      ...        ...   \n",
       "000545.KS                                          Jongno-gu      Seoul   \n",
       "001527.KS  3-4th Floor 24 Gukjegeumyungro 2-gil Yeongdeun...      Seoul   \n",
       "001525.KS  3-4th Floor 24 Gukjegeumyungro 2-gil Yeongdeun...      Seoul   \n",
       "002787.KS                                          Yeonsu-gu    Incheon   \n",
       "000547.KS                                          Jongno-gu      Seoul   \n",
       "\n",
       "               zip      country            phone             fax  \\\n",
       "005930.KS  443-742  South Korea   82 2 2255 0114  82 3 1200 7538   \n",
       "373220.KS    07335  South Korea   82 2 3777 1114             NaN   \n",
       "000660.KS      NaN  South Korea  82 31 5185 4114             NaN   \n",
       "207940.KS    21987  South Korea   82 3 2455 3114             NaN   \n",
       "051910.KS      NaN  South Korea   82 2 3773 1114             NaN   \n",
       "...            ...          ...              ...             ...   \n",
       "000545.KS    03184  South Korea   82 2 6260 7995             NaN   \n",
       "001527.KS      NaN  South Korea   82 2 6150 7000  82 2 6150 7109   \n",
       "001525.KS      NaN  South Korea   82 2 6150 7000  82 2 6150 7109   \n",
       "002787.KS      NaN  South Korea    82 2 772 1200   82 2 776 9678   \n",
       "000547.KS    03184  South Korea   82 2 6260 7995             NaN   \n",
       "\n",
       "                                  website                        industry  \\\n",
       "005930.KS         https://www.samsung.com            Consumer Electronics   \n",
       "373220.KS         https://www.lgensol.com  Specialty Industrial Machinery   \n",
       "000660.KS         https://www.skhynix.com                  Semiconductors   \n",
       "207940.KS    https://samsungbiologics.com                   Biotechnology   \n",
       "051910.KS          https://www.lgchem.com                       Chemicals   \n",
       "...                                   ...                             ...   \n",
       "000545.KS  https://www.heungkukfire.co.kr   Insurance—Property & Casualty   \n",
       "001527.KS   https://www.tongyanginc.co.kr              Building Materials   \n",
       "001525.KS   https://www.tongyanginc.co.kr              Building Materials   \n",
       "002787.KS      https://www.chinhung.co.kr      Engineering & Construction   \n",
       "000547.KS  https://www.heungkukfire.co.kr   Insurance—Property & Casualty   \n",
       "\n",
       "                             industrydisp  ... operatingcashflow  \\\n",
       "005930.KS            Consumer Electronics  ...      5.802135e+13   \n",
       "373220.KS  Specialty Industrial Machinery  ...     -5.798070e+11   \n",
       "000660.KS                  Semiconductors  ...      1.478052e+13   \n",
       "207940.KS                   Biotechnology  ...      9.530478e+11   \n",
       "051910.KS                       Chemicals  ...      5.698800e+11   \n",
       "...                                   ...  ...               ...   \n",
       "000545.KS                             NaN  ...      9.945840e+11   \n",
       "001527.KS              Building Materials  ...     -2.714819e+10   \n",
       "001525.KS              Building Materials  ...     -2.714819e+10   \n",
       "002787.KS      Engineering & Construction  ...      2.054867e+10   \n",
       "000547.KS                             NaN  ...      9.945840e+11   \n",
       "\n",
       "          earningsgrowth revenuegrowth  grossmargins  ebitdamargins  \\\n",
       "005930.KS         -0.874        -0.180       0.34427        0.23870   \n",
       "373220.KS          4.290         0.923       0.16761        0.11458   \n",
       "000660.KS            NaN        -0.380       0.35023        0.45662   \n",
       "207940.KS          3.334         1.173       0.48671        0.43044   \n",
       "051910.KS         -0.707         0.267       0.19255        0.12324   \n",
       "...                  ...           ...           ...            ...   \n",
       "000545.KS          3.632         0.120       0.18593        0.09007   \n",
       "001527.KS            NaN           NaN       0.10610        0.02875   \n",
       "001525.KS            NaN           NaN       0.10610        0.02875   \n",
       "002787.KS          0.478         0.359       0.09571        0.06813   \n",
       "000547.KS          3.632         0.120       0.18593        0.09007   \n",
       "\n",
       "           operatingmargins  financialcurrency  trailingpegratio  \\\n",
       "005930.KS           0.10374                KRW               NaN   \n",
       "373220.KS           0.04741                KRW               NaN   \n",
       "000660.KS           0.15260                KRW               NaN   \n",
       "207940.KS           0.32773                KRW               NaN   \n",
       "051910.KS           0.05776                KRW               NaN   \n",
       "...                     ...                ...               ...   \n",
       "000545.KS           0.08493                KRW               NaN   \n",
       "001527.KS           0.01032                KRW               NaN   \n",
       "001525.KS           0.01032                KRW               NaN   \n",
       "002787.KS           0.06748                KRW               NaN   \n",
       "000547.KS           0.08493                KRW               NaN   \n",
       "\n",
       "           openinterest  fulltimeemployees  \n",
       "005930.KS           NaN                NaN  \n",
       "373220.KS           NaN                NaN  \n",
       "000660.KS           NaN                NaN  \n",
       "207940.KS           0.0                NaN  \n",
       "051910.KS           NaN                NaN  \n",
       "...                 ...                ...  \n",
       "000545.KS           NaN                NaN  \n",
       "001527.KS           NaN                NaN  \n",
       "001525.KS           NaN                NaN  \n",
       "002787.KS           NaN                NaN  \n",
       "000547.KS           NaN                NaN  \n",
       "\n",
       "[960 rows x 117 columns]"
      ]
     },
     "execution_count": 134,
     "metadata": {},
     "output_type": "execute_result"
    }
   ],
   "source": [
    "metadata"
   ]
  },
  {
   "attachments": {},
   "cell_type": "markdown",
   "metadata": {},
   "source": [
    "### Select tickers with metadata"
   ]
  },
  {
   "cell_type": "code",
   "execution_count": 135,
   "metadata": {
    "ExecuteTime": {
     "end_time": "2021-02-24T15:07:34.019711Z",
     "start_time": "2021-02-24T15:07:34.007871Z"
    }
   },
   "outputs": [],
   "source": [
    "sectors = (metadata.sector.value_counts() > 50).index"
   ]
  },
  {
   "cell_type": "code",
   "execution_count": 136,
   "metadata": {},
   "outputs": [
    {
     "data": {
      "text/plain": [
       "Index(['Industrials', 'Consumer Cyclical', 'Basic Materials', 'Technology',\n",
       "       'Consumer Defensive', 'Healthcare', 'Financial Services',\n",
       "       'Communication Services', 'Real Estate', 'Utilities', 'Energy'],\n",
       "      dtype='object')"
      ]
     },
     "execution_count": 136,
     "metadata": {},
     "output_type": "execute_result"
    }
   ],
   "source": [
    "sectors"
   ]
  },
  {
   "cell_type": "code",
   "execution_count": 137,
   "metadata": {
    "ExecuteTime": {
     "end_time": "2021-02-24T15:07:34.028440Z",
     "start_time": "2021-02-24T15:07:34.020656Z"
    }
   },
   "outputs": [],
   "source": [
    "tickers_with_errors = []"
   ]
  },
  {
   "cell_type": "code",
   "execution_count": 138,
   "metadata": {
    "ExecuteTime": {
     "end_time": "2021-02-24T15:07:34.042811Z",
     "start_time": "2021-02-24T15:07:34.029471Z"
    }
   },
   "outputs": [],
   "source": [
    "tickers_with_metadata = metadata[metadata.sector.isin(sectors) & \n",
    "                                 metadata.marketcap.notnull() &\n",
    "                                 metadata.sharesoutstanding.notnull() & \n",
    "                                (metadata.sharesoutstanding > 0)].index.drop(tickers_with_errors)"
   ]
  },
  {
   "cell_type": "code",
   "execution_count": 139,
   "metadata": {},
   "outputs": [
    {
     "data": {
      "text/plain": [
       "Index(['005930.KS', '373220.KS', '000660.KS', '207940.KS', '051910.KS',\n",
       "       '006400.KS', '005935.KS', '005380.KS', '000270.KS', '035420.KS',\n",
       "       ...\n",
       "       '011155.KS', '004415.KS', '014915.KS', '000227.KS', '002785.KS',\n",
       "       '000545.KS', '001527.KS', '001525.KS', '002787.KS', '000547.KS'],\n",
       "      dtype='object', length=926)"
      ]
     },
     "execution_count": 139,
     "metadata": {},
     "output_type": "execute_result"
    }
   ],
   "source": [
    "tickers_with_metadata"
   ]
  },
  {
   "cell_type": "code",
   "execution_count": 140,
   "metadata": {
    "ExecuteTime": {
     "end_time": "2021-02-24T15:07:34.056060Z",
     "start_time": "2021-02-24T15:07:34.044017Z"
    }
   },
   "outputs": [],
   "source": [
    "metadata = metadata.loc[tickers_with_metadata, ['sector', 'sharesoutstanding', 'marketcap']]\n",
    "metadata.index.name = 'ticker'"
   ]
  },
  {
   "cell_type": "code",
   "execution_count": 142,
   "metadata": {
    "ExecuteTime": {
     "end_time": "2021-02-24T15:30:43.035689Z",
     "start_time": "2021-02-24T15:07:34.057118Z"
    }
   },
   "outputs": [
    {
     "name": "stderr",
     "output_type": "stream",
     "text": [
      "C:\\Users\\chldl\\AppData\\Local\\Temp\\ipykernel_953484\\626631212.py:1: FutureWarning: The behavior of indexing on a MultiIndex with a nested sequence of labels is deprecated and will change in a future version. `series.loc[label, sequence]` will raise if any members of 'sequence' or not present in the index's second level. To retain the old behavior, use `series.index.isin(sequence, level=1)`\n",
      "  prices = prices.loc[idx[tickers_with_metadata, :], :]\n"
     ]
    }
   ],
   "source": [
    "prices = prices.loc[idx[tickers_with_metadata, :], :]"
   ]
  },
  {
   "cell_type": "code",
   "execution_count": 143,
   "metadata": {
    "ExecuteTime": {
     "end_time": "2021-02-24T15:30:43.353647Z",
     "start_time": "2021-02-24T15:30:43.036510Z"
    }
   },
   "outputs": [
    {
     "name": "stdout",
     "output_type": "stream",
     "text": [
      "<class 'pandas.core.frame.DataFrame'>\n",
      "MultiIndex: 3768223 entries, ('005930.KS', Timestamp('2000-01-04 00:00:00')) to ('000547.KS', Timestamp('2023-05-08 00:00:00'))\n",
      "Data columns (total 5 columns):\n",
      " #   Column  Non-Null Count    Dtype  \n",
      "---  ------  --------------    -----  \n",
      " 0   close   3768223 non-null  float64\n",
      " 1   high    3768223 non-null  float64\n",
      " 2   low     3768223 non-null  float64\n",
      " 3   open    3768223 non-null  float64\n",
      " 4   volume  3768223 non-null  float64\n",
      "dtypes: float64(5)\n",
      "memory usage: 158.3+ MB\n"
     ]
    }
   ],
   "source": [
    "prices.info(show_counts=True)"
   ]
  },
  {
   "cell_type": "code",
   "execution_count": 145,
   "metadata": {
    "ExecuteTime": {
     "end_time": "2021-02-24T15:30:43.361769Z",
     "start_time": "2021-02-24T15:30:43.354651Z"
    }
   },
   "outputs": [
    {
     "name": "stdout",
     "output_type": "stream",
     "text": [
      "<class 'pandas.core.frame.DataFrame'>\n",
      "Index: 926 entries, 005930.KS to 000547.KS\n",
      "Data columns (total 3 columns):\n",
      " #   Column             Non-Null Count  Dtype  \n",
      "---  ------             --------------  -----  \n",
      " 0   sector             926 non-null    object \n",
      " 1   sharesoutstanding  926 non-null    float64\n",
      " 2   marketcap          926 non-null    float64\n",
      "dtypes: float64(2), object(1)\n",
      "memory usage: 28.9+ KB\n"
     ]
    }
   ],
   "source": [
    "metadata.info()"
   ]
  },
  {
   "cell_type": "code",
   "execution_count": 146,
   "metadata": {
    "ExecuteTime": {
     "end_time": "2021-02-24T15:30:49.145765Z",
     "start_time": "2021-02-24T15:30:43.362775Z"
    }
   },
   "outputs": [
    {
     "name": "stdout",
     "output_type": "stream",
     "text": [
      "<class 'pandas.core.frame.DataFrame'>\n",
      "DatetimeIndex: 5858 entries, 2000-01-04 to 2023-05-08\n",
      "Columns: 858 entries, 005930.KS to 000547.KS\n",
      "dtypes: float64(858)\n",
      "memory usage: 38.4 MB\n"
     ]
    }
   ],
   "source": [
    "close = prices.close.unstack('ticker').sort_index()\n",
    "close.info()"
   ]
  },
  {
   "cell_type": "code",
   "execution_count": 147,
   "metadata": {
    "ExecuteTime": {
     "end_time": "2021-02-24T15:30:55.056033Z",
     "start_time": "2021-02-24T15:30:49.146672Z"
    }
   },
   "outputs": [
    {
     "name": "stdout",
     "output_type": "stream",
     "text": [
      "<class 'pandas.core.frame.DataFrame'>\n",
      "DatetimeIndex: 5858 entries, 2000-01-04 to 2023-05-08\n",
      "Columns: 858 entries, 005930.KS to 000547.KS\n",
      "dtypes: float64(858)\n",
      "memory usage: 38.4 MB\n"
     ]
    }
   ],
   "source": [
    "volume = prices.volume.unstack('ticker').sort_index()\n",
    "volume.info()"
   ]
  },
  {
   "attachments": {},
   "cell_type": "markdown",
   "metadata": {},
   "source": [
    "### Create weekly returns"
   ]
  },
  {
   "cell_type": "code",
   "execution_count": 148,
   "metadata": {
    "ExecuteTime": {
     "end_time": "2021-02-24T15:31:01.377951Z",
     "start_time": "2021-02-24T15:30:55.057292Z"
    }
   },
   "outputs": [
    {
     "name": "stdout",
     "output_type": "stream",
     "text": [
      "<class 'pandas.core.frame.DataFrame'>\n",
      "DatetimeIndex: 1218 entries, 2000-01-14 to 2023-05-12\n",
      "Freq: W-FRI\n",
      "Columns: 858 entries, 005930.KS to 000547.KS\n",
      "dtypes: float64(858)\n",
      "memory usage: 8.0 MB\n"
     ]
    }
   ],
   "source": [
    "returns = (prices.close\n",
    "           .unstack('ticker')\n",
    "           .resample('W-FRI').last()\n",
    "           .sort_index().pct_change().iloc[1:])\n",
    "returns.info()"
   ]
  },
  {
   "cell_type": "code",
   "execution_count": 149,
   "metadata": {
    "ExecuteTime": {
     "end_time": "2021-02-24T15:31:01.380485Z",
     "start_time": "2021-02-24T15:31:01.378804Z"
    }
   },
   "outputs": [],
   "source": [
    "dates = returns.index"
   ]
  },
  {
   "cell_type": "code",
   "execution_count": 152,
   "metadata": {
    "ExecuteTime": {
     "end_time": "2021-02-24T15:31:01.581772Z",
     "start_time": "2021-02-24T15:31:01.381581Z"
    }
   },
   "outputs": [
    {
     "data": {
      "image/png": "[encoded data removed]",
      "text/plain": [
       "<Figure size 500x500 with 1 Axes>"
      ]
     },
     "metadata": {},
     "output_type": "display_data"
    }
   ],
   "source": [
    "sns.displot(returns.count(1), kde=False, binwidth=15);"
   ]
  },
  {
   "cell_type": "code",
   "execution_count": 153,
   "metadata": {
    "ExecuteTime": {
     "end_time": "2021-02-24T15:31:01.874242Z",
     "start_time": "2021-02-24T15:31:01.582715Z"
    }
   },
   "outputs": [],
   "source": [
    "with pd.HDFStore(results_path / 'autoencoder.h5') as store:\n",
    "    store.put('close', close)\n",
    "    store.put('volume', volume)\n",
    "    store.put('returns', returns)\n",
    "    store.put('metadata', metadata)"
   ]
  },
  {
   "attachments": {},
   "cell_type": "markdown",
   "metadata": {},
   "source": [
    "## Factor Engineering"
   ]
  },
  {
   "cell_type": "code",
   "execution_count": 154,
   "metadata": {
    "ExecuteTime": {
     "end_time": "2021-02-24T15:31:01.876666Z",
     "start_time": "2021-02-24T15:31:01.875143Z"
    }
   },
   "outputs": [],
   "source": [
    "MONTH = 21"
   ]
  },
  {
   "attachments": {},
   "cell_type": "markdown",
   "metadata": {},
   "source": [
    "### Price Trend"
   ]
  },
  {
   "attachments": {},
   "cell_type": "markdown",
   "metadata": {},
   "source": [
    "#### Short-Term Reversal"
   ]
  },
  {
   "attachments": {},
   "cell_type": "markdown",
   "metadata": {},
   "source": [
    "1-month cumulative return"
   ]
  },
  {
   "cell_type": "code",
   "execution_count": 155,
   "metadata": {
    "ExecuteTime": {
     "end_time": "2021-02-24T15:31:01.885711Z",
     "start_time": "2021-02-24T15:31:01.878828Z"
    }
   },
   "outputs": [
    {
     "data": {
      "text/plain": [
       "DatetimeIndex(['2000-01-14', '2000-01-21', '2000-01-28', '2000-02-04',\n",
       "               '2000-02-11'],\n",
       "              dtype='datetime64[ns]', name='date', freq='W-FRI')"
      ]
     },
     "execution_count": 155,
     "metadata": {},
     "output_type": "execute_result"
    }
   ],
   "source": [
    "dates[:5]"
   ]
  },
  {
   "cell_type": "code",
   "execution_count": 156,
   "metadata": {
    "ExecuteTime": {
     "end_time": "2021-02-24T15:31:02.511175Z",
     "start_time": "2021-02-24T15:31:01.887161Z"
    }
   },
   "outputs": [
    {
     "name": "stdout",
     "output_type": "stream",
     "text": [
      "<class 'pandas.core.frame.DataFrame'>\n",
      "MultiIndex: 784469 entries, (Timestamp('2000-02-04 00:00:00', freq='W-FRI'), '005930.KS') to (Timestamp('2023-05-12 00:00:00', freq='W-FRI'), '000547.KS')\n",
      "Data columns (total 1 columns):\n",
      " #   Column  Non-Null Count   Dtype  \n",
      "---  ------  --------------   -----  \n",
      " 0   mom1m   784469 non-null  float64\n",
      "dtypes: float64(1)\n",
      "memory usage: 9.1+ MB\n"
     ]
    }
   ],
   "source": [
    "mom1m = close.pct_change(periods=MONTH).resample('W-FRI').last().stack().to_frame('mom1m')\n",
    "mom1m.info()"
   ]
  },
  {
   "cell_type": "code",
   "execution_count": 157,
   "metadata": {
    "ExecuteTime": {
     "end_time": "2021-02-24T15:31:02.540510Z",
     "start_time": "2021-02-24T15:31:02.512142Z"
    }
   },
   "outputs": [],
   "source": [
    "mom1m.squeeze().to_hdf(results_path / 'autoencoder.h5', 'factor/mom1m')"
   ]
  },
  {
   "attachments": {},
   "cell_type": "markdown",
   "metadata": {},
   "source": [
    "#### Stock Momentum"
   ]
  },
  {
   "attachments": {},
   "cell_type": "markdown",
   "metadata": {},
   "source": [
    "11-month cumulative returns ending 1-month before month end"
   ]
  },
  {
   "cell_type": "code",
   "execution_count": 158,
   "metadata": {
    "ExecuteTime": {
     "end_time": "2021-02-24T15:31:03.146297Z",
     "start_time": "2021-02-24T15:31:02.541311Z"
    }
   },
   "outputs": [],
   "source": [
    "mom12m = (close\n",
    "            .pct_change(periods=11 * MONTH)\n",
    "            .shift(MONTH)\n",
    "            .resample('W-FRI')\n",
    "            .last()\n",
    "            .stack()\n",
    "            .to_frame('mom12m'))"
   ]
  },
  {
   "cell_type": "code",
   "execution_count": 159,
   "metadata": {
    "ExecuteTime": {
     "end_time": "2021-02-24T15:31:03.196560Z",
     "start_time": "2021-02-24T15:31:03.147146Z"
    }
   },
   "outputs": [
    {
     "name": "stdout",
     "output_type": "stream",
     "text": [
      "<class 'pandas.core.frame.DataFrame'>\n",
      "MultiIndex: 744340 entries, (Timestamp('2000-12-22 00:00:00', freq='W-FRI'), '005930.KS') to (Timestamp('2023-05-12 00:00:00', freq='W-FRI'), '000547.KS')\n",
      "Data columns (total 1 columns):\n",
      " #   Column  Non-Null Count   Dtype  \n",
      "---  ------  --------------   -----  \n",
      " 0   mom12m  744340 non-null  float64\n",
      "dtypes: float64(1)\n",
      "memory usage: 8.6+ MB\n"
     ]
    },
    {
     "name": "stderr",
     "output_type": "stream",
     "text": [
      "C:\\Users\\chldl\\AppData\\Local\\Temp\\ipykernel_953484\\734250054.py:1: FutureWarning: null_counts is deprecated. Use show_counts instead\n",
      "  mom12m.info(null_counts=True)\n"
     ]
    }
   ],
   "source": [
    "mom12m.info(null_counts=True)"
   ]
  },
  {
   "cell_type": "code",
   "execution_count": 160,
   "metadata": {
    "ExecuteTime": {
     "end_time": "2021-02-24T15:31:03.225828Z",
     "start_time": "2021-02-24T15:31:03.197502Z"
    }
   },
   "outputs": [],
   "source": [
    "mom12m.to_hdf(results_path / 'autoencoder.h5', 'factor/mom12m')"
   ]
  },
  {
   "attachments": {},
   "cell_type": "markdown",
   "metadata": {},
   "source": [
    "#### Momentum Change"
   ]
  },
  {
   "attachments": {},
   "cell_type": "markdown",
   "metadata": {},
   "source": [
    "Cumulative return from months t-6 to t-1 minus months t-12 to t-7."
   ]
  },
  {
   "cell_type": "code",
   "execution_count": 161,
   "metadata": {
    "ExecuteTime": {
     "end_time": "2021-02-24T15:31:04.175407Z",
     "start_time": "2021-02-24T15:31:03.226841Z"
    }
   },
   "outputs": [],
   "source": [
    "chmom = (close\n",
    "         .pct_change(periods=6 * MONTH)\n",
    "         .sub(close.pct_change(periods=6 * MONTH).shift(6 * MONTH))\n",
    "         .resample('W-FRI')\n",
    "         .last()\n",
    "         .stack()\n",
    "         .to_frame('chmom'))"
   ]
  },
  {
   "cell_type": "code",
   "execution_count": 162,
   "metadata": {
    "ExecuteTime": {
     "end_time": "2021-02-24T15:31:04.224124Z",
     "start_time": "2021-02-24T15:31:04.176245Z"
    }
   },
   "outputs": [
    {
     "name": "stdout",
     "output_type": "stream",
     "text": [
      "<class 'pandas.core.frame.DataFrame'>\n",
      "MultiIndex: 744340 entries, (Timestamp('2000-12-22 00:00:00', freq='W-FRI'), '005930.KS') to (Timestamp('2023-05-12 00:00:00', freq='W-FRI'), '000547.KS')\n",
      "Data columns (total 1 columns):\n",
      " #   Column  Non-Null Count   Dtype  \n",
      "---  ------  --------------   -----  \n",
      " 0   chmom   744340 non-null  float64\n",
      "dtypes: float64(1)\n",
      "memory usage: 8.6+ MB\n"
     ]
    },
    {
     "name": "stderr",
     "output_type": "stream",
     "text": [
      "C:\\Users\\chldl\\AppData\\Local\\Temp\\ipykernel_953484\\480465195.py:1: FutureWarning: null_counts is deprecated. Use show_counts instead\n",
      "  chmom.info(null_counts=True)\n"
     ]
    }
   ],
   "source": [
    "chmom.info(null_counts=True)"
   ]
  },
  {
   "cell_type": "code",
   "execution_count": 163,
   "metadata": {
    "ExecuteTime": {
     "end_time": "2021-02-24T15:31:04.253178Z",
     "start_time": "2021-02-24T15:31:04.225020Z"
    }
   },
   "outputs": [],
   "source": [
    "chmom.to_hdf(results_path / 'autoencoder.h5', 'factor/chmom')"
   ]
  },
  {
   "attachments": {},
   "cell_type": "markdown",
   "metadata": {},
   "source": [
    "#### Industry Momentum"
   ]
  },
  {
   "attachments": {},
   "cell_type": "markdown",
   "metadata": {},
   "source": [
    "Equal-weighted avg. industry 12-month returns"
   ]
  },
  {
   "cell_type": "code",
   "execution_count": 164,
   "metadata": {
    "ExecuteTime": {
     "end_time": "2021-02-24T15:31:05.205923Z",
     "start_time": "2021-02-24T15:31:04.254036Z"
    }
   },
   "outputs": [],
   "source": [
    "indmom = (close.pct_change(12*MONTH)\n",
    "          .resample('W-FRI')\n",
    "          .last()\n",
    "          .stack()\n",
    "          .to_frame('close')\n",
    "          .join(metadata[['sector']]).groupby(['date', 'sector'])\n",
    "          .close.mean()\n",
    "          .to_frame('indmom')\n",
    "          .reset_index())"
   ]
  },
  {
   "cell_type": "code",
   "execution_count": 165,
   "metadata": {
    "ExecuteTime": {
     "end_time": "2021-02-24T15:31:05.214051Z",
     "start_time": "2021-02-24T15:31:05.206759Z"
    }
   },
   "outputs": [
    {
     "name": "stdout",
     "output_type": "stream",
     "text": [
      "<class 'pandas.core.frame.DataFrame'>\n",
      "RangeIndex: 12848 entries, 0 to 12847\n",
      "Data columns (total 3 columns):\n",
      " #   Column  Non-Null Count  Dtype         \n",
      "---  ------  --------------  -----         \n",
      " 0   date    12848 non-null  datetime64[ns]\n",
      " 1   sector  12848 non-null  object        \n",
      " 2   indmom  12848 non-null  float64       \n",
      "dtypes: datetime64[ns](1), float64(1), object(1)\n",
      "memory usage: 301.2+ KB\n"
     ]
    },
    {
     "name": "stderr",
     "output_type": "stream",
     "text": [
      "C:\\Users\\chldl\\AppData\\Local\\Temp\\ipykernel_953484\\949876339.py:1: FutureWarning: null_counts is deprecated. Use show_counts instead\n",
      "  indmom.info(null_counts=True)\n"
     ]
    }
   ],
   "source": [
    "indmom.info(null_counts=True)"
   ]
  },
  {
   "cell_type": "code",
   "execution_count": 166,
   "metadata": {
    "ExecuteTime": {
     "end_time": "2021-02-24T15:31:06.153300Z",
     "start_time": "2021-02-24T15:31:05.215068Z"
    }
   },
   "outputs": [],
   "source": [
    "indmom = (returns\n",
    "          .stack()\n",
    "          .to_frame('ret')\n",
    "          .join(metadata[['sector']])\n",
    "          .reset_index()\n",
    "          .merge(indmom)\n",
    "          .set_index(['date', 'ticker'])\n",
    "          .loc[:, ['indmom']])"
   ]
  },
  {
   "cell_type": "code",
   "execution_count": 167,
   "metadata": {
    "ExecuteTime": {
     "end_time": "2021-02-24T15:31:06.164686Z",
     "start_time": "2021-02-24T15:31:06.154163Z"
    }
   },
   "outputs": [
    {
     "name": "stdout",
     "output_type": "stream",
     "text": [
      "<class 'pandas.core.frame.DataFrame'>\n",
      "MultiIndex: 767616 entries, (Timestamp('2000-12-22 00:00:00'), '005930.KS') to (Timestamp('2023-05-12 00:00:00'), '140910.KS')\n",
      "Data columns (total 1 columns):\n",
      " #   Column  Non-Null Count   Dtype  \n",
      "---  ------  --------------   -----  \n",
      " 0   indmom  767616 non-null  float64\n",
      "dtypes: float64(1)\n",
      "memory usage: 8.9+ MB\n"
     ]
    },
    {
     "name": "stderr",
     "output_type": "stream",
     "text": [
      "C:\\Users\\chldl\\AppData\\Local\\Temp\\ipykernel_953484\\949876339.py:1: FutureWarning: null_counts is deprecated. Use show_counts instead\n",
      "  indmom.info(null_counts=True)\n"
     ]
    }
   ],
   "source": [
    "indmom.info(null_counts=True)"
   ]
  },
  {
   "cell_type": "code",
   "execution_count": 168,
   "metadata": {
    "ExecuteTime": {
     "end_time": "2021-02-24T15:31:06.193427Z",
     "start_time": "2021-02-24T15:31:06.165684Z"
    }
   },
   "outputs": [],
   "source": [
    "indmom.to_hdf(results_path / 'autoencoder.h5', 'factor/indmom')"
   ]
  },
  {
   "attachments": {},
   "cell_type": "markdown",
   "metadata": {},
   "source": [
    "#### Recent Max Return"
   ]
  },
  {
   "attachments": {},
   "cell_type": "markdown",
   "metadata": {},
   "source": [
    "Max daily returns from calendar month t-1"
   ]
  },
  {
   "cell_type": "code",
   "execution_count": 169,
   "metadata": {
    "ExecuteTime": {
     "end_time": "2021-02-24T15:31:07.585474Z",
     "start_time": "2021-02-24T15:31:06.194373Z"
    }
   },
   "outputs": [],
   "source": [
    "maxret = (close\n",
    "           .pct_change(periods=MONTH)\n",
    "           .rolling(21)\n",
    "           .max()\n",
    "           .resample('W-FRI')\n",
    "           .last()\n",
    "           .stack()\n",
    "           .to_frame('maxret'))"
   ]
  },
  {
   "cell_type": "code",
   "execution_count": 170,
   "metadata": {
    "ExecuteTime": {
     "end_time": "2021-02-24T15:31:07.633250Z",
     "start_time": "2021-02-24T15:31:07.586352Z"
    }
   },
   "outputs": [
    {
     "name": "stdout",
     "output_type": "stream",
     "text": [
      "<class 'pandas.core.frame.DataFrame'>\n",
      "MultiIndex: 780979 entries, (Timestamp('2000-03-03 00:00:00', freq='W-FRI'), '005930.KS') to (Timestamp('2023-05-12 00:00:00', freq='W-FRI'), '000547.KS')\n",
      "Data columns (total 1 columns):\n",
      " #   Column  Non-Null Count   Dtype  \n",
      "---  ------  --------------   -----  \n",
      " 0   maxret  780979 non-null  float64\n",
      "dtypes: float64(1)\n",
      "memory usage: 9.0+ MB\n"
     ]
    },
    {
     "name": "stderr",
     "output_type": "stream",
     "text": [
      "C:\\Users\\chldl\\AppData\\Local\\Temp\\ipykernel_953484\\180646522.py:1: FutureWarning: null_counts is deprecated. Use show_counts instead\n",
      "  maxret.info(null_counts=True)\n"
     ]
    }
   ],
   "source": [
    "maxret.info(null_counts=True)"
   ]
  },
  {
   "cell_type": "code",
   "execution_count": 171,
   "metadata": {
    "ExecuteTime": {
     "end_time": "2021-02-24T15:31:07.662862Z",
     "start_time": "2021-02-24T15:31:07.634151Z"
    }
   },
   "outputs": [],
   "source": [
    "maxret.to_hdf(results_path / 'autoencoder.h5', 'factor/maxret')"
   ]
  },
  {
   "attachments": {},
   "cell_type": "markdown",
   "metadata": {},
   "source": [
    "#### Long-Term Reversal"
   ]
  },
  {
   "attachments": {},
   "cell_type": "markdown",
   "metadata": {},
   "source": [
    "Cumulative returns months t-36 to t-13."
   ]
  },
  {
   "cell_type": "code",
   "execution_count": 172,
   "metadata": {
    "ExecuteTime": {
     "end_time": "2021-02-24T15:31:08.227020Z",
     "start_time": "2021-02-24T15:31:07.663799Z"
    }
   },
   "outputs": [],
   "source": [
    "mom36m = (close\n",
    "           .pct_change(periods=24*MONTH)\n",
    "           .shift(12*MONTH)\n",
    "           .resample('W-FRI')\n",
    "           .last()\n",
    "           .stack()\n",
    "           .to_frame('mom36m'))"
   ]
  },
  {
   "cell_type": "code",
   "execution_count": 173,
   "metadata": {
    "ExecuteTime": {
     "end_time": "2021-02-24T15:31:08.266863Z",
     "start_time": "2021-02-24T15:31:08.227869Z"
    }
   },
   "outputs": [
    {
     "name": "stdout",
     "output_type": "stream",
     "text": [
      "<class 'pandas.core.frame.DataFrame'>\n",
      "MultiIndex: 658553 entries, (Timestamp('2002-11-29 00:00:00', freq='W-FRI'), '005930.KS') to (Timestamp('2023-05-12 00:00:00', freq='W-FRI'), '000547.KS')\n",
      "Data columns (total 1 columns):\n",
      " #   Column  Non-Null Count   Dtype  \n",
      "---  ------  --------------   -----  \n",
      " 0   mom36m  658553 non-null  float64\n",
      "dtypes: float64(1)\n",
      "memory usage: 7.6+ MB\n"
     ]
    },
    {
     "name": "stderr",
     "output_type": "stream",
     "text": [
      "C:\\Users\\chldl\\AppData\\Local\\Temp\\ipykernel_953484\\3570578006.py:1: FutureWarning: null_counts is deprecated. Use show_counts instead\n",
      "  mom36m.info(null_counts=True)\n"
     ]
    }
   ],
   "source": [
    "mom36m.info(null_counts=True)"
   ]
  },
  {
   "cell_type": "code",
   "execution_count": 174,
   "metadata": {
    "ExecuteTime": {
     "end_time": "2021-02-24T15:31:08.293411Z",
     "start_time": "2021-02-24T15:31:08.267936Z"
    }
   },
   "outputs": [],
   "source": [
    "mom36m.to_hdf(results_path / 'autoencoder.h5', 'factor/mom36m')"
   ]
  },
  {
   "attachments": {},
   "cell_type": "markdown",
   "metadata": {},
   "source": [
    "### Liquidity Metrics"
   ]
  },
  {
   "attachments": {},
   "cell_type": "markdown",
   "metadata": {},
   "source": [
    "#### Turnover"
   ]
  },
  {
   "attachments": {},
   "cell_type": "markdown",
   "metadata": {},
   "source": [
    "Avg. monthly trading volume for most recent three months scaled by number of shares; we are using the most recent no of shares from yahoo finance"
   ]
  },
  {
   "cell_type": "code",
   "execution_count": 175,
   "metadata": {
    "ExecuteTime": {
     "end_time": "2021-02-24T15:31:09.804423Z",
     "start_time": "2021-02-24T15:31:08.294902Z"
    }
   },
   "outputs": [],
   "source": [
    "turn = (volume\n",
    "        .rolling(3*MONTH)\n",
    "        .mean()\n",
    "        .resample('W-FRI')\n",
    "        .last()\n",
    "        .div(metadata.sharesoutstanding)\n",
    "        .stack('ticker')\n",
    "        .to_frame('turn'))"
   ]
  },
  {
   "cell_type": "code",
   "execution_count": 176,
   "metadata": {
    "ExecuteTime": {
     "end_time": "2021-02-24T15:31:09.852968Z",
     "start_time": "2021-02-24T15:31:09.805188Z"
    }
   },
   "outputs": [
    {
     "name": "stdout",
     "output_type": "stream",
     "text": [
      "<class 'pandas.core.frame.DataFrame'>\n",
      "MultiIndex: 771259 entries, (Timestamp('2000-03-31 00:00:00', freq='W-FRI'), '000020.KS') to (Timestamp('2023-05-12 00:00:00', freq='W-FRI'), '950210.KS')\n",
      "Data columns (total 1 columns):\n",
      " #   Column  Non-Null Count   Dtype  \n",
      "---  ------  --------------   -----  \n",
      " 0   turn    771259 non-null  float64\n",
      "dtypes: float64(1)\n",
      "memory usage: 8.9+ MB\n"
     ]
    },
    {
     "name": "stderr",
     "output_type": "stream",
     "text": [
      "C:\\Users\\chldl\\AppData\\Local\\Temp\\ipykernel_953484\\2727825691.py:1: FutureWarning: null_counts is deprecated. Use show_counts instead\n",
      "  turn.info(null_counts=True)\n"
     ]
    }
   ],
   "source": [
    "turn.info(null_counts=True)"
   ]
  },
  {
   "cell_type": "code",
   "execution_count": 177,
   "metadata": {
    "ExecuteTime": {
     "end_time": "2021-02-24T15:31:09.882475Z",
     "start_time": "2021-02-24T15:31:09.854048Z"
    }
   },
   "outputs": [],
   "source": [
    "turn.to_hdf(results_path / 'autoencoder.h5', 'factor/turn')"
   ]
  },
  {
   "attachments": {},
   "cell_type": "markdown",
   "metadata": {},
   "source": [
    "#### Turnover Volatility"
   ]
  },
  {
   "attachments": {},
   "cell_type": "markdown",
   "metadata": {},
   "source": [
    "Monthly std dev of daily share turnover"
   ]
  },
  {
   "cell_type": "code",
   "execution_count": 178,
   "metadata": {
    "ExecuteTime": {
     "end_time": "2021-02-24T15:31:18.197599Z",
     "start_time": "2021-02-24T15:31:09.883665Z"
    }
   },
   "outputs": [],
   "source": [
    "turn_std = (prices\n",
    "            .volume\n",
    "            .unstack('ticker')\n",
    "            .div(metadata.sharesoutstanding)\n",
    "            .rolling(MONTH)\n",
    "            .std()\n",
    "            .resample('W-FRI')\n",
    "            .last()\n",
    "            .stack('ticker')\n",
    "            .to_frame('turn_std'))"
   ]
  },
  {
   "cell_type": "code",
   "execution_count": 179,
   "metadata": {
    "ExecuteTime": {
     "end_time": "2021-02-24T15:31:18.226370Z",
     "start_time": "2021-02-24T15:31:18.198490Z"
    }
   },
   "outputs": [],
   "source": [
    "turn_std.to_hdf(results_path / 'autoencoder.h5', 'factor/turn_std')"
   ]
  },
  {
   "attachments": {},
   "cell_type": "markdown",
   "metadata": {},
   "source": [
    "#### Log Market Equity"
   ]
  },
  {
   "attachments": {},
   "cell_type": "markdown",
   "metadata": {},
   "source": [
    "Natural log of market cap at end of month t-1"
   ]
  },
  {
   "cell_type": "code",
   "execution_count": 180,
   "metadata": {
    "ExecuteTime": {
     "end_time": "2021-02-24T15:31:19.713130Z",
     "start_time": "2021-02-24T15:31:18.227239Z"
    }
   },
   "outputs": [],
   "source": [
    "last_price = close.ffill()\n",
    "factor = close.div(last_price.iloc[-1])\n",
    "mvel = np.log1p(factor.mul(metadata.marketcap).resample('W-FRI').last()).stack().to_frame('mvel')"
   ]
  },
  {
   "cell_type": "code",
   "execution_count": 181,
   "metadata": {
    "ExecuteTime": {
     "end_time": "2021-02-24T15:31:19.767170Z",
     "start_time": "2021-02-24T15:31:19.713957Z"
    }
   },
   "outputs": [
    {
     "name": "stdout",
     "output_type": "stream",
     "text": [
      "<class 'pandas.core.frame.DataFrame'>\n",
      "MultiIndex: 788034 entries, (Timestamp('2000-01-07 00:00:00', freq='W-FRI'), '000020.KS') to (Timestamp('2023-05-12 00:00:00', freq='W-FRI'), '950210.KS')\n",
      "Data columns (total 1 columns):\n",
      " #   Column  Non-Null Count   Dtype  \n",
      "---  ------  --------------   -----  \n",
      " 0   mvel    788034 non-null  float64\n",
      "dtypes: float64(1)\n",
      "memory usage: 9.1+ MB\n"
     ]
    },
    {
     "name": "stderr",
     "output_type": "stream",
     "text": [
      "C:\\Users\\chldl\\AppData\\Local\\Temp\\ipykernel_953484\\567849824.py:1: FutureWarning: null_counts is deprecated. Use show_counts instead\n",
      "  mvel.info(null_counts=True)\n"
     ]
    }
   ],
   "source": [
    "mvel.info(null_counts=True)"
   ]
  },
  {
   "cell_type": "code",
   "execution_count": 182,
   "metadata": {
    "ExecuteTime": {
     "end_time": "2021-02-24T15:31:19.807236Z",
     "start_time": "2021-02-24T15:31:19.768465Z"
    }
   },
   "outputs": [],
   "source": [
    "mvel.to_hdf(results_path / 'autoencoder.h5', 'factor/mvel')"
   ]
  },
  {
   "attachments": {},
   "cell_type": "markdown",
   "metadata": {},
   "source": [
    "#### Dollar Volume"
   ]
  },
  {
   "attachments": {},
   "cell_type": "markdown",
   "metadata": {},
   "source": [
    "Natural log of trading volume time price per share from month t-2"
   ]
  },
  {
   "cell_type": "code",
   "execution_count": 183,
   "metadata": {
    "ExecuteTime": {
     "end_time": "2021-02-24T15:31:19.875033Z",
     "start_time": "2021-02-24T15:31:19.808087Z"
    }
   },
   "outputs": [],
   "source": [
    "dv = close.mul(volume)"
   ]
  },
  {
   "cell_type": "code",
   "execution_count": 184,
   "metadata": {
    "ExecuteTime": {
     "end_time": "2021-02-24T15:31:21.166359Z",
     "start_time": "2021-02-24T15:31:19.875995Z"
    }
   },
   "outputs": [],
   "source": [
    "dolvol = (np.log1p(dv.rolling(21)\n",
    "                  .mean()\n",
    "                  .shift(21)\n",
    "                  .resample('W-FRI')\n",
    "                  .last())\n",
    "          .stack()\n",
    "          .to_frame('dolvol'))"
   ]
  },
  {
   "cell_type": "code",
   "execution_count": 185,
   "metadata": {
    "ExecuteTime": {
     "end_time": "2021-02-24T15:31:21.193943Z",
     "start_time": "2021-02-24T15:31:21.167174Z"
    }
   },
   "outputs": [],
   "source": [
    "dolvol.to_hdf(results_path / 'autoencoder.h5', 'factor/dolvol')"
   ]
  },
  {
   "attachments": {},
   "cell_type": "markdown",
   "metadata": {},
   "source": [
    "#### Amihud Illiquidity"
   ]
  },
  {
   "attachments": {},
   "cell_type": "markdown",
   "metadata": {},
   "source": [
    "Average of daily (absolute return / dollar volume)"
   ]
  },
  {
   "cell_type": "code",
   "execution_count": 186,
   "metadata": {
    "ExecuteTime": {
     "end_time": "2021-02-24T15:31:22.668882Z",
     "start_time": "2021-02-24T15:31:21.194934Z"
    }
   },
   "outputs": [],
   "source": [
    "ill = (close.pct_change().abs()\n",
    "       .div(dv)\n",
    "       .rolling(21)\n",
    "       .mean()\n",
    "       .resample('W-FRI').last()\n",
    "       .stack()\n",
    "       .to_frame('ill'))"
   ]
  },
  {
   "cell_type": "code",
   "execution_count": 187,
   "metadata": {
    "ExecuteTime": {
     "end_time": "2021-02-24T15:31:22.719439Z",
     "start_time": "2021-02-24T15:31:22.669807Z"
    }
   },
   "outputs": [
    {
     "name": "stdout",
     "output_type": "stream",
     "text": [
      "<class 'pandas.core.frame.DataFrame'>\n",
      "MultiIndex: 628189 entries, (Timestamp('2000-02-04 00:00:00', freq='W-FRI'), '005930.KS') to (Timestamp('2023-05-12 00:00:00', freq='W-FRI'), '000547.KS')\n",
      "Data columns (total 1 columns):\n",
      " #   Column  Non-Null Count   Dtype  \n",
      "---  ------  --------------   -----  \n",
      " 0   ill     628189 non-null  float64\n",
      "dtypes: float64(1)\n",
      "memory usage: 7.3+ MB\n"
     ]
    },
    {
     "name": "stderr",
     "output_type": "stream",
     "text": [
      "C:\\Users\\chldl\\AppData\\Local\\Temp\\ipykernel_953484\\1107602282.py:1: FutureWarning: null_counts is deprecated. Use show_counts instead\n",
      "  ill.info(null_counts=True)\n"
     ]
    }
   ],
   "source": [
    "ill.info(null_counts=True)"
   ]
  },
  {
   "cell_type": "code",
   "execution_count": 188,
   "metadata": {
    "ExecuteTime": {
     "end_time": "2021-02-24T15:31:22.748882Z",
     "start_time": "2021-02-24T15:31:22.720722Z"
    }
   },
   "outputs": [],
   "source": [
    "ill.to_hdf(results_path / 'autoencoder.h5', 'factor/ill')"
   ]
  },
  {
   "attachments": {},
   "cell_type": "markdown",
   "metadata": {},
   "source": [
    "### Risk Measures"
   ]
  },
  {
   "attachments": {},
   "cell_type": "markdown",
   "metadata": {},
   "source": [
    "#### Return Volatility"
   ]
  },
  {
   "attachments": {},
   "cell_type": "markdown",
   "metadata": {},
   "source": [
    "Standard dev of daily returns from month t-1."
   ]
  },
  {
   "cell_type": "code",
   "execution_count": 189,
   "metadata": {
    "ExecuteTime": {
     "end_time": "2021-02-24T15:31:24.135283Z",
     "start_time": "2021-02-24T15:31:22.749843Z"
    }
   },
   "outputs": [],
   "source": [
    "retvol = (close.pct_change()\n",
    "          .rolling(21)\n",
    "          .std()\n",
    "          .resample('W-FRI')\n",
    "          .last()\n",
    "          .stack()\n",
    "          .to_frame('retvol'))"
   ]
  },
  {
   "cell_type": "code",
   "execution_count": 190,
   "metadata": {
    "ExecuteTime": {
     "end_time": "2021-02-24T15:31:24.185387Z",
     "start_time": "2021-02-24T15:31:24.136130Z"
    }
   },
   "outputs": [
    {
     "name": "stdout",
     "output_type": "stream",
     "text": [
      "<class 'pandas.core.frame.DataFrame'>\n",
      "MultiIndex: 784469 entries, (Timestamp('2000-02-04 00:00:00', freq='W-FRI'), '005930.KS') to (Timestamp('2023-05-12 00:00:00', freq='W-FRI'), '000547.KS')\n",
      "Data columns (total 1 columns):\n",
      " #   Column  Non-Null Count   Dtype  \n",
      "---  ------  --------------   -----  \n",
      " 0   retvol  784469 non-null  float64\n",
      "dtypes: float64(1)\n",
      "memory usage: 9.1+ MB\n"
     ]
    },
    {
     "name": "stderr",
     "output_type": "stream",
     "text": [
      "C:\\Users\\chldl\\AppData\\Local\\Temp\\ipykernel_953484\\2042333437.py:1: FutureWarning: null_counts is deprecated. Use show_counts instead\n",
      "  retvol.info(null_counts=True)\n"
     ]
    }
   ],
   "source": [
    "retvol.info(null_counts=True)"
   ]
  },
  {
   "cell_type": "code",
   "execution_count": 191,
   "metadata": {
    "ExecuteTime": {
     "end_time": "2021-02-24T15:31:24.217951Z",
     "start_time": "2021-02-24T15:31:24.186306Z"
    }
   },
   "outputs": [],
   "source": [
    "retvol.to_hdf(results_path / 'autoencoder.h5', 'factor/retvol')"
   ]
  },
  {
   "attachments": {},
   "cell_type": "markdown",
   "metadata": {},
   "source": [
    "#### Market Beta"
   ]
  },
  {
   "attachments": {},
   "cell_type": "markdown",
   "metadata": {},
   "source": [
    "Estimated market beta from weekly returns and equal weighted market returns for 3 years ending month t-1 with at least 52 weeks of returns."
   ]
  },
  {
   "cell_type": "code",
   "execution_count": 192,
   "metadata": {
    "ExecuteTime": {
     "end_time": "2021-02-24T15:31:24.501234Z",
     "start_time": "2021-02-24T15:31:24.218804Z"
    }
   },
   "outputs": [],
   "source": [
    "index = close.resample('W-FRI').last().pct_change().mean(1).to_frame('x')"
   ]
  },
  {
   "cell_type": "code",
   "execution_count": 193,
   "metadata": {
    "ExecuteTime": {
     "end_time": "2021-02-24T15:31:24.504378Z",
     "start_time": "2021-02-24T15:31:24.502062Z"
    }
   },
   "outputs": [],
   "source": [
    "def get_market_beta(y, x=index):\n",
    "    df = x.join(y.to_frame('y')).dropna()\n",
    "    model = RollingOLS(endog=df.y, \n",
    "                       exog=sm.add_constant(df[['x']]),\n",
    "                      window=3*52)\n",
    "\n",
    "    return model.fit(params_only=True).params['x']"
   ]
  },
  {
   "cell_type": "code",
   "execution_count": 194,
   "metadata": {
    "ExecuteTime": {
     "end_time": "2021-02-24T15:32:27.608190Z",
     "start_time": "2021-02-24T15:31:24.505305Z"
    }
   },
   "outputs": [],
   "source": [
    "# 20초\n",
    "beta = (returns.dropna(thresh=3*52, axis=1)\n",
    "        .apply(get_market_beta).stack().to_frame('beta'))"
   ]
  },
  {
   "cell_type": "code",
   "execution_count": 195,
   "metadata": {
    "ExecuteTime": {
     "end_time": "2021-02-24T15:32:27.652151Z",
     "start_time": "2021-02-24T15:32:27.609024Z"
    }
   },
   "outputs": [
    {
     "name": "stdout",
     "output_type": "stream",
     "text": [
      "<class 'pandas.core.frame.DataFrame'>\n",
      "MultiIndex: 658062 entries, (Timestamp('2003-01-03 00:00:00', freq='W-FRI'), '005930.KS') to (Timestamp('2023-05-12 00:00:00', freq='W-FRI'), '000547.KS')\n",
      "Data columns (total 1 columns):\n",
      " #   Column  Non-Null Count   Dtype  \n",
      "---  ------  --------------   -----  \n",
      " 0   beta    658062 non-null  float64\n",
      "dtypes: float64(1)\n",
      "memory usage: 7.6+ MB\n"
     ]
    },
    {
     "name": "stderr",
     "output_type": "stream",
     "text": [
      "C:\\Users\\chldl\\AppData\\Local\\Temp\\ipykernel_953484\\2943542198.py:1: FutureWarning: null_counts is deprecated. Use show_counts instead\n",
      "  beta.info(null_counts=True)\n"
     ]
    }
   ],
   "source": [
    "beta.info(null_counts=True)"
   ]
  },
  {
   "cell_type": "code",
   "execution_count": 196,
   "metadata": {
    "ExecuteTime": {
     "end_time": "2021-02-24T15:32:27.677282Z",
     "start_time": "2021-02-24T15:32:27.652927Z"
    }
   },
   "outputs": [],
   "source": [
    "beta.to_hdf(results_path / 'autoencoder.h5', 'factor/beta')"
   ]
  },
  {
   "attachments": {},
   "cell_type": "markdown",
   "metadata": {},
   "source": [
    "#### Beta Squared"
   ]
  },
  {
   "attachments": {},
   "cell_type": "markdown",
   "metadata": {},
   "source": [
    "Market beta squared"
   ]
  },
  {
   "cell_type": "code",
   "execution_count": 197,
   "metadata": {
    "ExecuteTime": {
     "end_time": "2021-02-24T15:32:27.710494Z",
     "start_time": "2021-02-24T15:32:27.678160Z"
    }
   },
   "outputs": [],
   "source": [
    "betasq = beta.beta.pow(2).to_frame('betasq')"
   ]
  },
  {
   "cell_type": "code",
   "execution_count": 198,
   "metadata": {
    "ExecuteTime": {
     "end_time": "2021-02-24T15:32:27.726198Z",
     "start_time": "2021-02-24T15:32:27.712119Z"
    }
   },
   "outputs": [
    {
     "name": "stdout",
     "output_type": "stream",
     "text": [
      "<class 'pandas.core.frame.DataFrame'>\n",
      "MultiIndex: 658062 entries, (Timestamp('2003-01-03 00:00:00', freq='W-FRI'), '005930.KS') to (Timestamp('2023-05-12 00:00:00', freq='W-FRI'), '000547.KS')\n",
      "Data columns (total 1 columns):\n",
      " #   Column  Non-Null Count   Dtype  \n",
      "---  ------  --------------   -----  \n",
      " 0   betasq  658062 non-null  float64\n",
      "dtypes: float64(1)\n",
      "memory usage: 7.6+ MB\n"
     ]
    },
    {
     "name": "stderr",
     "output_type": "stream",
     "text": [
      "C:\\Users\\chldl\\AppData\\Local\\Temp\\ipykernel_953484\\1828334906.py:1: FutureWarning: null_counts is deprecated. Use show_counts instead\n",
      "  betasq.info(null_counts=True)\n"
     ]
    }
   ],
   "source": [
    "betasq.info(null_counts=True)"
   ]
  },
  {
   "cell_type": "code",
   "execution_count": 199,
   "metadata": {
    "ExecuteTime": {
     "end_time": "2021-02-24T15:32:27.757491Z",
     "start_time": "2021-02-24T15:32:27.727756Z"
    }
   },
   "outputs": [],
   "source": [
    "betasq.to_hdf(results_path / 'autoencoder.h5', 'factor/betasq')"
   ]
  },
  {
   "attachments": {},
   "cell_type": "markdown",
   "metadata": {},
   "source": [
    "#### Idiosyncratic return volatility"
   ]
  },
  {
   "attachments": {},
   "cell_type": "markdown",
   "metadata": {},
   "source": [
    "Standard dev of a regression of residuals of weekly returns on the returns of an equal weighted market index returns for the prior three years."
   ]
  },
  {
   "attachments": {},
   "cell_type": "markdown",
   "metadata": {},
   "source": [
    "This takes a while!"
   ]
  },
  {
   "cell_type": "code",
   "execution_count": 200,
   "metadata": {
    "ExecuteTime": {
     "end_time": "2021-02-24T15:32:27.762385Z",
     "start_time": "2021-02-24T15:32:27.760235Z"
    }
   },
   "outputs": [],
   "source": [
    "def get_ols_residuals(y, x=index):\n",
    "    df = x.join(y.to_frame('y')).dropna()\n",
    "    model = sm.OLS(endog=df.y, exog=sm.add_constant(df[['x']]))\n",
    "    result = model.fit()\n",
    "    return result.resid.std()\n",
    "\n",
    "# 오래 걸림\n",
    "idiovol = (returns.apply(lambda x: x.rolling(3 * 52)\n",
    "                         .apply(get_ols_residuals)))"
   ]
  },
  {
   "cell_type": "code",
   "execution_count": 201,
   "metadata": {
    "ExecuteTime": {
     "end_time": "2021-02-24T18:27:18.310136Z",
     "start_time": "2021-02-24T18:27:18.181902Z"
    }
   },
   "outputs": [],
   "source": [
    "idiovol = idiovol.stack().to_frame('idiovol')"
   ]
  },
  {
   "cell_type": "code",
   "execution_count": 202,
   "metadata": {
    "ExecuteTime": {
     "end_time": "2021-02-24T18:27:18.360087Z",
     "start_time": "2021-02-24T18:27:18.311025Z"
    }
   },
   "outputs": [
    {
     "name": "stdout",
     "output_type": "stream",
     "text": [
      "<class 'pandas.core.frame.DataFrame'>\n",
      "MultiIndex: 658062 entries, (Timestamp('2003-01-03 00:00:00', freq='W-FRI'), '005930.KS') to (Timestamp('2023-05-12 00:00:00', freq='W-FRI'), '000547.KS')\n",
      "Data columns (total 1 columns):\n",
      " #   Column   Non-Null Count   Dtype  \n",
      "---  ------   --------------   -----  \n",
      " 0   idiovol  658062 non-null  float64\n",
      "dtypes: float64(1)\n",
      "memory usage: 7.6+ MB\n"
     ]
    },
    {
     "name": "stderr",
     "output_type": "stream",
     "text": [
      "C:\\Users\\chldl\\AppData\\Local\\Temp\\ipykernel_953484\\1780519557.py:1: FutureWarning: null_counts is deprecated. Use show_counts instead\n",
      "  idiovol.info(null_counts=True)\n"
     ]
    }
   ],
   "source": [
    "idiovol.info(null_counts=True)"
   ]
  },
  {
   "cell_type": "code",
   "execution_count": 203,
   "metadata": {
    "ExecuteTime": {
     "end_time": "2021-02-24T18:27:18.394953Z",
     "start_time": "2021-02-24T18:27:18.360999Z"
    }
   },
   "outputs": [],
   "source": [
    "idiovol.to_hdf(results_path / 'autoencoder.h5', 'factor/idiovol')"
   ]
  },
  {
   "cell_type": "code",
   "execution_count": null,
   "metadata": {},
   "outputs": [],
   "source": []
  },
  {
   "cell_type": "code",
   "execution_count": null,
   "metadata": {},
   "outputs": [],
   "source": []
  }
 ],
 "metadata": {
  "kernelspec": {
   "display_name": "Python 3",
   "language": "python",
   "name": "python3"
  },
  "language_info": {
   "codemirror_mode": {
    "name": "ipython",
    "version": 3
   },
   "file_extension": ".py",
   "mimetype": "text/x-python",
   "name": "python",
   "nbconvert_exporter": "python",
   "pygments_lexer": "ipython3",
   "version": "3.8.8"
  },
  "toc": {
   "base_numbering": 1,
   "nav_menu": {},
   "number_sections": true,
   "sideBar": true,
   "skip_h1_title": true,
   "title_cell": "Table of Contents",
   "title_sidebar": "Contents",
   "toc_cell": false,
   "toc_position": {},
   "toc_section_display": true,
   "toc_window_display": true
  }
 },
 "nbformat": 4,
 "nbformat_minor": 4
}
