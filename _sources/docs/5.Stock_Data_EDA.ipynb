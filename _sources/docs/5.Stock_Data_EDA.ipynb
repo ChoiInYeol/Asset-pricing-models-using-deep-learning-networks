{
 "cells": [
  {
   "attachments": {},
   "cell_type": "markdown",
   "metadata": {},
   "source": [
    "# Code Review #2 - Stock Data EDA"
   ]
  },
  {
   "cell_type": "code",
   "execution_count": 1,
   "metadata": {
    "ExecuteTime": {
     "end_time": "2021-02-24T15:07:31.951910Z",
     "start_time": "2021-02-24T15:07:31.351143Z"
    }
   },
   "outputs": [],
   "source": [
    "from pathlib import Path\n",
    "import numpy as np\n",
    "import pandas as pd\n",
    "from statsmodels.regression.rolling import RollingOLS\n",
    "import statsmodels.api as sm\n",
    "import matplotlib.pyplot as plt\n",
    "import seaborn as sns\n",
    "\n",
    "idx = pd.IndexSlice\n",
    "sns.set_style('whitegrid')\n",
    "\n",
    "results_path = Path('KR2_results', 'asset_pricing')\n",
    "if not results_path.exists():\n",
    "    results_path.mkdir(parents=True)"
   ]
  },
  {
   "attachments": {},
   "cell_type": "markdown",
   "metadata": {},
   "source": [
    "## 1. 데이터 불러오기"
   ]
  },
  {
   "attachments": {},
   "cell_type": "markdown",
   "metadata": {},
   "source": [
    "### Prices, Metadata"
   ]
  },
  {
   "cell_type": "code",
   "execution_count": 3,
   "metadata": {
    "ExecuteTime": {
     "end_time": "2021-02-24T15:07:33.621475Z",
     "start_time": "2021-02-24T15:07:31.963898Z"
    }
   },
   "outputs": [],
   "source": [
    "prices = pd.read_hdf(results_path / 'data.h5', 'stocks/prices/adjusted')\n",
    "metadata = pd.read_hdf(results_path / 'data.h5', 'stocks/info').rename(columns=str.lower)"
   ]
  },
  {
   "cell_type": "code",
   "execution_count": 4,
   "metadata": {},
   "outputs": [
    {
     "data": {
      "text/html": [
       "<div>\n",
       "<style scoped>\n",
       "    .dataframe tbody tr th:only-of-type {\n",
       "        vertical-align: middle;\n",
       "    }\n",
       "\n",
       "    .dataframe tbody tr th {\n",
       "        vertical-align: top;\n",
       "    }\n",
       "\n",
       "    .dataframe thead th {\n",
       "        text-align: right;\n",
       "    }\n",
       "</style>\n",
       "<table border=\"1\" class=\"dataframe\">\n",
       "  <thead>\n",
       "    <tr style=\"text-align: right;\">\n",
       "      <th></th>\n",
       "      <th>address1</th>\n",
       "      <th>address2</th>\n",
       "      <th>city</th>\n",
       "      <th>zip</th>\n",
       "      <th>country</th>\n",
       "      <th>phone</th>\n",
       "      <th>fax</th>\n",
       "      <th>website</th>\n",
       "      <th>industry</th>\n",
       "      <th>sector</th>\n",
       "      <th>...</th>\n",
       "      <th>freecashflow</th>\n",
       "      <th>operatingcashflow</th>\n",
       "      <th>earningsgrowth</th>\n",
       "      <th>revenuegrowth</th>\n",
       "      <th>grossmargins</th>\n",
       "      <th>ebitdamargins</th>\n",
       "      <th>operatingmargins</th>\n",
       "      <th>financialcurrency</th>\n",
       "      <th>trailingpegratio</th>\n",
       "      <th>openinterest</th>\n",
       "    </tr>\n",
       "  </thead>\n",
       "  <tbody>\n",
       "    <tr>\n",
       "      <th>005930.KS</th>\n",
       "      <td>129 Samsung-Ro</td>\n",
       "      <td>Maetan-3dong Yeongtong-gu</td>\n",
       "      <td>Suwon-si</td>\n",
       "      <td>443-742</td>\n",
       "      <td>South Korea</td>\n",
       "      <td>82 2 2255 0114</td>\n",
       "      <td>82 3 1200 7538</td>\n",
       "      <td>https://www.samsung.com</td>\n",
       "      <td>Consumer Electronics</td>\n",
       "      <td>Technology</td>\n",
       "      <td>...</td>\n",
       "      <td>-1.345999e+13</td>\n",
       "      <td>5.205390e+13</td>\n",
       "      <td>-0.859</td>\n",
       "      <td>-0.223</td>\n",
       "      <td>0.31972</td>\n",
       "      <td>0.19889</td>\n",
       "      <td>0.06076</td>\n",
       "      <td>KRW</td>\n",
       "      <td>NaN</td>\n",
       "      <td>NaN</td>\n",
       "    </tr>\n",
       "    <tr>\n",
       "      <th>373220.KS</th>\n",
       "      <td>108, Yeoui-daero</td>\n",
       "      <td>Yeongdeungpo-Gu</td>\n",
       "      <td>Seoul</td>\n",
       "      <td>07335</td>\n",
       "      <td>South Korea</td>\n",
       "      <td>82 2 3777 1114</td>\n",
       "      <td>NaN</td>\n",
       "      <td>https://www.lgensol.com</td>\n",
       "      <td>Specialty Industrial Machinery</td>\n",
       "      <td>Industrials</td>\n",
       "      <td>...</td>\n",
       "      <td>-6.875540e+12</td>\n",
       "      <td>1.267587e+12</td>\n",
       "      <td>3.593</td>\n",
       "      <td>0.730</td>\n",
       "      <td>0.15789</td>\n",
       "      <td>0.10627</td>\n",
       "      <td>0.04871</td>\n",
       "      <td>KRW</td>\n",
       "      <td>NaN</td>\n",
       "      <td>NaN</td>\n",
       "    </tr>\n",
       "    <tr>\n",
       "      <th>000660.KS</th>\n",
       "      <td>2091 Gyeongchung-daero</td>\n",
       "      <td>Bubal-eup</td>\n",
       "      <td>Icheon-Si</td>\n",
       "      <td>NaN</td>\n",
       "      <td>South Korea</td>\n",
       "      <td>82 31 5185 4114</td>\n",
       "      <td>NaN</td>\n",
       "      <td>https://www.skhynix.com</td>\n",
       "      <td>Semiconductors</td>\n",
       "      <td>Technology</td>\n",
       "      <td>...</td>\n",
       "      <td>-8.570626e+12</td>\n",
       "      <td>4.371575e+12</td>\n",
       "      <td>NaN</td>\n",
       "      <td>-0.471</td>\n",
       "      <td>0.03433</td>\n",
       "      <td>0.23260</td>\n",
       "      <td>-0.21051</td>\n",
       "      <td>KRW</td>\n",
       "      <td>0.621</td>\n",
       "      <td>NaN</td>\n",
       "    </tr>\n",
       "    <tr>\n",
       "      <th>207940.KS</th>\n",
       "      <td>300, Songdo Bio-daero</td>\n",
       "      <td>Yeonsu-gu</td>\n",
       "      <td>Incheon</td>\n",
       "      <td>21987</td>\n",
       "      <td>South Korea</td>\n",
       "      <td>82 3 2455 3114</td>\n",
       "      <td>NaN</td>\n",
       "      <td>https://samsungbiologics.com</td>\n",
       "      <td>Biotechnology</td>\n",
       "      <td>Healthcare</td>\n",
       "      <td>...</td>\n",
       "      <td>-5.206233e+11</td>\n",
       "      <td>1.297787e+12</td>\n",
       "      <td>0.207</td>\n",
       "      <td>0.330</td>\n",
       "      <td>0.49948</td>\n",
       "      <td>0.42886</td>\n",
       "      <td>0.31606</td>\n",
       "      <td>KRW</td>\n",
       "      <td>NaN</td>\n",
       "      <td>0.0</td>\n",
       "    </tr>\n",
       "    <tr>\n",
       "      <th>005490.KS</th>\n",
       "      <td>6261, Donghaean-ro</td>\n",
       "      <td>Nam-gu</td>\n",
       "      <td>Pohang</td>\n",
       "      <td>NaN</td>\n",
       "      <td>South Korea</td>\n",
       "      <td>NaN</td>\n",
       "      <td>NaN</td>\n",
       "      <td>https://www.posco.com</td>\n",
       "      <td>Steel</td>\n",
       "      <td>Basic Materials</td>\n",
       "      <td>...</td>\n",
       "      <td>3.865827e+11</td>\n",
       "      <td>8.028374e+12</td>\n",
       "      <td>-0.530</td>\n",
       "      <td>-0.126</td>\n",
       "      <td>0.06718</td>\n",
       "      <td>0.07870</td>\n",
       "      <td>0.03133</td>\n",
       "      <td>KRW</td>\n",
       "      <td>NaN</td>\n",
       "      <td>NaN</td>\n",
       "    </tr>\n",
       "  </tbody>\n",
       "</table>\n",
       "<p>5 rows × 109 columns</p>\n",
       "</div>"
      ],
      "text/plain": [
       "                         address1                   address2       city  \\\n",
       "005930.KS          129 Samsung-Ro  Maetan-3dong Yeongtong-gu   Suwon-si   \n",
       "373220.KS        108, Yeoui-daero            Yeongdeungpo-Gu      Seoul   \n",
       "000660.KS  2091 Gyeongchung-daero                  Bubal-eup  Icheon-Si   \n",
       "207940.KS   300, Songdo Bio-daero                  Yeonsu-gu    Incheon   \n",
       "005490.KS      6261, Donghaean-ro                     Nam-gu     Pohang   \n",
       "\n",
       "               zip      country            phone             fax  \\\n",
       "005930.KS  443-742  South Korea   82 2 2255 0114  82 3 1200 7538   \n",
       "373220.KS    07335  South Korea   82 2 3777 1114             NaN   \n",
       "000660.KS      NaN  South Korea  82 31 5185 4114             NaN   \n",
       "207940.KS    21987  South Korea   82 3 2455 3114             NaN   \n",
       "005490.KS      NaN  South Korea              NaN             NaN   \n",
       "\n",
       "                                website                        industry  \\\n",
       "005930.KS       https://www.samsung.com            Consumer Electronics   \n",
       "373220.KS       https://www.lgensol.com  Specialty Industrial Machinery   \n",
       "000660.KS       https://www.skhynix.com                  Semiconductors   \n",
       "207940.KS  https://samsungbiologics.com                   Biotechnology   \n",
       "005490.KS         https://www.posco.com                           Steel   \n",
       "\n",
       "                    sector  ...  freecashflow  operatingcashflow  \\\n",
       "005930.KS       Technology  ... -1.345999e+13       5.205390e+13   \n",
       "373220.KS      Industrials  ... -6.875540e+12       1.267587e+12   \n",
       "000660.KS       Technology  ... -8.570626e+12       4.371575e+12   \n",
       "207940.KS       Healthcare  ... -5.206233e+11       1.297787e+12   \n",
       "005490.KS  Basic Materials  ...  3.865827e+11       8.028374e+12   \n",
       "\n",
       "          earningsgrowth  revenuegrowth  grossmargins  ebitdamargins  \\\n",
       "005930.KS         -0.859         -0.223       0.31972        0.19889   \n",
       "373220.KS          3.593          0.730       0.15789        0.10627   \n",
       "000660.KS            NaN         -0.471       0.03433        0.23260   \n",
       "207940.KS          0.207          0.330       0.49948        0.42886   \n",
       "005490.KS         -0.530         -0.126       0.06718        0.07870   \n",
       "\n",
       "           operatingmargins  financialcurrency  trailingpegratio  openinterest  \n",
       "005930.KS           0.06076                KRW               NaN           NaN  \n",
       "373220.KS           0.04871                KRW               NaN           NaN  \n",
       "000660.KS          -0.21051                KRW             0.621           NaN  \n",
       "207940.KS           0.31606                KRW               NaN           0.0  \n",
       "005490.KS           0.03133                KRW               NaN           NaN  \n",
       "\n",
       "[5 rows x 109 columns]"
      ]
     },
     "execution_count": 4,
     "metadata": {},
     "output_type": "execute_result"
    }
   ],
   "source": [
    "metadata.head(5)"
   ]
  },
  {
   "attachments": {},
   "cell_type": "markdown",
   "metadata": {},
   "source": [
    "### Select tickers with metadata"
   ]
  },
  {
   "cell_type": "code",
   "execution_count": 5,
   "metadata": {
    "ExecuteTime": {
     "end_time": "2021-02-24T15:07:34.019711Z",
     "start_time": "2021-02-24T15:07:34.007871Z"
    }
   },
   "outputs": [],
   "source": [
    "sectors = (metadata.sector.value_counts() >= 9).index\n",
    "tickers_with_errors = []\n",
    "tickers_with_metadata = metadata[\n",
    "    metadata.sector.isin(sectors)\n",
    "    & metadata.marketcap.notnull()\n",
    "    & metadata.sharesoutstanding.notnull()\n",
    "    & (metadata.sharesoutstanding > 0)\n",
    "].index.drop(tickers_with_errors)\n",
    "metadata = metadata.loc[\n",
    "    tickers_with_metadata, [\"sector\", \"sharesoutstanding\", \"marketcap\"]\n",
    "]\n",
    "metadata.index.name = \"ticker\""
   ]
  },
  {
   "cell_type": "code",
   "execution_count": 6,
   "metadata": {},
   "outputs": [],
   "source": [
    "# Check if 'tickers_with_metadata' contains valid tickers in 'prices' DataFrame\n",
    "valid_tickers = set(prices.index.get_level_values(\"ticker\"))\n",
    "tickers_with_metadata = [\n",
    "    ticker for ticker in tickers_with_metadata if ticker in valid_tickers\n",
    "]\n",
    "\n",
    "# Use .loc to select rows based on the tickers_with_metadata list\n",
    "prices = prices.loc[pd.IndexSlice[tickers_with_metadata, :], :] # type: ignore"
   ]
  },
  {
   "cell_type": "code",
   "execution_count": 7,
   "metadata": {},
   "outputs": [],
   "source": [
    "close = prices.close.unstack(\"ticker\").sort_index()\n",
    "volume = prices.volume.unstack(\"ticker\").sort_index()\n",
    "\n",
    "returns = (\n",
    "    prices.close.unstack(\"ticker\")\n",
    "    .resample(\"W-FRI\")\n",
    "    .last()\n",
    "    .sort_index()\n",
    "    .pct_change()\n",
    "    .iloc[1:]\n",
    ")\n",
    "\n",
    "dates = returns.index\n",
    "\n",
    "with pd.HDFStore(results_path / \"autoencoder.h5\") as store:\n",
    "    store.put(\"close\", close)\n",
    "    store.put(\"volume\", volume)\n",
    "    store.put(\"returns\", returns)\n",
    "    store.put(\"metadata\", metadata)"
   ]
  },
  {
   "cell_type": "code",
   "execution_count": 8,
   "metadata": {
    "ExecuteTime": {
     "end_time": "2021-02-24T15:31:01.581772Z",
     "start_time": "2021-02-24T15:31:01.381581Z"
    }
   },
   "outputs": [
    {
     "data": {
      "text/plain": [
       "<Axes: xlabel='date'>"
      ]
     },
     "execution_count": 8,
     "metadata": {},
     "output_type": "execute_result"
    },
    {
     "data": {
      "image/png": "[encoded data removed]",
      "text/plain": [
       "<Figure size 640x480 with 1 Axes>"
      ]
     },
     "metadata": {},
     "output_type": "display_data"
    }
   ],
   "source": [
    "sns.lineplot(returns.count(1))"
   ]
  },
  {
   "attachments": {},
   "cell_type": "markdown",
   "metadata": {},
   "source": [
    "## Factor Engineering"
   ]
  },
  {
   "cell_type": "code",
   "execution_count": 10,
   "metadata": {
    "ExecuteTime": {
     "end_time": "2021-02-24T15:31:01.876666Z",
     "start_time": "2021-02-24T15:31:01.875143Z"
    }
   },
   "outputs": [],
   "source": [
    "MONTH = 21"
   ]
  },
  {
   "attachments": {},
   "cell_type": "markdown",
   "metadata": {},
   "source": [
    "### Price Trend"
   ]
  },
  {
   "attachments": {},
   "cell_type": "markdown",
   "metadata": {},
   "source": [
    "#### Short-Term Reversal"
   ]
  },
  {
   "cell_type": "code",
   "execution_count": 11,
   "metadata": {},
   "outputs": [],
   "source": [
    "# 1-month cumulative return\n",
    "mom1m = close.pct_change(periods=MONTH).resample(\"W-FRI\").last().stack().to_frame(\"mom1m\")  # type: ignore\n",
    "mom1m.squeeze().to_hdf(results_path / \"autoencoder.h5\", \"factor/mom1m\")"
   ]
  },
  {
   "cell_type": "markdown",
   "metadata": {},
   "source": [
    "#### Stock Momentum"
   ]
  },
  {
   "cell_type": "code",
   "execution_count": 12,
   "metadata": {
    "ExecuteTime": {
     "end_time": "2021-02-24T15:31:01.885711Z",
     "start_time": "2021-02-24T15:31:01.878828Z"
    }
   },
   "outputs": [],
   "source": [
    "# 11-month cumulative returns ending 1-month before month end\n",
    "mom12m = (\n",
    "    close.pct_change(periods=11 * MONTH)\n",
    "    .shift(MONTH)\n",
    "    .resample(\"W-FRI\")\n",
    "    .last()\n",
    "    .stack()\n",
    "    .to_frame(\"mom12m\")\n",
    ")  # type: ignore\n",
    "mom12m.to_hdf(results_path / 'autoencoder.h5', 'factor/mom12m')"
   ]
  },
  {
   "cell_type": "markdown",
   "metadata": {},
   "source": [
    "#### Momentum Change"
   ]
  },
  {
   "cell_type": "code",
   "execution_count": 13,
   "metadata": {},
   "outputs": [],
   "source": [
    "# Cumulative return from months t-6 to t-1 minus months t-12 to t-7.\n",
    "chmom = (close\n",
    "         .pct_change(periods=6 * MONTH)\n",
    "         .sub(close.pct_change(periods=6 * MONTH).shift(6 * MONTH))\n",
    "         .resample('W-FRI')\n",
    "         .last()\n",
    "         .stack()\n",
    "         .to_frame('chmom')) # type: ignore\n",
    "chmom.to_hdf(results_path / 'autoencoder.h5', 'factor/chmom')"
   ]
  },
  {
   "cell_type": "code",
   "execution_count": null,
   "metadata": {},
   "outputs": [],
   "source": [
    "#### Industry Momentum\n",
    "# Equal-weighted avg. industry 12-month returns\n",
    "indmom = (close.pct_change(12*MONTH)\n",
    "          .resample('W-FRI')\n",
    "          .last()\n",
    "          .stack()\n",
    "          .to_frame('close') # type: ignore\n",
    "          .join(metadata[['sector']]).groupby(['date', 'sector'])\n",
    "          .close.mean()\n",
    "          .to_frame('indmom')\n",
    "          .reset_index())\n",
    "indmom = (returns\n",
    "          .stack()\n",
    "          .to_frame('ret') # type: ignore\n",
    "          .join(metadata[['sector']])\n",
    "          .reset_index()\n",
    "          .merge(indmom)\n",
    "          .set_index(['date', 'ticker'])\n",
    "          .loc[:, ['indmom']])\n",
    "indmom.to_hdf(results_path / 'autoencoder.h5', 'factor/indmom')"
   ]
  },
  {
   "cell_type": "code",
   "execution_count": null,
   "metadata": {},
   "outputs": [],
   "source": [
    "#### Recent Max Return\n",
    "# Max daily returns from calendar month t-1\n",
    "maxret = (close\n",
    "           .pct_change(periods=MONTH)\n",
    "           .rolling(21)\n",
    "           .max()\n",
    "           .resample('W-FRI')\n",
    "           .last()\n",
    "           .stack()\n",
    "           .to_frame('maxret')) # type: ignore\n",
    "maxret.to_hdf(results_path / 'autoencoder.h5', 'factor/maxret')"
   ]
  },
  {
   "cell_type": "code",
   "execution_count": null,
   "metadata": {},
   "outputs": [],
   "source": [
    "#### Long-Term Reversal\n",
    "# Cumulative returns months t-36 to t-13.\n",
    "mom36m = (close\n",
    "           .pct_change(periods=24*MONTH)\n",
    "           .shift(12*MONTH)\n",
    "           .resample('W-FRI')\n",
    "           .last()\n",
    "           .stack()\n",
    "           .to_frame('mom36m')) # type: ignore\n",
    "mom36m.to_hdf(results_path / 'autoencoder.h5', 'factor/mom36m')"
   ]
  },
  {
   "cell_type": "markdown",
   "metadata": {},
   "source": [
    "### Liquidity Metrics"
   ]
  },
  {
   "cell_type": "code",
   "execution_count": null,
   "metadata": {},
   "outputs": [],
   "source": [
    "#### Turnover\n",
    "# Avg. monthly trading volume for most recent three months scaled by number\n",
    "# of shares; we are using the most recent no of shares from yahoo finance\n",
    "turn = (volume\n",
    "        .rolling(3*MONTH)\n",
    "        .mean()\n",
    "        .resample('W-FRI')\n",
    "        .last()\n",
    "        .div(metadata.sharesoutstanding)\n",
    "        .stack('ticker')\n",
    "        .to_frame('turn')) # type: ignore\n",
    "turn.to_hdf(results_path / 'autoencoder.h5', 'factor/turn')"
   ]
  },
  {
   "cell_type": "code",
   "execution_count": null,
   "metadata": {},
   "outputs": [],
   "source": [
    "#### Turnover Volatility\n",
    "# onthly std dev of daily share turnover\n",
    "turn_std = (prices\n",
    "            .volume\n",
    "            .unstack('ticker')\n",
    "            .div(metadata.sharesoutstanding)\n",
    "            .rolling(MONTH)\n",
    "            .std()\n",
    "            .resample('W-FRI')\n",
    "            .last()\n",
    "            .stack('ticker')\n",
    "            .to_frame('turn_std')) # type: ignore\n",
    "turn_std.to_hdf(results_path / 'autoencoder.h5', 'factor/turn_std')"
   ]
  },
  {
   "cell_type": "code",
   "execution_count": null,
   "metadata": {},
   "outputs": [],
   "source": [
    "#### Log Market Equity\n",
    "# Natural log of market cap at end of month t-1\n",
    "last_price = close.ffill()\n",
    "factor = close.div(last_price.iloc[-1])\n",
    "mvel = np.log1p(factor.mul(metadata.marketcap).resample('W-FRI').last()).stack().to_frame('mvel') # type: ignore\n",
    "mvel.to_hdf(results_path / 'autoencoder.h5', 'factor/mvel')"
   ]
  },
  {
   "cell_type": "code",
   "execution_count": null,
   "metadata": {},
   "outputs": [],
   "source": [
    "#### KRW Volume\n",
    "# Natural log of trading volume time price per share from month t-2\n",
    "dv = close.mul(volume)\n",
    "krwvol = (np.log1p(dv.rolling(21)\n",
    "                  .mean()\n",
    "                  .shift(21)\n",
    "                  .resample('W-FRI')\n",
    "                  .last())\n",
    "          .stack() # type: ignore\n",
    "          .to_frame('krwvol'))\n",
    "krwvol.to_hdf(results_path / 'autoencoder.h5', 'factor/krwvol')"
   ]
  },
  {
   "cell_type": "code",
   "execution_count": null,
   "metadata": {},
   "outputs": [],
   "source": [
    "#### Amihud Illiquidity\n",
    "# Average of daily (absolute return / dollar volume)\n",
    "ill = (close.pct_change().abs()\n",
    "       .div(dv)\n",
    "       .rolling(21)\n",
    "       .mean()\n",
    "       .resample('W-FRI').last()\n",
    "       .stack()\n",
    "       .to_frame('ill')) # type: ignore\n",
    "ill.to_hdf(results_path / 'autoencoder.h5', 'factor/ill')"
   ]
  },
  {
   "cell_type": "markdown",
   "metadata": {},
   "source": [
    "### Risk Measures"
   ]
  },
  {
   "cell_type": "code",
   "execution_count": 14,
   "metadata": {},
   "outputs": [],
   "source": [
    "#### Return Volatility\n",
    "# Standard dev of daily returns from month t-1.\n",
    "retvol = (close.pct_change()\n",
    "          .rolling(21)\n",
    "          .std()\n",
    "          .resample('W-FRI')\n",
    "          .last()\n",
    "          .stack()\n",
    "          .to_frame('retvol')) # type: ignore\n",
    "retvol.to_hdf(results_path / 'autoencoder.h5', 'factor/retvol')"
   ]
  },
  {
   "cell_type": "code",
   "execution_count": null,
   "metadata": {},
   "outputs": [],
   "source": [
    "#### Market Beta\n",
    "# Estimated market beta from weekly returns and equal weighted market returns\n",
    "# for 3 years ending month t-1 with at least 52 weeks of returns.\n",
    "index = close.resample('W-FRI').last().pct_change().mean(1).to_frame('x')\n",
    "def get_market_beta(y, x=index):\n",
    "    df = x.join(y.to_frame('y')).dropna()\n",
    "    model = RollingOLS(endog=df.y, \n",
    "                       exog=sm.add_constant(df[['x']]),\n",
    "                      window=3*52)\n",
    "    return model.fit(params_only=True).params['x'] # type: ignore\n",
    "\n",
    "# 20초\n",
    "beta = (returns.dropna(thresh=3*52, axis=1)\n",
    "        .apply(get_market_beta).stack().to_frame('beta')) # type: ignore\n",
    "beta.to_hdf(results_path / 'autoencoder.h5', 'factor/beta')"
   ]
  },
  {
   "cell_type": "code",
   "execution_count": null,
   "metadata": {},
   "outputs": [],
   "source": [
    "#### Beta Squared\n",
    "# Market beta squared\n",
    "betasq = beta.beta.pow(2).to_frame('betasq')\n",
    "betasq.to_hdf(results_path / 'autoencoder.h5', 'factor/betasq')"
   ]
  },
  {
   "cell_type": "code",
   "execution_count": null,
   "metadata": {},
   "outputs": [],
   "source": [
    "#### Idiosyncratic return volatility\n",
    "# Standard dev of a regression of residuals of weekly returns\n",
    "# on the returns of an equal weighted market index returns for the prior three years.\n",
    "def get_ols_residuals(y, x=index):\n",
    "    df = x.join(y.to_frame('y')).dropna()\n",
    "    model = sm.OLS(endog=df.y, exog=sm.add_constant(df[['x']]))\n",
    "    result = model.fit()\n",
    "    return result.resid.std()\n",
    "\n",
    "# 오래 걸림\n",
    "idiovol = (returns.apply(lambda x: x.rolling(3 * 52)\n",
    "                         .apply(get_ols_residuals)))\n",
    "idiovol = idiovol.stack().to_frame('idiovol') # type: ignore\n",
    "idiovol.to_hdf(results_path / 'autoencoder.h5', 'factor/idiovol')"
   ]
  }
 ],
 "metadata": {
  "kernelspec": {
   "display_name": "Python 3",
   "language": "python",
   "name": "python3"
  },
  "language_info": {
   "codemirror_mode": {
    "name": "ipython",
    "version": 3
   },
   "file_extension": ".py",
   "mimetype": "text/x-python",
   "name": "python",
   "nbconvert_exporter": "python",
   "pygments_lexer": "ipython3",
   "version": "3.10.11"
  },
  "toc": {
   "base_numbering": 1,
   "nav_menu": {},
   "number_sections": true,
   "sideBar": true,
   "skip_h1_title": true,
   "title_cell": "Table of Contents",
   "title_sidebar": "Contents",
   "toc_cell": false,
   "toc_position": {},
   "toc_section_display": true,
   "toc_window_display": true
  }
 },
 "nbformat": 4,
 "nbformat_minor": 4
}
